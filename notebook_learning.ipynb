{
 "cells": [
  {
   "cell_type": "code",
   "execution_count": 1,
   "metadata": {},
   "outputs": [
    {
     "name": "stdout",
     "output_type": "stream",
     "text": [
      "Loading MC data...\n",
      "Found 5 ROOT files in the directory 'usb/GamGam/MC/'.\n"
     ]
    },
    {
     "name": "stderr",
     "output_type": "stream",
     "text": [
      "Loading ROOT files:   0%|          | 0/5 [00:00<?, ?file/s]"
     ]
    },
    {
     "name": "stdout",
     "output_type": "stream",
     "text": [
      "\n",
      "Processing file: mc_341081.ttH125_gamgam.GamGam.root\n",
      "  Number of entries in the tree: 576491\n",
      "  Sampling the first 115298 entries.\n"
     ]
    },
    {
     "name": "stderr",
     "output_type": "stream",
     "text": [
      "Loading ROOT files:  20%|██        | 1/5 [00:01<00:05,  1.30s/file]"
     ]
    },
    {
     "name": "stdout",
     "output_type": "stream",
     "text": [
      "  Time taken to extract data: 1.28 seconds.\n",
      "  Time taken to process file: 1.30 seconds.\n",
      "\n",
      "Processing file: mc_343981.ggH125_gamgam.GamGam.root\n",
      "  Number of entries in the tree: 1054711\n",
      "  Sampling the first 210942 entries.\n"
     ]
    },
    {
     "name": "stderr",
     "output_type": "stream",
     "text": [
      "Loading ROOT files:  40%|████      | 2/5 [00:02<00:04,  1.51s/file]"
     ]
    },
    {
     "name": "stdout",
     "output_type": "stream",
     "text": [
      "  Time taken to extract data: 1.65 seconds.\n",
      "  Time taken to process file: 1.66 seconds.\n",
      "\n",
      "Processing file: mc_345041.VBFH125_gamgam.GamGam.root\n",
      "  Number of entries in the tree: 497468\n",
      "  Sampling the first 99493 entries.\n"
     ]
    },
    {
     "name": "stderr",
     "output_type": "stream",
     "text": [
      "Loading ROOT files:  60%|██████    | 3/5 [00:03<00:02,  1.21s/file]"
     ]
    },
    {
     "name": "stdout",
     "output_type": "stream",
     "text": [
      "  Time taken to extract data: 0.82 seconds.\n",
      "  Time taken to process file: 0.84 seconds.\n",
      "\n",
      "Processing file: mc_345318.WpH125J_Wincl_gamgam.GamGam.root\n",
      "  Number of entries in the tree: 113765\n",
      "  Sampling the first 22753 entries.\n"
     ]
    },
    {
     "name": "stderr",
     "output_type": "stream",
     "text": [
      "Loading ROOT files:  80%|████████  | 4/5 [00:04<00:00,  1.01file/s]"
     ]
    },
    {
     "name": "stdout",
     "output_type": "stream",
     "text": [
      "  Time taken to extract data: 0.58 seconds.\n",
      "  Time taken to process file: 0.66 seconds.\n",
      "\n",
      "Processing file: mc_345319.ZH125J_Zincl_gamgam.GamGam.root\n",
      "  Number of entries in the tree: 230900\n",
      "  Sampling the first 46180 entries.\n"
     ]
    },
    {
     "name": "stderr",
     "output_type": "stream",
     "text": [
      "Loading ROOT files: 100%|██████████| 5/5 [00:05<00:00,  1.02s/file]"
     ]
    },
    {
     "name": "stdout",
     "output_type": "stream",
     "text": [
      "  Time taken to extract data: 0.64 seconds.\n",
      "  Time taken to process file: 0.66 seconds.\n",
      "\n",
      "Concatenating all DataFrames...\n"
     ]
    },
    {
     "name": "stderr",
     "output_type": "stream",
     "text": [
      "\n"
     ]
    },
    {
     "name": "stdout",
     "output_type": "stream",
     "text": [
      "Time taken to concatenate all DataFrames: 431.81 seconds.\n",
      "Loading Data...\n",
      "Found 3 ROOT files in the directory 'usb/GamGam/Data/'.\n"
     ]
    },
    {
     "name": "stderr",
     "output_type": "stream",
     "text": [
      "Loading ROOT files:   0%|          | 0/3 [00:00<?, ?file/s]"
     ]
    },
    {
     "name": "stdout",
     "output_type": "stream",
     "text": [
      "\n",
      "Processing file: data_A.GamGam.root\n",
      "  Number of entries in the tree: 430344\n",
      "  Sampling the first 86068 entries.\n"
     ]
    },
    {
     "name": "stderr",
     "output_type": "stream",
     "text": [
      "Loading ROOT files:  33%|███▎      | 1/3 [00:00<00:01,  1.27file/s]"
     ]
    },
    {
     "name": "stdout",
     "output_type": "stream",
     "text": [
      "  Time taken to extract data: 0.77 seconds.\n",
      "  Time taken to process file: 0.79 seconds.\n",
      "\n",
      "Processing file: data_B.GamGam.root\n",
      "  Number of entries in the tree: 1528717\n",
      "  Sampling the first 305743 entries.\n"
     ]
    },
    {
     "name": "stderr",
     "output_type": "stream",
     "text": [
      "Loading ROOT files:  67%|██████▋   | 2/3 [00:03<00:01,  1.67s/file]"
     ]
    },
    {
     "name": "stdout",
     "output_type": "stream",
     "text": [
      "  Time taken to extract data: 2.27 seconds.\n",
      "  Time taken to process file: 2.28 seconds.\n",
      "\n",
      "Processing file: data_C.GamGam.root\n",
      "  Number of entries in the tree: 2237187\n",
      "  Sampling the first 447437 entries.\n"
     ]
    },
    {
     "name": "stderr",
     "output_type": "stream",
     "text": [
      "Loading ROOT files: 100%|██████████| 3/3 [00:05<00:00,  1.84s/file]"
     ]
    },
    {
     "name": "stdout",
     "output_type": "stream",
     "text": [
      "  Time taken to extract data: 2.42 seconds.\n",
      "  Time taken to process file: 2.45 seconds.\n",
      "\n",
      "Concatenating all DataFrames...\n"
     ]
    },
    {
     "name": "stderr",
     "output_type": "stream",
     "text": [
      "\n"
     ]
    },
    {
     "name": "stdout",
     "output_type": "stream",
     "text": [
      "Time taken to concatenate all DataFrames: 683.60 seconds.\n",
      "MC DataFrame head:\n",
      "   runNumber  eventNumber  channelNumber  mcWeight  scaleFactor_PILEUP  \\\n",
      "0     284500       674070         341081      -1.0            0.696077   \n",
      "1     284500       674033         341081      -1.0            0.696077   \n",
      "2     284500       674129         341081      -1.0            0.696077   \n",
      "3     284500       674306         341081       1.0            0.750880   \n",
      "4     284500       674312         341081       1.0            0.750880   \n",
      "\n",
      "   scaleFactor_ELE  scaleFactor_MUON  scaleFactor_PHOTON  scaleFactor_TAU  \\\n",
      "0          1.00000          0.995968            1.005772              1.0   \n",
      "1          1.00000          0.995324            1.001342              1.0   \n",
      "2          1.00000          1.000000            1.007652              1.0   \n",
      "3          0.94772          1.000000            1.014442              1.0   \n",
      "4          1.00000          0.999456            1.018067              1.0   \n",
      "\n",
      "   scaleFactor_BTAG  ...  largeRjet_pt  largeRjet_eta  largeRjet_phi  \\\n",
      "0          1.076109  ...            []             []             []   \n",
      "1          0.934331  ...            []             []             []   \n",
      "2          1.066152  ...            []             []             []   \n",
      "3          0.933773  ...            []             []             []   \n",
      "4          0.995078  ...            []             []             []   \n",
      "\n",
      "   largeRjet_E  largeRjet_m  largeRjet_truthMatched  largeRjet_D2  \\\n",
      "0           []           []                      []            []   \n",
      "1           []           []                      []            []   \n",
      "2           []           []                      []            []   \n",
      "3           []           []                      []            []   \n",
      "4           []           []                      []            []   \n",
      "\n",
      "   largeRjet_tau32  largeRjet_pt_syst  tau_charge  \n",
      "0               []                 []          []  \n",
      "1               []                 []          []  \n",
      "2               []                 []          []  \n",
      "3               []                 []          []  \n",
      "4               []                 []          []  \n",
      "\n",
      "[5 rows x 81 columns]\n",
      "Data DataFrame head:\n",
      "   runNumber  eventNumber  channelNumber  mcWeight  scaleFactor_PILEUP  \\\n",
      "0     297730      1540777         297730       0.0                 0.0   \n",
      "1     297730      1713779         297730       0.0                 0.0   \n",
      "2     297730      1761929         297730       0.0                 0.0   \n",
      "3     297730      1765304         297730       0.0                 0.0   \n",
      "4     297730      1651552         297730       0.0                 0.0   \n",
      "\n",
      "   scaleFactor_ELE  scaleFactor_MUON  scaleFactor_PHOTON  scaleFactor_TAU  \\\n",
      "0              0.0               0.0                 0.0              0.0   \n",
      "1              0.0               0.0                 0.0              0.0   \n",
      "2              0.0               0.0                 0.0              0.0   \n",
      "3              0.0               0.0                 0.0              0.0   \n",
      "4              0.0               0.0                 0.0              0.0   \n",
      "\n",
      "   scaleFactor_BTAG  ...  largeRjet_pt  largeRjet_eta  largeRjet_phi  \\\n",
      "0               0.0  ...            []             []             []   \n",
      "1               0.0  ...            []             []             []   \n",
      "2               0.0  ...            []             []             []   \n",
      "3               0.0  ...            []             []             []   \n",
      "4               0.0  ...            []             []             []   \n",
      "\n",
      "   largeRjet_E  largeRjet_m  largeRjet_truthMatched  largeRjet_D2  \\\n",
      "0           []           []                      []            []   \n",
      "1           []           []                      []            []   \n",
      "2           []           []                      []            []   \n",
      "3           []           []                      []            []   \n",
      "4           []           []                      []            []   \n",
      "\n",
      "   largeRjet_tau32  largeRjet_pt_syst  tau_charge  \n",
      "0               []                 []          []  \n",
      "1               []                 []          []  \n",
      "2               []                 []          []  \n",
      "3               []                 []          []  \n",
      "4               []                 []          []  \n",
      "\n",
      "[5 rows x 81 columns]\n"
     ]
    }
   ],
   "source": [
    "\n",
    "import uproot\n",
    "import pandas as pd\n",
    "import os\n",
    "import time\n",
    "from tqdm import tqdm\n",
    "\n",
    "def load_root_files_to_df(directory, tree_name=\"mini\", fraction=0.2):\n",
    "    \"\"\"\n",
    "    Load a fraction of the first events from all ROOT files in the given directory into a Pandas DataFrame.\n",
    "\n",
    "    :param directory: Directory containing the ROOT files.\n",
    "    :param tree_name: Name of the ROOT tree to extract data from.\n",
    "    :param fraction: Fraction of the data to load (default is 0.01 for 1%).\n",
    "    :return: A Pandas DataFrame containing the data from the ROOT files.\n",
    "    \"\"\"\n",
    "    dfs = []\n",
    "    root_files = [f for f in os.listdir(directory) if f.endswith(\".root\")]\n",
    "    \n",
    "    print(f\"Found {len(root_files)} ROOT files in the directory '{directory}'.\")\n",
    "    \n",
    "    for filename in tqdm(root_files, desc=\"Loading ROOT files\", unit=\"file\"):\n",
    "        filepath = os.path.join(directory, filename)\n",
    "        print(f\"\\nProcessing file: {filename}\")\n",
    "        \n",
    "        start_time = time.time()\n",
    "        with uproot.open(filepath) as file:\n",
    "            tree = file[tree_name]\n",
    "            num_entries = tree.num_entries\n",
    "            print(f\"  Number of entries in the tree: {num_entries}\")\n",
    "            \n",
    "            num_to_sample = int(num_entries * fraction)\n",
    "            print(f\"  Sampling the first {num_to_sample} entries.\")\n",
    "            \n",
    "            # Timing the data extraction\n",
    "            extract_start_time = time.time()\n",
    "            df = tree.arrays(library=\"pd\", entry_stop=num_to_sample)\n",
    "            extract_end_time = time.time()\n",
    "            print(f\"  Time taken to extract data: {extract_end_time - extract_start_time:.2f} seconds.\")\n",
    "            \n",
    "            dfs.append(df)\n",
    "        \n",
    "        end_time = time.time()\n",
    "        print(f\"  Time taken to process file: {end_time - start_time:.2f} seconds.\")\n",
    "    \n",
    "    print(\"\\nConcatenating all DataFrames...\")\n",
    "    concat_start_time = time.time()\n",
    "    combined_df = pd.concat(dfs, ignore_index=True)\n",
    "    concat_end_time = time.time()\n",
    "    print(f\"Time taken to concatenate all DataFrames: {concat_end_time - concat_start_time:.2f} seconds.\")\n",
    "    \n",
    "    return combined_df\n",
    "\n",
    "# Directories containing the ROOT files\n",
    "mc_directory = \"usb/GamGam/MC/\"\n",
    "data_directory = \"usb/GamGam/Data/\"\n",
    "\n",
    "# Load 1% of the data into separate DataFrames with progress bars\n",
    "print(\"Loading MC data...\")\n",
    "mc_df = load_root_files_to_df(mc_directory)\n",
    "print(\"Loading Data...\")\n",
    "data_df = load_root_files_to_df(data_directory)\n",
    "\n",
    "# Check the loaded data\n",
    "print(\"MC DataFrame head:\")\n",
    "print(mc_df.head())\n",
    "\n",
    "print(\"Data DataFrame head:\")\n",
    "print(data_df.head())\n"
   ]
  },
  {
   "cell_type": "code",
   "execution_count": 2,
   "metadata": {},
   "outputs": [
    {
     "name": "stdout",
     "output_type": "stream",
     "text": [
      "Adding 'isHiggs' column to MC DataFrame...\n",
      "Time taken to add 'isHiggs' column to MC DataFrame: 0.01 seconds\n",
      "Adding 'isHiggs' column to Data DataFrame...\n",
      "Time taken to add 'isHiggs' column to Data DataFrame: 0.00 seconds\n",
      "Concatenating MC and Data DataFrames...\n",
      "Total of 1333914 entries\n",
      "Time taken to concatenate DataFrames: 930.81 seconds\n",
      "Calculating the number of Higgs and non-Higgs events...\n",
      "Number of Higgs events: 494666\n",
      "Number of non-Higgs events: 839248\n",
      "Time taken to calculate event counts: 0.00 seconds\n",
      "Shuffling the balanced DataFrame...\n",
      "Time taken to shuffle the balanced DataFrame: 2.76 seconds\n",
      "Balanced DataFrame head:\n",
      "   runNumber  eventNumber  channelNumber   mcWeight  scaleFactor_PILEUP  \\\n",
      "0     284500      4246580         343981  28.485731            0.696077   \n",
      "1     301932    242211722         301932   0.000000            0.000000   \n",
      "2     284500        56490         345041   3.749917            1.214122   \n",
      "3     301932   -163493589         301932   0.000000            0.000000   \n",
      "4     284500      3977190         343981  28.485731            0.750880   \n",
      "\n",
      "   scaleFactor_ELE  scaleFactor_MUON  scaleFactor_PHOTON  scaleFactor_TAU  \\\n",
      "0              1.0               1.0            0.995786              1.0   \n",
      "1              0.0               0.0            0.000000              0.0   \n",
      "2              1.0               1.0            1.005498              1.0   \n",
      "3              0.0               0.0            0.000000              0.0   \n",
      "4              1.0               1.0            1.002282              1.0   \n",
      "\n",
      "   scaleFactor_BTAG  ...  largeRjet_eta  largeRjet_phi  largeRjet_E  \\\n",
      "0          0.998468  ...             []             []           []   \n",
      "1          0.000000  ...             []             []           []   \n",
      "2          0.998150  ...             []             []           []   \n",
      "3          0.000000  ...             []             []           []   \n",
      "4          1.012842  ...             []             []           []   \n",
      "\n",
      "   largeRjet_m  largeRjet_truthMatched  largeRjet_D2  largeRjet_tau32  \\\n",
      "0           []                      []            []               []   \n",
      "1           []                      []            []               []   \n",
      "2           []                      []            []               []   \n",
      "3           []                      []            []               []   \n",
      "4           []                      []            []               []   \n",
      "\n",
      "   largeRjet_pt_syst  tau_charge  isHiggs  \n",
      "0                 []          []        1  \n",
      "1                 []          []        0  \n",
      "2                 []          []        1  \n",
      "3                 []          []        0  \n",
      "4                 []          []        1  \n",
      "\n",
      "[5 rows x 82 columns]\n",
      "Class distribution in the balanced DataFrame:\n",
      "isHiggs\n",
      "0    839248\n",
      "1    494666\n",
      "Name: count, dtype: int64\n",
      "\n",
      "Total number of events in the balanced DataFrame: 1333914\n"
     ]
    }
   ],
   "source": [
    "import pandas as pd\n",
    "import time\n",
    "\n",
    "# Assuming mc_df and data_df have already been loaded as per the previous code\n",
    "\n",
    "# Add a new column 'isHiggs' to the MC DataFrame and set it to 1\n",
    "print(\"Adding 'isHiggs' column to MC DataFrame...\")\n",
    "start_time = time.time()\n",
    "mc_df['isHiggs'] = 1\n",
    "end_time = time.time()\n",
    "print(f\"Time taken to add 'isHiggs' column to MC DataFrame: {end_time - start_time:.2f} seconds\")\n",
    "\n",
    "# Add a new column 'isHiggs' to the Data DataFrame and set it to 0\n",
    "print(\"Adding 'isHiggs' column to Data DataFrame...\")\n",
    "start_time = time.time()\n",
    "data_df['isHiggs'] = 0\n",
    "end_time = time.time()\n",
    "print(f\"Time taken to add 'isHiggs' column to Data DataFrame: {end_time - start_time:.2f} seconds\")\n",
    "\n",
    "# Concatenate the two DataFrames\n",
    "print(\"Concatenating MC and Data DataFrames...\")\n",
    "print(f\"Total of {len(mc_df)+len(data_df)} entries\")\n",
    "start_time = time.time()\n",
    "combined_df = pd.concat([mc_df, data_df], ignore_index=True)\n",
    "end_time = time.time()\n",
    "print(f\"Time taken to concatenate DataFrames: {end_time - start_time:.2f} seconds\")\n",
    "\n",
    "# Determine the number of Higgs and non-Higgs events\n",
    "print(\"Calculating the number of Higgs and non-Higgs events...\")\n",
    "start_time = time.time()\n",
    "num_higgs = combined_df['isHiggs'].sum()  # Number of Higgs events\n",
    "num_non_higgs = len(combined_df) - num_higgs  # Number of non-Higgs events\n",
    "end_time = time.time()\n",
    "print(f\"Number of Higgs events: {num_higgs}\")\n",
    "print(f\"Number of non-Higgs events: {num_non_higgs}\")\n",
    "print(f\"Time taken to calculate event counts: {end_time - start_time:.2f} seconds\")\n",
    "if False:\n",
    "    # Ensure 50% ratio by downsampling the majority class\n",
    "    print(\"Balancing the DataFrame to ensure a 50% Higgs to non-Higgs ratio...\")\n",
    "    start_time = time.time()\n",
    "    if num_higgs > num_non_higgs:\n",
    "        # Downsample Higgs events\n",
    "        print(f\"  Downsampling Higgs events from {num_higgs} to {num_non_higgs}...\")\n",
    "        higgs_df = combined_df[combined_df['isHiggs'] == 1].sample(num_non_higgs, random_state=42)\n",
    "        non_higgs_df = combined_df[combined_df['isHiggs'] == 0]\n",
    "    else:\n",
    "        # Downsample non-Higgs events\n",
    "        print(f\"  Downsampling non-Higgs events from {num_non_higgs} to {num_higgs}...\")\n",
    "        non_higgs_df = combined_df[combined_df['isHiggs'] == 0].sample(num_higgs, random_state=42)\n",
    "        higgs_df = combined_df[combined_df['isHiggs'] == 1]\n",
    "    end_time = time.time()\n",
    "    print(f\"Time taken to balance the DataFrame: {end_time - start_time:.2f} seconds\")\n",
    "\n",
    "    # Concatenate the downsampled DataFrames\n",
    "    print(\"Concatenating the balanced DataFrames...\")\n",
    "    start_time = time.time()\n",
    "    balanced_df = pd.concat([higgs_df, non_higgs_df], ignore_index=True)\n",
    "    end_time = time.time()\n",
    "    print(f\"Time taken to concatenate the balanced DataFrames: {end_time - start_time:.2f} seconds\")\n",
    "else:\n",
    "    balanced_df = combined_df\n",
    "# Shuffle the DataFrame to mix the classes\n",
    "print(\"Shuffling the balanced DataFrame...\")\n",
    "start_time = time.time()\n",
    "balanced_df = balanced_df.sample(frac=1, random_state=42).reset_index(drop=True)\n",
    "end_time = time.time()\n",
    "print(f\"Time taken to shuffle the balanced DataFrame: {end_time - start_time:.2f} seconds\")\n",
    "\n",
    "# Check the resulting DataFrame\n",
    "print(\"Balanced DataFrame head:\")\n",
    "print(balanced_df.head())\n",
    "\n",
    "# Check the class distribution to confirm 50% ratio\n",
    "print(\"Class distribution in the balanced DataFrame:\")\n",
    "print(balanced_df['isHiggs'].value_counts())\n",
    "\n",
    "# Show the total number of events after balancing\n",
    "total_events = len(balanced_df)\n",
    "print(f\"\\nTotal number of events in the balanced DataFrame: {total_events}\")\n"
   ]
  },
  {
   "cell_type": "code",
   "execution_count": 3,
   "metadata": {},
   "outputs": [
    {
     "name": "stdout",
     "output_type": "stream",
     "text": [
      "Expanding awkward array columns in the DataFrame...\n",
      "Found 55 columns with awkward array values.\n"
     ]
    },
    {
     "name": "stderr",
     "output_type": "stream",
     "text": [
      "Expanding awkward array columns:   0%|          | 0/55 [00:00<?, ?it/s]"
     ]
    },
    {
     "name": "stdout",
     "output_type": "stream",
     "text": [
      "\n",
      "Processing column: lep_truthMatched\n",
      "  Maximum length of lists in lep_truthMatched: 4\n"
     ]
    },
    {
     "name": "stderr",
     "output_type": "stream",
     "text": [
      "Expanding awkward array columns:   2%|▏         | 1/55 [00:21<19:09, 21.30s/it]"
     ]
    },
    {
     "name": "stdout",
     "output_type": "stream",
     "text": [
      "  Time taken to expand lep_truthMatched: 21.30 seconds.\n",
      "\n",
      "Processing column: lep_trigMatched\n",
      "  Maximum length of lists in lep_trigMatched: 4\n"
     ]
    },
    {
     "name": "stderr",
     "output_type": "stream",
     "text": [
      "Expanding awkward array columns:   4%|▎         | 2/55 [00:42<18:56, 21.44s/it]"
     ]
    },
    {
     "name": "stdout",
     "output_type": "stream",
     "text": [
      "  Time taken to expand lep_trigMatched: 21.54 seconds.\n",
      "\n",
      "Processing column: lep_pt\n",
      "  Maximum length of lists in lep_pt: 4\n"
     ]
    },
    {
     "name": "stderr",
     "output_type": "stream",
     "text": [
      "Expanding awkward array columns:   5%|▌         | 3/55 [01:02<18:04, 20.86s/it]"
     ]
    },
    {
     "name": "stdout",
     "output_type": "stream",
     "text": [
      "  Time taken to expand lep_pt: 20.16 seconds.\n",
      "\n",
      "Processing column: lep_eta\n",
      "  Maximum length of lists in lep_eta: 4\n"
     ]
    },
    {
     "name": "stderr",
     "output_type": "stream",
     "text": [
      "Expanding awkward array columns:   7%|▋         | 4/55 [01:24<18:03, 21.24s/it]"
     ]
    },
    {
     "name": "stdout",
     "output_type": "stream",
     "text": [
      "  Time taken to expand lep_eta: 21.83 seconds.\n",
      "\n",
      "Processing column: lep_phi\n",
      "  Maximum length of lists in lep_phi: 4\n"
     ]
    },
    {
     "name": "stderr",
     "output_type": "stream",
     "text": [
      "Expanding awkward array columns:   9%|▉         | 5/55 [01:45<17:30, 21.01s/it]"
     ]
    },
    {
     "name": "stdout",
     "output_type": "stream",
     "text": [
      "  Time taken to expand lep_phi: 20.60 seconds.\n",
      "\n",
      "Processing column: lep_E\n",
      "  Maximum length of lists in lep_E: 4\n"
     ]
    },
    {
     "name": "stderr",
     "output_type": "stream",
     "text": [
      "Expanding awkward array columns:  11%|█         | 6/55 [02:06<17:13, 21.09s/it]"
     ]
    },
    {
     "name": "stdout",
     "output_type": "stream",
     "text": [
      "  Time taken to expand lep_E: 21.25 seconds.\n",
      "\n",
      "Processing column: lep_z0\n",
      "  Maximum length of lists in lep_z0: 4\n"
     ]
    },
    {
     "name": "stderr",
     "output_type": "stream",
     "text": [
      "Expanding awkward array columns:  13%|█▎        | 7/55 [02:27<16:42, 20.89s/it]"
     ]
    },
    {
     "name": "stdout",
     "output_type": "stream",
     "text": [
      "  Time taken to expand lep_z0: 20.48 seconds.\n",
      "\n",
      "Processing column: lep_charge\n",
      "  Maximum length of lists in lep_charge: 4\n"
     ]
    },
    {
     "name": "stderr",
     "output_type": "stream",
     "text": [
      "Expanding awkward array columns:  15%|█▍        | 8/55 [02:48<16:23, 20.92s/it]"
     ]
    },
    {
     "name": "stdout",
     "output_type": "stream",
     "text": [
      "  Time taken to expand lep_charge: 20.98 seconds.\n",
      "\n",
      "Processing column: lep_type\n",
      "  Maximum length of lists in lep_type: 4\n"
     ]
    },
    {
     "name": "stderr",
     "output_type": "stream",
     "text": [
      "Expanding awkward array columns:  16%|█▋        | 9/55 [03:08<15:55, 20.76s/it]"
     ]
    },
    {
     "name": "stdout",
     "output_type": "stream",
     "text": [
      "  Time taken to expand lep_type: 20.42 seconds.\n",
      "\n",
      "Processing column: lep_isTightID\n",
      "  Maximum length of lists in lep_isTightID: 4\n"
     ]
    },
    {
     "name": "stderr",
     "output_type": "stream",
     "text": [
      "Expanding awkward array columns:  18%|█▊        | 10/55 [03:30<15:44, 20.99s/it]"
     ]
    },
    {
     "name": "stdout",
     "output_type": "stream",
     "text": [
      "  Time taken to expand lep_isTightID: 21.51 seconds.\n",
      "\n",
      "Processing column: lep_ptcone30\n",
      "  Maximum length of lists in lep_ptcone30: 4\n"
     ]
    },
    {
     "name": "stderr",
     "output_type": "stream",
     "text": [
      "Expanding awkward array columns:  20%|██        | 11/55 [03:50<15:18, 20.88s/it]"
     ]
    },
    {
     "name": "stdout",
     "output_type": "stream",
     "text": [
      "  Time taken to expand lep_ptcone30: 20.62 seconds.\n",
      "\n",
      "Processing column: lep_etcone20\n",
      "  Maximum length of lists in lep_etcone20: 4\n"
     ]
    },
    {
     "name": "stderr",
     "output_type": "stream",
     "text": [
      "Expanding awkward array columns:  22%|██▏       | 12/55 [04:12<15:11, 21.19s/it]"
     ]
    },
    {
     "name": "stdout",
     "output_type": "stream",
     "text": [
      "  Time taken to expand lep_etcone20: 21.90 seconds.\n",
      "\n",
      "Processing column: lep_trackd0pvunbiased\n",
      "  Maximum length of lists in lep_trackd0pvunbiased: 4\n"
     ]
    },
    {
     "name": "stderr",
     "output_type": "stream",
     "text": [
      "Expanding awkward array columns:  24%|██▎       | 13/55 [04:34<14:59, 21.43s/it]"
     ]
    },
    {
     "name": "stdout",
     "output_type": "stream",
     "text": [
      "  Time taken to expand lep_trackd0pvunbiased: 21.97 seconds.\n",
      "\n",
      "Processing column: lep_tracksigd0pvunbiased\n",
      "  Maximum length of lists in lep_tracksigd0pvunbiased: 4\n"
     ]
    },
    {
     "name": "stderr",
     "output_type": "stream",
     "text": [
      "Expanding awkward array columns:  25%|██▌       | 14/55 [04:56<14:44, 21.57s/it]"
     ]
    },
    {
     "name": "stdout",
     "output_type": "stream",
     "text": [
      "  Time taken to expand lep_tracksigd0pvunbiased: 21.92 seconds.\n",
      "\n",
      "Processing column: jet_pt\n",
      "  Maximum length of lists in jet_pt: 16\n"
     ]
    },
    {
     "name": "stderr",
     "output_type": "stream",
     "text": [
      "Expanding awkward array columns:  27%|██▋       | 15/55 [05:19<14:45, 22.14s/it]"
     ]
    },
    {
     "name": "stdout",
     "output_type": "stream",
     "text": [
      "  Time taken to expand jet_pt: 23.44 seconds.\n",
      "\n",
      "Processing column: jet_eta\n",
      "  Maximum length of lists in jet_eta: 16\n"
     ]
    },
    {
     "name": "stderr",
     "output_type": "stream",
     "text": [
      "Expanding awkward array columns:  29%|██▉       | 16/55 [05:44<14:56, 22.98s/it]"
     ]
    },
    {
     "name": "stdout",
     "output_type": "stream",
     "text": [
      "  Time taken to expand jet_eta: 24.95 seconds.\n",
      "\n",
      "Processing column: jet_phi\n",
      "  Maximum length of lists in jet_phi: 16\n"
     ]
    },
    {
     "name": "stderr",
     "output_type": "stream",
     "text": [
      "C:\\Users\\phgil\\AppData\\Local\\Temp\\ipykernel_2308\\3488968663.py:39: PerformanceWarning: DataFrame is highly fragmented.  This is usually the result of calling `frame.insert` many times, which has poor performance.  Consider joining all columns at once using pd.concat(axis=1) instead. To get a de-fragmented frame, use `newframe = frame.copy()`\n",
      "  df[new_col_name] = data\n",
      "C:\\Users\\phgil\\AppData\\Local\\Temp\\ipykernel_2308\\3488968663.py:39: PerformanceWarning: DataFrame is highly fragmented.  This is usually the result of calling `frame.insert` many times, which has poor performance.  Consider joining all columns at once using pd.concat(axis=1) instead. To get a de-fragmented frame, use `newframe = frame.copy()`\n",
      "  df[new_col_name] = data\n",
      "C:\\Users\\phgil\\AppData\\Local\\Temp\\ipykernel_2308\\3488968663.py:39: PerformanceWarning: DataFrame is highly fragmented.  This is usually the result of calling `frame.insert` many times, which has poor performance.  Consider joining all columns at once using pd.concat(axis=1) instead. To get a de-fragmented frame, use `newframe = frame.copy()`\n",
      "  df[new_col_name] = data\n",
      "C:\\Users\\phgil\\AppData\\Local\\Temp\\ipykernel_2308\\3488968663.py:39: PerformanceWarning: DataFrame is highly fragmented.  This is usually the result of calling `frame.insert` many times, which has poor performance.  Consider joining all columns at once using pd.concat(axis=1) instead. To get a de-fragmented frame, use `newframe = frame.copy()`\n",
      "  df[new_col_name] = data\n",
      "C:\\Users\\phgil\\AppData\\Local\\Temp\\ipykernel_2308\\3488968663.py:39: PerformanceWarning: DataFrame is highly fragmented.  This is usually the result of calling `frame.insert` many times, which has poor performance.  Consider joining all columns at once using pd.concat(axis=1) instead. To get a de-fragmented frame, use `newframe = frame.copy()`\n",
      "  df[new_col_name] = data\n",
      "C:\\Users\\phgil\\AppData\\Local\\Temp\\ipykernel_2308\\3488968663.py:39: PerformanceWarning: DataFrame is highly fragmented.  This is usually the result of calling `frame.insert` many times, which has poor performance.  Consider joining all columns at once using pd.concat(axis=1) instead. To get a de-fragmented frame, use `newframe = frame.copy()`\n",
      "  df[new_col_name] = data\n",
      "C:\\Users\\phgil\\AppData\\Local\\Temp\\ipykernel_2308\\3488968663.py:39: PerformanceWarning: DataFrame is highly fragmented.  This is usually the result of calling `frame.insert` many times, which has poor performance.  Consider joining all columns at once using pd.concat(axis=1) instead. To get a de-fragmented frame, use `newframe = frame.copy()`\n",
      "  df[new_col_name] = data\n",
      "C:\\Users\\phgil\\AppData\\Local\\Temp\\ipykernel_2308\\3488968663.py:39: PerformanceWarning: DataFrame is highly fragmented.  This is usually the result of calling `frame.insert` many times, which has poor performance.  Consider joining all columns at once using pd.concat(axis=1) instead. To get a de-fragmented frame, use `newframe = frame.copy()`\n",
      "  df[new_col_name] = data\n",
      "C:\\Users\\phgil\\AppData\\Local\\Temp\\ipykernel_2308\\3488968663.py:39: PerformanceWarning: DataFrame is highly fragmented.  This is usually the result of calling `frame.insert` many times, which has poor performance.  Consider joining all columns at once using pd.concat(axis=1) instead. To get a de-fragmented frame, use `newframe = frame.copy()`\n",
      "  df[new_col_name] = data\n",
      "Expanding awkward array columns:  31%|███       | 17/55 [06:09<14:47, 23.37s/it]"
     ]
    },
    {
     "name": "stdout",
     "output_type": "stream",
     "text": [
      "  Time taken to expand jet_phi: 24.26 seconds.\n",
      "\n",
      "Processing column: jet_E\n",
      "  Maximum length of lists in jet_E: 16\n"
     ]
    },
    {
     "name": "stderr",
     "output_type": "stream",
     "text": [
      "C:\\Users\\phgil\\AppData\\Local\\Temp\\ipykernel_2308\\3488968663.py:39: PerformanceWarning: DataFrame is highly fragmented.  This is usually the result of calling `frame.insert` many times, which has poor performance.  Consider joining all columns at once using pd.concat(axis=1) instead. To get a de-fragmented frame, use `newframe = frame.copy()`\n",
      "  df[new_col_name] = data\n",
      "C:\\Users\\phgil\\AppData\\Local\\Temp\\ipykernel_2308\\3488968663.py:39: PerformanceWarning: DataFrame is highly fragmented.  This is usually the result of calling `frame.insert` many times, which has poor performance.  Consider joining all columns at once using pd.concat(axis=1) instead. To get a de-fragmented frame, use `newframe = frame.copy()`\n",
      "  df[new_col_name] = data\n",
      "C:\\Users\\phgil\\AppData\\Local\\Temp\\ipykernel_2308\\3488968663.py:39: PerformanceWarning: DataFrame is highly fragmented.  This is usually the result of calling `frame.insert` many times, which has poor performance.  Consider joining all columns at once using pd.concat(axis=1) instead. To get a de-fragmented frame, use `newframe = frame.copy()`\n",
      "  df[new_col_name] = data\n",
      "C:\\Users\\phgil\\AppData\\Local\\Temp\\ipykernel_2308\\3488968663.py:39: PerformanceWarning: DataFrame is highly fragmented.  This is usually the result of calling `frame.insert` many times, which has poor performance.  Consider joining all columns at once using pd.concat(axis=1) instead. To get a de-fragmented frame, use `newframe = frame.copy()`\n",
      "  df[new_col_name] = data\n",
      "C:\\Users\\phgil\\AppData\\Local\\Temp\\ipykernel_2308\\3488968663.py:39: PerformanceWarning: DataFrame is highly fragmented.  This is usually the result of calling `frame.insert` many times, which has poor performance.  Consider joining all columns at once using pd.concat(axis=1) instead. To get a de-fragmented frame, use `newframe = frame.copy()`\n",
      "  df[new_col_name] = data\n",
      "C:\\Users\\phgil\\AppData\\Local\\Temp\\ipykernel_2308\\3488968663.py:39: PerformanceWarning: DataFrame is highly fragmented.  This is usually the result of calling `frame.insert` many times, which has poor performance.  Consider joining all columns at once using pd.concat(axis=1) instead. To get a de-fragmented frame, use `newframe = frame.copy()`\n",
      "  df[new_col_name] = data\n",
      "C:\\Users\\phgil\\AppData\\Local\\Temp\\ipykernel_2308\\3488968663.py:39: PerformanceWarning: DataFrame is highly fragmented.  This is usually the result of calling `frame.insert` many times, which has poor performance.  Consider joining all columns at once using pd.concat(axis=1) instead. To get a de-fragmented frame, use `newframe = frame.copy()`\n",
      "  df[new_col_name] = data\n",
      "C:\\Users\\phgil\\AppData\\Local\\Temp\\ipykernel_2308\\3488968663.py:39: PerformanceWarning: DataFrame is highly fragmented.  This is usually the result of calling `frame.insert` many times, which has poor performance.  Consider joining all columns at once using pd.concat(axis=1) instead. To get a de-fragmented frame, use `newframe = frame.copy()`\n",
      "  df[new_col_name] = data\n",
      "C:\\Users\\phgil\\AppData\\Local\\Temp\\ipykernel_2308\\3488968663.py:39: PerformanceWarning: DataFrame is highly fragmented.  This is usually the result of calling `frame.insert` many times, which has poor performance.  Consider joining all columns at once using pd.concat(axis=1) instead. To get a de-fragmented frame, use `newframe = frame.copy()`\n",
      "  df[new_col_name] = data\n",
      "C:\\Users\\phgil\\AppData\\Local\\Temp\\ipykernel_2308\\3488968663.py:39: PerformanceWarning: DataFrame is highly fragmented.  This is usually the result of calling `frame.insert` many times, which has poor performance.  Consider joining all columns at once using pd.concat(axis=1) instead. To get a de-fragmented frame, use `newframe = frame.copy()`\n",
      "  df[new_col_name] = data\n",
      "C:\\Users\\phgil\\AppData\\Local\\Temp\\ipykernel_2308\\3488968663.py:39: PerformanceWarning: DataFrame is highly fragmented.  This is usually the result of calling `frame.insert` many times, which has poor performance.  Consider joining all columns at once using pd.concat(axis=1) instead. To get a de-fragmented frame, use `newframe = frame.copy()`\n",
      "  df[new_col_name] = data\n",
      "C:\\Users\\phgil\\AppData\\Local\\Temp\\ipykernel_2308\\3488968663.py:39: PerformanceWarning: DataFrame is highly fragmented.  This is usually the result of calling `frame.insert` many times, which has poor performance.  Consider joining all columns at once using pd.concat(axis=1) instead. To get a de-fragmented frame, use `newframe = frame.copy()`\n",
      "  df[new_col_name] = data\n",
      "C:\\Users\\phgil\\AppData\\Local\\Temp\\ipykernel_2308\\3488968663.py:39: PerformanceWarning: DataFrame is highly fragmented.  This is usually the result of calling `frame.insert` many times, which has poor performance.  Consider joining all columns at once using pd.concat(axis=1) instead. To get a de-fragmented frame, use `newframe = frame.copy()`\n",
      "  df[new_col_name] = data\n",
      "C:\\Users\\phgil\\AppData\\Local\\Temp\\ipykernel_2308\\3488968663.py:39: PerformanceWarning: DataFrame is highly fragmented.  This is usually the result of calling `frame.insert` many times, which has poor performance.  Consider joining all columns at once using pd.concat(axis=1) instead. To get a de-fragmented frame, use `newframe = frame.copy()`\n",
      "  df[new_col_name] = data\n",
      "C:\\Users\\phgil\\AppData\\Local\\Temp\\ipykernel_2308\\3488968663.py:39: PerformanceWarning: DataFrame is highly fragmented.  This is usually the result of calling `frame.insert` many times, which has poor performance.  Consider joining all columns at once using pd.concat(axis=1) instead. To get a de-fragmented frame, use `newframe = frame.copy()`\n",
      "  df[new_col_name] = data\n",
      "C:\\Users\\phgil\\AppData\\Local\\Temp\\ipykernel_2308\\3488968663.py:39: PerformanceWarning: DataFrame is highly fragmented.  This is usually the result of calling `frame.insert` many times, which has poor performance.  Consider joining all columns at once using pd.concat(axis=1) instead. To get a de-fragmented frame, use `newframe = frame.copy()`\n",
      "  df[new_col_name] = data\n",
      "Expanding awkward array columns:  33%|███▎      | 18/55 [06:33<14:36, 23.68s/it]"
     ]
    },
    {
     "name": "stdout",
     "output_type": "stream",
     "text": [
      "  Time taken to expand jet_E: 24.41 seconds.\n",
      "\n",
      "Processing column: jet_jvt\n",
      "  Maximum length of lists in jet_jvt: 16\n"
     ]
    },
    {
     "name": "stderr",
     "output_type": "stream",
     "text": [
      "C:\\Users\\phgil\\AppData\\Local\\Temp\\ipykernel_2308\\3488968663.py:39: PerformanceWarning: DataFrame is highly fragmented.  This is usually the result of calling `frame.insert` many times, which has poor performance.  Consider joining all columns at once using pd.concat(axis=1) instead. To get a de-fragmented frame, use `newframe = frame.copy()`\n",
      "  df[new_col_name] = data\n",
      "C:\\Users\\phgil\\AppData\\Local\\Temp\\ipykernel_2308\\3488968663.py:39: PerformanceWarning: DataFrame is highly fragmented.  This is usually the result of calling `frame.insert` many times, which has poor performance.  Consider joining all columns at once using pd.concat(axis=1) instead. To get a de-fragmented frame, use `newframe = frame.copy()`\n",
      "  df[new_col_name] = data\n",
      "C:\\Users\\phgil\\AppData\\Local\\Temp\\ipykernel_2308\\3488968663.py:39: PerformanceWarning: DataFrame is highly fragmented.  This is usually the result of calling `frame.insert` many times, which has poor performance.  Consider joining all columns at once using pd.concat(axis=1) instead. To get a de-fragmented frame, use `newframe = frame.copy()`\n",
      "  df[new_col_name] = data\n",
      "C:\\Users\\phgil\\AppData\\Local\\Temp\\ipykernel_2308\\3488968663.py:39: PerformanceWarning: DataFrame is highly fragmented.  This is usually the result of calling `frame.insert` many times, which has poor performance.  Consider joining all columns at once using pd.concat(axis=1) instead. To get a de-fragmented frame, use `newframe = frame.copy()`\n",
      "  df[new_col_name] = data\n",
      "C:\\Users\\phgil\\AppData\\Local\\Temp\\ipykernel_2308\\3488968663.py:39: PerformanceWarning: DataFrame is highly fragmented.  This is usually the result of calling `frame.insert` many times, which has poor performance.  Consider joining all columns at once using pd.concat(axis=1) instead. To get a de-fragmented frame, use `newframe = frame.copy()`\n",
      "  df[new_col_name] = data\n",
      "C:\\Users\\phgil\\AppData\\Local\\Temp\\ipykernel_2308\\3488968663.py:39: PerformanceWarning: DataFrame is highly fragmented.  This is usually the result of calling `frame.insert` many times, which has poor performance.  Consider joining all columns at once using pd.concat(axis=1) instead. To get a de-fragmented frame, use `newframe = frame.copy()`\n",
      "  df[new_col_name] = data\n",
      "C:\\Users\\phgil\\AppData\\Local\\Temp\\ipykernel_2308\\3488968663.py:39: PerformanceWarning: DataFrame is highly fragmented.  This is usually the result of calling `frame.insert` many times, which has poor performance.  Consider joining all columns at once using pd.concat(axis=1) instead. To get a de-fragmented frame, use `newframe = frame.copy()`\n",
      "  df[new_col_name] = data\n",
      "C:\\Users\\phgil\\AppData\\Local\\Temp\\ipykernel_2308\\3488968663.py:39: PerformanceWarning: DataFrame is highly fragmented.  This is usually the result of calling `frame.insert` many times, which has poor performance.  Consider joining all columns at once using pd.concat(axis=1) instead. To get a de-fragmented frame, use `newframe = frame.copy()`\n",
      "  df[new_col_name] = data\n",
      "C:\\Users\\phgil\\AppData\\Local\\Temp\\ipykernel_2308\\3488968663.py:39: PerformanceWarning: DataFrame is highly fragmented.  This is usually the result of calling `frame.insert` many times, which has poor performance.  Consider joining all columns at once using pd.concat(axis=1) instead. To get a de-fragmented frame, use `newframe = frame.copy()`\n",
      "  df[new_col_name] = data\n",
      "C:\\Users\\phgil\\AppData\\Local\\Temp\\ipykernel_2308\\3488968663.py:39: PerformanceWarning: DataFrame is highly fragmented.  This is usually the result of calling `frame.insert` many times, which has poor performance.  Consider joining all columns at once using pd.concat(axis=1) instead. To get a de-fragmented frame, use `newframe = frame.copy()`\n",
      "  df[new_col_name] = data\n",
      "C:\\Users\\phgil\\AppData\\Local\\Temp\\ipykernel_2308\\3488968663.py:39: PerformanceWarning: DataFrame is highly fragmented.  This is usually the result of calling `frame.insert` many times, which has poor performance.  Consider joining all columns at once using pd.concat(axis=1) instead. To get a de-fragmented frame, use `newframe = frame.copy()`\n",
      "  df[new_col_name] = data\n",
      "C:\\Users\\phgil\\AppData\\Local\\Temp\\ipykernel_2308\\3488968663.py:39: PerformanceWarning: DataFrame is highly fragmented.  This is usually the result of calling `frame.insert` many times, which has poor performance.  Consider joining all columns at once using pd.concat(axis=1) instead. To get a de-fragmented frame, use `newframe = frame.copy()`\n",
      "  df[new_col_name] = data\n",
      "C:\\Users\\phgil\\AppData\\Local\\Temp\\ipykernel_2308\\3488968663.py:39: PerformanceWarning: DataFrame is highly fragmented.  This is usually the result of calling `frame.insert` many times, which has poor performance.  Consider joining all columns at once using pd.concat(axis=1) instead. To get a de-fragmented frame, use `newframe = frame.copy()`\n",
      "  df[new_col_name] = data\n",
      "C:\\Users\\phgil\\AppData\\Local\\Temp\\ipykernel_2308\\3488968663.py:39: PerformanceWarning: DataFrame is highly fragmented.  This is usually the result of calling `frame.insert` many times, which has poor performance.  Consider joining all columns at once using pd.concat(axis=1) instead. To get a de-fragmented frame, use `newframe = frame.copy()`\n",
      "  df[new_col_name] = data\n",
      "C:\\Users\\phgil\\AppData\\Local\\Temp\\ipykernel_2308\\3488968663.py:39: PerformanceWarning: DataFrame is highly fragmented.  This is usually the result of calling `frame.insert` many times, which has poor performance.  Consider joining all columns at once using pd.concat(axis=1) instead. To get a de-fragmented frame, use `newframe = frame.copy()`\n",
      "  df[new_col_name] = data\n",
      "C:\\Users\\phgil\\AppData\\Local\\Temp\\ipykernel_2308\\3488968663.py:39: PerformanceWarning: DataFrame is highly fragmented.  This is usually the result of calling `frame.insert` many times, which has poor performance.  Consider joining all columns at once using pd.concat(axis=1) instead. To get a de-fragmented frame, use `newframe = frame.copy()`\n",
      "  df[new_col_name] = data\n",
      "Expanding awkward array columns:  35%|███▍      | 19/55 [06:58<14:30, 24.18s/it]"
     ]
    },
    {
     "name": "stdout",
     "output_type": "stream",
     "text": [
      "  Time taken to expand jet_jvt: 25.34 seconds.\n",
      "\n",
      "Processing column: jet_trueflav\n",
      "  Maximum length of lists in jet_trueflav: 16\n"
     ]
    },
    {
     "name": "stderr",
     "output_type": "stream",
     "text": [
      "C:\\Users\\phgil\\AppData\\Local\\Temp\\ipykernel_2308\\3488968663.py:39: PerformanceWarning: DataFrame is highly fragmented.  This is usually the result of calling `frame.insert` many times, which has poor performance.  Consider joining all columns at once using pd.concat(axis=1) instead. To get a de-fragmented frame, use `newframe = frame.copy()`\n",
      "  df[new_col_name] = data\n",
      "C:\\Users\\phgil\\AppData\\Local\\Temp\\ipykernel_2308\\3488968663.py:39: PerformanceWarning: DataFrame is highly fragmented.  This is usually the result of calling `frame.insert` many times, which has poor performance.  Consider joining all columns at once using pd.concat(axis=1) instead. To get a de-fragmented frame, use `newframe = frame.copy()`\n",
      "  df[new_col_name] = data\n",
      "C:\\Users\\phgil\\AppData\\Local\\Temp\\ipykernel_2308\\3488968663.py:39: PerformanceWarning: DataFrame is highly fragmented.  This is usually the result of calling `frame.insert` many times, which has poor performance.  Consider joining all columns at once using pd.concat(axis=1) instead. To get a de-fragmented frame, use `newframe = frame.copy()`\n",
      "  df[new_col_name] = data\n",
      "C:\\Users\\phgil\\AppData\\Local\\Temp\\ipykernel_2308\\3488968663.py:39: PerformanceWarning: DataFrame is highly fragmented.  This is usually the result of calling `frame.insert` many times, which has poor performance.  Consider joining all columns at once using pd.concat(axis=1) instead. To get a de-fragmented frame, use `newframe = frame.copy()`\n",
      "  df[new_col_name] = data\n",
      "C:\\Users\\phgil\\AppData\\Local\\Temp\\ipykernel_2308\\3488968663.py:39: PerformanceWarning: DataFrame is highly fragmented.  This is usually the result of calling `frame.insert` many times, which has poor performance.  Consider joining all columns at once using pd.concat(axis=1) instead. To get a de-fragmented frame, use `newframe = frame.copy()`\n",
      "  df[new_col_name] = data\n",
      "C:\\Users\\phgil\\AppData\\Local\\Temp\\ipykernel_2308\\3488968663.py:39: PerformanceWarning: DataFrame is highly fragmented.  This is usually the result of calling `frame.insert` many times, which has poor performance.  Consider joining all columns at once using pd.concat(axis=1) instead. To get a de-fragmented frame, use `newframe = frame.copy()`\n",
      "  df[new_col_name] = data\n",
      "C:\\Users\\phgil\\AppData\\Local\\Temp\\ipykernel_2308\\3488968663.py:39: PerformanceWarning: DataFrame is highly fragmented.  This is usually the result of calling `frame.insert` many times, which has poor performance.  Consider joining all columns at once using pd.concat(axis=1) instead. To get a de-fragmented frame, use `newframe = frame.copy()`\n",
      "  df[new_col_name] = data\n",
      "C:\\Users\\phgil\\AppData\\Local\\Temp\\ipykernel_2308\\3488968663.py:39: PerformanceWarning: DataFrame is highly fragmented.  This is usually the result of calling `frame.insert` many times, which has poor performance.  Consider joining all columns at once using pd.concat(axis=1) instead. To get a de-fragmented frame, use `newframe = frame.copy()`\n",
      "  df[new_col_name] = data\n",
      "C:\\Users\\phgil\\AppData\\Local\\Temp\\ipykernel_2308\\3488968663.py:39: PerformanceWarning: DataFrame is highly fragmented.  This is usually the result of calling `frame.insert` many times, which has poor performance.  Consider joining all columns at once using pd.concat(axis=1) instead. To get a de-fragmented frame, use `newframe = frame.copy()`\n",
      "  df[new_col_name] = data\n",
      "C:\\Users\\phgil\\AppData\\Local\\Temp\\ipykernel_2308\\3488968663.py:39: PerformanceWarning: DataFrame is highly fragmented.  This is usually the result of calling `frame.insert` many times, which has poor performance.  Consider joining all columns at once using pd.concat(axis=1) instead. To get a de-fragmented frame, use `newframe = frame.copy()`\n",
      "  df[new_col_name] = data\n",
      "C:\\Users\\phgil\\AppData\\Local\\Temp\\ipykernel_2308\\3488968663.py:39: PerformanceWarning: DataFrame is highly fragmented.  This is usually the result of calling `frame.insert` many times, which has poor performance.  Consider joining all columns at once using pd.concat(axis=1) instead. To get a de-fragmented frame, use `newframe = frame.copy()`\n",
      "  df[new_col_name] = data\n",
      "C:\\Users\\phgil\\AppData\\Local\\Temp\\ipykernel_2308\\3488968663.py:39: PerformanceWarning: DataFrame is highly fragmented.  This is usually the result of calling `frame.insert` many times, which has poor performance.  Consider joining all columns at once using pd.concat(axis=1) instead. To get a de-fragmented frame, use `newframe = frame.copy()`\n",
      "  df[new_col_name] = data\n",
      "C:\\Users\\phgil\\AppData\\Local\\Temp\\ipykernel_2308\\3488968663.py:39: PerformanceWarning: DataFrame is highly fragmented.  This is usually the result of calling `frame.insert` many times, which has poor performance.  Consider joining all columns at once using pd.concat(axis=1) instead. To get a de-fragmented frame, use `newframe = frame.copy()`\n",
      "  df[new_col_name] = data\n",
      "C:\\Users\\phgil\\AppData\\Local\\Temp\\ipykernel_2308\\3488968663.py:39: PerformanceWarning: DataFrame is highly fragmented.  This is usually the result of calling `frame.insert` many times, which has poor performance.  Consider joining all columns at once using pd.concat(axis=1) instead. To get a de-fragmented frame, use `newframe = frame.copy()`\n",
      "  df[new_col_name] = data\n",
      "C:\\Users\\phgil\\AppData\\Local\\Temp\\ipykernel_2308\\3488968663.py:39: PerformanceWarning: DataFrame is highly fragmented.  This is usually the result of calling `frame.insert` many times, which has poor performance.  Consider joining all columns at once using pd.concat(axis=1) instead. To get a de-fragmented frame, use `newframe = frame.copy()`\n",
      "  df[new_col_name] = data\n",
      "C:\\Users\\phgil\\AppData\\Local\\Temp\\ipykernel_2308\\3488968663.py:39: PerformanceWarning: DataFrame is highly fragmented.  This is usually the result of calling `frame.insert` many times, which has poor performance.  Consider joining all columns at once using pd.concat(axis=1) instead. To get a de-fragmented frame, use `newframe = frame.copy()`\n",
      "  df[new_col_name] = data\n",
      "Expanding awkward array columns:  36%|███▋      | 20/55 [07:23<14:09, 24.28s/it]"
     ]
    },
    {
     "name": "stdout",
     "output_type": "stream",
     "text": [
      "  Time taken to expand jet_trueflav: 24.51 seconds.\n",
      "\n",
      "Processing column: jet_truthMatched\n",
      "  Maximum length of lists in jet_truthMatched: 16\n"
     ]
    },
    {
     "name": "stderr",
     "output_type": "stream",
     "text": [
      "C:\\Users\\phgil\\AppData\\Local\\Temp\\ipykernel_2308\\3488968663.py:39: PerformanceWarning: DataFrame is highly fragmented.  This is usually the result of calling `frame.insert` many times, which has poor performance.  Consider joining all columns at once using pd.concat(axis=1) instead. To get a de-fragmented frame, use `newframe = frame.copy()`\n",
      "  df[new_col_name] = data\n",
      "C:\\Users\\phgil\\AppData\\Local\\Temp\\ipykernel_2308\\3488968663.py:39: PerformanceWarning: DataFrame is highly fragmented.  This is usually the result of calling `frame.insert` many times, which has poor performance.  Consider joining all columns at once using pd.concat(axis=1) instead. To get a de-fragmented frame, use `newframe = frame.copy()`\n",
      "  df[new_col_name] = data\n",
      "C:\\Users\\phgil\\AppData\\Local\\Temp\\ipykernel_2308\\3488968663.py:39: PerformanceWarning: DataFrame is highly fragmented.  This is usually the result of calling `frame.insert` many times, which has poor performance.  Consider joining all columns at once using pd.concat(axis=1) instead. To get a de-fragmented frame, use `newframe = frame.copy()`\n",
      "  df[new_col_name] = data\n",
      "C:\\Users\\phgil\\AppData\\Local\\Temp\\ipykernel_2308\\3488968663.py:39: PerformanceWarning: DataFrame is highly fragmented.  This is usually the result of calling `frame.insert` many times, which has poor performance.  Consider joining all columns at once using pd.concat(axis=1) instead. To get a de-fragmented frame, use `newframe = frame.copy()`\n",
      "  df[new_col_name] = data\n",
      "C:\\Users\\phgil\\AppData\\Local\\Temp\\ipykernel_2308\\3488968663.py:39: PerformanceWarning: DataFrame is highly fragmented.  This is usually the result of calling `frame.insert` many times, which has poor performance.  Consider joining all columns at once using pd.concat(axis=1) instead. To get a de-fragmented frame, use `newframe = frame.copy()`\n",
      "  df[new_col_name] = data\n",
      "C:\\Users\\phgil\\AppData\\Local\\Temp\\ipykernel_2308\\3488968663.py:39: PerformanceWarning: DataFrame is highly fragmented.  This is usually the result of calling `frame.insert` many times, which has poor performance.  Consider joining all columns at once using pd.concat(axis=1) instead. To get a de-fragmented frame, use `newframe = frame.copy()`\n",
      "  df[new_col_name] = data\n",
      "C:\\Users\\phgil\\AppData\\Local\\Temp\\ipykernel_2308\\3488968663.py:39: PerformanceWarning: DataFrame is highly fragmented.  This is usually the result of calling `frame.insert` many times, which has poor performance.  Consider joining all columns at once using pd.concat(axis=1) instead. To get a de-fragmented frame, use `newframe = frame.copy()`\n",
      "  df[new_col_name] = data\n",
      "C:\\Users\\phgil\\AppData\\Local\\Temp\\ipykernel_2308\\3488968663.py:39: PerformanceWarning: DataFrame is highly fragmented.  This is usually the result of calling `frame.insert` many times, which has poor performance.  Consider joining all columns at once using pd.concat(axis=1) instead. To get a de-fragmented frame, use `newframe = frame.copy()`\n",
      "  df[new_col_name] = data\n",
      "C:\\Users\\phgil\\AppData\\Local\\Temp\\ipykernel_2308\\3488968663.py:39: PerformanceWarning: DataFrame is highly fragmented.  This is usually the result of calling `frame.insert` many times, which has poor performance.  Consider joining all columns at once using pd.concat(axis=1) instead. To get a de-fragmented frame, use `newframe = frame.copy()`\n",
      "  df[new_col_name] = data\n",
      "C:\\Users\\phgil\\AppData\\Local\\Temp\\ipykernel_2308\\3488968663.py:39: PerformanceWarning: DataFrame is highly fragmented.  This is usually the result of calling `frame.insert` many times, which has poor performance.  Consider joining all columns at once using pd.concat(axis=1) instead. To get a de-fragmented frame, use `newframe = frame.copy()`\n",
      "  df[new_col_name] = data\n",
      "C:\\Users\\phgil\\AppData\\Local\\Temp\\ipykernel_2308\\3488968663.py:39: PerformanceWarning: DataFrame is highly fragmented.  This is usually the result of calling `frame.insert` many times, which has poor performance.  Consider joining all columns at once using pd.concat(axis=1) instead. To get a de-fragmented frame, use `newframe = frame.copy()`\n",
      "  df[new_col_name] = data\n",
      "C:\\Users\\phgil\\AppData\\Local\\Temp\\ipykernel_2308\\3488968663.py:39: PerformanceWarning: DataFrame is highly fragmented.  This is usually the result of calling `frame.insert` many times, which has poor performance.  Consider joining all columns at once using pd.concat(axis=1) instead. To get a de-fragmented frame, use `newframe = frame.copy()`\n",
      "  df[new_col_name] = data\n",
      "C:\\Users\\phgil\\AppData\\Local\\Temp\\ipykernel_2308\\3488968663.py:39: PerformanceWarning: DataFrame is highly fragmented.  This is usually the result of calling `frame.insert` many times, which has poor performance.  Consider joining all columns at once using pd.concat(axis=1) instead. To get a de-fragmented frame, use `newframe = frame.copy()`\n",
      "  df[new_col_name] = data\n",
      "C:\\Users\\phgil\\AppData\\Local\\Temp\\ipykernel_2308\\3488968663.py:39: PerformanceWarning: DataFrame is highly fragmented.  This is usually the result of calling `frame.insert` many times, which has poor performance.  Consider joining all columns at once using pd.concat(axis=1) instead. To get a de-fragmented frame, use `newframe = frame.copy()`\n",
      "  df[new_col_name] = data\n",
      "C:\\Users\\phgil\\AppData\\Local\\Temp\\ipykernel_2308\\3488968663.py:39: PerformanceWarning: DataFrame is highly fragmented.  This is usually the result of calling `frame.insert` many times, which has poor performance.  Consider joining all columns at once using pd.concat(axis=1) instead. To get a de-fragmented frame, use `newframe = frame.copy()`\n",
      "  df[new_col_name] = data\n",
      "C:\\Users\\phgil\\AppData\\Local\\Temp\\ipykernel_2308\\3488968663.py:39: PerformanceWarning: DataFrame is highly fragmented.  This is usually the result of calling `frame.insert` many times, which has poor performance.  Consider joining all columns at once using pd.concat(axis=1) instead. To get a de-fragmented frame, use `newframe = frame.copy()`\n",
      "  df[new_col_name] = data\n",
      "Expanding awkward array columns:  38%|███▊      | 21/55 [07:47<13:41, 24.16s/it]"
     ]
    },
    {
     "name": "stdout",
     "output_type": "stream",
     "text": [
      "  Time taken to expand jet_truthMatched: 23.89 seconds.\n",
      "\n",
      "Processing column: jet_MV2c10\n",
      "  Maximum length of lists in jet_MV2c10: 16\n"
     ]
    },
    {
     "name": "stderr",
     "output_type": "stream",
     "text": [
      "C:\\Users\\phgil\\AppData\\Local\\Temp\\ipykernel_2308\\3488968663.py:39: PerformanceWarning: DataFrame is highly fragmented.  This is usually the result of calling `frame.insert` many times, which has poor performance.  Consider joining all columns at once using pd.concat(axis=1) instead. To get a de-fragmented frame, use `newframe = frame.copy()`\n",
      "  df[new_col_name] = data\n",
      "C:\\Users\\phgil\\AppData\\Local\\Temp\\ipykernel_2308\\3488968663.py:39: PerformanceWarning: DataFrame is highly fragmented.  This is usually the result of calling `frame.insert` many times, which has poor performance.  Consider joining all columns at once using pd.concat(axis=1) instead. To get a de-fragmented frame, use `newframe = frame.copy()`\n",
      "  df[new_col_name] = data\n",
      "C:\\Users\\phgil\\AppData\\Local\\Temp\\ipykernel_2308\\3488968663.py:39: PerformanceWarning: DataFrame is highly fragmented.  This is usually the result of calling `frame.insert` many times, which has poor performance.  Consider joining all columns at once using pd.concat(axis=1) instead. To get a de-fragmented frame, use `newframe = frame.copy()`\n",
      "  df[new_col_name] = data\n",
      "C:\\Users\\phgil\\AppData\\Local\\Temp\\ipykernel_2308\\3488968663.py:39: PerformanceWarning: DataFrame is highly fragmented.  This is usually the result of calling `frame.insert` many times, which has poor performance.  Consider joining all columns at once using pd.concat(axis=1) instead. To get a de-fragmented frame, use `newframe = frame.copy()`\n",
      "  df[new_col_name] = data\n",
      "C:\\Users\\phgil\\AppData\\Local\\Temp\\ipykernel_2308\\3488968663.py:39: PerformanceWarning: DataFrame is highly fragmented.  This is usually the result of calling `frame.insert` many times, which has poor performance.  Consider joining all columns at once using pd.concat(axis=1) instead. To get a de-fragmented frame, use `newframe = frame.copy()`\n",
      "  df[new_col_name] = data\n",
      "C:\\Users\\phgil\\AppData\\Local\\Temp\\ipykernel_2308\\3488968663.py:39: PerformanceWarning: DataFrame is highly fragmented.  This is usually the result of calling `frame.insert` many times, which has poor performance.  Consider joining all columns at once using pd.concat(axis=1) instead. To get a de-fragmented frame, use `newframe = frame.copy()`\n",
      "  df[new_col_name] = data\n",
      "C:\\Users\\phgil\\AppData\\Local\\Temp\\ipykernel_2308\\3488968663.py:39: PerformanceWarning: DataFrame is highly fragmented.  This is usually the result of calling `frame.insert` many times, which has poor performance.  Consider joining all columns at once using pd.concat(axis=1) instead. To get a de-fragmented frame, use `newframe = frame.copy()`\n",
      "  df[new_col_name] = data\n",
      "C:\\Users\\phgil\\AppData\\Local\\Temp\\ipykernel_2308\\3488968663.py:39: PerformanceWarning: DataFrame is highly fragmented.  This is usually the result of calling `frame.insert` many times, which has poor performance.  Consider joining all columns at once using pd.concat(axis=1) instead. To get a de-fragmented frame, use `newframe = frame.copy()`\n",
      "  df[new_col_name] = data\n",
      "C:\\Users\\phgil\\AppData\\Local\\Temp\\ipykernel_2308\\3488968663.py:39: PerformanceWarning: DataFrame is highly fragmented.  This is usually the result of calling `frame.insert` many times, which has poor performance.  Consider joining all columns at once using pd.concat(axis=1) instead. To get a de-fragmented frame, use `newframe = frame.copy()`\n",
      "  df[new_col_name] = data\n",
      "C:\\Users\\phgil\\AppData\\Local\\Temp\\ipykernel_2308\\3488968663.py:39: PerformanceWarning: DataFrame is highly fragmented.  This is usually the result of calling `frame.insert` many times, which has poor performance.  Consider joining all columns at once using pd.concat(axis=1) instead. To get a de-fragmented frame, use `newframe = frame.copy()`\n",
      "  df[new_col_name] = data\n",
      "C:\\Users\\phgil\\AppData\\Local\\Temp\\ipykernel_2308\\3488968663.py:39: PerformanceWarning: DataFrame is highly fragmented.  This is usually the result of calling `frame.insert` many times, which has poor performance.  Consider joining all columns at once using pd.concat(axis=1) instead. To get a de-fragmented frame, use `newframe = frame.copy()`\n",
      "  df[new_col_name] = data\n",
      "C:\\Users\\phgil\\AppData\\Local\\Temp\\ipykernel_2308\\3488968663.py:39: PerformanceWarning: DataFrame is highly fragmented.  This is usually the result of calling `frame.insert` many times, which has poor performance.  Consider joining all columns at once using pd.concat(axis=1) instead. To get a de-fragmented frame, use `newframe = frame.copy()`\n",
      "  df[new_col_name] = data\n",
      "C:\\Users\\phgil\\AppData\\Local\\Temp\\ipykernel_2308\\3488968663.py:39: PerformanceWarning: DataFrame is highly fragmented.  This is usually the result of calling `frame.insert` many times, which has poor performance.  Consider joining all columns at once using pd.concat(axis=1) instead. To get a de-fragmented frame, use `newframe = frame.copy()`\n",
      "  df[new_col_name] = data\n",
      "C:\\Users\\phgil\\AppData\\Local\\Temp\\ipykernel_2308\\3488968663.py:39: PerformanceWarning: DataFrame is highly fragmented.  This is usually the result of calling `frame.insert` many times, which has poor performance.  Consider joining all columns at once using pd.concat(axis=1) instead. To get a de-fragmented frame, use `newframe = frame.copy()`\n",
      "  df[new_col_name] = data\n",
      "C:\\Users\\phgil\\AppData\\Local\\Temp\\ipykernel_2308\\3488968663.py:39: PerformanceWarning: DataFrame is highly fragmented.  This is usually the result of calling `frame.insert` many times, which has poor performance.  Consider joining all columns at once using pd.concat(axis=1) instead. To get a de-fragmented frame, use `newframe = frame.copy()`\n",
      "  df[new_col_name] = data\n",
      "C:\\Users\\phgil\\AppData\\Local\\Temp\\ipykernel_2308\\3488968663.py:39: PerformanceWarning: DataFrame is highly fragmented.  This is usually the result of calling `frame.insert` many times, which has poor performance.  Consider joining all columns at once using pd.concat(axis=1) instead. To get a de-fragmented frame, use `newframe = frame.copy()`\n",
      "  df[new_col_name] = data\n",
      "Expanding awkward array columns:  40%|████      | 22/55 [08:13<13:40, 24.87s/it]"
     ]
    },
    {
     "name": "stdout",
     "output_type": "stream",
     "text": [
      "  Time taken to expand jet_MV2c10: 26.50 seconds.\n",
      "\n",
      "Processing column: photon_truthMatched\n",
      "  Maximum length of lists in photon_truthMatched: 5\n"
     ]
    },
    {
     "name": "stderr",
     "output_type": "stream",
     "text": [
      "C:\\Users\\phgil\\AppData\\Local\\Temp\\ipykernel_2308\\3488968663.py:39: PerformanceWarning: DataFrame is highly fragmented.  This is usually the result of calling `frame.insert` many times, which has poor performance.  Consider joining all columns at once using pd.concat(axis=1) instead. To get a de-fragmented frame, use `newframe = frame.copy()`\n",
      "  df[new_col_name] = data\n",
      "C:\\Users\\phgil\\AppData\\Local\\Temp\\ipykernel_2308\\3488968663.py:39: PerformanceWarning: DataFrame is highly fragmented.  This is usually the result of calling `frame.insert` many times, which has poor performance.  Consider joining all columns at once using pd.concat(axis=1) instead. To get a de-fragmented frame, use `newframe = frame.copy()`\n",
      "  df[new_col_name] = data\n",
      "C:\\Users\\phgil\\AppData\\Local\\Temp\\ipykernel_2308\\3488968663.py:39: PerformanceWarning: DataFrame is highly fragmented.  This is usually the result of calling `frame.insert` many times, which has poor performance.  Consider joining all columns at once using pd.concat(axis=1) instead. To get a de-fragmented frame, use `newframe = frame.copy()`\n",
      "  df[new_col_name] = data\n",
      "C:\\Users\\phgil\\AppData\\Local\\Temp\\ipykernel_2308\\3488968663.py:39: PerformanceWarning: DataFrame is highly fragmented.  This is usually the result of calling `frame.insert` many times, which has poor performance.  Consider joining all columns at once using pd.concat(axis=1) instead. To get a de-fragmented frame, use `newframe = frame.copy()`\n",
      "  df[new_col_name] = data\n",
      "C:\\Users\\phgil\\AppData\\Local\\Temp\\ipykernel_2308\\3488968663.py:39: PerformanceWarning: DataFrame is highly fragmented.  This is usually the result of calling `frame.insert` many times, which has poor performance.  Consider joining all columns at once using pd.concat(axis=1) instead. To get a de-fragmented frame, use `newframe = frame.copy()`\n",
      "  df[new_col_name] = data\n",
      "Expanding awkward array columns:  42%|████▏     | 23/55 [08:36<12:52, 24.16s/it]"
     ]
    },
    {
     "name": "stdout",
     "output_type": "stream",
     "text": [
      "  Time taken to expand photon_truthMatched: 22.50 seconds.\n",
      "\n",
      "Processing column: photon_trigMatched\n",
      "  Maximum length of lists in photon_trigMatched: 5\n"
     ]
    },
    {
     "name": "stderr",
     "output_type": "stream",
     "text": [
      "C:\\Users\\phgil\\AppData\\Local\\Temp\\ipykernel_2308\\3488968663.py:39: PerformanceWarning: DataFrame is highly fragmented.  This is usually the result of calling `frame.insert` many times, which has poor performance.  Consider joining all columns at once using pd.concat(axis=1) instead. To get a de-fragmented frame, use `newframe = frame.copy()`\n",
      "  df[new_col_name] = data\n",
      "C:\\Users\\phgil\\AppData\\Local\\Temp\\ipykernel_2308\\3488968663.py:39: PerformanceWarning: DataFrame is highly fragmented.  This is usually the result of calling `frame.insert` many times, which has poor performance.  Consider joining all columns at once using pd.concat(axis=1) instead. To get a de-fragmented frame, use `newframe = frame.copy()`\n",
      "  df[new_col_name] = data\n",
      "C:\\Users\\phgil\\AppData\\Local\\Temp\\ipykernel_2308\\3488968663.py:39: PerformanceWarning: DataFrame is highly fragmented.  This is usually the result of calling `frame.insert` many times, which has poor performance.  Consider joining all columns at once using pd.concat(axis=1) instead. To get a de-fragmented frame, use `newframe = frame.copy()`\n",
      "  df[new_col_name] = data\n",
      "C:\\Users\\phgil\\AppData\\Local\\Temp\\ipykernel_2308\\3488968663.py:39: PerformanceWarning: DataFrame is highly fragmented.  This is usually the result of calling `frame.insert` many times, which has poor performance.  Consider joining all columns at once using pd.concat(axis=1) instead. To get a de-fragmented frame, use `newframe = frame.copy()`\n",
      "  df[new_col_name] = data\n",
      "C:\\Users\\phgil\\AppData\\Local\\Temp\\ipykernel_2308\\3488968663.py:39: PerformanceWarning: DataFrame is highly fragmented.  This is usually the result of calling `frame.insert` many times, which has poor performance.  Consider joining all columns at once using pd.concat(axis=1) instead. To get a de-fragmented frame, use `newframe = frame.copy()`\n",
      "  df[new_col_name] = data\n",
      "Expanding awkward array columns:  44%|████▎     | 24/55 [08:57<12:04, 23.36s/it]"
     ]
    },
    {
     "name": "stdout",
     "output_type": "stream",
     "text": [
      "  Time taken to expand photon_trigMatched: 21.48 seconds.\n",
      "\n",
      "Processing column: photon_pt\n",
      "  Maximum length of lists in photon_pt: 5\n"
     ]
    },
    {
     "name": "stderr",
     "output_type": "stream",
     "text": [
      "C:\\Users\\phgil\\AppData\\Local\\Temp\\ipykernel_2308\\3488968663.py:39: PerformanceWarning: DataFrame is highly fragmented.  This is usually the result of calling `frame.insert` many times, which has poor performance.  Consider joining all columns at once using pd.concat(axis=1) instead. To get a de-fragmented frame, use `newframe = frame.copy()`\n",
      "  df[new_col_name] = data\n",
      "C:\\Users\\phgil\\AppData\\Local\\Temp\\ipykernel_2308\\3488968663.py:39: PerformanceWarning: DataFrame is highly fragmented.  This is usually the result of calling `frame.insert` many times, which has poor performance.  Consider joining all columns at once using pd.concat(axis=1) instead. To get a de-fragmented frame, use `newframe = frame.copy()`\n",
      "  df[new_col_name] = data\n",
      "C:\\Users\\phgil\\AppData\\Local\\Temp\\ipykernel_2308\\3488968663.py:39: PerformanceWarning: DataFrame is highly fragmented.  This is usually the result of calling `frame.insert` many times, which has poor performance.  Consider joining all columns at once using pd.concat(axis=1) instead. To get a de-fragmented frame, use `newframe = frame.copy()`\n",
      "  df[new_col_name] = data\n",
      "C:\\Users\\phgil\\AppData\\Local\\Temp\\ipykernel_2308\\3488968663.py:39: PerformanceWarning: DataFrame is highly fragmented.  This is usually the result of calling `frame.insert` many times, which has poor performance.  Consider joining all columns at once using pd.concat(axis=1) instead. To get a de-fragmented frame, use `newframe = frame.copy()`\n",
      "  df[new_col_name] = data\n",
      "C:\\Users\\phgil\\AppData\\Local\\Temp\\ipykernel_2308\\3488968663.py:39: PerformanceWarning: DataFrame is highly fragmented.  This is usually the result of calling `frame.insert` many times, which has poor performance.  Consider joining all columns at once using pd.concat(axis=1) instead. To get a de-fragmented frame, use `newframe = frame.copy()`\n",
      "  df[new_col_name] = data\n",
      "Expanding awkward array columns:  45%|████▌     | 25/55 [09:19<11:24, 22.82s/it]"
     ]
    },
    {
     "name": "stdout",
     "output_type": "stream",
     "text": [
      "  Time taken to expand photon_pt: 21.56 seconds.\n",
      "\n",
      "Processing column: photon_eta\n",
      "  Maximum length of lists in photon_eta: 5\n"
     ]
    },
    {
     "name": "stderr",
     "output_type": "stream",
     "text": [
      "C:\\Users\\phgil\\AppData\\Local\\Temp\\ipykernel_2308\\3488968663.py:39: PerformanceWarning: DataFrame is highly fragmented.  This is usually the result of calling `frame.insert` many times, which has poor performance.  Consider joining all columns at once using pd.concat(axis=1) instead. To get a de-fragmented frame, use `newframe = frame.copy()`\n",
      "  df[new_col_name] = data\n",
      "C:\\Users\\phgil\\AppData\\Local\\Temp\\ipykernel_2308\\3488968663.py:39: PerformanceWarning: DataFrame is highly fragmented.  This is usually the result of calling `frame.insert` many times, which has poor performance.  Consider joining all columns at once using pd.concat(axis=1) instead. To get a de-fragmented frame, use `newframe = frame.copy()`\n",
      "  df[new_col_name] = data\n",
      "C:\\Users\\phgil\\AppData\\Local\\Temp\\ipykernel_2308\\3488968663.py:39: PerformanceWarning: DataFrame is highly fragmented.  This is usually the result of calling `frame.insert` many times, which has poor performance.  Consider joining all columns at once using pd.concat(axis=1) instead. To get a de-fragmented frame, use `newframe = frame.copy()`\n",
      "  df[new_col_name] = data\n",
      "C:\\Users\\phgil\\AppData\\Local\\Temp\\ipykernel_2308\\3488968663.py:39: PerformanceWarning: DataFrame is highly fragmented.  This is usually the result of calling `frame.insert` many times, which has poor performance.  Consider joining all columns at once using pd.concat(axis=1) instead. To get a de-fragmented frame, use `newframe = frame.copy()`\n",
      "  df[new_col_name] = data\n",
      "C:\\Users\\phgil\\AppData\\Local\\Temp\\ipykernel_2308\\3488968663.py:39: PerformanceWarning: DataFrame is highly fragmented.  This is usually the result of calling `frame.insert` many times, which has poor performance.  Consider joining all columns at once using pd.concat(axis=1) instead. To get a de-fragmented frame, use `newframe = frame.copy()`\n",
      "  df[new_col_name] = data\n",
      "Expanding awkward array columns:  47%|████▋     | 26/55 [09:41<10:55, 22.59s/it]"
     ]
    },
    {
     "name": "stdout",
     "output_type": "stream",
     "text": [
      "  Time taken to expand photon_eta: 22.06 seconds.\n",
      "\n",
      "Processing column: photon_phi\n",
      "  Maximum length of lists in photon_phi: 5\n"
     ]
    },
    {
     "name": "stderr",
     "output_type": "stream",
     "text": [
      "C:\\Users\\phgil\\AppData\\Local\\Temp\\ipykernel_2308\\3488968663.py:39: PerformanceWarning: DataFrame is highly fragmented.  This is usually the result of calling `frame.insert` many times, which has poor performance.  Consider joining all columns at once using pd.concat(axis=1) instead. To get a de-fragmented frame, use `newframe = frame.copy()`\n",
      "  df[new_col_name] = data\n",
      "C:\\Users\\phgil\\AppData\\Local\\Temp\\ipykernel_2308\\3488968663.py:39: PerformanceWarning: DataFrame is highly fragmented.  This is usually the result of calling `frame.insert` many times, which has poor performance.  Consider joining all columns at once using pd.concat(axis=1) instead. To get a de-fragmented frame, use `newframe = frame.copy()`\n",
      "  df[new_col_name] = data\n",
      "C:\\Users\\phgil\\AppData\\Local\\Temp\\ipykernel_2308\\3488968663.py:39: PerformanceWarning: DataFrame is highly fragmented.  This is usually the result of calling `frame.insert` many times, which has poor performance.  Consider joining all columns at once using pd.concat(axis=1) instead. To get a de-fragmented frame, use `newframe = frame.copy()`\n",
      "  df[new_col_name] = data\n",
      "C:\\Users\\phgil\\AppData\\Local\\Temp\\ipykernel_2308\\3488968663.py:39: PerformanceWarning: DataFrame is highly fragmented.  This is usually the result of calling `frame.insert` many times, which has poor performance.  Consider joining all columns at once using pd.concat(axis=1) instead. To get a de-fragmented frame, use `newframe = frame.copy()`\n",
      "  df[new_col_name] = data\n",
      "C:\\Users\\phgil\\AppData\\Local\\Temp\\ipykernel_2308\\3488968663.py:39: PerformanceWarning: DataFrame is highly fragmented.  This is usually the result of calling `frame.insert` many times, which has poor performance.  Consider joining all columns at once using pd.concat(axis=1) instead. To get a de-fragmented frame, use `newframe = frame.copy()`\n",
      "  df[new_col_name] = data\n",
      "Expanding awkward array columns:  49%|████▉     | 27/55 [10:03<10:24, 22.32s/it]"
     ]
    },
    {
     "name": "stdout",
     "output_type": "stream",
     "text": [
      "  Time taken to expand photon_phi: 21.68 seconds.\n",
      "\n",
      "Processing column: photon_E\n",
      "  Maximum length of lists in photon_E: 5\n"
     ]
    },
    {
     "name": "stderr",
     "output_type": "stream",
     "text": [
      "C:\\Users\\phgil\\AppData\\Local\\Temp\\ipykernel_2308\\3488968663.py:39: PerformanceWarning: DataFrame is highly fragmented.  This is usually the result of calling `frame.insert` many times, which has poor performance.  Consider joining all columns at once using pd.concat(axis=1) instead. To get a de-fragmented frame, use `newframe = frame.copy()`\n",
      "  df[new_col_name] = data\n",
      "C:\\Users\\phgil\\AppData\\Local\\Temp\\ipykernel_2308\\3488968663.py:39: PerformanceWarning: DataFrame is highly fragmented.  This is usually the result of calling `frame.insert` many times, which has poor performance.  Consider joining all columns at once using pd.concat(axis=1) instead. To get a de-fragmented frame, use `newframe = frame.copy()`\n",
      "  df[new_col_name] = data\n",
      "C:\\Users\\phgil\\AppData\\Local\\Temp\\ipykernel_2308\\3488968663.py:39: PerformanceWarning: DataFrame is highly fragmented.  This is usually the result of calling `frame.insert` many times, which has poor performance.  Consider joining all columns at once using pd.concat(axis=1) instead. To get a de-fragmented frame, use `newframe = frame.copy()`\n",
      "  df[new_col_name] = data\n",
      "C:\\Users\\phgil\\AppData\\Local\\Temp\\ipykernel_2308\\3488968663.py:39: PerformanceWarning: DataFrame is highly fragmented.  This is usually the result of calling `frame.insert` many times, which has poor performance.  Consider joining all columns at once using pd.concat(axis=1) instead. To get a de-fragmented frame, use `newframe = frame.copy()`\n",
      "  df[new_col_name] = data\n",
      "C:\\Users\\phgil\\AppData\\Local\\Temp\\ipykernel_2308\\3488968663.py:39: PerformanceWarning: DataFrame is highly fragmented.  This is usually the result of calling `frame.insert` many times, which has poor performance.  Consider joining all columns at once using pd.concat(axis=1) instead. To get a de-fragmented frame, use `newframe = frame.copy()`\n",
      "  df[new_col_name] = data\n",
      "Expanding awkward array columns:  51%|█████     | 28/55 [10:25<10:07, 22.48s/it]"
     ]
    },
    {
     "name": "stdout",
     "output_type": "stream",
     "text": [
      "  Time taken to expand photon_E: 22.86 seconds.\n",
      "\n",
      "Processing column: photon_isTightID\n",
      "  Maximum length of lists in photon_isTightID: 5\n"
     ]
    },
    {
     "name": "stderr",
     "output_type": "stream",
     "text": [
      "C:\\Users\\phgil\\AppData\\Local\\Temp\\ipykernel_2308\\3488968663.py:39: PerformanceWarning: DataFrame is highly fragmented.  This is usually the result of calling `frame.insert` many times, which has poor performance.  Consider joining all columns at once using pd.concat(axis=1) instead. To get a de-fragmented frame, use `newframe = frame.copy()`\n",
      "  df[new_col_name] = data\n",
      "C:\\Users\\phgil\\AppData\\Local\\Temp\\ipykernel_2308\\3488968663.py:39: PerformanceWarning: DataFrame is highly fragmented.  This is usually the result of calling `frame.insert` many times, which has poor performance.  Consider joining all columns at once using pd.concat(axis=1) instead. To get a de-fragmented frame, use `newframe = frame.copy()`\n",
      "  df[new_col_name] = data\n",
      "C:\\Users\\phgil\\AppData\\Local\\Temp\\ipykernel_2308\\3488968663.py:39: PerformanceWarning: DataFrame is highly fragmented.  This is usually the result of calling `frame.insert` many times, which has poor performance.  Consider joining all columns at once using pd.concat(axis=1) instead. To get a de-fragmented frame, use `newframe = frame.copy()`\n",
      "  df[new_col_name] = data\n",
      "C:\\Users\\phgil\\AppData\\Local\\Temp\\ipykernel_2308\\3488968663.py:39: PerformanceWarning: DataFrame is highly fragmented.  This is usually the result of calling `frame.insert` many times, which has poor performance.  Consider joining all columns at once using pd.concat(axis=1) instead. To get a de-fragmented frame, use `newframe = frame.copy()`\n",
      "  df[new_col_name] = data\n",
      "C:\\Users\\phgil\\AppData\\Local\\Temp\\ipykernel_2308\\3488968663.py:39: PerformanceWarning: DataFrame is highly fragmented.  This is usually the result of calling `frame.insert` many times, which has poor performance.  Consider joining all columns at once using pd.concat(axis=1) instead. To get a de-fragmented frame, use `newframe = frame.copy()`\n",
      "  df[new_col_name] = data\n",
      "Expanding awkward array columns:  53%|█████▎    | 29/55 [10:47<09:38, 22.24s/it]"
     ]
    },
    {
     "name": "stdout",
     "output_type": "stream",
     "text": [
      "  Time taken to expand photon_isTightID: 21.68 seconds.\n",
      "\n",
      "Processing column: photon_ptcone30\n",
      "  Maximum length of lists in photon_ptcone30: 5\n"
     ]
    },
    {
     "name": "stderr",
     "output_type": "stream",
     "text": [
      "C:\\Users\\phgil\\AppData\\Local\\Temp\\ipykernel_2308\\3488968663.py:39: PerformanceWarning: DataFrame is highly fragmented.  This is usually the result of calling `frame.insert` many times, which has poor performance.  Consider joining all columns at once using pd.concat(axis=1) instead. To get a de-fragmented frame, use `newframe = frame.copy()`\n",
      "  df[new_col_name] = data\n",
      "C:\\Users\\phgil\\AppData\\Local\\Temp\\ipykernel_2308\\3488968663.py:39: PerformanceWarning: DataFrame is highly fragmented.  This is usually the result of calling `frame.insert` many times, which has poor performance.  Consider joining all columns at once using pd.concat(axis=1) instead. To get a de-fragmented frame, use `newframe = frame.copy()`\n",
      "  df[new_col_name] = data\n",
      "C:\\Users\\phgil\\AppData\\Local\\Temp\\ipykernel_2308\\3488968663.py:39: PerformanceWarning: DataFrame is highly fragmented.  This is usually the result of calling `frame.insert` many times, which has poor performance.  Consider joining all columns at once using pd.concat(axis=1) instead. To get a de-fragmented frame, use `newframe = frame.copy()`\n",
      "  df[new_col_name] = data\n",
      "C:\\Users\\phgil\\AppData\\Local\\Temp\\ipykernel_2308\\3488968663.py:39: PerformanceWarning: DataFrame is highly fragmented.  This is usually the result of calling `frame.insert` many times, which has poor performance.  Consider joining all columns at once using pd.concat(axis=1) instead. To get a de-fragmented frame, use `newframe = frame.copy()`\n",
      "  df[new_col_name] = data\n",
      "C:\\Users\\phgil\\AppData\\Local\\Temp\\ipykernel_2308\\3488968663.py:39: PerformanceWarning: DataFrame is highly fragmented.  This is usually the result of calling `frame.insert` many times, which has poor performance.  Consider joining all columns at once using pd.concat(axis=1) instead. To get a de-fragmented frame, use `newframe = frame.copy()`\n",
      "  df[new_col_name] = data\n",
      "Expanding awkward array columns:  55%|█████▍    | 30/55 [11:09<09:14, 22.17s/it]"
     ]
    },
    {
     "name": "stdout",
     "output_type": "stream",
     "text": [
      "  Time taken to expand photon_ptcone30: 22.00 seconds.\n",
      "\n",
      "Processing column: photon_etcone20\n",
      "  Maximum length of lists in photon_etcone20: 5\n"
     ]
    },
    {
     "name": "stderr",
     "output_type": "stream",
     "text": [
      "C:\\Users\\phgil\\AppData\\Local\\Temp\\ipykernel_2308\\3488968663.py:39: PerformanceWarning: DataFrame is highly fragmented.  This is usually the result of calling `frame.insert` many times, which has poor performance.  Consider joining all columns at once using pd.concat(axis=1) instead. To get a de-fragmented frame, use `newframe = frame.copy()`\n",
      "  df[new_col_name] = data\n",
      "C:\\Users\\phgil\\AppData\\Local\\Temp\\ipykernel_2308\\3488968663.py:39: PerformanceWarning: DataFrame is highly fragmented.  This is usually the result of calling `frame.insert` many times, which has poor performance.  Consider joining all columns at once using pd.concat(axis=1) instead. To get a de-fragmented frame, use `newframe = frame.copy()`\n",
      "  df[new_col_name] = data\n",
      "C:\\Users\\phgil\\AppData\\Local\\Temp\\ipykernel_2308\\3488968663.py:39: PerformanceWarning: DataFrame is highly fragmented.  This is usually the result of calling `frame.insert` many times, which has poor performance.  Consider joining all columns at once using pd.concat(axis=1) instead. To get a de-fragmented frame, use `newframe = frame.copy()`\n",
      "  df[new_col_name] = data\n",
      "C:\\Users\\phgil\\AppData\\Local\\Temp\\ipykernel_2308\\3488968663.py:39: PerformanceWarning: DataFrame is highly fragmented.  This is usually the result of calling `frame.insert` many times, which has poor performance.  Consider joining all columns at once using pd.concat(axis=1) instead. To get a de-fragmented frame, use `newframe = frame.copy()`\n",
      "  df[new_col_name] = data\n",
      "C:\\Users\\phgil\\AppData\\Local\\Temp\\ipykernel_2308\\3488968663.py:39: PerformanceWarning: DataFrame is highly fragmented.  This is usually the result of calling `frame.insert` many times, which has poor performance.  Consider joining all columns at once using pd.concat(axis=1) instead. To get a de-fragmented frame, use `newframe = frame.copy()`\n",
      "  df[new_col_name] = data\n",
      "Expanding awkward array columns:  56%|█████▋    | 31/55 [11:31<08:46, 21.94s/it]"
     ]
    },
    {
     "name": "stdout",
     "output_type": "stream",
     "text": [
      "  Time taken to expand photon_etcone20: 21.41 seconds.\n",
      "\n",
      "Processing column: photon_convType\n",
      "  Maximum length of lists in photon_convType: 5\n"
     ]
    },
    {
     "name": "stderr",
     "output_type": "stream",
     "text": [
      "C:\\Users\\phgil\\AppData\\Local\\Temp\\ipykernel_2308\\3488968663.py:39: PerformanceWarning: DataFrame is highly fragmented.  This is usually the result of calling `frame.insert` many times, which has poor performance.  Consider joining all columns at once using pd.concat(axis=1) instead. To get a de-fragmented frame, use `newframe = frame.copy()`\n",
      "  df[new_col_name] = data\n",
      "C:\\Users\\phgil\\AppData\\Local\\Temp\\ipykernel_2308\\3488968663.py:39: PerformanceWarning: DataFrame is highly fragmented.  This is usually the result of calling `frame.insert` many times, which has poor performance.  Consider joining all columns at once using pd.concat(axis=1) instead. To get a de-fragmented frame, use `newframe = frame.copy()`\n",
      "  df[new_col_name] = data\n",
      "C:\\Users\\phgil\\AppData\\Local\\Temp\\ipykernel_2308\\3488968663.py:39: PerformanceWarning: DataFrame is highly fragmented.  This is usually the result of calling `frame.insert` many times, which has poor performance.  Consider joining all columns at once using pd.concat(axis=1) instead. To get a de-fragmented frame, use `newframe = frame.copy()`\n",
      "  df[new_col_name] = data\n",
      "C:\\Users\\phgil\\AppData\\Local\\Temp\\ipykernel_2308\\3488968663.py:39: PerformanceWarning: DataFrame is highly fragmented.  This is usually the result of calling `frame.insert` many times, which has poor performance.  Consider joining all columns at once using pd.concat(axis=1) instead. To get a de-fragmented frame, use `newframe = frame.copy()`\n",
      "  df[new_col_name] = data\n",
      "C:\\Users\\phgil\\AppData\\Local\\Temp\\ipykernel_2308\\3488968663.py:39: PerformanceWarning: DataFrame is highly fragmented.  This is usually the result of calling `frame.insert` many times, which has poor performance.  Consider joining all columns at once using pd.concat(axis=1) instead. To get a de-fragmented frame, use `newframe = frame.copy()`\n",
      "  df[new_col_name] = data\n",
      "Expanding awkward array columns:  58%|█████▊    | 32/55 [11:53<08:26, 22.02s/it]"
     ]
    },
    {
     "name": "stdout",
     "output_type": "stream",
     "text": [
      "  Time taken to expand photon_convType: 22.22 seconds.\n",
      "\n",
      "Processing column: tau_pt\n",
      "  Maximum length of lists in tau_pt: 0\n"
     ]
    },
    {
     "name": "stderr",
     "output_type": "stream",
     "text": [
      "Expanding awkward array columns:  60%|██████    | 33/55 [12:10<07:33, 20.61s/it]"
     ]
    },
    {
     "name": "stdout",
     "output_type": "stream",
     "text": [
      "  Time taken to expand tau_pt: 17.31 seconds.\n",
      "\n",
      "Processing column: tau_eta\n",
      "  Maximum length of lists in tau_eta: 0\n"
     ]
    },
    {
     "name": "stderr",
     "output_type": "stream",
     "text": [
      "Expanding awkward array columns:  62%|██████▏   | 34/55 [12:30<07:06, 20.30s/it]"
     ]
    },
    {
     "name": "stdout",
     "output_type": "stream",
     "text": [
      "  Time taken to expand tau_eta: 19.58 seconds.\n",
      "\n",
      "Processing column: tau_phi\n",
      "  Maximum length of lists in tau_phi: 0\n"
     ]
    },
    {
     "name": "stderr",
     "output_type": "stream",
     "text": [
      "Expanding awkward array columns:  64%|██████▎   | 35/55 [12:47<06:27, 19.39s/it]"
     ]
    },
    {
     "name": "stdout",
     "output_type": "stream",
     "text": [
      "  Time taken to expand tau_phi: 17.25 seconds.\n",
      "\n",
      "Processing column: tau_E\n",
      "  Maximum length of lists in tau_E: 0\n"
     ]
    },
    {
     "name": "stderr",
     "output_type": "stream",
     "text": [
      "Expanding awkward array columns:  65%|██████▌   | 36/55 [13:06<06:05, 19.25s/it]"
     ]
    },
    {
     "name": "stdout",
     "output_type": "stream",
     "text": [
      "  Time taken to expand tau_E: 18.93 seconds.\n",
      "\n",
      "Processing column: tau_isTightID\n",
      "  Maximum length of lists in tau_isTightID: 0\n"
     ]
    },
    {
     "name": "stderr",
     "output_type": "stream",
     "text": [
      "Expanding awkward array columns:  67%|██████▋   | 37/55 [13:23<05:34, 18.58s/it]"
     ]
    },
    {
     "name": "stdout",
     "output_type": "stream",
     "text": [
      "  Time taken to expand tau_isTightID: 17.03 seconds.\n",
      "\n",
      "Processing column: tau_truthMatched\n",
      "  Maximum length of lists in tau_truthMatched: 0\n"
     ]
    },
    {
     "name": "stderr",
     "output_type": "stream",
     "text": [
      "Expanding awkward array columns:  69%|██████▉   | 38/55 [13:40<05:07, 18.09s/it]"
     ]
    },
    {
     "name": "stdout",
     "output_type": "stream",
     "text": [
      "  Time taken to expand tau_truthMatched: 16.95 seconds.\n",
      "\n",
      "Processing column: tau_trigMatched\n",
      "  Maximum length of lists in tau_trigMatched: 0\n"
     ]
    },
    {
     "name": "stderr",
     "output_type": "stream",
     "text": [
      "Expanding awkward array columns:  71%|███████   | 39/55 [13:57<04:44, 17.78s/it]"
     ]
    },
    {
     "name": "stdout",
     "output_type": "stream",
     "text": [
      "  Time taken to expand tau_trigMatched: 17.05 seconds.\n",
      "\n",
      "Processing column: tau_nTracks\n",
      "  Maximum length of lists in tau_nTracks: 0\n"
     ]
    },
    {
     "name": "stderr",
     "output_type": "stream",
     "text": [
      "Expanding awkward array columns:  73%|███████▎  | 40/55 [14:14<04:24, 17.63s/it]"
     ]
    },
    {
     "name": "stdout",
     "output_type": "stream",
     "text": [
      "  Time taken to expand tau_nTracks: 17.29 seconds.\n",
      "\n",
      "Processing column: tau_BDTid\n",
      "  Maximum length of lists in tau_BDTid: 0\n"
     ]
    },
    {
     "name": "stderr",
     "output_type": "stream",
     "text": [
      "Expanding awkward array columns:  75%|███████▍  | 41/55 [14:31<04:03, 17.42s/it]"
     ]
    },
    {
     "name": "stdout",
     "output_type": "stream",
     "text": [
      "  Time taken to expand tau_BDTid: 16.93 seconds.\n",
      "\n",
      "Processing column: lep_pt_syst\n",
      "  Maximum length of lists in lep_pt_syst: 4\n"
     ]
    },
    {
     "name": "stderr",
     "output_type": "stream",
     "text": [
      "C:\\Users\\phgil\\AppData\\Local\\Temp\\ipykernel_2308\\3488968663.py:39: PerformanceWarning: DataFrame is highly fragmented.  This is usually the result of calling `frame.insert` many times, which has poor performance.  Consider joining all columns at once using pd.concat(axis=1) instead. To get a de-fragmented frame, use `newframe = frame.copy()`\n",
      "  df[new_col_name] = data\n",
      "C:\\Users\\phgil\\AppData\\Local\\Temp\\ipykernel_2308\\3488968663.py:39: PerformanceWarning: DataFrame is highly fragmented.  This is usually the result of calling `frame.insert` many times, which has poor performance.  Consider joining all columns at once using pd.concat(axis=1) instead. To get a de-fragmented frame, use `newframe = frame.copy()`\n",
      "  df[new_col_name] = data\n",
      "C:\\Users\\phgil\\AppData\\Local\\Temp\\ipykernel_2308\\3488968663.py:39: PerformanceWarning: DataFrame is highly fragmented.  This is usually the result of calling `frame.insert` many times, which has poor performance.  Consider joining all columns at once using pd.concat(axis=1) instead. To get a de-fragmented frame, use `newframe = frame.copy()`\n",
      "  df[new_col_name] = data\n",
      "C:\\Users\\phgil\\AppData\\Local\\Temp\\ipykernel_2308\\3488968663.py:39: PerformanceWarning: DataFrame is highly fragmented.  This is usually the result of calling `frame.insert` many times, which has poor performance.  Consider joining all columns at once using pd.concat(axis=1) instead. To get a de-fragmented frame, use `newframe = frame.copy()`\n",
      "  df[new_col_name] = data\n",
      "Expanding awkward array columns:  76%|███████▋  | 42/55 [14:52<04:01, 18.54s/it]"
     ]
    },
    {
     "name": "stdout",
     "output_type": "stream",
     "text": [
      "  Time taken to expand lep_pt_syst: 21.15 seconds.\n",
      "\n",
      "Processing column: jet_pt_syst\n",
      "  Maximum length of lists in jet_pt_syst: 16\n"
     ]
    },
    {
     "name": "stderr",
     "output_type": "stream",
     "text": [
      "C:\\Users\\phgil\\AppData\\Local\\Temp\\ipykernel_2308\\3488968663.py:39: PerformanceWarning: DataFrame is highly fragmented.  This is usually the result of calling `frame.insert` many times, which has poor performance.  Consider joining all columns at once using pd.concat(axis=1) instead. To get a de-fragmented frame, use `newframe = frame.copy()`\n",
      "  df[new_col_name] = data\n",
      "C:\\Users\\phgil\\AppData\\Local\\Temp\\ipykernel_2308\\3488968663.py:39: PerformanceWarning: DataFrame is highly fragmented.  This is usually the result of calling `frame.insert` many times, which has poor performance.  Consider joining all columns at once using pd.concat(axis=1) instead. To get a de-fragmented frame, use `newframe = frame.copy()`\n",
      "  df[new_col_name] = data\n",
      "C:\\Users\\phgil\\AppData\\Local\\Temp\\ipykernel_2308\\3488968663.py:39: PerformanceWarning: DataFrame is highly fragmented.  This is usually the result of calling `frame.insert` many times, which has poor performance.  Consider joining all columns at once using pd.concat(axis=1) instead. To get a de-fragmented frame, use `newframe = frame.copy()`\n",
      "  df[new_col_name] = data\n",
      "C:\\Users\\phgil\\AppData\\Local\\Temp\\ipykernel_2308\\3488968663.py:39: PerformanceWarning: DataFrame is highly fragmented.  This is usually the result of calling `frame.insert` many times, which has poor performance.  Consider joining all columns at once using pd.concat(axis=1) instead. To get a de-fragmented frame, use `newframe = frame.copy()`\n",
      "  df[new_col_name] = data\n",
      "C:\\Users\\phgil\\AppData\\Local\\Temp\\ipykernel_2308\\3488968663.py:39: PerformanceWarning: DataFrame is highly fragmented.  This is usually the result of calling `frame.insert` many times, which has poor performance.  Consider joining all columns at once using pd.concat(axis=1) instead. To get a de-fragmented frame, use `newframe = frame.copy()`\n",
      "  df[new_col_name] = data\n",
      "C:\\Users\\phgil\\AppData\\Local\\Temp\\ipykernel_2308\\3488968663.py:39: PerformanceWarning: DataFrame is highly fragmented.  This is usually the result of calling `frame.insert` many times, which has poor performance.  Consider joining all columns at once using pd.concat(axis=1) instead. To get a de-fragmented frame, use `newframe = frame.copy()`\n",
      "  df[new_col_name] = data\n",
      "C:\\Users\\phgil\\AppData\\Local\\Temp\\ipykernel_2308\\3488968663.py:39: PerformanceWarning: DataFrame is highly fragmented.  This is usually the result of calling `frame.insert` many times, which has poor performance.  Consider joining all columns at once using pd.concat(axis=1) instead. To get a de-fragmented frame, use `newframe = frame.copy()`\n",
      "  df[new_col_name] = data\n",
      "C:\\Users\\phgil\\AppData\\Local\\Temp\\ipykernel_2308\\3488968663.py:39: PerformanceWarning: DataFrame is highly fragmented.  This is usually the result of calling `frame.insert` many times, which has poor performance.  Consider joining all columns at once using pd.concat(axis=1) instead. To get a de-fragmented frame, use `newframe = frame.copy()`\n",
      "  df[new_col_name] = data\n",
      "C:\\Users\\phgil\\AppData\\Local\\Temp\\ipykernel_2308\\3488968663.py:39: PerformanceWarning: DataFrame is highly fragmented.  This is usually the result of calling `frame.insert` many times, which has poor performance.  Consider joining all columns at once using pd.concat(axis=1) instead. To get a de-fragmented frame, use `newframe = frame.copy()`\n",
      "  df[new_col_name] = data\n",
      "C:\\Users\\phgil\\AppData\\Local\\Temp\\ipykernel_2308\\3488968663.py:39: PerformanceWarning: DataFrame is highly fragmented.  This is usually the result of calling `frame.insert` many times, which has poor performance.  Consider joining all columns at once using pd.concat(axis=1) instead. To get a de-fragmented frame, use `newframe = frame.copy()`\n",
      "  df[new_col_name] = data\n",
      "C:\\Users\\phgil\\AppData\\Local\\Temp\\ipykernel_2308\\3488968663.py:39: PerformanceWarning: DataFrame is highly fragmented.  This is usually the result of calling `frame.insert` many times, which has poor performance.  Consider joining all columns at once using pd.concat(axis=1) instead. To get a de-fragmented frame, use `newframe = frame.copy()`\n",
      "  df[new_col_name] = data\n",
      "C:\\Users\\phgil\\AppData\\Local\\Temp\\ipykernel_2308\\3488968663.py:39: PerformanceWarning: DataFrame is highly fragmented.  This is usually the result of calling `frame.insert` many times, which has poor performance.  Consider joining all columns at once using pd.concat(axis=1) instead. To get a de-fragmented frame, use `newframe = frame.copy()`\n",
      "  df[new_col_name] = data\n",
      "C:\\Users\\phgil\\AppData\\Local\\Temp\\ipykernel_2308\\3488968663.py:39: PerformanceWarning: DataFrame is highly fragmented.  This is usually the result of calling `frame.insert` many times, which has poor performance.  Consider joining all columns at once using pd.concat(axis=1) instead. To get a de-fragmented frame, use `newframe = frame.copy()`\n",
      "  df[new_col_name] = data\n",
      "C:\\Users\\phgil\\AppData\\Local\\Temp\\ipykernel_2308\\3488968663.py:39: PerformanceWarning: DataFrame is highly fragmented.  This is usually the result of calling `frame.insert` many times, which has poor performance.  Consider joining all columns at once using pd.concat(axis=1) instead. To get a de-fragmented frame, use `newframe = frame.copy()`\n",
      "  df[new_col_name] = data\n",
      "C:\\Users\\phgil\\AppData\\Local\\Temp\\ipykernel_2308\\3488968663.py:39: PerformanceWarning: DataFrame is highly fragmented.  This is usually the result of calling `frame.insert` many times, which has poor performance.  Consider joining all columns at once using pd.concat(axis=1) instead. To get a de-fragmented frame, use `newframe = frame.copy()`\n",
      "  df[new_col_name] = data\n",
      "C:\\Users\\phgil\\AppData\\Local\\Temp\\ipykernel_2308\\3488968663.py:39: PerformanceWarning: DataFrame is highly fragmented.  This is usually the result of calling `frame.insert` many times, which has poor performance.  Consider joining all columns at once using pd.concat(axis=1) instead. To get a de-fragmented frame, use `newframe = frame.copy()`\n",
      "  df[new_col_name] = data\n",
      "Expanding awkward array columns:  78%|███████▊  | 43/55 [15:17<04:03, 20.26s/it]"
     ]
    },
    {
     "name": "stdout",
     "output_type": "stream",
     "text": [
      "  Time taken to expand jet_pt_syst: 24.27 seconds.\n",
      "\n",
      "Processing column: photon_pt_syst\n",
      "  Maximum length of lists in photon_pt_syst: 5\n"
     ]
    },
    {
     "name": "stderr",
     "output_type": "stream",
     "text": [
      "C:\\Users\\phgil\\AppData\\Local\\Temp\\ipykernel_2308\\3488968663.py:39: PerformanceWarning: DataFrame is highly fragmented.  This is usually the result of calling `frame.insert` many times, which has poor performance.  Consider joining all columns at once using pd.concat(axis=1) instead. To get a de-fragmented frame, use `newframe = frame.copy()`\n",
      "  df[new_col_name] = data\n",
      "C:\\Users\\phgil\\AppData\\Local\\Temp\\ipykernel_2308\\3488968663.py:39: PerformanceWarning: DataFrame is highly fragmented.  This is usually the result of calling `frame.insert` many times, which has poor performance.  Consider joining all columns at once using pd.concat(axis=1) instead. To get a de-fragmented frame, use `newframe = frame.copy()`\n",
      "  df[new_col_name] = data\n",
      "C:\\Users\\phgil\\AppData\\Local\\Temp\\ipykernel_2308\\3488968663.py:39: PerformanceWarning: DataFrame is highly fragmented.  This is usually the result of calling `frame.insert` many times, which has poor performance.  Consider joining all columns at once using pd.concat(axis=1) instead. To get a de-fragmented frame, use `newframe = frame.copy()`\n",
      "  df[new_col_name] = data\n",
      "C:\\Users\\phgil\\AppData\\Local\\Temp\\ipykernel_2308\\3488968663.py:39: PerformanceWarning: DataFrame is highly fragmented.  This is usually the result of calling `frame.insert` many times, which has poor performance.  Consider joining all columns at once using pd.concat(axis=1) instead. To get a de-fragmented frame, use `newframe = frame.copy()`\n",
      "  df[new_col_name] = data\n",
      "C:\\Users\\phgil\\AppData\\Local\\Temp\\ipykernel_2308\\3488968663.py:39: PerformanceWarning: DataFrame is highly fragmented.  This is usually the result of calling `frame.insert` many times, which has poor performance.  Consider joining all columns at once using pd.concat(axis=1) instead. To get a de-fragmented frame, use `newframe = frame.copy()`\n",
      "  df[new_col_name] = data\n",
      "Expanding awkward array columns:  80%|████████  | 44/55 [15:38<03:48, 20.76s/it]"
     ]
    },
    {
     "name": "stdout",
     "output_type": "stream",
     "text": [
      "  Time taken to expand photon_pt_syst: 21.92 seconds.\n",
      "\n",
      "Processing column: tau_pt_syst\n",
      "  Maximum length of lists in tau_pt_syst: 0\n"
     ]
    },
    {
     "name": "stderr",
     "output_type": "stream",
     "text": [
      "Expanding awkward array columns:  82%|████████▏ | 45/55 [15:57<03:21, 20.14s/it]"
     ]
    },
    {
     "name": "stdout",
     "output_type": "stream",
     "text": [
      "  Time taken to expand tau_pt_syst: 18.69 seconds.\n",
      "\n",
      "Processing column: largeRjet_pt\n",
      "  Maximum length of lists in largeRjet_pt: 0\n"
     ]
    },
    {
     "name": "stderr",
     "output_type": "stream",
     "text": [
      "Expanding awkward array columns:  84%|████████▎ | 46/55 [16:15<02:55, 19.48s/it]"
     ]
    },
    {
     "name": "stdout",
     "output_type": "stream",
     "text": [
      "  Time taken to expand largeRjet_pt: 17.94 seconds.\n",
      "\n",
      "Processing column: largeRjet_eta\n",
      "  Maximum length of lists in largeRjet_eta: 0\n"
     ]
    },
    {
     "name": "stderr",
     "output_type": "stream",
     "text": [
      "Expanding awkward array columns:  85%|████████▌ | 47/55 [16:33<02:31, 18.98s/it]"
     ]
    },
    {
     "name": "stdout",
     "output_type": "stream",
     "text": [
      "  Time taken to expand largeRjet_eta: 17.83 seconds.\n",
      "\n",
      "Processing column: largeRjet_phi\n",
      "  Maximum length of lists in largeRjet_phi: 0\n"
     ]
    },
    {
     "name": "stderr",
     "output_type": "stream",
     "text": [
      "Expanding awkward array columns:  87%|████████▋ | 48/55 [16:51<02:11, 18.79s/it]"
     ]
    },
    {
     "name": "stdout",
     "output_type": "stream",
     "text": [
      "  Time taken to expand largeRjet_phi: 18.35 seconds.\n",
      "\n",
      "Processing column: largeRjet_E\n",
      "  Maximum length of lists in largeRjet_E: 0\n"
     ]
    },
    {
     "name": "stderr",
     "output_type": "stream",
     "text": [
      "Expanding awkward array columns:  89%|████████▉ | 49/55 [17:10<01:53, 18.87s/it]"
     ]
    },
    {
     "name": "stdout",
     "output_type": "stream",
     "text": [
      "  Time taken to expand largeRjet_E: 19.04 seconds.\n",
      "\n",
      "Processing column: largeRjet_m\n",
      "  Maximum length of lists in largeRjet_m: 0\n"
     ]
    },
    {
     "name": "stderr",
     "output_type": "stream",
     "text": [
      "Expanding awkward array columns:  91%|█████████ | 50/55 [17:27<01:31, 18.32s/it]"
     ]
    },
    {
     "name": "stdout",
     "output_type": "stream",
     "text": [
      "  Time taken to expand largeRjet_m: 17.04 seconds.\n",
      "\n",
      "Processing column: largeRjet_truthMatched\n",
      "  Maximum length of lists in largeRjet_truthMatched: 0\n"
     ]
    },
    {
     "name": "stderr",
     "output_type": "stream",
     "text": [
      "Expanding awkward array columns:  93%|█████████▎| 51/55 [17:45<01:12, 18.21s/it]"
     ]
    },
    {
     "name": "stdout",
     "output_type": "stream",
     "text": [
      "  Time taken to expand largeRjet_truthMatched: 17.95 seconds.\n",
      "\n",
      "Processing column: largeRjet_D2\n",
      "  Maximum length of lists in largeRjet_D2: 0\n"
     ]
    },
    {
     "name": "stderr",
     "output_type": "stream",
     "text": [
      "Expanding awkward array columns:  95%|█████████▍| 52/55 [18:03<00:53, 17.92s/it]"
     ]
    },
    {
     "name": "stdout",
     "output_type": "stream",
     "text": [
      "  Time taken to expand largeRjet_D2: 17.24 seconds.\n",
      "\n",
      "Processing column: largeRjet_tau32\n",
      "  Maximum length of lists in largeRjet_tau32: 0\n"
     ]
    },
    {
     "name": "stderr",
     "output_type": "stream",
     "text": [
      "Expanding awkward array columns:  96%|█████████▋| 53/55 [18:20<00:35, 17.86s/it]"
     ]
    },
    {
     "name": "stdout",
     "output_type": "stream",
     "text": [
      "  Time taken to expand largeRjet_tau32: 17.70 seconds.\n",
      "\n",
      "Processing column: largeRjet_pt_syst\n",
      "  Maximum length of lists in largeRjet_pt_syst: 0\n"
     ]
    },
    {
     "name": "stderr",
     "output_type": "stream",
     "text": [
      "Expanding awkward array columns:  98%|█████████▊| 54/55 [18:37<00:17, 17.68s/it]"
     ]
    },
    {
     "name": "stdout",
     "output_type": "stream",
     "text": [
      "  Time taken to expand largeRjet_pt_syst: 17.27 seconds.\n",
      "\n",
      "Processing column: tau_charge\n",
      "  Maximum length of lists in tau_charge: 0\n"
     ]
    },
    {
     "name": "stderr",
     "output_type": "stream",
     "text": [
      "Expanding awkward array columns: 100%|██████████| 55/55 [18:55<00:00, 20.64s/it]"
     ]
    },
    {
     "name": "stdout",
     "output_type": "stream",
     "text": [
      "  Time taken to expand tau_charge: 17.39 seconds.\n"
     ]
    },
    {
     "name": "stderr",
     "output_type": "stream",
     "text": [
      "\n"
     ]
    },
    {
     "name": "stdout",
     "output_type": "stream",
     "text": [
      "Total time taken to expand awkward array columns: 1140.00 seconds\n",
      "Expanded DataFrame head:\n",
      "   runNumber  eventNumber  channelNumber   mcWeight  scaleFactor_PILEUP  \\\n",
      "0     284500      4246580         343981  28.485731            0.696077   \n",
      "1     301932    242211722         301932   0.000000            0.000000   \n",
      "2     284500        56490         345041   3.749917            1.214122   \n",
      "3     301932   -163493589         301932   0.000000            0.000000   \n",
      "4     284500      3977190         343981  28.485731            0.750880   \n",
      "\n",
      "   scaleFactor_ELE  scaleFactor_MUON  scaleFactor_PHOTON  scaleFactor_TAU  \\\n",
      "0              1.0               1.0            0.995786              1.0   \n",
      "1              0.0               0.0            0.000000              0.0   \n",
      "2              1.0               1.0            1.005498              1.0   \n",
      "3              0.0               0.0            0.000000              0.0   \n",
      "4              1.0               1.0            1.002282              1.0   \n",
      "\n",
      "   scaleFactor_BTAG  ...  jet_pt_syst11  jet_pt_syst12  jet_pt_syst13  \\\n",
      "0          0.998468  ...            0.0            0.0            0.0   \n",
      "1          0.000000  ...            0.0            0.0            0.0   \n",
      "2          0.998150  ...            0.0            0.0            0.0   \n",
      "3          0.000000  ...            0.0            0.0            0.0   \n",
      "4          1.012842  ...            0.0            0.0            0.0   \n",
      "\n",
      "   jet_pt_syst14  jet_pt_syst15  photon_pt_syst0  photon_pt_syst1  \\\n",
      "0            0.0            0.0      1996.221558       336.990051   \n",
      "1            0.0            0.0         0.000000         0.000000   \n",
      "2            0.0            0.0       620.069397       196.208817   \n",
      "3            0.0            0.0         0.000000         0.000000   \n",
      "4            0.0            0.0       362.847809       207.096832   \n",
      "\n",
      "   photon_pt_syst2  photon_pt_syst3  photon_pt_syst4  \n",
      "0              0.0              0.0              0.0  \n",
      "1              0.0              0.0              0.0  \n",
      "2              0.0              0.0              0.0  \n",
      "3              0.0              0.0              0.0  \n",
      "4              0.0              0.0              0.0  \n",
      "\n",
      "[5 rows x 286 columns]\n"
     ]
    }
   ],
   "source": [
    "import pandas as pd\n",
    "import awkward as ak\n",
    "from tqdm import tqdm\n",
    "import time\n",
    "\n",
    "def expand_awkward_columns(df):\n",
    "    \"\"\"\n",
    "    Expands columns in a DataFrame that contain awkward arrays into separate columns.\n",
    "    For example, a column 'photon_E' with values [E1, E2, E3] will be expanded into \n",
    "    'photon_E0', 'photon_E1', 'photon_E2'. Shorter lists are padded with zeros.\n",
    "\n",
    "    :param df: The DataFrame containing columns to expand.\n",
    "    :return: The DataFrame with expanded columns.\n",
    "    \"\"\"\n",
    "    # Identify columns that contain awkward arrays\n",
    "    awkward_columns = [col for col in df.columns if isinstance(df[col].iloc[0], ak.Array)]\n",
    "    \n",
    "    print(f\"Found {len(awkward_columns)} columns with awkward array values.\")\n",
    "    \n",
    "    for col in tqdm(awkward_columns, desc=\"Expanding awkward array columns\"):\n",
    "        print(f\"\\nProcessing column: {col}\")\n",
    "        start_time = time.time()\n",
    "        \n",
    "        # Convert the awkward array to a list of lists (ragged array)\n",
    "        lists = ak.to_list(df[col])\n",
    "        \n",
    "        # Determine the maximum length of the lists in the column\n",
    "        max_len = max(len(sublist) for sublist in lists)\n",
    "        print(f\"  Maximum length of lists in {col}: {max_len}\")\n",
    "        \n",
    "        # Create new columns for each entry in the list\n",
    "        new_columns = {}\n",
    "        for i in range(max_len):\n",
    "            new_col_name = f\"{col}{i}\"\n",
    "            new_columns[new_col_name] = [sublist[i] if i < len(sublist) else 0 for sublist in lists]\n",
    "        \n",
    "        # Assign new columns to the DataFrame\n",
    "        for new_col_name, data in new_columns.items():\n",
    "            df[new_col_name] = data\n",
    "        \n",
    "        # Drop the original column\n",
    "        df.drop(columns=[col], inplace=True)\n",
    "        \n",
    "        end_time = time.time()\n",
    "        print(f\"  Time taken to expand {col}: {end_time - start_time:.2f} seconds.\")\n",
    "    \n",
    "    return df.copy()\n",
    "\n",
    "# Assuming `combined_df` is the DataFrame you are working with\n",
    "print(\"Expanding awkward array columns in the DataFrame...\")\n",
    "start_time = time.time()\n",
    "expanded_df = expand_awkward_columns(balanced_df)\n",
    "end_time = time.time()\n",
    "print(f\"Total time taken to expand awkward array columns: {end_time - start_time:.2f} seconds\")\n",
    "\n",
    "# Check the expanded DataFrame\n",
    "print(\"Expanded DataFrame head:\")\n",
    "print(expanded_df.head())\n"
   ]
  },
  {
   "cell_type": "code",
   "execution_count": 4,
   "metadata": {},
   "outputs": [
    {
     "name": "stdout",
     "output_type": "stream",
     "text": [
      "Removed columns due to perfect separation: ['runNumber', 'channelNumber', 'mcWeight', 'scaleFactor_ELE', 'scaleFactor_MUON', 'scaleFactor_PHOTON', 'scaleFactor_TAU', 'scaleFactor_BTAG', 'scaleFactor_LepTRIGGER', 'XSection', 'SumWeights', 'photon_pt_syst0', 'photon_pt_syst1']\n",
      "Cleaned DataFrame head:\n",
      "   eventNumber  scaleFactor_PILEUP  scaleFactor_PhotonTRIGGER  trigE  trigM  \\\n",
      "0      4246580            0.696077                   0.995786  False  False   \n",
      "1    242211722            0.000000                   0.000000  False  False   \n",
      "2        56490            1.214122                   1.005498  False  False   \n",
      "3   -163493589            0.000000                   0.000000  False  False   \n",
      "4      3977190            0.750880                   1.002282  False  False   \n",
      "\n",
      "   trigP  lep_n        met_et   met_phi  jet_n  ...  jet_pt_syst9  \\\n",
      "0   True      0  51045.160156  2.794363      3  ...           0.0   \n",
      "1   True      0  43901.460938 -0.197949      1  ...           0.0   \n",
      "2   True      0  58347.421875 -0.033184      3  ...           0.0   \n",
      "3   True      0  16311.075195 -0.042286      0  ...           0.0   \n",
      "4   True      0  43917.437500 -1.083709      1  ...           0.0   \n",
      "\n",
      "   jet_pt_syst10  jet_pt_syst11  jet_pt_syst12  jet_pt_syst13  jet_pt_syst14  \\\n",
      "0            0.0            0.0            0.0            0.0            0.0   \n",
      "1            0.0            0.0            0.0            0.0            0.0   \n",
      "2            0.0            0.0            0.0            0.0            0.0   \n",
      "3            0.0            0.0            0.0            0.0            0.0   \n",
      "4            0.0            0.0            0.0            0.0            0.0   \n",
      "\n",
      "  jet_pt_syst15 photon_pt_syst2 photon_pt_syst3 photon_pt_syst4  \n",
      "0           0.0             0.0             0.0             0.0  \n",
      "1           0.0             0.0             0.0             0.0  \n",
      "2           0.0             0.0             0.0             0.0  \n",
      "3           0.0             0.0             0.0             0.0  \n",
      "4           0.0             0.0             0.0             0.0  \n",
      "\n",
      "[5 rows x 273 columns]\n"
     ]
    }
   ],
   "source": [
    "import pandas as pd\n",
    "\n",
    "def check_and_remove_perfect_separation(df, label_column='isHiggs'):\n",
    "    \"\"\"\n",
    "    Checks if any feature (column) in the DataFrame perfectly separates the label column.\n",
    "    If a column perfectly separates, it is removed from the DataFrame.\n",
    "    \n",
    "    :param df: The DataFrame containing features and the label column.\n",
    "    :param label_column: The name of the label column (default is 'isHiggs').\n",
    "    :return: The DataFrame with perfectly separating columns removed, and a list of removed columns.\n",
    "    \"\"\"\n",
    "    columns_to_remove = []\n",
    "    for column in df.columns:\n",
    "        if column == label_column:\n",
    "            continue\n",
    "        unique_values = df.groupby(column)[label_column].nunique()\n",
    "        if unique_values.max() == 1:  # If any unique value of the feature corresponds to only one label\n",
    "            columns_to_remove.append(column)\n",
    "    \n",
    "    df = df.drop(columns=columns_to_remove)\n",
    "    return df, columns_to_remove\n",
    "\n",
    "# Check for perfect separation and remove the problematic columns\n",
    "cleaned_df, removed_columns = check_and_remove_perfect_separation(expanded_df)\n",
    "\n",
    "# Display the columns that were removed\n",
    "print(\"Removed columns due to perfect separation:\", removed_columns)\n",
    "\n",
    "# Check the cleaned DataFrame\n",
    "print(\"Cleaned DataFrame head:\")\n",
    "print(cleaned_df.head())\n"
   ]
  },
  {
   "cell_type": "code",
   "execution_count": 5,
   "metadata": {},
   "outputs": [
    {
     "name": "stdout",
     "output_type": "stream",
     "text": [
      "Writing the DataFrame to CSV...\n",
      "DataFrame successfully written to cleaned_dataframe.csv.\n",
      "Time taken to write the DataFrame to CSV: 103.09 seconds\n"
     ]
    }
   ],
   "source": [
    "import pandas as pd\n",
    "\n",
    "# Assuming `expanded_df` is the DataFrame you have after expanding awkward arrays\n",
    "\n",
    "# Define the output file path\n",
    "output_file = \"cleaned_dataframe.csv\"\n",
    "\n",
    "print(\"Writing the DataFrame to CSV...\")\n",
    "start_time = time.time()\n",
    "\n",
    "# Write the DataFrame to a CSV file\n",
    "cleaned_df.to_csv(output_file, index=False)\n",
    "\n",
    "end_time = time.time()\n",
    "print(f\"DataFrame successfully written to {output_file}.\")\n",
    "print(f\"Time taken to write the DataFrame to CSV: {end_time - start_time:.2f} seconds\")\n"
   ]
  },
  {
   "cell_type": "code",
   "execution_count": 6,
   "metadata": {},
   "outputs": [
    {
     "name": "stdout",
     "output_type": "stream",
     "text": [
      "Calculating mean and variance for each column...\n",
      "\n",
      "Column: eventNumber\n",
      "  Mean: 234056983.116386\n",
      "  Variance: 741930878973538176.000000\n",
      "\n",
      "Column: scaleFactor_PILEUP\n",
      "  Mean: 0.371050\n",
      "  Variance: 0.284737\n",
      "\n",
      "Column: scaleFactor_PhotonTRIGGER\n",
      "  Mean: 0.369846\n",
      "  Variance: 0.232180\n",
      "\n",
      "Column: trigE\n",
      "  Mean: 0.000000\n",
      "  Variance: 0.000000\n",
      "\n",
      "Column: trigM\n",
      "  Mean: 0.000000\n",
      "  Variance: 0.000000\n",
      "\n",
      "Column: trigP\n",
      "  Mean: 1.000000\n",
      "  Variance: 0.000000\n",
      "\n",
      "Column: lep_n\n",
      "  Mean: 0.047355\n",
      "  Variance: 0.056126\n",
      "\n",
      "Column: met_et\n",
      "  Mean: 40003.773438\n",
      "  Variance: 1366780672.000000\n",
      "\n",
      "Column: met_phi\n",
      "  Mean: -0.009746\n",
      "  Variance: 3.295479\n",
      "\n",
      "Column: jet_n\n",
      "  Mean: 1.603845\n",
      "  Variance: 3.133579\n",
      "\n",
      "Column: photon_n\n",
      "  Mean: 2.008041\n",
      "  Variance: 0.008149\n",
      "\n",
      "Column: tau_n\n",
      "  Mean: 0.000000\n",
      "  Variance: 0.000000\n",
      "\n",
      "Column: ditau_m\n",
      "  Mean: 0.000000\n",
      "  Variance: 0.000000\n",
      "\n",
      "Column: met_et_syst\n",
      "  Mean: 3605.498047\n",
      "  Variance: 71407488.000000\n",
      "\n",
      "Column: largeRjet_n\n",
      "  Mean: 0.000000\n",
      "  Variance: 0.000000\n",
      "\n",
      "Column: isHiggs\n",
      "  Mean: 0.370838\n",
      "  Variance: 0.233317\n",
      "\n",
      "Column: lep_truthMatched0 is non-numeric and skipped.\n",
      "\n",
      "Column: lep_truthMatched1 is non-numeric and skipped.\n",
      "\n",
      "Column: lep_truthMatched2 is non-numeric and skipped.\n",
      "\n",
      "Column: lep_truthMatched3 is non-numeric and skipped.\n",
      "\n",
      "Column: lep_trigMatched0 is non-numeric and skipped.\n",
      "\n",
      "Column: lep_trigMatched1 is non-numeric and skipped.\n",
      "\n",
      "Column: lep_trigMatched2 is non-numeric and skipped.\n",
      "\n",
      "Column: lep_trigMatched3 is non-numeric and skipped.\n",
      "\n",
      "Column: lep_pt0\n",
      "  Mean: 2340.484605\n",
      "  Variance: 460558338.530817\n",
      "\n",
      "Column: lep_pt1\n",
      "  Mean: 175.225001\n",
      "  Variance: 9145007.825108\n",
      "\n",
      "Column: lep_pt2\n",
      "  Mean: 1.268177\n",
      "  Variance: 21905.647217\n",
      "\n",
      "Column: lep_pt3\n",
      "  Mean: 0.009067\n",
      "  Variance: 109.673435\n",
      "\n",
      "Column: lep_eta0\n",
      "  Mean: -0.000576\n",
      "  Variance: 0.056357\n",
      "\n",
      "Column: lep_eta1\n",
      "  Mean: 0.000005\n",
      "  Variance: 0.007687\n",
      "\n",
      "Column: lep_eta2\n",
      "  Mean: -0.000005\n",
      "  Variance: 0.000132\n",
      "\n",
      "Column: lep_eta3\n",
      "  Mean: 0.000001\n",
      "  Variance: 0.000001\n",
      "\n",
      "Column: lep_phi0\n",
      "  Mean: -0.000095\n",
      "  Variance: 0.136365\n",
      "\n",
      "Column: lep_phi1\n",
      "  Mean: -0.000147\n",
      "  Variance: 0.017655\n",
      "\n",
      "Column: lep_phi2\n",
      "  Mean: -0.000003\n",
      "  Variance: 0.000308\n",
      "\n",
      "Column: lep_phi3\n",
      "  Mean: 0.000001\n",
      "  Variance: 0.000002\n",
      "\n",
      "Column: lep_E0\n",
      "  Mean: 4046.287394\n",
      "  Variance: 1064806670.868819\n",
      "\n",
      "Column: lep_E1\n",
      "  Mean: 327.621847\n",
      "  Variance: 40489001.161436\n",
      "\n",
      "Column: lep_E2\n",
      "  Mean: 2.356998\n",
      "  Variance: 100841.174400\n",
      "\n",
      "Column: lep_E3\n",
      "  Mean: 0.015545\n",
      "  Variance: 322.348744\n",
      "\n",
      "Column: lep_z00\n",
      "  Mean: -0.000226\n",
      "  Variance: 14.865310\n",
      "\n",
      "Column: lep_z01\n",
      "  Mean: -0.000426\n",
      "  Variance: 0.956363\n",
      "\n",
      "Column: lep_z02\n",
      "  Mean: -0.000142\n",
      "  Variance: 0.088110\n",
      "\n",
      "Column: lep_z03\n",
      "  Mean: 0.000000\n",
      "  Variance: 0.000000\n",
      "\n",
      "Column: lep_charge0\n",
      "  Mean: 0.003647\n",
      "  Variance: 0.041935\n",
      "\n",
      "Column: lep_charge1\n",
      "  Mean: -0.000028\n",
      "  Variance: 0.005309\n",
      "\n",
      "Column: lep_charge2\n",
      "  Mean: 0.000001\n",
      "  Variance: 0.000097\n",
      "\n",
      "Column: lep_charge3\n",
      "  Mean: 0.000001\n",
      "  Variance: 0.000001\n",
      "\n",
      "Column: lep_type0\n",
      "  Mean: 0.504204\n",
      "  Variance: 5.848121\n",
      "\n",
      "Column: lep_type1\n",
      "  Mean: 0.064112\n",
      "  Variance: 0.775366\n",
      "\n",
      "Column: lep_type2\n",
      "  Mean: 0.001172\n",
      "  Variance: 0.014202\n",
      "\n",
      "Column: lep_type3\n",
      "  Mean: 0.000010\n",
      "  Variance: 0.000127\n",
      "\n",
      "Column: lep_isTightID0 is non-numeric and skipped.\n",
      "\n",
      "Column: lep_isTightID1 is non-numeric and skipped.\n",
      "\n",
      "Column: lep_isTightID2 is non-numeric and skipped.\n",
      "\n",
      "Column: lep_isTightID3 is non-numeric and skipped.\n",
      "\n",
      "Column: lep_ptcone300\n",
      "  Mean: 38.869626\n",
      "  Variance: 846277.259171\n",
      "\n",
      "Column: lep_ptcone301\n",
      "  Mean: 5.133946\n",
      "  Variance: 139275.549564\n",
      "\n",
      "Column: lep_ptcone302\n",
      "  Mean: 0.300020\n",
      "  Variance: 2637.263261\n",
      "\n",
      "Column: lep_ptcone303\n",
      "  Mean: 0.000000\n",
      "  Variance: 0.000000\n",
      "\n",
      "Column: lep_etcone200\n",
      "  Mean: 15.453285\n",
      "  Variance: 92214.191762\n",
      "\n",
      "Column: lep_etcone201\n",
      "  Mean: 1.990624\n",
      "  Variance: 10342.939221\n",
      "\n",
      "Column: lep_etcone202\n",
      "  Mean: 0.084925\n",
      "  Variance: 401.731294\n",
      "\n",
      "Column: lep_etcone203\n",
      "  Mean: 0.000208\n",
      "  Variance: 0.057975\n",
      "\n",
      "Column: lep_trackd0pvunbiased0\n",
      "  Mean: -0.000217\n",
      "  Variance: 0.014142\n",
      "\n",
      "Column: lep_trackd0pvunbiased1\n",
      "  Mean: 0.000003\n",
      "  Variance: 0.000415\n",
      "\n",
      "Column: lep_trackd0pvunbiased2\n",
      "  Mean: -0.000001\n",
      "  Variance: 0.000006\n",
      "\n",
      "Column: lep_trackd0pvunbiased3\n",
      "  Mean: 0.000000\n",
      "  Variance: 0.000000\n",
      "\n",
      "Column: lep_tracksigd0pvunbiased0\n",
      "  Mean: 0.202382\n",
      "  Variance: 26.231151\n",
      "\n",
      "Column: lep_tracksigd0pvunbiased1\n",
      "  Mean: 0.015369\n",
      "  Variance: 0.513589\n",
      "\n",
      "Column: lep_tracksigd0pvunbiased2\n",
      "  Mean: 0.000789\n",
      "  Variance: 0.021120\n",
      "\n",
      "Column: lep_tracksigd0pvunbiased3\n",
      "  Mean: 0.000028\n",
      "  Variance: 0.001030\n",
      "\n",
      "Column: jet_pt0\n",
      "  Mean: 51332.064269\n",
      "  Variance: 4554091780.936624\n",
      "\n",
      "Column: jet_pt1\n",
      "  Mean: 20224.086618\n",
      "  Variance: 1356469912.248346\n",
      "\n",
      "Column: jet_pt2\n",
      "  Mean: 9337.863362\n",
      "  Variance: 511872636.591760\n",
      "\n",
      "Column: jet_pt3\n",
      "  Mean: 4880.278827\n",
      "  Variance: 228264150.133253\n",
      "\n",
      "Column: jet_pt4\n",
      "  Mean: 2688.802929\n",
      "  Variance: 106604781.896586\n",
      "\n",
      "Column: jet_pt5\n",
      "  Mean: 1463.079845\n",
      "  Variance: 49949058.450916\n",
      "\n",
      "Column: jet_pt6\n",
      "  Mean: 736.697809\n",
      "  Variance: 22321695.753865\n",
      "\n",
      "Column: jet_pt7\n",
      "  Mean: 334.363443\n",
      "  Variance: 9253595.502829\n",
      "\n",
      "Column: jet_pt8\n",
      "  Mean: 134.986123\n",
      "  Variance: 3495741.020718\n",
      "\n",
      "Column: jet_pt9\n",
      "  Mean: 49.585933\n",
      "  Variance: 1229174.310233\n",
      "\n",
      "Column: jet_pt10\n",
      "  Mean: 15.972503\n",
      "  Variance: 383862.514375\n",
      "\n",
      "Column: jet_pt11\n",
      "  Mean: 4.805196\n",
      "  Variance: 111076.101625\n",
      "\n",
      "Column: jet_pt12\n",
      "  Mean: 1.160591\n",
      "  Variance: 26699.305662\n",
      "\n",
      "Column: jet_pt13\n",
      "  Mean: 0.233584\n",
      "  Variance: 5246.301602\n",
      "\n",
      "Column: jet_pt14\n",
      "  Mean: 0.065735\n",
      "  Variance: 1443.275970\n",
      "\n",
      "Column: jet_pt15\n",
      "  Mean: 0.046455\n",
      "  Variance: 960.147239\n",
      "\n",
      "Column: jet_eta0\n",
      "  Mean: 0.001638\n",
      "  Variance: 1.181510\n",
      "\n",
      "Column: jet_eta1\n",
      "  Mean: 0.002024\n",
      "  Variance: 0.656310\n",
      "\n",
      "Column: jet_eta2\n",
      "  Mean: 0.000180\n",
      "  Variance: 0.335682\n",
      "\n",
      "Column: jet_eta3\n",
      "  Mean: -0.000118\n",
      "  Variance: 0.189517\n",
      "\n",
      "Column: jet_eta4\n",
      "  Mean: 0.000485\n",
      "  Variance: 0.117273\n",
      "\n",
      "Column: jet_eta5\n",
      "  Mean: 0.000270\n",
      "  Variance: 0.072187\n",
      "\n",
      "Column: jet_eta6\n",
      "  Mean: -0.000025\n",
      "  Variance: 0.040475\n",
      "\n",
      "Column: jet_eta7\n",
      "  Mean: 0.000243\n",
      "  Variance: 0.020002\n",
      "\n",
      "Column: jet_eta8\n",
      "  Mean: 0.000046\n",
      "  Variance: 0.008399\n",
      "\n",
      "Column: jet_eta9\n",
      "  Mean: 0.000007\n",
      "  Variance: 0.003306\n",
      "\n",
      "Column: jet_eta10\n",
      "  Mean: 0.000019\n",
      "  Variance: 0.001001\n",
      "\n",
      "Column: jet_eta11\n",
      "  Mean: 0.000010\n",
      "  Variance: 0.000332\n",
      "\n",
      "Column: jet_eta12\n",
      "  Mean: 0.000008\n",
      "  Variance: 0.000065\n",
      "\n",
      "Column: jet_eta13\n",
      "  Mean: 0.000003\n",
      "  Variance: 0.000015\n",
      "\n",
      "Column: jet_eta14\n",
      "  Mean: 0.000003\n",
      "  Variance: 0.000006\n",
      "\n",
      "Column: jet_eta15\n",
      "  Mean: -0.000001\n",
      "  Variance: 0.000001\n",
      "\n",
      "Column: jet_phi0\n",
      "  Mean: 0.003618\n",
      "  Variance: 2.303877\n",
      "\n",
      "Column: jet_phi1\n",
      "  Mean: 0.001960\n",
      "  Variance: 1.300574\n",
      "\n",
      "Column: jet_phi2\n",
      "  Mean: 0.000323\n",
      "  Variance: 0.698729\n",
      "\n",
      "Column: jet_phi3\n",
      "  Mean: 0.000475\n",
      "  Variance: 0.404732\n",
      "\n",
      "Column: jet_phi4\n",
      "  Mean: -0.000166\n",
      "  Variance: 0.252758\n",
      "\n",
      "Column: jet_phi5\n",
      "  Mean: -0.000672\n",
      "  Variance: 0.154009\n",
      "\n",
      "Column: jet_phi6\n",
      "  Mean: 0.000102\n",
      "  Variance: 0.086292\n",
      "\n",
      "Column: jet_phi7\n",
      "  Mean: -0.000510\n",
      "  Variance: 0.042289\n",
      "\n",
      "Column: jet_phi8\n",
      "  Mean: 0.000135\n",
      "  Variance: 0.017698\n",
      "\n",
      "Column: jet_phi9\n",
      "  Mean: 0.000008\n",
      "  Variance: 0.006707\n",
      "\n",
      "Column: jet_phi10\n",
      "  Mean: -0.000104\n",
      "  Variance: 0.002249\n",
      "\n",
      "Column: jet_phi11\n",
      "  Mean: 0.000059\n",
      "  Variance: 0.000692\n",
      "\n",
      "Column: jet_phi12\n",
      "  Mean: -0.000000\n",
      "  Variance: 0.000156\n",
      "\n",
      "Column: jet_phi13\n",
      "  Mean: -0.000007\n",
      "  Variance: 0.000033\n",
      "\n",
      "Column: jet_phi14\n",
      "  Mean: 0.000000\n",
      "  Variance: 0.000007\n",
      "\n",
      "Column: jet_phi15\n",
      "  Mean: -0.000000\n",
      "  Variance: 0.000003\n",
      "\n",
      "Column: jet_E0\n",
      "  Mean: 105026.196637\n",
      "  Variance: 25309072277.045395\n",
      "\n",
      "Column: jet_E1\n",
      "  Mean: 40726.526954\n",
      "  Variance: 6921242231.114641\n",
      "\n",
      "Column: jet_E2\n",
      "  Mean: 18399.257552\n",
      "  Variance: 2534668253.058236\n",
      "\n",
      "Column: jet_E3\n",
      "  Mean: 9574.229048\n",
      "  Variance: 1137916431.543910\n",
      "\n",
      "Column: jet_E4\n",
      "  Mean: 5298.156083\n",
      "  Variance: 540469785.148499\n",
      "\n",
      "Column: jet_E5\n",
      "  Mean: 2918.253919\n",
      "  Variance: 264419053.100362\n",
      "\n",
      "Column: jet_E6\n",
      "  Mean: 1488.215753\n",
      "  Variance: 123030918.487662\n",
      "\n",
      "Column: jet_E7\n",
      "  Mean: 683.732357\n",
      "  Variance: 52746725.113178\n",
      "\n",
      "Column: jet_E8\n",
      "  Mean: 274.796487\n",
      "  Variance: 19854127.552599\n",
      "\n",
      "Column: jet_E9\n",
      "  Mean: 103.028884\n",
      "  Variance: 7331996.621494\n",
      "\n",
      "Column: jet_E10\n",
      "  Mean: 31.723663\n",
      "  Variance: 2117479.641814\n",
      "\n",
      "Column: jet_E11\n",
      "  Mean: 10.045015\n",
      "  Variance: 707418.614063\n",
      "\n",
      "Column: jet_E12\n",
      "  Mean: 2.159892\n",
      "  Variance: 130021.807483\n",
      "\n",
      "Column: jet_E13\n",
      "  Mean: 0.455887\n",
      "  Variance: 29735.061353\n",
      "\n",
      "Column: jet_E14\n",
      "  Mean: 0.151747\n",
      "  Variance: 9524.234833\n",
      "\n",
      "Column: jet_E15\n",
      "  Mean: 0.054376\n",
      "  Variance: 1329.531707\n",
      "\n",
      "Column: jet_jvt0\n",
      "  Mean: 0.668878\n",
      "  Variance: 0.203687\n",
      "\n",
      "Column: jet_jvt1\n",
      "  Mean: 0.375895\n",
      "  Variance: 0.222500\n",
      "\n",
      "Column: jet_jvt2\n",
      "  Mean: 0.201114\n",
      "  Variance: 0.154001\n",
      "\n",
      "Column: jet_jvt3\n",
      "  Mean: 0.117537\n",
      "  Variance: 0.100022\n",
      "\n",
      "Column: jet_jvt4\n",
      "  Mean: 0.073383\n",
      "  Variance: 0.065683\n",
      "\n",
      "Column: jet_jvt5\n",
      "  Mean: 0.044897\n",
      "  Variance: 0.041382\n",
      "\n",
      "Column: jet_jvt6\n",
      "  Mean: 0.024784\n",
      "  Variance: 0.023266\n",
      "\n",
      "Column: jet_jvt7\n",
      "  Mean: 0.012006\n",
      "  Variance: 0.011377\n",
      "\n",
      "Column: jet_jvt8\n",
      "  Mean: 0.005090\n",
      "  Variance: 0.004848\n",
      "\n",
      "Column: jet_jvt9\n",
      "  Mean: 0.001921\n",
      "  Variance: 0.001832\n",
      "\n",
      "Column: jet_jvt10\n",
      "  Mean: 0.000632\n",
      "  Variance: 0.000601\n",
      "\n",
      "Column: jet_jvt11\n",
      "  Mean: 0.000196\n",
      "  Variance: 0.000187\n",
      "\n",
      "Column: jet_jvt12\n",
      "  Mean: 0.000048\n",
      "  Variance: 0.000046\n",
      "\n",
      "Column: jet_jvt13\n",
      "  Mean: 0.000010\n",
      "  Variance: 0.000009\n",
      "\n",
      "Column: jet_jvt14\n",
      "  Mean: 0.000003\n",
      "  Variance: 0.000002\n",
      "\n",
      "Column: jet_jvt15\n",
      "  Mean: 0.000002\n",
      "  Variance: 0.000002\n",
      "\n",
      "Column: jet_trueflav0\n",
      "  Mean: 0.366459\n",
      "  Variance: 1.897231\n",
      "\n",
      "Column: jet_trueflav1\n",
      "  Mean: 0.291828\n",
      "  Variance: 1.615605\n",
      "\n",
      "Column: jet_trueflav2\n",
      "  Mean: 0.210677\n",
      "  Variance: 1.266222\n",
      "\n",
      "Column: jet_trueflav3\n",
      "  Mean: 0.149049\n",
      "  Variance: 0.943778\n",
      "\n",
      "Column: jet_trueflav4\n",
      "  Mean: 0.093182\n",
      "  Variance: 0.594102\n",
      "\n",
      "Column: jet_trueflav5\n",
      "  Mean: 0.052044\n",
      "  Variance: 0.327784\n",
      "\n",
      "Column: jet_trueflav6\n",
      "  Mean: 0.024893\n",
      "  Variance: 0.152460\n",
      "\n",
      "Column: jet_trueflav7\n",
      "  Mean: 0.010286\n",
      "  Variance: 0.061082\n",
      "\n",
      "Column: jet_trueflav8\n",
      "  Mean: 0.003922\n",
      "  Variance: 0.022534\n",
      "\n",
      "Column: jet_trueflav9\n",
      "  Mean: 0.001295\n",
      "  Variance: 0.007302\n",
      "\n",
      "Column: jet_trueflav10\n",
      "  Mean: 0.000481\n",
      "  Variance: 0.003049\n",
      "\n",
      "Column: jet_trueflav11\n",
      "  Mean: 0.000139\n",
      "  Variance: 0.000768\n",
      "\n",
      "Column: jet_trueflav12\n",
      "  Mean: 0.000029\n",
      "  Variance: 0.000128\n",
      "\n",
      "Column: jet_trueflav13\n",
      "  Mean: 0.000010\n",
      "  Variance: 0.000043\n",
      "\n",
      "Column: jet_trueflav14\n",
      "  Mean: 0.000000\n",
      "  Variance: 0.000000\n",
      "\n",
      "Column: jet_trueflav15\n",
      "  Mean: 0.000000\n",
      "  Variance: 0.000000\n",
      "\n",
      "Column: jet_truthMatched0 is non-numeric and skipped.\n",
      "\n",
      "Column: jet_truthMatched1 is non-numeric and skipped.\n",
      "\n",
      "Column: jet_truthMatched2 is non-numeric and skipped.\n",
      "\n",
      "Column: jet_truthMatched3 is non-numeric and skipped.\n",
      "\n",
      "Column: jet_truthMatched4 is non-numeric and skipped.\n",
      "\n",
      "Column: jet_truthMatched5 is non-numeric and skipped.\n",
      "\n",
      "Column: jet_truthMatched6 is non-numeric and skipped.\n",
      "\n",
      "Column: jet_truthMatched7 is non-numeric and skipped.\n",
      "\n",
      "Column: jet_truthMatched8 is non-numeric and skipped.\n",
      "\n",
      "Column: jet_truthMatched9 is non-numeric and skipped.\n",
      "\n",
      "Column: jet_truthMatched10 is non-numeric and skipped.\n",
      "\n",
      "Column: jet_truthMatched11 is non-numeric and skipped.\n",
      "\n",
      "Column: jet_truthMatched12 is non-numeric and skipped.\n",
      "\n",
      "Column: jet_truthMatched13 is non-numeric and skipped.\n",
      "\n",
      "Column: jet_truthMatched14 is non-numeric and skipped.\n",
      "\n",
      "Column: jet_truthMatched15 is non-numeric and skipped.\n",
      "\n",
      "Column: jet_MV2c100\n",
      "  Mean: -0.368107\n",
      "  Variance: 0.268689\n",
      "\n",
      "Column: jet_MV2c101\n",
      "  Mean: -0.188714\n",
      "  Variance: 0.189272\n",
      "\n",
      "Column: jet_MV2c102\n",
      "  Mean: -0.094100\n",
      "  Variance: 0.112287\n",
      "\n",
      "Column: jet_MV2c103\n",
      "  Mean: -0.053177\n",
      "  Variance: 0.068428\n",
      "\n",
      "Column: jet_MV2c104\n",
      "  Mean: -0.034473\n",
      "  Variance: 0.043010\n",
      "\n",
      "Column: jet_MV2c105\n",
      "  Mean: -0.022464\n",
      "  Variance: 0.026225\n",
      "\n",
      "Column: jet_MV2c106\n",
      "  Mean: -0.013191\n",
      "  Variance: 0.014465\n",
      "\n",
      "Column: jet_MV2c107\n",
      "  Mean: -0.006826\n",
      "  Variance: 0.006999\n",
      "\n",
      "Column: jet_MV2c108\n",
      "  Mean: -0.002950\n",
      "  Variance: 0.002979\n",
      "\n",
      "Column: jet_MV2c109\n",
      "  Mean: -0.001156\n",
      "  Variance: 0.001130\n",
      "\n",
      "Column: jet_MV2c1010\n",
      "  Mean: -0.000362\n",
      "  Variance: 0.000362\n",
      "\n",
      "Column: jet_MV2c1011\n",
      "  Mean: -0.000120\n",
      "  Variance: 0.000117\n",
      "\n",
      "Column: jet_MV2c1012\n",
      "  Mean: -0.000031\n",
      "  Variance: 0.000029\n",
      "\n",
      "Column: jet_MV2c1013\n",
      "  Mean: -0.000004\n",
      "  Variance: 0.000005\n",
      "\n",
      "Column: jet_MV2c1014\n",
      "  Mean: -0.000002\n",
      "  Variance: 0.000002\n",
      "\n",
      "Column: jet_MV2c1015\n",
      "  Mean: -0.000002\n",
      "  Variance: 0.000001\n",
      "\n",
      "Column: photon_truthMatched0 is non-numeric and skipped.\n",
      "\n",
      "Column: photon_truthMatched1 is non-numeric and skipped.\n",
      "\n",
      "Column: photon_truthMatched2 is non-numeric and skipped.\n",
      "\n",
      "Column: photon_truthMatched3 is non-numeric and skipped.\n",
      "\n",
      "Column: photon_truthMatched4 is non-numeric and skipped.\n",
      "\n",
      "Column: photon_trigMatched0\n",
      "  Mean: 0.999941\n",
      "  Variance: 0.000059\n",
      "\n",
      "Column: photon_trigMatched1\n",
      "  Mean: 0.999701\n",
      "  Variance: 0.000299\n",
      "\n",
      "Column: photon_trigMatched2 is non-numeric and skipped.\n",
      "\n",
      "Column: photon_trigMatched3 is non-numeric and skipped.\n",
      "\n",
      "Column: photon_trigMatched4 is non-numeric and skipped.\n",
      "\n",
      "Column: photon_pt0\n",
      "  Mean: 73733.666800\n",
      "  Variance: 1915121624.711597\n",
      "\n",
      "Column: photon_pt1\n",
      "  Mean: 44249.093877\n",
      "  Variance: 452009108.934861\n",
      "\n",
      "Column: photon_pt2\n",
      "  Mean: 329.141456\n",
      "  Variance: 16659018.409379\n",
      "\n",
      "Column: photon_pt3\n",
      "  Mean: 3.186345\n",
      "  Variance: 143716.888328\n",
      "\n",
      "Column: photon_pt4\n",
      "  Mean: 0.019070\n",
      "  Variance: 485.119165\n",
      "\n",
      "Column: photon_eta0\n",
      "  Mean: -0.015751\n",
      "  Variance: 1.341059\n",
      "\n",
      "Column: photon_eta1\n",
      "  Mean: -0.012746\n",
      "  Variance: 1.306181\n",
      "\n",
      "Column: photon_eta2\n",
      "  Mean: -0.000170\n",
      "  Variance: 0.010394\n",
      "\n",
      "Column: photon_eta3\n",
      "  Mean: -0.000006\n",
      "  Variance: 0.000125\n",
      "\n",
      "Column: photon_eta4\n",
      "  Mean: 0.000001\n",
      "  Variance: 0.000001\n",
      "\n",
      "Column: photon_phi0\n",
      "  Mean: 0.000213\n",
      "  Variance: 3.290551\n",
      "\n",
      "Column: photon_phi1\n",
      "  Mean: 0.004652\n",
      "  Variance: 3.334050\n",
      "\n",
      "Column: photon_phi2\n",
      "  Mean: 0.000063\n",
      "  Variance: 0.026355\n",
      "\n",
      "Column: photon_phi3\n",
      "  Mean: -0.000008\n",
      "  Variance: 0.000309\n",
      "\n",
      "Column: photon_phi4\n",
      "  Mean: 0.000001\n",
      "  Variance: 0.000001\n",
      "\n",
      "Column: photon_E0\n",
      "  Mean: 134561.936153\n",
      "  Variance: 11935035800.450222\n",
      "\n",
      "Column: photon_E1\n",
      "  Mean: 80366.337358\n",
      "  Variance: 3597051118.997322\n",
      "\n",
      "Column: photon_E2\n",
      "  Mean: 591.453129\n",
      "  Variance: 65984979.420613\n",
      "\n",
      "Column: photon_E3\n",
      "  Mean: 5.996328\n",
      "  Variance: 597027.489190\n",
      "\n",
      "Column: photon_E4\n",
      "  Mean: 0.028964\n",
      "  Variance: 1119.018462\n",
      "\n",
      "Column: photon_isTightID0\n",
      "  Mean: 0.572188\n",
      "  Variance: 0.244789\n",
      "\n",
      "Column: photon_isTightID1\n",
      "  Mean: 0.515299\n",
      "  Variance: 0.249766\n",
      "\n",
      "Column: photon_isTightID2 is non-numeric and skipped.\n",
      "\n",
      "Column: photon_isTightID3 is non-numeric and skipped.\n",
      "\n",
      "Column: photon_isTightID4 is non-numeric and skipped.\n",
      "\n",
      "Column: photon_ptcone300\n",
      "  Mean: 8287.842085\n",
      "  Variance: 30575367206.868107\n",
      "\n",
      "Column: photon_ptcone301\n",
      "  Mean: 7133.256595\n",
      "  Variance: 6119828617.255010\n",
      "\n",
      "Column: photon_ptcone302\n",
      "  Mean: 75.077069\n",
      "  Variance: 4064062.297805\n",
      "\n",
      "Column: photon_ptcone303\n",
      "  Mean: 0.720980\n",
      "  Variance: 25380.433784\n",
      "\n",
      "Column: photon_ptcone304\n",
      "  Mean: 0.016682\n",
      "  Variance: 371.218651\n",
      "\n",
      "Column: photon_etcone200\n",
      "  Mean: 3571.625989\n",
      "  Variance: 44755525.222538\n",
      "\n",
      "Column: photon_etcone201\n",
      "  Mean: 3410.099013\n",
      "  Variance: 36889269.484813\n",
      "\n",
      "Column: photon_etcone202\n",
      "  Mean: 42.703804\n",
      "  Variance: 1584247.115891\n",
      "\n",
      "Column: photon_etcone203\n",
      "  Mean: 0.380405\n",
      "  Variance: 9470.873509\n",
      "\n",
      "Column: photon_etcone204\n",
      "  Mean: 0.007577\n",
      "  Variance: 76.579881\n",
      "\n",
      "Column: photon_convType0\n",
      "  Mean: 1.045226\n",
      "  Variance: 2.027124\n",
      "\n",
      "Column: photon_convType1\n",
      "  Mean: 0.940158\n",
      "  Variance: 1.883716\n",
      "\n",
      "Column: photon_convType2\n",
      "  Mean: 0.008439\n",
      "  Variance: 0.025015\n",
      "\n",
      "Column: photon_convType3\n",
      "  Mean: 0.000094\n",
      "  Variance: 0.000257\n",
      "\n",
      "Column: photon_convType4\n",
      "  Mean: 0.000004\n",
      "  Variance: 0.000019\n",
      "\n",
      "Column: lep_pt_syst0\n",
      "  Mean: 39.994897\n",
      "  Variance: 3496657.215929\n",
      "\n",
      "Column: lep_pt_syst1\n",
      "  Mean: 3.396439\n",
      "  Variance: 211546.579152\n",
      "\n",
      "Column: lep_pt_syst2\n",
      "  Mean: 0.267998\n",
      "  Variance: 22701.467487\n",
      "\n",
      "Column: lep_pt_syst3\n",
      "  Mean: 0.000032\n",
      "  Variance: 0.001354\n",
      "\n",
      "Column: jet_pt_syst0\n",
      "  Mean: 1270.720933\n",
      "  Variance: 6917215.052110\n",
      "\n",
      "Column: jet_pt_syst1\n",
      "  Mean: 712.333760\n",
      "  Variance: 3445556.376007\n",
      "\n",
      "Column: jet_pt_syst2\n",
      "  Mean: 431.860124\n",
      "  Variance: 1999101.072585\n",
      "\n",
      "Column: jet_pt_syst3\n",
      "  Mean: 296.183469\n",
      "  Variance: 1351449.923390\n",
      "\n",
      "Column: jet_pt_syst4\n",
      "  Mean: 200.390228\n",
      "  Variance: 847037.285254\n",
      "\n",
      "Column: jet_pt_syst5\n",
      "  Mean: 124.128225\n",
      "  Variance: 496007.182559\n",
      "\n",
      "Column: jet_pt_syst6\n",
      "  Mean: 66.368012\n",
      "  Variance: 235536.713583\n",
      "\n",
      "Column: jet_pt_syst7\n",
      "  Mean: 30.919635\n",
      "  Variance: 101992.924703\n",
      "\n",
      "Column: jet_pt_syst8\n",
      "  Mean: 12.489430\n",
      "  Variance: 38612.278974\n",
      "\n",
      "Column: jet_pt_syst9\n",
      "  Mean: 4.559072\n",
      "  Variance: 13531.981222\n",
      "\n",
      "Column: jet_pt_syst10\n",
      "  Mean: 1.437489\n",
      "  Variance: 3958.453070\n",
      "\n",
      "Column: jet_pt_syst11\n",
      "  Mean: 0.419629\n",
      "  Variance: 1074.338285\n",
      "\n",
      "Column: jet_pt_syst12\n",
      "  Mean: 0.099812\n",
      "  Variance: 255.300515\n",
      "\n",
      "Column: jet_pt_syst13\n",
      "  Mean: 0.021027\n",
      "  Variance: 62.648685\n",
      "\n",
      "Column: jet_pt_syst14\n",
      "  Mean: 0.005820\n",
      "  Variance: 11.766447\n",
      "\n",
      "Column: jet_pt_syst15\n",
      "  Mean: 0.002948\n",
      "  Variance: 3.979261\n",
      "\n",
      "Column: photon_pt_syst2\n",
      "  Mean: 2.427487\n",
      "  Variance: 3613.062296\n",
      "\n",
      "Column: photon_pt_syst3\n",
      "  Mean: 0.025245\n",
      "  Variance: 12.241575\n",
      "\n",
      "Column: photon_pt_syst4\n",
      "  Mean: 0.000175\n",
      "  Variance: 0.040931\n",
      "\n"
     ]
    }
   ],
   "source": [
    "import pandas as pd\n",
    "\n",
    "# Assuming `expanded_df` is the DataFrame you're working with\n",
    "\n",
    "def print_column_statistics(df):\n",
    "    \"\"\"\n",
    "    Prints the column names, their mean, and variance.\n",
    "\n",
    "    :param df: The DataFrame containing the features.\n",
    "    \"\"\"\n",
    "    print(\"Calculating mean and variance for each column...\\n\")\n",
    "    for column in df.columns:\n",
    "        if pd.api.types.is_numeric_dtype(df[column]):\n",
    "            mean_value = df[column].mean()\n",
    "            variance_value = df[column].var()\n",
    "            print(f\"Column: {column}\\n  Mean: {mean_value:.6f}\\n  Variance: {variance_value:.6f}\\n\")\n",
    "        else:\n",
    "            print(f\"Column: {column} is non-numeric and skipped.\\n\")\n",
    "\n",
    "# Print the statistics for all columns in the DataFrame\n",
    "print_column_statistics(cleaned_df)\n"
   ]
  },
  {
   "cell_type": "code",
   "execution_count": 7,
   "metadata": {},
   "outputs": [
    {
     "name": "stdout",
     "output_type": "stream",
     "text": [
      "Calculating total invariant mass considering all particles in each event...\n"
     ]
    },
    {
     "name": "stderr",
     "output_type": "stream",
     "text": [
      "Calculating total invariant mass:   0%|          | 5989/1333914 [01:02<08:52, 2491.71it/s] "
     ]
    },
    {
     "name": "stdout",
     "output_type": "stream",
     "text": [
      "Missing data for lep_4 in row 5538, skipping this particle.\n"
     ]
    },
    {
     "name": "stderr",
     "output_type": "stream",
     "text": [
      "Calculating total invariant mass:   1%|▏         | 17808/1333914 [01:06<05:47, 3787.26it/s]"
     ]
    },
    {
     "name": "stdout",
     "output_type": "stream",
     "text": [
      "Missing data for lep_4 in row 17414, skipping this particle.\n"
     ]
    },
    {
     "name": "stderr",
     "output_type": "stream",
     "text": [
      "Calculating total invariant mass:   1%|▏         | 19804/1333914 [01:06<05:41, 3848.04it/s]"
     ]
    },
    {
     "name": "stdout",
     "output_type": "stream",
     "text": [
      "Missing data for lep_4 in row 19310, skipping this particle.\n"
     ]
    },
    {
     "name": "stderr",
     "output_type": "stream",
     "text": [
      "Calculating total invariant mass:   2%|▏         | 24229/1333914 [01:07<05:36, 3888.63it/s]"
     ]
    },
    {
     "name": "stdout",
     "output_type": "stream",
     "text": [
      "Missing data for lep_4 in row 23689, skipping this particle.\n"
     ]
    },
    {
     "name": "stderr",
     "output_type": "stream",
     "text": [
      "Calculating total invariant mass:   2%|▏         | 27398/1333914 [01:08<05:49, 3742.42it/s]"
     ]
    },
    {
     "name": "stdout",
     "output_type": "stream",
     "text": [
      "Missing data for jet_16 in row 26793, skipping this particle.\n",
      "Missing data for jet_17 in row 26793, skipping this particle.\n"
     ]
    },
    {
     "name": "stderr",
     "output_type": "stream",
     "text": [
      "Calculating total invariant mass:   2%|▏         | 30522/1333914 [01:09<05:56, 3651.80it/s]"
     ]
    },
    {
     "name": "stdout",
     "output_type": "stream",
     "text": [
      "Missing data for lep_4 in row 30117, skipping this particle.\n",
      "Missing data for lep_4 in row 30722, skipping this particle.\n"
     ]
    },
    {
     "name": "stderr",
     "output_type": "stream",
     "text": [
      "Calculating total invariant mass:   4%|▎         | 49043/1333914 [01:14<05:35, 3828.97it/s]"
     ]
    },
    {
     "name": "stdout",
     "output_type": "stream",
     "text": [
      "Missing data for lep_4 in row 48472, skipping this particle.\n"
     ]
    },
    {
     "name": "stderr",
     "output_type": "stream",
     "text": [
      "Calculating total invariant mass:   5%|▍         | 64532/1333914 [01:18<05:38, 3753.72it/s]"
     ]
    },
    {
     "name": "stdout",
     "output_type": "stream",
     "text": [
      "Missing data for lep_4 in row 63895, skipping this particle.\n"
     ]
    },
    {
     "name": "stderr",
     "output_type": "stream",
     "text": [
      "Calculating total invariant mass:   5%|▍         | 65708/1333914 [01:18<05:41, 3718.60it/s]"
     ]
    },
    {
     "name": "stdout",
     "output_type": "stream",
     "text": [
      "Missing data for lep_4 in row 65146, skipping this particle.\n"
     ]
    },
    {
     "name": "stderr",
     "output_type": "stream",
     "text": [
      "Calculating total invariant mass:   5%|▌         | 66877/1333914 [01:19<05:39, 3731.53it/s]"
     ]
    },
    {
     "name": "stdout",
     "output_type": "stream",
     "text": [
      "Missing data for lep_4 in row 66422, skipping this particle.\n"
     ]
    },
    {
     "name": "stderr",
     "output_type": "stream",
     "text": [
      "Calculating total invariant mass:   5%|▌         | 70493/1333914 [01:20<05:36, 3750.25it/s]"
     ]
    },
    {
     "name": "stdout",
     "output_type": "stream",
     "text": [
      "Missing data for lep_4 in row 69909, skipping this particle.\n"
     ]
    },
    {
     "name": "stderr",
     "output_type": "stream",
     "text": [
      "Calculating total invariant mass:   5%|▌         | 73272/1333914 [01:20<05:35, 3760.06it/s]"
     ]
    },
    {
     "name": "stdout",
     "output_type": "stream",
     "text": [
      "Missing data for lep_4 in row 72883, skipping this particle.\n"
     ]
    },
    {
     "name": "stderr",
     "output_type": "stream",
     "text": [
      "Calculating total invariant mass:   6%|▌         | 77150/1333914 [01:21<05:44, 3650.62it/s]"
     ]
    },
    {
     "name": "stdout",
     "output_type": "stream",
     "text": [
      "Missing data for lep_4 in row 76649, skipping this particle.\n"
     ]
    },
    {
     "name": "stderr",
     "output_type": "stream",
     "text": [
      "Calculating total invariant mass:   6%|▌         | 83121/1333914 [01:23<05:28, 3806.59it/s]"
     ]
    },
    {
     "name": "stdout",
     "output_type": "stream",
     "text": [
      "Missing data for lep_4 in row 82480, skipping this particle.\n"
     ]
    },
    {
     "name": "stderr",
     "output_type": "stream",
     "text": [
      "Calculating total invariant mass:   8%|▊         | 103389/1333914 [01:28<05:36, 3653.77it/s]"
     ]
    },
    {
     "name": "stdout",
     "output_type": "stream",
     "text": [
      "Missing data for lep_4 in row 102868, skipping this particle.\n"
     ]
    },
    {
     "name": "stderr",
     "output_type": "stream",
     "text": [
      "Calculating total invariant mass:   9%|▉         | 118708/1333914 [01:32<05:22, 3771.33it/s]"
     ]
    },
    {
     "name": "stdout",
     "output_type": "stream",
     "text": [
      "Missing data for lep_4 in row 118049, skipping this particle.\n"
     ]
    },
    {
     "name": "stderr",
     "output_type": "stream",
     "text": [
      "Calculating total invariant mass:   9%|▉         | 119874/1333914 [01:33<05:33, 3643.12it/s]"
     ]
    },
    {
     "name": "stdout",
     "output_type": "stream",
     "text": [
      "Missing data for lep_4 in row 119436, skipping this particle.\n",
      "Missing data for lep_4 in row 119792, skipping this particle.\n"
     ]
    },
    {
     "name": "stderr",
     "output_type": "stream",
     "text": [
      "Calculating total invariant mass:   9%|▉         | 122889/1333914 [01:34<05:31, 3648.31it/s]"
     ]
    },
    {
     "name": "stdout",
     "output_type": "stream",
     "text": [
      "Missing data for lep_4 in row 122142, skipping this particle.\n"
     ]
    },
    {
     "name": "stderr",
     "output_type": "stream",
     "text": [
      "Calculating total invariant mass:  10%|▉         | 131245/1333914 [01:36<05:28, 3665.20it/s]"
     ]
    },
    {
     "name": "stdout",
     "output_type": "stream",
     "text": [
      "Missing data for lep_4 in row 130513, skipping this particle.\n"
     ]
    },
    {
     "name": "stderr",
     "output_type": "stream",
     "text": [
      "Calculating total invariant mass:  10%|█         | 135535/1333914 [01:37<05:26, 3675.53it/s]"
     ]
    },
    {
     "name": "stdout",
     "output_type": "stream",
     "text": [
      "Missing data for lep_4 in row 134754, skipping this particle.\n",
      "Missing data for lep_4 in row 134892, skipping this particle.\n"
     ]
    },
    {
     "name": "stderr",
     "output_type": "stream",
     "text": [
      "Calculating total invariant mass:  11%|█         | 141899/1333914 [01:39<05:17, 3750.37it/s]"
     ]
    },
    {
     "name": "stdout",
     "output_type": "stream",
     "text": [
      "Missing data for lep_4 in row 141284, skipping this particle.\n"
     ]
    },
    {
     "name": "stderr",
     "output_type": "stream",
     "text": [
      "Calculating total invariant mass:  12%|█▏        | 159024/1333914 [01:43<05:07, 3824.49it/s]"
     ]
    },
    {
     "name": "stdout",
     "output_type": "stream",
     "text": [
      "Missing data for lep_4 in row 158217, skipping this particle.\n"
     ]
    },
    {
     "name": "stderr",
     "output_type": "stream",
     "text": [
      "Calculating total invariant mass:  12%|█▏        | 162646/1333914 [01:44<05:06, 3822.58it/s]"
     ]
    },
    {
     "name": "stdout",
     "output_type": "stream",
     "text": [
      "Missing data for lep_4 in row 162177, skipping this particle.\n"
     ]
    },
    {
     "name": "stderr",
     "output_type": "stream",
     "text": [
      "Calculating total invariant mass:  13%|█▎        | 170501/1333914 [01:46<05:08, 3766.79it/s]"
     ]
    },
    {
     "name": "stdout",
     "output_type": "stream",
     "text": [
      "Missing data for lep_4 in row 170065, skipping this particle.\n"
     ]
    },
    {
     "name": "stderr",
     "output_type": "stream",
     "text": [
      "Calculating total invariant mass:  13%|█▎        | 172869/1333914 [01:47<05:13, 3702.04it/s]"
     ]
    },
    {
     "name": "stdout",
     "output_type": "stream",
     "text": [
      "Missing data for lep_4 in row 172262, skipping this particle.\n"
     ]
    },
    {
     "name": "stderr",
     "output_type": "stream",
     "text": [
      "Calculating total invariant mass:  13%|█▎        | 178073/1333914 [01:48<05:12, 3703.82it/s]"
     ]
    },
    {
     "name": "stdout",
     "output_type": "stream",
     "text": [
      "Missing data for lep_4 in row 177548, skipping this particle.\n"
     ]
    },
    {
     "name": "stderr",
     "output_type": "stream",
     "text": [
      "Calculating total invariant mass:  13%|█▎        | 179209/1333914 [01:49<05:24, 3555.11it/s]"
     ]
    },
    {
     "name": "stdout",
     "output_type": "stream",
     "text": [
      "Missing data for lep_4 in row 178466, skipping this particle.\n"
     ]
    },
    {
     "name": "stderr",
     "output_type": "stream",
     "text": [
      "Calculating total invariant mass:  14%|█▍        | 185124/1333914 [01:50<05:15, 3641.95it/s]"
     ]
    },
    {
     "name": "stdout",
     "output_type": "stream",
     "text": [
      "Missing data for lep_4 in row 184534, skipping this particle.\n"
     ]
    },
    {
     "name": "stderr",
     "output_type": "stream",
     "text": [
      "Calculating total invariant mass:  15%|█▍        | 196113/1333914 [01:53<05:00, 3783.05it/s]"
     ]
    },
    {
     "name": "stdout",
     "output_type": "stream",
     "text": [
      "Missing data for lep_4 in row 195406, skipping this particle.\n"
     ]
    },
    {
     "name": "stderr",
     "output_type": "stream",
     "text": [
      "Calculating total invariant mass:  15%|█▍        | 197632/1333914 [01:54<05:08, 3681.81it/s]"
     ]
    },
    {
     "name": "stdout",
     "output_type": "stream",
     "text": [
      "Missing data for lep_4 in row 197041, skipping this particle.\n",
      "Missing data for lep_4 in row 197753, skipping this particle.\n"
     ]
    },
    {
     "name": "stderr",
     "output_type": "stream",
     "text": [
      "Calculating total invariant mass:  15%|█▍        | 199214/1333914 [01:54<05:00, 3771.67it/s]"
     ]
    },
    {
     "name": "stdout",
     "output_type": "stream",
     "text": [
      "Missing data for lep_4 in row 198649, skipping this particle.\n",
      "Missing data for lep_5 in row 198649, skipping this particle.\n"
     ]
    },
    {
     "name": "stderr",
     "output_type": "stream",
     "text": [
      "Calculating total invariant mass:  16%|█▌        | 208103/1333914 [01:56<05:02, 3723.03it/s]"
     ]
    },
    {
     "name": "stdout",
     "output_type": "stream",
     "text": [
      "Missing data for lep_4 in row 207599, skipping this particle.\n"
     ]
    },
    {
     "name": "stderr",
     "output_type": "stream",
     "text": [
      "Calculating total invariant mass:  18%|█▊        | 238348/1333914 [02:04<04:48, 3803.46it/s]"
     ]
    },
    {
     "name": "stdout",
     "output_type": "stream",
     "text": [
      "Missing data for lep_4 in row 237797, skipping this particle.\n",
      "Missing data for lep_4 in row 238109, skipping this particle.\n"
     ]
    },
    {
     "name": "stderr",
     "output_type": "stream",
     "text": [
      "Calculating total invariant mass:  18%|█▊        | 240722/1333914 [02:05<04:58, 3661.14it/s]"
     ]
    },
    {
     "name": "stdout",
     "output_type": "stream",
     "text": [
      "Missing data for lep_4 in row 240287, skipping this particle.\n"
     ]
    },
    {
     "name": "stderr",
     "output_type": "stream",
     "text": [
      "Calculating total invariant mass:  18%|█▊        | 244200/1333914 [02:06<04:57, 3667.38it/s]"
     ]
    },
    {
     "name": "stdout",
     "output_type": "stream",
     "text": [
      "Missing data for lep_4 in row 243744, skipping this particle.\n"
     ]
    },
    {
     "name": "stderr",
     "output_type": "stream",
     "text": [
      "Calculating total invariant mass:  18%|█▊        | 245778/1333914 [02:06<04:52, 3724.56it/s]"
     ]
    },
    {
     "name": "stdout",
     "output_type": "stream",
     "text": [
      "Missing data for lep_4 in row 245121, skipping this particle.\n"
     ]
    },
    {
     "name": "stderr",
     "output_type": "stream",
     "text": [
      "Calculating total invariant mass:  19%|█▉        | 256022/1333914 [02:09<04:40, 3841.86it/s]"
     ]
    },
    {
     "name": "stdout",
     "output_type": "stream",
     "text": [
      "Missing data for lep_4 in row 255304, skipping this particle.\n"
     ]
    },
    {
     "name": "stderr",
     "output_type": "stream",
     "text": [
      "Calculating total invariant mass:  20%|██        | 268006/1333914 [02:12<04:45, 3731.56it/s]"
     ]
    },
    {
     "name": "stdout",
     "output_type": "stream",
     "text": [
      "Missing data for lep_4 in row 267293, skipping this particle.\n"
     ]
    },
    {
     "name": "stderr",
     "output_type": "stream",
     "text": [
      "Calculating total invariant mass:  21%|██        | 273879/1333914 [02:14<04:45, 3710.62it/s]"
     ]
    },
    {
     "name": "stdout",
     "output_type": "stream",
     "text": [
      "Missing data for lep_4 in row 273275, skipping this particle.\n"
     ]
    },
    {
     "name": "stderr",
     "output_type": "stream",
     "text": [
      "Calculating total invariant mass:  21%|██        | 282991/1333914 [02:16<04:38, 3773.61it/s]"
     ]
    },
    {
     "name": "stdout",
     "output_type": "stream",
     "text": [
      "Missing data for lep_4 in row 282518, skipping this particle.\n"
     ]
    },
    {
     "name": "stderr",
     "output_type": "stream",
     "text": [
      "Calculating total invariant mass:  23%|██▎       | 300518/1333914 [02:21<04:35, 3757.25it/s]"
     ]
    },
    {
     "name": "stdout",
     "output_type": "stream",
     "text": [
      "Missing data for lep_4 in row 299860, skipping this particle.\n",
      "Missing data for lep_5 in row 299860, skipping this particle.\n"
     ]
    },
    {
     "name": "stderr",
     "output_type": "stream",
     "text": [
      "Calculating total invariant mass:  23%|██▎       | 310557/1333914 [02:24<04:31, 3763.30it/s]"
     ]
    },
    {
     "name": "stdout",
     "output_type": "stream",
     "text": [
      "Missing data for lep_4 in row 309874, skipping this particle.\n"
     ]
    },
    {
     "name": "stderr",
     "output_type": "stream",
     "text": [
      "Calculating total invariant mass:  23%|██▎       | 312939/1333914 [02:24<04:31, 3756.83it/s]"
     ]
    },
    {
     "name": "stdout",
     "output_type": "stream",
     "text": [
      "Missing data for lep_4 in row 312443, skipping this particle.\n"
     ]
    },
    {
     "name": "stderr",
     "output_type": "stream",
     "text": [
      "Calculating total invariant mass:  24%|██▍       | 323005/1333914 [02:27<04:42, 3581.11it/s]"
     ]
    },
    {
     "name": "stdout",
     "output_type": "stream",
     "text": [
      "Missing data for lep_4 in row 322549, skipping this particle.\n"
     ]
    },
    {
     "name": "stderr",
     "output_type": "stream",
     "text": [
      "Calculating total invariant mass:  24%|██▍       | 324983/1333914 [02:28<05:08, 3271.12it/s]"
     ]
    },
    {
     "name": "stdout",
     "output_type": "stream",
     "text": [
      "Missing data for lep_4 in row 324444, skipping this particle.\n",
      "Missing data for lep_4 in row 324982, skipping this particle.\n"
     ]
    },
    {
     "name": "stderr",
     "output_type": "stream",
     "text": [
      "Calculating total invariant mass:  25%|██▍       | 327747/1333914 [02:28<04:30, 3720.23it/s]"
     ]
    },
    {
     "name": "stdout",
     "output_type": "stream",
     "text": [
      "Missing data for lep_4 in row 327189, skipping this particle.\n"
     ]
    },
    {
     "name": "stderr",
     "output_type": "stream",
     "text": [
      "Calculating total invariant mass:  25%|██▍       | 330441/1333914 [02:29<04:30, 3712.96it/s]"
     ]
    },
    {
     "name": "stdout",
     "output_type": "stream",
     "text": [
      "Missing data for lep_4 in row 329856, skipping this particle.\n"
     ]
    },
    {
     "name": "stderr",
     "output_type": "stream",
     "text": [
      "Calculating total invariant mass:  25%|██▌       | 338045/1333914 [02:31<04:21, 3801.13it/s]"
     ]
    },
    {
     "name": "stdout",
     "output_type": "stream",
     "text": [
      "Missing data for lep_4 in row 337346, skipping this particle.\n"
     ]
    },
    {
     "name": "stderr",
     "output_type": "stream",
     "text": [
      "Calculating total invariant mass:  26%|██▌       | 341267/1333914 [02:32<04:21, 3802.00it/s]"
     ]
    },
    {
     "name": "stdout",
     "output_type": "stream",
     "text": [
      "Missing data for lep_4 in row 340650, skipping this particle.\n"
     ]
    },
    {
     "name": "stderr",
     "output_type": "stream",
     "text": [
      "Calculating total invariant mass:  26%|██▌       | 344824/1333914 [02:33<04:19, 3813.39it/s]"
     ]
    },
    {
     "name": "stdout",
     "output_type": "stream",
     "text": [
      "Missing data for lep_4 in row 344181, skipping this particle.\n"
     ]
    },
    {
     "name": "stderr",
     "output_type": "stream",
     "text": [
      "Calculating total invariant mass:  26%|██▌       | 349690/1333914 [02:34<04:12, 3900.21it/s]"
     ]
    },
    {
     "name": "stdout",
     "output_type": "stream",
     "text": [
      "Missing data for lep_4 in row 348959, skipping this particle.\n"
     ]
    },
    {
     "name": "stderr",
     "output_type": "stream",
     "text": [
      "Calculating total invariant mass:  26%|██▋       | 350909/1333914 [02:35<04:12, 3891.66it/s]"
     ]
    },
    {
     "name": "stdout",
     "output_type": "stream",
     "text": [
      "Missing data for lep_4 in row 350476, skipping this particle.\n"
     ]
    },
    {
     "name": "stderr",
     "output_type": "stream",
     "text": [
      "Calculating total invariant mass:  27%|██▋       | 360063/1333914 [02:37<04:17, 3785.54it/s]"
     ]
    },
    {
     "name": "stdout",
     "output_type": "stream",
     "text": [
      "Missing data for lep_4 in row 359540, skipping this particle.\n"
     ]
    },
    {
     "name": "stderr",
     "output_type": "stream",
     "text": [
      "Calculating total invariant mass:  27%|██▋       | 362827/1333914 [02:38<04:12, 3840.00it/s]"
     ]
    },
    {
     "name": "stdout",
     "output_type": "stream",
     "text": [
      "Missing data for jet_16 in row 362248, skipping this particle.\n",
      "Missing data for jet_17 in row 362248, skipping this particle.\n"
     ]
    },
    {
     "name": "stderr",
     "output_type": "stream",
     "text": [
      "Calculating total invariant mass:  28%|██▊       | 372717/1333914 [02:40<04:19, 3701.95it/s]"
     ]
    },
    {
     "name": "stdout",
     "output_type": "stream",
     "text": [
      "Missing data for lep_4 in row 372291, skipping this particle.\n"
     ]
    },
    {
     "name": "stderr",
     "output_type": "stream",
     "text": [
      "Calculating total invariant mass:  29%|██▉       | 384312/1333914 [02:43<04:08, 3827.92it/s]"
     ]
    },
    {
     "name": "stdout",
     "output_type": "stream",
     "text": [
      "Missing data for lep_4 in row 383783, skipping this particle.\n"
     ]
    },
    {
     "name": "stderr",
     "output_type": "stream",
     "text": [
      "Calculating total invariant mass:  30%|███       | 402570/1333914 [02:48<04:08, 3747.80it/s]"
     ]
    },
    {
     "name": "stdout",
     "output_type": "stream",
     "text": [
      "Missing data for lep_4 in row 402118, skipping this particle.\n"
     ]
    },
    {
     "name": "stderr",
     "output_type": "stream",
     "text": [
      "Calculating total invariant mass:  31%|███▏      | 418676/1333914 [02:52<04:04, 3740.01it/s]"
     ]
    },
    {
     "name": "stdout",
     "output_type": "stream",
     "text": [
      "Missing data for lep_4 in row 417943, skipping this particle.\n"
     ]
    },
    {
     "name": "stderr",
     "output_type": "stream",
     "text": [
      "Calculating total invariant mass:  32%|███▏      | 425542/1333914 [02:54<04:13, 3581.38it/s]"
     ]
    },
    {
     "name": "stdout",
     "output_type": "stream",
     "text": [
      "Missing data for lep_4 in row 424859, skipping this particle.\n",
      "Missing data for lep_4 in row 425304, skipping this particle.\n"
     ]
    },
    {
     "name": "stderr",
     "output_type": "stream",
     "text": [
      "Calculating total invariant mass:  32%|███▏      | 428298/1333914 [02:55<04:09, 3632.86it/s]"
     ]
    },
    {
     "name": "stdout",
     "output_type": "stream",
     "text": [
      "Missing data for lep_4 in row 427513, skipping this particle.\n"
     ]
    },
    {
     "name": "stderr",
     "output_type": "stream",
     "text": [
      "Calculating total invariant mass:  32%|███▏      | 430247/1333914 [02:56<03:58, 3785.57it/s]"
     ]
    },
    {
     "name": "stdout",
     "output_type": "stream",
     "text": [
      "Missing data for lep_4 in row 429473, skipping this particle.\n"
     ]
    },
    {
     "name": "stderr",
     "output_type": "stream",
     "text": [
      "Calculating total invariant mass:  34%|███▍      | 456743/1333914 [03:03<03:57, 3687.44it/s]"
     ]
    },
    {
     "name": "stdout",
     "output_type": "stream",
     "text": [
      "Missing data for lep_4 in row 456268, skipping this particle.\n"
     ]
    },
    {
     "name": "stderr",
     "output_type": "stream",
     "text": [
      "Calculating total invariant mass:  34%|███▍      | 457944/1333914 [03:03<03:53, 3749.97it/s]"
     ]
    },
    {
     "name": "stdout",
     "output_type": "stream",
     "text": [
      "Missing data for lep_4 in row 457227, skipping this particle.\n"
     ]
    },
    {
     "name": "stderr",
     "output_type": "stream",
     "text": [
      "Calculating total invariant mass:  35%|███▍      | 460309/1333914 [03:04<03:53, 3742.23it/s]"
     ]
    },
    {
     "name": "stdout",
     "output_type": "stream",
     "text": [
      "Missing data for lep_4 in row 459608, skipping this particle.\n"
     ]
    },
    {
     "name": "stderr",
     "output_type": "stream",
     "text": [
      "Calculating total invariant mass:  35%|███▍      | 462207/1333914 [03:04<03:59, 3635.03it/s]"
     ]
    },
    {
     "name": "stdout",
     "output_type": "stream",
     "text": [
      "Missing data for lep_4 in row 461659, skipping this particle.\n"
     ]
    },
    {
     "name": "stderr",
     "output_type": "stream",
     "text": [
      "Calculating total invariant mass:  36%|███▌      | 481029/1333914 [03:09<03:53, 3651.80it/s]"
     ]
    },
    {
     "name": "stdout",
     "output_type": "stream",
     "text": [
      "Missing data for lep_4 in row 480485, skipping this particle.\n",
      "Missing data for lep_4 in row 481008, skipping this particle.\n"
     ]
    },
    {
     "name": "stderr",
     "output_type": "stream",
     "text": [
      "Calculating total invariant mass:  36%|███▋      | 486559/1333914 [03:11<03:45, 3755.11it/s]"
     ]
    },
    {
     "name": "stdout",
     "output_type": "stream",
     "text": [
      "Missing data for lep_4 in row 486094, skipping this particle.\n",
      "Missing data for lep_4 in row 486416, skipping this particle.\n",
      "Missing data for lep_4 in row 486952, skipping this particle.\n"
     ]
    },
    {
     "name": "stderr",
     "output_type": "stream",
     "text": [
      "Calculating total invariant mass:  37%|███▋      | 490887/1333914 [03:12<03:46, 3714.65it/s]"
     ]
    },
    {
     "name": "stdout",
     "output_type": "stream",
     "text": [
      "Missing data for lep_4 in row 490451, skipping this particle.\n",
      "Missing data for lep_4 in row 490938, skipping this particle.\n"
     ]
    },
    {
     "name": "stderr",
     "output_type": "stream",
     "text": [
      "Calculating total invariant mass:  37%|███▋      | 495108/1333914 [03:13<03:45, 3722.77it/s]"
     ]
    },
    {
     "name": "stdout",
     "output_type": "stream",
     "text": [
      "Missing data for lep_4 in row 494774, skipping this particle.\n"
     ]
    },
    {
     "name": "stderr",
     "output_type": "stream",
     "text": [
      "Calculating total invariant mass:  38%|███▊      | 505124/1333914 [03:16<03:34, 3870.40it/s]"
     ]
    },
    {
     "name": "stdout",
     "output_type": "stream",
     "text": [
      "Missing data for lep_4 in row 504303, skipping this particle.\n",
      "Missing data for lep_5 in row 504303, skipping this particle.\n"
     ]
    },
    {
     "name": "stderr",
     "output_type": "stream",
     "text": [
      "Calculating total invariant mass:  38%|███▊      | 509035/1333914 [03:17<03:42, 3701.27it/s]"
     ]
    },
    {
     "name": "stdout",
     "output_type": "stream",
     "text": [
      "Missing data for lep_4 in row 508195, skipping this particle.\n"
     ]
    },
    {
     "name": "stderr",
     "output_type": "stream",
     "text": [
      "Calculating total invariant mass:  39%|███▊      | 514427/1333914 [03:18<03:40, 3716.13it/s]"
     ]
    },
    {
     "name": "stdout",
     "output_type": "stream",
     "text": [
      "Missing data for lep_4 in row 513656, skipping this particle.\n",
      "Missing data for lep_4 in row 513864, skipping this particle.\n"
     ]
    },
    {
     "name": "stderr",
     "output_type": "stream",
     "text": [
      "Calculating total invariant mass:  39%|███▊      | 515628/1333914 [03:19<03:36, 3773.38it/s]"
     ]
    },
    {
     "name": "stdout",
     "output_type": "stream",
     "text": [
      "Missing data for lep_4 in row 515323, skipping this particle.\n"
     ]
    },
    {
     "name": "stderr",
     "output_type": "stream",
     "text": [
      "Calculating total invariant mass:  39%|███▉      | 525271/1333914 [03:21<03:36, 3728.45it/s]"
     ]
    },
    {
     "name": "stdout",
     "output_type": "stream",
     "text": [
      "Missing data for lep_4 in row 524654, skipping this particle.\n"
     ]
    },
    {
     "name": "stderr",
     "output_type": "stream",
     "text": [
      "Calculating total invariant mass:  40%|███▉      | 530433/1333914 [03:22<03:40, 3650.36it/s]"
     ]
    },
    {
     "name": "stdout",
     "output_type": "stream",
     "text": [
      "Missing data for lep_4 in row 529879, skipping this particle.\n"
     ]
    },
    {
     "name": "stderr",
     "output_type": "stream",
     "text": [
      "Calculating total invariant mass:  41%|████      | 544396/1333914 [03:26<03:29, 3762.78it/s]"
     ]
    },
    {
     "name": "stdout",
     "output_type": "stream",
     "text": [
      "Missing data for jet_16 in row 543686, skipping this particle.\n"
     ]
    },
    {
     "name": "stderr",
     "output_type": "stream",
     "text": [
      "Calculating total invariant mass:  41%|████▏     | 551864/1333914 [03:28<03:29, 3732.74it/s]"
     ]
    },
    {
     "name": "stdout",
     "output_type": "stream",
     "text": [
      "Missing data for lep_4 in row 551219, skipping this particle.\n"
     ]
    },
    {
     "name": "stderr",
     "output_type": "stream",
     "text": [
      "Calculating total invariant mass:  42%|████▏     | 554617/1333914 [03:29<03:27, 3761.22it/s]"
     ]
    },
    {
     "name": "stdout",
     "output_type": "stream",
     "text": [
      "Missing data for lep_4 in row 554027, skipping this particle.\n"
     ]
    },
    {
     "name": "stderr",
     "output_type": "stream",
     "text": [
      "Calculating total invariant mass:  42%|████▏     | 560916/1333914 [03:31<03:27, 3727.72it/s]"
     ]
    },
    {
     "name": "stdout",
     "output_type": "stream",
     "text": [
      "Missing data for lep_4 in row 560313, skipping this particle.\n"
     ]
    },
    {
     "name": "stderr",
     "output_type": "stream",
     "text": [
      "Calculating total invariant mass:  43%|████▎     | 569748/1333914 [03:33<03:18, 3852.45it/s]"
     ]
    },
    {
     "name": "stdout",
     "output_type": "stream",
     "text": [
      "Missing data for lep_4 in row 569312, skipping this particle.\n",
      "Missing data for lep_4 in row 569748, skipping this particle.\n"
     ]
    },
    {
     "name": "stderr",
     "output_type": "stream",
     "text": [
      "Calculating total invariant mass:  43%|████▎     | 571271/1333914 [03:33<03:33, 3577.42it/s]"
     ]
    },
    {
     "name": "stdout",
     "output_type": "stream",
     "text": [
      "Missing data for lep_4 in row 570700, skipping this particle.\n"
     ]
    },
    {
     "name": "stderr",
     "output_type": "stream",
     "text": [
      "Calculating total invariant mass:  43%|████▎     | 579898/1333914 [03:36<03:22, 3716.91it/s]"
     ]
    },
    {
     "name": "stdout",
     "output_type": "stream",
     "text": [
      "Missing data for lep_4 in row 579277, skipping this particle.\n"
     ]
    },
    {
     "name": "stderr",
     "output_type": "stream",
     "text": [
      "Calculating total invariant mass:  44%|████▍     | 583806/1333914 [03:37<03:19, 3761.04it/s]"
     ]
    },
    {
     "name": "stdout",
     "output_type": "stream",
     "text": [
      "Missing data for lep_4 in row 583181, skipping this particle.\n"
     ]
    },
    {
     "name": "stderr",
     "output_type": "stream",
     "text": [
      "Calculating total invariant mass:  44%|████▍     | 584583/1333914 [03:37<03:20, 3730.80it/s]"
     ]
    },
    {
     "name": "stdout",
     "output_type": "stream",
     "text": [
      "Missing data for lep_4 in row 584206, skipping this particle.\n"
     ]
    },
    {
     "name": "stderr",
     "output_type": "stream",
     "text": [
      "Calculating total invariant mass:  44%|████▍     | 589341/1333914 [03:38<03:14, 3820.03it/s]"
     ]
    },
    {
     "name": "stdout",
     "output_type": "stream",
     "text": [
      "Missing data for lep_4 in row 588756, skipping this particle.\n"
     ]
    },
    {
     "name": "stderr",
     "output_type": "stream",
     "text": [
      "Calculating total invariant mass:  44%|████▍     | 591305/1333914 [03:39<03:14, 3826.20it/s]"
     ]
    },
    {
     "name": "stdout",
     "output_type": "stream",
     "text": [
      "Missing data for lep_4 in row 590512, skipping this particle.\n",
      "Missing data for lep_4 in row 590577, skipping this particle.\n",
      "Missing data for lep_4 in row 590590, skipping this particle.\n"
     ]
    },
    {
     "name": "stderr",
     "output_type": "stream",
     "text": [
      "Calculating total invariant mass:  44%|████▍     | 592534/1333914 [03:39<03:11, 3877.14it/s]"
     ]
    },
    {
     "name": "stdout",
     "output_type": "stream",
     "text": [
      "Missing data for lep_4 in row 591860, skipping this particle.\n"
     ]
    },
    {
     "name": "stderr",
     "output_type": "stream",
     "text": [
      "Calculating total invariant mass:  45%|████▍     | 593750/1333914 [03:39<03:12, 3837.83it/s]"
     ]
    },
    {
     "name": "stdout",
     "output_type": "stream",
     "text": [
      "Missing data for lep_4 in row 593275, skipping this particle.\n"
     ]
    },
    {
     "name": "stderr",
     "output_type": "stream",
     "text": [
      "Calculating total invariant mass:  45%|████▍     | 596142/1333914 [03:40<03:14, 3796.69it/s]"
     ]
    },
    {
     "name": "stdout",
     "output_type": "stream",
     "text": [
      "Missing data for lep_4 in row 595378, skipping this particle.\n"
     ]
    },
    {
     "name": "stderr",
     "output_type": "stream",
     "text": [
      "Calculating total invariant mass:  45%|████▍     | 598576/1333914 [03:41<03:12, 3822.54it/s]"
     ]
    },
    {
     "name": "stdout",
     "output_type": "stream",
     "text": [
      "Missing data for lep_4 in row 597930, skipping this particle.\n"
     ]
    },
    {
     "name": "stderr",
     "output_type": "stream",
     "text": [
      "Calculating total invariant mass:  45%|████▌     | 601762/1333914 [03:42<03:14, 3762.76it/s]"
     ]
    },
    {
     "name": "stdout",
     "output_type": "stream",
     "text": [
      "Missing data for lep_4 in row 601224, skipping this particle.\n",
      "Missing data for lep_5 in row 601224, skipping this particle.\n"
     ]
    },
    {
     "name": "stderr",
     "output_type": "stream",
     "text": [
      "Calculating total invariant mass:  45%|████▌     | 604880/1333914 [03:42<03:16, 3709.15it/s]"
     ]
    },
    {
     "name": "stdout",
     "output_type": "stream",
     "text": [
      "Missing data for lep_4 in row 604166, skipping this particle.\n",
      "Missing data for lep_5 in row 604166, skipping this particle.\n"
     ]
    },
    {
     "name": "stderr",
     "output_type": "stream",
     "text": [
      "Calculating total invariant mass:  46%|████▋     | 620261/1333914 [03:46<03:15, 3642.11it/s]"
     ]
    },
    {
     "name": "stdout",
     "output_type": "stream",
     "text": [
      "Missing data for lep_4 in row 619566, skipping this particle.\n"
     ]
    },
    {
     "name": "stderr",
     "output_type": "stream",
     "text": [
      "Calculating total invariant mass:  47%|████▋     | 626612/1333914 [03:48<03:09, 3724.97it/s]"
     ]
    },
    {
     "name": "stdout",
     "output_type": "stream",
     "text": [
      "Missing data for lep_4 in row 625998, skipping this particle.\n"
     ]
    },
    {
     "name": "stderr",
     "output_type": "stream",
     "text": [
      "Calculating total invariant mass:  47%|████▋     | 633350/1333914 [03:50<03:05, 3773.77it/s]"
     ]
    },
    {
     "name": "stdout",
     "output_type": "stream",
     "text": [
      "Missing data for lep_4 in row 632648, skipping this particle.\n"
     ]
    },
    {
     "name": "stderr",
     "output_type": "stream",
     "text": [
      "Calculating total invariant mass:  48%|████▊     | 643639/1333914 [03:53<03:02, 3790.28it/s]"
     ]
    },
    {
     "name": "stdout",
     "output_type": "stream",
     "text": [
      "Missing data for lep_4 in row 643070, skipping this particle.\n"
     ]
    },
    {
     "name": "stderr",
     "output_type": "stream",
     "text": [
      "Calculating total invariant mass:  48%|████▊     | 645667/1333914 [03:53<02:57, 3870.29it/s]"
     ]
    },
    {
     "name": "stdout",
     "output_type": "stream",
     "text": [
      "Missing data for lep_4 in row 645231, skipping this particle.\n"
     ]
    },
    {
     "name": "stderr",
     "output_type": "stream",
     "text": [
      "Calculating total invariant mass:  49%|████▉     | 650440/1333914 [03:54<03:09, 3615.45it/s]"
     ]
    },
    {
     "name": "stdout",
     "output_type": "stream",
     "text": [
      "Missing data for lep_4 in row 649914, skipping this particle.\n"
     ]
    },
    {
     "name": "stderr",
     "output_type": "stream",
     "text": [
      "Calculating total invariant mass:  49%|████▉     | 652062/1333914 [03:55<02:57, 3851.00it/s]"
     ]
    },
    {
     "name": "stdout",
     "output_type": "stream",
     "text": [
      "Missing data for lep_4 in row 651539, skipping this particle.\n"
     ]
    },
    {
     "name": "stderr",
     "output_type": "stream",
     "text": [
      "Calculating total invariant mass:  49%|████▉     | 655645/1333914 [03:56<02:55, 3864.30it/s]"
     ]
    },
    {
     "name": "stdout",
     "output_type": "stream",
     "text": [
      "Missing data for lep_4 in row 654898, skipping this particle.\n"
     ]
    },
    {
     "name": "stderr",
     "output_type": "stream",
     "text": [
      "Calculating total invariant mass:  49%|████▉     | 658504/1333914 [03:57<02:55, 3848.17it/s]"
     ]
    },
    {
     "name": "stdout",
     "output_type": "stream",
     "text": [
      "Missing data for lep_4 in row 657861, skipping this particle.\n"
     ]
    },
    {
     "name": "stderr",
     "output_type": "stream",
     "text": [
      "Calculating total invariant mass:  49%|████▉     | 659770/1333914 [03:57<02:50, 3954.41it/s]"
     ]
    },
    {
     "name": "stdout",
     "output_type": "stream",
     "text": [
      "Missing data for lep_4 in row 659036, skipping this particle.\n"
     ]
    },
    {
     "name": "stderr",
     "output_type": "stream",
     "text": [
      "Calculating total invariant mass:  50%|████▉     | 663888/1333914 [03:58<02:49, 3954.03it/s]"
     ]
    },
    {
     "name": "stdout",
     "output_type": "stream",
     "text": [
      "Missing data for lep_4 in row 663408, skipping this particle.\n"
     ]
    },
    {
     "name": "stderr",
     "output_type": "stream",
     "text": [
      "Calculating total invariant mass:  50%|█████     | 667176/1333914 [03:59<02:49, 3924.14it/s]"
     ]
    },
    {
     "name": "stdout",
     "output_type": "stream",
     "text": [
      "Missing data for lep_4 in row 666600, skipping this particle.\n",
      "Missing data for lep_4 in row 667095, skipping this particle.\n"
     ]
    },
    {
     "name": "stderr",
     "output_type": "stream",
     "text": [
      "Calculating total invariant mass:  52%|█████▏    | 689682/1333914 [04:05<02:48, 3818.20it/s]"
     ]
    },
    {
     "name": "stdout",
     "output_type": "stream",
     "text": [
      "Missing data for lep_4 in row 689123, skipping this particle.\n"
     ]
    },
    {
     "name": "stderr",
     "output_type": "stream",
     "text": [
      "Calculating total invariant mass:  52%|█████▏    | 690926/1333914 [04:05<02:44, 3902.85it/s]"
     ]
    },
    {
     "name": "stdout",
     "output_type": "stream",
     "text": [
      "Missing data for lep_4 in row 690324, skipping this particle.\n"
     ]
    },
    {
     "name": "stderr",
     "output_type": "stream",
     "text": [
      "Calculating total invariant mass:  52%|█████▏    | 697807/1333914 [04:07<02:44, 3862.92it/s]"
     ]
    },
    {
     "name": "stdout",
     "output_type": "stream",
     "text": [
      "Missing data for lep_4 in row 697200, skipping this particle.\n"
     ]
    },
    {
     "name": "stderr",
     "output_type": "stream",
     "text": [
      "Calculating total invariant mass:  53%|█████▎    | 707998/1333914 [04:09<02:39, 3931.01it/s]"
     ]
    },
    {
     "name": "stdout",
     "output_type": "stream",
     "text": [
      "Missing data for lep_4 in row 707126, skipping this particle.\n"
     ]
    },
    {
     "name": "stderr",
     "output_type": "stream",
     "text": [
      "Calculating total invariant mass:  53%|█████▎    | 709225/1333914 [04:10<02:40, 3900.08it/s]"
     ]
    },
    {
     "name": "stdout",
     "output_type": "stream",
     "text": [
      "Missing data for lep_4 in row 708390, skipping this particle.\n",
      "Missing data for lep_4 in row 709014, skipping this particle.\n"
     ]
    },
    {
     "name": "stderr",
     "output_type": "stream",
     "text": [
      "Calculating total invariant mass:  54%|█████▍    | 717051/1333914 [04:12<02:38, 3881.94it/s]"
     ]
    },
    {
     "name": "stdout",
     "output_type": "stream",
     "text": [
      "Missing data for lep_4 in row 716550, skipping this particle.\n",
      "Missing data for lep_4 in row 717210, skipping this particle.\n"
     ]
    },
    {
     "name": "stderr",
     "output_type": "stream",
     "text": [
      "Calculating total invariant mass:  54%|█████▍    | 724750/1333914 [04:14<02:37, 3865.25it/s]"
     ]
    },
    {
     "name": "stdout",
     "output_type": "stream",
     "text": [
      "Missing data for lep_4 in row 724120, skipping this particle.\n"
     ]
    },
    {
     "name": "stderr",
     "output_type": "stream",
     "text": [
      "Calculating total invariant mass:  55%|█████▍    | 732053/1333914 [04:16<02:31, 3973.37it/s]"
     ]
    },
    {
     "name": "stdout",
     "output_type": "stream",
     "text": [
      "Missing data for lep_4 in row 731138, skipping this particle.\n"
     ]
    },
    {
     "name": "stderr",
     "output_type": "stream",
     "text": [
      "Calculating total invariant mass:  55%|█████▌    | 734815/1333914 [04:16<02:41, 3712.98it/s]"
     ]
    },
    {
     "name": "stdout",
     "output_type": "stream",
     "text": [
      "Missing data for lep_4 in row 734083, skipping this particle.\n"
     ]
    },
    {
     "name": "stderr",
     "output_type": "stream",
     "text": [
      "Calculating total invariant mass:  56%|█████▌    | 742586/1333914 [04:18<02:31, 3915.58it/s]"
     ]
    },
    {
     "name": "stdout",
     "output_type": "stream",
     "text": [
      "Missing data for lep_4 in row 742116, skipping this particle.\n"
     ]
    },
    {
     "name": "stderr",
     "output_type": "stream",
     "text": [
      "Calculating total invariant mass:  56%|█████▌    | 747099/1333914 [04:20<02:35, 3781.50it/s]"
     ]
    },
    {
     "name": "stdout",
     "output_type": "stream",
     "text": [
      "Missing data for lep_4 in row 746363, skipping this particle.\n",
      "Missing data for lep_4 in row 746640, skipping this particle.\n"
     ]
    },
    {
     "name": "stderr",
     "output_type": "stream",
     "text": [
      "Calculating total invariant mass:  56%|█████▋    | 752881/1333914 [04:21<02:25, 3981.73it/s]"
     ]
    },
    {
     "name": "stdout",
     "output_type": "stream",
     "text": [
      "Missing data for lep_4 in row 752341, skipping this particle.\n"
     ]
    },
    {
     "name": "stderr",
     "output_type": "stream",
     "text": [
      "Calculating total invariant mass:  57%|█████▋    | 754117/1333914 [04:21<02:28, 3909.90it/s]"
     ]
    },
    {
     "name": "stdout",
     "output_type": "stream",
     "text": [
      "Missing data for jet_16 in row 753458, skipping this particle.\n"
     ]
    },
    {
     "name": "stderr",
     "output_type": "stream",
     "text": [
      "Calculating total invariant mass:  57%|█████▋    | 756124/1333914 [04:22<02:29, 3867.08it/s]"
     ]
    },
    {
     "name": "stdout",
     "output_type": "stream",
     "text": [
      "Missing data for lep_4 in row 755648, skipping this particle.\n"
     ]
    },
    {
     "name": "stderr",
     "output_type": "stream",
     "text": [
      "Calculating total invariant mass:  57%|█████▋    | 759313/1333914 [04:23<02:28, 3870.53it/s]"
     ]
    },
    {
     "name": "stdout",
     "output_type": "stream",
     "text": [
      "Missing data for lep_4 in row 758637, skipping this particle.\n",
      "Missing data for lep_4 in row 759238, skipping this particle.\n"
     ]
    },
    {
     "name": "stderr",
     "output_type": "stream",
     "text": [
      "Calculating total invariant mass:  58%|█████▊    | 768102/1333914 [04:25<02:25, 3883.36it/s]"
     ]
    },
    {
     "name": "stdout",
     "output_type": "stream",
     "text": [
      "Missing data for lep_4 in row 767592, skipping this particle.\n"
     ]
    },
    {
     "name": "stderr",
     "output_type": "stream",
     "text": [
      "Calculating total invariant mass:  58%|█████▊    | 769316/1333914 [04:25<02:26, 3862.65it/s]"
     ]
    },
    {
     "name": "stdout",
     "output_type": "stream",
     "text": [
      "Missing data for lep_4 in row 768558, skipping this particle.\n"
     ]
    },
    {
     "name": "stderr",
     "output_type": "stream",
     "text": [
      "Calculating total invariant mass:  58%|█████▊    | 769748/1333914 [04:25<02:23, 3931.60it/s]"
     ]
    },
    {
     "name": "stdout",
     "output_type": "stream",
     "text": [
      "Missing data for lep_4 in row 769379, skipping this particle.\n"
     ]
    },
    {
     "name": "stderr",
     "output_type": "stream",
     "text": [
      "Calculating total invariant mass:  59%|█████▉    | 784540/1333914 [04:29<02:22, 3844.22it/s]"
     ]
    },
    {
     "name": "stdout",
     "output_type": "stream",
     "text": [
      "Missing data for lep_4 in row 784097, skipping this particle.\n"
     ]
    },
    {
     "name": "stderr",
     "output_type": "stream",
     "text": [
      "Calculating total invariant mass:  59%|█████▉    | 787635/1333914 [04:30<02:28, 3677.02it/s]"
     ]
    },
    {
     "name": "stdout",
     "output_type": "stream",
     "text": [
      "Missing data for lep_4 in row 786903, skipping this particle.\n"
     ]
    },
    {
     "name": "stderr",
     "output_type": "stream",
     "text": [
      "Calculating total invariant mass:  59%|█████▉    | 788425/1333914 [04:30<02:27, 3701.08it/s]"
     ]
    },
    {
     "name": "stdout",
     "output_type": "stream",
     "text": [
      "Missing data for lep_4 in row 788014, skipping this particle.\n"
     ]
    },
    {
     "name": "stderr",
     "output_type": "stream",
     "text": [
      "Calculating total invariant mass:  59%|█████▉    | 790046/1333914 [04:31<02:21, 3831.15it/s]"
     ]
    },
    {
     "name": "stdout",
     "output_type": "stream",
     "text": [
      "Missing data for lep_4 in row 789510, skipping this particle.\n"
     ]
    },
    {
     "name": "stderr",
     "output_type": "stream",
     "text": [
      "Calculating total invariant mass:  59%|█████▉    | 791667/1333914 [04:31<02:19, 3881.25it/s]"
     ]
    },
    {
     "name": "stdout",
     "output_type": "stream",
     "text": [
      "Missing data for lep_4 in row 791090, skipping this particle.\n",
      "Missing data for lep_4 in row 791633, skipping this particle.\n"
     ]
    },
    {
     "name": "stderr",
     "output_type": "stream",
     "text": [
      "Calculating total invariant mass:  60%|█████▉    | 794911/1333914 [04:32<02:17, 3920.32it/s]"
     ]
    },
    {
     "name": "stdout",
     "output_type": "stream",
     "text": [
      "Missing data for lep_4 in row 794222, skipping this particle.\n"
     ]
    },
    {
     "name": "stderr",
     "output_type": "stream",
     "text": [
      "Calculating total invariant mass:  61%|██████    | 807311/1333914 [04:35<02:17, 3824.77it/s]"
     ]
    },
    {
     "name": "stdout",
     "output_type": "stream",
     "text": [
      "Missing data for lep_4 in row 806882, skipping this particle.\n"
     ]
    },
    {
     "name": "stderr",
     "output_type": "stream",
     "text": [
      "Calculating total invariant mass:  61%|██████▏   | 817755/1333914 [04:38<02:15, 3802.62it/s]"
     ]
    },
    {
     "name": "stdout",
     "output_type": "stream",
     "text": [
      "Missing data for lep_4 in row 817027, skipping this particle.\n"
     ]
    },
    {
     "name": "stderr",
     "output_type": "stream",
     "text": [
      "Calculating total invariant mass:  62%|██████▏   | 821781/1333914 [04:39<02:13, 3845.18it/s]"
     ]
    },
    {
     "name": "stdout",
     "output_type": "stream",
     "text": [
      "Missing data for lep_4 in row 821004, skipping this particle.\n"
     ]
    },
    {
     "name": "stderr",
     "output_type": "stream",
     "text": [
      "Calculating total invariant mass:  62%|██████▏   | 830295/1333914 [04:41<02:10, 3869.59it/s]"
     ]
    },
    {
     "name": "stdout",
     "output_type": "stream",
     "text": [
      "Missing data for lep_4 in row 829632, skipping this particle.\n",
      "Missing data for lep_4 in row 829634, skipping this particle.\n"
     ]
    },
    {
     "name": "stderr",
     "output_type": "stream",
     "text": [
      "Calculating total invariant mass:  64%|██████▍   | 851375/1333914 [04:47<02:05, 3847.64it/s]"
     ]
    },
    {
     "name": "stdout",
     "output_type": "stream",
     "text": [
      "Missing data for lep_4 in row 850741, skipping this particle.\n"
     ]
    },
    {
     "name": "stderr",
     "output_type": "stream",
     "text": [
      "Calculating total invariant mass:  64%|██████▍   | 855858/1333914 [04:48<02:01, 3938.86it/s]"
     ]
    },
    {
     "name": "stdout",
     "output_type": "stream",
     "text": [
      "Missing data for lep_4 in row 855435, skipping this particle.\n",
      "Missing data for lep_4 in row 856022, skipping this particle.\n"
     ]
    },
    {
     "name": "stderr",
     "output_type": "stream",
     "text": [
      "Calculating total invariant mass:  65%|██████▍   | 861543/1333914 [04:49<02:02, 3854.50it/s]"
     ]
    },
    {
     "name": "stdout",
     "output_type": "stream",
     "text": [
      "Missing data for lep_4 in row 861145, skipping this particle.\n"
     ]
    },
    {
     "name": "stderr",
     "output_type": "stream",
     "text": [
      "Calculating total invariant mass:  65%|██████▍   | 865084/1333914 [04:50<02:00, 3888.16it/s]"
     ]
    },
    {
     "name": "stdout",
     "output_type": "stream",
     "text": [
      "Missing data for lep_4 in row 864639, skipping this particle.\n"
     ]
    },
    {
     "name": "stderr",
     "output_type": "stream",
     "text": [
      "Calculating total invariant mass:  67%|██████▋   | 888226/1333914 [04:56<01:55, 3863.33it/s]"
     ]
    },
    {
     "name": "stdout",
     "output_type": "stream",
     "text": [
      "Missing data for lep_4 in row 887801, skipping this particle.\n"
     ]
    },
    {
     "name": "stderr",
     "output_type": "stream",
     "text": [
      "Calculating total invariant mass:  67%|██████▋   | 899464/1333914 [04:59<01:57, 3698.45it/s]"
     ]
    },
    {
     "name": "stdout",
     "output_type": "stream",
     "text": [
      "Missing data for lep_4 in row 898985, skipping this particle.\n"
     ]
    },
    {
     "name": "stderr",
     "output_type": "stream",
     "text": [
      "Calculating total invariant mass:  68%|██████▊   | 901857/1333914 [05:00<01:54, 3777.86it/s]"
     ]
    },
    {
     "name": "stdout",
     "output_type": "stream",
     "text": [
      "Missing data for lep_4 in row 901440, skipping this particle.\n"
     ]
    },
    {
     "name": "stderr",
     "output_type": "stream",
     "text": [
      "Calculating total invariant mass:  68%|██████▊   | 904707/1333914 [05:01<01:49, 3911.24it/s]"
     ]
    },
    {
     "name": "stdout",
     "output_type": "stream",
     "text": [
      "Missing data for lep_4 in row 904041, skipping this particle.\n"
     ]
    },
    {
     "name": "stderr",
     "output_type": "stream",
     "text": [
      "Calculating total invariant mass:  68%|██████▊   | 910708/1333914 [05:02<01:49, 3851.38it/s]"
     ]
    },
    {
     "name": "stdout",
     "output_type": "stream",
     "text": [
      "Missing data for lep_4 in row 910272, skipping this particle.\n"
     ]
    },
    {
     "name": "stderr",
     "output_type": "stream",
     "text": [
      "Calculating total invariant mass:  68%|██████▊   | 911935/1333914 [05:03<01:49, 3860.00it/s]"
     ]
    },
    {
     "name": "stdout",
     "output_type": "stream",
     "text": [
      "Missing data for lep_4 in row 911409, skipping this particle.\n"
     ]
    },
    {
     "name": "stderr",
     "output_type": "stream",
     "text": [
      "Calculating total invariant mass:  69%|██████▊   | 915124/1333914 [05:04<01:51, 3765.76it/s]"
     ]
    },
    {
     "name": "stdout",
     "output_type": "stream",
     "text": [
      "Missing data for lep_4 in row 914550, skipping this particle.\n"
     ]
    },
    {
     "name": "stderr",
     "output_type": "stream",
     "text": [
      "Calculating total invariant mass:  69%|██████▉   | 919469/1333914 [05:05<01:51, 3728.46it/s]"
     ]
    },
    {
     "name": "stdout",
     "output_type": "stream",
     "text": [
      "Missing data for lep_4 in row 918959, skipping this particle.\n"
     ]
    },
    {
     "name": "stderr",
     "output_type": "stream",
     "text": [
      "Calculating total invariant mass:  70%|██████▉   | 930116/1333914 [05:07<01:47, 3752.72it/s]"
     ]
    },
    {
     "name": "stdout",
     "output_type": "stream",
     "text": [
      "Missing data for lep_4 in row 929666, skipping this particle.\n"
     ]
    },
    {
     "name": "stderr",
     "output_type": "stream",
     "text": [
      "Calculating total invariant mass:  70%|███████   | 935312/1333914 [05:09<01:44, 3821.57it/s]"
     ]
    },
    {
     "name": "stdout",
     "output_type": "stream",
     "text": [
      "Missing data for lep_4 in row 934681, skipping this particle.\n"
     ]
    },
    {
     "name": "stderr",
     "output_type": "stream",
     "text": [
      "Calculating total invariant mass:  71%|███████   | 945565/1333914 [05:12<01:42, 3779.11it/s]"
     ]
    },
    {
     "name": "stdout",
     "output_type": "stream",
     "text": [
      "Missing data for lep_4 in row 944979, skipping this particle.\n"
     ]
    },
    {
     "name": "stderr",
     "output_type": "stream",
     "text": [
      "Calculating total invariant mass:  71%|███████   | 948761/1333914 [05:12<01:40, 3818.57it/s]"
     ]
    },
    {
     "name": "stdout",
     "output_type": "stream",
     "text": [
      "Missing data for lep_4 in row 948165, skipping this particle.\n"
     ]
    },
    {
     "name": "stderr",
     "output_type": "stream",
     "text": [
      "Calculating total invariant mass:  71%|███████   | 950350/1333914 [05:13<01:40, 3823.32it/s]"
     ]
    },
    {
     "name": "stdout",
     "output_type": "stream",
     "text": [
      "Missing data for lep_4 in row 949664, skipping this particle.\n"
     ]
    },
    {
     "name": "stderr",
     "output_type": "stream",
     "text": [
      "Calculating total invariant mass:  71%|███████▏  | 952705/1333914 [05:13<01:41, 3756.80it/s]"
     ]
    },
    {
     "name": "stdout",
     "output_type": "stream",
     "text": [
      "Missing data for lep_4 in row 952146, skipping this particle.\n"
     ]
    },
    {
     "name": "stderr",
     "output_type": "stream",
     "text": [
      "Calculating total invariant mass:  72%|███████▏  | 962050/1333914 [05:16<01:39, 3748.57it/s]"
     ]
    },
    {
     "name": "stdout",
     "output_type": "stream",
     "text": [
      "Missing data for lep_4 in row 961293, skipping this particle.\n"
     ]
    },
    {
     "name": "stderr",
     "output_type": "stream",
     "text": [
      "Calculating total invariant mass:  72%|███████▏  | 965218/1333914 [05:17<01:38, 3744.87it/s]"
     ]
    },
    {
     "name": "stdout",
     "output_type": "stream",
     "text": [
      "Missing data for lep_4 in row 964632, skipping this particle.\n"
     ]
    },
    {
     "name": "stderr",
     "output_type": "stream",
     "text": [
      "Calculating total invariant mass:  73%|███████▎  | 971525/1333914 [05:19<01:37, 3705.64it/s]"
     ]
    },
    {
     "name": "stdout",
     "output_type": "stream",
     "text": [
      "Missing data for lep_4 in row 970800, skipping this particle.\n"
     ]
    },
    {
     "name": "stderr",
     "output_type": "stream",
     "text": [
      "Calculating total invariant mass:  73%|███████▎  | 976732/1333914 [05:20<01:33, 3805.76it/s]"
     ]
    },
    {
     "name": "stdout",
     "output_type": "stream",
     "text": [
      "Missing data for lep_4 in row 976079, skipping this particle.\n",
      "Missing data for lep_4 in row 976539, skipping this particle.\n"
     ]
    },
    {
     "name": "stderr",
     "output_type": "stream",
     "text": [
      "Calculating total invariant mass:  74%|███████▎  | 983458/1333914 [05:22<01:29, 3903.46it/s]"
     ]
    },
    {
     "name": "stdout",
     "output_type": "stream",
     "text": [
      "Missing data for lep_4 in row 982772, skipping this particle.\n"
     ]
    },
    {
     "name": "stderr",
     "output_type": "stream",
     "text": [
      "Calculating total invariant mass:  74%|███████▍  | 989795/1333914 [05:23<01:39, 3463.73it/s]"
     ]
    },
    {
     "name": "stdout",
     "output_type": "stream",
     "text": [
      "Missing data for lep_4 in row 989395, skipping this particle.\n"
     ]
    },
    {
     "name": "stderr",
     "output_type": "stream",
     "text": [
      "Calculating total invariant mass:  75%|███████▍  | 994231/1333914 [05:24<01:27, 3892.71it/s]"
     ]
    },
    {
     "name": "stdout",
     "output_type": "stream",
     "text": [
      "Missing data for lep_4 in row 993605, skipping this particle.\n"
     ]
    },
    {
     "name": "stderr",
     "output_type": "stream",
     "text": [
      "Calculating total invariant mass:  75%|███████▍  | 995453/1333914 [05:25<01:26, 3906.88it/s]"
     ]
    },
    {
     "name": "stdout",
     "output_type": "stream",
     "text": [
      "Missing data for lep_4 in row 994961, skipping this particle.\n"
     ]
    },
    {
     "name": "stderr",
     "output_type": "stream",
     "text": [
      "Calculating total invariant mass:  75%|███████▍  | 997434/1333914 [05:25<01:28, 3794.17it/s]"
     ]
    },
    {
     "name": "stdout",
     "output_type": "stream",
     "text": [
      "Missing data for lep_4 in row 996776, skipping this particle.\n",
      "Missing data for lep_4 in row 997270, skipping this particle.\n"
     ]
    },
    {
     "name": "stderr",
     "output_type": "stream",
     "text": [
      "Calculating total invariant mass:  75%|███████▍  | 998635/1333914 [05:26<01:27, 3820.56it/s]"
     ]
    },
    {
     "name": "stdout",
     "output_type": "stream",
     "text": [
      "Missing data for lep_4 in row 997941, skipping this particle.\n"
     ]
    },
    {
     "name": "stderr",
     "output_type": "stream",
     "text": [
      "Calculating total invariant mass:  75%|███████▌  | 1002588/1333914 [05:27<01:28, 3733.63it/s]"
     ]
    },
    {
     "name": "stdout",
     "output_type": "stream",
     "text": [
      "Missing data for lep_4 in row 1001905, skipping this particle.\n"
     ]
    },
    {
     "name": "stderr",
     "output_type": "stream",
     "text": [
      "Calculating total invariant mass:  75%|███████▌  | 1006460/1333914 [05:28<01:27, 3744.24it/s]"
     ]
    },
    {
     "name": "stdout",
     "output_type": "stream",
     "text": [
      "Missing data for lep_4 in row 1005715, skipping this particle.\n"
     ]
    },
    {
     "name": "stderr",
     "output_type": "stream",
     "text": [
      "Calculating total invariant mass:  76%|███████▌  | 1011710/1333914 [05:29<01:23, 3855.49it/s]"
     ]
    },
    {
     "name": "stdout",
     "output_type": "stream",
     "text": [
      "Missing data for lep_4 in row 1010878, skipping this particle.\n"
     ]
    },
    {
     "name": "stderr",
     "output_type": "stream",
     "text": [
      "Calculating total invariant mass:  76%|███████▌  | 1012496/1333914 [05:29<01:23, 3848.31it/s]"
     ]
    },
    {
     "name": "stdout",
     "output_type": "stream",
     "text": [
      "Missing data for lep_4 in row 1011734, skipping this particle.\n"
     ]
    },
    {
     "name": "stderr",
     "output_type": "stream",
     "text": [
      "Calculating total invariant mass:  76%|███████▌  | 1015680/1333914 [05:30<01:23, 3789.32it/s]"
     ]
    },
    {
     "name": "stdout",
     "output_type": "stream",
     "text": [
      "Missing data for lep_4 in row 1015205, skipping this particle.\n"
     ]
    },
    {
     "name": "stderr",
     "output_type": "stream",
     "text": [
      "Calculating total invariant mass:  77%|███████▋  | 1030766/1333914 [05:34<01:19, 3794.43it/s]"
     ]
    },
    {
     "name": "stdout",
     "output_type": "stream",
     "text": [
      "Missing data for lep_4 in row 1030213, skipping this particle.\n"
     ]
    },
    {
     "name": "stderr",
     "output_type": "stream",
     "text": [
      "Calculating total invariant mass:  78%|███████▊  | 1037910/1333914 [05:36<01:18, 3763.63it/s]"
     ]
    },
    {
     "name": "stdout",
     "output_type": "stream",
     "text": [
      "Missing data for lep_4 in row 1037384, skipping this particle.\n"
     ]
    },
    {
     "name": "stderr",
     "output_type": "stream",
     "text": [
      "Calculating total invariant mass:  78%|███████▊  | 1042994/1333914 [05:37<01:17, 3749.24it/s]"
     ]
    },
    {
     "name": "stdout",
     "output_type": "stream",
     "text": [
      "Missing data for lep_4 in row 1042296, skipping this particle.\n"
     ]
    },
    {
     "name": "stderr",
     "output_type": "stream",
     "text": [
      "Calculating total invariant mass:  78%|███████▊  | 1044551/1333914 [05:38<01:17, 3745.94it/s]"
     ]
    },
    {
     "name": "stdout",
     "output_type": "stream",
     "text": [
      "Missing data for lep_4 in row 1043816, skipping this particle.\n"
     ]
    },
    {
     "name": "stderr",
     "output_type": "stream",
     "text": [
      "Calculating total invariant mass:  78%|███████▊  | 1045321/1333914 [05:38<01:16, 3781.36it/s]"
     ]
    },
    {
     "name": "stdout",
     "output_type": "stream",
     "text": [
      "Missing data for lep_4 in row 1044633, skipping this particle.\n"
     ]
    },
    {
     "name": "stderr",
     "output_type": "stream",
     "text": [
      "Calculating total invariant mass:  79%|███████▊  | 1048929/1333914 [05:39<01:15, 3755.65it/s]"
     ]
    },
    {
     "name": "stdout",
     "output_type": "stream",
     "text": [
      "Missing data for lep_4 in row 1048501, skipping this particle.\n"
     ]
    },
    {
     "name": "stderr",
     "output_type": "stream",
     "text": [
      "Calculating total invariant mass:  80%|███████▉  | 1060535/1333914 [05:42<01:11, 3846.93it/s]"
     ]
    },
    {
     "name": "stdout",
     "output_type": "stream",
     "text": [
      "Missing data for lep_4 in row 1059774, skipping this particle.\n"
     ]
    },
    {
     "name": "stderr",
     "output_type": "stream",
     "text": [
      "Calculating total invariant mass:  80%|████████  | 1070304/1333914 [05:45<01:09, 3797.42it/s]"
     ]
    },
    {
     "name": "stdout",
     "output_type": "stream",
     "text": [
      "Missing data for lep_4 in row 1069786, skipping this particle.\n"
     ]
    },
    {
     "name": "stderr",
     "output_type": "stream",
     "text": [
      "Calculating total invariant mass:  81%|████████  | 1083729/1333914 [05:48<01:07, 3692.09it/s]"
     ]
    },
    {
     "name": "stdout",
     "output_type": "stream",
     "text": [
      "Missing data for lep_4 in row 1083047, skipping this particle.\n",
      "Missing data for lep_5 in row 1083047, skipping this particle.\n"
     ]
    },
    {
     "name": "stderr",
     "output_type": "stream",
     "text": [
      "Calculating total invariant mass:  82%|████████▏ | 1087237/1333914 [05:49<01:06, 3689.60it/s]"
     ]
    },
    {
     "name": "stdout",
     "output_type": "stream",
     "text": [
      "Missing data for lep_4 in row 1086797, skipping this particle.\n"
     ]
    },
    {
     "name": "stderr",
     "output_type": "stream",
     "text": [
      "Calculating total invariant mass:  82%|████████▏ | 1088814/1333914 [05:50<01:05, 3727.51it/s]"
     ]
    },
    {
     "name": "stdout",
     "output_type": "stream",
     "text": [
      "Missing data for lep_4 in row 1088322, skipping this particle.\n"
     ]
    },
    {
     "name": "stderr",
     "output_type": "stream",
     "text": [
      "Calculating total invariant mass:  83%|████████▎ | 1106240/1333914 [05:54<01:01, 3681.98it/s]"
     ]
    },
    {
     "name": "stdout",
     "output_type": "stream",
     "text": [
      "Missing data for lep_4 in row 1105600, skipping this particle.\n",
      "Missing data for lep_4 in row 1105704, skipping this particle.\n"
     ]
    },
    {
     "name": "stderr",
     "output_type": "stream",
     "text": [
      "Calculating total invariant mass:  85%|████████▍ | 1130484/1333914 [06:01<00:54, 3758.61it/s]"
     ]
    },
    {
     "name": "stdout",
     "output_type": "stream",
     "text": [
      "Missing data for lep_4 in row 1129822, skipping this particle.\n"
     ]
    },
    {
     "name": "stderr",
     "output_type": "stream",
     "text": [
      "Calculating total invariant mass:  85%|████████▌ | 1137208/1333914 [06:02<00:52, 3715.53it/s]"
     ]
    },
    {
     "name": "stdout",
     "output_type": "stream",
     "text": [
      "Missing data for lep_4 in row 1136803, skipping this particle.\n"
     ]
    },
    {
     "name": "stderr",
     "output_type": "stream",
     "text": [
      "Calculating total invariant mass:  86%|████████▌ | 1142360/1333914 [06:04<00:50, 3800.79it/s]"
     ]
    },
    {
     "name": "stdout",
     "output_type": "stream",
     "text": [
      "Missing data for lep_4 in row 1141654, skipping this particle.\n",
      "Missing data for lep_4 in row 1141847, skipping this particle.\n"
     ]
    },
    {
     "name": "stderr",
     "output_type": "stream",
     "text": [
      "Calculating total invariant mass:  87%|████████▋ | 1160168/1333914 [06:09<00:46, 3715.32it/s]"
     ]
    },
    {
     "name": "stdout",
     "output_type": "stream",
     "text": [
      "Missing data for lep_4 in row 1159423, skipping this particle.\n"
     ]
    },
    {
     "name": "stderr",
     "output_type": "stream",
     "text": [
      "Calculating total invariant mass:  88%|████████▊ | 1168143/1333914 [06:11<00:45, 3607.86it/s]"
     ]
    },
    {
     "name": "stdout",
     "output_type": "stream",
     "text": [
      "Missing data for lep_4 in row 1167582, skipping this particle.\n",
      "Missing data for lep_4 in row 1167692, skipping this particle.\n"
     ]
    },
    {
     "name": "stderr",
     "output_type": "stream",
     "text": [
      "Calculating total invariant mass:  89%|████████▊ | 1182814/1333914 [06:15<00:39, 3828.78it/s]"
     ]
    },
    {
     "name": "stdout",
     "output_type": "stream",
     "text": [
      "Missing data for lep_4 in row 1181938, skipping this particle.\n"
     ]
    },
    {
     "name": "stderr",
     "output_type": "stream",
     "text": [
      "Calculating total invariant mass:  89%|████████▉ | 1193421/1333914 [06:17<00:37, 3740.78it/s]"
     ]
    },
    {
     "name": "stdout",
     "output_type": "stream",
     "text": [
      "Missing data for lep_4 in row 1192843, skipping this particle.\n"
     ]
    },
    {
     "name": "stderr",
     "output_type": "stream",
     "text": [
      "Calculating total invariant mass:  90%|████████▉ | 1197364/1333914 [06:18<00:36, 3778.55it/s]"
     ]
    },
    {
     "name": "stdout",
     "output_type": "stream",
     "text": [
      "Missing data for lep_4 in row 1196574, skipping this particle.\n"
     ]
    },
    {
     "name": "stderr",
     "output_type": "stream",
     "text": [
      "Calculating total invariant mass:  90%|█████████ | 1200580/1333914 [06:19<00:34, 3834.21it/s]"
     ]
    },
    {
     "name": "stdout",
     "output_type": "stream",
     "text": [
      "Missing data for lep_4 in row 1200050, skipping this particle.\n"
     ]
    },
    {
     "name": "stderr",
     "output_type": "stream",
     "text": [
      "Calculating total invariant mass:  90%|█████████ | 1202122/1333914 [06:20<00:35, 3724.48it/s]"
     ]
    },
    {
     "name": "stdout",
     "output_type": "stream",
     "text": [
      "Missing data for lep_4 in row 1201553, skipping this particle.\n"
     ]
    },
    {
     "name": "stderr",
     "output_type": "stream",
     "text": [
      "Calculating total invariant mass:  90%|█████████ | 1204914/1333914 [06:20<00:34, 3752.47it/s]"
     ]
    },
    {
     "name": "stdout",
     "output_type": "stream",
     "text": [
      "Missing data for lep_4 in row 1204463, skipping this particle.\n"
     ]
    },
    {
     "name": "stderr",
     "output_type": "stream",
     "text": [
      "Calculating total invariant mass:  91%|█████████▏| 1218632/1333914 [06:24<00:30, 3723.99it/s]"
     ]
    },
    {
     "name": "stdout",
     "output_type": "stream",
     "text": [
      "Missing data for lep_4 in row 1218010, skipping this particle.\n"
     ]
    },
    {
     "name": "stderr",
     "output_type": "stream",
     "text": [
      "Calculating total invariant mass:  92%|█████████▏| 1222199/1333914 [06:25<00:30, 3632.03it/s]"
     ]
    },
    {
     "name": "stdout",
     "output_type": "stream",
     "text": [
      "Missing data for lep_4 in row 1221563, skipping this particle.\n"
     ]
    },
    {
     "name": "stderr",
     "output_type": "stream",
     "text": [
      "Calculating total invariant mass:  92%|█████████▏| 1230552/1333914 [06:27<00:27, 3795.14it/s]"
     ]
    },
    {
     "name": "stdout",
     "output_type": "stream",
     "text": [
      "Missing data for lep_4 in row 1230065, skipping this particle.\n"
     ]
    },
    {
     "name": "stderr",
     "output_type": "stream",
     "text": [
      "Calculating total invariant mass:  92%|█████████▏| 1231761/1333914 [06:28<00:26, 3806.64it/s]"
     ]
    },
    {
     "name": "stdout",
     "output_type": "stream",
     "text": [
      "Missing data for jet_16 in row 1231218, skipping this particle.\n",
      "Missing data for jet_17 in row 1231218, skipping this particle.\n"
     ]
    },
    {
     "name": "stderr",
     "output_type": "stream",
     "text": [
      "Calculating total invariant mass:  94%|█████████▍| 1260107/1333914 [06:35<00:20, 3662.21it/s]"
     ]
    },
    {
     "name": "stdout",
     "output_type": "stream",
     "text": [
      "Missing data for lep_4 in row 1259416, skipping this particle.\n"
     ]
    },
    {
     "name": "stderr",
     "output_type": "stream",
     "text": [
      "Calculating total invariant mass:  96%|█████████▌| 1279515/1333914 [06:41<00:14, 3672.08it/s]"
     ]
    },
    {
     "name": "stdout",
     "output_type": "stream",
     "text": [
      "Missing data for lep_4 in row 1279012, skipping this particle.\n",
      "Missing data for lep_5 in row 1279012, skipping this particle.\n"
     ]
    },
    {
     "name": "stderr",
     "output_type": "stream",
     "text": [
      "Calculating total invariant mass:  96%|█████████▋| 1285435/1333914 [06:42<00:12, 3740.96it/s]"
     ]
    },
    {
     "name": "stdout",
     "output_type": "stream",
     "text": [
      "Missing data for lep_4 in row 1284752, skipping this particle.\n"
     ]
    },
    {
     "name": "stderr",
     "output_type": "stream",
     "text": [
      "Calculating total invariant mass:  97%|█████████▋| 1287746/1333914 [06:43<00:12, 3686.30it/s]"
     ]
    },
    {
     "name": "stdout",
     "output_type": "stream",
     "text": [
      "Missing data for lep_4 in row 1287211, skipping this particle.\n",
      "Missing data for lep_5 in row 1287211, skipping this particle.\n",
      "Missing data for lep_4 in row 1287773, skipping this particle.\n"
     ]
    },
    {
     "name": "stderr",
     "output_type": "stream",
     "text": [
      "Calculating total invariant mass:  98%|█████████▊| 1303792/1333914 [06:47<00:08, 3672.44it/s]"
     ]
    },
    {
     "name": "stdout",
     "output_type": "stream",
     "text": [
      "Missing data for lep_4 in row 1303231, skipping this particle.\n"
     ]
    },
    {
     "name": "stderr",
     "output_type": "stream",
     "text": [
      "Calculating total invariant mass:  98%|█████████▊| 1304560/1333914 [06:47<00:07, 3730.86it/s]"
     ]
    },
    {
     "name": "stdout",
     "output_type": "stream",
     "text": [
      "Missing data for lep_4 in row 1304126, skipping this particle.\n",
      "Missing data for lep_5 in row 1304346, skipping this particle.\n"
     ]
    },
    {
     "name": "stderr",
     "output_type": "stream",
     "text": [
      "Calculating total invariant mass:  98%|█████████▊| 1306520/1333914 [06:48<00:07, 3763.60it/s]"
     ]
    },
    {
     "name": "stdout",
     "output_type": "stream",
     "text": [
      "Missing data for lep_4 in row 1306027, skipping this particle.\n",
      "Missing data for lep_4 in row 1306423, skipping this particle.\n",
      "Missing data for lep_4 in row 1306678, skipping this particle.\n",
      "Missing data for lep_4 in row 1306791, skipping this particle.\n"
     ]
    },
    {
     "name": "stderr",
     "output_type": "stream",
     "text": [
      "Calculating total invariant mass:  98%|█████████▊| 1309235/1333914 [06:49<00:06, 3692.67it/s]"
     ]
    },
    {
     "name": "stdout",
     "output_type": "stream",
     "text": [
      "Missing data for lep_4 in row 1308617, skipping this particle.\n"
     ]
    },
    {
     "name": "stderr",
     "output_type": "stream",
     "text": [
      "Calculating total invariant mass:  98%|█████████▊| 1313789/1333914 [06:50<00:05, 3710.57it/s]"
     ]
    },
    {
     "name": "stdout",
     "output_type": "stream",
     "text": [
      "Missing data for lep_4 in row 1313140, skipping this particle.\n"
     ]
    },
    {
     "name": "stderr",
     "output_type": "stream",
     "text": [
      "Calculating total invariant mass:  99%|█████████▉| 1323706/1333914 [06:52<00:02, 3753.89it/s]"
     ]
    },
    {
     "name": "stdout",
     "output_type": "stream",
     "text": [
      "Missing data for lep_4 in row 1323088, skipping this particle.\n"
     ]
    },
    {
     "name": "stderr",
     "output_type": "stream",
     "text": [
      "Calculating total invariant mass: 100%|█████████▉| 1328122/1333914 [06:54<00:01, 3736.48it/s]"
     ]
    },
    {
     "name": "stdout",
     "output_type": "stream",
     "text": [
      "Missing data for lep_4 in row 1327464, skipping this particle.\n"
     ]
    },
    {
     "name": "stderr",
     "output_type": "stream",
     "text": [
      "Calculating total invariant mass: 100%|██████████| 1333914/1333914 [06:55<00:00, 3209.29it/s]\n"
     ]
    },
    {
     "name": "stdout",
     "output_type": "stream",
     "text": [
      "Missing data for lep_4 in row 1333793, skipping this particle.\n",
      "Expanded DataFrame head with total invariant mass column:\n",
      "   eventNumber  scaleFactor_PILEUP  scaleFactor_PhotonTRIGGER  trigE  trigM  \\\n",
      "0      4246580            0.696077                   0.995786  False  False   \n",
      "1    242211722            0.000000                   0.000000  False  False   \n",
      "2        56490            1.214122                   1.005498  False  False   \n",
      "3   -163493589            0.000000                   0.000000  False  False   \n",
      "4      3977190            0.750880                   1.002282  False  False   \n",
      "\n",
      "   trigP  lep_n        met_et   met_phi  jet_n  ...  jet_pt_syst10  \\\n",
      "0   True      0  51045.160156  2.794363      3  ...            0.0   \n",
      "1   True      0  43901.460938 -0.197949      1  ...            0.0   \n",
      "2   True      0  58347.421875 -0.033184      3  ...            0.0   \n",
      "3   True      0  16311.075195 -0.042286      0  ...            0.0   \n",
      "4   True      0  43917.437500 -1.083709      1  ...            0.0   \n",
      "\n",
      "   jet_pt_syst11  jet_pt_syst12  jet_pt_syst13  jet_pt_syst14  jet_pt_syst15  \\\n",
      "0            0.0            0.0            0.0            0.0            0.0   \n",
      "1            0.0            0.0            0.0            0.0            0.0   \n",
      "2            0.0            0.0            0.0            0.0            0.0   \n",
      "3            0.0            0.0            0.0            0.0            0.0   \n",
      "4            0.0            0.0            0.0            0.0            0.0   \n",
      "\n",
      "  photon_pt_syst2 photon_pt_syst3 photon_pt_syst4 totalInvariantMass  \n",
      "0             0.0             0.0             0.0      390872.265768  \n",
      "1             0.0             0.0             0.0       97450.568832  \n",
      "2             0.0             0.0             0.0      171393.168142  \n",
      "3             0.0             0.0             0.0       77321.768127  \n",
      "4             0.0             0.0             0.0      124472.867715  \n",
      "\n",
      "[5 rows x 274 columns]\n",
      "DataFrame with total invariant mass written to expanded_dataframe_with_total_invariant_mass.csv.\n"
     ]
    }
   ],
   "source": [
    "import pandas as pd\n",
    "import vector\n",
    "from tqdm import tqdm\n",
    "\n",
    "def determine_all_particles(row):\n",
    "    \"\"\"\n",
    "    Determines the list of particle types based on the number of particles in the event.\n",
    "\n",
    "    :param row: A row from the DataFrame.\n",
    "    :return: A list of particle prefixes corresponding to all particles in the event.\n",
    "    \"\"\"\n",
    "    particle_types = []\n",
    "\n",
    "    if row['photon_n'] > 0:\n",
    "        particle_types.extend(['photon'] * row['photon_n'])  # Include all photons\n",
    "    \n",
    "    if row['lep_n'] > 0:\n",
    "        particle_types.extend(['lep'] * row['lep_n'])  # Include all leptons\n",
    "    \n",
    "    if row['jet_n'] > 0:\n",
    "        particle_types.extend(['jet'] * row['jet_n'])  # Include all jets\n",
    "\n",
    "    # Add more particle types based on the {particle}_n columns if necessary\n",
    "\n",
    "    return particle_types\n",
    "\n",
    "def calculate_total_invariant_mass(df):\n",
    "    \"\"\"\n",
    "    Calculate the total invariant mass for each event by summing all particle 4-vectors.\n",
    "\n",
    "    :param df: The DataFrame containing particle kinematic data.\n",
    "    :return: The DataFrame with a new 'totalInvariantMass' column.\n",
    "    \"\"\"\n",
    "    total_invariant_masses = []\n",
    "\n",
    "    # Add a progress bar using tqdm\n",
    "    for index, row in tqdm(df.iterrows(), total=len(df), desc=\"Calculating total invariant mass\"):\n",
    "        # Determine all particles present in this event\n",
    "        particle_types = determine_all_particles(row)\n",
    "\n",
    "        if particle_types:\n",
    "            # Initialize the total vector with the first vector\n",
    "            total_vector = None\n",
    "\n",
    "            for j, prefix in enumerate(particle_types):\n",
    "                try:\n",
    "                    # Construct 4-vectors based on the particle type and index\n",
    "                    vector_obj = vector.obj(\n",
    "                        pt=row[f\"{prefix}_pt{j}\"],\n",
    "                        eta=row[f\"{prefix}_eta{j}\"],\n",
    "                        phi=row[f\"{prefix}_phi{j}\"],\n",
    "                        E=row[f\"{prefix}_E{j}\"],\n",
    "                    )\n",
    "                    if total_vector is None:\n",
    "                        total_vector = vector_obj\n",
    "                    else:\n",
    "                        total_vector += vector_obj\n",
    "                except KeyError:\n",
    "                    print(f\"Missing data for {prefix}_{j} in row {index}, skipping this particle.\")\n",
    "                    continue\n",
    "\n",
    "            # Calculate the total invariant mass\n",
    "            if total_vector is not None:\n",
    "                total_invariant_mass = total_vector.mass\n",
    "                total_invariant_masses.append(total_invariant_mass)\n",
    "            else:\n",
    "                total_invariant_masses.append(None)\n",
    "        else:\n",
    "            total_invariant_masses.append(None)  # No valid particles found\n",
    "\n",
    "    df['totalInvariantMass'] = total_invariant_masses\n",
    "\n",
    "    return df\n",
    "\n",
    "# Example DataFrame for testing\n",
    "# Assuming `expanded_df` is your DataFrame with columns like photon_pt0, photon_eta0, etc.\n",
    "print(\"Calculating total invariant mass considering all particles in each event...\")\n",
    "\n",
    "expanded_df = calculate_total_invariant_mass(cleaned_df)\n",
    "\n",
    "# Check the resulting DataFrame with the new totalInvariantMass column\n",
    "print(\"Expanded DataFrame head with total invariant mass column:\")\n",
    "print(expanded_df.head())\n",
    "\n",
    "# Optionally, save the updated DataFrame with the total invariant mass to a CSV file\n",
    "output_file = \"expanded_dataframe_with_total_invariant_mass.csv\"\n",
    "expanded_df.to_csv(output_file, index=False)\n",
    "print(f\"DataFrame with total invariant mass written to {output_file}.\")\n"
   ]
  },
  {
   "cell_type": "code",
   "execution_count": 16,
   "metadata": {},
   "outputs": [
    {
     "data": {
      "image/png": "[encoded data removed]",
      "text/plain": [
       "<Figure size 1000x600 with 1 Axes>"
      ]
     },
     "metadata": {},
     "output_type": "display_data"
    }
   ],
   "source": [
    "import pandas as pd\n",
    "import matplotlib.pyplot as plt\n",
    "\n",
    "# Assuming `expanded_df` is your DataFrame with a 'totalInvariantMass' column and 'isHiggs' labels\n",
    "\n",
    "def plot_invariant_mass_histogram(df, bins=500):\n",
    "    \"\"\"\n",
    "    Plots a histogram of the invariant masses with separate histograms for Higgs and non-Higgs events.\n",
    "\n",
    "    :param df: The DataFrame containing the 'totalInvariantMass' and 'isHiggs' columns.\n",
    "    \"\"\"\n",
    "    # Filter the DataFrame for Higgs and non-Higgs events\n",
    "    higgs_df = df[df['isHiggs'] == 1]\n",
    "    non_higgs_df = df[df['isHiggs'] == 0]\n",
    "\n",
    "    # Plot histograms\n",
    "    plt.figure(figsize=(10, 6))\n",
    "\n",
    "    # Histogram for all events\n",
    "    plt.hist(df['totalInvariantMass'].dropna(), bins=bins, alpha=0.5, label='All Events', color='blue')\n",
    "\n",
    "    # Histogram for Higgs events\n",
    "    plt.hist(higgs_df['totalInvariantMass'].dropna(), bins=bins, alpha=0.5, label='Higgs Events', color='green')\n",
    "\n",
    "    # Histogram for non-Higgs events\n",
    "    plt.hist(non_higgs_df['totalInvariantMass'].dropna(), bins=bins, alpha=0.5, label='Non-Higgs Events', color='red')\n",
    "\n",
    "    # Plot formatting\n",
    "    plt.xlabel('Invariant Mass (MeV)')\n",
    "    plt.ylabel('Number of Events')\n",
    "    plt.title('Histogram of Invariant Masses')\n",
    "    plt.legend(loc='upper right')\n",
    "    plt.grid(True)\n",
    "\n",
    "    # Show the plot\n",
    "    plt.show()\n",
    "\n",
    "# Plot the histogram using the function\n",
    "plot_invariant_mass_histogram(expanded_df)\n"
   ]
  },
  {
   "cell_type": "code",
   "execution_count": 9,
   "metadata": {},
   "outputs": [
    {
     "name": "stdout",
     "output_type": "stream",
     "text": [
      "Training/Validation DataFrame:\n",
      "    eventNumber  scaleFactor_PILEUP  scaleFactor_PhotonTRIGGER  trigE  trigM  \\\n",
      "0       4246580            0.696077                   0.995786  False  False   \n",
      "2         56490            1.214122                   1.005498  False  False   \n",
      "4       3977190            0.750880                   1.002282  False  False   \n",
      "7        375365            0.187531                   0.978654  False  False   \n",
      "11       125352            1.251332                   1.000458  False  False   \n",
      "\n",
      "    trigP  lep_n        met_et   met_phi  jet_n  ...  jet_pt_syst10  \\\n",
      "0    True      0  51045.160156  2.794363      3  ...            0.0   \n",
      "2    True      0  58347.421875 -0.033184      3  ...            0.0   \n",
      "4    True      0  43917.437500 -1.083709      1  ...            0.0   \n",
      "7    True      0  30531.507812  0.860157      2  ...            0.0   \n",
      "11   True      0  58828.941406 -1.128013      1  ...            0.0   \n",
      "\n",
      "    jet_pt_syst11  jet_pt_syst12  jet_pt_syst13  jet_pt_syst14  jet_pt_syst15  \\\n",
      "0             0.0            0.0            0.0            0.0            0.0   \n",
      "2             0.0            0.0            0.0            0.0            0.0   \n",
      "4             0.0            0.0            0.0            0.0            0.0   \n",
      "7             0.0            0.0            0.0            0.0            0.0   \n",
      "11            0.0            0.0            0.0            0.0            0.0   \n",
      "\n",
      "   photon_pt_syst2 photon_pt_syst3 photon_pt_syst4 totalInvariantMass  \n",
      "0              0.0             0.0             0.0      390872.265768  \n",
      "2              0.0             0.0             0.0      171393.168142  \n",
      "4              0.0             0.0             0.0      124472.867715  \n",
      "7              0.0             0.0             0.0       99834.656460  \n",
      "11             0.0             0.0             0.0      127352.275014  \n",
      "\n",
      "[5 rows x 274 columns]\n",
      "\n",
      "Test DataFrame (Non-Higgs events only):\n",
      "         eventNumber  scaleFactor_PILEUP  scaleFactor_PhotonTRIGGER  trigE  \\\n",
      "661021    2050143073                 0.0                        0.0  False   \n",
      "775269    1275365767                 0.0                        0.0  False   \n",
      "1087095   1043059645                 0.0                        0.0  False   \n",
      "164936   -1429196898                 0.0                        0.0  False   \n",
      "565528      68877726                 0.0                        0.0  False   \n",
      "\n",
      "         trigM  trigP  lep_n        met_et   met_phi  jet_n  ...  \\\n",
      "661021   False   True      0   9045.200195  1.022757      3  ...   \n",
      "775269   False   True      0  21492.482422 -0.414178      0  ...   \n",
      "1087095  False   True      0  23027.052734  1.943492      2  ...   \n",
      "164936   False   True      0  85123.210938  0.825396      0  ...   \n",
      "565528   False   True      0  14290.399414 -2.344045      0  ...   \n",
      "\n",
      "         jet_pt_syst10  jet_pt_syst11  jet_pt_syst12  jet_pt_syst13  \\\n",
      "661021             0.0            0.0            0.0            0.0   \n",
      "775269             0.0            0.0            0.0            0.0   \n",
      "1087095            0.0            0.0            0.0            0.0   \n",
      "164936             0.0            0.0            0.0            0.0   \n",
      "565528             0.0            0.0            0.0            0.0   \n",
      "\n",
      "         jet_pt_syst14  jet_pt_syst15 photon_pt_syst2 photon_pt_syst3  \\\n",
      "661021             0.0            0.0             0.0             0.0   \n",
      "775269             0.0            0.0             0.0             0.0   \n",
      "1087095            0.0            0.0             0.0             0.0   \n",
      "164936             0.0            0.0             0.0             0.0   \n",
      "565528             0.0            0.0             0.0             0.0   \n",
      "\n",
      "        photon_pt_syst4 totalInvariantMass  \n",
      "661021              0.0      155819.731030  \n",
      "775269              0.0      101886.196401  \n",
      "1087095             0.0      217041.115945  \n",
      "164936              0.0       80168.530556  \n",
      "565528              0.0      105798.546002  \n",
      "\n",
      "[5 rows x 274 columns]\n",
      "Test DataFrame with non-Higgs events written to test_non_higgs_dataframe.csv.\n",
      "Training/Validation DataFrame with Higgs and non-Higgs events written to train_higgs_and_non_higgs_dataframe.csv.\n"
     ]
    }
   ],
   "source": [
    "import pandas as pd\n",
    "from sklearn.model_selection import train_test_split\n",
    "\n",
    "# Assuming `expanded_df` is your DataFrame\n",
    "\n",
    "# Step 1: Separate the non-Higgs events\n",
    "non_higgs_df = expanded_df[expanded_df['isHiggs'] == 0]\n",
    "\n",
    "# Step 2: Split the non-Higgs data into training/validation set and test set\n",
    "non_higgs_train_df, test_df = train_test_split(non_higgs_df, test_size=0.2, random_state=42)\n",
    "\n",
    "# Step 3: Combine the non-Higgs training/validation set with the original Higgs events\n",
    "train_df = pd.concat([expanded_df[expanded_df['isHiggs'] == 1], non_higgs_train_df])\n",
    "\n",
    "# Step 4: Verify the split\n",
    "print(\"Training/Validation DataFrame:\")\n",
    "print(train_df.head())\n",
    "\n",
    "print(\"\\nTest DataFrame (Non-Higgs events only):\")\n",
    "print(test_df.head())\n",
    "\n",
    "# Optionally, save the test DataFrame for later use\n",
    "test_output_file = \"test_non_higgs_dataframe.csv\"\n",
    "test_df.to_csv(test_output_file, index=False)\n",
    "print(f\"Test DataFrame with non-Higgs events written to {test_output_file}.\")\n",
    "\n",
    "# Optionally, save the training/validation DataFrame for use in training\n",
    "train_output_file = \"train_higgs_and_non_higgs_dataframe.csv\"\n",
    "train_df.to_csv(train_output_file, index=False)\n",
    "print(f\"Training/Validation DataFrame with Higgs and non-Higgs events written to {train_output_file}.\")\n"
   ]
  },
  {
   "cell_type": "code",
   "execution_count": 10,
   "metadata": {},
   "outputs": [],
   "source": [
    "def higgs_ratio(df):\n",
    "    return sum(df.isHiggs) / len(df)"
   ]
  },
  {
   "cell_type": "code",
   "execution_count": 14,
   "metadata": {},
   "outputs": [
    {
     "name": "stderr",
     "output_type": "stream",
     "text": [
      "C:\\Users\\phgil\\AppData\\Local\\Temp\\ipykernel_22684\\1434935774.py:1: DtypeWarning: Columns (16,17,18,19,21,22,23,53,54,55,168,169,170,171,172,173,174,175,176,177,178,179,180,181,182,183,200,201,202,203,204,208,209,233,234) have mixed types. Specify dtype option on import or set low_memory=False.\n",
      "  train_df = pd.read_csv(\"train_higgs_and_non_higgs_dataframe.csv\").map(lambda x: float(bool(x)) if x in [\"True\", \"False\"] else float(x))\n"
     ]
    }
   ],
   "source": [
    "train_df = pd.read_csv(\"train_higgs_and_non_higgs_dataframe.csv\").map(lambda x: float(bool(x)) if x in [\"True\", \"False\"] else float(x))"
   ]
  },
  {
   "cell_type": "code",
   "execution_count": 52,
   "metadata": {},
   "outputs": [
    {
     "name": "stdout",
     "output_type": "stream",
     "text": [
      "0.42421856776300443\n"
     ]
    },
    {
     "name": "stderr",
     "output_type": "stream",
     "text": [
      "C:\\Users\\phgil\\AppData\\Local\\Temp\\ipykernel_2308\\2130131336.py:59: SettingWithCopyWarning: \n",
      "A value is trying to be set on a copy of a slice from a DataFrame.\n",
      "Try using .loc[row_indexer,col_indexer] = value instead\n",
      "\n",
      "See the caveats in the documentation: https://pandas.pydata.org/pandas-docs/stable/user_guide/indexing.html#returning-a-view-versus-a-copy\n",
      "  lepton_filtered_df['transverse_mass'] = np.sqrt(\n"
     ]
    },
    {
     "name": "stdout",
     "output_type": "stream",
     "text": [
      "     eventNumber  scaleFactor_PILEUP  scaleFactor_PhotonTRIGGER  trigE  trigM  \\\n",
      "82        230794            1.196105                   0.960220  False  False   \n",
      "94        167560            1.262048                   0.996856  False  False   \n",
      "149       314124            0.619412                   0.993779  False  False   \n",
      "208       178154            0.738662                   1.002836  False  False   \n",
      "277       199517            0.750880                   1.000232  False  False   \n",
      "\n",
      "     trigP  lep_n         met_et   met_phi  jet_n  ...  jet_pt_syst11  \\\n",
      "82    True      2   56308.984375  2.926622      3  ...            0.0   \n",
      "94    True      1  150844.609375  2.514466      3  ...            0.0   \n",
      "149   True      1  128994.695312  3.012642      4  ...            0.0   \n",
      "208   True      2   69033.000000 -2.837733      3  ...            0.0   \n",
      "277   True      1  101760.117188  2.523701      4  ...            0.0   \n",
      "\n",
      "     jet_pt_syst12  jet_pt_syst13  jet_pt_syst14  jet_pt_syst15  \\\n",
      "82             0.0            0.0            0.0            0.0   \n",
      "94             0.0            0.0            0.0            0.0   \n",
      "149            0.0            0.0            0.0            0.0   \n",
      "208            0.0            0.0            0.0            0.0   \n",
      "277            0.0            0.0            0.0            0.0   \n",
      "\n",
      "     photon_pt_syst2 photon_pt_syst3 photon_pt_syst4 totalInvariantMass  \\\n",
      "82               0.0             0.0             0.0      126876.922830   \n",
      "94               0.0             0.0             0.0      126336.200289   \n",
      "149              0.0             0.0             0.0      160382.643117   \n",
      "208              0.0             0.0             0.0      124356.986917   \n",
      "277              0.0             0.0             0.0      133221.962804   \n",
      "\n",
      "    transverse_mass  \n",
      "82     48453.137227  \n",
      "94    142295.020758  \n",
      "149    49572.900311  \n",
      "208   115780.898062  \n",
      "277    91241.995834  \n",
      "\n",
      "[5 rows x 275 columns]\n",
      "0.9232362617277934\n"
     ]
    }
   ],
   "source": [
    "print(higgs_ratio(train_df))\n",
    "import numpy as np\n",
    "\n",
    "def apply_higgs_filters(df):\n",
    "    \"\"\"\n",
    "    Applies a series of filters to the DataFrame to enrich it with Higgs-like events.\n",
    "    The invariant mass is expected to be in MeV.\n",
    "\n",
    "    Parameters:\n",
    "    df (DataFrame): The input DataFrame containing the event data.\n",
    "\n",
    "    Returns:\n",
    "    DataFrame: A filtered DataFrame with a higher likelihood of containing Higgs events.\n",
    "    \"\"\"\n",
    "\n",
    "    # 1. Invariant Mass Filter (100-150 GeV -> 100000-150000 MeV)\n",
    "    mass_filtered_df = df#[(df['totalInvariantMass'] >= 100000) & (df['totalInvariantMass'] <= 150000)]\n",
    "\n",
    "    # 2. Photon Filters using the improved logic\n",
    "    photon_filtered_df = mass_filtered_df\n",
    "    \"\"\"[\n",
    "        ~(mass_filtered_df['photon_n'] >= 2) |  # Keep events with < 2 photons\n",
    "        (\n",
    "            (mass_filtered_df['photon_pt0'] > 30000) &  # 30 GeV in MeV\n",
    "            (mass_filtered_df['photon_pt1'] > 30000) &  # 30 GeV in MeV\n",
    "            (mass_filtered_df['photon_eta0'].abs() < 2.5) &\n",
    "            (mass_filtered_df['photon_eta1'].abs() < 2.5) &\n",
    "            (mass_filtered_df['photon_phi0'] >= -3) & (mass_filtered_df['photon_phi0'] <= 3) &\n",
    "            (mass_filtered_df['photon_phi1'] >= -3) & (mass_filtered_df['photon_phi1'] <= 3)\n",
    "        )\n",
    "    ]\"\"\"\n",
    "\n",
    "    # 3. Jet Filters using the same logic\n",
    "    jet_filtered_df = photon_filtered_df[\n",
    "        ~(photon_filtered_df['jet_n'] >= 2) |  # Keep events with < 2 jets\n",
    "        (\n",
    "            (photon_filtered_df['jet_n'] >= 2) & (photon_filtered_df['jet_n'] <= 4) &\n",
    "            (photon_filtered_df['jet_pt0'] > 30000) &  # Example: 30 GeV in MeV\n",
    "            (photon_filtered_df['jet_eta0'].abs() < 2.5) &\n",
    "            (photon_filtered_df['jet_phi0'] >= -3) & (photon_filtered_df['jet_phi0'] <= 3)\n",
    "        )\n",
    "    ]\n",
    "\n",
    "    # 4. Missing Transverse Energy (MET) Filter (20 GeV -> 20000 MeV)\n",
    "    met_filtered_df = jet_filtered_df[jet_filtered_df['met_et'] > 20000]\n",
    "\n",
    "    # 5. Lepton Filters using the improved logic\n",
    "    lepton_filtered_df = met_filtered_df[\n",
    "        ~(met_filtered_df['lep_n'] >= 2) |  # Keep events with < 2 leptons\n",
    "        (\n",
    "            (met_filtered_df['lep_pt0'] > 20000) &  # 20 GeV in MeV\n",
    "            (met_filtered_df['lep_eta0'].abs() < 2.5) &\n",
    "            (met_filtered_df['lep_phi0'] >= -3) & (met_filtered_df['lep_phi0'] <= 3)\n",
    "        )\n",
    "    ]\n",
    "\n",
    "    # 6. Transverse Mass Calculation and Filter (only for events with MET and leptons)\n",
    "    if 'lep_pt0' in lepton_filtered_df.columns and 'met_et' in lepton_filtered_df.columns:\n",
    "        lepton_filtered_df['transverse_mass'] = np.sqrt(\n",
    "            2 * lepton_filtered_df['lep_pt0'] * lepton_filtered_df['met_et'] *\n",
    "            (1 - np.cos(lepton_filtered_df['lep_phi0'] - lepton_filtered_df['met_phi']))\n",
    "        )\n",
    "        lepton_filtered_df = lepton_filtered_df[lepton_filtered_df['transverse_mass'] > 20000]  # 20 GeV in MeV\n",
    "\n",
    "    return lepton_filtered_df\n",
    "\n",
    "# Assuming `train_df` is your DataFrame\n",
    "filtered_df = apply_higgs_filters(train_df)\n",
    "\n",
    "# Show the first few rows of the filtered DataFrame\n",
    "print(filtered_df.head())\n",
    "print(higgs_ratio(filtered_df))\n"
   ]
  },
  {
   "cell_type": "code",
   "execution_count": 64,
   "metadata": {},
   "outputs": [],
   "source": [
    "filtered_df = filtered_df.astype(float)"
   ]
  },
  {
   "cell_type": "code",
   "execution_count": 65,
   "metadata": {},
   "outputs": [
    {
     "name": "stdout",
     "output_type": "stream",
     "text": [
      "Top 10 variables by memory usage:\n",
      "train_df: 3725574512 bytes\n",
      "non_higgs_df: 2681397392 bytes\n",
      "non_higgs_train_df: 2145116642 bytes\n",
      "combined_df: 1038349996 bytes\n",
      "data_df: 623541838 bytes\n",
      "test_df: 536280782 bytes\n",
      "mc_df: 414808762 bytes\n",
      "train_df_sampled: 256535432 bytes\n",
      "X: 254669720 bytes\n",
      "X_train: 203734472 bytes\n"
     ]
    }
   ],
   "source": [
    "import sys\n",
    "import pandas as pd\n",
    "\n",
    "def print_memory_usage(n=10, scope=None):\n",
    "    \"\"\"\n",
    "    Prints the variables that take the most memory in the provided scope.\n",
    "\n",
    "    Parameters:\n",
    "    n (int): The number of top variables to print. Default is 10.\n",
    "    scope (dict): The scope from which to measure memory usage, typically locals() or globals().\n",
    "    \"\"\"\n",
    "    if scope is None:\n",
    "        scope = globals()  # Default to the global scope if none provided\n",
    "\n",
    "    # Calculate the size of each variable in the provided scope\n",
    "    memory_usage = {var: sys.getsizeof(value) for var, value in scope.items()}\n",
    "\n",
    "    # Sort variables by memory usage in descending order\n",
    "    sorted_memory_usage = sorted(memory_usage.items(), key=lambda item: item[1], reverse=True)\n",
    "\n",
    "    print(f\"Top {n} variables by memory usage:\")\n",
    "    for var, size in sorted_memory_usage[:n]:\n",
    "        print(f\"{var}: {size} bytes\")\n",
    "\n",
    "# Call the function from the global scope\n",
    "print_memory_usage(n=10, scope=globals())\n"
   ]
  },
  {
   "cell_type": "code",
   "execution_count": 66,
   "metadata": {},
   "outputs": [],
   "source": [
    "del non_higgs_df\n",
    "del combined_df\n",
    "del data_df\n",
    "del test_df\n",
    "del mc_df"
   ]
  },
  {
   "cell_type": "code",
   "execution_count": 85,
   "metadata": {},
   "outputs": [
    {
     "data": {
      "application/vnd.jupyter.widget-view+json": {
       "model_id": "38474f242ada4c12974733e045d261ea",
       "version_major": 2,
       "version_minor": 0
      },
      "image/png": "[encoded data removed]",
      "text/html": [
       "\n",
       "            <div style=\"display: inline-block;\">\n",
       "                <div class=\"jupyter-widgets widget-label\" style=\"text-align: center;\">\n",
       "                    Figure 15\n",
       "                </div>\n",
       "                <img src='data:image/png;base64,iVBORw0KGgoAAAANSUhEUgAAA+gAAAJYCAYAAADxHswlAAAAOXRFWHRTb2Z0d2FyZQBNYXRwbG90bGliIHZlcnNpb24zLjkuMiwgaHR0cHM6Ly9tYXRwbG90bGliLm9yZy8hTgPZAAAACXBIWXMAAA9hAAAPYQGoP6dpAABQoElEQVR4nO3de5zVdZ0/8Pc5M8yAAsNFELDBO2oopHkJL6mlGRpp7pprpHipraSs+LGb1iZaKbalq9salRnoltdSt8xLSl7WvCN42RQviJCCeINhQAaY8/39AedwBs7c6Jw5Z+D5fDzOgznfc5n3fJ0BX/P+fD/vVJIkSQAAAABllS53AQAAAICADgAAABVBQAcAAIAKIKADAABABRDQAQAAoAII6AAAAFABBHQAAACoAAI6AAAAVAABHQAAACqAgA4AAAAVQEAHAACACiCgAwAAQAUQ0AEAAKACCOgAAABQAQR0AAAAqAACOgAAAFQAAR0AAAAqgIAOAAAAFUBABwAAgAogoAMAAEAFENABAACgAgjoAAAAUAEEdAAAAKgAAjoAAABUAAEdAAAAKoCADgAAABVAQAcAAIAKIKADAABABRDQAQAAoAII6AAAAFABBHQAAACoAAI6AAAAVAABHQAAACqAgA4AAAAVQEAHAACACiCgAwAAQAUQ0AEAAKACCOgAAABQAQR0AAAAqAACOgAAAFQAAR0AAAAqgIAOAAAAFUBABwAAgAogoAMAAEAFENABAACgAgjoAAAAUAEEdAAAAKgAAjoAAABUAAEdAAAAKoCADgAAABVAQAcAAIAKIKADAABABRDQAQAAoAII6AAAAFABBHQAAACoAAI6AAAAVAABHQAAACqAgL4Ve/DBB2PcuHExbNiwSKVScdttt5X0811wwQWRSqVa3Pbcc8+Sfk4AAIDuQkDfiq1YsSJGjx4dV155ZZd9zpEjR8aiRYtyt4ceeqjLPjcAAEAlqy53AZTP2LFjY+zYsa0+3tTUFN/5znfi+uuvj6VLl8bee+8dP/zhD+OII47Y7M9ZXV0dQ4YM2ezXAwAAbKl00GnVV7/61XjkkUfihhtuiGeeeSZOOumk+OQnPxkvvfTSZr/nSy+9FMOGDYtddtklxo8fHwsWLChixQAAAN1XKkmSpNxFUH6pVCpuvfXWOOGEEyIiYsGCBbHLLrvEggULYtiwYbnnHXXUUXHggQfGxRdf3OnPceedd0ZjY2PssccesWjRorjwwgvj9ddfj+eeey769OlTrC8FAACgW7LEnYKeffbZaG5ujhEjRrQ43tTUFAMHDoyIiBdeeCH22muvNt/nW9/6VlxyySURES2W048aNSoOOuig2HHHHeOmm26Ks846q8hfAQAAQPcioFNQY2NjVFVVxaxZs6KqqqrFY717946IiF122SWef/75Nt8nG+YL6devX4wYMSJefvnlv79gAACAbk5Ap6B99903mpubY8mSJXHYYYcVfE5NTc3fNSatsbExXnnllTj11FM3+z0AAAC2FAL6VqyxsbFF9/rVV1+NOXPmxIABA2LEiBExfvz4OO200+LSSy+NfffdN956662YOXNmjBo1Ko477rhOf77JkyfHuHHjYscdd4w33ngjpkyZElVVVXHKKacU88sCAADolmwStxW7//7748gjj9zk+IQJE2LGjBmxZs2a+MEPfhDXXnttvP7667HddtvFRz7ykbjwwgtjn3326fTn+6d/+qd48MEH45133olBgwbFoYceGhdddFHsuuuuxfhyAAAAujUBHQAAACqAOegAAABQAQR0AAAAqAA2idvKZDKZeOONN6JPnz6RSqXKXQ4AAFAmSZLE8uXLY9iwYZFO691WAgG9G2lubo4LLrggfv3rX8fixYtj2LBhcfrpp8e//du/dThsv/HGG1FfX1/iSgEAgO5i4cKF8YEPfKDcZRACerfywx/+MKZNmxbXXHNNjBw5Mp588sk444wzoq6uLs4555wOvUefPn0iYt0PYd++fUtZLgAAUMEaGhqivr4+lxEoPwG9G3n44Yfj+OOPz80g32mnneL666+Pxx9/vMPvke209+3bV0AHAABc+lpBXGjQjRx88MExc+bMePHFFyMi4umnn46HHnooxo4dW+bKAAAA+HvpoHcj5557bjQ0NMSee+4ZVVVV0dzcHBdddFGMHz++1dc0NTVFU1NT7n5DQ0NXlAoAAEAn6aB3IzfddFP85je/ieuuuy6eeuqpuOaaa+LHP/5xXHPNNa2+ZurUqVFXV5e72SAOAACgMqWSJEnKXQQdU19fH+eee25MnDgxd+wHP/hB/PrXv44XXnih4GsKddDr6+tj2bJlrkEHAICtWENDQ9TV1ckGFcQS925k5cqVm8wnrKqqikwm0+pramtro7a2ttSlAQAA8HcS0LuRcePGxUUXXRTDhw+PkSNHxuzZs+Oyyy6LM888s9ylAQAA8HeyxL0bWb58eXz3u9+NW2+9NZYsWRLDhg2LU045Jc4///yoqanp0HtYxgIAAETIBpVIQN/K+CEEAAAiZINKZBd3AAAAqAACOgAAAFQAAR0AAAAqgIAOAAAAFUBABwAAgAogoAMAAEAFENABAACgAgjoAAAAUAEEdAAAAKgAAjqUUCaTlLsEAACgmxDQoURWrWmOIy+9P75+w+xylwIAAHQD1eUuALZU899ZEa+9szKWr1pb7lIAAIBuQAcdSiSTWf9nYpk7AADQPgEdSiQbzJtdhw4AAHSAgA4lkm2ca6ADAAAdIaBDieigAwAAnSGgQ4k0rw/orkEHAAA6QkCHEkkEdAAAoBMEdCiR7Mp2K9wBAICOENChRDIZ16ADAAAdJ6BDieTn8sQydwAAoB0COpRIfijXRAcAANojoEOJNOcFdMvcAQCA9gjoUCL5mdxO7gAAQHsEdCiRTIsl7gI6AADQNgEdSsQ16AAAQGcI6FAimcyGj12DDgAAtEdAhxLJX9ZuzBoAANAeAR1KJGMXdwAAoBMEdCiRlru4l68OAACgexDQoUQscQcAADpDQIcSye+aNwvoAABAOwR0KBFj1gAAgM4Q0KFE8pe4ZyR0AACgHQI6lEhz3hz0jCXuAABAOwR0KBFj1gAAgM4Q0KFEXIMOAAB0hoAOJdJyDrqEDgAAtE1AhxJpsUmcgA4AALRDQIcSadFBz7T+PAAAgAgBHUomf7SaDjoAANAeAR1KxBJ3AACgMwR0KJH8Je7GrAEAAO0R0KFEjFkDAAA6Q0CHErHEHQAA6AwBHUqk5S7uAjoAANA2AR1KJP+682YddAAAoB0Cejez0047RSqV2uQ2ceLEcpfGRvKvQZfPAQCA9lSXuwA654knnojm5ubc/eeeey6OPvroOOmkk8pYFYW0WOIuoQMAAO0Q0LuZQYMGtbh/ySWXxK677hqHH354mSqiNfmh3Jg1AACgPQJ6N7Z69er49a9/HZMmTYpUKlXwOU1NTdHU1JS739DQ0FXlbfXyM7kGOgAA0B7XoHdjt912WyxdujROP/30Vp8zderUqKury93q6+u7rsCtXKKDDgAAdIKA3o1dffXVMXbs2Bg2bFirzznvvPNi2bJludvChQu7sMKtW34odw06AADQHkvcu6nXXnst7r333rjlllvafF5tbW3U1tZ2UVXks0kcAADQGTro3dT06dNj8ODBcdxxx5W7FFqRv8TdCncAAKA9Ano3lMlkYvr06TFhwoSorrYIolLZxR0AAOgMAb0buvfee2PBggVx5plnlrsU2mCJOwAA0Bnar93QJz7xiRbLp6lM+aHcfy4AAKA9OuhQIpmMJe4AAEDHCehQIpa4AwAAnSGgQ4lkEnPQAQCAjhPQoURadtDLVwcAANA9COhQIokxawAAQCcI6FAiLXdxF9ABAIC2CehQIs2Z/I8FdAAAoG0COpRI0mKTuDIWAgAAdAsCOpSIXdwBAIDOENChRMxBBwAAOkNAhxLJWOIOAAB0goAOJZLfNLdJHAAA0B4BHUokP5QbswYAALRHQIcSyV/inj9yDQAAoBABHUrEJnEAAEBnCOhQIokxawAAQCcI6FAi5qADAACdIaBDibRc4l6+OgAAgO5BQIcSadFBl9ABAIB2COhQIpa4AwAAnSGgQ4lk8karGbMGAAC0R0CHEtFBBwAAOkNAhxJJzEEHAAA6QUCHEtFBBwAAOkNAhxJpzgvlrkEHAADaI6BDieRPVkt00AEAgHYI6FAiiSXuAABAJwjoUCIZS9wBAIBOENChRPLnoFviDgAAtEdAhxJp0UEX0AEAgHYI6FAiLceslbEQAACgWxDQoUTyQ3lGQgcAANohoEOJZOziDgAAdIKADiWSn8mbddABAIB2COhQIq5BBwAAOkNAhxLJD+jGrAEAAO0R0KFE8uegG7MGAAC0R0CHErHEHQAA6AwBHUqkRUCX0AEAgHYI6FAiLeagW+IOAAC0Q0CHEsnfGM6YNQAAoD0COpRIfibXQAcAANojoEOJ5HfN7eIOAAC0R0CHEmm5i7uADgAAtE1AhxJJWmwSV746AACA7kFAhxIxZg0AAOgMAb2bef311+Pzn/98DBw4MHr16hX77LNPPPnkk+UuiwIscQcAADqjutwF0HHvvfdeHHLIIXHkkUfGnXfeGYMGDYqXXnop+vfvX+7SKCC/aW7MGgAA0B4BvRv54Q9/GPX19TF9+vTcsZ133rmMFdGW/GXtGugAAEB7LHHvRn7/+9/H/vvvHyeddFIMHjw49t1337jqqqvafE1TU1M0NDS0uNE18pe1G7MGAAC0R0DvRubNmxfTpk2L3XffPe6+++74yle+Euecc05cc801rb5m6tSpUVdXl7vV19d3YcVbt0yLXdwFdAAAoG2pJJEcuouamprYf//94+GHH84dO+ecc+KJJ56IRx55pOBrmpqaoqmpKXe/oaEh6uvrY9myZdG3b9+S17y1SpIkdj7vjtz9nQZuE/f/y5FlrAgAAFpqaGiIuro62aCC6KB3I0OHDo0PfvCDLY7ttddesWDBglZfU1tbG3379m1xo/Q23hPOHnEAAEB7BPRu5JBDDom5c+e2OPbiiy/GjjvuWKaKaM3GS9otcQcAANojoHcj3/zmN+PRRx+Niy++OF5++eW47rrr4he/+EVMnDix3KWxkY3HqmW00AEAgHYI6N3IAQccELfeemtcf/31sffee8f3v//9uPzyy2P8+PHlLo2NbNwwl88BAID2mIPezXzqU5+KT33qU+Uug3ZsvKTdmDUAAKA9OuhQAhsHdMMSAACA9gjoUAIbL2nf+Jp0AACAjQnoUAIbbwonnwMAAO0R0KEENhmzJqEDAADtENChBDbO4+agAwAA7RHQoQQ23hTOLu4AAEB7BHQogU076OWpAwAA6D4EdCgBY9YAAIDOEtChBDYeq2bMGgAA0B4BHUpg44a5fA4AALRHQIcSKLRru1FrAABAWwR0KIGCAd116AAAQBsEdCiBbLM8ndpwzKg1AACgLQI6lEB21/bqqnTesXJVAwAAdAcCOpRAtlveI6+Fbid3AACgLQI6lEAms+7P/A66a9ABAIC2COhQAtkwXp3XQddABwAA2iKgQwlkm+XVVXkBXUIHAADaIKBDCWQ76FWp1CbHAAAAChHQoQSyYTydTkU2oxuzBgAAtEVAhxLIddDTqVwXXT4HAADaIqBDCWQvN0+nUpFeH9CNWQMAANoioEMJZDeES6Ui0ut/ylyDDgAAtEVAhxIo1EHPzkYHAAAoRECHEkiym8SlNuzkroMOAAC0RUCHEsjvoGd3cRfQAQCAtgjoUALNuQ56KqrSOugAAED7BHQogQ1z0GPDNejyOQAA0AYBHUogyeugp4xZAwAAOkBAhxLI7tieSqWiypg1AACgAwR0KIFM3i7uxqwBAAAdIaBDCRScg66DDgAAtEFAhxLIhvGqVCrS63/KmgV0AACgDQI6lEA2oKdS60J6xIaN4wAAAAoR0KEECi9xL2NBAABAxRPQoQSS/DnoaWPWAACA9gnoUAKZvDno6/O5TeIAAIA2CehQAtmRai2WuBuzBgAAtEFAhxJoLjQHXQcdAABog4AOJZDkL3E3Zg0AAOgAAR1KILsfXCqVMmYNAADoEAEdSiCTt8Q9lcru4l7OigAAgEonoEMJ5M9Br0q7Bh0AAGifgA4lkF3OXpXeMGbNEncAAKAtAjqUQPP6Fnoqbxd3S9wBAIC2COhQAvlL3I1ZAwAAOkJA72YuuOCCSKVSLW577rlnuctiI0n+HPT1P2UCOgAA0JbqchdA540cOTLuvffe3P3qav8ZK00mfw66DjoAANABkl03VF1dHUOGDCl3GbQhfw66a9ABAICOsMS9G3rppZdi2LBhscsuu8T48eNjwYIFrT63qakpGhoaWtwovUxuF/cwZg0AAOgQAb2bOeigg2LGjBlx1113xbRp0+LVV1+Nww47LJYvX17w+VOnTo26urrcrb6+vosr3jplMvlL3FseAwAAKERA72bGjh0bJ510UowaNSqOOeaYuOOOO2Lp0qVx0003FXz+eeedF8uWLcvdFi5c2MUVb50KLXGXzwEAgLa4Br2b69evX4wYMSJefvnlgo/X1tZGbW1tF1dFJn8Xd5vEAQAAHaCD3s01NjbGK6+8EkOHDi13KeTJn4PuGnQAAKAjBPRuZvLkyfHAAw/E/Pnz4+GHH47PfOYzUVVVFaecckq5SyNP/hz0lGvQAQCADrDEvZv529/+Fqecckq88847MWjQoDj00EPj0UcfjUGDBpW7NPLklrin88asyecAAEAbBPRu5oYbbih3CXRAduZ5/hL3xBJ3AACgDZa4QwkUWuLebIk7AADQBgEdSmDDLu6pqDJmDQAA6AABHUqg8Bx0CR0AAGidgA4l0GIOenbMmhY6AADQBgEdSiDbLK9KpyKdHbMmnwMAAG0Q0KEEshvCpfJ2cW+2xB0AAGiDgA4l0GKJe8qYNQAAoH0COpRAdjl7OpUyZg0AAOgQAR1KIH8OujFrAABARwjoUALZJe6pVGrDLu6WuAMAAG0Q0KEEMi12cTdmDQAAaJ+ADiWQDePrNolbd8wu7gAAQFsEdCiBDbu4bxizJp8DAABtEdChBLKr2VOpVKRSrkEHAADaJ6BDCWQK7OJuzBoAANAWAR1KIMmbg569Bl0+BwAA2iKgQwnkOujpvDFrEjoAANAGAR1KoLnFLu6uQQcAANonoEMJZAoscTdmDQAAaIuADiWQ5G8SZ8waAADQAQI6lEB2OXv+mDW7uAMAAG0R0KEE8pe4V+V2cRfQAQCA1gnoUALZMF6Vjtwu7vI5AADQFgEdSiA3Zi2Vyu3ibok7AADQFgG9i8ybN6/cJdCFMpl1f6byArol7gAAQFsE9C6y2267xZFHHhm//vWvY9WqVeUuhxLLJPlz0FseAwAAKERA7yJPPfVUjBo1KiZNmhRDhgyJL33pS/H444+XuyxKJMmfg57OdtDLWBAAAFDxBPQu8qEPfSiuuOKKeOONN+JXv/pVLFq0KA499NDYe++947LLLou33nqr3CVSRC076K5BBwAA2iegd7Hq6uo48cQT4+abb44f/vCH8fLLL8fkyZOjvr4+TjvttFi0aFG5S6QI8jeJq0q3PAYAAFCIgN7FnnzyyTj77LNj6NChcdlll8XkyZPjlVdeiXvuuSfeeOONOP7448tdIkXQnL/E3SZxAABAB1SXu4CtxWWXXRbTp0+PuXPnxrHHHhvXXnttHHvssZFOr/sdyc477xwzZsyInXbaqbyFUhRJtoOe3rDEPbuzOwAAQCECeheZNm1anHnmmXH66afH0KFDCz5n8ODBcfXVV3dxZZRCtltuzBoAANBRAnoXueeee2L48OG5jnlWkiSxcOHCGD58eNTU1MSECRPKVCHFlO2WuwYdAADoKNegd5Fdd9013n777U2Ov/vuu7HzzjuXoSJKKRvGq1KpSKWMWQMAANonoHeRpJXuaWNjY/Ts2bOLq6HUNsxBN2YNAADoGEvcS2zSpEkRse5a5PPPPz+22Wab3GPNzc3x2GOPxYc+9KEyVUepNOddg55d4t7aL2kAAAAiBPSSmz17dkSsC2fPPvts1NTU5B6rqamJ0aNHx+TJk8tVHiWyYQ565Ja4NwvoAABAGwT0ErvvvvsiIuKMM86IK664Ivr27VvmiugKuSXu6VRUGbMGAAB0gIDeRaZPn17uEuhC+R10Y9YAAICOENBL6MQTT4wZM2ZE375948QTT2zzubfccksXVUVX2BDQU5E2Zg0AAOgAAb2E6urqctcf19XVlbkaulL+HPS0MWsAAEAHCOgllL+s3RL3rUt+B70qnb0GXUIHAABaZw56F3n//fdj5cqVufuvvfZaXH755fGnP/2pjFVRKpncmLV116HnHwMAAChEQO8ixx9/fFx77bUREbF06dI48MAD49JLL43jjz8+pk2bVubqKLZsszydShmzBgAAdIiA3kWeeuqpOOywwyIi4re//W0MGTIkXnvttbj22mvjP//zP8tcHcWWZJe4p8OYNQAAoEME9C6ycuXK6NOnT0RE/OlPf4oTTzwx0ul0fOQjH4nXXnutzNVRbNkOelWLTeJ00AEAgNYJ6F1kt912i9tuuy0WLlwYd999d3ziE5+IiIglS5ZE3759N+s9L7nkkkilUvGNb3yjiJVSDBuuQTdmDQAA6BgBvYucf/75MXny5Nhpp53ioIMOijFjxkTEum76vvvu2+n3e+KJJ+LnP/95jBo1qtilUgTNmewu7pHroDdb4g4AALRBQO8i//iP/xgLFiyIJ598Mu66667c8Y9//OPxH//xH516r8bGxhg/fnxcddVV0b9//2KXShEkeZvEZcesJTroAABAGwT0LjRkyJDYd999I53ecNoPPPDA2HPPPTv1PhMnTozjjjsujjrqqHaf29TUFA0NDS1ulF7+HHRj1gAAgI6oLncBW4sVK1bEJZdcEjNnzowlS5ZEZqMtvefNm9eh97nhhhviqaeeiieeeKJDz586dWpceOGFna6Xv0/LOejZJe4COgAA0DoBvYt84QtfiAceeCBOPfXUGDp0aG42dmcsXLgwvv71r8c999wTPXv27NBrzjvvvJg0aVLufkNDQ9TX13f6c9M5uV3c06lozmSXuJexIAAAoOIJ6F3kzjvvjD/+8Y9xyCGHbPZ7zJo1K5YsWRL77bdf7lhzc3M8+OCD8V//9V/R1NQUVVVVLV5TW1sbtbW1m/052TxJiyXu6zvoEjoAANAGAb2L9O/fPwYMGPB3vcfHP/7xePbZZ1scO+OMM2LPPfeMb33rW5uEc8qnxS7uxqwBAAAdIKB3ke9///tx/vnnxzXXXBPbbLPNZr1Hnz59Yu+9925xbNttt42BAwducpzyyi5xT+V10DPGrAEAAG0Q0LvIpZdeGq+88kpsv/32sdNOO0WPHj1aPP7UU0+VqTKKLX+cWjoVuTFrOugAAEBbBPQucsIJJ5Tkfe+///6SvC+bL3+z9nQqFanUugOuQQcAANoioHeRKVOmlLsEukh+pzydTkVVsmEX9yRJNmsHfwAAYMuXLncBW5OlS5fGL3/5yzjvvPPi3XffjYh1S9tff/31MldGMeXPO0/nzUGPMGoNAABonQ56F3nmmWfiqKOOirq6upg/f3588YtfjAEDBsQtt9wSCxYsiGuvvbbcJVIkyUZL3NN5vwZrTpJIhw46AACwKR30LjJp0qQ4/fTT46WXXoqePXvmjh977LHx4IMPlrEyiq3FEvdUKtKpwo8BAADkE9C7yBNPPBFf+tKXNjm+ww47xOLFi8tQEaWSH8JTGy1xN2oNAABojSXuXaS2tjYaGho2Of7iiy/GoEGDylARpbLxLu75vwbTQQcAAFqjg95FPv3pT8f3vve9WLNmTUREpFKpWLBgQXzrW9+Kf/iHfyhzdRRT/hz0qnQq8jdtN2oNAABojYDeRS699NJobGyMQYMGxfvvvx+HH3547LbbbtGnT5+46KKLyl0eRbTxLu5V+bu4W+IOAAC0whL3LlJXVxf33HNP/OUvf4mnn346GhsbY7/99oujjjqq3KVRZPlL3FMbbRKngw4AALRGQO8CmUwmZsyYEbfcckvMnz8/UqlU7LzzzjFkyJBIkiRSKWO3tiTZJe7ZYJ7OS+iuQQcAAFpjiXuJJUkSn/70p+MLX/hCvP7667HPPvvEyJEj47XXXovTTz89PvOZz5S7RIos20HP3709m9EFdAAAoDU66CU2Y8aMePDBB2PmzJlx5JFHtnjsz3/+c5xwwglx7bXXxmmnnVamCim2TK6DviGgV6VTkWlOjFkDAABapYNeYtdff318+9vf3iScR0R87GMfi3PPPTd+85vflKEySiUX0PN+urKXMeigAwAArRHQS+yZZ56JT37yk60+Pnbs2Hj66ae7sCJKLdslL7TEPX+HdwAAgHwCeom9++67sf3227f6+Pbbbx/vvfdeF1ZEqRVc4r7+Yw10AACgNQJ6iTU3N0d1deuX+ldVVcXatWu7sCJKLRvQ8zfnz4Z1Y9YAAIDW2CSuxJIkidNPPz1qa2sLPt7U1NTFFVFqBXdxT7sGHQAAaJuAXmITJkxo9zl2cN+ybDwHPf/jjGvQAQCAVgjoJTZ9+vRyl0AXy2bwqnTLMWv5jwEAAGzMNehQZNmd2lN5S9yNWQMAANojoEORZQoscc/u4m7MGgAA0BoBHYosKbRJXKrlYwAAABsT0KHICs1BTxmzBgAAtENAhyLLBfS8n64qY9YAAIB2COhQZAXnoBuzBgAAtENAhyIrtMQ9bcwaAADQDgEdiiyTG7O24VjaLu4AAEA7BHQoskJL3LNj1hLXoAMAAK0Q0KHIkgJz0LNZXQMdAABojYAORVZ4kzhj1gAAgLYJ6FBkhTaJM2YNAABoj4AORdZcYA66MWsAAEB7BHQossSYNQAAYDMI6FBkmcy6P1OFrkGX0AEAgFYI6FBkmQK7uBuzBgAAtEdAhyLLNsmr8jro2Q/t4g4AALRGQIciK3QNepVr0AEAgHYI6FBk2S55Xj7PhXW7uAMAAK0R0KHIshk8XWCJuznoAABAawR0KLKkwBx0S9wBAID2COhQZJlCc9AtcQcAANohoEORZeegFwzolrgDAACtENChyArNQU8bswYAALRDQIciK7TE3TXoAABAewR0KLJsCE+5Bh0AAOgEAR2KrOAS97Rr0AEAgLYJ6N3MtGnTYtSoUdG3b9/o27dvjBkzJu68885yl0WeQnPQc9eg66ADAACtENC7mQ984ANxySWXxKxZs+LJJ5+Mj33sY3H88cfH//3f/5W7NNbLzkGvSm+6xF0DHQAAaE11uQugc8aNG9fi/kUXXRTTpk2LRx99NEaOHFmmqsiXvc481WIXd0vcAQCAtgno3Vhzc3PcfPPNsWLFihgzZky5y2G95raWuAvoAABAKwT0bujZZ5+NMWPGxKpVq6J3795x6623xgc/+MGCz21qaoqmpqbc/YaGhq4qc6uVFNgkLrvcXT4HAABa4xr0bmiPPfaIOXPmxGOPPRZf+cpXYsKECfHXv/614HOnTp0adXV1uVt9fX0XV7v1KTQHPTtyzSZxAABAawT0bqimpiZ22223+PCHPxxTp06N0aNHxxVXXFHwueedd14sW7Ysd1u4cGEXV7v1KTQHvSqdfUxABwAACrPEfQuQyWRaLGPPV1tbG7W1tV1c0dYtk9vFfcOx3CZxOugAAEArBPRu5rzzzouxY8fG8OHDY/ny5XHdddfF/fffH3fffXe5S2O9pOAmcdld3MtREQAA0B0I6N3MkiVL4rTTTotFixZFXV1djBo1Ku6+++44+uijy10a6zXnxqxtGtDt4g4AALRGQO9mrr766nKXQDsyBXZxz37sGnQAAKA1NomDIssUWOJuzBoAANAeAR2KrNAcdGPWAACA9gjoUGS5Je5pY9YAAICOE9ChyAotcTdmDQAAaI+ADkWWDeEtN4kzZg0AAGibgA5FtmEXd2PWAACAjhPQociyXfJUatNr0BMBHQAAaIWADkVWaA66XdwBAID2COhQZNkmeVW6wCZx8jkAANAKAR2KLNtBL7TE3Zg1AACgNQI6FFlzW7u4a6EDAACtENChyNqcgy6fAwAArRDQociSApvEZT82Zg0AAGiNgA5FVvga9HUfG7MGAAC0RkCHIssU2MXdmDUAAKA9AjoUWaE56NmwLp8DAACtEdChyDK5XdzzN4lr+RgAAMDGBHQosmwGz78GPZXbxV1ABwAAChPQocgKLnE3Zg0AAGiHgA5FlhTYJC69/idNBx0AAGiNgA5FVmjMWtoSdwAAoB0COhRZoSXuaWPWAACAdgjoUGTNmXV/5u/ibswaAADQHgEdiiwp2EFf96cxawAAQGsEdCgy16ADAACbQ0CHIss2yasKBPRm+RwAAGiFgA5FltskLu+nK/txooMOAAC0QkCHIstm8LQl7gAAQCcI6FBk2VFqha5Bz+7wDgAAsDEBHYqs0Bz07Jg1S9wBAIDWCOhQZIWWuGc/bDZmDQAAaIWADkW2oYO+IaBXuQYdAABoh4AORVZoiXs6nQ3o5agIAADoDgR0KLKMXdwBAIDNIKBDkRWcg+4adAAAoB0COhRZNqAXGrOmgQ4AALRGQIciy6yfdd5ik7i0Je4AAEDbBHQosmwIrzJmDQAA6AQBHYpswxz0Dceq7OIOAAC0Q0CHImvrGnRL3AEAgNYI6FBkzYXmoAvoAABAOwR0KLLcEvd0fgd93Z+uQQcAAFojoEORZQp00LPXoGugAwAArRHQocg2BPRNr0HXQQcAAFojoEORFZqDnv3QNegAAEBrBHQosqRAB90SdwAAoD0CejczderUOOCAA6JPnz4xePDgOOGEE2Lu3LnlLos8zbkxaxuO5Za4S+gAAEArBPRu5oEHHoiJEyfGo48+Gvfcc0+sWbMmPvGJT8SKFSvKXRrrZS8zL3QNuiXuAABAa6rLXQCdc9ddd7W4P2PGjBg8eHDMmjUrPvrRj5apKvLllrjn/foru6N7kqx7PJXfXgcAAAgd9G5v2bJlERExYMCAMldCVraDXlXgGvT8xwEAAPLpoHdjmUwmvvGNb8QhhxwSe++9d8HnNDU1RVNTU+5+Q0NDV5W31crkrkHP38V9w8fNmaRFYAcAAIjQQe/WJk6cGM8991zccMMNrT5n6tSpUVdXl7vV19d3YYVbp0wmu4v7hmMtO+ha6AAAwKYE9G7qq1/9atx+++1x3333xQc+8IFWn3feeefFsmXLcreFCxd2YZVbp8KbxOU/LqADAACbssS9m0mSJL72ta/FrbfeGvfff3/svPPObT6/trY2amtru6g6IjYE8EK7uK97vMtLAgAAugEBvZuZOHFiXHfddfE///M/0adPn1i8eHFERNTV1UWvXr3KXB0R+degbzjWMqBL6AAAwKYsce9mpk2bFsuWLYsjjjgihg4dmrvdeOON5S6N9XK7uKdbWeKuhQ4AABSgg97NJLqvFS8psMTdmDUAAKA9OuhQZBs2idtwbOMxawAAABsT0KHIsgE8P5RHbOiiWwUBAAAUIqBDEeWH73TLfJ673yygAwAABQjoUET5q9fTG3XQs/etcAcAAAoR0KGI8keopdOtBHQJHQAAKEBAhyLKdGCJuznoAABAIQI6FFEms+HjTZa4py1xBwAAWiegQxG17KAXXuJuzBoAAFCIgA5FlB/QN8rnxqwBAABtEtChiNrexX3dn8asAQAAhQjoUET53fGqVndx79KSAACAbkJAhyJq2UFv+diGOeg66AAAwKYEdCii/A3gUhstca9KC+gAAEDrBHQoouwS94275xEbNo2zizsAAFCIgA5FlM3eG28Ql39MPgcAAAoR0KGIssvX0wVa6MasAQAAbRHQoYgylrgDAACbSUCHIkraWOJeZYk7AADQBgEdiijbHW/7GnQJHQAA2JSADkWUDd8F8nnuunQBHQAAKERAhyJqexf3dX+6Bh0AAChEQIciyu7QXtXmLu5dWhIAANBNCOhQRBs66Js+llrfVddBBwAAChHQoYg2XIPe+hJ316ADAACFCOhQRBt2cd/0MWPWAACAtgjoUERtzUE3Zg0AAGiLgA5FlA3fBQN6uuVzAAAA8gnoUES5gF7gJyttkzgAAKANAjoUUVtz0I1ZAwAA2iKgQxElbSxxN2YNAABoi4AORZQN3wXyeVQZswYAALRBQIciamuJu13cAQCAtgjoUEQblrhv+ljKHHQAAKANAjoUUdubxGWfI6EDAACbEtChiNqcg57toGuhAwAABQjoUERtzkFPW+IOAAC0TkCHIupIB92YNQAAoBABHYook1n3Z6rQNejGrAEAAG0Q0KGIMm3s4m7MGgAA0BYBHYoou3q9qkAHvbZHVUREvL8605UlAQAA3YSADkWUtHENet+e1RERsXzVmi6tCQAA6B4EdCiibAe9QD6PPrmAvrYLKwIAALoLAR2KqLmNDnqfnj0iImJ5kw46AACwKQEdiihpYw66DjoAANAWAR2KqK056NkOeoOADgAAFCCgQxFl56AXDug2iQMAAFonoHczDz74YIwbNy6GDRsWqVQqbrvttnKXRJ625qBb4g4AALRFQO9mVqxYEaNHj44rr7yy3KVQwPp83sqYtfWbxOmgAwAABVSXuwA6Z+zYsTF27Nhyl0Ersru4p9oI6KvWZGL12kzUVPv9GAAAsIGEAEXU1hL33j03/D5MFx0AANiYDvoWrqmpKZqamnL3GxoayljNli/TxhL3qnQqtq2pihWrm2P5qrUxsHdtF1cHAABUMh30LdzUqVOjrq4ud6uvry93SVu07Bz0qkIt9Ngwas1GcQAAwMYE9C3ceeedF8uWLcvdFi5cWO6StmiZTPYa9MKPG7UGAAC0xhL3LVxtbW3U1lpK3VXaWuIesSGgN+igAwAAGxHQu5nGxsZ4+eWXc/dfffXVmDNnTgwYMCCGDx9exsqIaHuTuIj8Je466AAAQEsCejfz5JNPxpFHHpm7P2nSpIiImDBhQsyYMaNMVZG1IaC33UF3DToAALAxAb2bOeKII3IbkVF5skvcC81Bj7BJHAAA0DqbxEERZXK7uBd+vK9N4gAAgFYI6FBESQc3idNBBwAANiagQxFtGLNWOKD37bVuiXuDDjoAALARAR2KqLndXdx10AEAgMIEdCiidueg1xqzBgAAFCagQxElOugAAMBmEtChiHJz0FtJ6Nkxaw0COgAAsBEBHYqo3SXuxqwBAACtENChiDLtLHHvu76D3rQ2E6vXZrqqLAAAoBsQ0KGIsmPWWuug917fQY/QRQcAAFoS0KGIskvcW5uDXpVOxbY1VRFhozgAAKAlAR2KKLvEvaqNn6zsRnECOgAAkE9AhyJK2tkkLsJGcQAAQGECOhRRtoPe2hL3iA0BvUFABwAA8gjoUETt7eIeEdG3l1noAADApgR0KKLm9ZPT2l7i7hp0AABgUwI6FFHSgQ66a9ABAIBCBHQootwS9zYS+oaAroMOAABsIKBDEWU6sIt739wSdx10AABgAwEdiqgjm8TpoAMAAIUI6FBEnZuDLqADAAAbCOhQRM2ZDsxBr7XEHQAA2JSADkVkiTsAALC5BHQoouwS96o2d3Ff10FvENABAIA81eUuALYk2Q56m0vc13fQGzZjifuqNc1x7/NvRnMmiU+PHtbm5wEAALoXAR2KqCNL3Pv2WtdBX702E01rm6O2uqrN90ySJJ7527K4edbC+P2cN3Kd90XLVsWXD9+1OIUDAABlJ6BDEXVkDnrv2g0/dstXrY3a3psG9EwmiacWvBd3/9/iuOv/FsfCd9/PPbZd75p4u3F1XHLnC1Hff5s4btTQ4n0BAABA2QjoUESZTPsd9Kp0KnrXVkdj09pYvmptbNe7tsXjS5avitN/9UT8dVFD7lhtdTqOGTkkPrt/fRy868D43u1/jRkPz49v3jQnhtT1jA/v2L8kXw8AANB1BHQooo5cgx6x7jr0dQG95XXoSxpWxSlXPRqvvLUietdWx1F7DY5jRg6Jw/cYFNvUbPhx/e6nPhh/e29l3Pv8kvjitU/GrWcfHDsO3Lb4XxAAANBl7OIORbRo2aqIiBi4bU2bzys0au3NhlXxT79YF86H1fWMP55zaFz+T/vG2H2GtgjnEeu68Ff8076x9w59490Vq+Mff/ZIPPO3pcX9YgAAgC4loEORrG3OxLy3VkRExIjt+7T53OyotWwHfcn6cD7v7RWxQ79eccM/j2m3I75tbXX8asIBscf2feKt5U3x2Z8/Enf/3+IifCUAAEA5COhQJPPfWRmrmzPRq0dV7NCvV5vP3TBqbV0H/fKZL8WruXD+kRg+cJsOfc7BfXvGb78yJg4fMShWrcnEl389K37x4CuRZAeyAwAA3YaADkXy0pvLIyJixPa9I93WLnGR30FfG2uaM3Hns4siIuKSf9gn6gd0LJznv9fVE/aPz39keCRJxMV3vBCTbno63l/dvBlfBQAAUC4COhTJi282RkTE7u0sb4/IvwZ9TTz8yjvx3so1MXDbmhizy8DN+tzVVen4/vF7x5RxH4yqdCpunf16nDjt4VjwzsrNej8AAKDrCehQJC8u2dBBb0/+JnG3P/1GRESM3WdIVFdt/o9kKpWKMw7ZOX591kExcNuaeH5RQ4z7r4figRff2uz3BAAAuo6ADkWSXeLekQ563/VL3N9pbMpt7HbcPsOKUseYXQfG7eccGqPr+8Wy99fE6dMfjyvve9l16QAAUOEEdCiC1Ws7voN7xIYO+p9fWBINq9bGoD61ceDOA4pWz9C6XnHTlz4SpxxYH0kS8aO758aXfz1rk7nrAABA5RDQoQjmv7Mi1maS6F1bHcPqerb7/GwHPbuL+3H7DI2qdjaW66za6qqYeuKomHriPlFTlY67/+/NOP7Kv8QDL76lmw4AABVIQIcieHH98vbdBveOVKr9oJ3toGd9atTQktQVEXHKgcPjxi99JIb07Rnz3loRE371ePzTLx6NWa+9W7LPCQAAdJ6ADkWQ3cF9jw4sb4/YMGYtImJI356x3/D+Jakra9/h/ePOrx8WZx26c9RUp+OxV9+Nf5j2SJz2q8fj4Zff1lEHAIAKIKBDEWzYIK79HdwjWnbQjxs1tN256cXQf9ua+O6nPhj3Tz4iTjmwPqrSqXjwxbfic798LMb910Px+6ffiOaMoA4AAOUioEMRZJe4d2SDuIiWAb2Uy9sLGdavV0w9cVTc9/+OiNPG7Bg9e6Tjudcb4pzrZ8fRlz0Qv5v1t1jbnOnSmgAAAAEd/m5Na5tj/jsrI6LjAX1oXa84aOcB8bE9B8eH6vuVsLrWDR+4TXzv+L3j4XM/Ht84avfot02PmPf2ivh/Nz8dH7/sgbj6oVfjlbcaLX8HAIAukkr83/dWpaGhIerq6mLZsmXRt2/fcpezRXh+UUOMveJ/o0/P6nhmyic6tElcJWpsWhv//chrcdX/zot3V6zOHd+hX684fI9BccKHdogDdurfbb8+AABakg0qT3X7TwHakr+8vTuH19611fGVI3aN08bsGDc9uTDuff7NeOLV9+L1pe/HdY8tiOseWxC7bLdtnLR/fRy11+DYvq5n9Kmt7tZfMwAAVBIBHf5OL63fwX1EBzeIq3Tb1lbHGYfsHGccsnOsXL02Hpv3btz53KK4/ZlFMe/tFfHDu16IH971QkRE9OyRju379ozdB/eOPYb0iT2H9I29d6iLnQZuI7gDAEAnCejwd+rsBnHdyTY11XHknoPjyD0Hx/njRsYfn3kjfjvrb/HCouWxvGltrFqTidfeWRmvvbMy7n1+Se512/WujQN26h8f3rF/9OxRFavXZqJpbSZ69UjHXkP7xgeH9W0xag4AABDQu6Urr7wyfvSjH8XixYtj9OjR8ZOf/CQOPPDAcpe11XppSbaDvuUF9Hy9a6vj5AOGx8kHDI+IiPdXN8eS5avijaWr4sU3l8cLi5fH84sa4q+LGuLtxqa487nFcedzi1t9vx0HbhPDB2wTg/v0jCF1tTGkrlcMH7BN7Dhgm9ihf69Y0bQ2XntnZcx/Z0WsXN0cB+w0IHYdtK3OPAAAWywBvZu58cYbY9KkSfGzn/0sDjrooLj88svjmGOOiblz58bgwYPLXd5WZ9Wa5njtnRUR0fEZ6FuKXjVVsePAbWPHgdvGmF0H5o6vWtMcz76+LB5/9d145m9LIyKiproqaqvTsXTlmvjrG8vijWWrcp33QlKpiELbV+7Qr1d8dMR2Mah3bTSsWhvLV62N1c2Z6L9Nj9iud20M6lMb/bfpEb1re0TvntXRp2d19Kmtjj49e0TPHuloziTxduPqeGt5U7y7cnXU9eoR2/Wuie1610bPHlWlOE0AANBhdnHvZg466KA44IAD4r/+678iIiKTyUR9fX187Wtfi3PPPbfd11fSTo1rmtcte25a07zuz7WZyCRJpCIilUpFOhWRilRkG6bpdGr9Y+vC28rVa2NFU3OsaFobazOFv403brZmkojGVWtj2ftrYtn7ayKTJNG3V4/o16tH9OlZHSuamuPdlavjvRWrY8XqtbnPn4qItZkkt1S7YdWaWPjuuoC57P010W+bHjH7u0fr7nbQeytWx/OLG2LR0lWxuGFVLGlYFa8vXRUL3l0Rr72zMprWrpvDPrhPbew4cJuoSqfiqdeWxuq/Yz57dToVzUlSMPhHrJtNP6hP7bqg37s2aqvTkU6noiq17nWNq9bG8qY10bhqbTStzcSa5kysaU6iKp2K7XrXxOA+PWNQn3Wva84kkUkiMkkSzZkkmpMkMplk3ffS+u/t6nQ6etVURe/a6ti2Zt0vB95fk4n31zTH6rWZqK1e93ivHutuPWuqYpseVVHbIx1NazKxck1zvL963fd+j6p01FSlo7oqFWuaM7Fqzbqfq4iI/tvWRP9t1t1WN6/73m14f028v7o50qlUVKXX3bapqYp+29REXa8esU1NVaxuzsT7q5ujaW1zJEnknleVTkV1Or3+z1SkN/qeb+tHYOPH8n9eNn5Z/nNT0frn2OTT5R1Y05zE+6vXxsrV2XNaFb1qqmKbmqqorkrl3jf7ftmXZuvacH+jOorwY57JJOu+hzLrvjeqq1JRU5WOHtXpSKdSkSRJJLH+F1Xrv5fW3V/3ZybvGzn/76n82lPr/w6NVLR4PBV535u578+ItZlMZDIR6XSs/35Krz9PrSvm33nF/tvTX8dAJUunUhXRHKikbMA6OujdyOrVq2PWrFlx3nnn5Y6l0+k46qij4pFHHin4mqampmhqasrdX7ZsWUSs+2Est+P/66F45a0V5S6jKI7bb8dYvnx5ucvoNqoiYu9BNbH3oJqIaPmPQSaTxDsrmmLb2urYpmbDX1ErV6+NJ197Lx6b9040rcmsC7Y9q6Kmal1n/p3G1fHOiqZoeH9tNDZlb2tiRVNzZJKI7OC4qnQqBm7bI/ptUxPLV62NtxtXx5rmTCxrili2LOLlzfh6XtncEwEAbJX2GNInfveVg8tdRi4T6NlWDgG9G3n77bejubk5tt9++xbHt99++3jhhRcKvmbq1Klx4YUXbnK8vr6+JDVurS6+POLichdBh80vdwEAwFZtYUTUtb/4tcssX7486urqyl0GIaBv8c4777yYNGlS7n4mk4l33303Bg4cWLbl2A0NDVFfXx8LFy60lKaLOffl4byXj3NfHs57eTjv5ePcl4fz/vdLkiSWL18ew4YNK3cprCegdyPbbbddVFVVxZtvvtni+JtvvhlDhgwp+Jra2tqora1tcaxfv36lKrFT+vbt6y/TMnHuy8N5Lx/nvjyc9/Jw3svHuS8P5/3vo3NeWdLlLoCOq6mpiQ9/+MMxc+bM3LFMJhMzZ86MMWPGlLEyAAAA/l466N3MpEmTYsKECbH//vvHgQceGJdffnmsWLEizjjjjHKXBgAAwN9BQO9mTj755Hjrrbfi/PPPj8WLF8eHPvShuOuuuzbZOK6S1dbWxpQpUzZZek/pOffl4byXj3NfHs57eTjv5ePcl4fzzpbIHHQAAACoAK5BBwAAgAogoAMAAEAFENABAACgAgjoAAAAUAEEdEriyiuvjJ122il69uwZBx10UDz++ONtPv/mm2+OPffcM3r27Bn77LNP3HHHHV1U6ZanM+f+qquuisMOOyz69+8f/fv3j6OOOqrd/1YU1tnv+awbbrghUqlUnHDCCaUtcAvV2fO+dOnSmDhxYgwdOjRqa2tjxIgR/r7ZTJ0995dffnnsscce0atXr6ivr49vfvObsWrVqi6qdsvw4IMPxrhx42LYsGGRSqXitttua/c1999/f+y3335RW1sbu+22W8yYMaPkdW5pOnveb7nlljj66KNj0KBB0bdv3xgzZkzcfffdXVPsFmZzvuez/vKXv0R1dXV86EMfKll9UAoCOkV34403xqRJk2LKlCnx1FNPxejRo+OYY46JJUuWFHz+ww8/HKecckqcddZZMXv27DjhhBPihBNOiOeee66LK+/+Onvu77///jjllFPivvvui0ceeSTq6+vjE5/4RLz++utdXHn31tnznjV//vyYPHlyHHbYYV1U6Zals+d99erVcfTRR8f8+fPjt7/9bcydOzeuuuqq2GGHHbq48u6vs+f+uuuui3PPPTemTJkSzz//fFx99dVx4403xre//e0urrx7W7FiRYwePTquvPLKDj3/1VdfjeOOOy6OPPLImDNnTnzjG9+IL3zhC8JiJ3X2vD/44INx9NFHxx133BGzZs2KI488MsaNGxezZ88ucaVbns6e+6ylS5fGaaedFh//+MdLVBmUUAJFduCBByYTJ07M3W9ubk6GDRuWTJ06teDzP/vZzybHHXdci2MHHXRQ8qUvfamkdW6JOnvuN7Z27dqkT58+yTXXXFOqErdIm3Pe165dmxx88MHJL3/5y2TChAnJ8ccf3wWVblk6e96nTZuW7LLLLsnq1au7qsQtVmfP/cSJE5OPfexjLY5NmjQpOeSQQ0pa55YsIpJbb721zef867/+azJy5MgWx04++eTkmGOOKWFlW7aOnPdCPvjBDyYXXnhh8QvainTm3J988snJv/3bvyVTpkxJRo8eXdK6oNh00Cmq1atXx6xZs+Koo47KHUun03HUUUfFI488UvA1jzzySIvnR0Qcc8wxrT6fwjbn3G9s5cqVsWbNmhgwYECpytzibO55/973vheDBw+Os846qyvK3OJsznn//e9/H2PGjImJEyfG9ttvH3vvvXdcfPHF0dzc3FVlbxE259wffPDBMWvWrNwy+Hnz5sUdd9wRxx57bJfUvLXy72tlyGQysXz5cv+2dpHp06fHvHnzYsqUKeUuBTZLdbkLYMvy9ttvR3Nzc2y//fYtjm+//fbxwgsvFHzN4sWLCz5/8eLFJatzS7Q5535j3/rWt2LYsGGb/A8drduc8/7QQw/F1VdfHXPmzOmCCrdMm3Pe582bF3/+859j/Pjxcccdd8TLL78cZ599dqxZs8b/yHXC5pz7z33uc/H222/HoYceGkmSxNq1a+PLX/6yJe4l1tq/rw0NDfH+++9Hr169ylTZ1uXHP/5xNDY2xmc/+9lyl7LFe+mll+Lcc8+N//3f/43qajGH7kkHHYiIiEsuuSRuuOGGuPXWW6Nnz57lLmeLtXz58jj11FPjqquuiu22267c5WxVMplMDB48OH7xi1/Ehz/84Tj55JPjO9/5TvzsZz8rd2lbvPvvvz8uvvji+OlPfxpPPfVU3HLLLfHHP/4xvv/975e7NCip6667Li688MK46aabYvDgweUuZ4vW3Nwcn/vc5+LCCy+MESNGlLsc2Gx+tURRbbfddlFVVRVvvvlmi+NvvvlmDBkypOBrhgwZ0qnnU9jmnPusH//4x3HJJZfEvffeG6NGjSplmVuczp73V155JebPnx/jxo3LHctkMhERUV1dHXPnzo1dd921tEVvATbn+33o0KHRo0ePqKqqyh3ba6+9YvHixbF69eqoqakpac1bis0599/97nfj1FNPjS984QsREbHPPvvEihUr4p//+Z/jO9/5TqTT+gWl0Nq/r3379tU97wI33HBDfOELX4ibb77ZyrQusHz58njyySdj9uzZ8dWvfjUi1v37miRJVFdXx5/+9Kf42Mc+VuYqoX3+RaSoampq4sMf/nDMnDkzdyyTycTMmTNjzJgxBV8zZsyYFs+PiLjnnntafT6Fbc65j4j493//9/j+978fd911V+y///5dUeoWpbPnfc8994xnn3025syZk7t9+tOfzu2yXF9f35Xld1ub8/1+yCGHxMsvv5z7hUhExIsvvhhDhw4Vzjthc879ypUrNwnh2V+UJElSumK3cv59LZ/rr78+zjjjjLj++uvjuOOOK3c5W4W+fftu8u/rl7/85dhjjz1izpw5cdBBB5W7ROiYMm9SxxbohhtuSGpra5MZM2Ykf/3rX5N//ud/Tvr165csXrw4SZIkOfXUU5Nzzz039/y//OUvSXV1dfLjH/84ef7555MpU6YkPXr0SJ599tlyfQndVmfP/SWXXJLU1NQkv/3tb5NFixblbsuXLy/Xl9Atdfa8b8wu7puns+d9wYIFSZ8+fZKvfvWrydy5c5Pbb789GTx4cPKDH/ygXF9Ct9XZcz9lypSkT58+yfXXX5/Mmzcv+dOf/pTsuuuuyWc/+9lyfQnd0vLly5PZs2cns2fPTiIiueyyy5LZs2cnr732WpIkSXLuuecmp556au758+bNS7bZZpvkX/7lX5Lnn38+ufLKK5OqqqrkrrvuKteX0C119rz/5je/Saqrq5Mrr7yyxb+tS5cuLdeX0G119txvzC7udEcCOiXxk5/8JBk+fHhSU1OTHHjggcmjjz6ae+zwww9PJkyY0OL5N910UzJixIikpqYmGTlyZPLHP/6xiyvecnTm3O+4445JRGxymzJlStcX3s119ns+n4C++Tp73h9++OHkoIMOSmpra5Nddtklueiii5K1a9d2cdVbhs6c+zVr1iQXXHBBsuuuuyY9e/ZM6uvrk7PPPjt57733ur7wbuy+++4r+Hd29lxPmDAhOfzwwzd5zYc+9KGkpqYm2WWXXZLp06d3ed3dXWfP++GHH97m8+m4zfmezyeg0x2lksTaMgAAACg316ADAABABRDQAQAAoAII6AAAAFABBHQAAACoAAI6AAAAVAABHQAAACqAgA4AAAAVQEAHgC5w+umnxwknnFDuMgqaMWNG9OvXr9xlALCRBx98MMaNGxfDhg2LVCoVt912W6ffI0mS+PGPfxwjRoyI2tra2GGHHeKiiy4qfrEUhYAOwFbriCOOiG984xslf00hlRTYTz755HjxxReL+p7z58+PVCoVc+bMaXH8ggsuiFQqFZ/85Cc3ec2PfvSjSKVSccQRRxS1FoDuasWKFTF69Oi48sorN/s9vv71r8cvf/nL+PGPfxwvvPBC/P73v48DDzywiFVSTNXlLgAAKJ81a9ZEr169olevXl32OYcOHRr33Xdf/O1vf4sPfOADueO/+tWvYvjw4V1WB0ClGzt2bIwdO7bVx5uamuI73/lOXH/99bF06dLYe++944c//GHuF53PP/98TJs2LZ577rnYY489IiJi55137orS2Uw66ABslU4//fR44IEH4oorrohUKhWpVCrmz58fDzzwQBx44IFRW1sbQ4cOjXPPPTfWrl3b5muam5vjrLPOip133jl69eoVe+yxR1xxxRWdqueII46Ic845J/71X/81BgwYEEOGDIkLLrgg9/jnPve5OPnkk1u8Zs2aNbHddtvFtddeGxERd911Vxx66KHRr1+/GDhwYHzqU5+KV155Jff8bFf7xhtvjMMPPzx69uwZv/nNbzZZ4v7KK6/E8ccfH9tvv3307t07DjjggLj33ntbfO6ddtopLr744jjzzDOjT58+MXz48PjFL36Rezz7P4D77rvvJl3xwYMHxyc+8Ym45pprcscefvjhePvtt+O4445r8XmeeOKJOProo2O77baLurq6OPzww+Opp57KPZ4kSVxwwQUxfPjwqK2tjWHDhsU555yTe/ynP/1p7L777tGzZ8/Yfvvt4x//8R/b+08B0G189atfjUceeSRuuOGGeOaZZ+Kkk06KT37yk/HSSy9FRMQf/vCH2GWXXeL222+PnXfeOXbaaaf4whe+EO+++26ZK6c1AjoAW6UrrrgixowZE1/84hdj0aJFsWjRoujRo0cce+yxccABB8TTTz8d06ZNi6uvvjp+8IMftPqa+vr6yGQy8YEPfCBuvvnm+Otf/xrnn39+fPvb346bbrqpUzVdc801se2228Zjjz0W//7v/x7f+9734p577omIiPHjx8cf/vCHaGxszD3/7rvvjpUrV8ZnPvOZiFi3FHLSpEnx5JNPxsyZMyOdTsdnPvOZyGQyLT7PueeeG1//+tfj+eefj2OOOWaTOhobG+PYY4+NmTNnxuzZs+OTn/xkjBs3LhYsWNDieZdeemnsv//+MXv27Dj77LPjK1/5SsydOzciIh5//PGIiLj33ntj0aJFccstt7R47ZlnnhkzZszI3f/Vr34V48ePj5qamhbPW758eUyYMCEeeuihePTRR2P33XePY489NpYvXx4REb/73e/iP/7jP+LnP/95vPTSS3HbbbfFPvvsExERTz75ZJxzzjnxve99L+bOnRt33XVXfPSjH+3YfwyACrdgwYKYPn163HzzzXHYYYfFrrvuGpMnT45DDz00pk+fHhER8+bNi9deey1uvvnmuPbaa2PGjBkxa9Ysv6ysZAkAbKUOP/zw5Otf/3ru/re//e1kjz32SDKZTO7YlVdemfTu3Ttpbm4u+JrWTJw4MfmHf/iH3P0JEyYkxx9/fKv3Dz/88OTQQw9t8R4HHHBA8q1vfStJkiRZs2ZNst122yXXXntt7vFTTjklOfnkk1ut4a233koiInn22WeTJEmSV199NYmI5PLLL2/xvOnTpyd1dXVtfj0jR45MfvKTn+Tu77jjjsnnP//53P1MJpMMHjw4mTZtWovPNXv27BbvM2XKlGT06NHJ6tWrk8GDBycPPPBA0tjYmPTp0yd5+umnk69//evJ4Ycf3modzc3NSZ8+fZI//OEPSZIkyaWXXpqMGDEiWb169SbP/d3vfpf07ds3aWhoaPNrA+gOIiK59dZbc/dvv/32JCKSbbfdtsWturo6+exnP5skSZJ88YtfTCIimTt3bu51s2bNSiIieeGFF7r6S6ADdNABYL3nn38+xowZE6lUKnfskEMOicbGxvjb3/7W5muvvPLK+PCHPxyDBg2K3r17xy9+8YtNOs7tGTVqVIv7Q4cOjSVLlkRERHV1dXz2s5+N3/zmNxGxrlv+P//zPzF+/Pjc81966aU45ZRTYpdddom+ffvGTjvtFBGxSR37779/m3U0NjbG5MmTY6+99op+/fpF79694/nnn9/kffLrTaVSMWTIkFy97enRo0d8/vOfz3V/RowYscnXHxHx5ptvxhe/+MXYfffdo66uLvr27RuNjY25Wk466aR4//33Y5dddokvfvGLceutt+YuSTj66KNjxx13jF122SVOPfXU+M1vfhMrV67sUH0Ala6xsTGqqqpi1qxZMWfOnNzt+eefz11mNXTo0Kiuro4RI0bkXrfXXntFxKb/NlAZBHQA+DvdcMMNMXny5DjrrLPiT3/6U8yZMyfOOOOMWL16dafep0ePHi3up1KpFsvTx48fHzNnzowlS5bEbbfdFr169WqxG/q4cePi3Xffjauuuioee+yxeOyxxyIiNqlj2223bbOOyZMnx6233hoXX3xx/O///m/MmTMn9tlnn03ep71623PmmWfGzTffHFdeeWWceeaZBZ8zYcKEmDNnTlxxxRXx8MMPx5w5c2LgwIG5Wurr62Pu3Lnx05/+NHr16hVnn312fPSjH401a9ZEnz594qmnnorrr78+hg4dGueff36MHj06li5d2uEaASrVvvvuG83NzbFkyZLYbbfdWtyGDBkSEet+ybx27doW+5Fkp3bsuOOOZambttnFHYCtVk1NTTQ3N+fu77XXXvG73/0ukiTJddH/8pe/RJ8+fXK7jW/8muxzDj744Dj77LNzx/L/Z6hYDj744Kivr48bb7wx7rzzzjjppJNyIfmdd96JuXPnxlVXXRWHHXZYREQ89NBDm/V5/vKXv8Tpp5+eu7a9sbEx5s+f36n3yF5LvvG5yjdy5MgYOXJkPPPMM/G5z32u1Vp++tOfxrHHHhsREQsXLoy33367xXN69eoV48aNi3HjxsXEiRNjzz33jGeffTb222+/qK6ujqOOOiqOOuqomDJlSvTr1y/+/Oc/x4knntiprwegHBobG+Pll1/O3X/11Vdjzpw5MWDAgBgxYkSMHz8+TjvttLj00ktj3333jbfeeitmzpwZo0aNiuOOOy6OOuqo2G+//eLMM8+Myy+/PDKZTEycODGOPvroFl11KoeADsBWa6eddorHHnss5s+fH717946zzz47Lr/88vja174WX/3qV2Pu3LkxZcqUmDRpUqTT6YKvGTBgQOy+++5x7bXXxt133x0777xz/Pd//3c88cQTJRll87nPfS5+9rOfxYsvvhj33Xdf7nj//v1j4MCB8Ytf/CKGDh0aCxYsiHPPPXezPsfuu+8et9xyS4wbNy5SqVR897vf7VRnPGLdTu29evWKu+66Kz7wgQ9Ez549o66ubpPn/fnPf441a9a02EV+41r++7//O/bff/9oaGiIf/mXf2kxEm7GjBnR3NwcBx10UGyzzTbx61//Onr16hU77rhj3H777TFv3rz46Ec/Gv3794877rgjMplMbtQQQKV78skn48gjj8zdnzRpUkSsW100Y8aMmD59evzgBz+I//f//l+8/vrrsd1228VHPvKR+NSnPhUREel0Ov7whz/E1772tfjoRz8a2267bYwdOzYuvfTSsnw9tM8SdwC2WpMnT46qqqr44Ac/GIMGDYo1a9bEHXfcEY8//niMHj06vvzlL8dZZ50V//Zv/9bqaxYsWBBf+tKX4sQTT4yTTz45DjrooHjnnXdadNOLafz48fHXv/41dthhhzjkkENyx9PpdNxwww0xa9as2HvvveOb3/xm/OhHP9qsz3HZZZdF//794+CDD45x48bFMcccE/vtt1+n3qO6ujr+8z//M37+85/HsGHD4vjjjy/4vG233bbVcB4RcfXVV8d7770X++23X5x66qlxzjnnxODBg3OP9+vXL6666qo45JBDYtSoUXHvvffGH/7whxg4cGD069cvbrnllvjYxz4We+21V/zsZz+L66+/PkaOHNmprwWgXI444ohIkmSTW3YKRo8ePeLCCy+MV199NVavXh1vvPFG3HLLLblpFhERw4YNi9/97nexfPnyWLx4cUyfPj0GDBhQpq+I9qSSJEnKXQQAAABs7XTQAQAAoAII6AAAAFABBHQAAACoAAI6AAAAVAABHQAAACqAgA4AAAAVQEAHAACACiCgAwAAQAUQ0AEAAKACCOgAAABQAQR0AAAAqAACOgAAAFQAAR0AAAAqgIAOAAAAFUBABwAAgAogoAMAAEAFENABAACgAgjoAAAAUAEEdAAAAKgAAjoAAABUAAEdAAAAKoCADgAAABVAQAcAAIAKIKADAABABRDQAQAAoAL8f/TyYO98nm9zAAAAAElFTkSuQmCC' width=1000.0/>\n",
       "            </div>\n",
       "        "
      ],
      "text/plain": [
       "Canvas(toolbar=Toolbar(toolitems=[('Home', 'Reset original view', 'home', 'home'), ('Back', 'Back to previous …"
      ]
     },
     "metadata": {},
     "output_type": "display_data"
    }
   ],
   "source": [
    "import seaborn as sn\n",
    "import matplotlib.pyplot as plt\n",
    "%matplotlib widget\n",
    "plt.clf()\n",
    "sn.kdeplot(filtered_df[filtered_df.isHiggs==1].totalInvariantMass, bw_adjust=.25)\n",
    "# plt.xlim(100000, 150000)\n",
    "plt.show()"
   ]
  },
  {
   "cell_type": "code",
   "execution_count": 75,
   "metadata": {},
   "outputs": [],
   "source": [
    "higgs_suspected = filtered_df[filtered_df.isHiggs==0].totalInvariantMass"
   ]
  },
  {
   "cell_type": "code",
   "execution_count": 77,
   "metadata": {},
   "outputs": [
    {
     "data": {
      "application/vnd.jupyter.widget-view+json": {
       "model_id": "f4e8b204b62e422c93e0986f9f055548",
       "version_major": 2,
       "version_minor": 0
      },
      "image/png": "[encoded data removed]",
      "text/html": [
       "\n",
       "            <div style=\"display: inline-block;\">\n",
       "                <div class=\"jupyter-widgets widget-label\" style=\"text-align: center;\">\n",
       "                    Figure 11\n",
       "                </div>\n",
       "                <img src='data:image/png;base64,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' width=500.0/>\n",
       "            </div>\n",
       "        "
      ],
      "text/plain": [
       "Canvas(toolbar=Toolbar(toolitems=[('Home', 'Reset original view', 'home', 'home'), ('Back', 'Back to previous …"
      ]
     },
     "metadata": {},
     "output_type": "display_data"
    }
   ],
   "source": [
    "plt.clf()\n",
    "sn.histplot(higgs_suspected, kde=True)\n",
    "plt.show()"
   ]
  },
  {
   "cell_type": "code",
   "execution_count": 102,
   "metadata": {},
   "outputs": [
    {
     "ename": "NameError",
     "evalue": "name 'test_df' is not defined",
     "output_type": "error",
     "traceback": [
      "\u001b[1;31m---------------------------------------------------------------------------\u001b[0m",
      "\u001b[1;31mNameError\u001b[0m                                 Traceback (most recent call last)",
      "Cell \u001b[1;32mIn[102], line 6\u001b[0m\n\u001b[0;32m      3\u001b[0m \u001b[38;5;28;01mimport\u001b[39;00m \u001b[38;5;21;01mmatplotlib\u001b[39;00m\u001b[38;5;21;01m.\u001b[39;00m\u001b[38;5;21;01mpyplot\u001b[39;00m \u001b[38;5;28;01mas\u001b[39;00m \u001b[38;5;21;01mplt\u001b[39;00m\n\u001b[0;32m      5\u001b[0m \u001b[38;5;66;03m# Assuming you have a list or array of masses in MeV\u001b[39;00m\n\u001b[1;32m----> 6\u001b[0m masses \u001b[38;5;241m=\u001b[39m \u001b[43mtest_df\u001b[49m\u001b[38;5;241m.\u001b[39mtotalInvariantMass\n\u001b[0;32m      7\u001b[0m \u001b[38;5;66;03m# Define the energy threshold\u001b[39;00m\n\u001b[0;32m      8\u001b[0m energy_threshold \u001b[38;5;241m=\u001b[39m \u001b[38;5;241m90000\u001b[39m  \u001b[38;5;66;03m# 80 GeV in MeV\u001b[39;00m\n",
      "\u001b[1;31mNameError\u001b[0m: name 'test_df' is not defined"
     ]
    }
   ],
   "source": [
    "import numpy as np\n",
    "from scipy.stats import expon, poisson, norm\n",
    "import matplotlib.pyplot as plt\n",
    "\n",
    "# Assuming you have a list or array of masses in MeV\n",
    "masses = filtered_df[filtered_df.isHiggs==0 | (filtered_df.index % 100 == 1000)].totalInvariantMass # Replace with your actual list of masses\n",
    "\n",
    "# Define the energy threshold\n",
    "energy_threshold = 90000  # 80 GeV in MeV\n",
    "\n",
    "# Step 1: Exclude data below the energy threshold\n",
    "filtered_masses = [m for m in masses if m >= energy_threshold]\n",
    "\n",
    "# Step 2: Fit an exponential background model to the data above the threshold\n",
    "params = expon.fit(filtered_masses)\n",
    "\n",
    "# Step 3: Calculate the expected background in the Higgs mass window (100,000 - 150,000 MeV)\n",
    "mass_lower_bound = 100000  # 100 GeV in MeV\n",
    "mass_upper_bound = 150000  # 150 GeV in MeV\n",
    "\n",
    "# Calculate the expected number of background events in the Higgs mass window\n",
    "expected_background_counts = expon.cdf(mass_upper_bound, *params) - expon.cdf(mass_lower_bound, *params)\n",
    "expected_background_counts *= len(filtered_masses)\n",
    "\n",
    "# Count the number of observed events in the Higgs mass window\n",
    "observed_higgs_counts = np.sum((np.array(filtered_masses) >= mass_lower_bound) & (np.array(filtered_masses) <= mass_upper_bound))\n",
    "\n",
    "print(f\"Observed number of events in Higgs mass window: {observed_higgs_counts}\")\n",
    "print(f\"Expected number of background events in Higgs mass window: {expected_background_counts}\")\n",
    "\n",
    "# Step 4: Perform a hypothesis test\n",
    "# Assuming the number of events follows a Poisson distribution\n",
    "p_value = poisson.sf(observed_higgs_counts - 1, expected_background_counts)\n",
    "\n",
    "# Step 5: Calculate the significance (sigma)\n",
    "sigma = norm.isf(p_value)\n",
    "\n",
    "print(f\"P-value: {p_value}\")\n",
    "print(f\"Significance (in sigma): {sigma}\")\n",
    "plt.clf()\n",
    "# Step 6: Plot the histogram with the fitted background model\n",
    "plt.figure(figsize=(10, 6))\n",
    "plt.hist(filtered_masses, bins=500, density=True, alpha=0.6, label='Observed Data')\n",
    "x = np.linspace(min(filtered_masses), max(filtered_masses), 1000)\n",
    "plt.plot(x, expon.pdf(x, *params), 'r-', lw=2, label='Fitted Background (Exponential)')\n",
    "plt.axvspan(mass_lower_bound, mass_upper_bound, color='yellow', alpha=0.3, label='Higgs Mass Window')\n",
    "plt.xlabel('Invariant Mass (MeV)')\n",
    "plt.ylabel('Density')\n",
    "plt.title('Background Hypothesis Fit and Higgs Mass Window')\n",
    "plt.legend()\n",
    "plt.show()\n"
   ]
  },
  {
   "cell_type": "code",
   "execution_count": 99,
   "metadata": {},
   "outputs": [
    {
     "name": "stdout",
     "output_type": "stream",
     "text": [
      "Fitted parameters: alpha = 0.0016882600298805798, beta = 862.9940193391002\n"
     ]
    },
    {
     "name": "stderr",
     "output_type": "stream",
     "text": [
      "C:\\Users\\phgil\\AppData\\Local\\Temp\\ipykernel_2308\\2021919919.py:17: RuntimeWarning: overflow encountered in exp\n",
      "  return -np.exp(-np.exp(alpha * x + beta))\n",
      "C:\\Users\\phgil\\AppData\\Local\\Temp\\ipykernel_2308\\2021919919.py:21: OptimizeWarning: Covariance of the parameters could not be estimated\n",
      "  params, covariance = curve_fit(double_exponential_neg_exp_exp, filtered_masses, np.ones_like(filtered_masses), p0=initial_guess)\n"
     ]
    },
    {
     "ename": "ZeroDivisionError",
     "evalue": "float division by zero",
     "output_type": "error",
     "traceback": [
      "\u001b[1;31m---------------------------------------------------------------------------\u001b[0m",
      "\u001b[1;31mZeroDivisionError\u001b[0m                         Traceback (most recent call last)",
      "Cell \u001b[1;32mIn[99], line 39\u001b[0m\n\u001b[0;32m     37\u001b[0m \u001b[38;5;66;03m# Integrate the double-exponential over the Higgs mass window\u001b[39;00m\n\u001b[0;32m     38\u001b[0m expected_background_counts, _ \u001b[38;5;241m=\u001b[39m quad(double_exponential_integral, mass_lower_bound, mass_upper_bound)\n\u001b[1;32m---> 39\u001b[0m expected_background_counts \u001b[38;5;241m*\u001b[39m\u001b[38;5;241m=\u001b[39m \u001b[38;5;28;43mlen\u001b[39;49m\u001b[43m(\u001b[49m\u001b[43mfiltered_masses\u001b[49m\u001b[43m)\u001b[49m\u001b[43m \u001b[49m\u001b[38;5;241;43m/\u001b[39;49m\u001b[43m \u001b[49m\u001b[43mquad\u001b[49m\u001b[43m(\u001b[49m\u001b[43mdouble_exponential_integral\u001b[49m\u001b[43m,\u001b[49m\u001b[43m \u001b[49m\u001b[43menergy_threshold\u001b[49m\u001b[43m,\u001b[49m\u001b[43m \u001b[49m\u001b[43mnp\u001b[49m\u001b[38;5;241;43m.\u001b[39;49m\u001b[43mmax\u001b[49m\u001b[43m(\u001b[49m\u001b[43mfiltered_masses\u001b[49m\u001b[43m)\u001b[49m\u001b[43m)\u001b[49m\u001b[43m[\u001b[49m\u001b[38;5;241;43m0\u001b[39;49m\u001b[43m]\u001b[49m\n\u001b[0;32m     41\u001b[0m \u001b[38;5;66;03m# Count the number of observed events in the Higgs mass window\u001b[39;00m\n\u001b[0;32m     42\u001b[0m observed_higgs_counts \u001b[38;5;241m=\u001b[39m np\u001b[38;5;241m.\u001b[39msum((filtered_masses \u001b[38;5;241m>\u001b[39m\u001b[38;5;241m=\u001b[39m mass_lower_bound) \u001b[38;5;241m&\u001b[39m (filtered_masses \u001b[38;5;241m<\u001b[39m\u001b[38;5;241m=\u001b[39m mass_upper_bound))\n",
      "\u001b[1;31mZeroDivisionError\u001b[0m: float division by zero"
     ]
    }
   ],
   "source": [
    "import numpy as np\n",
    "from scipy.optimize import curve_fit\n",
    "from scipy.stats import poisson, norm\n",
    "import matplotlib.pyplot as plt\n",
    "\n",
    "# Assuming you have a list or array of masses in MeV\n",
    "masses = filtered_df[filtered_df.isHiggs==0 | (filtered_df.index % 100 == 1000)].totalInvariantMass  # Replace with your actual list of masses\n",
    "\n",
    "# Define the energy threshold\n",
    "energy_threshold = 80000  # 80 GeV in MeV\n",
    "\n",
    "# Step 1: Exclude data below the energy threshold\n",
    "filtered_masses = np.array([m for m in masses if m >= energy_threshold])\n",
    "\n",
    "# Step 2: Define the double-exponential model\n",
    "def double_exponential_neg_exp_exp(x, alpha, beta):\n",
    "    return -np.exp(-np.exp(alpha * x + beta))\n",
    "\n",
    "# Step 3: Fit the double-exponential model to the data\n",
    "initial_guess = [1e-6, -10]  # Initial guesses for alpha and beta\n",
    "params, covariance = curve_fit(double_exponential_neg_exp_exp, filtered_masses, np.ones_like(filtered_masses), p0=initial_guess)\n",
    "\n",
    "# Print fitted parameters for debugging\n",
    "alpha, beta = params\n",
    "print(f\"Fitted parameters: alpha = {alpha}, beta = {beta}\")\n",
    "\n",
    "# Step 4: Calculate the expected background in the Higgs mass window (100,000 - 150,000 MeV)\n",
    "mass_lower_bound = 100000  # 100 GeV in MeV\n",
    "mass_upper_bound = 150000  # 150 GeV in MeV\n",
    "\n",
    "# Use numerical integration to calculate expected background counts\n",
    "from scipy.integrate import quad\n",
    "\n",
    "def double_exponential_integral(x):\n",
    "    return -double_exponential_neg_exp_exp(x, alpha, beta)\n",
    "\n",
    "# Integrate the double-exponential over the Higgs mass window\n",
    "expected_background_counts, _ = quad(double_exponential_integral, mass_lower_bound, mass_upper_bound)\n",
    "expected_background_counts *= len(filtered_masses) / quad(double_exponential_integral, energy_threshold, np.max(filtered_masses))[0]\n",
    "\n",
    "# Count the number of observed events in the Higgs mass window\n",
    "observed_higgs_counts = np.sum((filtered_masses >= mass_lower_bound) & (filtered_masses <= mass_upper_bound))\n",
    "\n",
    "print(f\"Observed number of events in Higgs mass window: {observed_higgs_counts}\")\n",
    "print(f\"Expected number of background events in Higgs mass window: {expected_background_counts}\")\n",
    "\n",
    "# Step 5: Perform a hypothesis test\n",
    "# Assuming the number of events follows a Poisson distribution\n",
    "p_value = poisson.sf(observed_higgs_counts - 1, expected_background_counts)\n",
    "\n",
    "# Step 6: Calculate the significance (sigma)\n",
    "sigma = norm.isf(p_value)\n",
    "\n",
    "print(f\"P-value: {p_value}\")\n",
    "print(f\"Significance (in sigma): {sigma}\")\n",
    "\n",
    "# Step 7: Plot the histogram with the fitted double-exponential model\n",
    "plt.figure(figsize=(10, 6))\n",
    "plt.hist(filtered_masses, bins=50, density=True, alpha=0.6, label='Observed Data')\n",
    "x = np.linspace(min(filtered_masses), max(filtered_masses), 1000)\n",
    "plt.plot(x, double_exponential_neg_exp_exp(x, *params), 'r-', lw=2, label='Fitted Background (Double Exponential)')\n",
    "plt.axvspan(mass_lower_bound, mass_upper_bound, color='yellow', alpha=0.3, label='Higgs Mass Window')\n",
    "plt.xlabel('Invariant Mass (MeV)')\n",
    "plt.ylabel('Density')\n",
    "plt.title('Background Hypothesis Fit and Higgs Mass Window')\n",
    "plt.legend()\n",
    "plt.show()\n"
   ]
  },
  {
   "cell_type": "code",
   "execution_count": null,
   "metadata": {},
   "outputs": [],
   "source": []
  }
 ],
 "metadata": {
  "kernelspec": {
   "display_name": "Python 3",
   "language": "python",
   "name": "python3"
  },
  "language_info": {
   "codemirror_mode": {
    "name": "ipython",
    "version": 3
   },
   "file_extension": ".py",
   "mimetype": "text/x-python",
   "name": "python",
   "nbconvert_exporter": "python",
   "pygments_lexer": "ipython3",
   "version": "3.12.5"
  }
 },
 "nbformat": 4,
 "nbformat_minor": 2
}
