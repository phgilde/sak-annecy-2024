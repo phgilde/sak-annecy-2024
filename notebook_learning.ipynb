{
 "cells": [
  {
   "cell_type": "code",
   "execution_count": 1,
   "metadata": {},
   "outputs": [
    {
     "name": "stdout",
     "output_type": "stream",
     "text": [
      "Loading MC data...\n",
      "Found 5 ROOT files in the directory 'usb/GamGam/MC/'.\n"
     ]
    },
    {
     "name": "stderr",
     "output_type": "stream",
     "text": [
      "Loading ROOT files:   0%|          | 0/5 [00:00<?, ?file/s]"
     ]
    },
    {
     "name": "stdout",
     "output_type": "stream",
     "text": [
      "\n",
      "Processing file: mc_341081.ttH125_gamgam.GamGam.root\n",
      "  Number of entries in the tree: 576491\n",
      "  Sampling the first 115298 entries.\n"
     ]
    },
    {
     "name": "stderr",
     "output_type": "stream",
     "text": [
      "Loading ROOT files:  20%|██        | 1/5 [00:01<00:05,  1.30s/file]"
     ]
    },
    {
     "name": "stdout",
     "output_type": "stream",
     "text": [
      "  Time taken to extract data: 1.28 seconds.\n",
      "  Time taken to process file: 1.30 seconds.\n",
      "\n",
      "Processing file: mc_343981.ggH125_gamgam.GamGam.root\n",
      "  Number of entries in the tree: 1054711\n",
      "  Sampling the first 210942 entries.\n"
     ]
    },
    {
     "name": "stderr",
     "output_type": "stream",
     "text": [
      "Loading ROOT files:  40%|████      | 2/5 [00:02<00:04,  1.51s/file]"
     ]
    },
    {
     "name": "stdout",
     "output_type": "stream",
     "text": [
      "  Time taken to extract data: 1.65 seconds.\n",
      "  Time taken to process file: 1.66 seconds.\n",
      "\n",
      "Processing file: mc_345041.VBFH125_gamgam.GamGam.root\n",
      "  Number of entries in the tree: 497468\n",
      "  Sampling the first 99493 entries.\n"
     ]
    },
    {
     "name": "stderr",
     "output_type": "stream",
     "text": [
      "Loading ROOT files:  60%|██████    | 3/5 [00:03<00:02,  1.21s/file]"
     ]
    },
    {
     "name": "stdout",
     "output_type": "stream",
     "text": [
      "  Time taken to extract data: 0.82 seconds.\n",
      "  Time taken to process file: 0.84 seconds.\n",
      "\n",
      "Processing file: mc_345318.WpH125J_Wincl_gamgam.GamGam.root\n",
      "  Number of entries in the tree: 113765\n",
      "  Sampling the first 22753 entries.\n"
     ]
    },
    {
     "name": "stderr",
     "output_type": "stream",
     "text": [
      "Loading ROOT files:  80%|████████  | 4/5 [00:04<00:00,  1.01file/s]"
     ]
    },
    {
     "name": "stdout",
     "output_type": "stream",
     "text": [
      "  Time taken to extract data: 0.58 seconds.\n",
      "  Time taken to process file: 0.66 seconds.\n",
      "\n",
      "Processing file: mc_345319.ZH125J_Zincl_gamgam.GamGam.root\n",
      "  Number of entries in the tree: 230900\n",
      "  Sampling the first 46180 entries.\n"
     ]
    },
    {
     "name": "stderr",
     "output_type": "stream",
     "text": [
      "Loading ROOT files: 100%|██████████| 5/5 [00:05<00:00,  1.02s/file]"
     ]
    },
    {
     "name": "stdout",
     "output_type": "stream",
     "text": [
      "  Time taken to extract data: 0.64 seconds.\n",
      "  Time taken to process file: 0.66 seconds.\n",
      "\n",
      "Concatenating all DataFrames...\n"
     ]
    },
    {
     "name": "stderr",
     "output_type": "stream",
     "text": [
      "\n"
     ]
    },
    {
     "name": "stdout",
     "output_type": "stream",
     "text": [
      "Time taken to concatenate all DataFrames: 431.81 seconds.\n",
      "Loading Data...\n",
      "Found 3 ROOT files in the directory 'usb/GamGam/Data/'.\n"
     ]
    },
    {
     "name": "stderr",
     "output_type": "stream",
     "text": [
      "Loading ROOT files:   0%|          | 0/3 [00:00<?, ?file/s]"
     ]
    },
    {
     "name": "stdout",
     "output_type": "stream",
     "text": [
      "\n",
      "Processing file: data_A.GamGam.root\n",
      "  Number of entries in the tree: 430344\n",
      "  Sampling the first 86068 entries.\n"
     ]
    },
    {
     "name": "stderr",
     "output_type": "stream",
     "text": [
      "Loading ROOT files:  33%|███▎      | 1/3 [00:00<00:01,  1.27file/s]"
     ]
    },
    {
     "name": "stdout",
     "output_type": "stream",
     "text": [
      "  Time taken to extract data: 0.77 seconds.\n",
      "  Time taken to process file: 0.79 seconds.\n",
      "\n",
      "Processing file: data_B.GamGam.root\n",
      "  Number of entries in the tree: 1528717\n",
      "  Sampling the first 305743 entries.\n"
     ]
    },
    {
     "name": "stderr",
     "output_type": "stream",
     "text": [
      "Loading ROOT files:  67%|██████▋   | 2/3 [00:03<00:01,  1.67s/file]"
     ]
    },
    {
     "name": "stdout",
     "output_type": "stream",
     "text": [
      "  Time taken to extract data: 2.27 seconds.\n",
      "  Time taken to process file: 2.28 seconds.\n",
      "\n",
      "Processing file: data_C.GamGam.root\n",
      "  Number of entries in the tree: 2237187\n",
      "  Sampling the first 447437 entries.\n"
     ]
    },
    {
     "name": "stderr",
     "output_type": "stream",
     "text": [
      "Loading ROOT files: 100%|██████████| 3/3 [00:05<00:00,  1.84s/file]"
     ]
    },
    {
     "name": "stdout",
     "output_type": "stream",
     "text": [
      "  Time taken to extract data: 2.42 seconds.\n",
      "  Time taken to process file: 2.45 seconds.\n",
      "\n",
      "Concatenating all DataFrames...\n"
     ]
    },
    {
     "name": "stderr",
     "output_type": "stream",
     "text": [
      "\n"
     ]
    },
    {
     "name": "stdout",
     "output_type": "stream",
     "text": [
      "Time taken to concatenate all DataFrames: 683.60 seconds.\n",
      "MC DataFrame head:\n",
      "   runNumber  eventNumber  channelNumber  mcWeight  scaleFactor_PILEUP  \\\n",
      "0     284500       674070         341081      -1.0            0.696077   \n",
      "1     284500       674033         341081      -1.0            0.696077   \n",
      "2     284500       674129         341081      -1.0            0.696077   \n",
      "3     284500       674306         341081       1.0            0.750880   \n",
      "4     284500       674312         341081       1.0            0.750880   \n",
      "\n",
      "   scaleFactor_ELE  scaleFactor_MUON  scaleFactor_PHOTON  scaleFactor_TAU  \\\n",
      "0          1.00000          0.995968            1.005772              1.0   \n",
      "1          1.00000          0.995324            1.001342              1.0   \n",
      "2          1.00000          1.000000            1.007652              1.0   \n",
      "3          0.94772          1.000000            1.014442              1.0   \n",
      "4          1.00000          0.999456            1.018067              1.0   \n",
      "\n",
      "   scaleFactor_BTAG  ...  largeRjet_pt  largeRjet_eta  largeRjet_phi  \\\n",
      "0          1.076109  ...            []             []             []   \n",
      "1          0.934331  ...            []             []             []   \n",
      "2          1.066152  ...            []             []             []   \n",
      "3          0.933773  ...            []             []             []   \n",
      "4          0.995078  ...            []             []             []   \n",
      "\n",
      "   largeRjet_E  largeRjet_m  largeRjet_truthMatched  largeRjet_D2  \\\n",
      "0           []           []                      []            []   \n",
      "1           []           []                      []            []   \n",
      "2           []           []                      []            []   \n",
      "3           []           []                      []            []   \n",
      "4           []           []                      []            []   \n",
      "\n",
      "   largeRjet_tau32  largeRjet_pt_syst  tau_charge  \n",
      "0               []                 []          []  \n",
      "1               []                 []          []  \n",
      "2               []                 []          []  \n",
      "3               []                 []          []  \n",
      "4               []                 []          []  \n",
      "\n",
      "[5 rows x 81 columns]\n",
      "Data DataFrame head:\n",
      "   runNumber  eventNumber  channelNumber  mcWeight  scaleFactor_PILEUP  \\\n",
      "0     297730      1540777         297730       0.0                 0.0   \n",
      "1     297730      1713779         297730       0.0                 0.0   \n",
      "2     297730      1761929         297730       0.0                 0.0   \n",
      "3     297730      1765304         297730       0.0                 0.0   \n",
      "4     297730      1651552         297730       0.0                 0.0   \n",
      "\n",
      "   scaleFactor_ELE  scaleFactor_MUON  scaleFactor_PHOTON  scaleFactor_TAU  \\\n",
      "0              0.0               0.0                 0.0              0.0   \n",
      "1              0.0               0.0                 0.0              0.0   \n",
      "2              0.0               0.0                 0.0              0.0   \n",
      "3              0.0               0.0                 0.0              0.0   \n",
      "4              0.0               0.0                 0.0              0.0   \n",
      "\n",
      "   scaleFactor_BTAG  ...  largeRjet_pt  largeRjet_eta  largeRjet_phi  \\\n",
      "0               0.0  ...            []             []             []   \n",
      "1               0.0  ...            []             []             []   \n",
      "2               0.0  ...            []             []             []   \n",
      "3               0.0  ...            []             []             []   \n",
      "4               0.0  ...            []             []             []   \n",
      "\n",
      "   largeRjet_E  largeRjet_m  largeRjet_truthMatched  largeRjet_D2  \\\n",
      "0           []           []                      []            []   \n",
      "1           []           []                      []            []   \n",
      "2           []           []                      []            []   \n",
      "3           []           []                      []            []   \n",
      "4           []           []                      []            []   \n",
      "\n",
      "   largeRjet_tau32  largeRjet_pt_syst  tau_charge  \n",
      "0               []                 []          []  \n",
      "1               []                 []          []  \n",
      "2               []                 []          []  \n",
      "3               []                 []          []  \n",
      "4               []                 []          []  \n",
      "\n",
      "[5 rows x 81 columns]\n"
     ]
    }
   ],
   "source": [
    "\n",
    "import uproot\n",
    "import pandas as pd\n",
    "import os\n",
    "import time\n",
    "from tqdm import tqdm\n",
    "\n",
    "def load_root_files_to_df(directory, tree_name=\"mini\", fraction=0.2):\n",
    "    \"\"\"\n",
    "    Load a fraction of the first events from all ROOT files in the given directory into a Pandas DataFrame.\n",
    "\n",
    "    :param directory: Directory containing the ROOT files.\n",
    "    :param tree_name: Name of the ROOT tree to extract data from.\n",
    "    :param fraction: Fraction of the data to load (default is 0.01 for 1%).\n",
    "    :return: A Pandas DataFrame containing the data from the ROOT files.\n",
    "    \"\"\"\n",
    "    dfs = []\n",
    "    root_files = [f for f in os.listdir(directory) if f.endswith(\".root\")]\n",
    "    \n",
    "    print(f\"Found {len(root_files)} ROOT files in the directory '{directory}'.\")\n",
    "    \n",
    "    for filename in tqdm(root_files, desc=\"Loading ROOT files\", unit=\"file\"):\n",
    "        filepath = os.path.join(directory, filename)\n",
    "        print(f\"\\nProcessing file: {filename}\")\n",
    "        \n",
    "        start_time = time.time()\n",
    "        with uproot.open(filepath) as file:\n",
    "            tree = file[tree_name]\n",
    "            num_entries = tree.num_entries\n",
    "            print(f\"  Number of entries in the tree: {num_entries}\")\n",
    "            \n",
    "            num_to_sample = int(num_entries * fraction)\n",
    "            print(f\"  Sampling the first {num_to_sample} entries.\")\n",
    "            \n",
    "            # Timing the data extraction\n",
    "            extract_start_time = time.time()\n",
    "            df = tree.arrays(library=\"pd\", entry_stop=num_to_sample)\n",
    "            extract_end_time = time.time()\n",
    "            print(f\"  Time taken to extract data: {extract_end_time - extract_start_time:.2f} seconds.\")\n",
    "            \n",
    "            dfs.append(df)\n",
    "        \n",
    "        end_time = time.time()\n",
    "        print(f\"  Time taken to process file: {end_time - start_time:.2f} seconds.\")\n",
    "    \n",
    "    print(\"\\nConcatenating all DataFrames...\")\n",
    "    concat_start_time = time.time()\n",
    "    combined_df = pd.concat(dfs, ignore_index=True)\n",
    "    concat_end_time = time.time()\n",
    "    print(f\"Time taken to concatenate all DataFrames: {concat_end_time - concat_start_time:.2f} seconds.\")\n",
    "    \n",
    "    return combined_df\n",
    "\n",
    "# Directories containing the ROOT files\n",
    "mc_directory = \"usb/GamGam/MC/\"\n",
    "data_directory = \"usb/GamGam/Data/\"\n",
    "\n",
    "# Load 1% of the data into separate DataFrames with progress bars\n",
    "print(\"Loading MC data...\")\n",
    "mc_df = load_root_files_to_df(mc_directory)\n",
    "print(\"Loading Data...\")\n",
    "data_df = load_root_files_to_df(data_directory)\n",
    "\n",
    "# Check the loaded data\n",
    "print(\"MC DataFrame head:\")\n",
    "print(mc_df.head())\n",
    "\n",
    "print(\"Data DataFrame head:\")\n",
    "print(data_df.head())\n"
   ]
  },
  {
   "cell_type": "code",
   "execution_count": 2,
   "metadata": {},
   "outputs": [
    {
     "name": "stdout",
     "output_type": "stream",
     "text": [
      "Adding 'isHiggs' column to MC DataFrame...\n",
      "Time taken to add 'isHiggs' column to MC DataFrame: 0.01 seconds\n",
      "Adding 'isHiggs' column to Data DataFrame...\n",
      "Time taken to add 'isHiggs' column to Data DataFrame: 0.00 seconds\n",
      "Concatenating MC and Data DataFrames...\n",
      "Total of 1333914 entries\n",
      "Time taken to concatenate DataFrames: 930.81 seconds\n",
      "Calculating the number of Higgs and non-Higgs events...\n",
      "Number of Higgs events: 494666\n",
      "Number of non-Higgs events: 839248\n",
      "Time taken to calculate event counts: 0.00 seconds\n",
      "Shuffling the balanced DataFrame...\n",
      "Time taken to shuffle the balanced DataFrame: 2.76 seconds\n",
      "Balanced DataFrame head:\n",
      "   runNumber  eventNumber  channelNumber   mcWeight  scaleFactor_PILEUP  \\\n",
      "0     284500      4246580         343981  28.485731            0.696077   \n",
      "1     301932    242211722         301932   0.000000            0.000000   \n",
      "2     284500        56490         345041   3.749917            1.214122   \n",
      "3     301932   -163493589         301932   0.000000            0.000000   \n",
      "4     284500      3977190         343981  28.485731            0.750880   \n",
      "\n",
      "   scaleFactor_ELE  scaleFactor_MUON  scaleFactor_PHOTON  scaleFactor_TAU  \\\n",
      "0              1.0               1.0            0.995786              1.0   \n",
      "1              0.0               0.0            0.000000              0.0   \n",
      "2              1.0               1.0            1.005498              1.0   \n",
      "3              0.0               0.0            0.000000              0.0   \n",
      "4              1.0               1.0            1.002282              1.0   \n",
      "\n",
      "   scaleFactor_BTAG  ...  largeRjet_eta  largeRjet_phi  largeRjet_E  \\\n",
      "0          0.998468  ...             []             []           []   \n",
      "1          0.000000  ...             []             []           []   \n",
      "2          0.998150  ...             []             []           []   \n",
      "3          0.000000  ...             []             []           []   \n",
      "4          1.012842  ...             []             []           []   \n",
      "\n",
      "   largeRjet_m  largeRjet_truthMatched  largeRjet_D2  largeRjet_tau32  \\\n",
      "0           []                      []            []               []   \n",
      "1           []                      []            []               []   \n",
      "2           []                      []            []               []   \n",
      "3           []                      []            []               []   \n",
      "4           []                      []            []               []   \n",
      "\n",
      "   largeRjet_pt_syst  tau_charge  isHiggs  \n",
      "0                 []          []        1  \n",
      "1                 []          []        0  \n",
      "2                 []          []        1  \n",
      "3                 []          []        0  \n",
      "4                 []          []        1  \n",
      "\n",
      "[5 rows x 82 columns]\n",
      "Class distribution in the balanced DataFrame:\n",
      "isHiggs\n",
      "0    839248\n",
      "1    494666\n",
      "Name: count, dtype: int64\n",
      "\n",
      "Total number of events in the balanced DataFrame: 1333914\n"
     ]
    }
   ],
   "source": [
    "import pandas as pd\n",
    "import time\n",
    "\n",
    "# Assuming mc_df and data_df have already been loaded as per the previous code\n",
    "\n",
    "# Add a new column 'isHiggs' to the MC DataFrame and set it to 1\n",
    "print(\"Adding 'isHiggs' column to MC DataFrame...\")\n",
    "start_time = time.time()\n",
    "mc_df['isHiggs'] = 1\n",
    "end_time = time.time()\n",
    "print(f\"Time taken to add 'isHiggs' column to MC DataFrame: {end_time - start_time:.2f} seconds\")\n",
    "\n",
    "# Add a new column 'isHiggs' to the Data DataFrame and set it to 0\n",
    "print(\"Adding 'isHiggs' column to Data DataFrame...\")\n",
    "start_time = time.time()\n",
    "data_df['isHiggs'] = 0\n",
    "end_time = time.time()\n",
    "print(f\"Time taken to add 'isHiggs' column to Data DataFrame: {end_time - start_time:.2f} seconds\")\n",
    "\n",
    "# Concatenate the two DataFrames\n",
    "print(\"Concatenating MC and Data DataFrames...\")\n",
    "print(f\"Total of {len(mc_df)+len(data_df)} entries\")\n",
    "start_time = time.time()\n",
    "combined_df = pd.concat([mc_df, data_df], ignore_index=True)\n",
    "end_time = time.time()\n",
    "print(f\"Time taken to concatenate DataFrames: {end_time - start_time:.2f} seconds\")\n",
    "\n",
    "# Determine the number of Higgs and non-Higgs events\n",
    "print(\"Calculating the number of Higgs and non-Higgs events...\")\n",
    "start_time = time.time()\n",
    "num_higgs = combined_df['isHiggs'].sum()  # Number of Higgs events\n",
    "num_non_higgs = len(combined_df) - num_higgs  # Number of non-Higgs events\n",
    "end_time = time.time()\n",
    "print(f\"Number of Higgs events: {num_higgs}\")\n",
    "print(f\"Number of non-Higgs events: {num_non_higgs}\")\n",
    "print(f\"Time taken to calculate event counts: {end_time - start_time:.2f} seconds\")\n",
    "if False:\n",
    "    # Ensure 50% ratio by downsampling the majority class\n",
    "    print(\"Balancing the DataFrame to ensure a 50% Higgs to non-Higgs ratio...\")\n",
    "    start_time = time.time()\n",
    "    if num_higgs > num_non_higgs:\n",
    "        # Downsample Higgs events\n",
    "        print(f\"  Downsampling Higgs events from {num_higgs} to {num_non_higgs}...\")\n",
    "        higgs_df = combined_df[combined_df['isHiggs'] == 1].sample(num_non_higgs, random_state=42)\n",
    "        non_higgs_df = combined_df[combined_df['isHiggs'] == 0]\n",
    "    else:\n",
    "        # Downsample non-Higgs events\n",
    "        print(f\"  Downsampling non-Higgs events from {num_non_higgs} to {num_higgs}...\")\n",
    "        non_higgs_df = combined_df[combined_df['isHiggs'] == 0].sample(num_higgs, random_state=42)\n",
    "        higgs_df = combined_df[combined_df['isHiggs'] == 1]\n",
    "    end_time = time.time()\n",
    "    print(f\"Time taken to balance the DataFrame: {end_time - start_time:.2f} seconds\")\n",
    "\n",
    "    # Concatenate the downsampled DataFrames\n",
    "    print(\"Concatenating the balanced DataFrames...\")\n",
    "    start_time = time.time()\n",
    "    balanced_df = pd.concat([higgs_df, non_higgs_df], ignore_index=True)\n",
    "    end_time = time.time()\n",
    "    print(f\"Time taken to concatenate the balanced DataFrames: {end_time - start_time:.2f} seconds\")\n",
    "else:\n",
    "    balanced_df = combined_df\n",
    "# Shuffle the DataFrame to mix the classes\n",
    "print(\"Shuffling the balanced DataFrame...\")\n",
    "start_time = time.time()\n",
    "balanced_df = balanced_df.sample(frac=1, random_state=42).reset_index(drop=True)\n",
    "end_time = time.time()\n",
    "print(f\"Time taken to shuffle the balanced DataFrame: {end_time - start_time:.2f} seconds\")\n",
    "\n",
    "# Check the resulting DataFrame\n",
    "print(\"Balanced DataFrame head:\")\n",
    "print(balanced_df.head())\n",
    "\n",
    "# Check the class distribution to confirm 50% ratio\n",
    "print(\"Class distribution in the balanced DataFrame:\")\n",
    "print(balanced_df['isHiggs'].value_counts())\n",
    "\n",
    "# Show the total number of events after balancing\n",
    "total_events = len(balanced_df)\n",
    "print(f\"\\nTotal number of events in the balanced DataFrame: {total_events}\")\n"
   ]
  },
  {
   "cell_type": "code",
   "execution_count": 3,
   "metadata": {},
   "outputs": [
    {
     "name": "stdout",
     "output_type": "stream",
     "text": [
      "Expanding awkward array columns in the DataFrame...\n",
      "Found 55 columns with awkward array values.\n"
     ]
    },
    {
     "name": "stderr",
     "output_type": "stream",
     "text": [
      "Expanding awkward array columns:   0%|          | 0/55 [00:00<?, ?it/s]"
     ]
    },
    {
     "name": "stdout",
     "output_type": "stream",
     "text": [
      "\n",
      "Processing column: lep_truthMatched\n",
      "  Maximum length of lists in lep_truthMatched: 4\n"
     ]
    },
    {
     "name": "stderr",
     "output_type": "stream",
     "text": [
      "Expanding awkward array columns:   2%|▏         | 1/55 [00:21<19:09, 21.30s/it]"
     ]
    },
    {
     "name": "stdout",
     "output_type": "stream",
     "text": [
      "  Time taken to expand lep_truthMatched: 21.30 seconds.\n",
      "\n",
      "Processing column: lep_trigMatched\n",
      "  Maximum length of lists in lep_trigMatched: 4\n"
     ]
    },
    {
     "name": "stderr",
     "output_type": "stream",
     "text": [
      "Expanding awkward array columns:   4%|▎         | 2/55 [00:42<18:56, 21.44s/it]"
     ]
    },
    {
     "name": "stdout",
     "output_type": "stream",
     "text": [
      "  Time taken to expand lep_trigMatched: 21.54 seconds.\n",
      "\n",
      "Processing column: lep_pt\n",
      "  Maximum length of lists in lep_pt: 4\n"
     ]
    },
    {
     "name": "stderr",
     "output_type": "stream",
     "text": [
      "Expanding awkward array columns:   5%|▌         | 3/55 [01:02<18:04, 20.86s/it]"
     ]
    },
    {
     "name": "stdout",
     "output_type": "stream",
     "text": [
      "  Time taken to expand lep_pt: 20.16 seconds.\n",
      "\n",
      "Processing column: lep_eta\n",
      "  Maximum length of lists in lep_eta: 4\n"
     ]
    },
    {
     "name": "stderr",
     "output_type": "stream",
     "text": [
      "Expanding awkward array columns:   7%|▋         | 4/55 [01:24<18:03, 21.24s/it]"
     ]
    },
    {
     "name": "stdout",
     "output_type": "stream",
     "text": [
      "  Time taken to expand lep_eta: 21.83 seconds.\n",
      "\n",
      "Processing column: lep_phi\n",
      "  Maximum length of lists in lep_phi: 4\n"
     ]
    },
    {
     "name": "stderr",
     "output_type": "stream",
     "text": [
      "Expanding awkward array columns:   9%|▉         | 5/55 [01:45<17:30, 21.01s/it]"
     ]
    },
    {
     "name": "stdout",
     "output_type": "stream",
     "text": [
      "  Time taken to expand lep_phi: 20.60 seconds.\n",
      "\n",
      "Processing column: lep_E\n",
      "  Maximum length of lists in lep_E: 4\n"
     ]
    },
    {
     "name": "stderr",
     "output_type": "stream",
     "text": [
      "Expanding awkward array columns:  11%|█         | 6/55 [02:06<17:13, 21.09s/it]"
     ]
    },
    {
     "name": "stdout",
     "output_type": "stream",
     "text": [
      "  Time taken to expand lep_E: 21.25 seconds.\n",
      "\n",
      "Processing column: lep_z0\n",
      "  Maximum length of lists in lep_z0: 4\n"
     ]
    },
    {
     "name": "stderr",
     "output_type": "stream",
     "text": [
      "Expanding awkward array columns:  13%|█▎        | 7/55 [02:27<16:42, 20.89s/it]"
     ]
    },
    {
     "name": "stdout",
     "output_type": "stream",
     "text": [
      "  Time taken to expand lep_z0: 20.48 seconds.\n",
      "\n",
      "Processing column: lep_charge\n",
      "  Maximum length of lists in lep_charge: 4\n"
     ]
    },
    {
     "name": "stderr",
     "output_type": "stream",
     "text": [
      "Expanding awkward array columns:  15%|█▍        | 8/55 [02:48<16:23, 20.92s/it]"
     ]
    },
    {
     "name": "stdout",
     "output_type": "stream",
     "text": [
      "  Time taken to expand lep_charge: 20.98 seconds.\n",
      "\n",
      "Processing column: lep_type\n",
      "  Maximum length of lists in lep_type: 4\n"
     ]
    },
    {
     "name": "stderr",
     "output_type": "stream",
     "text": [
      "Expanding awkward array columns:  16%|█▋        | 9/55 [03:08<15:55, 20.76s/it]"
     ]
    },
    {
     "name": "stdout",
     "output_type": "stream",
     "text": [
      "  Time taken to expand lep_type: 20.42 seconds.\n",
      "\n",
      "Processing column: lep_isTightID\n",
      "  Maximum length of lists in lep_isTightID: 4\n"
     ]
    },
    {
     "name": "stderr",
     "output_type": "stream",
     "text": [
      "Expanding awkward array columns:  18%|█▊        | 10/55 [03:30<15:44, 20.99s/it]"
     ]
    },
    {
     "name": "stdout",
     "output_type": "stream",
     "text": [
      "  Time taken to expand lep_isTightID: 21.51 seconds.\n",
      "\n",
      "Processing column: lep_ptcone30\n",
      "  Maximum length of lists in lep_ptcone30: 4\n"
     ]
    },
    {
     "name": "stderr",
     "output_type": "stream",
     "text": [
      "Expanding awkward array columns:  20%|██        | 11/55 [03:50<15:18, 20.88s/it]"
     ]
    },
    {
     "name": "stdout",
     "output_type": "stream",
     "text": [
      "  Time taken to expand lep_ptcone30: 20.62 seconds.\n",
      "\n",
      "Processing column: lep_etcone20\n",
      "  Maximum length of lists in lep_etcone20: 4\n"
     ]
    },
    {
     "name": "stderr",
     "output_type": "stream",
     "text": [
      "Expanding awkward array columns:  22%|██▏       | 12/55 [04:12<15:11, 21.19s/it]"
     ]
    },
    {
     "name": "stdout",
     "output_type": "stream",
     "text": [
      "  Time taken to expand lep_etcone20: 21.90 seconds.\n",
      "\n",
      "Processing column: lep_trackd0pvunbiased\n",
      "  Maximum length of lists in lep_trackd0pvunbiased: 4\n"
     ]
    },
    {
     "name": "stderr",
     "output_type": "stream",
     "text": [
      "Expanding awkward array columns:  24%|██▎       | 13/55 [04:34<14:59, 21.43s/it]"
     ]
    },
    {
     "name": "stdout",
     "output_type": "stream",
     "text": [
      "  Time taken to expand lep_trackd0pvunbiased: 21.97 seconds.\n",
      "\n",
      "Processing column: lep_tracksigd0pvunbiased\n",
      "  Maximum length of lists in lep_tracksigd0pvunbiased: 4\n"
     ]
    },
    {
     "name": "stderr",
     "output_type": "stream",
     "text": [
      "Expanding awkward array columns:  25%|██▌       | 14/55 [04:56<14:44, 21.57s/it]"
     ]
    },
    {
     "name": "stdout",
     "output_type": "stream",
     "text": [
      "  Time taken to expand lep_tracksigd0pvunbiased: 21.92 seconds.\n",
      "\n",
      "Processing column: jet_pt\n",
      "  Maximum length of lists in jet_pt: 16\n"
     ]
    },
    {
     "name": "stderr",
     "output_type": "stream",
     "text": [
      "Expanding awkward array columns:  27%|██▋       | 15/55 [05:19<14:45, 22.14s/it]"
     ]
    },
    {
     "name": "stdout",
     "output_type": "stream",
     "text": [
      "  Time taken to expand jet_pt: 23.44 seconds.\n",
      "\n",
      "Processing column: jet_eta\n",
      "  Maximum length of lists in jet_eta: 16\n"
     ]
    },
    {
     "name": "stderr",
     "output_type": "stream",
     "text": [
      "Expanding awkward array columns:  29%|██▉       | 16/55 [05:44<14:56, 22.98s/it]"
     ]
    },
    {
     "name": "stdout",
     "output_type": "stream",
     "text": [
      "  Time taken to expand jet_eta: 24.95 seconds.\n",
      "\n",
      "Processing column: jet_phi\n",
      "  Maximum length of lists in jet_phi: 16\n"
     ]
    },
    {
     "name": "stderr",
     "output_type": "stream",
     "text": [
      "C:\\Users\\phgil\\AppData\\Local\\Temp\\ipykernel_2308\\3488968663.py:39: PerformanceWarning: DataFrame is highly fragmented.  This is usually the result of calling `frame.insert` many times, which has poor performance.  Consider joining all columns at once using pd.concat(axis=1) instead. To get a de-fragmented frame, use `newframe = frame.copy()`\n",
      "  df[new_col_name] = data\n",
      "C:\\Users\\phgil\\AppData\\Local\\Temp\\ipykernel_2308\\3488968663.py:39: PerformanceWarning: DataFrame is highly fragmented.  This is usually the result of calling `frame.insert` many times, which has poor performance.  Consider joining all columns at once using pd.concat(axis=1) instead. To get a de-fragmented frame, use `newframe = frame.copy()`\n",
      "  df[new_col_name] = data\n",
      "C:\\Users\\phgil\\AppData\\Local\\Temp\\ipykernel_2308\\3488968663.py:39: PerformanceWarning: DataFrame is highly fragmented.  This is usually the result of calling `frame.insert` many times, which has poor performance.  Consider joining all columns at once using pd.concat(axis=1) instead. To get a de-fragmented frame, use `newframe = frame.copy()`\n",
      "  df[new_col_name] = data\n",
      "C:\\Users\\phgil\\AppData\\Local\\Temp\\ipykernel_2308\\3488968663.py:39: PerformanceWarning: DataFrame is highly fragmented.  This is usually the result of calling `frame.insert` many times, which has poor performance.  Consider joining all columns at once using pd.concat(axis=1) instead. To get a de-fragmented frame, use `newframe = frame.copy()`\n",
      "  df[new_col_name] = data\n",
      "C:\\Users\\phgil\\AppData\\Local\\Temp\\ipykernel_2308\\3488968663.py:39: PerformanceWarning: DataFrame is highly fragmented.  This is usually the result of calling `frame.insert` many times, which has poor performance.  Consider joining all columns at once using pd.concat(axis=1) instead. To get a de-fragmented frame, use `newframe = frame.copy()`\n",
      "  df[new_col_name] = data\n",
      "C:\\Users\\phgil\\AppData\\Local\\Temp\\ipykernel_2308\\3488968663.py:39: PerformanceWarning: DataFrame is highly fragmented.  This is usually the result of calling `frame.insert` many times, which has poor performance.  Consider joining all columns at once using pd.concat(axis=1) instead. To get a de-fragmented frame, use `newframe = frame.copy()`\n",
      "  df[new_col_name] = data\n",
      "C:\\Users\\phgil\\AppData\\Local\\Temp\\ipykernel_2308\\3488968663.py:39: PerformanceWarning: DataFrame is highly fragmented.  This is usually the result of calling `frame.insert` many times, which has poor performance.  Consider joining all columns at once using pd.concat(axis=1) instead. To get a de-fragmented frame, use `newframe = frame.copy()`\n",
      "  df[new_col_name] = data\n",
      "C:\\Users\\phgil\\AppData\\Local\\Temp\\ipykernel_2308\\3488968663.py:39: PerformanceWarning: DataFrame is highly fragmented.  This is usually the result of calling `frame.insert` many times, which has poor performance.  Consider joining all columns at once using pd.concat(axis=1) instead. To get a de-fragmented frame, use `newframe = frame.copy()`\n",
      "  df[new_col_name] = data\n",
      "C:\\Users\\phgil\\AppData\\Local\\Temp\\ipykernel_2308\\3488968663.py:39: PerformanceWarning: DataFrame is highly fragmented.  This is usually the result of calling `frame.insert` many times, which has poor performance.  Consider joining all columns at once using pd.concat(axis=1) instead. To get a de-fragmented frame, use `newframe = frame.copy()`\n",
      "  df[new_col_name] = data\n",
      "Expanding awkward array columns:  31%|███       | 17/55 [06:09<14:47, 23.37s/it]"
     ]
    },
    {
     "name": "stdout",
     "output_type": "stream",
     "text": [
      "  Time taken to expand jet_phi: 24.26 seconds.\n",
      "\n",
      "Processing column: jet_E\n",
      "  Maximum length of lists in jet_E: 16\n"
     ]
    },
    {
     "name": "stderr",
     "output_type": "stream",
     "text": [
      "C:\\Users\\phgil\\AppData\\Local\\Temp\\ipykernel_2308\\3488968663.py:39: PerformanceWarning: DataFrame is highly fragmented.  This is usually the result of calling `frame.insert` many times, which has poor performance.  Consider joining all columns at once using pd.concat(axis=1) instead. To get a de-fragmented frame, use `newframe = frame.copy()`\n",
      "  df[new_col_name] = data\n",
      "C:\\Users\\phgil\\AppData\\Local\\Temp\\ipykernel_2308\\3488968663.py:39: PerformanceWarning: DataFrame is highly fragmented.  This is usually the result of calling `frame.insert` many times, which has poor performance.  Consider joining all columns at once using pd.concat(axis=1) instead. To get a de-fragmented frame, use `newframe = frame.copy()`\n",
      "  df[new_col_name] = data\n",
      "C:\\Users\\phgil\\AppData\\Local\\Temp\\ipykernel_2308\\3488968663.py:39: PerformanceWarning: DataFrame is highly fragmented.  This is usually the result of calling `frame.insert` many times, which has poor performance.  Consider joining all columns at once using pd.concat(axis=1) instead. To get a de-fragmented frame, use `newframe = frame.copy()`\n",
      "  df[new_col_name] = data\n",
      "C:\\Users\\phgil\\AppData\\Local\\Temp\\ipykernel_2308\\3488968663.py:39: PerformanceWarning: DataFrame is highly fragmented.  This is usually the result of calling `frame.insert` many times, which has poor performance.  Consider joining all columns at once using pd.concat(axis=1) instead. To get a de-fragmented frame, use `newframe = frame.copy()`\n",
      "  df[new_col_name] = data\n",
      "C:\\Users\\phgil\\AppData\\Local\\Temp\\ipykernel_2308\\3488968663.py:39: PerformanceWarning: DataFrame is highly fragmented.  This is usually the result of calling `frame.insert` many times, which has poor performance.  Consider joining all columns at once using pd.concat(axis=1) instead. To get a de-fragmented frame, use `newframe = frame.copy()`\n",
      "  df[new_col_name] = data\n",
      "C:\\Users\\phgil\\AppData\\Local\\Temp\\ipykernel_2308\\3488968663.py:39: PerformanceWarning: DataFrame is highly fragmented.  This is usually the result of calling `frame.insert` many times, which has poor performance.  Consider joining all columns at once using pd.concat(axis=1) instead. To get a de-fragmented frame, use `newframe = frame.copy()`\n",
      "  df[new_col_name] = data\n",
      "C:\\Users\\phgil\\AppData\\Local\\Temp\\ipykernel_2308\\3488968663.py:39: PerformanceWarning: DataFrame is highly fragmented.  This is usually the result of calling `frame.insert` many times, which has poor performance.  Consider joining all columns at once using pd.concat(axis=1) instead. To get a de-fragmented frame, use `newframe = frame.copy()`\n",
      "  df[new_col_name] = data\n",
      "C:\\Users\\phgil\\AppData\\Local\\Temp\\ipykernel_2308\\3488968663.py:39: PerformanceWarning: DataFrame is highly fragmented.  This is usually the result of calling `frame.insert` many times, which has poor performance.  Consider joining all columns at once using pd.concat(axis=1) instead. To get a de-fragmented frame, use `newframe = frame.copy()`\n",
      "  df[new_col_name] = data\n",
      "C:\\Users\\phgil\\AppData\\Local\\Temp\\ipykernel_2308\\3488968663.py:39: PerformanceWarning: DataFrame is highly fragmented.  This is usually the result of calling `frame.insert` many times, which has poor performance.  Consider joining all columns at once using pd.concat(axis=1) instead. To get a de-fragmented frame, use `newframe = frame.copy()`\n",
      "  df[new_col_name] = data\n",
      "C:\\Users\\phgil\\AppData\\Local\\Temp\\ipykernel_2308\\3488968663.py:39: PerformanceWarning: DataFrame is highly fragmented.  This is usually the result of calling `frame.insert` many times, which has poor performance.  Consider joining all columns at once using pd.concat(axis=1) instead. To get a de-fragmented frame, use `newframe = frame.copy()`\n",
      "  df[new_col_name] = data\n",
      "C:\\Users\\phgil\\AppData\\Local\\Temp\\ipykernel_2308\\3488968663.py:39: PerformanceWarning: DataFrame is highly fragmented.  This is usually the result of calling `frame.insert` many times, which has poor performance.  Consider joining all columns at once using pd.concat(axis=1) instead. To get a de-fragmented frame, use `newframe = frame.copy()`\n",
      "  df[new_col_name] = data\n",
      "C:\\Users\\phgil\\AppData\\Local\\Temp\\ipykernel_2308\\3488968663.py:39: PerformanceWarning: DataFrame is highly fragmented.  This is usually the result of calling `frame.insert` many times, which has poor performance.  Consider joining all columns at once using pd.concat(axis=1) instead. To get a de-fragmented frame, use `newframe = frame.copy()`\n",
      "  df[new_col_name] = data\n",
      "C:\\Users\\phgil\\AppData\\Local\\Temp\\ipykernel_2308\\3488968663.py:39: PerformanceWarning: DataFrame is highly fragmented.  This is usually the result of calling `frame.insert` many times, which has poor performance.  Consider joining all columns at once using pd.concat(axis=1) instead. To get a de-fragmented frame, use `newframe = frame.copy()`\n",
      "  df[new_col_name] = data\n",
      "C:\\Users\\phgil\\AppData\\Local\\Temp\\ipykernel_2308\\3488968663.py:39: PerformanceWarning: DataFrame is highly fragmented.  This is usually the result of calling `frame.insert` many times, which has poor performance.  Consider joining all columns at once using pd.concat(axis=1) instead. To get a de-fragmented frame, use `newframe = frame.copy()`\n",
      "  df[new_col_name] = data\n",
      "C:\\Users\\phgil\\AppData\\Local\\Temp\\ipykernel_2308\\3488968663.py:39: PerformanceWarning: DataFrame is highly fragmented.  This is usually the result of calling `frame.insert` many times, which has poor performance.  Consider joining all columns at once using pd.concat(axis=1) instead. To get a de-fragmented frame, use `newframe = frame.copy()`\n",
      "  df[new_col_name] = data\n",
      "C:\\Users\\phgil\\AppData\\Local\\Temp\\ipykernel_2308\\3488968663.py:39: PerformanceWarning: DataFrame is highly fragmented.  This is usually the result of calling `frame.insert` many times, which has poor performance.  Consider joining all columns at once using pd.concat(axis=1) instead. To get a de-fragmented frame, use `newframe = frame.copy()`\n",
      "  df[new_col_name] = data\n",
      "Expanding awkward array columns:  33%|███▎      | 18/55 [06:33<14:36, 23.68s/it]"
     ]
    },
    {
     "name": "stdout",
     "output_type": "stream",
     "text": [
      "  Time taken to expand jet_E: 24.41 seconds.\n",
      "\n",
      "Processing column: jet_jvt\n",
      "  Maximum length of lists in jet_jvt: 16\n"
     ]
    },
    {
     "name": "stderr",
     "output_type": "stream",
     "text": [
      "C:\\Users\\phgil\\AppData\\Local\\Temp\\ipykernel_2308\\3488968663.py:39: PerformanceWarning: DataFrame is highly fragmented.  This is usually the result of calling `frame.insert` many times, which has poor performance.  Consider joining all columns at once using pd.concat(axis=1) instead. To get a de-fragmented frame, use `newframe = frame.copy()`\n",
      "  df[new_col_name] = data\n",
      "C:\\Users\\phgil\\AppData\\Local\\Temp\\ipykernel_2308\\3488968663.py:39: PerformanceWarning: DataFrame is highly fragmented.  This is usually the result of calling `frame.insert` many times, which has poor performance.  Consider joining all columns at once using pd.concat(axis=1) instead. To get a de-fragmented frame, use `newframe = frame.copy()`\n",
      "  df[new_col_name] = data\n",
      "C:\\Users\\phgil\\AppData\\Local\\Temp\\ipykernel_2308\\3488968663.py:39: PerformanceWarning: DataFrame is highly fragmented.  This is usually the result of calling `frame.insert` many times, which has poor performance.  Consider joining all columns at once using pd.concat(axis=1) instead. To get a de-fragmented frame, use `newframe = frame.copy()`\n",
      "  df[new_col_name] = data\n",
      "C:\\Users\\phgil\\AppData\\Local\\Temp\\ipykernel_2308\\3488968663.py:39: PerformanceWarning: DataFrame is highly fragmented.  This is usually the result of calling `frame.insert` many times, which has poor performance.  Consider joining all columns at once using pd.concat(axis=1) instead. To get a de-fragmented frame, use `newframe = frame.copy()`\n",
      "  df[new_col_name] = data\n",
      "C:\\Users\\phgil\\AppData\\Local\\Temp\\ipykernel_2308\\3488968663.py:39: PerformanceWarning: DataFrame is highly fragmented.  This is usually the result of calling `frame.insert` many times, which has poor performance.  Consider joining all columns at once using pd.concat(axis=1) instead. To get a de-fragmented frame, use `newframe = frame.copy()`\n",
      "  df[new_col_name] = data\n",
      "C:\\Users\\phgil\\AppData\\Local\\Temp\\ipykernel_2308\\3488968663.py:39: PerformanceWarning: DataFrame is highly fragmented.  This is usually the result of calling `frame.insert` many times, which has poor performance.  Consider joining all columns at once using pd.concat(axis=1) instead. To get a de-fragmented frame, use `newframe = frame.copy()`\n",
      "  df[new_col_name] = data\n",
      "C:\\Users\\phgil\\AppData\\Local\\Temp\\ipykernel_2308\\3488968663.py:39: PerformanceWarning: DataFrame is highly fragmented.  This is usually the result of calling `frame.insert` many times, which has poor performance.  Consider joining all columns at once using pd.concat(axis=1) instead. To get a de-fragmented frame, use `newframe = frame.copy()`\n",
      "  df[new_col_name] = data\n",
      "C:\\Users\\phgil\\AppData\\Local\\Temp\\ipykernel_2308\\3488968663.py:39: PerformanceWarning: DataFrame is highly fragmented.  This is usually the result of calling `frame.insert` many times, which has poor performance.  Consider joining all columns at once using pd.concat(axis=1) instead. To get a de-fragmented frame, use `newframe = frame.copy()`\n",
      "  df[new_col_name] = data\n",
      "C:\\Users\\phgil\\AppData\\Local\\Temp\\ipykernel_2308\\3488968663.py:39: PerformanceWarning: DataFrame is highly fragmented.  This is usually the result of calling `frame.insert` many times, which has poor performance.  Consider joining all columns at once using pd.concat(axis=1) instead. To get a de-fragmented frame, use `newframe = frame.copy()`\n",
      "  df[new_col_name] = data\n",
      "C:\\Users\\phgil\\AppData\\Local\\Temp\\ipykernel_2308\\3488968663.py:39: PerformanceWarning: DataFrame is highly fragmented.  This is usually the result of calling `frame.insert` many times, which has poor performance.  Consider joining all columns at once using pd.concat(axis=1) instead. To get a de-fragmented frame, use `newframe = frame.copy()`\n",
      "  df[new_col_name] = data\n",
      "C:\\Users\\phgil\\AppData\\Local\\Temp\\ipykernel_2308\\3488968663.py:39: PerformanceWarning: DataFrame is highly fragmented.  This is usually the result of calling `frame.insert` many times, which has poor performance.  Consider joining all columns at once using pd.concat(axis=1) instead. To get a de-fragmented frame, use `newframe = frame.copy()`\n",
      "  df[new_col_name] = data\n",
      "C:\\Users\\phgil\\AppData\\Local\\Temp\\ipykernel_2308\\3488968663.py:39: PerformanceWarning: DataFrame is highly fragmented.  This is usually the result of calling `frame.insert` many times, which has poor performance.  Consider joining all columns at once using pd.concat(axis=1) instead. To get a de-fragmented frame, use `newframe = frame.copy()`\n",
      "  df[new_col_name] = data\n",
      "C:\\Users\\phgil\\AppData\\Local\\Temp\\ipykernel_2308\\3488968663.py:39: PerformanceWarning: DataFrame is highly fragmented.  This is usually the result of calling `frame.insert` many times, which has poor performance.  Consider joining all columns at once using pd.concat(axis=1) instead. To get a de-fragmented frame, use `newframe = frame.copy()`\n",
      "  df[new_col_name] = data\n",
      "C:\\Users\\phgil\\AppData\\Local\\Temp\\ipykernel_2308\\3488968663.py:39: PerformanceWarning: DataFrame is highly fragmented.  This is usually the result of calling `frame.insert` many times, which has poor performance.  Consider joining all columns at once using pd.concat(axis=1) instead. To get a de-fragmented frame, use `newframe = frame.copy()`\n",
      "  df[new_col_name] = data\n",
      "C:\\Users\\phgil\\AppData\\Local\\Temp\\ipykernel_2308\\3488968663.py:39: PerformanceWarning: DataFrame is highly fragmented.  This is usually the result of calling `frame.insert` many times, which has poor performance.  Consider joining all columns at once using pd.concat(axis=1) instead. To get a de-fragmented frame, use `newframe = frame.copy()`\n",
      "  df[new_col_name] = data\n",
      "C:\\Users\\phgil\\AppData\\Local\\Temp\\ipykernel_2308\\3488968663.py:39: PerformanceWarning: DataFrame is highly fragmented.  This is usually the result of calling `frame.insert` many times, which has poor performance.  Consider joining all columns at once using pd.concat(axis=1) instead. To get a de-fragmented frame, use `newframe = frame.copy()`\n",
      "  df[new_col_name] = data\n",
      "Expanding awkward array columns:  35%|███▍      | 19/55 [06:58<14:30, 24.18s/it]"
     ]
    },
    {
     "name": "stdout",
     "output_type": "stream",
     "text": [
      "  Time taken to expand jet_jvt: 25.34 seconds.\n",
      "\n",
      "Processing column: jet_trueflav\n",
      "  Maximum length of lists in jet_trueflav: 16\n"
     ]
    },
    {
     "name": "stderr",
     "output_type": "stream",
     "text": [
      "C:\\Users\\phgil\\AppData\\Local\\Temp\\ipykernel_2308\\3488968663.py:39: PerformanceWarning: DataFrame is highly fragmented.  This is usually the result of calling `frame.insert` many times, which has poor performance.  Consider joining all columns at once using pd.concat(axis=1) instead. To get a de-fragmented frame, use `newframe = frame.copy()`\n",
      "  df[new_col_name] = data\n",
      "C:\\Users\\phgil\\AppData\\Local\\Temp\\ipykernel_2308\\3488968663.py:39: PerformanceWarning: DataFrame is highly fragmented.  This is usually the result of calling `frame.insert` many times, which has poor performance.  Consider joining all columns at once using pd.concat(axis=1) instead. To get a de-fragmented frame, use `newframe = frame.copy()`\n",
      "  df[new_col_name] = data\n",
      "C:\\Users\\phgil\\AppData\\Local\\Temp\\ipykernel_2308\\3488968663.py:39: PerformanceWarning: DataFrame is highly fragmented.  This is usually the result of calling `frame.insert` many times, which has poor performance.  Consider joining all columns at once using pd.concat(axis=1) instead. To get a de-fragmented frame, use `newframe = frame.copy()`\n",
      "  df[new_col_name] = data\n",
      "C:\\Users\\phgil\\AppData\\Local\\Temp\\ipykernel_2308\\3488968663.py:39: PerformanceWarning: DataFrame is highly fragmented.  This is usually the result of calling `frame.insert` many times, which has poor performance.  Consider joining all columns at once using pd.concat(axis=1) instead. To get a de-fragmented frame, use `newframe = frame.copy()`\n",
      "  df[new_col_name] = data\n",
      "C:\\Users\\phgil\\AppData\\Local\\Temp\\ipykernel_2308\\3488968663.py:39: PerformanceWarning: DataFrame is highly fragmented.  This is usually the result of calling `frame.insert` many times, which has poor performance.  Consider joining all columns at once using pd.concat(axis=1) instead. To get a de-fragmented frame, use `newframe = frame.copy()`\n",
      "  df[new_col_name] = data\n",
      "C:\\Users\\phgil\\AppData\\Local\\Temp\\ipykernel_2308\\3488968663.py:39: PerformanceWarning: DataFrame is highly fragmented.  This is usually the result of calling `frame.insert` many times, which has poor performance.  Consider joining all columns at once using pd.concat(axis=1) instead. To get a de-fragmented frame, use `newframe = frame.copy()`\n",
      "  df[new_col_name] = data\n",
      "C:\\Users\\phgil\\AppData\\Local\\Temp\\ipykernel_2308\\3488968663.py:39: PerformanceWarning: DataFrame is highly fragmented.  This is usually the result of calling `frame.insert` many times, which has poor performance.  Consider joining all columns at once using pd.concat(axis=1) instead. To get a de-fragmented frame, use `newframe = frame.copy()`\n",
      "  df[new_col_name] = data\n",
      "C:\\Users\\phgil\\AppData\\Local\\Temp\\ipykernel_2308\\3488968663.py:39: PerformanceWarning: DataFrame is highly fragmented.  This is usually the result of calling `frame.insert` many times, which has poor performance.  Consider joining all columns at once using pd.concat(axis=1) instead. To get a de-fragmented frame, use `newframe = frame.copy()`\n",
      "  df[new_col_name] = data\n",
      "C:\\Users\\phgil\\AppData\\Local\\Temp\\ipykernel_2308\\3488968663.py:39: PerformanceWarning: DataFrame is highly fragmented.  This is usually the result of calling `frame.insert` many times, which has poor performance.  Consider joining all columns at once using pd.concat(axis=1) instead. To get a de-fragmented frame, use `newframe = frame.copy()`\n",
      "  df[new_col_name] = data\n",
      "C:\\Users\\phgil\\AppData\\Local\\Temp\\ipykernel_2308\\3488968663.py:39: PerformanceWarning: DataFrame is highly fragmented.  This is usually the result of calling `frame.insert` many times, which has poor performance.  Consider joining all columns at once using pd.concat(axis=1) instead. To get a de-fragmented frame, use `newframe = frame.copy()`\n",
      "  df[new_col_name] = data\n",
      "C:\\Users\\phgil\\AppData\\Local\\Temp\\ipykernel_2308\\3488968663.py:39: PerformanceWarning: DataFrame is highly fragmented.  This is usually the result of calling `frame.insert` many times, which has poor performance.  Consider joining all columns at once using pd.concat(axis=1) instead. To get a de-fragmented frame, use `newframe = frame.copy()`\n",
      "  df[new_col_name] = data\n",
      "C:\\Users\\phgil\\AppData\\Local\\Temp\\ipykernel_2308\\3488968663.py:39: PerformanceWarning: DataFrame is highly fragmented.  This is usually the result of calling `frame.insert` many times, which has poor performance.  Consider joining all columns at once using pd.concat(axis=1) instead. To get a de-fragmented frame, use `newframe = frame.copy()`\n",
      "  df[new_col_name] = data\n",
      "C:\\Users\\phgil\\AppData\\Local\\Temp\\ipykernel_2308\\3488968663.py:39: PerformanceWarning: DataFrame is highly fragmented.  This is usually the result of calling `frame.insert` many times, which has poor performance.  Consider joining all columns at once using pd.concat(axis=1) instead. To get a de-fragmented frame, use `newframe = frame.copy()`\n",
      "  df[new_col_name] = data\n",
      "C:\\Users\\phgil\\AppData\\Local\\Temp\\ipykernel_2308\\3488968663.py:39: PerformanceWarning: DataFrame is highly fragmented.  This is usually the result of calling `frame.insert` many times, which has poor performance.  Consider joining all columns at once using pd.concat(axis=1) instead. To get a de-fragmented frame, use `newframe = frame.copy()`\n",
      "  df[new_col_name] = data\n",
      "C:\\Users\\phgil\\AppData\\Local\\Temp\\ipykernel_2308\\3488968663.py:39: PerformanceWarning: DataFrame is highly fragmented.  This is usually the result of calling `frame.insert` many times, which has poor performance.  Consider joining all columns at once using pd.concat(axis=1) instead. To get a de-fragmented frame, use `newframe = frame.copy()`\n",
      "  df[new_col_name] = data\n",
      "C:\\Users\\phgil\\AppData\\Local\\Temp\\ipykernel_2308\\3488968663.py:39: PerformanceWarning: DataFrame is highly fragmented.  This is usually the result of calling `frame.insert` many times, which has poor performance.  Consider joining all columns at once using pd.concat(axis=1) instead. To get a de-fragmented frame, use `newframe = frame.copy()`\n",
      "  df[new_col_name] = data\n",
      "Expanding awkward array columns:  36%|███▋      | 20/55 [07:23<14:09, 24.28s/it]"
     ]
    },
    {
     "name": "stdout",
     "output_type": "stream",
     "text": [
      "  Time taken to expand jet_trueflav: 24.51 seconds.\n",
      "\n",
      "Processing column: jet_truthMatched\n",
      "  Maximum length of lists in jet_truthMatched: 16\n"
     ]
    },
    {
     "name": "stderr",
     "output_type": "stream",
     "text": [
      "C:\\Users\\phgil\\AppData\\Local\\Temp\\ipykernel_2308\\3488968663.py:39: PerformanceWarning: DataFrame is highly fragmented.  This is usually the result of calling `frame.insert` many times, which has poor performance.  Consider joining all columns at once using pd.concat(axis=1) instead. To get a de-fragmented frame, use `newframe = frame.copy()`\n",
      "  df[new_col_name] = data\n",
      "C:\\Users\\phgil\\AppData\\Local\\Temp\\ipykernel_2308\\3488968663.py:39: PerformanceWarning: DataFrame is highly fragmented.  This is usually the result of calling `frame.insert` many times, which has poor performance.  Consider joining all columns at once using pd.concat(axis=1) instead. To get a de-fragmented frame, use `newframe = frame.copy()`\n",
      "  df[new_col_name] = data\n",
      "C:\\Users\\phgil\\AppData\\Local\\Temp\\ipykernel_2308\\3488968663.py:39: PerformanceWarning: DataFrame is highly fragmented.  This is usually the result of calling `frame.insert` many times, which has poor performance.  Consider joining all columns at once using pd.concat(axis=1) instead. To get a de-fragmented frame, use `newframe = frame.copy()`\n",
      "  df[new_col_name] = data\n",
      "C:\\Users\\phgil\\AppData\\Local\\Temp\\ipykernel_2308\\3488968663.py:39: PerformanceWarning: DataFrame is highly fragmented.  This is usually the result of calling `frame.insert` many times, which has poor performance.  Consider joining all columns at once using pd.concat(axis=1) instead. To get a de-fragmented frame, use `newframe = frame.copy()`\n",
      "  df[new_col_name] = data\n",
      "C:\\Users\\phgil\\AppData\\Local\\Temp\\ipykernel_2308\\3488968663.py:39: PerformanceWarning: DataFrame is highly fragmented.  This is usually the result of calling `frame.insert` many times, which has poor performance.  Consider joining all columns at once using pd.concat(axis=1) instead. To get a de-fragmented frame, use `newframe = frame.copy()`\n",
      "  df[new_col_name] = data\n",
      "C:\\Users\\phgil\\AppData\\Local\\Temp\\ipykernel_2308\\3488968663.py:39: PerformanceWarning: DataFrame is highly fragmented.  This is usually the result of calling `frame.insert` many times, which has poor performance.  Consider joining all columns at once using pd.concat(axis=1) instead. To get a de-fragmented frame, use `newframe = frame.copy()`\n",
      "  df[new_col_name] = data\n",
      "C:\\Users\\phgil\\AppData\\Local\\Temp\\ipykernel_2308\\3488968663.py:39: PerformanceWarning: DataFrame is highly fragmented.  This is usually the result of calling `frame.insert` many times, which has poor performance.  Consider joining all columns at once using pd.concat(axis=1) instead. To get a de-fragmented frame, use `newframe = frame.copy()`\n",
      "  df[new_col_name] = data\n",
      "C:\\Users\\phgil\\AppData\\Local\\Temp\\ipykernel_2308\\3488968663.py:39: PerformanceWarning: DataFrame is highly fragmented.  This is usually the result of calling `frame.insert` many times, which has poor performance.  Consider joining all columns at once using pd.concat(axis=1) instead. To get a de-fragmented frame, use `newframe = frame.copy()`\n",
      "  df[new_col_name] = data\n",
      "C:\\Users\\phgil\\AppData\\Local\\Temp\\ipykernel_2308\\3488968663.py:39: PerformanceWarning: DataFrame is highly fragmented.  This is usually the result of calling `frame.insert` many times, which has poor performance.  Consider joining all columns at once using pd.concat(axis=1) instead. To get a de-fragmented frame, use `newframe = frame.copy()`\n",
      "  df[new_col_name] = data\n",
      "C:\\Users\\phgil\\AppData\\Local\\Temp\\ipykernel_2308\\3488968663.py:39: PerformanceWarning: DataFrame is highly fragmented.  This is usually the result of calling `frame.insert` many times, which has poor performance.  Consider joining all columns at once using pd.concat(axis=1) instead. To get a de-fragmented frame, use `newframe = frame.copy()`\n",
      "  df[new_col_name] = data\n",
      "C:\\Users\\phgil\\AppData\\Local\\Temp\\ipykernel_2308\\3488968663.py:39: PerformanceWarning: DataFrame is highly fragmented.  This is usually the result of calling `frame.insert` many times, which has poor performance.  Consider joining all columns at once using pd.concat(axis=1) instead. To get a de-fragmented frame, use `newframe = frame.copy()`\n",
      "  df[new_col_name] = data\n",
      "C:\\Users\\phgil\\AppData\\Local\\Temp\\ipykernel_2308\\3488968663.py:39: PerformanceWarning: DataFrame is highly fragmented.  This is usually the result of calling `frame.insert` many times, which has poor performance.  Consider joining all columns at once using pd.concat(axis=1) instead. To get a de-fragmented frame, use `newframe = frame.copy()`\n",
      "  df[new_col_name] = data\n",
      "C:\\Users\\phgil\\AppData\\Local\\Temp\\ipykernel_2308\\3488968663.py:39: PerformanceWarning: DataFrame is highly fragmented.  This is usually the result of calling `frame.insert` many times, which has poor performance.  Consider joining all columns at once using pd.concat(axis=1) instead. To get a de-fragmented frame, use `newframe = frame.copy()`\n",
      "  df[new_col_name] = data\n",
      "C:\\Users\\phgil\\AppData\\Local\\Temp\\ipykernel_2308\\3488968663.py:39: PerformanceWarning: DataFrame is highly fragmented.  This is usually the result of calling `frame.insert` many times, which has poor performance.  Consider joining all columns at once using pd.concat(axis=1) instead. To get a de-fragmented frame, use `newframe = frame.copy()`\n",
      "  df[new_col_name] = data\n",
      "C:\\Users\\phgil\\AppData\\Local\\Temp\\ipykernel_2308\\3488968663.py:39: PerformanceWarning: DataFrame is highly fragmented.  This is usually the result of calling `frame.insert` many times, which has poor performance.  Consider joining all columns at once using pd.concat(axis=1) instead. To get a de-fragmented frame, use `newframe = frame.copy()`\n",
      "  df[new_col_name] = data\n",
      "C:\\Users\\phgil\\AppData\\Local\\Temp\\ipykernel_2308\\3488968663.py:39: PerformanceWarning: DataFrame is highly fragmented.  This is usually the result of calling `frame.insert` many times, which has poor performance.  Consider joining all columns at once using pd.concat(axis=1) instead. To get a de-fragmented frame, use `newframe = frame.copy()`\n",
      "  df[new_col_name] = data\n",
      "Expanding awkward array columns:  38%|███▊      | 21/55 [07:47<13:41, 24.16s/it]"
     ]
    },
    {
     "name": "stdout",
     "output_type": "stream",
     "text": [
      "  Time taken to expand jet_truthMatched: 23.89 seconds.\n",
      "\n",
      "Processing column: jet_MV2c10\n",
      "  Maximum length of lists in jet_MV2c10: 16\n"
     ]
    },
    {
     "name": "stderr",
     "output_type": "stream",
     "text": [
      "C:\\Users\\phgil\\AppData\\Local\\Temp\\ipykernel_2308\\3488968663.py:39: PerformanceWarning: DataFrame is highly fragmented.  This is usually the result of calling `frame.insert` many times, which has poor performance.  Consider joining all columns at once using pd.concat(axis=1) instead. To get a de-fragmented frame, use `newframe = frame.copy()`\n",
      "  df[new_col_name] = data\n",
      "C:\\Users\\phgil\\AppData\\Local\\Temp\\ipykernel_2308\\3488968663.py:39: PerformanceWarning: DataFrame is highly fragmented.  This is usually the result of calling `frame.insert` many times, which has poor performance.  Consider joining all columns at once using pd.concat(axis=1) instead. To get a de-fragmented frame, use `newframe = frame.copy()`\n",
      "  df[new_col_name] = data\n",
      "C:\\Users\\phgil\\AppData\\Local\\Temp\\ipykernel_2308\\3488968663.py:39: PerformanceWarning: DataFrame is highly fragmented.  This is usually the result of calling `frame.insert` many times, which has poor performance.  Consider joining all columns at once using pd.concat(axis=1) instead. To get a de-fragmented frame, use `newframe = frame.copy()`\n",
      "  df[new_col_name] = data\n",
      "C:\\Users\\phgil\\AppData\\Local\\Temp\\ipykernel_2308\\3488968663.py:39: PerformanceWarning: DataFrame is highly fragmented.  This is usually the result of calling `frame.insert` many times, which has poor performance.  Consider joining all columns at once using pd.concat(axis=1) instead. To get a de-fragmented frame, use `newframe = frame.copy()`\n",
      "  df[new_col_name] = data\n",
      "C:\\Users\\phgil\\AppData\\Local\\Temp\\ipykernel_2308\\3488968663.py:39: PerformanceWarning: DataFrame is highly fragmented.  This is usually the result of calling `frame.insert` many times, which has poor performance.  Consider joining all columns at once using pd.concat(axis=1) instead. To get a de-fragmented frame, use `newframe = frame.copy()`\n",
      "  df[new_col_name] = data\n",
      "C:\\Users\\phgil\\AppData\\Local\\Temp\\ipykernel_2308\\3488968663.py:39: PerformanceWarning: DataFrame is highly fragmented.  This is usually the result of calling `frame.insert` many times, which has poor performance.  Consider joining all columns at once using pd.concat(axis=1) instead. To get a de-fragmented frame, use `newframe = frame.copy()`\n",
      "  df[new_col_name] = data\n",
      "C:\\Users\\phgil\\AppData\\Local\\Temp\\ipykernel_2308\\3488968663.py:39: PerformanceWarning: DataFrame is highly fragmented.  This is usually the result of calling `frame.insert` many times, which has poor performance.  Consider joining all columns at once using pd.concat(axis=1) instead. To get a de-fragmented frame, use `newframe = frame.copy()`\n",
      "  df[new_col_name] = data\n",
      "C:\\Users\\phgil\\AppData\\Local\\Temp\\ipykernel_2308\\3488968663.py:39: PerformanceWarning: DataFrame is highly fragmented.  This is usually the result of calling `frame.insert` many times, which has poor performance.  Consider joining all columns at once using pd.concat(axis=1) instead. To get a de-fragmented frame, use `newframe = frame.copy()`\n",
      "  df[new_col_name] = data\n",
      "C:\\Users\\phgil\\AppData\\Local\\Temp\\ipykernel_2308\\3488968663.py:39: PerformanceWarning: DataFrame is highly fragmented.  This is usually the result of calling `frame.insert` many times, which has poor performance.  Consider joining all columns at once using pd.concat(axis=1) instead. To get a de-fragmented frame, use `newframe = frame.copy()`\n",
      "  df[new_col_name] = data\n",
      "C:\\Users\\phgil\\AppData\\Local\\Temp\\ipykernel_2308\\3488968663.py:39: PerformanceWarning: DataFrame is highly fragmented.  This is usually the result of calling `frame.insert` many times, which has poor performance.  Consider joining all columns at once using pd.concat(axis=1) instead. To get a de-fragmented frame, use `newframe = frame.copy()`\n",
      "  df[new_col_name] = data\n",
      "C:\\Users\\phgil\\AppData\\Local\\Temp\\ipykernel_2308\\3488968663.py:39: PerformanceWarning: DataFrame is highly fragmented.  This is usually the result of calling `frame.insert` many times, which has poor performance.  Consider joining all columns at once using pd.concat(axis=1) instead. To get a de-fragmented frame, use `newframe = frame.copy()`\n",
      "  df[new_col_name] = data\n",
      "C:\\Users\\phgil\\AppData\\Local\\Temp\\ipykernel_2308\\3488968663.py:39: PerformanceWarning: DataFrame is highly fragmented.  This is usually the result of calling `frame.insert` many times, which has poor performance.  Consider joining all columns at once using pd.concat(axis=1) instead. To get a de-fragmented frame, use `newframe = frame.copy()`\n",
      "  df[new_col_name] = data\n",
      "C:\\Users\\phgil\\AppData\\Local\\Temp\\ipykernel_2308\\3488968663.py:39: PerformanceWarning: DataFrame is highly fragmented.  This is usually the result of calling `frame.insert` many times, which has poor performance.  Consider joining all columns at once using pd.concat(axis=1) instead. To get a de-fragmented frame, use `newframe = frame.copy()`\n",
      "  df[new_col_name] = data\n",
      "C:\\Users\\phgil\\AppData\\Local\\Temp\\ipykernel_2308\\3488968663.py:39: PerformanceWarning: DataFrame is highly fragmented.  This is usually the result of calling `frame.insert` many times, which has poor performance.  Consider joining all columns at once using pd.concat(axis=1) instead. To get a de-fragmented frame, use `newframe = frame.copy()`\n",
      "  df[new_col_name] = data\n",
      "C:\\Users\\phgil\\AppData\\Local\\Temp\\ipykernel_2308\\3488968663.py:39: PerformanceWarning: DataFrame is highly fragmented.  This is usually the result of calling `frame.insert` many times, which has poor performance.  Consider joining all columns at once using pd.concat(axis=1) instead. To get a de-fragmented frame, use `newframe = frame.copy()`\n",
      "  df[new_col_name] = data\n",
      "C:\\Users\\phgil\\AppData\\Local\\Temp\\ipykernel_2308\\3488968663.py:39: PerformanceWarning: DataFrame is highly fragmented.  This is usually the result of calling `frame.insert` many times, which has poor performance.  Consider joining all columns at once using pd.concat(axis=1) instead. To get a de-fragmented frame, use `newframe = frame.copy()`\n",
      "  df[new_col_name] = data\n",
      "Expanding awkward array columns:  40%|████      | 22/55 [08:13<13:40, 24.87s/it]"
     ]
    },
    {
     "name": "stdout",
     "output_type": "stream",
     "text": [
      "  Time taken to expand jet_MV2c10: 26.50 seconds.\n",
      "\n",
      "Processing column: photon_truthMatched\n",
      "  Maximum length of lists in photon_truthMatched: 5\n"
     ]
    },
    {
     "name": "stderr",
     "output_type": "stream",
     "text": [
      "C:\\Users\\phgil\\AppData\\Local\\Temp\\ipykernel_2308\\3488968663.py:39: PerformanceWarning: DataFrame is highly fragmented.  This is usually the result of calling `frame.insert` many times, which has poor performance.  Consider joining all columns at once using pd.concat(axis=1) instead. To get a de-fragmented frame, use `newframe = frame.copy()`\n",
      "  df[new_col_name] = data\n",
      "C:\\Users\\phgil\\AppData\\Local\\Temp\\ipykernel_2308\\3488968663.py:39: PerformanceWarning: DataFrame is highly fragmented.  This is usually the result of calling `frame.insert` many times, which has poor performance.  Consider joining all columns at once using pd.concat(axis=1) instead. To get a de-fragmented frame, use `newframe = frame.copy()`\n",
      "  df[new_col_name] = data\n",
      "C:\\Users\\phgil\\AppData\\Local\\Temp\\ipykernel_2308\\3488968663.py:39: PerformanceWarning: DataFrame is highly fragmented.  This is usually the result of calling `frame.insert` many times, which has poor performance.  Consider joining all columns at once using pd.concat(axis=1) instead. To get a de-fragmented frame, use `newframe = frame.copy()`\n",
      "  df[new_col_name] = data\n",
      "C:\\Users\\phgil\\AppData\\Local\\Temp\\ipykernel_2308\\3488968663.py:39: PerformanceWarning: DataFrame is highly fragmented.  This is usually the result of calling `frame.insert` many times, which has poor performance.  Consider joining all columns at once using pd.concat(axis=1) instead. To get a de-fragmented frame, use `newframe = frame.copy()`\n",
      "  df[new_col_name] = data\n",
      "C:\\Users\\phgil\\AppData\\Local\\Temp\\ipykernel_2308\\3488968663.py:39: PerformanceWarning: DataFrame is highly fragmented.  This is usually the result of calling `frame.insert` many times, which has poor performance.  Consider joining all columns at once using pd.concat(axis=1) instead. To get a de-fragmented frame, use `newframe = frame.copy()`\n",
      "  df[new_col_name] = data\n",
      "Expanding awkward array columns:  42%|████▏     | 23/55 [08:36<12:52, 24.16s/it]"
     ]
    },
    {
     "name": "stdout",
     "output_type": "stream",
     "text": [
      "  Time taken to expand photon_truthMatched: 22.50 seconds.\n",
      "\n",
      "Processing column: photon_trigMatched\n",
      "  Maximum length of lists in photon_trigMatched: 5\n"
     ]
    },
    {
     "name": "stderr",
     "output_type": "stream",
     "text": [
      "C:\\Users\\phgil\\AppData\\Local\\Temp\\ipykernel_2308\\3488968663.py:39: PerformanceWarning: DataFrame is highly fragmented.  This is usually the result of calling `frame.insert` many times, which has poor performance.  Consider joining all columns at once using pd.concat(axis=1) instead. To get a de-fragmented frame, use `newframe = frame.copy()`\n",
      "  df[new_col_name] = data\n",
      "C:\\Users\\phgil\\AppData\\Local\\Temp\\ipykernel_2308\\3488968663.py:39: PerformanceWarning: DataFrame is highly fragmented.  This is usually the result of calling `frame.insert` many times, which has poor performance.  Consider joining all columns at once using pd.concat(axis=1) instead. To get a de-fragmented frame, use `newframe = frame.copy()`\n",
      "  df[new_col_name] = data\n",
      "C:\\Users\\phgil\\AppData\\Local\\Temp\\ipykernel_2308\\3488968663.py:39: PerformanceWarning: DataFrame is highly fragmented.  This is usually the result of calling `frame.insert` many times, which has poor performance.  Consider joining all columns at once using pd.concat(axis=1) instead. To get a de-fragmented frame, use `newframe = frame.copy()`\n",
      "  df[new_col_name] = data\n",
      "C:\\Users\\phgil\\AppData\\Local\\Temp\\ipykernel_2308\\3488968663.py:39: PerformanceWarning: DataFrame is highly fragmented.  This is usually the result of calling `frame.insert` many times, which has poor performance.  Consider joining all columns at once using pd.concat(axis=1) instead. To get a de-fragmented frame, use `newframe = frame.copy()`\n",
      "  df[new_col_name] = data\n",
      "C:\\Users\\phgil\\AppData\\Local\\Temp\\ipykernel_2308\\3488968663.py:39: PerformanceWarning: DataFrame is highly fragmented.  This is usually the result of calling `frame.insert` many times, which has poor performance.  Consider joining all columns at once using pd.concat(axis=1) instead. To get a de-fragmented frame, use `newframe = frame.copy()`\n",
      "  df[new_col_name] = data\n",
      "Expanding awkward array columns:  44%|████▎     | 24/55 [08:57<12:04, 23.36s/it]"
     ]
    },
    {
     "name": "stdout",
     "output_type": "stream",
     "text": [
      "  Time taken to expand photon_trigMatched: 21.48 seconds.\n",
      "\n",
      "Processing column: photon_pt\n",
      "  Maximum length of lists in photon_pt: 5\n"
     ]
    },
    {
     "name": "stderr",
     "output_type": "stream",
     "text": [
      "C:\\Users\\phgil\\AppData\\Local\\Temp\\ipykernel_2308\\3488968663.py:39: PerformanceWarning: DataFrame is highly fragmented.  This is usually the result of calling `frame.insert` many times, which has poor performance.  Consider joining all columns at once using pd.concat(axis=1) instead. To get a de-fragmented frame, use `newframe = frame.copy()`\n",
      "  df[new_col_name] = data\n",
      "C:\\Users\\phgil\\AppData\\Local\\Temp\\ipykernel_2308\\3488968663.py:39: PerformanceWarning: DataFrame is highly fragmented.  This is usually the result of calling `frame.insert` many times, which has poor performance.  Consider joining all columns at once using pd.concat(axis=1) instead. To get a de-fragmented frame, use `newframe = frame.copy()`\n",
      "  df[new_col_name] = data\n",
      "C:\\Users\\phgil\\AppData\\Local\\Temp\\ipykernel_2308\\3488968663.py:39: PerformanceWarning: DataFrame is highly fragmented.  This is usually the result of calling `frame.insert` many times, which has poor performance.  Consider joining all columns at once using pd.concat(axis=1) instead. To get a de-fragmented frame, use `newframe = frame.copy()`\n",
      "  df[new_col_name] = data\n",
      "C:\\Users\\phgil\\AppData\\Local\\Temp\\ipykernel_2308\\3488968663.py:39: PerformanceWarning: DataFrame is highly fragmented.  This is usually the result of calling `frame.insert` many times, which has poor performance.  Consider joining all columns at once using pd.concat(axis=1) instead. To get a de-fragmented frame, use `newframe = frame.copy()`\n",
      "  df[new_col_name] = data\n",
      "C:\\Users\\phgil\\AppData\\Local\\Temp\\ipykernel_2308\\3488968663.py:39: PerformanceWarning: DataFrame is highly fragmented.  This is usually the result of calling `frame.insert` many times, which has poor performance.  Consider joining all columns at once using pd.concat(axis=1) instead. To get a de-fragmented frame, use `newframe = frame.copy()`\n",
      "  df[new_col_name] = data\n",
      "Expanding awkward array columns:  45%|████▌     | 25/55 [09:19<11:24, 22.82s/it]"
     ]
    },
    {
     "name": "stdout",
     "output_type": "stream",
     "text": [
      "  Time taken to expand photon_pt: 21.56 seconds.\n",
      "\n",
      "Processing column: photon_eta\n",
      "  Maximum length of lists in photon_eta: 5\n"
     ]
    },
    {
     "name": "stderr",
     "output_type": "stream",
     "text": [
      "C:\\Users\\phgil\\AppData\\Local\\Temp\\ipykernel_2308\\3488968663.py:39: PerformanceWarning: DataFrame is highly fragmented.  This is usually the result of calling `frame.insert` many times, which has poor performance.  Consider joining all columns at once using pd.concat(axis=1) instead. To get a de-fragmented frame, use `newframe = frame.copy()`\n",
      "  df[new_col_name] = data\n",
      "C:\\Users\\phgil\\AppData\\Local\\Temp\\ipykernel_2308\\3488968663.py:39: PerformanceWarning: DataFrame is highly fragmented.  This is usually the result of calling `frame.insert` many times, which has poor performance.  Consider joining all columns at once using pd.concat(axis=1) instead. To get a de-fragmented frame, use `newframe = frame.copy()`\n",
      "  df[new_col_name] = data\n",
      "C:\\Users\\phgil\\AppData\\Local\\Temp\\ipykernel_2308\\3488968663.py:39: PerformanceWarning: DataFrame is highly fragmented.  This is usually the result of calling `frame.insert` many times, which has poor performance.  Consider joining all columns at once using pd.concat(axis=1) instead. To get a de-fragmented frame, use `newframe = frame.copy()`\n",
      "  df[new_col_name] = data\n",
      "C:\\Users\\phgil\\AppData\\Local\\Temp\\ipykernel_2308\\3488968663.py:39: PerformanceWarning: DataFrame is highly fragmented.  This is usually the result of calling `frame.insert` many times, which has poor performance.  Consider joining all columns at once using pd.concat(axis=1) instead. To get a de-fragmented frame, use `newframe = frame.copy()`\n",
      "  df[new_col_name] = data\n",
      "C:\\Users\\phgil\\AppData\\Local\\Temp\\ipykernel_2308\\3488968663.py:39: PerformanceWarning: DataFrame is highly fragmented.  This is usually the result of calling `frame.insert` many times, which has poor performance.  Consider joining all columns at once using pd.concat(axis=1) instead. To get a de-fragmented frame, use `newframe = frame.copy()`\n",
      "  df[new_col_name] = data\n",
      "Expanding awkward array columns:  47%|████▋     | 26/55 [09:41<10:55, 22.59s/it]"
     ]
    },
    {
     "name": "stdout",
     "output_type": "stream",
     "text": [
      "  Time taken to expand photon_eta: 22.06 seconds.\n",
      "\n",
      "Processing column: photon_phi\n",
      "  Maximum length of lists in photon_phi: 5\n"
     ]
    },
    {
     "name": "stderr",
     "output_type": "stream",
     "text": [
      "C:\\Users\\phgil\\AppData\\Local\\Temp\\ipykernel_2308\\3488968663.py:39: PerformanceWarning: DataFrame is highly fragmented.  This is usually the result of calling `frame.insert` many times, which has poor performance.  Consider joining all columns at once using pd.concat(axis=1) instead. To get a de-fragmented frame, use `newframe = frame.copy()`\n",
      "  df[new_col_name] = data\n",
      "C:\\Users\\phgil\\AppData\\Local\\Temp\\ipykernel_2308\\3488968663.py:39: PerformanceWarning: DataFrame is highly fragmented.  This is usually the result of calling `frame.insert` many times, which has poor performance.  Consider joining all columns at once using pd.concat(axis=1) instead. To get a de-fragmented frame, use `newframe = frame.copy()`\n",
      "  df[new_col_name] = data\n",
      "C:\\Users\\phgil\\AppData\\Local\\Temp\\ipykernel_2308\\3488968663.py:39: PerformanceWarning: DataFrame is highly fragmented.  This is usually the result of calling `frame.insert` many times, which has poor performance.  Consider joining all columns at once using pd.concat(axis=1) instead. To get a de-fragmented frame, use `newframe = frame.copy()`\n",
      "  df[new_col_name] = data\n",
      "C:\\Users\\phgil\\AppData\\Local\\Temp\\ipykernel_2308\\3488968663.py:39: PerformanceWarning: DataFrame is highly fragmented.  This is usually the result of calling `frame.insert` many times, which has poor performance.  Consider joining all columns at once using pd.concat(axis=1) instead. To get a de-fragmented frame, use `newframe = frame.copy()`\n",
      "  df[new_col_name] = data\n",
      "C:\\Users\\phgil\\AppData\\Local\\Temp\\ipykernel_2308\\3488968663.py:39: PerformanceWarning: DataFrame is highly fragmented.  This is usually the result of calling `frame.insert` many times, which has poor performance.  Consider joining all columns at once using pd.concat(axis=1) instead. To get a de-fragmented frame, use `newframe = frame.copy()`\n",
      "  df[new_col_name] = data\n",
      "Expanding awkward array columns:  49%|████▉     | 27/55 [10:03<10:24, 22.32s/it]"
     ]
    },
    {
     "name": "stdout",
     "output_type": "stream",
     "text": [
      "  Time taken to expand photon_phi: 21.68 seconds.\n",
      "\n",
      "Processing column: photon_E\n",
      "  Maximum length of lists in photon_E: 5\n"
     ]
    },
    {
     "name": "stderr",
     "output_type": "stream",
     "text": [
      "C:\\Users\\phgil\\AppData\\Local\\Temp\\ipykernel_2308\\3488968663.py:39: PerformanceWarning: DataFrame is highly fragmented.  This is usually the result of calling `frame.insert` many times, which has poor performance.  Consider joining all columns at once using pd.concat(axis=1) instead. To get a de-fragmented frame, use `newframe = frame.copy()`\n",
      "  df[new_col_name] = data\n",
      "C:\\Users\\phgil\\AppData\\Local\\Temp\\ipykernel_2308\\3488968663.py:39: PerformanceWarning: DataFrame is highly fragmented.  This is usually the result of calling `frame.insert` many times, which has poor performance.  Consider joining all columns at once using pd.concat(axis=1) instead. To get a de-fragmented frame, use `newframe = frame.copy()`\n",
      "  df[new_col_name] = data\n",
      "C:\\Users\\phgil\\AppData\\Local\\Temp\\ipykernel_2308\\3488968663.py:39: PerformanceWarning: DataFrame is highly fragmented.  This is usually the result of calling `frame.insert` many times, which has poor performance.  Consider joining all columns at once using pd.concat(axis=1) instead. To get a de-fragmented frame, use `newframe = frame.copy()`\n",
      "  df[new_col_name] = data\n",
      "C:\\Users\\phgil\\AppData\\Local\\Temp\\ipykernel_2308\\3488968663.py:39: PerformanceWarning: DataFrame is highly fragmented.  This is usually the result of calling `frame.insert` many times, which has poor performance.  Consider joining all columns at once using pd.concat(axis=1) instead. To get a de-fragmented frame, use `newframe = frame.copy()`\n",
      "  df[new_col_name] = data\n",
      "C:\\Users\\phgil\\AppData\\Local\\Temp\\ipykernel_2308\\3488968663.py:39: PerformanceWarning: DataFrame is highly fragmented.  This is usually the result of calling `frame.insert` many times, which has poor performance.  Consider joining all columns at once using pd.concat(axis=1) instead. To get a de-fragmented frame, use `newframe = frame.copy()`\n",
      "  df[new_col_name] = data\n",
      "Expanding awkward array columns:  51%|█████     | 28/55 [10:25<10:07, 22.48s/it]"
     ]
    },
    {
     "name": "stdout",
     "output_type": "stream",
     "text": [
      "  Time taken to expand photon_E: 22.86 seconds.\n",
      "\n",
      "Processing column: photon_isTightID\n",
      "  Maximum length of lists in photon_isTightID: 5\n"
     ]
    },
    {
     "name": "stderr",
     "output_type": "stream",
     "text": [
      "C:\\Users\\phgil\\AppData\\Local\\Temp\\ipykernel_2308\\3488968663.py:39: PerformanceWarning: DataFrame is highly fragmented.  This is usually the result of calling `frame.insert` many times, which has poor performance.  Consider joining all columns at once using pd.concat(axis=1) instead. To get a de-fragmented frame, use `newframe = frame.copy()`\n",
      "  df[new_col_name] = data\n",
      "C:\\Users\\phgil\\AppData\\Local\\Temp\\ipykernel_2308\\3488968663.py:39: PerformanceWarning: DataFrame is highly fragmented.  This is usually the result of calling `frame.insert` many times, which has poor performance.  Consider joining all columns at once using pd.concat(axis=1) instead. To get a de-fragmented frame, use `newframe = frame.copy()`\n",
      "  df[new_col_name] = data\n",
      "C:\\Users\\phgil\\AppData\\Local\\Temp\\ipykernel_2308\\3488968663.py:39: PerformanceWarning: DataFrame is highly fragmented.  This is usually the result of calling `frame.insert` many times, which has poor performance.  Consider joining all columns at once using pd.concat(axis=1) instead. To get a de-fragmented frame, use `newframe = frame.copy()`\n",
      "  df[new_col_name] = data\n",
      "C:\\Users\\phgil\\AppData\\Local\\Temp\\ipykernel_2308\\3488968663.py:39: PerformanceWarning: DataFrame is highly fragmented.  This is usually the result of calling `frame.insert` many times, which has poor performance.  Consider joining all columns at once using pd.concat(axis=1) instead. To get a de-fragmented frame, use `newframe = frame.copy()`\n",
      "  df[new_col_name] = data\n",
      "C:\\Users\\phgil\\AppData\\Local\\Temp\\ipykernel_2308\\3488968663.py:39: PerformanceWarning: DataFrame is highly fragmented.  This is usually the result of calling `frame.insert` many times, which has poor performance.  Consider joining all columns at once using pd.concat(axis=1) instead. To get a de-fragmented frame, use `newframe = frame.copy()`\n",
      "  df[new_col_name] = data\n",
      "Expanding awkward array columns:  53%|█████▎    | 29/55 [10:47<09:38, 22.24s/it]"
     ]
    },
    {
     "name": "stdout",
     "output_type": "stream",
     "text": [
      "  Time taken to expand photon_isTightID: 21.68 seconds.\n",
      "\n",
      "Processing column: photon_ptcone30\n",
      "  Maximum length of lists in photon_ptcone30: 5\n"
     ]
    },
    {
     "name": "stderr",
     "output_type": "stream",
     "text": [
      "C:\\Users\\phgil\\AppData\\Local\\Temp\\ipykernel_2308\\3488968663.py:39: PerformanceWarning: DataFrame is highly fragmented.  This is usually the result of calling `frame.insert` many times, which has poor performance.  Consider joining all columns at once using pd.concat(axis=1) instead. To get a de-fragmented frame, use `newframe = frame.copy()`\n",
      "  df[new_col_name] = data\n",
      "C:\\Users\\phgil\\AppData\\Local\\Temp\\ipykernel_2308\\3488968663.py:39: PerformanceWarning: DataFrame is highly fragmented.  This is usually the result of calling `frame.insert` many times, which has poor performance.  Consider joining all columns at once using pd.concat(axis=1) instead. To get a de-fragmented frame, use `newframe = frame.copy()`\n",
      "  df[new_col_name] = data\n",
      "C:\\Users\\phgil\\AppData\\Local\\Temp\\ipykernel_2308\\3488968663.py:39: PerformanceWarning: DataFrame is highly fragmented.  This is usually the result of calling `frame.insert` many times, which has poor performance.  Consider joining all columns at once using pd.concat(axis=1) instead. To get a de-fragmented frame, use `newframe = frame.copy()`\n",
      "  df[new_col_name] = data\n",
      "C:\\Users\\phgil\\AppData\\Local\\Temp\\ipykernel_2308\\3488968663.py:39: PerformanceWarning: DataFrame is highly fragmented.  This is usually the result of calling `frame.insert` many times, which has poor performance.  Consider joining all columns at once using pd.concat(axis=1) instead. To get a de-fragmented frame, use `newframe = frame.copy()`\n",
      "  df[new_col_name] = data\n",
      "C:\\Users\\phgil\\AppData\\Local\\Temp\\ipykernel_2308\\3488968663.py:39: PerformanceWarning: DataFrame is highly fragmented.  This is usually the result of calling `frame.insert` many times, which has poor performance.  Consider joining all columns at once using pd.concat(axis=1) instead. To get a de-fragmented frame, use `newframe = frame.copy()`\n",
      "  df[new_col_name] = data\n",
      "Expanding awkward array columns:  55%|█████▍    | 30/55 [11:09<09:14, 22.17s/it]"
     ]
    },
    {
     "name": "stdout",
     "output_type": "stream",
     "text": [
      "  Time taken to expand photon_ptcone30: 22.00 seconds.\n",
      "\n",
      "Processing column: photon_etcone20\n",
      "  Maximum length of lists in photon_etcone20: 5\n"
     ]
    },
    {
     "name": "stderr",
     "output_type": "stream",
     "text": [
      "C:\\Users\\phgil\\AppData\\Local\\Temp\\ipykernel_2308\\3488968663.py:39: PerformanceWarning: DataFrame is highly fragmented.  This is usually the result of calling `frame.insert` many times, which has poor performance.  Consider joining all columns at once using pd.concat(axis=1) instead. To get a de-fragmented frame, use `newframe = frame.copy()`\n",
      "  df[new_col_name] = data\n",
      "C:\\Users\\phgil\\AppData\\Local\\Temp\\ipykernel_2308\\3488968663.py:39: PerformanceWarning: DataFrame is highly fragmented.  This is usually the result of calling `frame.insert` many times, which has poor performance.  Consider joining all columns at once using pd.concat(axis=1) instead. To get a de-fragmented frame, use `newframe = frame.copy()`\n",
      "  df[new_col_name] = data\n",
      "C:\\Users\\phgil\\AppData\\Local\\Temp\\ipykernel_2308\\3488968663.py:39: PerformanceWarning: DataFrame is highly fragmented.  This is usually the result of calling `frame.insert` many times, which has poor performance.  Consider joining all columns at once using pd.concat(axis=1) instead. To get a de-fragmented frame, use `newframe = frame.copy()`\n",
      "  df[new_col_name] = data\n",
      "C:\\Users\\phgil\\AppData\\Local\\Temp\\ipykernel_2308\\3488968663.py:39: PerformanceWarning: DataFrame is highly fragmented.  This is usually the result of calling `frame.insert` many times, which has poor performance.  Consider joining all columns at once using pd.concat(axis=1) instead. To get a de-fragmented frame, use `newframe = frame.copy()`\n",
      "  df[new_col_name] = data\n",
      "C:\\Users\\phgil\\AppData\\Local\\Temp\\ipykernel_2308\\3488968663.py:39: PerformanceWarning: DataFrame is highly fragmented.  This is usually the result of calling `frame.insert` many times, which has poor performance.  Consider joining all columns at once using pd.concat(axis=1) instead. To get a de-fragmented frame, use `newframe = frame.copy()`\n",
      "  df[new_col_name] = data\n",
      "Expanding awkward array columns:  56%|█████▋    | 31/55 [11:31<08:46, 21.94s/it]"
     ]
    },
    {
     "name": "stdout",
     "output_type": "stream",
     "text": [
      "  Time taken to expand photon_etcone20: 21.41 seconds.\n",
      "\n",
      "Processing column: photon_convType\n",
      "  Maximum length of lists in photon_convType: 5\n"
     ]
    },
    {
     "name": "stderr",
     "output_type": "stream",
     "text": [
      "C:\\Users\\phgil\\AppData\\Local\\Temp\\ipykernel_2308\\3488968663.py:39: PerformanceWarning: DataFrame is highly fragmented.  This is usually the result of calling `frame.insert` many times, which has poor performance.  Consider joining all columns at once using pd.concat(axis=1) instead. To get a de-fragmented frame, use `newframe = frame.copy()`\n",
      "  df[new_col_name] = data\n",
      "C:\\Users\\phgil\\AppData\\Local\\Temp\\ipykernel_2308\\3488968663.py:39: PerformanceWarning: DataFrame is highly fragmented.  This is usually the result of calling `frame.insert` many times, which has poor performance.  Consider joining all columns at once using pd.concat(axis=1) instead. To get a de-fragmented frame, use `newframe = frame.copy()`\n",
      "  df[new_col_name] = data\n",
      "C:\\Users\\phgil\\AppData\\Local\\Temp\\ipykernel_2308\\3488968663.py:39: PerformanceWarning: DataFrame is highly fragmented.  This is usually the result of calling `frame.insert` many times, which has poor performance.  Consider joining all columns at once using pd.concat(axis=1) instead. To get a de-fragmented frame, use `newframe = frame.copy()`\n",
      "  df[new_col_name] = data\n",
      "C:\\Users\\phgil\\AppData\\Local\\Temp\\ipykernel_2308\\3488968663.py:39: PerformanceWarning: DataFrame is highly fragmented.  This is usually the result of calling `frame.insert` many times, which has poor performance.  Consider joining all columns at once using pd.concat(axis=1) instead. To get a de-fragmented frame, use `newframe = frame.copy()`\n",
      "  df[new_col_name] = data\n",
      "C:\\Users\\phgil\\AppData\\Local\\Temp\\ipykernel_2308\\3488968663.py:39: PerformanceWarning: DataFrame is highly fragmented.  This is usually the result of calling `frame.insert` many times, which has poor performance.  Consider joining all columns at once using pd.concat(axis=1) instead. To get a de-fragmented frame, use `newframe = frame.copy()`\n",
      "  df[new_col_name] = data\n",
      "Expanding awkward array columns:  58%|█████▊    | 32/55 [11:53<08:26, 22.02s/it]"
     ]
    },
    {
     "name": "stdout",
     "output_type": "stream",
     "text": [
      "  Time taken to expand photon_convType: 22.22 seconds.\n",
      "\n",
      "Processing column: tau_pt\n",
      "  Maximum length of lists in tau_pt: 0\n"
     ]
    },
    {
     "name": "stderr",
     "output_type": "stream",
     "text": [
      "Expanding awkward array columns:  60%|██████    | 33/55 [12:10<07:33, 20.61s/it]"
     ]
    },
    {
     "name": "stdout",
     "output_type": "stream",
     "text": [
      "  Time taken to expand tau_pt: 17.31 seconds.\n",
      "\n",
      "Processing column: tau_eta\n",
      "  Maximum length of lists in tau_eta: 0\n"
     ]
    },
    {
     "name": "stderr",
     "output_type": "stream",
     "text": [
      "Expanding awkward array columns:  62%|██████▏   | 34/55 [12:30<07:06, 20.30s/it]"
     ]
    },
    {
     "name": "stdout",
     "output_type": "stream",
     "text": [
      "  Time taken to expand tau_eta: 19.58 seconds.\n",
      "\n",
      "Processing column: tau_phi\n",
      "  Maximum length of lists in tau_phi: 0\n"
     ]
    },
    {
     "name": "stderr",
     "output_type": "stream",
     "text": [
      "Expanding awkward array columns:  64%|██████▎   | 35/55 [12:47<06:27, 19.39s/it]"
     ]
    },
    {
     "name": "stdout",
     "output_type": "stream",
     "text": [
      "  Time taken to expand tau_phi: 17.25 seconds.\n",
      "\n",
      "Processing column: tau_E\n",
      "  Maximum length of lists in tau_E: 0\n"
     ]
    },
    {
     "name": "stderr",
     "output_type": "stream",
     "text": [
      "Expanding awkward array columns:  65%|██████▌   | 36/55 [13:06<06:05, 19.25s/it]"
     ]
    },
    {
     "name": "stdout",
     "output_type": "stream",
     "text": [
      "  Time taken to expand tau_E: 18.93 seconds.\n",
      "\n",
      "Processing column: tau_isTightID\n",
      "  Maximum length of lists in tau_isTightID: 0\n"
     ]
    },
    {
     "name": "stderr",
     "output_type": "stream",
     "text": [
      "Expanding awkward array columns:  67%|██████▋   | 37/55 [13:23<05:34, 18.58s/it]"
     ]
    },
    {
     "name": "stdout",
     "output_type": "stream",
     "text": [
      "  Time taken to expand tau_isTightID: 17.03 seconds.\n",
      "\n",
      "Processing column: tau_truthMatched\n",
      "  Maximum length of lists in tau_truthMatched: 0\n"
     ]
    },
    {
     "name": "stderr",
     "output_type": "stream",
     "text": [
      "Expanding awkward array columns:  69%|██████▉   | 38/55 [13:40<05:07, 18.09s/it]"
     ]
    },
    {
     "name": "stdout",
     "output_type": "stream",
     "text": [
      "  Time taken to expand tau_truthMatched: 16.95 seconds.\n",
      "\n",
      "Processing column: tau_trigMatched\n",
      "  Maximum length of lists in tau_trigMatched: 0\n"
     ]
    },
    {
     "name": "stderr",
     "output_type": "stream",
     "text": [
      "Expanding awkward array columns:  71%|███████   | 39/55 [13:57<04:44, 17.78s/it]"
     ]
    },
    {
     "name": "stdout",
     "output_type": "stream",
     "text": [
      "  Time taken to expand tau_trigMatched: 17.05 seconds.\n",
      "\n",
      "Processing column: tau_nTracks\n",
      "  Maximum length of lists in tau_nTracks: 0\n"
     ]
    },
    {
     "name": "stderr",
     "output_type": "stream",
     "text": [
      "Expanding awkward array columns:  73%|███████▎  | 40/55 [14:14<04:24, 17.63s/it]"
     ]
    },
    {
     "name": "stdout",
     "output_type": "stream",
     "text": [
      "  Time taken to expand tau_nTracks: 17.29 seconds.\n",
      "\n",
      "Processing column: tau_BDTid\n",
      "  Maximum length of lists in tau_BDTid: 0\n"
     ]
    },
    {
     "name": "stderr",
     "output_type": "stream",
     "text": [
      "Expanding awkward array columns:  75%|███████▍  | 41/55 [14:31<04:03, 17.42s/it]"
     ]
    },
    {
     "name": "stdout",
     "output_type": "stream",
     "text": [
      "  Time taken to expand tau_BDTid: 16.93 seconds.\n",
      "\n",
      "Processing column: lep_pt_syst\n",
      "  Maximum length of lists in lep_pt_syst: 4\n"
     ]
    },
    {
     "name": "stderr",
     "output_type": "stream",
     "text": [
      "C:\\Users\\phgil\\AppData\\Local\\Temp\\ipykernel_2308\\3488968663.py:39: PerformanceWarning: DataFrame is highly fragmented.  This is usually the result of calling `frame.insert` many times, which has poor performance.  Consider joining all columns at once using pd.concat(axis=1) instead. To get a de-fragmented frame, use `newframe = frame.copy()`\n",
      "  df[new_col_name] = data\n",
      "C:\\Users\\phgil\\AppData\\Local\\Temp\\ipykernel_2308\\3488968663.py:39: PerformanceWarning: DataFrame is highly fragmented.  This is usually the result of calling `frame.insert` many times, which has poor performance.  Consider joining all columns at once using pd.concat(axis=1) instead. To get a de-fragmented frame, use `newframe = frame.copy()`\n",
      "  df[new_col_name] = data\n",
      "C:\\Users\\phgil\\AppData\\Local\\Temp\\ipykernel_2308\\3488968663.py:39: PerformanceWarning: DataFrame is highly fragmented.  This is usually the result of calling `frame.insert` many times, which has poor performance.  Consider joining all columns at once using pd.concat(axis=1) instead. To get a de-fragmented frame, use `newframe = frame.copy()`\n",
      "  df[new_col_name] = data\n",
      "C:\\Users\\phgil\\AppData\\Local\\Temp\\ipykernel_2308\\3488968663.py:39: PerformanceWarning: DataFrame is highly fragmented.  This is usually the result of calling `frame.insert` many times, which has poor performance.  Consider joining all columns at once using pd.concat(axis=1) instead. To get a de-fragmented frame, use `newframe = frame.copy()`\n",
      "  df[new_col_name] = data\n",
      "Expanding awkward array columns:  76%|███████▋  | 42/55 [14:52<04:01, 18.54s/it]"
     ]
    },
    {
     "name": "stdout",
     "output_type": "stream",
     "text": [
      "  Time taken to expand lep_pt_syst: 21.15 seconds.\n",
      "\n",
      "Processing column: jet_pt_syst\n",
      "  Maximum length of lists in jet_pt_syst: 16\n"
     ]
    },
    {
     "name": "stderr",
     "output_type": "stream",
     "text": [
      "C:\\Users\\phgil\\AppData\\Local\\Temp\\ipykernel_2308\\3488968663.py:39: PerformanceWarning: DataFrame is highly fragmented.  This is usually the result of calling `frame.insert` many times, which has poor performance.  Consider joining all columns at once using pd.concat(axis=1) instead. To get a de-fragmented frame, use `newframe = frame.copy()`\n",
      "  df[new_col_name] = data\n",
      "C:\\Users\\phgil\\AppData\\Local\\Temp\\ipykernel_2308\\3488968663.py:39: PerformanceWarning: DataFrame is highly fragmented.  This is usually the result of calling `frame.insert` many times, which has poor performance.  Consider joining all columns at once using pd.concat(axis=1) instead. To get a de-fragmented frame, use `newframe = frame.copy()`\n",
      "  df[new_col_name] = data\n",
      "C:\\Users\\phgil\\AppData\\Local\\Temp\\ipykernel_2308\\3488968663.py:39: PerformanceWarning: DataFrame is highly fragmented.  This is usually the result of calling `frame.insert` many times, which has poor performance.  Consider joining all columns at once using pd.concat(axis=1) instead. To get a de-fragmented frame, use `newframe = frame.copy()`\n",
      "  df[new_col_name] = data\n",
      "C:\\Users\\phgil\\AppData\\Local\\Temp\\ipykernel_2308\\3488968663.py:39: PerformanceWarning: DataFrame is highly fragmented.  This is usually the result of calling `frame.insert` many times, which has poor performance.  Consider joining all columns at once using pd.concat(axis=1) instead. To get a de-fragmented frame, use `newframe = frame.copy()`\n",
      "  df[new_col_name] = data\n",
      "C:\\Users\\phgil\\AppData\\Local\\Temp\\ipykernel_2308\\3488968663.py:39: PerformanceWarning: DataFrame is highly fragmented.  This is usually the result of calling `frame.insert` many times, which has poor performance.  Consider joining all columns at once using pd.concat(axis=1) instead. To get a de-fragmented frame, use `newframe = frame.copy()`\n",
      "  df[new_col_name] = data\n",
      "C:\\Users\\phgil\\AppData\\Local\\Temp\\ipykernel_2308\\3488968663.py:39: PerformanceWarning: DataFrame is highly fragmented.  This is usually the result of calling `frame.insert` many times, which has poor performance.  Consider joining all columns at once using pd.concat(axis=1) instead. To get a de-fragmented frame, use `newframe = frame.copy()`\n",
      "  df[new_col_name] = data\n",
      "C:\\Users\\phgil\\AppData\\Local\\Temp\\ipykernel_2308\\3488968663.py:39: PerformanceWarning: DataFrame is highly fragmented.  This is usually the result of calling `frame.insert` many times, which has poor performance.  Consider joining all columns at once using pd.concat(axis=1) instead. To get a de-fragmented frame, use `newframe = frame.copy()`\n",
      "  df[new_col_name] = data\n",
      "C:\\Users\\phgil\\AppData\\Local\\Temp\\ipykernel_2308\\3488968663.py:39: PerformanceWarning: DataFrame is highly fragmented.  This is usually the result of calling `frame.insert` many times, which has poor performance.  Consider joining all columns at once using pd.concat(axis=1) instead. To get a de-fragmented frame, use `newframe = frame.copy()`\n",
      "  df[new_col_name] = data\n",
      "C:\\Users\\phgil\\AppData\\Local\\Temp\\ipykernel_2308\\3488968663.py:39: PerformanceWarning: DataFrame is highly fragmented.  This is usually the result of calling `frame.insert` many times, which has poor performance.  Consider joining all columns at once using pd.concat(axis=1) instead. To get a de-fragmented frame, use `newframe = frame.copy()`\n",
      "  df[new_col_name] = data\n",
      "C:\\Users\\phgil\\AppData\\Local\\Temp\\ipykernel_2308\\3488968663.py:39: PerformanceWarning: DataFrame is highly fragmented.  This is usually the result of calling `frame.insert` many times, which has poor performance.  Consider joining all columns at once using pd.concat(axis=1) instead. To get a de-fragmented frame, use `newframe = frame.copy()`\n",
      "  df[new_col_name] = data\n",
      "C:\\Users\\phgil\\AppData\\Local\\Temp\\ipykernel_2308\\3488968663.py:39: PerformanceWarning: DataFrame is highly fragmented.  This is usually the result of calling `frame.insert` many times, which has poor performance.  Consider joining all columns at once using pd.concat(axis=1) instead. To get a de-fragmented frame, use `newframe = frame.copy()`\n",
      "  df[new_col_name] = data\n",
      "C:\\Users\\phgil\\AppData\\Local\\Temp\\ipykernel_2308\\3488968663.py:39: PerformanceWarning: DataFrame is highly fragmented.  This is usually the result of calling `frame.insert` many times, which has poor performance.  Consider joining all columns at once using pd.concat(axis=1) instead. To get a de-fragmented frame, use `newframe = frame.copy()`\n",
      "  df[new_col_name] = data\n",
      "C:\\Users\\phgil\\AppData\\Local\\Temp\\ipykernel_2308\\3488968663.py:39: PerformanceWarning: DataFrame is highly fragmented.  This is usually the result of calling `frame.insert` many times, which has poor performance.  Consider joining all columns at once using pd.concat(axis=1) instead. To get a de-fragmented frame, use `newframe = frame.copy()`\n",
      "  df[new_col_name] = data\n",
      "C:\\Users\\phgil\\AppData\\Local\\Temp\\ipykernel_2308\\3488968663.py:39: PerformanceWarning: DataFrame is highly fragmented.  This is usually the result of calling `frame.insert` many times, which has poor performance.  Consider joining all columns at once using pd.concat(axis=1) instead. To get a de-fragmented frame, use `newframe = frame.copy()`\n",
      "  df[new_col_name] = data\n",
      "C:\\Users\\phgil\\AppData\\Local\\Temp\\ipykernel_2308\\3488968663.py:39: PerformanceWarning: DataFrame is highly fragmented.  This is usually the result of calling `frame.insert` many times, which has poor performance.  Consider joining all columns at once using pd.concat(axis=1) instead. To get a de-fragmented frame, use `newframe = frame.copy()`\n",
      "  df[new_col_name] = data\n",
      "C:\\Users\\phgil\\AppData\\Local\\Temp\\ipykernel_2308\\3488968663.py:39: PerformanceWarning: DataFrame is highly fragmented.  This is usually the result of calling `frame.insert` many times, which has poor performance.  Consider joining all columns at once using pd.concat(axis=1) instead. To get a de-fragmented frame, use `newframe = frame.copy()`\n",
      "  df[new_col_name] = data\n",
      "Expanding awkward array columns:  78%|███████▊  | 43/55 [15:17<04:03, 20.26s/it]"
     ]
    },
    {
     "name": "stdout",
     "output_type": "stream",
     "text": [
      "  Time taken to expand jet_pt_syst: 24.27 seconds.\n",
      "\n",
      "Processing column: photon_pt_syst\n",
      "  Maximum length of lists in photon_pt_syst: 5\n"
     ]
    },
    {
     "name": "stderr",
     "output_type": "stream",
     "text": [
      "C:\\Users\\phgil\\AppData\\Local\\Temp\\ipykernel_2308\\3488968663.py:39: PerformanceWarning: DataFrame is highly fragmented.  This is usually the result of calling `frame.insert` many times, which has poor performance.  Consider joining all columns at once using pd.concat(axis=1) instead. To get a de-fragmented frame, use `newframe = frame.copy()`\n",
      "  df[new_col_name] = data\n",
      "C:\\Users\\phgil\\AppData\\Local\\Temp\\ipykernel_2308\\3488968663.py:39: PerformanceWarning: DataFrame is highly fragmented.  This is usually the result of calling `frame.insert` many times, which has poor performance.  Consider joining all columns at once using pd.concat(axis=1) instead. To get a de-fragmented frame, use `newframe = frame.copy()`\n",
      "  df[new_col_name] = data\n",
      "C:\\Users\\phgil\\AppData\\Local\\Temp\\ipykernel_2308\\3488968663.py:39: PerformanceWarning: DataFrame is highly fragmented.  This is usually the result of calling `frame.insert` many times, which has poor performance.  Consider joining all columns at once using pd.concat(axis=1) instead. To get a de-fragmented frame, use `newframe = frame.copy()`\n",
      "  df[new_col_name] = data\n",
      "C:\\Users\\phgil\\AppData\\Local\\Temp\\ipykernel_2308\\3488968663.py:39: PerformanceWarning: DataFrame is highly fragmented.  This is usually the result of calling `frame.insert` many times, which has poor performance.  Consider joining all columns at once using pd.concat(axis=1) instead. To get a de-fragmented frame, use `newframe = frame.copy()`\n",
      "  df[new_col_name] = data\n",
      "C:\\Users\\phgil\\AppData\\Local\\Temp\\ipykernel_2308\\3488968663.py:39: PerformanceWarning: DataFrame is highly fragmented.  This is usually the result of calling `frame.insert` many times, which has poor performance.  Consider joining all columns at once using pd.concat(axis=1) instead. To get a de-fragmented frame, use `newframe = frame.copy()`\n",
      "  df[new_col_name] = data\n",
      "Expanding awkward array columns:  80%|████████  | 44/55 [15:38<03:48, 20.76s/it]"
     ]
    },
    {
     "name": "stdout",
     "output_type": "stream",
     "text": [
      "  Time taken to expand photon_pt_syst: 21.92 seconds.\n",
      "\n",
      "Processing column: tau_pt_syst\n",
      "  Maximum length of lists in tau_pt_syst: 0\n"
     ]
    },
    {
     "name": "stderr",
     "output_type": "stream",
     "text": [
      "Expanding awkward array columns:  82%|████████▏ | 45/55 [15:57<03:21, 20.14s/it]"
     ]
    },
    {
     "name": "stdout",
     "output_type": "stream",
     "text": [
      "  Time taken to expand tau_pt_syst: 18.69 seconds.\n",
      "\n",
      "Processing column: largeRjet_pt\n",
      "  Maximum length of lists in largeRjet_pt: 0\n"
     ]
    },
    {
     "name": "stderr",
     "output_type": "stream",
     "text": [
      "Expanding awkward array columns:  84%|████████▎ | 46/55 [16:15<02:55, 19.48s/it]"
     ]
    },
    {
     "name": "stdout",
     "output_type": "stream",
     "text": [
      "  Time taken to expand largeRjet_pt: 17.94 seconds.\n",
      "\n",
      "Processing column: largeRjet_eta\n",
      "  Maximum length of lists in largeRjet_eta: 0\n"
     ]
    },
    {
     "name": "stderr",
     "output_type": "stream",
     "text": [
      "Expanding awkward array columns:  85%|████████▌ | 47/55 [16:33<02:31, 18.98s/it]"
     ]
    },
    {
     "name": "stdout",
     "output_type": "stream",
     "text": [
      "  Time taken to expand largeRjet_eta: 17.83 seconds.\n",
      "\n",
      "Processing column: largeRjet_phi\n",
      "  Maximum length of lists in largeRjet_phi: 0\n"
     ]
    },
    {
     "name": "stderr",
     "output_type": "stream",
     "text": [
      "Expanding awkward array columns:  87%|████████▋ | 48/55 [16:51<02:11, 18.79s/it]"
     ]
    },
    {
     "name": "stdout",
     "output_type": "stream",
     "text": [
      "  Time taken to expand largeRjet_phi: 18.35 seconds.\n",
      "\n",
      "Processing column: largeRjet_E\n",
      "  Maximum length of lists in largeRjet_E: 0\n"
     ]
    },
    {
     "name": "stderr",
     "output_type": "stream",
     "text": [
      "Expanding awkward array columns:  89%|████████▉ | 49/55 [17:10<01:53, 18.87s/it]"
     ]
    },
    {
     "name": "stdout",
     "output_type": "stream",
     "text": [
      "  Time taken to expand largeRjet_E: 19.04 seconds.\n",
      "\n",
      "Processing column: largeRjet_m\n",
      "  Maximum length of lists in largeRjet_m: 0\n"
     ]
    },
    {
     "name": "stderr",
     "output_type": "stream",
     "text": [
      "Expanding awkward array columns:  91%|█████████ | 50/55 [17:27<01:31, 18.32s/it]"
     ]
    },
    {
     "name": "stdout",
     "output_type": "stream",
     "text": [
      "  Time taken to expand largeRjet_m: 17.04 seconds.\n",
      "\n",
      "Processing column: largeRjet_truthMatched\n",
      "  Maximum length of lists in largeRjet_truthMatched: 0\n"
     ]
    },
    {
     "name": "stderr",
     "output_type": "stream",
     "text": [
      "Expanding awkward array columns:  93%|█████████▎| 51/55 [17:45<01:12, 18.21s/it]"
     ]
    },
    {
     "name": "stdout",
     "output_type": "stream",
     "text": [
      "  Time taken to expand largeRjet_truthMatched: 17.95 seconds.\n",
      "\n",
      "Processing column: largeRjet_D2\n",
      "  Maximum length of lists in largeRjet_D2: 0\n"
     ]
    },
    {
     "name": "stderr",
     "output_type": "stream",
     "text": [
      "Expanding awkward array columns:  95%|█████████▍| 52/55 [18:03<00:53, 17.92s/it]"
     ]
    },
    {
     "name": "stdout",
     "output_type": "stream",
     "text": [
      "  Time taken to expand largeRjet_D2: 17.24 seconds.\n",
      "\n",
      "Processing column: largeRjet_tau32\n",
      "  Maximum length of lists in largeRjet_tau32: 0\n"
     ]
    },
    {
     "name": "stderr",
     "output_type": "stream",
     "text": [
      "Expanding awkward array columns:  96%|█████████▋| 53/55 [18:20<00:35, 17.86s/it]"
     ]
    },
    {
     "name": "stdout",
     "output_type": "stream",
     "text": [
      "  Time taken to expand largeRjet_tau32: 17.70 seconds.\n",
      "\n",
      "Processing column: largeRjet_pt_syst\n",
      "  Maximum length of lists in largeRjet_pt_syst: 0\n"
     ]
    },
    {
     "name": "stderr",
     "output_type": "stream",
     "text": [
      "Expanding awkward array columns:  98%|█████████▊| 54/55 [18:37<00:17, 17.68s/it]"
     ]
    },
    {
     "name": "stdout",
     "output_type": "stream",
     "text": [
      "  Time taken to expand largeRjet_pt_syst: 17.27 seconds.\n",
      "\n",
      "Processing column: tau_charge\n",
      "  Maximum length of lists in tau_charge: 0\n"
     ]
    },
    {
     "name": "stderr",
     "output_type": "stream",
     "text": [
      "Expanding awkward array columns: 100%|██████████| 55/55 [18:55<00:00, 20.64s/it]"
     ]
    },
    {
     "name": "stdout",
     "output_type": "stream",
     "text": [
      "  Time taken to expand tau_charge: 17.39 seconds.\n"
     ]
    },
    {
     "name": "stderr",
     "output_type": "stream",
     "text": [
      "\n"
     ]
    },
    {
     "name": "stdout",
     "output_type": "stream",
     "text": [
      "Total time taken to expand awkward array columns: 1140.00 seconds\n",
      "Expanded DataFrame head:\n",
      "   runNumber  eventNumber  channelNumber   mcWeight  scaleFactor_PILEUP  \\\n",
      "0     284500      4246580         343981  28.485731            0.696077   \n",
      "1     301932    242211722         301932   0.000000            0.000000   \n",
      "2     284500        56490         345041   3.749917            1.214122   \n",
      "3     301932   -163493589         301932   0.000000            0.000000   \n",
      "4     284500      3977190         343981  28.485731            0.750880   \n",
      "\n",
      "   scaleFactor_ELE  scaleFactor_MUON  scaleFactor_PHOTON  scaleFactor_TAU  \\\n",
      "0              1.0               1.0            0.995786              1.0   \n",
      "1              0.0               0.0            0.000000              0.0   \n",
      "2              1.0               1.0            1.005498              1.0   \n",
      "3              0.0               0.0            0.000000              0.0   \n",
      "4              1.0               1.0            1.002282              1.0   \n",
      "\n",
      "   scaleFactor_BTAG  ...  jet_pt_syst11  jet_pt_syst12  jet_pt_syst13  \\\n",
      "0          0.998468  ...            0.0            0.0            0.0   \n",
      "1          0.000000  ...            0.0            0.0            0.0   \n",
      "2          0.998150  ...            0.0            0.0            0.0   \n",
      "3          0.000000  ...            0.0            0.0            0.0   \n",
      "4          1.012842  ...            0.0            0.0            0.0   \n",
      "\n",
      "   jet_pt_syst14  jet_pt_syst15  photon_pt_syst0  photon_pt_syst1  \\\n",
      "0            0.0            0.0      1996.221558       336.990051   \n",
      "1            0.0            0.0         0.000000         0.000000   \n",
      "2            0.0            0.0       620.069397       196.208817   \n",
      "3            0.0            0.0         0.000000         0.000000   \n",
      "4            0.0            0.0       362.847809       207.096832   \n",
      "\n",
      "   photon_pt_syst2  photon_pt_syst3  photon_pt_syst4  \n",
      "0              0.0              0.0              0.0  \n",
      "1              0.0              0.0              0.0  \n",
      "2              0.0              0.0              0.0  \n",
      "3              0.0              0.0              0.0  \n",
      "4              0.0              0.0              0.0  \n",
      "\n",
      "[5 rows x 286 columns]\n"
     ]
    }
   ],
   "source": [
    "import pandas as pd\n",
    "import awkward as ak\n",
    "from tqdm import tqdm\n",
    "import time\n",
    "\n",
    "def expand_awkward_columns(df):\n",
    "    \"\"\"\n",
    "    Expands columns in a DataFrame that contain awkward arrays into separate columns.\n",
    "    For example, a column 'photon_E' with values [E1, E2, E3] will be expanded into \n",
    "    'photon_E0', 'photon_E1', 'photon_E2'. Shorter lists are padded with zeros.\n",
    "\n",
    "    :param df: The DataFrame containing columns to expand.\n",
    "    :return: The DataFrame with expanded columns.\n",
    "    \"\"\"\n",
    "    # Identify columns that contain awkward arrays\n",
    "    awkward_columns = [col for col in df.columns if isinstance(df[col].iloc[0], ak.Array)]\n",
    "    \n",
    "    print(f\"Found {len(awkward_columns)} columns with awkward array values.\")\n",
    "    \n",
    "    for col in tqdm(awkward_columns, desc=\"Expanding awkward array columns\"):\n",
    "        print(f\"\\nProcessing column: {col}\")\n",
    "        start_time = time.time()\n",
    "        \n",
    "        # Convert the awkward array to a list of lists (ragged array)\n",
    "        lists = ak.to_list(df[col])\n",
    "        \n",
    "        # Determine the maximum length of the lists in the column\n",
    "        max_len = max(len(sublist) for sublist in lists)\n",
    "        print(f\"  Maximum length of lists in {col}: {max_len}\")\n",
    "        \n",
    "        # Create new columns for each entry in the list\n",
    "        new_columns = {}\n",
    "        for i in range(max_len):\n",
    "            new_col_name = f\"{col}{i}\"\n",
    "            new_columns[new_col_name] = [sublist[i] if i < len(sublist) else 0 for sublist in lists]\n",
    "        \n",
    "        # Assign new columns to the DataFrame\n",
    "        for new_col_name, data in new_columns.items():\n",
    "            df[new_col_name] = data\n",
    "        \n",
    "        # Drop the original column\n",
    "        df.drop(columns=[col], inplace=True)\n",
    "        \n",
    "        end_time = time.time()\n",
    "        print(f\"  Time taken to expand {col}: {end_time - start_time:.2f} seconds.\")\n",
    "    \n",
    "    return df.copy()\n",
    "\n",
    "# Assuming `combined_df` is the DataFrame you are working with\n",
    "print(\"Expanding awkward array columns in the DataFrame...\")\n",
    "start_time = time.time()\n",
    "expanded_df = expand_awkward_columns(balanced_df)\n",
    "end_time = time.time()\n",
    "print(f\"Total time taken to expand awkward array columns: {end_time - start_time:.2f} seconds\")\n",
    "\n",
    "# Check the expanded DataFrame\n",
    "print(\"Expanded DataFrame head:\")\n",
    "print(expanded_df.head())\n"
   ]
  },
  {
   "cell_type": "code",
   "execution_count": 4,
   "metadata": {},
   "outputs": [
    {
     "name": "stdout",
     "output_type": "stream",
     "text": [
      "Removed columns due to perfect separation: ['runNumber', 'channelNumber', 'mcWeight', 'scaleFactor_ELE', 'scaleFactor_MUON', 'scaleFactor_PHOTON', 'scaleFactor_TAU', 'scaleFactor_BTAG', 'scaleFactor_LepTRIGGER', 'XSection', 'SumWeights', 'photon_pt_syst0', 'photon_pt_syst1']\n",
      "Cleaned DataFrame head:\n",
      "   eventNumber  scaleFactor_PILEUP  scaleFactor_PhotonTRIGGER  trigE  trigM  \\\n",
      "0      4246580            0.696077                   0.995786  False  False   \n",
      "1    242211722            0.000000                   0.000000  False  False   \n",
      "2        56490            1.214122                   1.005498  False  False   \n",
      "3   -163493589            0.000000                   0.000000  False  False   \n",
      "4      3977190            0.750880                   1.002282  False  False   \n",
      "\n",
      "   trigP  lep_n        met_et   met_phi  jet_n  ...  jet_pt_syst9  \\\n",
      "0   True      0  51045.160156  2.794363      3  ...           0.0   \n",
      "1   True      0  43901.460938 -0.197949      1  ...           0.0   \n",
      "2   True      0  58347.421875 -0.033184      3  ...           0.0   \n",
      "3   True      0  16311.075195 -0.042286      0  ...           0.0   \n",
      "4   True      0  43917.437500 -1.083709      1  ...           0.0   \n",
      "\n",
      "   jet_pt_syst10  jet_pt_syst11  jet_pt_syst12  jet_pt_syst13  jet_pt_syst14  \\\n",
      "0            0.0            0.0            0.0            0.0            0.0   \n",
      "1            0.0            0.0            0.0            0.0            0.0   \n",
      "2            0.0            0.0            0.0            0.0            0.0   \n",
      "3            0.0            0.0            0.0            0.0            0.0   \n",
      "4            0.0            0.0            0.0            0.0            0.0   \n",
      "\n",
      "  jet_pt_syst15 photon_pt_syst2 photon_pt_syst3 photon_pt_syst4  \n",
      "0           0.0             0.0             0.0             0.0  \n",
      "1           0.0             0.0             0.0             0.0  \n",
      "2           0.0             0.0             0.0             0.0  \n",
      "3           0.0             0.0             0.0             0.0  \n",
      "4           0.0             0.0             0.0             0.0  \n",
      "\n",
      "[5 rows x 273 columns]\n"
     ]
    }
   ],
   "source": [
    "import pandas as pd\n",
    "\n",
    "def check_and_remove_perfect_separation(df, label_column='isHiggs'):\n",
    "    \"\"\"\n",
    "    Checks if any feature (column) in the DataFrame perfectly separates the label column.\n",
    "    If a column perfectly separates, it is removed from the DataFrame.\n",
    "    \n",
    "    :param df: The DataFrame containing features and the label column.\n",
    "    :param label_column: The name of the label column (default is 'isHiggs').\n",
    "    :return: The DataFrame with perfectly separating columns removed, and a list of removed columns.\n",
    "    \"\"\"\n",
    "    columns_to_remove = []\n",
    "    for column in df.columns:\n",
    "        if column == label_column:\n",
    "            continue\n",
    "        unique_values = df.groupby(column)[label_column].nunique()\n",
    "        if unique_values.max() == 1:  # If any unique value of the feature corresponds to only one label\n",
    "            columns_to_remove.append(column)\n",
    "    \n",
    "    df = df.drop(columns=columns_to_remove)\n",
    "    return df, columns_to_remove\n",
    "\n",
    "# Check for perfect separation and remove the problematic columns\n",
    "cleaned_df, removed_columns = check_and_remove_perfect_separation(expanded_df)\n",
    "\n",
    "# Display the columns that were removed\n",
    "print(\"Removed columns due to perfect separation:\", removed_columns)\n",
    "\n",
    "# Check the cleaned DataFrame\n",
    "print(\"Cleaned DataFrame head:\")\n",
    "print(cleaned_df.head())\n"
   ]
  },
  {
   "cell_type": "code",
   "execution_count": 5,
   "metadata": {},
   "outputs": [
    {
     "name": "stdout",
     "output_type": "stream",
     "text": [
      "Writing the DataFrame to CSV...\n",
      "DataFrame successfully written to cleaned_dataframe.csv.\n",
      "Time taken to write the DataFrame to CSV: 103.09 seconds\n"
     ]
    }
   ],
   "source": [
    "import pandas as pd\n",
    "\n",
    "# Assuming `expanded_df` is the DataFrame you have after expanding awkward arrays\n",
    "\n",
    "# Define the output file path\n",
    "output_file = \"cleaned_dataframe.csv\"\n",
    "\n",
    "print(\"Writing the DataFrame to CSV...\")\n",
    "start_time = time.time()\n",
    "\n",
    "# Write the DataFrame to a CSV file\n",
    "cleaned_df.to_csv(output_file, index=False)\n",
    "\n",
    "end_time = time.time()\n",
    "print(f\"DataFrame successfully written to {output_file}.\")\n",
    "print(f\"Time taken to write the DataFrame to CSV: {end_time - start_time:.2f} seconds\")\n"
   ]
  },
  {
   "cell_type": "code",
   "execution_count": 6,
   "metadata": {},
   "outputs": [
    {
     "name": "stdout",
     "output_type": "stream",
     "text": [
      "Calculating mean and variance for each column...\n",
      "\n",
      "Column: eventNumber\n",
      "  Mean: 234056983.116386\n",
      "  Variance: 741930878973538176.000000\n",
      "\n",
      "Column: scaleFactor_PILEUP\n",
      "  Mean: 0.371050\n",
      "  Variance: 0.284737\n",
      "\n",
      "Column: scaleFactor_PhotonTRIGGER\n",
      "  Mean: 0.369846\n",
      "  Variance: 0.232180\n",
      "\n",
      "Column: trigE\n",
      "  Mean: 0.000000\n",
      "  Variance: 0.000000\n",
      "\n",
      "Column: trigM\n",
      "  Mean: 0.000000\n",
      "  Variance: 0.000000\n",
      "\n",
      "Column: trigP\n",
      "  Mean: 1.000000\n",
      "  Variance: 0.000000\n",
      "\n",
      "Column: lep_n\n",
      "  Mean: 0.047355\n",
      "  Variance: 0.056126\n",
      "\n",
      "Column: met_et\n",
      "  Mean: 40003.773438\n",
      "  Variance: 1366780672.000000\n",
      "\n",
      "Column: met_phi\n",
      "  Mean: -0.009746\n",
      "  Variance: 3.295479\n",
      "\n",
      "Column: jet_n\n",
      "  Mean: 1.603845\n",
      "  Variance: 3.133579\n",
      "\n",
      "Column: photon_n\n",
      "  Mean: 2.008041\n",
      "  Variance: 0.008149\n",
      "\n",
      "Column: tau_n\n",
      "  Mean: 0.000000\n",
      "  Variance: 0.000000\n",
      "\n",
      "Column: ditau_m\n",
      "  Mean: 0.000000\n",
      "  Variance: 0.000000\n",
      "\n",
      "Column: met_et_syst\n",
      "  Mean: 3605.498047\n",
      "  Variance: 71407488.000000\n",
      "\n",
      "Column: largeRjet_n\n",
      "  Mean: 0.000000\n",
      "  Variance: 0.000000\n",
      "\n",
      "Column: isHiggs\n",
      "  Mean: 0.370838\n",
      "  Variance: 0.233317\n",
      "\n",
      "Column: lep_truthMatched0 is non-numeric and skipped.\n",
      "\n",
      "Column: lep_truthMatched1 is non-numeric and skipped.\n",
      "\n",
      "Column: lep_truthMatched2 is non-numeric and skipped.\n",
      "\n",
      "Column: lep_truthMatched3 is non-numeric and skipped.\n",
      "\n",
      "Column: lep_trigMatched0 is non-numeric and skipped.\n",
      "\n",
      "Column: lep_trigMatched1 is non-numeric and skipped.\n",
      "\n",
      "Column: lep_trigMatched2 is non-numeric and skipped.\n",
      "\n",
      "Column: lep_trigMatched3 is non-numeric and skipped.\n",
      "\n",
      "Column: lep_pt0\n",
      "  Mean: 2340.484605\n",
      "  Variance: 460558338.530817\n",
      "\n",
      "Column: lep_pt1\n",
      "  Mean: 175.225001\n",
      "  Variance: 9145007.825108\n",
      "\n",
      "Column: lep_pt2\n",
      "  Mean: 1.268177\n",
      "  Variance: 21905.647217\n",
      "\n",
      "Column: lep_pt3\n",
      "  Mean: 0.009067\n",
      "  Variance: 109.673435\n",
      "\n",
      "Column: lep_eta0\n",
      "  Mean: -0.000576\n",
      "  Variance: 0.056357\n",
      "\n",
      "Column: lep_eta1\n",
      "  Mean: 0.000005\n",
      "  Variance: 0.007687\n",
      "\n",
      "Column: lep_eta2\n",
      "  Mean: -0.000005\n",
      "  Variance: 0.000132\n",
      "\n",
      "Column: lep_eta3\n",
      "  Mean: 0.000001\n",
      "  Variance: 0.000001\n",
      "\n",
      "Column: lep_phi0\n",
      "  Mean: -0.000095\n",
      "  Variance: 0.136365\n",
      "\n",
      "Column: lep_phi1\n",
      "  Mean: -0.000147\n",
      "  Variance: 0.017655\n",
      "\n",
      "Column: lep_phi2\n",
      "  Mean: -0.000003\n",
      "  Variance: 0.000308\n",
      "\n",
      "Column: lep_phi3\n",
      "  Mean: 0.000001\n",
      "  Variance: 0.000002\n",
      "\n",
      "Column: lep_E0\n",
      "  Mean: 4046.287394\n",
      "  Variance: 1064806670.868819\n",
      "\n",
      "Column: lep_E1\n",
      "  Mean: 327.621847\n",
      "  Variance: 40489001.161436\n",
      "\n",
      "Column: lep_E2\n",
      "  Mean: 2.356998\n",
      "  Variance: 100841.174400\n",
      "\n",
      "Column: lep_E3\n",
      "  Mean: 0.015545\n",
      "  Variance: 322.348744\n",
      "\n",
      "Column: lep_z00\n",
      "  Mean: -0.000226\n",
      "  Variance: 14.865310\n",
      "\n",
      "Column: lep_z01\n",
      "  Mean: -0.000426\n",
      "  Variance: 0.956363\n",
      "\n",
      "Column: lep_z02\n",
      "  Mean: -0.000142\n",
      "  Variance: 0.088110\n",
      "\n",
      "Column: lep_z03\n",
      "  Mean: 0.000000\n",
      "  Variance: 0.000000\n",
      "\n",
      "Column: lep_charge0\n",
      "  Mean: 0.003647\n",
      "  Variance: 0.041935\n",
      "\n",
      "Column: lep_charge1\n",
      "  Mean: -0.000028\n",
      "  Variance: 0.005309\n",
      "\n",
      "Column: lep_charge2\n",
      "  Mean: 0.000001\n",
      "  Variance: 0.000097\n",
      "\n",
      "Column: lep_charge3\n",
      "  Mean: 0.000001\n",
      "  Variance: 0.000001\n",
      "\n",
      "Column: lep_type0\n",
      "  Mean: 0.504204\n",
      "  Variance: 5.848121\n",
      "\n",
      "Column: lep_type1\n",
      "  Mean: 0.064112\n",
      "  Variance: 0.775366\n",
      "\n",
      "Column: lep_type2\n",
      "  Mean: 0.001172\n",
      "  Variance: 0.014202\n",
      "\n",
      "Column: lep_type3\n",
      "  Mean: 0.000010\n",
      "  Variance: 0.000127\n",
      "\n",
      "Column: lep_isTightID0 is non-numeric and skipped.\n",
      "\n",
      "Column: lep_isTightID1 is non-numeric and skipped.\n",
      "\n",
      "Column: lep_isTightID2 is non-numeric and skipped.\n",
      "\n",
      "Column: lep_isTightID3 is non-numeric and skipped.\n",
      "\n",
      "Column: lep_ptcone300\n",
      "  Mean: 38.869626\n",
      "  Variance: 846277.259171\n",
      "\n",
      "Column: lep_ptcone301\n",
      "  Mean: 5.133946\n",
      "  Variance: 139275.549564\n",
      "\n",
      "Column: lep_ptcone302\n",
      "  Mean: 0.300020\n",
      "  Variance: 2637.263261\n",
      "\n",
      "Column: lep_ptcone303\n",
      "  Mean: 0.000000\n",
      "  Variance: 0.000000\n",
      "\n",
      "Column: lep_etcone200\n",
      "  Mean: 15.453285\n",
      "  Variance: 92214.191762\n",
      "\n",
      "Column: lep_etcone201\n",
      "  Mean: 1.990624\n",
      "  Variance: 10342.939221\n",
      "\n",
      "Column: lep_etcone202\n",
      "  Mean: 0.084925\n",
      "  Variance: 401.731294\n",
      "\n",
      "Column: lep_etcone203\n",
      "  Mean: 0.000208\n",
      "  Variance: 0.057975\n",
      "\n",
      "Column: lep_trackd0pvunbiased0\n",
      "  Mean: -0.000217\n",
      "  Variance: 0.014142\n",
      "\n",
      "Column: lep_trackd0pvunbiased1\n",
      "  Mean: 0.000003\n",
      "  Variance: 0.000415\n",
      "\n",
      "Column: lep_trackd0pvunbiased2\n",
      "  Mean: -0.000001\n",
      "  Variance: 0.000006\n",
      "\n",
      "Column: lep_trackd0pvunbiased3\n",
      "  Mean: 0.000000\n",
      "  Variance: 0.000000\n",
      "\n",
      "Column: lep_tracksigd0pvunbiased0\n",
      "  Mean: 0.202382\n",
      "  Variance: 26.231151\n",
      "\n",
      "Column: lep_tracksigd0pvunbiased1\n",
      "  Mean: 0.015369\n",
      "  Variance: 0.513589\n",
      "\n",
      "Column: lep_tracksigd0pvunbiased2\n",
      "  Mean: 0.000789\n",
      "  Variance: 0.021120\n",
      "\n",
      "Column: lep_tracksigd0pvunbiased3\n",
      "  Mean: 0.000028\n",
      "  Variance: 0.001030\n",
      "\n",
      "Column: jet_pt0\n",
      "  Mean: 51332.064269\n",
      "  Variance: 4554091780.936624\n",
      "\n",
      "Column: jet_pt1\n",
      "  Mean: 20224.086618\n",
      "  Variance: 1356469912.248346\n",
      "\n",
      "Column: jet_pt2\n",
      "  Mean: 9337.863362\n",
      "  Variance: 511872636.591760\n",
      "\n",
      "Column: jet_pt3\n",
      "  Mean: 4880.278827\n",
      "  Variance: 228264150.133253\n",
      "\n",
      "Column: jet_pt4\n",
      "  Mean: 2688.802929\n",
      "  Variance: 106604781.896586\n",
      "\n",
      "Column: jet_pt5\n",
      "  Mean: 1463.079845\n",
      "  Variance: 49949058.450916\n",
      "\n",
      "Column: jet_pt6\n",
      "  Mean: 736.697809\n",
      "  Variance: 22321695.753865\n",
      "\n",
      "Column: jet_pt7\n",
      "  Mean: 334.363443\n",
      "  Variance: 9253595.502829\n",
      "\n",
      "Column: jet_pt8\n",
      "  Mean: 134.986123\n",
      "  Variance: 3495741.020718\n",
      "\n",
      "Column: jet_pt9\n",
      "  Mean: 49.585933\n",
      "  Variance: 1229174.310233\n",
      "\n",
      "Column: jet_pt10\n",
      "  Mean: 15.972503\n",
      "  Variance: 383862.514375\n",
      "\n",
      "Column: jet_pt11\n",
      "  Mean: 4.805196\n",
      "  Variance: 111076.101625\n",
      "\n",
      "Column: jet_pt12\n",
      "  Mean: 1.160591\n",
      "  Variance: 26699.305662\n",
      "\n",
      "Column: jet_pt13\n",
      "  Mean: 0.233584\n",
      "  Variance: 5246.301602\n",
      "\n",
      "Column: jet_pt14\n",
      "  Mean: 0.065735\n",
      "  Variance: 1443.275970\n",
      "\n",
      "Column: jet_pt15\n",
      "  Mean: 0.046455\n",
      "  Variance: 960.147239\n",
      "\n",
      "Column: jet_eta0\n",
      "  Mean: 0.001638\n",
      "  Variance: 1.181510\n",
      "\n",
      "Column: jet_eta1\n",
      "  Mean: 0.002024\n",
      "  Variance: 0.656310\n",
      "\n",
      "Column: jet_eta2\n",
      "  Mean: 0.000180\n",
      "  Variance: 0.335682\n",
      "\n",
      "Column: jet_eta3\n",
      "  Mean: -0.000118\n",
      "  Variance: 0.189517\n",
      "\n",
      "Column: jet_eta4\n",
      "  Mean: 0.000485\n",
      "  Variance: 0.117273\n",
      "\n",
      "Column: jet_eta5\n",
      "  Mean: 0.000270\n",
      "  Variance: 0.072187\n",
      "\n",
      "Column: jet_eta6\n",
      "  Mean: -0.000025\n",
      "  Variance: 0.040475\n",
      "\n",
      "Column: jet_eta7\n",
      "  Mean: 0.000243\n",
      "  Variance: 0.020002\n",
      "\n",
      "Column: jet_eta8\n",
      "  Mean: 0.000046\n",
      "  Variance: 0.008399\n",
      "\n",
      "Column: jet_eta9\n",
      "  Mean: 0.000007\n",
      "  Variance: 0.003306\n",
      "\n",
      "Column: jet_eta10\n",
      "  Mean: 0.000019\n",
      "  Variance: 0.001001\n",
      "\n",
      "Column: jet_eta11\n",
      "  Mean: 0.000010\n",
      "  Variance: 0.000332\n",
      "\n",
      "Column: jet_eta12\n",
      "  Mean: 0.000008\n",
      "  Variance: 0.000065\n",
      "\n",
      "Column: jet_eta13\n",
      "  Mean: 0.000003\n",
      "  Variance: 0.000015\n",
      "\n",
      "Column: jet_eta14\n",
      "  Mean: 0.000003\n",
      "  Variance: 0.000006\n",
      "\n",
      "Column: jet_eta15\n",
      "  Mean: -0.000001\n",
      "  Variance: 0.000001\n",
      "\n",
      "Column: jet_phi0\n",
      "  Mean: 0.003618\n",
      "  Variance: 2.303877\n",
      "\n",
      "Column: jet_phi1\n",
      "  Mean: 0.001960\n",
      "  Variance: 1.300574\n",
      "\n",
      "Column: jet_phi2\n",
      "  Mean: 0.000323\n",
      "  Variance: 0.698729\n",
      "\n",
      "Column: jet_phi3\n",
      "  Mean: 0.000475\n",
      "  Variance: 0.404732\n",
      "\n",
      "Column: jet_phi4\n",
      "  Mean: -0.000166\n",
      "  Variance: 0.252758\n",
      "\n",
      "Column: jet_phi5\n",
      "  Mean: -0.000672\n",
      "  Variance: 0.154009\n",
      "\n",
      "Column: jet_phi6\n",
      "  Mean: 0.000102\n",
      "  Variance: 0.086292\n",
      "\n",
      "Column: jet_phi7\n",
      "  Mean: -0.000510\n",
      "  Variance: 0.042289\n",
      "\n",
      "Column: jet_phi8\n",
      "  Mean: 0.000135\n",
      "  Variance: 0.017698\n",
      "\n",
      "Column: jet_phi9\n",
      "  Mean: 0.000008\n",
      "  Variance: 0.006707\n",
      "\n",
      "Column: jet_phi10\n",
      "  Mean: -0.000104\n",
      "  Variance: 0.002249\n",
      "\n",
      "Column: jet_phi11\n",
      "  Mean: 0.000059\n",
      "  Variance: 0.000692\n",
      "\n",
      "Column: jet_phi12\n",
      "  Mean: -0.000000\n",
      "  Variance: 0.000156\n",
      "\n",
      "Column: jet_phi13\n",
      "  Mean: -0.000007\n",
      "  Variance: 0.000033\n",
      "\n",
      "Column: jet_phi14\n",
      "  Mean: 0.000000\n",
      "  Variance: 0.000007\n",
      "\n",
      "Column: jet_phi15\n",
      "  Mean: -0.000000\n",
      "  Variance: 0.000003\n",
      "\n",
      "Column: jet_E0\n",
      "  Mean: 105026.196637\n",
      "  Variance: 25309072277.045395\n",
      "\n",
      "Column: jet_E1\n",
      "  Mean: 40726.526954\n",
      "  Variance: 6921242231.114641\n",
      "\n",
      "Column: jet_E2\n",
      "  Mean: 18399.257552\n",
      "  Variance: 2534668253.058236\n",
      "\n",
      "Column: jet_E3\n",
      "  Mean: 9574.229048\n",
      "  Variance: 1137916431.543910\n",
      "\n",
      "Column: jet_E4\n",
      "  Mean: 5298.156083\n",
      "  Variance: 540469785.148499\n",
      "\n",
      "Column: jet_E5\n",
      "  Mean: 2918.253919\n",
      "  Variance: 264419053.100362\n",
      "\n",
      "Column: jet_E6\n",
      "  Mean: 1488.215753\n",
      "  Variance: 123030918.487662\n",
      "\n",
      "Column: jet_E7\n",
      "  Mean: 683.732357\n",
      "  Variance: 52746725.113178\n",
      "\n",
      "Column: jet_E8\n",
      "  Mean: 274.796487\n",
      "  Variance: 19854127.552599\n",
      "\n",
      "Column: jet_E9\n",
      "  Mean: 103.028884\n",
      "  Variance: 7331996.621494\n",
      "\n",
      "Column: jet_E10\n",
      "  Mean: 31.723663\n",
      "  Variance: 2117479.641814\n",
      "\n",
      "Column: jet_E11\n",
      "  Mean: 10.045015\n",
      "  Variance: 707418.614063\n",
      "\n",
      "Column: jet_E12\n",
      "  Mean: 2.159892\n",
      "  Variance: 130021.807483\n",
      "\n",
      "Column: jet_E13\n",
      "  Mean: 0.455887\n",
      "  Variance: 29735.061353\n",
      "\n",
      "Column: jet_E14\n",
      "  Mean: 0.151747\n",
      "  Variance: 9524.234833\n",
      "\n",
      "Column: jet_E15\n",
      "  Mean: 0.054376\n",
      "  Variance: 1329.531707\n",
      "\n",
      "Column: jet_jvt0\n",
      "  Mean: 0.668878\n",
      "  Variance: 0.203687\n",
      "\n",
      "Column: jet_jvt1\n",
      "  Mean: 0.375895\n",
      "  Variance: 0.222500\n",
      "\n",
      "Column: jet_jvt2\n",
      "  Mean: 0.201114\n",
      "  Variance: 0.154001\n",
      "\n",
      "Column: jet_jvt3\n",
      "  Mean: 0.117537\n",
      "  Variance: 0.100022\n",
      "\n",
      "Column: jet_jvt4\n",
      "  Mean: 0.073383\n",
      "  Variance: 0.065683\n",
      "\n",
      "Column: jet_jvt5\n",
      "  Mean: 0.044897\n",
      "  Variance: 0.041382\n",
      "\n",
      "Column: jet_jvt6\n",
      "  Mean: 0.024784\n",
      "  Variance: 0.023266\n",
      "\n",
      "Column: jet_jvt7\n",
      "  Mean: 0.012006\n",
      "  Variance: 0.011377\n",
      "\n",
      "Column: jet_jvt8\n",
      "  Mean: 0.005090\n",
      "  Variance: 0.004848\n",
      "\n",
      "Column: jet_jvt9\n",
      "  Mean: 0.001921\n",
      "  Variance: 0.001832\n",
      "\n",
      "Column: jet_jvt10\n",
      "  Mean: 0.000632\n",
      "  Variance: 0.000601\n",
      "\n",
      "Column: jet_jvt11\n",
      "  Mean: 0.000196\n",
      "  Variance: 0.000187\n",
      "\n",
      "Column: jet_jvt12\n",
      "  Mean: 0.000048\n",
      "  Variance: 0.000046\n",
      "\n",
      "Column: jet_jvt13\n",
      "  Mean: 0.000010\n",
      "  Variance: 0.000009\n",
      "\n",
      "Column: jet_jvt14\n",
      "  Mean: 0.000003\n",
      "  Variance: 0.000002\n",
      "\n",
      "Column: jet_jvt15\n",
      "  Mean: 0.000002\n",
      "  Variance: 0.000002\n",
      "\n",
      "Column: jet_trueflav0\n",
      "  Mean: 0.366459\n",
      "  Variance: 1.897231\n",
      "\n",
      "Column: jet_trueflav1\n",
      "  Mean: 0.291828\n",
      "  Variance: 1.615605\n",
      "\n",
      "Column: jet_trueflav2\n",
      "  Mean: 0.210677\n",
      "  Variance: 1.266222\n",
      "\n",
      "Column: jet_trueflav3\n",
      "  Mean: 0.149049\n",
      "  Variance: 0.943778\n",
      "\n",
      "Column: jet_trueflav4\n",
      "  Mean: 0.093182\n",
      "  Variance: 0.594102\n",
      "\n",
      "Column: jet_trueflav5\n",
      "  Mean: 0.052044\n",
      "  Variance: 0.327784\n",
      "\n",
      "Column: jet_trueflav6\n",
      "  Mean: 0.024893\n",
      "  Variance: 0.152460\n",
      "\n",
      "Column: jet_trueflav7\n",
      "  Mean: 0.010286\n",
      "  Variance: 0.061082\n",
      "\n",
      "Column: jet_trueflav8\n",
      "  Mean: 0.003922\n",
      "  Variance: 0.022534\n",
      "\n",
      "Column: jet_trueflav9\n",
      "  Mean: 0.001295\n",
      "  Variance: 0.007302\n",
      "\n",
      "Column: jet_trueflav10\n",
      "  Mean: 0.000481\n",
      "  Variance: 0.003049\n",
      "\n",
      "Column: jet_trueflav11\n",
      "  Mean: 0.000139\n",
      "  Variance: 0.000768\n",
      "\n",
      "Column: jet_trueflav12\n",
      "  Mean: 0.000029\n",
      "  Variance: 0.000128\n",
      "\n",
      "Column: jet_trueflav13\n",
      "  Mean: 0.000010\n",
      "  Variance: 0.000043\n",
      "\n",
      "Column: jet_trueflav14\n",
      "  Mean: 0.000000\n",
      "  Variance: 0.000000\n",
      "\n",
      "Column: jet_trueflav15\n",
      "  Mean: 0.000000\n",
      "  Variance: 0.000000\n",
      "\n",
      "Column: jet_truthMatched0 is non-numeric and skipped.\n",
      "\n",
      "Column: jet_truthMatched1 is non-numeric and skipped.\n",
      "\n",
      "Column: jet_truthMatched2 is non-numeric and skipped.\n",
      "\n",
      "Column: jet_truthMatched3 is non-numeric and skipped.\n",
      "\n",
      "Column: jet_truthMatched4 is non-numeric and skipped.\n",
      "\n",
      "Column: jet_truthMatched5 is non-numeric and skipped.\n",
      "\n",
      "Column: jet_truthMatched6 is non-numeric and skipped.\n",
      "\n",
      "Column: jet_truthMatched7 is non-numeric and skipped.\n",
      "\n",
      "Column: jet_truthMatched8 is non-numeric and skipped.\n",
      "\n",
      "Column: jet_truthMatched9 is non-numeric and skipped.\n",
      "\n",
      "Column: jet_truthMatched10 is non-numeric and skipped.\n",
      "\n",
      "Column: jet_truthMatched11 is non-numeric and skipped.\n",
      "\n",
      "Column: jet_truthMatched12 is non-numeric and skipped.\n",
      "\n",
      "Column: jet_truthMatched13 is non-numeric and skipped.\n",
      "\n",
      "Column: jet_truthMatched14 is non-numeric and skipped.\n",
      "\n",
      "Column: jet_truthMatched15 is non-numeric and skipped.\n",
      "\n",
      "Column: jet_MV2c100\n",
      "  Mean: -0.368107\n",
      "  Variance: 0.268689\n",
      "\n",
      "Column: jet_MV2c101\n",
      "  Mean: -0.188714\n",
      "  Variance: 0.189272\n",
      "\n",
      "Column: jet_MV2c102\n",
      "  Mean: -0.094100\n",
      "  Variance: 0.112287\n",
      "\n",
      "Column: jet_MV2c103\n",
      "  Mean: -0.053177\n",
      "  Variance: 0.068428\n",
      "\n",
      "Column: jet_MV2c104\n",
      "  Mean: -0.034473\n",
      "  Variance: 0.043010\n",
      "\n",
      "Column: jet_MV2c105\n",
      "  Mean: -0.022464\n",
      "  Variance: 0.026225\n",
      "\n",
      "Column: jet_MV2c106\n",
      "  Mean: -0.013191\n",
      "  Variance: 0.014465\n",
      "\n",
      "Column: jet_MV2c107\n",
      "  Mean: -0.006826\n",
      "  Variance: 0.006999\n",
      "\n",
      "Column: jet_MV2c108\n",
      "  Mean: -0.002950\n",
      "  Variance: 0.002979\n",
      "\n",
      "Column: jet_MV2c109\n",
      "  Mean: -0.001156\n",
      "  Variance: 0.001130\n",
      "\n",
      "Column: jet_MV2c1010\n",
      "  Mean: -0.000362\n",
      "  Variance: 0.000362\n",
      "\n",
      "Column: jet_MV2c1011\n",
      "  Mean: -0.000120\n",
      "  Variance: 0.000117\n",
      "\n",
      "Column: jet_MV2c1012\n",
      "  Mean: -0.000031\n",
      "  Variance: 0.000029\n",
      "\n",
      "Column: jet_MV2c1013\n",
      "  Mean: -0.000004\n",
      "  Variance: 0.000005\n",
      "\n",
      "Column: jet_MV2c1014\n",
      "  Mean: -0.000002\n",
      "  Variance: 0.000002\n",
      "\n",
      "Column: jet_MV2c1015\n",
      "  Mean: -0.000002\n",
      "  Variance: 0.000001\n",
      "\n",
      "Column: photon_truthMatched0 is non-numeric and skipped.\n",
      "\n",
      "Column: photon_truthMatched1 is non-numeric and skipped.\n",
      "\n",
      "Column: photon_truthMatched2 is non-numeric and skipped.\n",
      "\n",
      "Column: photon_truthMatched3 is non-numeric and skipped.\n",
      "\n",
      "Column: photon_truthMatched4 is non-numeric and skipped.\n",
      "\n",
      "Column: photon_trigMatched0\n",
      "  Mean: 0.999941\n",
      "  Variance: 0.000059\n",
      "\n",
      "Column: photon_trigMatched1\n",
      "  Mean: 0.999701\n",
      "  Variance: 0.000299\n",
      "\n",
      "Column: photon_trigMatched2 is non-numeric and skipped.\n",
      "\n",
      "Column: photon_trigMatched3 is non-numeric and skipped.\n",
      "\n",
      "Column: photon_trigMatched4 is non-numeric and skipped.\n",
      "\n",
      "Column: photon_pt0\n",
      "  Mean: 73733.666800\n",
      "  Variance: 1915121624.711597\n",
      "\n",
      "Column: photon_pt1\n",
      "  Mean: 44249.093877\n",
      "  Variance: 452009108.934861\n",
      "\n",
      "Column: photon_pt2\n",
      "  Mean: 329.141456\n",
      "  Variance: 16659018.409379\n",
      "\n",
      "Column: photon_pt3\n",
      "  Mean: 3.186345\n",
      "  Variance: 143716.888328\n",
      "\n",
      "Column: photon_pt4\n",
      "  Mean: 0.019070\n",
      "  Variance: 485.119165\n",
      "\n",
      "Column: photon_eta0\n",
      "  Mean: -0.015751\n",
      "  Variance: 1.341059\n",
      "\n",
      "Column: photon_eta1\n",
      "  Mean: -0.012746\n",
      "  Variance: 1.306181\n",
      "\n",
      "Column: photon_eta2\n",
      "  Mean: -0.000170\n",
      "  Variance: 0.010394\n",
      "\n",
      "Column: photon_eta3\n",
      "  Mean: -0.000006\n",
      "  Variance: 0.000125\n",
      "\n",
      "Column: photon_eta4\n",
      "  Mean: 0.000001\n",
      "  Variance: 0.000001\n",
      "\n",
      "Column: photon_phi0\n",
      "  Mean: 0.000213\n",
      "  Variance: 3.290551\n",
      "\n",
      "Column: photon_phi1\n",
      "  Mean: 0.004652\n",
      "  Variance: 3.334050\n",
      "\n",
      "Column: photon_phi2\n",
      "  Mean: 0.000063\n",
      "  Variance: 0.026355\n",
      "\n",
      "Column: photon_phi3\n",
      "  Mean: -0.000008\n",
      "  Variance: 0.000309\n",
      "\n",
      "Column: photon_phi4\n",
      "  Mean: 0.000001\n",
      "  Variance: 0.000001\n",
      "\n",
      "Column: photon_E0\n",
      "  Mean: 134561.936153\n",
      "  Variance: 11935035800.450222\n",
      "\n",
      "Column: photon_E1\n",
      "  Mean: 80366.337358\n",
      "  Variance: 3597051118.997322\n",
      "\n",
      "Column: photon_E2\n",
      "  Mean: 591.453129\n",
      "  Variance: 65984979.420613\n",
      "\n",
      "Column: photon_E3\n",
      "  Mean: 5.996328\n",
      "  Variance: 597027.489190\n",
      "\n",
      "Column: photon_E4\n",
      "  Mean: 0.028964\n",
      "  Variance: 1119.018462\n",
      "\n",
      "Column: photon_isTightID0\n",
      "  Mean: 0.572188\n",
      "  Variance: 0.244789\n",
      "\n",
      "Column: photon_isTightID1\n",
      "  Mean: 0.515299\n",
      "  Variance: 0.249766\n",
      "\n",
      "Column: photon_isTightID2 is non-numeric and skipped.\n",
      "\n",
      "Column: photon_isTightID3 is non-numeric and skipped.\n",
      "\n",
      "Column: photon_isTightID4 is non-numeric and skipped.\n",
      "\n",
      "Column: photon_ptcone300\n",
      "  Mean: 8287.842085\n",
      "  Variance: 30575367206.868107\n",
      "\n",
      "Column: photon_ptcone301\n",
      "  Mean: 7133.256595\n",
      "  Variance: 6119828617.255010\n",
      "\n",
      "Column: photon_ptcone302\n",
      "  Mean: 75.077069\n",
      "  Variance: 4064062.297805\n",
      "\n",
      "Column: photon_ptcone303\n",
      "  Mean: 0.720980\n",
      "  Variance: 25380.433784\n",
      "\n",
      "Column: photon_ptcone304\n",
      "  Mean: 0.016682\n",
      "  Variance: 371.218651\n",
      "\n",
      "Column: photon_etcone200\n",
      "  Mean: 3571.625989\n",
      "  Variance: 44755525.222538\n",
      "\n",
      "Column: photon_etcone201\n",
      "  Mean: 3410.099013\n",
      "  Variance: 36889269.484813\n",
      "\n",
      "Column: photon_etcone202\n",
      "  Mean: 42.703804\n",
      "  Variance: 1584247.115891\n",
      "\n",
      "Column: photon_etcone203\n",
      "  Mean: 0.380405\n",
      "  Variance: 9470.873509\n",
      "\n",
      "Column: photon_etcone204\n",
      "  Mean: 0.007577\n",
      "  Variance: 76.579881\n",
      "\n",
      "Column: photon_convType0\n",
      "  Mean: 1.045226\n",
      "  Variance: 2.027124\n",
      "\n",
      "Column: photon_convType1\n",
      "  Mean: 0.940158\n",
      "  Variance: 1.883716\n",
      "\n",
      "Column: photon_convType2\n",
      "  Mean: 0.008439\n",
      "  Variance: 0.025015\n",
      "\n",
      "Column: photon_convType3\n",
      "  Mean: 0.000094\n",
      "  Variance: 0.000257\n",
      "\n",
      "Column: photon_convType4\n",
      "  Mean: 0.000004\n",
      "  Variance: 0.000019\n",
      "\n",
      "Column: lep_pt_syst0\n",
      "  Mean: 39.994897\n",
      "  Variance: 3496657.215929\n",
      "\n",
      "Column: lep_pt_syst1\n",
      "  Mean: 3.396439\n",
      "  Variance: 211546.579152\n",
      "\n",
      "Column: lep_pt_syst2\n",
      "  Mean: 0.267998\n",
      "  Variance: 22701.467487\n",
      "\n",
      "Column: lep_pt_syst3\n",
      "  Mean: 0.000032\n",
      "  Variance: 0.001354\n",
      "\n",
      "Column: jet_pt_syst0\n",
      "  Mean: 1270.720933\n",
      "  Variance: 6917215.052110\n",
      "\n",
      "Column: jet_pt_syst1\n",
      "  Mean: 712.333760\n",
      "  Variance: 3445556.376007\n",
      "\n",
      "Column: jet_pt_syst2\n",
      "  Mean: 431.860124\n",
      "  Variance: 1999101.072585\n",
      "\n",
      "Column: jet_pt_syst3\n",
      "  Mean: 296.183469\n",
      "  Variance: 1351449.923390\n",
      "\n",
      "Column: jet_pt_syst4\n",
      "  Mean: 200.390228\n",
      "  Variance: 847037.285254\n",
      "\n",
      "Column: jet_pt_syst5\n",
      "  Mean: 124.128225\n",
      "  Variance: 496007.182559\n",
      "\n",
      "Column: jet_pt_syst6\n",
      "  Mean: 66.368012\n",
      "  Variance: 235536.713583\n",
      "\n",
      "Column: jet_pt_syst7\n",
      "  Mean: 30.919635\n",
      "  Variance: 101992.924703\n",
      "\n",
      "Column: jet_pt_syst8\n",
      "  Mean: 12.489430\n",
      "  Variance: 38612.278974\n",
      "\n",
      "Column: jet_pt_syst9\n",
      "  Mean: 4.559072\n",
      "  Variance: 13531.981222\n",
      "\n",
      "Column: jet_pt_syst10\n",
      "  Mean: 1.437489\n",
      "  Variance: 3958.453070\n",
      "\n",
      "Column: jet_pt_syst11\n",
      "  Mean: 0.419629\n",
      "  Variance: 1074.338285\n",
      "\n",
      "Column: jet_pt_syst12\n",
      "  Mean: 0.099812\n",
      "  Variance: 255.300515\n",
      "\n",
      "Column: jet_pt_syst13\n",
      "  Mean: 0.021027\n",
      "  Variance: 62.648685\n",
      "\n",
      "Column: jet_pt_syst14\n",
      "  Mean: 0.005820\n",
      "  Variance: 11.766447\n",
      "\n",
      "Column: jet_pt_syst15\n",
      "  Mean: 0.002948\n",
      "  Variance: 3.979261\n",
      "\n",
      "Column: photon_pt_syst2\n",
      "  Mean: 2.427487\n",
      "  Variance: 3613.062296\n",
      "\n",
      "Column: photon_pt_syst3\n",
      "  Mean: 0.025245\n",
      "  Variance: 12.241575\n",
      "\n",
      "Column: photon_pt_syst4\n",
      "  Mean: 0.000175\n",
      "  Variance: 0.040931\n",
      "\n"
     ]
    }
   ],
   "source": [
    "import pandas as pd\n",
    "\n",
    "# Assuming `expanded_df` is the DataFrame you're working with\n",
    "\n",
    "def print_column_statistics(df):\n",
    "    \"\"\"\n",
    "    Prints the column names, their mean, and variance.\n",
    "\n",
    "    :param df: The DataFrame containing the features.\n",
    "    \"\"\"\n",
    "    print(\"Calculating mean and variance for each column...\\n\")\n",
    "    for column in df.columns:\n",
    "        if pd.api.types.is_numeric_dtype(df[column]):\n",
    "            mean_value = df[column].mean()\n",
    "            variance_value = df[column].var()\n",
    "            print(f\"Column: {column}\\n  Mean: {mean_value:.6f}\\n  Variance: {variance_value:.6f}\\n\")\n",
    "        else:\n",
    "            print(f\"Column: {column} is non-numeric and skipped.\\n\")\n",
    "\n",
    "# Print the statistics for all columns in the DataFrame\n",
    "print_column_statistics(cleaned_df)\n"
   ]
  },
  {
   "cell_type": "code",
   "execution_count": 7,
   "metadata": {},
   "outputs": [
    {
     "name": "stdout",
     "output_type": "stream",
     "text": [
      "Calculating total invariant mass considering all particles in each event...\n"
     ]
    },
    {
     "name": "stderr",
     "output_type": "stream",
     "text": [
      "Calculating total invariant mass:   0%|          | 5989/1333914 [01:02<08:52, 2491.71it/s] "
     ]
    },
    {
     "name": "stdout",
     "output_type": "stream",
     "text": [
      "Missing data for lep_4 in row 5538, skipping this particle.\n"
     ]
    },
    {
     "name": "stderr",
     "output_type": "stream",
     "text": [
      "Calculating total invariant mass:   1%|▏         | 17808/1333914 [01:06<05:47, 3787.26it/s]"
     ]
    },
    {
     "name": "stdout",
     "output_type": "stream",
     "text": [
      "Missing data for lep_4 in row 17414, skipping this particle.\n"
     ]
    },
    {
     "name": "stderr",
     "output_type": "stream",
     "text": [
      "Calculating total invariant mass:   1%|▏         | 19804/1333914 [01:06<05:41, 3848.04it/s]"
     ]
    },
    {
     "name": "stdout",
     "output_type": "stream",
     "text": [
      "Missing data for lep_4 in row 19310, skipping this particle.\n"
     ]
    },
    {
     "name": "stderr",
     "output_type": "stream",
     "text": [
      "Calculating total invariant mass:   2%|▏         | 24229/1333914 [01:07<05:36, 3888.63it/s]"
     ]
    },
    {
     "name": "stdout",
     "output_type": "stream",
     "text": [
      "Missing data for lep_4 in row 23689, skipping this particle.\n"
     ]
    },
    {
     "name": "stderr",
     "output_type": "stream",
     "text": [
      "Calculating total invariant mass:   2%|▏         | 27398/1333914 [01:08<05:49, 3742.42it/s]"
     ]
    },
    {
     "name": "stdout",
     "output_type": "stream",
     "text": [
      "Missing data for jet_16 in row 26793, skipping this particle.\n",
      "Missing data for jet_17 in row 26793, skipping this particle.\n"
     ]
    },
    {
     "name": "stderr",
     "output_type": "stream",
     "text": [
      "Calculating total invariant mass:   2%|▏         | 30522/1333914 [01:09<05:56, 3651.80it/s]"
     ]
    },
    {
     "name": "stdout",
     "output_type": "stream",
     "text": [
      "Missing data for lep_4 in row 30117, skipping this particle.\n",
      "Missing data for lep_4 in row 30722, skipping this particle.\n"
     ]
    },
    {
     "name": "stderr",
     "output_type": "stream",
     "text": [
      "Calculating total invariant mass:   4%|▎         | 49043/1333914 [01:14<05:35, 3828.97it/s]"
     ]
    },
    {
     "name": "stdout",
     "output_type": "stream",
     "text": [
      "Missing data for lep_4 in row 48472, skipping this particle.\n"
     ]
    },
    {
     "name": "stderr",
     "output_type": "stream",
     "text": [
      "Calculating total invariant mass:   5%|▍         | 64532/1333914 [01:18<05:38, 3753.72it/s]"
     ]
    },
    {
     "name": "stdout",
     "output_type": "stream",
     "text": [
      "Missing data for lep_4 in row 63895, skipping this particle.\n"
     ]
    },
    {
     "name": "stderr",
     "output_type": "stream",
     "text": [
      "Calculating total invariant mass:   5%|▍         | 65708/1333914 [01:18<05:41, 3718.60it/s]"
     ]
    },
    {
     "name": "stdout",
     "output_type": "stream",
     "text": [
      "Missing data for lep_4 in row 65146, skipping this particle.\n"
     ]
    },
    {
     "name": "stderr",
     "output_type": "stream",
     "text": [
      "Calculating total invariant mass:   5%|▌         | 66877/1333914 [01:19<05:39, 3731.53it/s]"
     ]
    },
    {
     "name": "stdout",
     "output_type": "stream",
     "text": [
      "Missing data for lep_4 in row 66422, skipping this particle.\n"
     ]
    },
    {
     "name": "stderr",
     "output_type": "stream",
     "text": [
      "Calculating total invariant mass:   5%|▌         | 70493/1333914 [01:20<05:36, 3750.25it/s]"
     ]
    },
    {
     "name": "stdout",
     "output_type": "stream",
     "text": [
      "Missing data for lep_4 in row 69909, skipping this particle.\n"
     ]
    },
    {
     "name": "stderr",
     "output_type": "stream",
     "text": [
      "Calculating total invariant mass:   5%|▌         | 73272/1333914 [01:20<05:35, 3760.06it/s]"
     ]
    },
    {
     "name": "stdout",
     "output_type": "stream",
     "text": [
      "Missing data for lep_4 in row 72883, skipping this particle.\n"
     ]
    },
    {
     "name": "stderr",
     "output_type": "stream",
     "text": [
      "Calculating total invariant mass:   6%|▌         | 77150/1333914 [01:21<05:44, 3650.62it/s]"
     ]
    },
    {
     "name": "stdout",
     "output_type": "stream",
     "text": [
      "Missing data for lep_4 in row 76649, skipping this particle.\n"
     ]
    },
    {
     "name": "stderr",
     "output_type": "stream",
     "text": [
      "Calculating total invariant mass:   6%|▌         | 83121/1333914 [01:23<05:28, 3806.59it/s]"
     ]
    },
    {
     "name": "stdout",
     "output_type": "stream",
     "text": [
      "Missing data for lep_4 in row 82480, skipping this particle.\n"
     ]
    },
    {
     "name": "stderr",
     "output_type": "stream",
     "text": [
      "Calculating total invariant mass:   8%|▊         | 103389/1333914 [01:28<05:36, 3653.77it/s]"
     ]
    },
    {
     "name": "stdout",
     "output_type": "stream",
     "text": [
      "Missing data for lep_4 in row 102868, skipping this particle.\n"
     ]
    },
    {
     "name": "stderr",
     "output_type": "stream",
     "text": [
      "Calculating total invariant mass:   9%|▉         | 118708/1333914 [01:32<05:22, 3771.33it/s]"
     ]
    },
    {
     "name": "stdout",
     "output_type": "stream",
     "text": [
      "Missing data for lep_4 in row 118049, skipping this particle.\n"
     ]
    },
    {
     "name": "stderr",
     "output_type": "stream",
     "text": [
      "Calculating total invariant mass:   9%|▉         | 119874/1333914 [01:33<05:33, 3643.12it/s]"
     ]
    },
    {
     "name": "stdout",
     "output_type": "stream",
     "text": [
      "Missing data for lep_4 in row 119436, skipping this particle.\n",
      "Missing data for lep_4 in row 119792, skipping this particle.\n"
     ]
    },
    {
     "name": "stderr",
     "output_type": "stream",
     "text": [
      "Calculating total invariant mass:   9%|▉         | 122889/1333914 [01:34<05:31, 3648.31it/s]"
     ]
    },
    {
     "name": "stdout",
     "output_type": "stream",
     "text": [
      "Missing data for lep_4 in row 122142, skipping this particle.\n"
     ]
    },
    {
     "name": "stderr",
     "output_type": "stream",
     "text": [
      "Calculating total invariant mass:  10%|▉         | 131245/1333914 [01:36<05:28, 3665.20it/s]"
     ]
    },
    {
     "name": "stdout",
     "output_type": "stream",
     "text": [
      "Missing data for lep_4 in row 130513, skipping this particle.\n"
     ]
    },
    {
     "name": "stderr",
     "output_type": "stream",
     "text": [
      "Calculating total invariant mass:  10%|█         | 135535/1333914 [01:37<05:26, 3675.53it/s]"
     ]
    },
    {
     "name": "stdout",
     "output_type": "stream",
     "text": [
      "Missing data for lep_4 in row 134754, skipping this particle.\n",
      "Missing data for lep_4 in row 134892, skipping this particle.\n"
     ]
    },
    {
     "name": "stderr",
     "output_type": "stream",
     "text": [
      "Calculating total invariant mass:  11%|█         | 141899/1333914 [01:39<05:17, 3750.37it/s]"
     ]
    },
    {
     "name": "stdout",
     "output_type": "stream",
     "text": [
      "Missing data for lep_4 in row 141284, skipping this particle.\n"
     ]
    },
    {
     "name": "stderr",
     "output_type": "stream",
     "text": [
      "Calculating total invariant mass:  12%|█▏        | 159024/1333914 [01:43<05:07, 3824.49it/s]"
     ]
    },
    {
     "name": "stdout",
     "output_type": "stream",
     "text": [
      "Missing data for lep_4 in row 158217, skipping this particle.\n"
     ]
    },
    {
     "name": "stderr",
     "output_type": "stream",
     "text": [
      "Calculating total invariant mass:  12%|█▏        | 162646/1333914 [01:44<05:06, 3822.58it/s]"
     ]
    },
    {
     "name": "stdout",
     "output_type": "stream",
     "text": [
      "Missing data for lep_4 in row 162177, skipping this particle.\n"
     ]
    },
    {
     "name": "stderr",
     "output_type": "stream",
     "text": [
      "Calculating total invariant mass:  13%|█▎        | 170501/1333914 [01:46<05:08, 3766.79it/s]"
     ]
    },
    {
     "name": "stdout",
     "output_type": "stream",
     "text": [
      "Missing data for lep_4 in row 170065, skipping this particle.\n"
     ]
    },
    {
     "name": "stderr",
     "output_type": "stream",
     "text": [
      "Calculating total invariant mass:  13%|█▎        | 172869/1333914 [01:47<05:13, 3702.04it/s]"
     ]
    },
    {
     "name": "stdout",
     "output_type": "stream",
     "text": [
      "Missing data for lep_4 in row 172262, skipping this particle.\n"
     ]
    },
    {
     "name": "stderr",
     "output_type": "stream",
     "text": [
      "Calculating total invariant mass:  13%|█▎        | 178073/1333914 [01:48<05:12, 3703.82it/s]"
     ]
    },
    {
     "name": "stdout",
     "output_type": "stream",
     "text": [
      "Missing data for lep_4 in row 177548, skipping this particle.\n"
     ]
    },
    {
     "name": "stderr",
     "output_type": "stream",
     "text": [
      "Calculating total invariant mass:  13%|█▎        | 179209/1333914 [01:49<05:24, 3555.11it/s]"
     ]
    },
    {
     "name": "stdout",
     "output_type": "stream",
     "text": [
      "Missing data for lep_4 in row 178466, skipping this particle.\n"
     ]
    },
    {
     "name": "stderr",
     "output_type": "stream",
     "text": [
      "Calculating total invariant mass:  14%|█▍        | 185124/1333914 [01:50<05:15, 3641.95it/s]"
     ]
    },
    {
     "name": "stdout",
     "output_type": "stream",
     "text": [
      "Missing data for lep_4 in row 184534, skipping this particle.\n"
     ]
    },
    {
     "name": "stderr",
     "output_type": "stream",
     "text": [
      "Calculating total invariant mass:  15%|█▍        | 196113/1333914 [01:53<05:00, 3783.05it/s]"
     ]
    },
    {
     "name": "stdout",
     "output_type": "stream",
     "text": [
      "Missing data for lep_4 in row 195406, skipping this particle.\n"
     ]
    },
    {
     "name": "stderr",
     "output_type": "stream",
     "text": [
      "Calculating total invariant mass:  15%|█▍        | 197632/1333914 [01:54<05:08, 3681.81it/s]"
     ]
    },
    {
     "name": "stdout",
     "output_type": "stream",
     "text": [
      "Missing data for lep_4 in row 197041, skipping this particle.\n",
      "Missing data for lep_4 in row 197753, skipping this particle.\n"
     ]
    },
    {
     "name": "stderr",
     "output_type": "stream",
     "text": [
      "Calculating total invariant mass:  15%|█▍        | 199214/1333914 [01:54<05:00, 3771.67it/s]"
     ]
    },
    {
     "name": "stdout",
     "output_type": "stream",
     "text": [
      "Missing data for lep_4 in row 198649, skipping this particle.\n",
      "Missing data for lep_5 in row 198649, skipping this particle.\n"
     ]
    },
    {
     "name": "stderr",
     "output_type": "stream",
     "text": [
      "Calculating total invariant mass:  16%|█▌        | 208103/1333914 [01:56<05:02, 3723.03it/s]"
     ]
    },
    {
     "name": "stdout",
     "output_type": "stream",
     "text": [
      "Missing data for lep_4 in row 207599, skipping this particle.\n"
     ]
    },
    {
     "name": "stderr",
     "output_type": "stream",
     "text": [
      "Calculating total invariant mass:  18%|█▊        | 238348/1333914 [02:04<04:48, 3803.46it/s]"
     ]
    },
    {
     "name": "stdout",
     "output_type": "stream",
     "text": [
      "Missing data for lep_4 in row 237797, skipping this particle.\n",
      "Missing data for lep_4 in row 238109, skipping this particle.\n"
     ]
    },
    {
     "name": "stderr",
     "output_type": "stream",
     "text": [
      "Calculating total invariant mass:  18%|█▊        | 240722/1333914 [02:05<04:58, 3661.14it/s]"
     ]
    },
    {
     "name": "stdout",
     "output_type": "stream",
     "text": [
      "Missing data for lep_4 in row 240287, skipping this particle.\n"
     ]
    },
    {
     "name": "stderr",
     "output_type": "stream",
     "text": [
      "Calculating total invariant mass:  18%|█▊        | 244200/1333914 [02:06<04:57, 3667.38it/s]"
     ]
    },
    {
     "name": "stdout",
     "output_type": "stream",
     "text": [
      "Missing data for lep_4 in row 243744, skipping this particle.\n"
     ]
    },
    {
     "name": "stderr",
     "output_type": "stream",
     "text": [
      "Calculating total invariant mass:  18%|█▊        | 245778/1333914 [02:06<04:52, 3724.56it/s]"
     ]
    },
    {
     "name": "stdout",
     "output_type": "stream",
     "text": [
      "Missing data for lep_4 in row 245121, skipping this particle.\n"
     ]
    },
    {
     "name": "stderr",
     "output_type": "stream",
     "text": [
      "Calculating total invariant mass:  19%|█▉        | 256022/1333914 [02:09<04:40, 3841.86it/s]"
     ]
    },
    {
     "name": "stdout",
     "output_type": "stream",
     "text": [
      "Missing data for lep_4 in row 255304, skipping this particle.\n"
     ]
    },
    {
     "name": "stderr",
     "output_type": "stream",
     "text": [
      "Calculating total invariant mass:  20%|██        | 268006/1333914 [02:12<04:45, 3731.56it/s]"
     ]
    },
    {
     "name": "stdout",
     "output_type": "stream",
     "text": [
      "Missing data for lep_4 in row 267293, skipping this particle.\n"
     ]
    },
    {
     "name": "stderr",
     "output_type": "stream",
     "text": [
      "Calculating total invariant mass:  21%|██        | 273879/1333914 [02:14<04:45, 3710.62it/s]"
     ]
    },
    {
     "name": "stdout",
     "output_type": "stream",
     "text": [
      "Missing data for lep_4 in row 273275, skipping this particle.\n"
     ]
    },
    {
     "name": "stderr",
     "output_type": "stream",
     "text": [
      "Calculating total invariant mass:  21%|██        | 282991/1333914 [02:16<04:38, 3773.61it/s]"
     ]
    },
    {
     "name": "stdout",
     "output_type": "stream",
     "text": [
      "Missing data for lep_4 in row 282518, skipping this particle.\n"
     ]
    },
    {
     "name": "stderr",
     "output_type": "stream",
     "text": [
      "Calculating total invariant mass:  23%|██▎       | 300518/1333914 [02:21<04:35, 3757.25it/s]"
     ]
    },
    {
     "name": "stdout",
     "output_type": "stream",
     "text": [
      "Missing data for lep_4 in row 299860, skipping this particle.\n",
      "Missing data for lep_5 in row 299860, skipping this particle.\n"
     ]
    },
    {
     "name": "stderr",
     "output_type": "stream",
     "text": [
      "Calculating total invariant mass:  23%|██▎       | 310557/1333914 [02:24<04:31, 3763.30it/s]"
     ]
    },
    {
     "name": "stdout",
     "output_type": "stream",
     "text": [
      "Missing data for lep_4 in row 309874, skipping this particle.\n"
     ]
    },
    {
     "name": "stderr",
     "output_type": "stream",
     "text": [
      "Calculating total invariant mass:  23%|██▎       | 312939/1333914 [02:24<04:31, 3756.83it/s]"
     ]
    },
    {
     "name": "stdout",
     "output_type": "stream",
     "text": [
      "Missing data for lep_4 in row 312443, skipping this particle.\n"
     ]
    },
    {
     "name": "stderr",
     "output_type": "stream",
     "text": [
      "Calculating total invariant mass:  24%|██▍       | 323005/1333914 [02:27<04:42, 3581.11it/s]"
     ]
    },
    {
     "name": "stdout",
     "output_type": "stream",
     "text": [
      "Missing data for lep_4 in row 322549, skipping this particle.\n"
     ]
    },
    {
     "name": "stderr",
     "output_type": "stream",
     "text": [
      "Calculating total invariant mass:  24%|██▍       | 324983/1333914 [02:28<05:08, 3271.12it/s]"
     ]
    },
    {
     "name": "stdout",
     "output_type": "stream",
     "text": [
      "Missing data for lep_4 in row 324444, skipping this particle.\n",
      "Missing data for lep_4 in row 324982, skipping this particle.\n"
     ]
    },
    {
     "name": "stderr",
     "output_type": "stream",
     "text": [
      "Calculating total invariant mass:  25%|██▍       | 327747/1333914 [02:28<04:30, 3720.23it/s]"
     ]
    },
    {
     "name": "stdout",
     "output_type": "stream",
     "text": [
      "Missing data for lep_4 in row 327189, skipping this particle.\n"
     ]
    },
    {
     "name": "stderr",
     "output_type": "stream",
     "text": [
      "Calculating total invariant mass:  25%|██▍       | 330441/1333914 [02:29<04:30, 3712.96it/s]"
     ]
    },
    {
     "name": "stdout",
     "output_type": "stream",
     "text": [
      "Missing data for lep_4 in row 329856, skipping this particle.\n"
     ]
    },
    {
     "name": "stderr",
     "output_type": "stream",
     "text": [
      "Calculating total invariant mass:  25%|██▌       | 338045/1333914 [02:31<04:21, 3801.13it/s]"
     ]
    },
    {
     "name": "stdout",
     "output_type": "stream",
     "text": [
      "Missing data for lep_4 in row 337346, skipping this particle.\n"
     ]
    },
    {
     "name": "stderr",
     "output_type": "stream",
     "text": [
      "Calculating total invariant mass:  26%|██▌       | 341267/1333914 [02:32<04:21, 3802.00it/s]"
     ]
    },
    {
     "name": "stdout",
     "output_type": "stream",
     "text": [
      "Missing data for lep_4 in row 340650, skipping this particle.\n"
     ]
    },
    {
     "name": "stderr",
     "output_type": "stream",
     "text": [
      "Calculating total invariant mass:  26%|██▌       | 344824/1333914 [02:33<04:19, 3813.39it/s]"
     ]
    },
    {
     "name": "stdout",
     "output_type": "stream",
     "text": [
      "Missing data for lep_4 in row 344181, skipping this particle.\n"
     ]
    },
    {
     "name": "stderr",
     "output_type": "stream",
     "text": [
      "Calculating total invariant mass:  26%|██▌       | 349690/1333914 [02:34<04:12, 3900.21it/s]"
     ]
    },
    {
     "name": "stdout",
     "output_type": "stream",
     "text": [
      "Missing data for lep_4 in row 348959, skipping this particle.\n"
     ]
    },
    {
     "name": "stderr",
     "output_type": "stream",
     "text": [
      "Calculating total invariant mass:  26%|██▋       | 350909/1333914 [02:35<04:12, 3891.66it/s]"
     ]
    },
    {
     "name": "stdout",
     "output_type": "stream",
     "text": [
      "Missing data for lep_4 in row 350476, skipping this particle.\n"
     ]
    },
    {
     "name": "stderr",
     "output_type": "stream",
     "text": [
      "Calculating total invariant mass:  27%|██▋       | 360063/1333914 [02:37<04:17, 3785.54it/s]"
     ]
    },
    {
     "name": "stdout",
     "output_type": "stream",
     "text": [
      "Missing data for lep_4 in row 359540, skipping this particle.\n"
     ]
    },
    {
     "name": "stderr",
     "output_type": "stream",
     "text": [
      "Calculating total invariant mass:  27%|██▋       | 362827/1333914 [02:38<04:12, 3840.00it/s]"
     ]
    },
    {
     "name": "stdout",
     "output_type": "stream",
     "text": [
      "Missing data for jet_16 in row 362248, skipping this particle.\n",
      "Missing data for jet_17 in row 362248, skipping this particle.\n"
     ]
    },
    {
     "name": "stderr",
     "output_type": "stream",
     "text": [
      "Calculating total invariant mass:  28%|██▊       | 372717/1333914 [02:40<04:19, 3701.95it/s]"
     ]
    },
    {
     "name": "stdout",
     "output_type": "stream",
     "text": [
      "Missing data for lep_4 in row 372291, skipping this particle.\n"
     ]
    },
    {
     "name": "stderr",
     "output_type": "stream",
     "text": [
      "Calculating total invariant mass:  29%|██▉       | 384312/1333914 [02:43<04:08, 3827.92it/s]"
     ]
    },
    {
     "name": "stdout",
     "output_type": "stream",
     "text": [
      "Missing data for lep_4 in row 383783, skipping this particle.\n"
     ]
    },
    {
     "name": "stderr",
     "output_type": "stream",
     "text": [
      "Calculating total invariant mass:  30%|███       | 402570/1333914 [02:48<04:08, 3747.80it/s]"
     ]
    },
    {
     "name": "stdout",
     "output_type": "stream",
     "text": [
      "Missing data for lep_4 in row 402118, skipping this particle.\n"
     ]
    },
    {
     "name": "stderr",
     "output_type": "stream",
     "text": [
      "Calculating total invariant mass:  31%|███▏      | 418676/1333914 [02:52<04:04, 3740.01it/s]"
     ]
    },
    {
     "name": "stdout",
     "output_type": "stream",
     "text": [
      "Missing data for lep_4 in row 417943, skipping this particle.\n"
     ]
    },
    {
     "name": "stderr",
     "output_type": "stream",
     "text": [
      "Calculating total invariant mass:  32%|███▏      | 425542/1333914 [02:54<04:13, 3581.38it/s]"
     ]
    },
    {
     "name": "stdout",
     "output_type": "stream",
     "text": [
      "Missing data for lep_4 in row 424859, skipping this particle.\n",
      "Missing data for lep_4 in row 425304, skipping this particle.\n"
     ]
    },
    {
     "name": "stderr",
     "output_type": "stream",
     "text": [
      "Calculating total invariant mass:  32%|███▏      | 428298/1333914 [02:55<04:09, 3632.86it/s]"
     ]
    },
    {
     "name": "stdout",
     "output_type": "stream",
     "text": [
      "Missing data for lep_4 in row 427513, skipping this particle.\n"
     ]
    },
    {
     "name": "stderr",
     "output_type": "stream",
     "text": [
      "Calculating total invariant mass:  32%|███▏      | 430247/1333914 [02:56<03:58, 3785.57it/s]"
     ]
    },
    {
     "name": "stdout",
     "output_type": "stream",
     "text": [
      "Missing data for lep_4 in row 429473, skipping this particle.\n"
     ]
    },
    {
     "name": "stderr",
     "output_type": "stream",
     "text": [
      "Calculating total invariant mass:  34%|███▍      | 456743/1333914 [03:03<03:57, 3687.44it/s]"
     ]
    },
    {
     "name": "stdout",
     "output_type": "stream",
     "text": [
      "Missing data for lep_4 in row 456268, skipping this particle.\n"
     ]
    },
    {
     "name": "stderr",
     "output_type": "stream",
     "text": [
      "Calculating total invariant mass:  34%|███▍      | 457944/1333914 [03:03<03:53, 3749.97it/s]"
     ]
    },
    {
     "name": "stdout",
     "output_type": "stream",
     "text": [
      "Missing data for lep_4 in row 457227, skipping this particle.\n"
     ]
    },
    {
     "name": "stderr",
     "output_type": "stream",
     "text": [
      "Calculating total invariant mass:  35%|███▍      | 460309/1333914 [03:04<03:53, 3742.23it/s]"
     ]
    },
    {
     "name": "stdout",
     "output_type": "stream",
     "text": [
      "Missing data for lep_4 in row 459608, skipping this particle.\n"
     ]
    },
    {
     "name": "stderr",
     "output_type": "stream",
     "text": [
      "Calculating total invariant mass:  35%|███▍      | 462207/1333914 [03:04<03:59, 3635.03it/s]"
     ]
    },
    {
     "name": "stdout",
     "output_type": "stream",
     "text": [
      "Missing data for lep_4 in row 461659, skipping this particle.\n"
     ]
    },
    {
     "name": "stderr",
     "output_type": "stream",
     "text": [
      "Calculating total invariant mass:  36%|███▌      | 481029/1333914 [03:09<03:53, 3651.80it/s]"
     ]
    },
    {
     "name": "stdout",
     "output_type": "stream",
     "text": [
      "Missing data for lep_4 in row 480485, skipping this particle.\n",
      "Missing data for lep_4 in row 481008, skipping this particle.\n"
     ]
    },
    {
     "name": "stderr",
     "output_type": "stream",
     "text": [
      "Calculating total invariant mass:  36%|███▋      | 486559/1333914 [03:11<03:45, 3755.11it/s]"
     ]
    },
    {
     "name": "stdout",
     "output_type": "stream",
     "text": [
      "Missing data for lep_4 in row 486094, skipping this particle.\n",
      "Missing data for lep_4 in row 486416, skipping this particle.\n",
      "Missing data for lep_4 in row 486952, skipping this particle.\n"
     ]
    },
    {
     "name": "stderr",
     "output_type": "stream",
     "text": [
      "Calculating total invariant mass:  37%|███▋      | 490887/1333914 [03:12<03:46, 3714.65it/s]"
     ]
    },
    {
     "name": "stdout",
     "output_type": "stream",
     "text": [
      "Missing data for lep_4 in row 490451, skipping this particle.\n",
      "Missing data for lep_4 in row 490938, skipping this particle.\n"
     ]
    },
    {
     "name": "stderr",
     "output_type": "stream",
     "text": [
      "Calculating total invariant mass:  37%|███▋      | 495108/1333914 [03:13<03:45, 3722.77it/s]"
     ]
    },
    {
     "name": "stdout",
     "output_type": "stream",
     "text": [
      "Missing data for lep_4 in row 494774, skipping this particle.\n"
     ]
    },
    {
     "name": "stderr",
     "output_type": "stream",
     "text": [
      "Calculating total invariant mass:  38%|███▊      | 505124/1333914 [03:16<03:34, 3870.40it/s]"
     ]
    },
    {
     "name": "stdout",
     "output_type": "stream",
     "text": [
      "Missing data for lep_4 in row 504303, skipping this particle.\n",
      "Missing data for lep_5 in row 504303, skipping this particle.\n"
     ]
    },
    {
     "name": "stderr",
     "output_type": "stream",
     "text": [
      "Calculating total invariant mass:  38%|███▊      | 509035/1333914 [03:17<03:42, 3701.27it/s]"
     ]
    },
    {
     "name": "stdout",
     "output_type": "stream",
     "text": [
      "Missing data for lep_4 in row 508195, skipping this particle.\n"
     ]
    },
    {
     "name": "stderr",
     "output_type": "stream",
     "text": [
      "Calculating total invariant mass:  39%|███▊      | 514427/1333914 [03:18<03:40, 3716.13it/s]"
     ]
    },
    {
     "name": "stdout",
     "output_type": "stream",
     "text": [
      "Missing data for lep_4 in row 513656, skipping this particle.\n",
      "Missing data for lep_4 in row 513864, skipping this particle.\n"
     ]
    },
    {
     "name": "stderr",
     "output_type": "stream",
     "text": [
      "Calculating total invariant mass:  39%|███▊      | 515628/1333914 [03:19<03:36, 3773.38it/s]"
     ]
    },
    {
     "name": "stdout",
     "output_type": "stream",
     "text": [
      "Missing data for lep_4 in row 515323, skipping this particle.\n"
     ]
    },
    {
     "name": "stderr",
     "output_type": "stream",
     "text": [
      "Calculating total invariant mass:  39%|███▉      | 525271/1333914 [03:21<03:36, 3728.45it/s]"
     ]
    },
    {
     "name": "stdout",
     "output_type": "stream",
     "text": [
      "Missing data for lep_4 in row 524654, skipping this particle.\n"
     ]
    },
    {
     "name": "stderr",
     "output_type": "stream",
     "text": [
      "Calculating total invariant mass:  40%|███▉      | 530433/1333914 [03:22<03:40, 3650.36it/s]"
     ]
    },
    {
     "name": "stdout",
     "output_type": "stream",
     "text": [
      "Missing data for lep_4 in row 529879, skipping this particle.\n"
     ]
    },
    {
     "name": "stderr",
     "output_type": "stream",
     "text": [
      "Calculating total invariant mass:  41%|████      | 544396/1333914 [03:26<03:29, 3762.78it/s]"
     ]
    },
    {
     "name": "stdout",
     "output_type": "stream",
     "text": [
      "Missing data for jet_16 in row 543686, skipping this particle.\n"
     ]
    },
    {
     "name": "stderr",
     "output_type": "stream",
     "text": [
      "Calculating total invariant mass:  41%|████▏     | 551864/1333914 [03:28<03:29, 3732.74it/s]"
     ]
    },
    {
     "name": "stdout",
     "output_type": "stream",
     "text": [
      "Missing data for lep_4 in row 551219, skipping this particle.\n"
     ]
    },
    {
     "name": "stderr",
     "output_type": "stream",
     "text": [
      "Calculating total invariant mass:  42%|████▏     | 554617/1333914 [03:29<03:27, 3761.22it/s]"
     ]
    },
    {
     "name": "stdout",
     "output_type": "stream",
     "text": [
      "Missing data for lep_4 in row 554027, skipping this particle.\n"
     ]
    },
    {
     "name": "stderr",
     "output_type": "stream",
     "text": [
      "Calculating total invariant mass:  42%|████▏     | 560916/1333914 [03:31<03:27, 3727.72it/s]"
     ]
    },
    {
     "name": "stdout",
     "output_type": "stream",
     "text": [
      "Missing data for lep_4 in row 560313, skipping this particle.\n"
     ]
    },
    {
     "name": "stderr",
     "output_type": "stream",
     "text": [
      "Calculating total invariant mass:  43%|████▎     | 569748/1333914 [03:33<03:18, 3852.45it/s]"
     ]
    },
    {
     "name": "stdout",
     "output_type": "stream",
     "text": [
      "Missing data for lep_4 in row 569312, skipping this particle.\n",
      "Missing data for lep_4 in row 569748, skipping this particle.\n"
     ]
    },
    {
     "name": "stderr",
     "output_type": "stream",
     "text": [
      "Calculating total invariant mass:  43%|████▎     | 571271/1333914 [03:33<03:33, 3577.42it/s]"
     ]
    },
    {
     "name": "stdout",
     "output_type": "stream",
     "text": [
      "Missing data for lep_4 in row 570700, skipping this particle.\n"
     ]
    },
    {
     "name": "stderr",
     "output_type": "stream",
     "text": [
      "Calculating total invariant mass:  43%|████▎     | 579898/1333914 [03:36<03:22, 3716.91it/s]"
     ]
    },
    {
     "name": "stdout",
     "output_type": "stream",
     "text": [
      "Missing data for lep_4 in row 579277, skipping this particle.\n"
     ]
    },
    {
     "name": "stderr",
     "output_type": "stream",
     "text": [
      "Calculating total invariant mass:  44%|████▍     | 583806/1333914 [03:37<03:19, 3761.04it/s]"
     ]
    },
    {
     "name": "stdout",
     "output_type": "stream",
     "text": [
      "Missing data for lep_4 in row 583181, skipping this particle.\n"
     ]
    },
    {
     "name": "stderr",
     "output_type": "stream",
     "text": [
      "Calculating total invariant mass:  44%|████▍     | 584583/1333914 [03:37<03:20, 3730.80it/s]"
     ]
    },
    {
     "name": "stdout",
     "output_type": "stream",
     "text": [
      "Missing data for lep_4 in row 584206, skipping this particle.\n"
     ]
    },
    {
     "name": "stderr",
     "output_type": "stream",
     "text": [
      "Calculating total invariant mass:  44%|████▍     | 589341/1333914 [03:38<03:14, 3820.03it/s]"
     ]
    },
    {
     "name": "stdout",
     "output_type": "stream",
     "text": [
      "Missing data for lep_4 in row 588756, skipping this particle.\n"
     ]
    },
    {
     "name": "stderr",
     "output_type": "stream",
     "text": [
      "Calculating total invariant mass:  44%|████▍     | 591305/1333914 [03:39<03:14, 3826.20it/s]"
     ]
    },
    {
     "name": "stdout",
     "output_type": "stream",
     "text": [
      "Missing data for lep_4 in row 590512, skipping this particle.\n",
      "Missing data for lep_4 in row 590577, skipping this particle.\n",
      "Missing data for lep_4 in row 590590, skipping this particle.\n"
     ]
    },
    {
     "name": "stderr",
     "output_type": "stream",
     "text": [
      "Calculating total invariant mass:  44%|████▍     | 592534/1333914 [03:39<03:11, 3877.14it/s]"
     ]
    },
    {
     "name": "stdout",
     "output_type": "stream",
     "text": [
      "Missing data for lep_4 in row 591860, skipping this particle.\n"
     ]
    },
    {
     "name": "stderr",
     "output_type": "stream",
     "text": [
      "Calculating total invariant mass:  45%|████▍     | 593750/1333914 [03:39<03:12, 3837.83it/s]"
     ]
    },
    {
     "name": "stdout",
     "output_type": "stream",
     "text": [
      "Missing data for lep_4 in row 593275, skipping this particle.\n"
     ]
    },
    {
     "name": "stderr",
     "output_type": "stream",
     "text": [
      "Calculating total invariant mass:  45%|████▍     | 596142/1333914 [03:40<03:14, 3796.69it/s]"
     ]
    },
    {
     "name": "stdout",
     "output_type": "stream",
     "text": [
      "Missing data for lep_4 in row 595378, skipping this particle.\n"
     ]
    },
    {
     "name": "stderr",
     "output_type": "stream",
     "text": [
      "Calculating total invariant mass:  45%|████▍     | 598576/1333914 [03:41<03:12, 3822.54it/s]"
     ]
    },
    {
     "name": "stdout",
     "output_type": "stream",
     "text": [
      "Missing data for lep_4 in row 597930, skipping this particle.\n"
     ]
    },
    {
     "name": "stderr",
     "output_type": "stream",
     "text": [
      "Calculating total invariant mass:  45%|████▌     | 601762/1333914 [03:42<03:14, 3762.76it/s]"
     ]
    },
    {
     "name": "stdout",
     "output_type": "stream",
     "text": [
      "Missing data for lep_4 in row 601224, skipping this particle.\n",
      "Missing data for lep_5 in row 601224, skipping this particle.\n"
     ]
    },
    {
     "name": "stderr",
     "output_type": "stream",
     "text": [
      "Calculating total invariant mass:  45%|████▌     | 604880/1333914 [03:42<03:16, 3709.15it/s]"
     ]
    },
    {
     "name": "stdout",
     "output_type": "stream",
     "text": [
      "Missing data for lep_4 in row 604166, skipping this particle.\n",
      "Missing data for lep_5 in row 604166, skipping this particle.\n"
     ]
    },
    {
     "name": "stderr",
     "output_type": "stream",
     "text": [
      "Calculating total invariant mass:  46%|████▋     | 620261/1333914 [03:46<03:15, 3642.11it/s]"
     ]
    },
    {
     "name": "stdout",
     "output_type": "stream",
     "text": [
      "Missing data for lep_4 in row 619566, skipping this particle.\n"
     ]
    },
    {
     "name": "stderr",
     "output_type": "stream",
     "text": [
      "Calculating total invariant mass:  47%|████▋     | 626612/1333914 [03:48<03:09, 3724.97it/s]"
     ]
    },
    {
     "name": "stdout",
     "output_type": "stream",
     "text": [
      "Missing data for lep_4 in row 625998, skipping this particle.\n"
     ]
    },
    {
     "name": "stderr",
     "output_type": "stream",
     "text": [
      "Calculating total invariant mass:  47%|████▋     | 633350/1333914 [03:50<03:05, 3773.77it/s]"
     ]
    },
    {
     "name": "stdout",
     "output_type": "stream",
     "text": [
      "Missing data for lep_4 in row 632648, skipping this particle.\n"
     ]
    },
    {
     "name": "stderr",
     "output_type": "stream",
     "text": [
      "Calculating total invariant mass:  48%|████▊     | 643639/1333914 [03:53<03:02, 3790.28it/s]"
     ]
    },
    {
     "name": "stdout",
     "output_type": "stream",
     "text": [
      "Missing data for lep_4 in row 643070, skipping this particle.\n"
     ]
    },
    {
     "name": "stderr",
     "output_type": "stream",
     "text": [
      "Calculating total invariant mass:  48%|████▊     | 645667/1333914 [03:53<02:57, 3870.29it/s]"
     ]
    },
    {
     "name": "stdout",
     "output_type": "stream",
     "text": [
      "Missing data for lep_4 in row 645231, skipping this particle.\n"
     ]
    },
    {
     "name": "stderr",
     "output_type": "stream",
     "text": [
      "Calculating total invariant mass:  49%|████▉     | 650440/1333914 [03:54<03:09, 3615.45it/s]"
     ]
    },
    {
     "name": "stdout",
     "output_type": "stream",
     "text": [
      "Missing data for lep_4 in row 649914, skipping this particle.\n"
     ]
    },
    {
     "name": "stderr",
     "output_type": "stream",
     "text": [
      "Calculating total invariant mass:  49%|████▉     | 652062/1333914 [03:55<02:57, 3851.00it/s]"
     ]
    },
    {
     "name": "stdout",
     "output_type": "stream",
     "text": [
      "Missing data for lep_4 in row 651539, skipping this particle.\n"
     ]
    },
    {
     "name": "stderr",
     "output_type": "stream",
     "text": [
      "Calculating total invariant mass:  49%|████▉     | 655645/1333914 [03:56<02:55, 3864.30it/s]"
     ]
    },
    {
     "name": "stdout",
     "output_type": "stream",
     "text": [
      "Missing data for lep_4 in row 654898, skipping this particle.\n"
     ]
    },
    {
     "name": "stderr",
     "output_type": "stream",
     "text": [
      "Calculating total invariant mass:  49%|████▉     | 658504/1333914 [03:57<02:55, 3848.17it/s]"
     ]
    },
    {
     "name": "stdout",
     "output_type": "stream",
     "text": [
      "Missing data for lep_4 in row 657861, skipping this particle.\n"
     ]
    },
    {
     "name": "stderr",
     "output_type": "stream",
     "text": [
      "Calculating total invariant mass:  49%|████▉     | 659770/1333914 [03:57<02:50, 3954.41it/s]"
     ]
    },
    {
     "name": "stdout",
     "output_type": "stream",
     "text": [
      "Missing data for lep_4 in row 659036, skipping this particle.\n"
     ]
    },
    {
     "name": "stderr",
     "output_type": "stream",
     "text": [
      "Calculating total invariant mass:  50%|████▉     | 663888/1333914 [03:58<02:49, 3954.03it/s]"
     ]
    },
    {
     "name": "stdout",
     "output_type": "stream",
     "text": [
      "Missing data for lep_4 in row 663408, skipping this particle.\n"
     ]
    },
    {
     "name": "stderr",
     "output_type": "stream",
     "text": [
      "Calculating total invariant mass:  50%|█████     | 667176/1333914 [03:59<02:49, 3924.14it/s]"
     ]
    },
    {
     "name": "stdout",
     "output_type": "stream",
     "text": [
      "Missing data for lep_4 in row 666600, skipping this particle.\n",
      "Missing data for lep_4 in row 667095, skipping this particle.\n"
     ]
    },
    {
     "name": "stderr",
     "output_type": "stream",
     "text": [
      "Calculating total invariant mass:  52%|█████▏    | 689682/1333914 [04:05<02:48, 3818.20it/s]"
     ]
    },
    {
     "name": "stdout",
     "output_type": "stream",
     "text": [
      "Missing data for lep_4 in row 689123, skipping this particle.\n"
     ]
    },
    {
     "name": "stderr",
     "output_type": "stream",
     "text": [
      "Calculating total invariant mass:  52%|█████▏    | 690926/1333914 [04:05<02:44, 3902.85it/s]"
     ]
    },
    {
     "name": "stdout",
     "output_type": "stream",
     "text": [
      "Missing data for lep_4 in row 690324, skipping this particle.\n"
     ]
    },
    {
     "name": "stderr",
     "output_type": "stream",
     "text": [
      "Calculating total invariant mass:  52%|█████▏    | 697807/1333914 [04:07<02:44, 3862.92it/s]"
     ]
    },
    {
     "name": "stdout",
     "output_type": "stream",
     "text": [
      "Missing data for lep_4 in row 697200, skipping this particle.\n"
     ]
    },
    {
     "name": "stderr",
     "output_type": "stream",
     "text": [
      "Calculating total invariant mass:  53%|█████▎    | 707998/1333914 [04:09<02:39, 3931.01it/s]"
     ]
    },
    {
     "name": "stdout",
     "output_type": "stream",
     "text": [
      "Missing data for lep_4 in row 707126, skipping this particle.\n"
     ]
    },
    {
     "name": "stderr",
     "output_type": "stream",
     "text": [
      "Calculating total invariant mass:  53%|█████▎    | 709225/1333914 [04:10<02:40, 3900.08it/s]"
     ]
    },
    {
     "name": "stdout",
     "output_type": "stream",
     "text": [
      "Missing data for lep_4 in row 708390, skipping this particle.\n",
      "Missing data for lep_4 in row 709014, skipping this particle.\n"
     ]
    },
    {
     "name": "stderr",
     "output_type": "stream",
     "text": [
      "Calculating total invariant mass:  54%|█████▍    | 717051/1333914 [04:12<02:38, 3881.94it/s]"
     ]
    },
    {
     "name": "stdout",
     "output_type": "stream",
     "text": [
      "Missing data for lep_4 in row 716550, skipping this particle.\n",
      "Missing data for lep_4 in row 717210, skipping this particle.\n"
     ]
    },
    {
     "name": "stderr",
     "output_type": "stream",
     "text": [
      "Calculating total invariant mass:  54%|█████▍    | 724750/1333914 [04:14<02:37, 3865.25it/s]"
     ]
    },
    {
     "name": "stdout",
     "output_type": "stream",
     "text": [
      "Missing data for lep_4 in row 724120, skipping this particle.\n"
     ]
    },
    {
     "name": "stderr",
     "output_type": "stream",
     "text": [
      "Calculating total invariant mass:  55%|█████▍    | 732053/1333914 [04:16<02:31, 3973.37it/s]"
     ]
    },
    {
     "name": "stdout",
     "output_type": "stream",
     "text": [
      "Missing data for lep_4 in row 731138, skipping this particle.\n"
     ]
    },
    {
     "name": "stderr",
     "output_type": "stream",
     "text": [
      "Calculating total invariant mass:  55%|█████▌    | 734815/1333914 [04:16<02:41, 3712.98it/s]"
     ]
    },
    {
     "name": "stdout",
     "output_type": "stream",
     "text": [
      "Missing data for lep_4 in row 734083, skipping this particle.\n"
     ]
    },
    {
     "name": "stderr",
     "output_type": "stream",
     "text": [
      "Calculating total invariant mass:  56%|█████▌    | 742586/1333914 [04:18<02:31, 3915.58it/s]"
     ]
    },
    {
     "name": "stdout",
     "output_type": "stream",
     "text": [
      "Missing data for lep_4 in row 742116, skipping this particle.\n"
     ]
    },
    {
     "name": "stderr",
     "output_type": "stream",
     "text": [
      "Calculating total invariant mass:  56%|█████▌    | 747099/1333914 [04:20<02:35, 3781.50it/s]"
     ]
    },
    {
     "name": "stdout",
     "output_type": "stream",
     "text": [
      "Missing data for lep_4 in row 746363, skipping this particle.\n",
      "Missing data for lep_4 in row 746640, skipping this particle.\n"
     ]
    },
    {
     "name": "stderr",
     "output_type": "stream",
     "text": [
      "Calculating total invariant mass:  56%|█████▋    | 752881/1333914 [04:21<02:25, 3981.73it/s]"
     ]
    },
    {
     "name": "stdout",
     "output_type": "stream",
     "text": [
      "Missing data for lep_4 in row 752341, skipping this particle.\n"
     ]
    },
    {
     "name": "stderr",
     "output_type": "stream",
     "text": [
      "Calculating total invariant mass:  57%|█████▋    | 754117/1333914 [04:21<02:28, 3909.90it/s]"
     ]
    },
    {
     "name": "stdout",
     "output_type": "stream",
     "text": [
      "Missing data for jet_16 in row 753458, skipping this particle.\n"
     ]
    },
    {
     "name": "stderr",
     "output_type": "stream",
     "text": [
      "Calculating total invariant mass:  57%|█████▋    | 756124/1333914 [04:22<02:29, 3867.08it/s]"
     ]
    },
    {
     "name": "stdout",
     "output_type": "stream",
     "text": [
      "Missing data for lep_4 in row 755648, skipping this particle.\n"
     ]
    },
    {
     "name": "stderr",
     "output_type": "stream",
     "text": [
      "Calculating total invariant mass:  57%|█████▋    | 759313/1333914 [04:23<02:28, 3870.53it/s]"
     ]
    },
    {
     "name": "stdout",
     "output_type": "stream",
     "text": [
      "Missing data for lep_4 in row 758637, skipping this particle.\n",
      "Missing data for lep_4 in row 759238, skipping this particle.\n"
     ]
    },
    {
     "name": "stderr",
     "output_type": "stream",
     "text": [
      "Calculating total invariant mass:  58%|█████▊    | 768102/1333914 [04:25<02:25, 3883.36it/s]"
     ]
    },
    {
     "name": "stdout",
     "output_type": "stream",
     "text": [
      "Missing data for lep_4 in row 767592, skipping this particle.\n"
     ]
    },
    {
     "name": "stderr",
     "output_type": "stream",
     "text": [
      "Calculating total invariant mass:  58%|█████▊    | 769316/1333914 [04:25<02:26, 3862.65it/s]"
     ]
    },
    {
     "name": "stdout",
     "output_type": "stream",
     "text": [
      "Missing data for lep_4 in row 768558, skipping this particle.\n"
     ]
    },
    {
     "name": "stderr",
     "output_type": "stream",
     "text": [
      "Calculating total invariant mass:  58%|█████▊    | 769748/1333914 [04:25<02:23, 3931.60it/s]"
     ]
    },
    {
     "name": "stdout",
     "output_type": "stream",
     "text": [
      "Missing data for lep_4 in row 769379, skipping this particle.\n"
     ]
    },
    {
     "name": "stderr",
     "output_type": "stream",
     "text": [
      "Calculating total invariant mass:  59%|█████▉    | 784540/1333914 [04:29<02:22, 3844.22it/s]"
     ]
    },
    {
     "name": "stdout",
     "output_type": "stream",
     "text": [
      "Missing data for lep_4 in row 784097, skipping this particle.\n"
     ]
    },
    {
     "name": "stderr",
     "output_type": "stream",
     "text": [
      "Calculating total invariant mass:  59%|█████▉    | 787635/1333914 [04:30<02:28, 3677.02it/s]"
     ]
    },
    {
     "name": "stdout",
     "output_type": "stream",
     "text": [
      "Missing data for lep_4 in row 786903, skipping this particle.\n"
     ]
    },
    {
     "name": "stderr",
     "output_type": "stream",
     "text": [
      "Calculating total invariant mass:  59%|█████▉    | 788425/1333914 [04:30<02:27, 3701.08it/s]"
     ]
    },
    {
     "name": "stdout",
     "output_type": "stream",
     "text": [
      "Missing data for lep_4 in row 788014, skipping this particle.\n"
     ]
    },
    {
     "name": "stderr",
     "output_type": "stream",
     "text": [
      "Calculating total invariant mass:  59%|█████▉    | 790046/1333914 [04:31<02:21, 3831.15it/s]"
     ]
    },
    {
     "name": "stdout",
     "output_type": "stream",
     "text": [
      "Missing data for lep_4 in row 789510, skipping this particle.\n"
     ]
    },
    {
     "name": "stderr",
     "output_type": "stream",
     "text": [
      "Calculating total invariant mass:  59%|█████▉    | 791667/1333914 [04:31<02:19, 3881.25it/s]"
     ]
    },
    {
     "name": "stdout",
     "output_type": "stream",
     "text": [
      "Missing data for lep_4 in row 791090, skipping this particle.\n",
      "Missing data for lep_4 in row 791633, skipping this particle.\n"
     ]
    },
    {
     "name": "stderr",
     "output_type": "stream",
     "text": [
      "Calculating total invariant mass:  60%|█████▉    | 794911/1333914 [04:32<02:17, 3920.32it/s]"
     ]
    },
    {
     "name": "stdout",
     "output_type": "stream",
     "text": [
      "Missing data for lep_4 in row 794222, skipping this particle.\n"
     ]
    },
    {
     "name": "stderr",
     "output_type": "stream",
     "text": [
      "Calculating total invariant mass:  61%|██████    | 807311/1333914 [04:35<02:17, 3824.77it/s]"
     ]
    },
    {
     "name": "stdout",
     "output_type": "stream",
     "text": [
      "Missing data for lep_4 in row 806882, skipping this particle.\n"
     ]
    },
    {
     "name": "stderr",
     "output_type": "stream",
     "text": [
      "Calculating total invariant mass:  61%|██████▏   | 817755/1333914 [04:38<02:15, 3802.62it/s]"
     ]
    },
    {
     "name": "stdout",
     "output_type": "stream",
     "text": [
      "Missing data for lep_4 in row 817027, skipping this particle.\n"
     ]
    },
    {
     "name": "stderr",
     "output_type": "stream",
     "text": [
      "Calculating total invariant mass:  62%|██████▏   | 821781/1333914 [04:39<02:13, 3845.18it/s]"
     ]
    },
    {
     "name": "stdout",
     "output_type": "stream",
     "text": [
      "Missing data for lep_4 in row 821004, skipping this particle.\n"
     ]
    },
    {
     "name": "stderr",
     "output_type": "stream",
     "text": [
      "Calculating total invariant mass:  62%|██████▏   | 830295/1333914 [04:41<02:10, 3869.59it/s]"
     ]
    },
    {
     "name": "stdout",
     "output_type": "stream",
     "text": [
      "Missing data for lep_4 in row 829632, skipping this particle.\n",
      "Missing data for lep_4 in row 829634, skipping this particle.\n"
     ]
    },
    {
     "name": "stderr",
     "output_type": "stream",
     "text": [
      "Calculating total invariant mass:  64%|██████▍   | 851375/1333914 [04:47<02:05, 3847.64it/s]"
     ]
    },
    {
     "name": "stdout",
     "output_type": "stream",
     "text": [
      "Missing data for lep_4 in row 850741, skipping this particle.\n"
     ]
    },
    {
     "name": "stderr",
     "output_type": "stream",
     "text": [
      "Calculating total invariant mass:  64%|██████▍   | 855858/1333914 [04:48<02:01, 3938.86it/s]"
     ]
    },
    {
     "name": "stdout",
     "output_type": "stream",
     "text": [
      "Missing data for lep_4 in row 855435, skipping this particle.\n",
      "Missing data for lep_4 in row 856022, skipping this particle.\n"
     ]
    },
    {
     "name": "stderr",
     "output_type": "stream",
     "text": [
      "Calculating total invariant mass:  65%|██████▍   | 861543/1333914 [04:49<02:02, 3854.50it/s]"
     ]
    },
    {
     "name": "stdout",
     "output_type": "stream",
     "text": [
      "Missing data for lep_4 in row 861145, skipping this particle.\n"
     ]
    },
    {
     "name": "stderr",
     "output_type": "stream",
     "text": [
      "Calculating total invariant mass:  65%|██████▍   | 865084/1333914 [04:50<02:00, 3888.16it/s]"
     ]
    },
    {
     "name": "stdout",
     "output_type": "stream",
     "text": [
      "Missing data for lep_4 in row 864639, skipping this particle.\n"
     ]
    },
    {
     "name": "stderr",
     "output_type": "stream",
     "text": [
      "Calculating total invariant mass:  67%|██████▋   | 888226/1333914 [04:56<01:55, 3863.33it/s]"
     ]
    },
    {
     "name": "stdout",
     "output_type": "stream",
     "text": [
      "Missing data for lep_4 in row 887801, skipping this particle.\n"
     ]
    },
    {
     "name": "stderr",
     "output_type": "stream",
     "text": [
      "Calculating total invariant mass:  67%|██████▋   | 899464/1333914 [04:59<01:57, 3698.45it/s]"
     ]
    },
    {
     "name": "stdout",
     "output_type": "stream",
     "text": [
      "Missing data for lep_4 in row 898985, skipping this particle.\n"
     ]
    },
    {
     "name": "stderr",
     "output_type": "stream",
     "text": [
      "Calculating total invariant mass:  68%|██████▊   | 901857/1333914 [05:00<01:54, 3777.86it/s]"
     ]
    },
    {
     "name": "stdout",
     "output_type": "stream",
     "text": [
      "Missing data for lep_4 in row 901440, skipping this particle.\n"
     ]
    },
    {
     "name": "stderr",
     "output_type": "stream",
     "text": [
      "Calculating total invariant mass:  68%|██████▊   | 904707/1333914 [05:01<01:49, 3911.24it/s]"
     ]
    },
    {
     "name": "stdout",
     "output_type": "stream",
     "text": [
      "Missing data for lep_4 in row 904041, skipping this particle.\n"
     ]
    },
    {
     "name": "stderr",
     "output_type": "stream",
     "text": [
      "Calculating total invariant mass:  68%|██████▊   | 910708/1333914 [05:02<01:49, 3851.38it/s]"
     ]
    },
    {
     "name": "stdout",
     "output_type": "stream",
     "text": [
      "Missing data for lep_4 in row 910272, skipping this particle.\n"
     ]
    },
    {
     "name": "stderr",
     "output_type": "stream",
     "text": [
      "Calculating total invariant mass:  68%|██████▊   | 911935/1333914 [05:03<01:49, 3860.00it/s]"
     ]
    },
    {
     "name": "stdout",
     "output_type": "stream",
     "text": [
      "Missing data for lep_4 in row 911409, skipping this particle.\n"
     ]
    },
    {
     "name": "stderr",
     "output_type": "stream",
     "text": [
      "Calculating total invariant mass:  69%|██████▊   | 915124/1333914 [05:04<01:51, 3765.76it/s]"
     ]
    },
    {
     "name": "stdout",
     "output_type": "stream",
     "text": [
      "Missing data for lep_4 in row 914550, skipping this particle.\n"
     ]
    },
    {
     "name": "stderr",
     "output_type": "stream",
     "text": [
      "Calculating total invariant mass:  69%|██████▉   | 919469/1333914 [05:05<01:51, 3728.46it/s]"
     ]
    },
    {
     "name": "stdout",
     "output_type": "stream",
     "text": [
      "Missing data for lep_4 in row 918959, skipping this particle.\n"
     ]
    },
    {
     "name": "stderr",
     "output_type": "stream",
     "text": [
      "Calculating total invariant mass:  70%|██████▉   | 930116/1333914 [05:07<01:47, 3752.72it/s]"
     ]
    },
    {
     "name": "stdout",
     "output_type": "stream",
     "text": [
      "Missing data for lep_4 in row 929666, skipping this particle.\n"
     ]
    },
    {
     "name": "stderr",
     "output_type": "stream",
     "text": [
      "Calculating total invariant mass:  70%|███████   | 935312/1333914 [05:09<01:44, 3821.57it/s]"
     ]
    },
    {
     "name": "stdout",
     "output_type": "stream",
     "text": [
      "Missing data for lep_4 in row 934681, skipping this particle.\n"
     ]
    },
    {
     "name": "stderr",
     "output_type": "stream",
     "text": [
      "Calculating total invariant mass:  71%|███████   | 945565/1333914 [05:12<01:42, 3779.11it/s]"
     ]
    },
    {
     "name": "stdout",
     "output_type": "stream",
     "text": [
      "Missing data for lep_4 in row 944979, skipping this particle.\n"
     ]
    },
    {
     "name": "stderr",
     "output_type": "stream",
     "text": [
      "Calculating total invariant mass:  71%|███████   | 948761/1333914 [05:12<01:40, 3818.57it/s]"
     ]
    },
    {
     "name": "stdout",
     "output_type": "stream",
     "text": [
      "Missing data for lep_4 in row 948165, skipping this particle.\n"
     ]
    },
    {
     "name": "stderr",
     "output_type": "stream",
     "text": [
      "Calculating total invariant mass:  71%|███████   | 950350/1333914 [05:13<01:40, 3823.32it/s]"
     ]
    },
    {
     "name": "stdout",
     "output_type": "stream",
     "text": [
      "Missing data for lep_4 in row 949664, skipping this particle.\n"
     ]
    },
    {
     "name": "stderr",
     "output_type": "stream",
     "text": [
      "Calculating total invariant mass:  71%|███████▏  | 952705/1333914 [05:13<01:41, 3756.80it/s]"
     ]
    },
    {
     "name": "stdout",
     "output_type": "stream",
     "text": [
      "Missing data for lep_4 in row 952146, skipping this particle.\n"
     ]
    },
    {
     "name": "stderr",
     "output_type": "stream",
     "text": [
      "Calculating total invariant mass:  72%|███████▏  | 962050/1333914 [05:16<01:39, 3748.57it/s]"
     ]
    },
    {
     "name": "stdout",
     "output_type": "stream",
     "text": [
      "Missing data for lep_4 in row 961293, skipping this particle.\n"
     ]
    },
    {
     "name": "stderr",
     "output_type": "stream",
     "text": [
      "Calculating total invariant mass:  72%|███████▏  | 965218/1333914 [05:17<01:38, 3744.87it/s]"
     ]
    },
    {
     "name": "stdout",
     "output_type": "stream",
     "text": [
      "Missing data for lep_4 in row 964632, skipping this particle.\n"
     ]
    },
    {
     "name": "stderr",
     "output_type": "stream",
     "text": [
      "Calculating total invariant mass:  73%|███████▎  | 971525/1333914 [05:19<01:37, 3705.64it/s]"
     ]
    },
    {
     "name": "stdout",
     "output_type": "stream",
     "text": [
      "Missing data for lep_4 in row 970800, skipping this particle.\n"
     ]
    },
    {
     "name": "stderr",
     "output_type": "stream",
     "text": [
      "Calculating total invariant mass:  73%|███████▎  | 976732/1333914 [05:20<01:33, 3805.76it/s]"
     ]
    },
    {
     "name": "stdout",
     "output_type": "stream",
     "text": [
      "Missing data for lep_4 in row 976079, skipping this particle.\n",
      "Missing data for lep_4 in row 976539, skipping this particle.\n"
     ]
    },
    {
     "name": "stderr",
     "output_type": "stream",
     "text": [
      "Calculating total invariant mass:  74%|███████▎  | 983458/1333914 [05:22<01:29, 3903.46it/s]"
     ]
    },
    {
     "name": "stdout",
     "output_type": "stream",
     "text": [
      "Missing data for lep_4 in row 982772, skipping this particle.\n"
     ]
    },
    {
     "name": "stderr",
     "output_type": "stream",
     "text": [
      "Calculating total invariant mass:  74%|███████▍  | 989795/1333914 [05:23<01:39, 3463.73it/s]"
     ]
    },
    {
     "name": "stdout",
     "output_type": "stream",
     "text": [
      "Missing data for lep_4 in row 989395, skipping this particle.\n"
     ]
    },
    {
     "name": "stderr",
     "output_type": "stream",
     "text": [
      "Calculating total invariant mass:  75%|███████▍  | 994231/1333914 [05:24<01:27, 3892.71it/s]"
     ]
    },
    {
     "name": "stdout",
     "output_type": "stream",
     "text": [
      "Missing data for lep_4 in row 993605, skipping this particle.\n"
     ]
    },
    {
     "name": "stderr",
     "output_type": "stream",
     "text": [
      "Calculating total invariant mass:  75%|███████▍  | 995453/1333914 [05:25<01:26, 3906.88it/s]"
     ]
    },
    {
     "name": "stdout",
     "output_type": "stream",
     "text": [
      "Missing data for lep_4 in row 994961, skipping this particle.\n"
     ]
    },
    {
     "name": "stderr",
     "output_type": "stream",
     "text": [
      "Calculating total invariant mass:  75%|███████▍  | 997434/1333914 [05:25<01:28, 3794.17it/s]"
     ]
    },
    {
     "name": "stdout",
     "output_type": "stream",
     "text": [
      "Missing data for lep_4 in row 996776, skipping this particle.\n",
      "Missing data for lep_4 in row 997270, skipping this particle.\n"
     ]
    },
    {
     "name": "stderr",
     "output_type": "stream",
     "text": [
      "Calculating total invariant mass:  75%|███████▍  | 998635/1333914 [05:26<01:27, 3820.56it/s]"
     ]
    },
    {
     "name": "stdout",
     "output_type": "stream",
     "text": [
      "Missing data for lep_4 in row 997941, skipping this particle.\n"
     ]
    },
    {
     "name": "stderr",
     "output_type": "stream",
     "text": [
      "Calculating total invariant mass:  75%|███████▌  | 1002588/1333914 [05:27<01:28, 3733.63it/s]"
     ]
    },
    {
     "name": "stdout",
     "output_type": "stream",
     "text": [
      "Missing data for lep_4 in row 1001905, skipping this particle.\n"
     ]
    },
    {
     "name": "stderr",
     "output_type": "stream",
     "text": [
      "Calculating total invariant mass:  75%|███████▌  | 1006460/1333914 [05:28<01:27, 3744.24it/s]"
     ]
    },
    {
     "name": "stdout",
     "output_type": "stream",
     "text": [
      "Missing data for lep_4 in row 1005715, skipping this particle.\n"
     ]
    },
    {
     "name": "stderr",
     "output_type": "stream",
     "text": [
      "Calculating total invariant mass:  76%|███████▌  | 1011710/1333914 [05:29<01:23, 3855.49it/s]"
     ]
    },
    {
     "name": "stdout",
     "output_type": "stream",
     "text": [
      "Missing data for lep_4 in row 1010878, skipping this particle.\n"
     ]
    },
    {
     "name": "stderr",
     "output_type": "stream",
     "text": [
      "Calculating total invariant mass:  76%|███████▌  | 1012496/1333914 [05:29<01:23, 3848.31it/s]"
     ]
    },
    {
     "name": "stdout",
     "output_type": "stream",
     "text": [
      "Missing data for lep_4 in row 1011734, skipping this particle.\n"
     ]
    },
    {
     "name": "stderr",
     "output_type": "stream",
     "text": [
      "Calculating total invariant mass:  76%|███████▌  | 1015680/1333914 [05:30<01:23, 3789.32it/s]"
     ]
    },
    {
     "name": "stdout",
     "output_type": "stream",
     "text": [
      "Missing data for lep_4 in row 1015205, skipping this particle.\n"
     ]
    },
    {
     "name": "stderr",
     "output_type": "stream",
     "text": [
      "Calculating total invariant mass:  77%|███████▋  | 1030766/1333914 [05:34<01:19, 3794.43it/s]"
     ]
    },
    {
     "name": "stdout",
     "output_type": "stream",
     "text": [
      "Missing data for lep_4 in row 1030213, skipping this particle.\n"
     ]
    },
    {
     "name": "stderr",
     "output_type": "stream",
     "text": [
      "Calculating total invariant mass:  78%|███████▊  | 1037910/1333914 [05:36<01:18, 3763.63it/s]"
     ]
    },
    {
     "name": "stdout",
     "output_type": "stream",
     "text": [
      "Missing data for lep_4 in row 1037384, skipping this particle.\n"
     ]
    },
    {
     "name": "stderr",
     "output_type": "stream",
     "text": [
      "Calculating total invariant mass:  78%|███████▊  | 1042994/1333914 [05:37<01:17, 3749.24it/s]"
     ]
    },
    {
     "name": "stdout",
     "output_type": "stream",
     "text": [
      "Missing data for lep_4 in row 1042296, skipping this particle.\n"
     ]
    },
    {
     "name": "stderr",
     "output_type": "stream",
     "text": [
      "Calculating total invariant mass:  78%|███████▊  | 1044551/1333914 [05:38<01:17, 3745.94it/s]"
     ]
    },
    {
     "name": "stdout",
     "output_type": "stream",
     "text": [
      "Missing data for lep_4 in row 1043816, skipping this particle.\n"
     ]
    },
    {
     "name": "stderr",
     "output_type": "stream",
     "text": [
      "Calculating total invariant mass:  78%|███████▊  | 1045321/1333914 [05:38<01:16, 3781.36it/s]"
     ]
    },
    {
     "name": "stdout",
     "output_type": "stream",
     "text": [
      "Missing data for lep_4 in row 1044633, skipping this particle.\n"
     ]
    },
    {
     "name": "stderr",
     "output_type": "stream",
     "text": [
      "Calculating total invariant mass:  79%|███████▊  | 1048929/1333914 [05:39<01:15, 3755.65it/s]"
     ]
    },
    {
     "name": "stdout",
     "output_type": "stream",
     "text": [
      "Missing data for lep_4 in row 1048501, skipping this particle.\n"
     ]
    },
    {
     "name": "stderr",
     "output_type": "stream",
     "text": [
      "Calculating total invariant mass:  80%|███████▉  | 1060535/1333914 [05:42<01:11, 3846.93it/s]"
     ]
    },
    {
     "name": "stdout",
     "output_type": "stream",
     "text": [
      "Missing data for lep_4 in row 1059774, skipping this particle.\n"
     ]
    },
    {
     "name": "stderr",
     "output_type": "stream",
     "text": [
      "Calculating total invariant mass:  80%|████████  | 1070304/1333914 [05:45<01:09, 3797.42it/s]"
     ]
    },
    {
     "name": "stdout",
     "output_type": "stream",
     "text": [
      "Missing data for lep_4 in row 1069786, skipping this particle.\n"
     ]
    },
    {
     "name": "stderr",
     "output_type": "stream",
     "text": [
      "Calculating total invariant mass:  81%|████████  | 1083729/1333914 [05:48<01:07, 3692.09it/s]"
     ]
    },
    {
     "name": "stdout",
     "output_type": "stream",
     "text": [
      "Missing data for lep_4 in row 1083047, skipping this particle.\n",
      "Missing data for lep_5 in row 1083047, skipping this particle.\n"
     ]
    },
    {
     "name": "stderr",
     "output_type": "stream",
     "text": [
      "Calculating total invariant mass:  82%|████████▏ | 1087237/1333914 [05:49<01:06, 3689.60it/s]"
     ]
    },
    {
     "name": "stdout",
     "output_type": "stream",
     "text": [
      "Missing data for lep_4 in row 1086797, skipping this particle.\n"
     ]
    },
    {
     "name": "stderr",
     "output_type": "stream",
     "text": [
      "Calculating total invariant mass:  82%|████████▏ | 1088814/1333914 [05:50<01:05, 3727.51it/s]"
     ]
    },
    {
     "name": "stdout",
     "output_type": "stream",
     "text": [
      "Missing data for lep_4 in row 1088322, skipping this particle.\n"
     ]
    },
    {
     "name": "stderr",
     "output_type": "stream",
     "text": [
      "Calculating total invariant mass:  83%|████████▎ | 1106240/1333914 [05:54<01:01, 3681.98it/s]"
     ]
    },
    {
     "name": "stdout",
     "output_type": "stream",
     "text": [
      "Missing data for lep_4 in row 1105600, skipping this particle.\n",
      "Missing data for lep_4 in row 1105704, skipping this particle.\n"
     ]
    },
    {
     "name": "stderr",
     "output_type": "stream",
     "text": [
      "Calculating total invariant mass:  85%|████████▍ | 1130484/1333914 [06:01<00:54, 3758.61it/s]"
     ]
    },
    {
     "name": "stdout",
     "output_type": "stream",
     "text": [
      "Missing data for lep_4 in row 1129822, skipping this particle.\n"
     ]
    },
    {
     "name": "stderr",
     "output_type": "stream",
     "text": [
      "Calculating total invariant mass:  85%|████████▌ | 1137208/1333914 [06:02<00:52, 3715.53it/s]"
     ]
    },
    {
     "name": "stdout",
     "output_type": "stream",
     "text": [
      "Missing data for lep_4 in row 1136803, skipping this particle.\n"
     ]
    },
    {
     "name": "stderr",
     "output_type": "stream",
     "text": [
      "Calculating total invariant mass:  86%|████████▌ | 1142360/1333914 [06:04<00:50, 3800.79it/s]"
     ]
    },
    {
     "name": "stdout",
     "output_type": "stream",
     "text": [
      "Missing data for lep_4 in row 1141654, skipping this particle.\n",
      "Missing data for lep_4 in row 1141847, skipping this particle.\n"
     ]
    },
    {
     "name": "stderr",
     "output_type": "stream",
     "text": [
      "Calculating total invariant mass:  87%|████████▋ | 1160168/1333914 [06:09<00:46, 3715.32it/s]"
     ]
    },
    {
     "name": "stdout",
     "output_type": "stream",
     "text": [
      "Missing data for lep_4 in row 1159423, skipping this particle.\n"
     ]
    },
    {
     "name": "stderr",
     "output_type": "stream",
     "text": [
      "Calculating total invariant mass:  88%|████████▊ | 1168143/1333914 [06:11<00:45, 3607.86it/s]"
     ]
    },
    {
     "name": "stdout",
     "output_type": "stream",
     "text": [
      "Missing data for lep_4 in row 1167582, skipping this particle.\n",
      "Missing data for lep_4 in row 1167692, skipping this particle.\n"
     ]
    },
    {
     "name": "stderr",
     "output_type": "stream",
     "text": [
      "Calculating total invariant mass:  89%|████████▊ | 1182814/1333914 [06:15<00:39, 3828.78it/s]"
     ]
    },
    {
     "name": "stdout",
     "output_type": "stream",
     "text": [
      "Missing data for lep_4 in row 1181938, skipping this particle.\n"
     ]
    },
    {
     "name": "stderr",
     "output_type": "stream",
     "text": [
      "Calculating total invariant mass:  89%|████████▉ | 1193421/1333914 [06:17<00:37, 3740.78it/s]"
     ]
    },
    {
     "name": "stdout",
     "output_type": "stream",
     "text": [
      "Missing data for lep_4 in row 1192843, skipping this particle.\n"
     ]
    },
    {
     "name": "stderr",
     "output_type": "stream",
     "text": [
      "Calculating total invariant mass:  90%|████████▉ | 1197364/1333914 [06:18<00:36, 3778.55it/s]"
     ]
    },
    {
     "name": "stdout",
     "output_type": "stream",
     "text": [
      "Missing data for lep_4 in row 1196574, skipping this particle.\n"
     ]
    },
    {
     "name": "stderr",
     "output_type": "stream",
     "text": [
      "Calculating total invariant mass:  90%|█████████ | 1200580/1333914 [06:19<00:34, 3834.21it/s]"
     ]
    },
    {
     "name": "stdout",
     "output_type": "stream",
     "text": [
      "Missing data for lep_4 in row 1200050, skipping this particle.\n"
     ]
    },
    {
     "name": "stderr",
     "output_type": "stream",
     "text": [
      "Calculating total invariant mass:  90%|█████████ | 1202122/1333914 [06:20<00:35, 3724.48it/s]"
     ]
    },
    {
     "name": "stdout",
     "output_type": "stream",
     "text": [
      "Missing data for lep_4 in row 1201553, skipping this particle.\n"
     ]
    },
    {
     "name": "stderr",
     "output_type": "stream",
     "text": [
      "Calculating total invariant mass:  90%|█████████ | 1204914/1333914 [06:20<00:34, 3752.47it/s]"
     ]
    },
    {
     "name": "stdout",
     "output_type": "stream",
     "text": [
      "Missing data for lep_4 in row 1204463, skipping this particle.\n"
     ]
    },
    {
     "name": "stderr",
     "output_type": "stream",
     "text": [
      "Calculating total invariant mass:  91%|█████████▏| 1218632/1333914 [06:24<00:30, 3723.99it/s]"
     ]
    },
    {
     "name": "stdout",
     "output_type": "stream",
     "text": [
      "Missing data for lep_4 in row 1218010, skipping this particle.\n"
     ]
    },
    {
     "name": "stderr",
     "output_type": "stream",
     "text": [
      "Calculating total invariant mass:  92%|█████████▏| 1222199/1333914 [06:25<00:30, 3632.03it/s]"
     ]
    },
    {
     "name": "stdout",
     "output_type": "stream",
     "text": [
      "Missing data for lep_4 in row 1221563, skipping this particle.\n"
     ]
    },
    {
     "name": "stderr",
     "output_type": "stream",
     "text": [
      "Calculating total invariant mass:  92%|█████████▏| 1230552/1333914 [06:27<00:27, 3795.14it/s]"
     ]
    },
    {
     "name": "stdout",
     "output_type": "stream",
     "text": [
      "Missing data for lep_4 in row 1230065, skipping this particle.\n"
     ]
    },
    {
     "name": "stderr",
     "output_type": "stream",
     "text": [
      "Calculating total invariant mass:  92%|█████████▏| 1231761/1333914 [06:28<00:26, 3806.64it/s]"
     ]
    },
    {
     "name": "stdout",
     "output_type": "stream",
     "text": [
      "Missing data for jet_16 in row 1231218, skipping this particle.\n",
      "Missing data for jet_17 in row 1231218, skipping this particle.\n"
     ]
    },
    {
     "name": "stderr",
     "output_type": "stream",
     "text": [
      "Calculating total invariant mass:  94%|█████████▍| 1260107/1333914 [06:35<00:20, 3662.21it/s]"
     ]
    },
    {
     "name": "stdout",
     "output_type": "stream",
     "text": [
      "Missing data for lep_4 in row 1259416, skipping this particle.\n"
     ]
    },
    {
     "name": "stderr",
     "output_type": "stream",
     "text": [
      "Calculating total invariant mass:  96%|█████████▌| 1279515/1333914 [06:41<00:14, 3672.08it/s]"
     ]
    },
    {
     "name": "stdout",
     "output_type": "stream",
     "text": [
      "Missing data for lep_4 in row 1279012, skipping this particle.\n",
      "Missing data for lep_5 in row 1279012, skipping this particle.\n"
     ]
    },
    {
     "name": "stderr",
     "output_type": "stream",
     "text": [
      "Calculating total invariant mass:  96%|█████████▋| 1285435/1333914 [06:42<00:12, 3740.96it/s]"
     ]
    },
    {
     "name": "stdout",
     "output_type": "stream",
     "text": [
      "Missing data for lep_4 in row 1284752, skipping this particle.\n"
     ]
    },
    {
     "name": "stderr",
     "output_type": "stream",
     "text": [
      "Calculating total invariant mass:  97%|█████████▋| 1287746/1333914 [06:43<00:12, 3686.30it/s]"
     ]
    },
    {
     "name": "stdout",
     "output_type": "stream",
     "text": [
      "Missing data for lep_4 in row 1287211, skipping this particle.\n",
      "Missing data for lep_5 in row 1287211, skipping this particle.\n",
      "Missing data for lep_4 in row 1287773, skipping this particle.\n"
     ]
    },
    {
     "name": "stderr",
     "output_type": "stream",
     "text": [
      "Calculating total invariant mass:  98%|█████████▊| 1303792/1333914 [06:47<00:08, 3672.44it/s]"
     ]
    },
    {
     "name": "stdout",
     "output_type": "stream",
     "text": [
      "Missing data for lep_4 in row 1303231, skipping this particle.\n"
     ]
    },
    {
     "name": "stderr",
     "output_type": "stream",
     "text": [
      "Calculating total invariant mass:  98%|█████████▊| 1304560/1333914 [06:47<00:07, 3730.86it/s]"
     ]
    },
    {
     "name": "stdout",
     "output_type": "stream",
     "text": [
      "Missing data for lep_4 in row 1304126, skipping this particle.\n",
      "Missing data for lep_5 in row 1304346, skipping this particle.\n"
     ]
    },
    {
     "name": "stderr",
     "output_type": "stream",
     "text": [
      "Calculating total invariant mass:  98%|█████████▊| 1306520/1333914 [06:48<00:07, 3763.60it/s]"
     ]
    },
    {
     "name": "stdout",
     "output_type": "stream",
     "text": [
      "Missing data for lep_4 in row 1306027, skipping this particle.\n",
      "Missing data for lep_4 in row 1306423, skipping this particle.\n",
      "Missing data for lep_4 in row 1306678, skipping this particle.\n",
      "Missing data for lep_4 in row 1306791, skipping this particle.\n"
     ]
    },
    {
     "name": "stderr",
     "output_type": "stream",
     "text": [
      "Calculating total invariant mass:  98%|█████████▊| 1309235/1333914 [06:49<00:06, 3692.67it/s]"
     ]
    },
    {
     "name": "stdout",
     "output_type": "stream",
     "text": [
      "Missing data for lep_4 in row 1308617, skipping this particle.\n"
     ]
    },
    {
     "name": "stderr",
     "output_type": "stream",
     "text": [
      "Calculating total invariant mass:  98%|█████████▊| 1313789/1333914 [06:50<00:05, 3710.57it/s]"
     ]
    },
    {
     "name": "stdout",
     "output_type": "stream",
     "text": [
      "Missing data for lep_4 in row 1313140, skipping this particle.\n"
     ]
    },
    {
     "name": "stderr",
     "output_type": "stream",
     "text": [
      "Calculating total invariant mass:  99%|█████████▉| 1323706/1333914 [06:52<00:02, 3753.89it/s]"
     ]
    },
    {
     "name": "stdout",
     "output_type": "stream",
     "text": [
      "Missing data for lep_4 in row 1323088, skipping this particle.\n"
     ]
    },
    {
     "name": "stderr",
     "output_type": "stream",
     "text": [
      "Calculating total invariant mass: 100%|█████████▉| 1328122/1333914 [06:54<00:01, 3736.48it/s]"
     ]
    },
    {
     "name": "stdout",
     "output_type": "stream",
     "text": [
      "Missing data for lep_4 in row 1327464, skipping this particle.\n"
     ]
    },
    {
     "name": "stderr",
     "output_type": "stream",
     "text": [
      "Calculating total invariant mass: 100%|██████████| 1333914/1333914 [06:55<00:00, 3209.29it/s]\n"
     ]
    },
    {
     "name": "stdout",
     "output_type": "stream",
     "text": [
      "Missing data for lep_4 in row 1333793, skipping this particle.\n",
      "Expanded DataFrame head with total invariant mass column:\n",
      "   eventNumber  scaleFactor_PILEUP  scaleFactor_PhotonTRIGGER  trigE  trigM  \\\n",
      "0      4246580            0.696077                   0.995786  False  False   \n",
      "1    242211722            0.000000                   0.000000  False  False   \n",
      "2        56490            1.214122                   1.005498  False  False   \n",
      "3   -163493589            0.000000                   0.000000  False  False   \n",
      "4      3977190            0.750880                   1.002282  False  False   \n",
      "\n",
      "   trigP  lep_n        met_et   met_phi  jet_n  ...  jet_pt_syst10  \\\n",
      "0   True      0  51045.160156  2.794363      3  ...            0.0   \n",
      "1   True      0  43901.460938 -0.197949      1  ...            0.0   \n",
      "2   True      0  58347.421875 -0.033184      3  ...            0.0   \n",
      "3   True      0  16311.075195 -0.042286      0  ...            0.0   \n",
      "4   True      0  43917.437500 -1.083709      1  ...            0.0   \n",
      "\n",
      "   jet_pt_syst11  jet_pt_syst12  jet_pt_syst13  jet_pt_syst14  jet_pt_syst15  \\\n",
      "0            0.0            0.0            0.0            0.0            0.0   \n",
      "1            0.0            0.0            0.0            0.0            0.0   \n",
      "2            0.0            0.0            0.0            0.0            0.0   \n",
      "3            0.0            0.0            0.0            0.0            0.0   \n",
      "4            0.0            0.0            0.0            0.0            0.0   \n",
      "\n",
      "  photon_pt_syst2 photon_pt_syst3 photon_pt_syst4 totalInvariantMass  \n",
      "0             0.0             0.0             0.0      390872.265768  \n",
      "1             0.0             0.0             0.0       97450.568832  \n",
      "2             0.0             0.0             0.0      171393.168142  \n",
      "3             0.0             0.0             0.0       77321.768127  \n",
      "4             0.0             0.0             0.0      124472.867715  \n",
      "\n",
      "[5 rows x 274 columns]\n",
      "DataFrame with total invariant mass written to expanded_dataframe_with_total_invariant_mass.csv.\n"
     ]
    }
   ],
   "source": [
    "import pandas as pd\n",
    "import vector\n",
    "from tqdm import tqdm\n",
    "\n",
    "def determine_all_particles(row):\n",
    "    \"\"\"\n",
    "    Determines the list of particle types based on the number of particles in the event.\n",
    "\n",
    "    :param row: A row from the DataFrame.\n",
    "    :return: A list of particle prefixes corresponding to all particles in the event.\n",
    "    \"\"\"\n",
    "    particle_types = []\n",
    "\n",
    "    if row['photon_n'] > 0:\n",
    "        particle_types.extend(['photon'] * row['photon_n'])  # Include all photons\n",
    "    \n",
    "    if row['lep_n'] > 0:\n",
    "        particle_types.extend(['lep'] * row['lep_n'])  # Include all leptons\n",
    "    \n",
    "    if row['jet_n'] > 0:\n",
    "        particle_types.extend(['jet'] * row['jet_n'])  # Include all jets\n",
    "\n",
    "    # Add more particle types based on the {particle}_n columns if necessary\n",
    "\n",
    "    return particle_types\n",
    "\n",
    "def calculate_total_invariant_mass(df):\n",
    "    \"\"\"\n",
    "    Calculate the total invariant mass for each event by summing all particle 4-vectors.\n",
    "\n",
    "    :param df: The DataFrame containing particle kinematic data.\n",
    "    :return: The DataFrame with a new 'totalInvariantMass' column.\n",
    "    \"\"\"\n",
    "    total_invariant_masses = []\n",
    "\n",
    "    # Add a progress bar using tqdm\n",
    "    for index, row in tqdm(df.iterrows(), total=len(df), desc=\"Calculating total invariant mass\"):\n",
    "        # Determine all particles present in this event\n",
    "        particle_types = determine_all_particles(row)\n",
    "\n",
    "        if particle_types:\n",
    "            # Initialize the total vector with the first vector\n",
    "            total_vector = None\n",
    "\n",
    "            for j, prefix in enumerate(particle_types):\n",
    "                try:\n",
    "                    # Construct 4-vectors based on the particle type and index\n",
    "                    vector_obj = vector.obj(\n",
    "                        pt=row[f\"{prefix}_pt{j}\"],\n",
    "                        eta=row[f\"{prefix}_eta{j}\"],\n",
    "                        phi=row[f\"{prefix}_phi{j}\"],\n",
    "                        E=row[f\"{prefix}_E{j}\"],\n",
    "                    )\n",
    "                    if total_vector is None:\n",
    "                        total_vector = vector_obj\n",
    "                    else:\n",
    "                        total_vector += vector_obj\n",
    "                except KeyError:\n",
    "                    print(f\"Missing data for {prefix}_{j} in row {index}, skipping this particle.\")\n",
    "                    continue\n",
    "\n",
    "            # Calculate the total invariant mass\n",
    "            if total_vector is not None:\n",
    "                total_invariant_mass = total_vector.mass\n",
    "                total_invariant_masses.append(total_invariant_mass)\n",
    "            else:\n",
    "                total_invariant_masses.append(None)\n",
    "        else:\n",
    "            total_invariant_masses.append(None)  # No valid particles found\n",
    "\n",
    "    df['totalInvariantMass'] = total_invariant_masses\n",
    "\n",
    "    return df\n",
    "\n",
    "# Example DataFrame for testing\n",
    "# Assuming `expanded_df` is your DataFrame with columns like photon_pt0, photon_eta0, etc.\n",
    "print(\"Calculating total invariant mass considering all particles in each event...\")\n",
    "\n",
    "expanded_df = calculate_total_invariant_mass(cleaned_df)\n",
    "\n",
    "# Check the resulting DataFrame with the new totalInvariantMass column\n",
    "print(\"Expanded DataFrame head with total invariant mass column:\")\n",
    "print(expanded_df.head())\n",
    "\n",
    "# Optionally, save the updated DataFrame with the total invariant mass to a CSV file\n",
    "output_file = \"expanded_dataframe_with_total_invariant_mass.csv\"\n",
    "expanded_df.to_csv(output_file, index=False)\n",
    "print(f\"DataFrame with total invariant mass written to {output_file}.\")\n"
   ]
  },
  {
   "cell_type": "code",
   "execution_count": 16,
   "metadata": {},
   "outputs": [
    {
     "data": {
      "image/png": "[encoded data removed]",
      "text/plain": [
       "<Figure size 1000x600 with 1 Axes>"
      ]
     },
     "metadata": {},
     "output_type": "display_data"
    }
   ],
   "source": [
    "import pandas as pd\n",
    "import matplotlib.pyplot as plt\n",
    "\n",
    "# Assuming `expanded_df` is your DataFrame with a 'totalInvariantMass' column and 'isHiggs' labels\n",
    "\n",
    "def plot_invariant_mass_histogram(df, bins=500):\n",
    "    \"\"\"\n",
    "    Plots a histogram of the invariant masses with separate histograms for Higgs and non-Higgs events.\n",
    "\n",
    "    :param df: The DataFrame containing the 'totalInvariantMass' and 'isHiggs' columns.\n",
    "    \"\"\"\n",
    "    # Filter the DataFrame for Higgs and non-Higgs events\n",
    "    higgs_df = df[df['isHiggs'] == 1]\n",
    "    non_higgs_df = df[df['isHiggs'] == 0]\n",
    "\n",
    "    # Plot histograms\n",
    "    plt.figure(figsize=(10, 6))\n",
    "\n",
    "    # Histogram for all events\n",
    "    plt.hist(df['totalInvariantMass'].dropna(), bins=bins, alpha=0.5, label='All Events', color='blue')\n",
    "\n",
    "    # Histogram for Higgs events\n",
    "    plt.hist(higgs_df['totalInvariantMass'].dropna(), bins=bins, alpha=0.5, label='Higgs Events', color='green')\n",
    "\n",
    "    # Histogram for non-Higgs events\n",
    "    plt.hist(non_higgs_df['totalInvariantMass'].dropna(), bins=bins, alpha=0.5, label='Non-Higgs Events', color='red')\n",
    "\n",
    "    # Plot formatting\n",
    "    plt.xlabel('Invariant Mass (MeV)')\n",
    "    plt.ylabel('Number of Events')\n",
    "    plt.title('Histogram of Invariant Masses')\n",
    "    plt.legend(loc='upper right')\n",
    "    plt.grid(True)\n",
    "\n",
    "    # Show the plot\n",
    "    plt.show()\n",
    "\n",
    "# Plot the histogram using the function\n",
    "plot_invariant_mass_histogram(expanded_df)\n"
   ]
  },
  {
   "cell_type": "code",
   "execution_count": 9,
   "metadata": {},
   "outputs": [
    {
     "name": "stdout",
     "output_type": "stream",
     "text": [
      "Training/Validation DataFrame:\n",
      "    eventNumber  scaleFactor_PILEUP  scaleFactor_PhotonTRIGGER  trigE  trigM  \\\n",
      "0       4246580            0.696077                   0.995786  False  False   \n",
      "2         56490            1.214122                   1.005498  False  False   \n",
      "4       3977190            0.750880                   1.002282  False  False   \n",
      "7        375365            0.187531                   0.978654  False  False   \n",
      "11       125352            1.251332                   1.000458  False  False   \n",
      "\n",
      "    trigP  lep_n        met_et   met_phi  jet_n  ...  jet_pt_syst10  \\\n",
      "0    True      0  51045.160156  2.794363      3  ...            0.0   \n",
      "2    True      0  58347.421875 -0.033184      3  ...            0.0   \n",
      "4    True      0  43917.437500 -1.083709      1  ...            0.0   \n",
      "7    True      0  30531.507812  0.860157      2  ...            0.0   \n",
      "11   True      0  58828.941406 -1.128013      1  ...            0.0   \n",
      "\n",
      "    jet_pt_syst11  jet_pt_syst12  jet_pt_syst13  jet_pt_syst14  jet_pt_syst15  \\\n",
      "0             0.0            0.0            0.0            0.0            0.0   \n",
      "2             0.0            0.0            0.0            0.0            0.0   \n",
      "4             0.0            0.0            0.0            0.0            0.0   \n",
      "7             0.0            0.0            0.0            0.0            0.0   \n",
      "11            0.0            0.0            0.0            0.0            0.0   \n",
      "\n",
      "   photon_pt_syst2 photon_pt_syst3 photon_pt_syst4 totalInvariantMass  \n",
      "0              0.0             0.0             0.0      390872.265768  \n",
      "2              0.0             0.0             0.0      171393.168142  \n",
      "4              0.0             0.0             0.0      124472.867715  \n",
      "7              0.0             0.0             0.0       99834.656460  \n",
      "11             0.0             0.0             0.0      127352.275014  \n",
      "\n",
      "[5 rows x 274 columns]\n",
      "\n",
      "Test DataFrame (Non-Higgs events only):\n",
      "         eventNumber  scaleFactor_PILEUP  scaleFactor_PhotonTRIGGER  trigE  \\\n",
      "661021    2050143073                 0.0                        0.0  False   \n",
      "775269    1275365767                 0.0                        0.0  False   \n",
      "1087095   1043059645                 0.0                        0.0  False   \n",
      "164936   -1429196898                 0.0                        0.0  False   \n",
      "565528      68877726                 0.0                        0.0  False   \n",
      "\n",
      "         trigM  trigP  lep_n        met_et   met_phi  jet_n  ...  \\\n",
      "661021   False   True      0   9045.200195  1.022757      3  ...   \n",
      "775269   False   True      0  21492.482422 -0.414178      0  ...   \n",
      "1087095  False   True      0  23027.052734  1.943492      2  ...   \n",
      "164936   False   True      0  85123.210938  0.825396      0  ...   \n",
      "565528   False   True      0  14290.399414 -2.344045      0  ...   \n",
      "\n",
      "         jet_pt_syst10  jet_pt_syst11  jet_pt_syst12  jet_pt_syst13  \\\n",
      "661021             0.0            0.0            0.0            0.0   \n",
      "775269             0.0            0.0            0.0            0.0   \n",
      "1087095            0.0            0.0            0.0            0.0   \n",
      "164936             0.0            0.0            0.0            0.0   \n",
      "565528             0.0            0.0            0.0            0.0   \n",
      "\n",
      "         jet_pt_syst14  jet_pt_syst15 photon_pt_syst2 photon_pt_syst3  \\\n",
      "661021             0.0            0.0             0.0             0.0   \n",
      "775269             0.0            0.0             0.0             0.0   \n",
      "1087095            0.0            0.0             0.0             0.0   \n",
      "164936             0.0            0.0             0.0             0.0   \n",
      "565528             0.0            0.0             0.0             0.0   \n",
      "\n",
      "        photon_pt_syst4 totalInvariantMass  \n",
      "661021              0.0      155819.731030  \n",
      "775269              0.0      101886.196401  \n",
      "1087095             0.0      217041.115945  \n",
      "164936              0.0       80168.530556  \n",
      "565528              0.0      105798.546002  \n",
      "\n",
      "[5 rows x 274 columns]\n",
      "Test DataFrame with non-Higgs events written to test_non_higgs_dataframe.csv.\n",
      "Training/Validation DataFrame with Higgs and non-Higgs events written to train_higgs_and_non_higgs_dataframe.csv.\n"
     ]
    }
   ],
   "source": [
    "import pandas as pd\n",
    "from sklearn.model_selection import train_test_split\n",
    "\n",
    "# Assuming `expanded_df` is your DataFrame\n",
    "\n",
    "# Step 1: Separate the non-Higgs events\n",
    "non_higgs_df = expanded_df[expanded_df['isHiggs'] == 0]\n",
    "\n",
    "# Step 2: Split the non-Higgs data into training/validation set and test set\n",
    "non_higgs_train_df, test_df = train_test_split(non_higgs_df, test_size=0.2, random_state=42)\n",
    "\n",
    "# Step 3: Combine the non-Higgs training/validation set with the original Higgs events\n",
    "train_df = pd.concat([expanded_df[expanded_df['isHiggs'] == 1], non_higgs_train_df])\n",
    "\n",
    "# Step 4: Verify the split\n",
    "print(\"Training/Validation DataFrame:\")\n",
    "print(train_df.head())\n",
    "\n",
    "print(\"\\nTest DataFrame (Non-Higgs events only):\")\n",
    "print(test_df.head())\n",
    "\n",
    "# Optionally, save the test DataFrame for later use\n",
    "test_output_file = \"test_non_higgs_dataframe.csv\"\n",
    "test_df.to_csv(test_output_file, index=False)\n",
    "print(f\"Test DataFrame with non-Higgs events written to {test_output_file}.\")\n",
    "\n",
    "# Optionally, save the training/validation DataFrame for use in training\n",
    "train_output_file = \"train_higgs_and_non_higgs_dataframe.csv\"\n",
    "train_df.to_csv(train_output_file, index=False)\n",
    "print(f\"Training/Validation DataFrame with Higgs and non-Higgs events written to {train_output_file}.\")\n"
   ]
  },
  {
   "cell_type": "code",
   "execution_count": 21,
   "metadata": {},
   "outputs": [],
   "source": [
    "def higgs_ratio(df):\n",
    "    return sum(df.isHiggs) / len(df)"
   ]
  },
  {
   "cell_type": "code",
   "execution_count": 16,
   "metadata": {},
   "outputs": [
    {
     "name": "stderr",
     "output_type": "stream",
     "text": [
      "C:\\Users\\phgil\\AppData\\Local\\Temp\\ipykernel_22684\\1434935774.py:1: DtypeWarning: Columns (16,17,18,19,21,22,23,53,54,55,168,169,170,171,172,173,174,175,176,177,178,179,180,181,182,183,200,201,202,203,204,208,209,233,234) have mixed types. Specify dtype option on import or set low_memory=False.\n",
      "  train_df = pd.read_csv(\"train_higgs_and_non_higgs_dataframe.csv\").map(lambda x: float(bool(x)) if x in [\"True\", \"False\"] else float(x))\n"
     ]
    }
   ],
   "source": [
    "train_df = pd.read_csv(\"train_higgs_and_non_higgs_dataframe.csv\").map(lambda x: float(bool(x)) if x in [\"True\", \"False\"] else float(x))"
   ]
  },
  {
   "cell_type": "code",
   "execution_count": 58,
   "metadata": {},
   "outputs": [
    {
     "name": "stdout",
     "output_type": "stream",
     "text": [
      "0.42421856776300443\n",
      "1166064\n",
      "526711\n",
      "   eventNumber  scaleFactor_PILEUP  scaleFactor_PhotonTRIGGER  trigE  trigM  \\\n",
      "0    4246580.0            0.696076                   0.995786    0.0    0.0   \n",
      "2    3977190.0            0.750880                   1.002282    0.0    0.0   \n",
      "3     375365.0            0.187531                   0.978654    0.0    0.0   \n",
      "5    3453636.0            1.745631                   0.985973    0.0    0.0   \n",
      "7    4128997.0            0.696076                   0.981388    0.0    0.0   \n",
      "\n",
      "   trigP  lep_n     met_et   met_phi  jet_n  ...  jet_pt_syst10  \\\n",
      "0    1.0    0.0  51045.160  2.794363    3.0  ...            0.0   \n",
      "2    1.0    0.0  43917.438 -1.083709    1.0  ...            0.0   \n",
      "3    1.0    0.0  30531.508  0.860157    2.0  ...            0.0   \n",
      "5    1.0    0.0  63740.543  2.718296    2.0  ...            0.0   \n",
      "7    1.0    0.0  19034.055  2.155104    1.0  ...            0.0   \n",
      "\n",
      "   jet_pt_syst11  jet_pt_syst12  jet_pt_syst13  jet_pt_syst14  jet_pt_syst15  \\\n",
      "0            0.0            0.0            0.0            0.0            0.0   \n",
      "2            0.0            0.0            0.0            0.0            0.0   \n",
      "3            0.0            0.0            0.0            0.0            0.0   \n",
      "5            0.0            0.0            0.0            0.0            0.0   \n",
      "7            0.0            0.0            0.0            0.0            0.0   \n",
      "\n",
      "   photon_pt_syst2  photon_pt_syst3  photon_pt_syst4  totalInvariantMass  \n",
      "0              0.0              0.0              0.0       390872.265768  \n",
      "2              0.0              0.0              0.0       124472.867715  \n",
      "3              0.0              0.0              0.0        99834.656460  \n",
      "5              0.0              0.0              0.0       123142.899217  \n",
      "7              0.0              0.0              0.0       121290.532814  \n",
      "\n",
      "[5 rows x 274 columns]\n",
      "0.7210481649329519\n"
     ]
    }
   ],
   "source": [
    "print(higgs_ratio(train_df))\n",
    "import numpy as np\n",
    "\n",
    "import pandas as pd\n",
    "import numpy as np\n",
    "import pandas as pd\n",
    "import pandas as pd\n",
    "\n",
    "def apply_strict_higgs_filters(df):\n",
    "    \"\"\"\n",
    "    Applies stricter filters to the dataframe to select events from all Higgs boson decay channels.\n",
    "    \n",
    "    Parameters:\n",
    "        df (pd.DataFrame): The input dataframe containing events with relevant columns.\n",
    "        \n",
    "    Returns:\n",
    "        pd.DataFrame: The filtered dataframe with events satisfying the stricter filter criteria.\n",
    "    \"\"\"\n",
    "    \n",
    "    # Tighten photon selection: pT > 40 GeV, eta within 2.37 excluding barrel-endcap transition region, tighter isolation\n",
    "    df_photon = df[\n",
    "        (df['photon_n'] >= 2) &\n",
    "        (df['photon_isTightID0'] == 1) & (df['photon_isTightID1'] == 1) & \n",
    "        (df['photon_pt0'] > 40000) & (df['photon_pt1'] > 40000) &\n",
    "        (abs(df['photon_eta0']) < 2.37) & ((abs(df['photon_eta0']) < 1.37) | (abs(df['photon_eta0']) > 1.52)) &\n",
    "        (abs(df['photon_eta1']) < 2.37) & ((abs(df['photon_eta1']) < 1.37) | (abs(df['photon_eta1']) > 1.52)) &\n",
    "        (df['photon_ptcone300'] < 3000) & (df['photon_etcone200'] < 3000)\n",
    "    ]\n",
    "    \n",
    "    # Higgs -> ZZ* -> 4 leptons filter: stricter lepton selection (pT thresholds increased)\n",
    "    df_4lep = df[\n",
    "        (df['lep_n'] == 4) &\n",
    "        (df['lep_isTightID0'] == 1) & (df['lep_isTightID1'] == 1) &\n",
    "        (df['lep_pt0'] > 20000) & (df['lep_pt1'] > 15000) &\n",
    "        (df['ditau_m'] > 85000) & (df['ditau_m'] < 95000)\n",
    "    ]\n",
    "    \n",
    "    # Higgs -> WW* -> eνμν filter: stricter lepton selection (pT cuts), possibly neutrino final states\n",
    "    df_2lep = df[\n",
    "        (df['lep_n'] == 2) &\n",
    "        (df['lep_isTightID0'] == 1) & (df['lep_isTightID1'] == 1) &\n",
    "        (df['lep_pt0'] > 25000) & (df['lep_pt1'] > 20000)\n",
    "    ]\n",
    "    \n",
    "    # Hadronic decay channels (H -> bb, H -> ττ) filter: more stringent jet selection\n",
    "    df_hadronic = df[\n",
    "        (df['jet_n'] >= 2) &\n",
    "        (df['jet_pt0'] > 40000) & (df['jet_pt1'] > 40000)\n",
    "        # Removed b-tagging condition as jet_btag0 and jet_btag1 are not present\n",
    "    ]\n",
    "    \n",
    "    # Stricter Missing Transverse Energy (MET) filter for channels with neutrinos\n",
    "    df_met = df[\n",
    "        (df['met_et'] > 60000) & (df['met_et'] < 100000)  # Tighten MET range\n",
    "    ]\n",
    "    \n",
    "    # Combine all filtered dataframes and remove duplicates\n",
    "    df_combined = pd.concat([df_photon, df_4lep, df_2lep, df_hadronic, df_met]).drop_duplicates()\n",
    "    # df_combined = df_photon\n",
    "    return df_combined\n",
    "\n",
    "\n",
    "\n",
    "\n",
    "# Example usage:\n",
    "# df_filtered = apply_higgs_filters(df)\n",
    "\n",
    "print(len(train_df))\n",
    "# Assuming `train_df` is your DataFrame\n",
    "filtered_df = apply_strict_higgs_filters(train_df)\n",
    "print(len(filtered_df))\n",
    "# Show the first few rows of the filtered DataFrame\n",
    "print(filtered_df.head())\n",
    "print(higgs_ratio(filtered_df))\n"
   ]
  },
  {
   "cell_type": "code",
   "execution_count": 23,
   "metadata": {},
   "outputs": [],
   "source": [
    "filtered_df = filtered_df.astype(float)"
   ]
  },
  {
   "cell_type": "code",
   "execution_count": 65,
   "metadata": {},
   "outputs": [
    {
     "name": "stdout",
     "output_type": "stream",
     "text": [
      "Top 10 variables by memory usage:\n",
      "train_df: 3725574512 bytes\n",
      "non_higgs_df: 2681397392 bytes\n",
      "non_higgs_train_df: 2145116642 bytes\n",
      "combined_df: 1038349996 bytes\n",
      "data_df: 623541838 bytes\n",
      "test_df: 536280782 bytes\n",
      "mc_df: 414808762 bytes\n",
      "train_df_sampled: 256535432 bytes\n",
      "X: 254669720 bytes\n",
      "X_train: 203734472 bytes\n"
     ]
    }
   ],
   "source": [
    "import sys\n",
    "import pandas as pd\n",
    "\n",
    "def print_memory_usage(n=10, scope=None):\n",
    "    \"\"\"\n",
    "    Prints the variables that take the most memory in the provided scope.\n",
    "\n",
    "    Parameters:\n",
    "    n (int): The number of top variables to print. Default is 10.\n",
    "    scope (dict): The scope from which to measure memory usage, typically locals() or globals().\n",
    "    \"\"\"\n",
    "    if scope is None:\n",
    "        scope = globals()  # Default to the global scope if none provided\n",
    "\n",
    "    # Calculate the size of each variable in the provided scope\n",
    "    memory_usage = {var: sys.getsizeof(value) for var, value in scope.items()}\n",
    "\n",
    "    # Sort variables by memory usage in descending order\n",
    "    sorted_memory_usage = sorted(memory_usage.items(), key=lambda item: item[1], reverse=True)\n",
    "\n",
    "    print(f\"Top {n} variables by memory usage:\")\n",
    "    for var, size in sorted_memory_usage[:n]:\n",
    "        print(f\"{var}: {size} bytes\")\n",
    "\n",
    "# Call the function from the global scope\n",
    "print_memory_usage(n=10, scope=globals())\n"
   ]
  },
  {
   "cell_type": "code",
   "execution_count": 66,
   "metadata": {},
   "outputs": [],
   "source": [
    "del non_higgs_df\n",
    "del combined_df\n",
    "del data_df\n",
    "del test_df\n",
    "del mc_df"
   ]
  },
  {
   "cell_type": "code",
   "execution_count": 85,
   "metadata": {},
   "outputs": [
    {
     "data": {
      "application/vnd.jupyter.widget-view+json": {
       "model_id": "38474f242ada4c12974733e045d261ea",
       "version_major": 2,
       "version_minor": 0
      },
      "image/png": "[encoded data removed]",
      "text/html": [
       "\n",
       "            <div style=\"display: inline-block;\">\n",
       "                <div class=\"jupyter-widgets widget-label\" style=\"text-align: center;\">\n",
       "                    Figure 15\n",
       "                </div>\n",
       "                <img src='data:image/png;base64,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' width=1000.0/>\n",
       "            </div>\n",
       "        "
      ],
      "text/plain": [
       "Canvas(toolbar=Toolbar(toolitems=[('Home', 'Reset original view', 'home', 'home'), ('Back', 'Back to previous …"
      ]
     },
     "metadata": {},
     "output_type": "display_data"
    }
   ],
   "source": [
    "import seaborn as sn\n",
    "import matplotlib.pyplot as plt\n",
    "%matplotlib widget\n",
    "plt.clf()\n",
    "sn.kdeplot(filtered_df[filtered_df.isHiggs==1].totalInvariantMass, bw_adjust=.25)\n",
    "# plt.xlim(100000, 150000)\n",
    "plt.show()"
   ]
  },
  {
   "cell_type": "code",
   "execution_count": 75,
   "metadata": {},
   "outputs": [],
   "source": [
    "higgs_suspected = filtered_df[filtered_df.isHiggs==0].totalInvariantMass"
   ]
  },
  {
   "cell_type": "code",
   "execution_count": 77,
   "metadata": {},
   "outputs": [
    {
     "data": {
      "application/vnd.jupyter.widget-view+json": {
       "model_id": "f4e8b204b62e422c93e0986f9f055548",
       "version_major": 2,
       "version_minor": 0
      },
      "image/png": "[encoded data removed]",
      "text/html": [
       "\n",
       "            <div style=\"display: inline-block;\">\n",
       "                <div class=\"jupyter-widgets widget-label\" style=\"text-align: center;\">\n",
       "                    Figure 11\n",
       "                </div>\n",
       "                <img src='data:image/png;base64,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' width=500.0/>\n",
       "            </div>\n",
       "        "
      ],
      "text/plain": [
       "Canvas(toolbar=Toolbar(toolitems=[('Home', 'Reset original view', 'home', 'home'), ('Back', 'Back to previous …"
      ]
     },
     "metadata": {},
     "output_type": "display_data"
    }
   ],
   "source": [
    "plt.clf()\n",
    "sn.histplot(higgs_suspected, kde=True)\n",
    "plt.show()"
   ]
  },
  {
   "cell_type": "code",
   "execution_count": 73,
   "metadata": {},
   "outputs": [
    {
     "name": "stdout",
     "output_type": "stream",
     "text": [
      "Expected number of background events in Higgs mass window: 6575.9510586132255\n",
      "95% Confidence Interval: [6417.0, 6735.0]\n",
      "Observed number of events in Higgs mass window: 7003\n",
      "P-value: 9.611494821809901e-08\n",
      "Significance (in sigma): 5.206698643847132\n"
     ]
    },
    {
     "data": {
      "application/vnd.jupyter.widget-view+json": {
       "model_id": "6ec0a0fee45d4e92995a46c38dbcdf72",
       "version_major": 2,
       "version_minor": 0
      },
      "image/png": "[encoded data removed]",
      "text/html": [
       "\n",
       "            <div style=\"display: inline-block;\">\n",
       "                <div class=\"jupyter-widgets widget-label\" style=\"text-align: center;\">\n",
       "                    Figure\n",
       "                </div>\n",
       "                <img src='data:image/png;base64,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' width=1000.0/>\n",
       "            </div>\n",
       "        "
      ],
      "text/plain": [
       "Canvas(toolbar=Toolbar(toolitems=[('Home', 'Reset original view', 'home', 'home'), ('Back', 'Back to previous …"
      ]
     },
     "metadata": {},
     "output_type": "display_data"
    },
    {
     "data": {
      "application/vnd.jupyter.widget-view+json": {
       "model_id": "0b30a98ea5c84c4297293ee3596a1bed",
       "version_major": 2,
       "version_minor": 0
      },
      "image/png": "[encoded data removed]",
      "text/html": [
       "\n",
       "            <div style=\"display: inline-block;\">\n",
       "                <div class=\"jupyter-widgets widget-label\" style=\"text-align: center;\">\n",
       "                    Figure\n",
       "                </div>\n",
       "                <img src='data:image/png;base64,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' width=1000.0/>\n",
       "            </div>\n",
       "        "
      ],
      "text/plain": [
       "Canvas(toolbar=Toolbar(toolitems=[('Home', 'Reset original view', 'home', 'home'), ('Back', 'Back to previous …"
      ]
     },
     "metadata": {},
     "output_type": "display_data"
    }
   ],
   "source": [
    "import numpy as np\n",
    "from scipy.stats import poisson, norm\n",
    "from scipy.optimize import curve_fit\n",
    "import matplotlib.pyplot as plt\n",
    "\n",
    "# Custom function: exponential with linear and quadratic terms\n",
    "def exp_lin_quad(x, a, b, c, d):\n",
    "    return a * np.exp(-b * x) + c * x + d * x**2\n",
    "\n",
    "# Assuming you have a list or array of masses in MeV\n",
    "masses = filtered_df[filtered_df.isHiggs==0 | (filtered_df.index % 500 == 1)].totalInvariantMass  # Replace with your actual list of masses\n",
    "\n",
    "# Define the fit region (90 GeV to 350 GeV in MeV)\n",
    "fit_lower_bound = 110000  # 90 GeV in MeV\n",
    "fit_upper_bound = 350000  # 350 GeV in MeV\n",
    "\n",
    "# Step 1: Filter data to be within the fit region\n",
    "filtered_masses = [m for m in masses if fit_lower_bound <= m <= fit_upper_bound]\n",
    "\n",
    "# Step 2: Fit an exponential with linear and quadratic terms to the filtered data\n",
    "hist, bin_edges = np.histogram(filtered_masses, bins=1000, range=(fit_lower_bound, fit_upper_bound), density=False)\n",
    "bin_centers = 0.5 * (bin_edges[:-1] + bin_edges[1:])\n",
    "popt, pcov = curve_fit(exp_lin_quad, bin_centers, hist, p0=(1e-5, 1e-5, 1e-12, 1e-18))\n",
    "\n",
    "# Extract fitted parameters\n",
    "a, b, c, d = popt\n",
    "\n",
    "# Step 3: Define the Higgs mass window (100,000 - 150,000 MeV)\n",
    "mass_lower_bound = 120000  # 100 GeV in MeV\n",
    "mass_upper_bound = 130000  # 150 GeV in MeV\n",
    "\n",
    "# Calculate the expected number of background events in the Higgs mass window\n",
    "expected_background_counts = np.sum([exp_lin_quad(x, a, b, c, d) for x in bin_centers if mass_lower_bound <= x <= mass_upper_bound])\n",
    "\n",
    "# 95% confidence interval for the expected background events\n",
    "ci_lower = poisson.ppf(0.025, expected_background_counts)\n",
    "ci_upper = poisson.ppf(0.975, expected_background_counts)\n",
    "\n",
    "# Print the expected background events and the confidence interval\n",
    "print(f\"Expected number of background events in Higgs mass window: {expected_background_counts}\")\n",
    "print(f\"95% Confidence Interval: [{ci_lower}, {ci_upper}]\")\n",
    "\n",
    "# Count the number of observed events in the Higgs mass window\n",
    "observed_higgs_counts = np.sum((np.array(filtered_masses) >= mass_lower_bound) & (np.array(filtered_masses) <= mass_upper_bound))\n",
    "\n",
    "print(f\"Observed number of events in Higgs mass window: {observed_higgs_counts}\")\n",
    "\n",
    "# Step 4: Perform a hypothesis test\n",
    "# Assuming the number of events follows a Poisson distribution\n",
    "p_value = poisson.sf(observed_higgs_counts - 1, expected_background_counts)\n",
    "\n",
    "# Step 5: Calculate the significance (sigma)\n",
    "sigma = norm.isf(p_value)\n",
    "\n",
    "print(f\"P-value: {p_value}\")\n",
    "print(f\"Significance (in sigma): {sigma}\")\n",
    "plt.clf()\n",
    "\n",
    "# Step 6: Plot the histogram with the fitted background model (90,000 to 350,000 MeV)\n",
    "plt.figure(figsize=(10, 6))\n",
    "hist, bin_edges, _ = plt.hist(filtered_masses, bins=1000, density=False, alpha=0.6, label='Observed Data')  # Non-density mode\n",
    "x = np.linspace(fit_lower_bound, fit_upper_bound, 1000)\n",
    "plt.plot(x, exp_lin_quad(x, *popt), 'r-', lw=2, label='Fitted Background (Exp + Lin + Quad)')\n",
    "plt.axvspan(mass_lower_bound, mass_upper_bound, color='yellow', alpha=0.3, label='Higgs Mass Window')\n",
    "plt.xlabel('Invariant Mass (MeV)')\n",
    "plt.ylabel('Counts')\n",
    "plt.title('Background Hypothesis Fit and Higgs Mass Window (90-350 GeV Fit Region)')\n",
    "plt.legend()\n",
    "plt.xlim(fit_lower_bound, fit_upper_bound)\n",
    "plt.show()\n",
    "\n",
    "# Step 7: Calculate the estimated background for each bin and subtract it to get the signal\n",
    "background_estimate = exp_lin_quad(bin_centers, *popt)\n",
    "\n",
    "# Calculate the signal as the difference between observed counts and estimated background\n",
    "signal_estimate = hist - background_estimate\n",
    "\n",
    "# Step 8: Plot the estimated signal\n",
    "plt.figure(figsize=(10, 6))\n",
    "\n",
    "# Plot the signal estimate (data minus background)\n",
    "plt.bar(bin_centers, signal_estimate, width=np.diff(bin_edges), align='center', alpha=0.6, label='Estimated Signal')\n",
    "\n",
    "# Highlight the Higgs mass window\n",
    "plt.axvspan(mass_lower_bound, mass_upper_bound, color='yellow', alpha=0.3, label='Higgs Mass Window')\n",
    "\n",
    "# Labels and title\n",
    "plt.xlabel('Invariant Mass (MeV)')\n",
    "plt.ylabel('Signal (Counts)')\n",
    "plt.title('Estimated Signal after Background Subtraction')\n",
    "\n",
    "# Display legend and plot limits\n",
    "plt.legend()\n",
    "plt.xlim(fit_lower_bound, fit_upper_bound)\n",
    "\n",
    "# Show the plot\n",
    "plt.show()\n"
   ]
  },
  {
   "cell_type": "code",
   "execution_count": 19,
   "metadata": {},
   "outputs": [
    {
     "data": {
      "text/plain": [
       "['eventNumber',\n",
       " 'scaleFactor_PILEUP',\n",
       " 'scaleFactor_PhotonTRIGGER',\n",
       " 'trigE',\n",
       " 'trigM',\n",
       " 'trigP',\n",
       " 'lep_n',\n",
       " 'met_et',\n",
       " 'met_phi',\n",
       " 'jet_n',\n",
       " 'photon_n',\n",
       " 'tau_n',\n",
       " 'ditau_m',\n",
       " 'met_et_syst',\n",
       " 'largeRjet_n',\n",
       " 'isHiggs',\n",
       " 'lep_truthMatched0',\n",
       " 'lep_truthMatched1',\n",
       " 'lep_truthMatched2',\n",
       " 'lep_truthMatched3',\n",
       " 'lep_trigMatched0',\n",
       " 'lep_trigMatched1',\n",
       " 'lep_trigMatched2',\n",
       " 'lep_trigMatched3',\n",
       " 'lep_pt0',\n",
       " 'lep_pt1',\n",
       " 'lep_pt2',\n",
       " 'lep_pt3',\n",
       " 'lep_eta0',\n",
       " 'lep_eta1',\n",
       " 'lep_eta2',\n",
       " 'lep_eta3',\n",
       " 'lep_phi0',\n",
       " 'lep_phi1',\n",
       " 'lep_phi2',\n",
       " 'lep_phi3',\n",
       " 'lep_E0',\n",
       " 'lep_E1',\n",
       " 'lep_E2',\n",
       " 'lep_E3',\n",
       " 'lep_z00',\n",
       " 'lep_z01',\n",
       " 'lep_z02',\n",
       " 'lep_z03',\n",
       " 'lep_charge0',\n",
       " 'lep_charge1',\n",
       " 'lep_charge2',\n",
       " 'lep_charge3',\n",
       " 'lep_type0',\n",
       " 'lep_type1',\n",
       " 'lep_type2',\n",
       " 'lep_type3',\n",
       " 'lep_isTightID0',\n",
       " 'lep_isTightID1',\n",
       " 'lep_isTightID2',\n",
       " 'lep_isTightID3',\n",
       " 'lep_ptcone300',\n",
       " 'lep_ptcone301',\n",
       " 'lep_ptcone302',\n",
       " 'lep_ptcone303',\n",
       " 'lep_etcone200',\n",
       " 'lep_etcone201',\n",
       " 'lep_etcone202',\n",
       " 'lep_etcone203',\n",
       " 'lep_trackd0pvunbiased0',\n",
       " 'lep_trackd0pvunbiased1',\n",
       " 'lep_trackd0pvunbiased2',\n",
       " 'lep_trackd0pvunbiased3',\n",
       " 'lep_tracksigd0pvunbiased0',\n",
       " 'lep_tracksigd0pvunbiased1',\n",
       " 'lep_tracksigd0pvunbiased2',\n",
       " 'lep_tracksigd0pvunbiased3',\n",
       " 'jet_pt0',\n",
       " 'jet_pt1',\n",
       " 'jet_pt2',\n",
       " 'jet_pt3',\n",
       " 'jet_pt4',\n",
       " 'jet_pt5',\n",
       " 'jet_pt6',\n",
       " 'jet_pt7',\n",
       " 'jet_pt8',\n",
       " 'jet_pt9',\n",
       " 'jet_pt10',\n",
       " 'jet_pt11',\n",
       " 'jet_pt12',\n",
       " 'jet_pt13',\n",
       " 'jet_pt14',\n",
       " 'jet_pt15',\n",
       " 'jet_eta0',\n",
       " 'jet_eta1',\n",
       " 'jet_eta2',\n",
       " 'jet_eta3',\n",
       " 'jet_eta4',\n",
       " 'jet_eta5',\n",
       " 'jet_eta6',\n",
       " 'jet_eta7',\n",
       " 'jet_eta8',\n",
       " 'jet_eta9',\n",
       " 'jet_eta10',\n",
       " 'jet_eta11',\n",
       " 'jet_eta12',\n",
       " 'jet_eta13',\n",
       " 'jet_eta14',\n",
       " 'jet_eta15',\n",
       " 'jet_phi0',\n",
       " 'jet_phi1',\n",
       " 'jet_phi2',\n",
       " 'jet_phi3',\n",
       " 'jet_phi4',\n",
       " 'jet_phi5',\n",
       " 'jet_phi6',\n",
       " 'jet_phi7',\n",
       " 'jet_phi8',\n",
       " 'jet_phi9',\n",
       " 'jet_phi10',\n",
       " 'jet_phi11',\n",
       " 'jet_phi12',\n",
       " 'jet_phi13',\n",
       " 'jet_phi14',\n",
       " 'jet_phi15',\n",
       " 'jet_E0',\n",
       " 'jet_E1',\n",
       " 'jet_E2',\n",
       " 'jet_E3',\n",
       " 'jet_E4',\n",
       " 'jet_E5',\n",
       " 'jet_E6',\n",
       " 'jet_E7',\n",
       " 'jet_E8',\n",
       " 'jet_E9',\n",
       " 'jet_E10',\n",
       " 'jet_E11',\n",
       " 'jet_E12',\n",
       " 'jet_E13',\n",
       " 'jet_E14',\n",
       " 'jet_E15',\n",
       " 'jet_jvt0',\n",
       " 'jet_jvt1',\n",
       " 'jet_jvt2',\n",
       " 'jet_jvt3',\n",
       " 'jet_jvt4',\n",
       " 'jet_jvt5',\n",
       " 'jet_jvt6',\n",
       " 'jet_jvt7',\n",
       " 'jet_jvt8',\n",
       " 'jet_jvt9',\n",
       " 'jet_jvt10',\n",
       " 'jet_jvt11',\n",
       " 'jet_jvt12',\n",
       " 'jet_jvt13',\n",
       " 'jet_jvt14',\n",
       " 'jet_jvt15',\n",
       " 'jet_trueflav0',\n",
       " 'jet_trueflav1',\n",
       " 'jet_trueflav2',\n",
       " 'jet_trueflav3',\n",
       " 'jet_trueflav4',\n",
       " 'jet_trueflav5',\n",
       " 'jet_trueflav6',\n",
       " 'jet_trueflav7',\n",
       " 'jet_trueflav8',\n",
       " 'jet_trueflav9',\n",
       " 'jet_trueflav10',\n",
       " 'jet_trueflav11',\n",
       " 'jet_trueflav12',\n",
       " 'jet_trueflav13',\n",
       " 'jet_trueflav14',\n",
       " 'jet_trueflav15',\n",
       " 'jet_truthMatched0',\n",
       " 'jet_truthMatched1',\n",
       " 'jet_truthMatched2',\n",
       " 'jet_truthMatched3',\n",
       " 'jet_truthMatched4',\n",
       " 'jet_truthMatched5',\n",
       " 'jet_truthMatched6',\n",
       " 'jet_truthMatched7',\n",
       " 'jet_truthMatched8',\n",
       " 'jet_truthMatched9',\n",
       " 'jet_truthMatched10',\n",
       " 'jet_truthMatched11',\n",
       " 'jet_truthMatched12',\n",
       " 'jet_truthMatched13',\n",
       " 'jet_truthMatched14',\n",
       " 'jet_truthMatched15',\n",
       " 'jet_MV2c100',\n",
       " 'jet_MV2c101',\n",
       " 'jet_MV2c102',\n",
       " 'jet_MV2c103',\n",
       " 'jet_MV2c104',\n",
       " 'jet_MV2c105',\n",
       " 'jet_MV2c106',\n",
       " 'jet_MV2c107',\n",
       " 'jet_MV2c108',\n",
       " 'jet_MV2c109',\n",
       " 'jet_MV2c1010',\n",
       " 'jet_MV2c1011',\n",
       " 'jet_MV2c1012',\n",
       " 'jet_MV2c1013',\n",
       " 'jet_MV2c1014',\n",
       " 'jet_MV2c1015',\n",
       " 'photon_truthMatched0',\n",
       " 'photon_truthMatched1',\n",
       " 'photon_truthMatched2',\n",
       " 'photon_truthMatched3',\n",
       " 'photon_truthMatched4',\n",
       " 'photon_trigMatched0',\n",
       " 'photon_trigMatched1',\n",
       " 'photon_trigMatched2',\n",
       " 'photon_trigMatched3',\n",
       " 'photon_trigMatched4',\n",
       " 'photon_pt0',\n",
       " 'photon_pt1',\n",
       " 'photon_pt2',\n",
       " 'photon_pt3',\n",
       " 'photon_pt4',\n",
       " 'photon_eta0',\n",
       " 'photon_eta1',\n",
       " 'photon_eta2',\n",
       " 'photon_eta3',\n",
       " 'photon_eta4',\n",
       " 'photon_phi0',\n",
       " 'photon_phi1',\n",
       " 'photon_phi2',\n",
       " 'photon_phi3',\n",
       " 'photon_phi4',\n",
       " 'photon_E0',\n",
       " 'photon_E1',\n",
       " 'photon_E2',\n",
       " 'photon_E3',\n",
       " 'photon_E4',\n",
       " 'photon_isTightID0',\n",
       " 'photon_isTightID1',\n",
       " 'photon_isTightID2',\n",
       " 'photon_isTightID3',\n",
       " 'photon_isTightID4',\n",
       " 'photon_ptcone300',\n",
       " 'photon_ptcone301',\n",
       " 'photon_ptcone302',\n",
       " 'photon_ptcone303',\n",
       " 'photon_ptcone304',\n",
       " 'photon_etcone200',\n",
       " 'photon_etcone201',\n",
       " 'photon_etcone202',\n",
       " 'photon_etcone203',\n",
       " 'photon_etcone204',\n",
       " 'photon_convType0',\n",
       " 'photon_convType1',\n",
       " 'photon_convType2',\n",
       " 'photon_convType3',\n",
       " 'photon_convType4',\n",
       " 'lep_pt_syst0',\n",
       " 'lep_pt_syst1',\n",
       " 'lep_pt_syst2',\n",
       " 'lep_pt_syst3',\n",
       " 'jet_pt_syst0',\n",
       " 'jet_pt_syst1',\n",
       " 'jet_pt_syst2',\n",
       " 'jet_pt_syst3',\n",
       " 'jet_pt_syst4',\n",
       " 'jet_pt_syst5',\n",
       " 'jet_pt_syst6',\n",
       " 'jet_pt_syst7',\n",
       " 'jet_pt_syst8',\n",
       " 'jet_pt_syst9',\n",
       " 'jet_pt_syst10',\n",
       " 'jet_pt_syst11',\n",
       " 'jet_pt_syst12',\n",
       " 'jet_pt_syst13',\n",
       " 'jet_pt_syst14',\n",
       " 'jet_pt_syst15',\n",
       " 'photon_pt_syst2',\n",
       " 'photon_pt_syst3',\n",
       " 'photon_pt_syst4',\n",
       " 'totalInvariantMass']"
      ]
     },
     "execution_count": 19,
     "metadata": {},
     "output_type": "execute_result"
    }
   ],
   "source": [
    "list(train_df.columns)"
   ]
  },
  {
   "cell_type": "code",
   "execution_count": null,
   "metadata": {},
   "outputs": [],
   "source": []
  }
 ],
 "metadata": {
  "kernelspec": {
   "display_name": "Python 3",
   "language": "python",
   "name": "python3"
  },
  "language_info": {
   "codemirror_mode": {
    "name": "ipython",
    "version": 3
   },
   "file_extension": ".py",
   "mimetype": "text/x-python",
   "name": "python",
   "nbconvert_exporter": "python",
   "pygments_lexer": "ipython3",
   "version": "3.12.5"
  }
 },
 "nbformat": 4,
 "nbformat_minor": 2
}
