{
 "cells": [
  {
   "cell_type": "code",
   "execution_count": 1,
   "metadata": {},
   "outputs": [
    {
     "name": "stdout",
     "output_type": "stream",
     "text": [
      "Loading MC data...\n",
      "Found 5 ROOT files in the directory 'usb/GamGam/MC/'.\n"
     ]
    },
    {
     "name": "stderr",
     "output_type": "stream",
     "text": [
      "Loading ROOT files:   0%|          | 0/5 [00:00<?, ?file/s]"
     ]
    },
    {
     "name": "stdout",
     "output_type": "stream",
     "text": [
      "\n",
      "Processing file: mc_341081.ttH125_gamgam.GamGam.root\n",
      "  Number of entries in the tree: 576491\n",
      "  Sampling the first 115298 entries.\n"
     ]
    },
    {
     "name": "stderr",
     "output_type": "stream",
     "text": [
      "Loading ROOT files:  20%|██        | 1/5 [00:01<00:05,  1.30s/file]"
     ]
    },
    {
     "name": "stdout",
     "output_type": "stream",
     "text": [
      "  Time taken to extract data: 1.28 seconds.\n",
      "  Time taken to process file: 1.30 seconds.\n",
      "\n",
      "Processing file: mc_343981.ggH125_gamgam.GamGam.root\n",
      "  Number of entries in the tree: 1054711\n",
      "  Sampling the first 210942 entries.\n"
     ]
    },
    {
     "name": "stderr",
     "output_type": "stream",
     "text": [
      "Loading ROOT files:  40%|████      | 2/5 [00:02<00:04,  1.51s/file]"
     ]
    },
    {
     "name": "stdout",
     "output_type": "stream",
     "text": [
      "  Time taken to extract data: 1.65 seconds.\n",
      "  Time taken to process file: 1.66 seconds.\n",
      "\n",
      "Processing file: mc_345041.VBFH125_gamgam.GamGam.root\n",
      "  Number of entries in the tree: 497468\n",
      "  Sampling the first 99493 entries.\n"
     ]
    },
    {
     "name": "stderr",
     "output_type": "stream",
     "text": [
      "Loading ROOT files:  60%|██████    | 3/5 [00:03<00:02,  1.21s/file]"
     ]
    },
    {
     "name": "stdout",
     "output_type": "stream",
     "text": [
      "  Time taken to extract data: 0.82 seconds.\n",
      "  Time taken to process file: 0.84 seconds.\n",
      "\n",
      "Processing file: mc_345318.WpH125J_Wincl_gamgam.GamGam.root\n",
      "  Number of entries in the tree: 113765\n",
      "  Sampling the first 22753 entries.\n"
     ]
    },
    {
     "name": "stderr",
     "output_type": "stream",
     "text": [
      "Loading ROOT files:  80%|████████  | 4/5 [00:04<00:00,  1.01file/s]"
     ]
    },
    {
     "name": "stdout",
     "output_type": "stream",
     "text": [
      "  Time taken to extract data: 0.58 seconds.\n",
      "  Time taken to process file: 0.66 seconds.\n",
      "\n",
      "Processing file: mc_345319.ZH125J_Zincl_gamgam.GamGam.root\n",
      "  Number of entries in the tree: 230900\n",
      "  Sampling the first 46180 entries.\n"
     ]
    },
    {
     "name": "stderr",
     "output_type": "stream",
     "text": [
      "Loading ROOT files: 100%|██████████| 5/5 [00:05<00:00,  1.02s/file]"
     ]
    },
    {
     "name": "stdout",
     "output_type": "stream",
     "text": [
      "  Time taken to extract data: 0.64 seconds.\n",
      "  Time taken to process file: 0.66 seconds.\n",
      "\n",
      "Concatenating all DataFrames...\n"
     ]
    },
    {
     "name": "stderr",
     "output_type": "stream",
     "text": [
      "\n"
     ]
    },
    {
     "name": "stdout",
     "output_type": "stream",
     "text": [
      "Time taken to concatenate all DataFrames: 431.81 seconds.\n",
      "Loading Data...\n",
      "Found 3 ROOT files in the directory 'usb/GamGam/Data/'.\n"
     ]
    },
    {
     "name": "stderr",
     "output_type": "stream",
     "text": [
      "Loading ROOT files:   0%|          | 0/3 [00:00<?, ?file/s]"
     ]
    },
    {
     "name": "stdout",
     "output_type": "stream",
     "text": [
      "\n",
      "Processing file: data_A.GamGam.root\n",
      "  Number of entries in the tree: 430344\n",
      "  Sampling the first 86068 entries.\n"
     ]
    },
    {
     "name": "stderr",
     "output_type": "stream",
     "text": [
      "Loading ROOT files:  33%|███▎      | 1/3 [00:00<00:01,  1.27file/s]"
     ]
    },
    {
     "name": "stdout",
     "output_type": "stream",
     "text": [
      "  Time taken to extract data: 0.77 seconds.\n",
      "  Time taken to process file: 0.79 seconds.\n",
      "\n",
      "Processing file: data_B.GamGam.root\n",
      "  Number of entries in the tree: 1528717\n",
      "  Sampling the first 305743 entries.\n"
     ]
    },
    {
     "name": "stderr",
     "output_type": "stream",
     "text": [
      "Loading ROOT files:  67%|██████▋   | 2/3 [00:03<00:01,  1.67s/file]"
     ]
    },
    {
     "name": "stdout",
     "output_type": "stream",
     "text": [
      "  Time taken to extract data: 2.27 seconds.\n",
      "  Time taken to process file: 2.28 seconds.\n",
      "\n",
      "Processing file: data_C.GamGam.root\n",
      "  Number of entries in the tree: 2237187\n",
      "  Sampling the first 447437 entries.\n"
     ]
    },
    {
     "name": "stderr",
     "output_type": "stream",
     "text": [
      "Loading ROOT files: 100%|██████████| 3/3 [00:05<00:00,  1.84s/file]"
     ]
    },
    {
     "name": "stdout",
     "output_type": "stream",
     "text": [
      "  Time taken to extract data: 2.42 seconds.\n",
      "  Time taken to process file: 2.45 seconds.\n",
      "\n",
      "Concatenating all DataFrames...\n"
     ]
    },
    {
     "name": "stderr",
     "output_type": "stream",
     "text": [
      "\n"
     ]
    },
    {
     "name": "stdout",
     "output_type": "stream",
     "text": [
      "Time taken to concatenate all DataFrames: 683.60 seconds.\n",
      "MC DataFrame head:\n",
      "   runNumber  eventNumber  channelNumber  mcWeight  scaleFactor_PILEUP  \\\n",
      "0     284500       674070         341081      -1.0            0.696077   \n",
      "1     284500       674033         341081      -1.0            0.696077   \n",
      "2     284500       674129         341081      -1.0            0.696077   \n",
      "3     284500       674306         341081       1.0            0.750880   \n",
      "4     284500       674312         341081       1.0            0.750880   \n",
      "\n",
      "   scaleFactor_ELE  scaleFactor_MUON  scaleFactor_PHOTON  scaleFactor_TAU  \\\n",
      "0          1.00000          0.995968            1.005772              1.0   \n",
      "1          1.00000          0.995324            1.001342              1.0   \n",
      "2          1.00000          1.000000            1.007652              1.0   \n",
      "3          0.94772          1.000000            1.014442              1.0   \n",
      "4          1.00000          0.999456            1.018067              1.0   \n",
      "\n",
      "   scaleFactor_BTAG  ...  largeRjet_pt  largeRjet_eta  largeRjet_phi  \\\n",
      "0          1.076109  ...            []             []             []   \n",
      "1          0.934331  ...            []             []             []   \n",
      "2          1.066152  ...            []             []             []   \n",
      "3          0.933773  ...            []             []             []   \n",
      "4          0.995078  ...            []             []             []   \n",
      "\n",
      "   largeRjet_E  largeRjet_m  largeRjet_truthMatched  largeRjet_D2  \\\n",
      "0           []           []                      []            []   \n",
      "1           []           []                      []            []   \n",
      "2           []           []                      []            []   \n",
      "3           []           []                      []            []   \n",
      "4           []           []                      []            []   \n",
      "\n",
      "   largeRjet_tau32  largeRjet_pt_syst  tau_charge  \n",
      "0               []                 []          []  \n",
      "1               []                 []          []  \n",
      "2               []                 []          []  \n",
      "3               []                 []          []  \n",
      "4               []                 []          []  \n",
      "\n",
      "[5 rows x 81 columns]\n",
      "Data DataFrame head:\n",
      "   runNumber  eventNumber  channelNumber  mcWeight  scaleFactor_PILEUP  \\\n",
      "0     297730      1540777         297730       0.0                 0.0   \n",
      "1     297730      1713779         297730       0.0                 0.0   \n",
      "2     297730      1761929         297730       0.0                 0.0   \n",
      "3     297730      1765304         297730       0.0                 0.0   \n",
      "4     297730      1651552         297730       0.0                 0.0   \n",
      "\n",
      "   scaleFactor_ELE  scaleFactor_MUON  scaleFactor_PHOTON  scaleFactor_TAU  \\\n",
      "0              0.0               0.0                 0.0              0.0   \n",
      "1              0.0               0.0                 0.0              0.0   \n",
      "2              0.0               0.0                 0.0              0.0   \n",
      "3              0.0               0.0                 0.0              0.0   \n",
      "4              0.0               0.0                 0.0              0.0   \n",
      "\n",
      "   scaleFactor_BTAG  ...  largeRjet_pt  largeRjet_eta  largeRjet_phi  \\\n",
      "0               0.0  ...            []             []             []   \n",
      "1               0.0  ...            []             []             []   \n",
      "2               0.0  ...            []             []             []   \n",
      "3               0.0  ...            []             []             []   \n",
      "4               0.0  ...            []             []             []   \n",
      "\n",
      "   largeRjet_E  largeRjet_m  largeRjet_truthMatched  largeRjet_D2  \\\n",
      "0           []           []                      []            []   \n",
      "1           []           []                      []            []   \n",
      "2           []           []                      []            []   \n",
      "3           []           []                      []            []   \n",
      "4           []           []                      []            []   \n",
      "\n",
      "   largeRjet_tau32  largeRjet_pt_syst  tau_charge  \n",
      "0               []                 []          []  \n",
      "1               []                 []          []  \n",
      "2               []                 []          []  \n",
      "3               []                 []          []  \n",
      "4               []                 []          []  \n",
      "\n",
      "[5 rows x 81 columns]\n"
     ]
    }
   ],
   "source": [
    "\n",
    "import uproot\n",
    "import pandas as pd\n",
    "import os\n",
    "import time\n",
    "from tqdm import tqdm\n",
    "\n",
    "def load_root_files_to_df(directory, tree_name=\"mini\", fraction=0.2):\n",
    "    \"\"\"\n",
    "    Load a fraction of the first events from all ROOT files in the given directory into a Pandas DataFrame.\n",
    "\n",
    "    :param directory: Directory containing the ROOT files.\n",
    "    :param tree_name: Name of the ROOT tree to extract data from.\n",
    "    :param fraction: Fraction of the data to load (default is 0.01 for 1%).\n",
    "    :return: A Pandas DataFrame containing the data from the ROOT files.\n",
    "    \"\"\"\n",
    "    dfs = []\n",
    "    root_files = [f for f in os.listdir(directory) if f.endswith(\".root\")]\n",
    "    \n",
    "    print(f\"Found {len(root_files)} ROOT files in the directory '{directory}'.\")\n",
    "    \n",
    "    for filename in tqdm(root_files, desc=\"Loading ROOT files\", unit=\"file\"):\n",
    "        filepath = os.path.join(directory, filename)\n",
    "        print(f\"\\nProcessing file: {filename}\")\n",
    "        \n",
    "        start_time = time.time()\n",
    "        with uproot.open(filepath) as file:\n",
    "            tree = file[tree_name]\n",
    "            num_entries = tree.num_entries\n",
    "            print(f\"  Number of entries in the tree: {num_entries}\")\n",
    "            \n",
    "            num_to_sample = int(num_entries * fraction)\n",
    "            print(f\"  Sampling the first {num_to_sample} entries.\")\n",
    "            \n",
    "            # Timing the data extraction\n",
    "            extract_start_time = time.time()\n",
    "            df = tree.arrays(library=\"pd\", entry_stop=num_to_sample)\n",
    "            extract_end_time = time.time()\n",
    "            print(f\"  Time taken to extract data: {extract_end_time - extract_start_time:.2f} seconds.\")\n",
    "            \n",
    "            dfs.append(df)\n",
    "        \n",
    "        end_time = time.time()\n",
    "        print(f\"  Time taken to process file: {end_time - start_time:.2f} seconds.\")\n",
    "    \n",
    "    print(\"\\nConcatenating all DataFrames...\")\n",
    "    concat_start_time = time.time()\n",
    "    combined_df = pd.concat(dfs, ignore_index=True)\n",
    "    concat_end_time = time.time()\n",
    "    print(f\"Time taken to concatenate all DataFrames: {concat_end_time - concat_start_time:.2f} seconds.\")\n",
    "    \n",
    "    return combined_df\n",
    "\n",
    "# Directories containing the ROOT files\n",
    "mc_directory = \"usb/GamGam/MC/\"\n",
    "data_directory = \"usb/GamGam/Data/\"\n",
    "\n",
    "# Load 1% of the data into separate DataFrames with progress bars\n",
    "print(\"Loading MC data...\")\n",
    "mc_df = load_root_files_to_df(mc_directory)\n",
    "print(\"Loading Data...\")\n",
    "data_df = load_root_files_to_df(data_directory)\n",
    "\n",
    "# Check the loaded data\n",
    "print(\"MC DataFrame head:\")\n",
    "print(mc_df.head())\n",
    "\n",
    "print(\"Data DataFrame head:\")\n",
    "print(data_df.head())\n"
   ]
  },
  {
   "cell_type": "code",
   "execution_count": 2,
   "metadata": {},
   "outputs": [
    {
     "name": "stdout",
     "output_type": "stream",
     "text": [
      "Adding 'isHiggs' column to MC DataFrame...\n",
      "Time taken to add 'isHiggs' column to MC DataFrame: 0.01 seconds\n",
      "Adding 'isHiggs' column to Data DataFrame...\n",
      "Time taken to add 'isHiggs' column to Data DataFrame: 0.00 seconds\n",
      "Concatenating MC and Data DataFrames...\n",
      "Total of 1333914 entries\n",
      "Time taken to concatenate DataFrames: 930.81 seconds\n",
      "Calculating the number of Higgs and non-Higgs events...\n",
      "Number of Higgs events: 494666\n",
      "Number of non-Higgs events: 839248\n",
      "Time taken to calculate event counts: 0.00 seconds\n",
      "Shuffling the balanced DataFrame...\n",
      "Time taken to shuffle the balanced DataFrame: 2.76 seconds\n",
      "Balanced DataFrame head:\n",
      "   runNumber  eventNumber  channelNumber   mcWeight  scaleFactor_PILEUP  \\\n",
      "0     284500      4246580         343981  28.485731            0.696077   \n",
      "1     301932    242211722         301932   0.000000            0.000000   \n",
      "2     284500        56490         345041   3.749917            1.214122   \n",
      "3     301932   -163493589         301932   0.000000            0.000000   \n",
      "4     284500      3977190         343981  28.485731            0.750880   \n",
      "\n",
      "   scaleFactor_ELE  scaleFactor_MUON  scaleFactor_PHOTON  scaleFactor_TAU  \\\n",
      "0              1.0               1.0            0.995786              1.0   \n",
      "1              0.0               0.0            0.000000              0.0   \n",
      "2              1.0               1.0            1.005498              1.0   \n",
      "3              0.0               0.0            0.000000              0.0   \n",
      "4              1.0               1.0            1.002282              1.0   \n",
      "\n",
      "   scaleFactor_BTAG  ...  largeRjet_eta  largeRjet_phi  largeRjet_E  \\\n",
      "0          0.998468  ...             []             []           []   \n",
      "1          0.000000  ...             []             []           []   \n",
      "2          0.998150  ...             []             []           []   \n",
      "3          0.000000  ...             []             []           []   \n",
      "4          1.012842  ...             []             []           []   \n",
      "\n",
      "   largeRjet_m  largeRjet_truthMatched  largeRjet_D2  largeRjet_tau32  \\\n",
      "0           []                      []            []               []   \n",
      "1           []                      []            []               []   \n",
      "2           []                      []            []               []   \n",
      "3           []                      []            []               []   \n",
      "4           []                      []            []               []   \n",
      "\n",
      "   largeRjet_pt_syst  tau_charge  isHiggs  \n",
      "0                 []          []        1  \n",
      "1                 []          []        0  \n",
      "2                 []          []        1  \n",
      "3                 []          []        0  \n",
      "4                 []          []        1  \n",
      "\n",
      "[5 rows x 82 columns]\n",
      "Class distribution in the balanced DataFrame:\n",
      "isHiggs\n",
      "0    839248\n",
      "1    494666\n",
      "Name: count, dtype: int64\n",
      "\n",
      "Total number of events in the balanced DataFrame: 1333914\n"
     ]
    }
   ],
   "source": [
    "import pandas as pd\n",
    "import time\n",
    "\n",
    "# Assuming mc_df and data_df have already been loaded as per the previous code\n",
    "\n",
    "# Add a new column 'isHiggs' to the MC DataFrame and set it to 1\n",
    "print(\"Adding 'isHiggs' column to MC DataFrame...\")\n",
    "start_time = time.time()\n",
    "mc_df['isHiggs'] = 1\n",
    "end_time = time.time()\n",
    "print(f\"Time taken to add 'isHiggs' column to MC DataFrame: {end_time - start_time:.2f} seconds\")\n",
    "\n",
    "# Add a new column 'isHiggs' to the Data DataFrame and set it to 0\n",
    "print(\"Adding 'isHiggs' column to Data DataFrame...\")\n",
    "start_time = time.time()\n",
    "data_df['isHiggs'] = 0\n",
    "end_time = time.time()\n",
    "print(f\"Time taken to add 'isHiggs' column to Data DataFrame: {end_time - start_time:.2f} seconds\")\n",
    "\n",
    "# Concatenate the two DataFrames\n",
    "print(\"Concatenating MC and Data DataFrames...\")\n",
    "print(f\"Total of {len(mc_df)+len(data_df)} entries\")\n",
    "start_time = time.time()\n",
    "combined_df = pd.concat([mc_df, data_df], ignore_index=True)\n",
    "end_time = time.time()\n",
    "print(f\"Time taken to concatenate DataFrames: {end_time - start_time:.2f} seconds\")\n",
    "\n",
    "# Determine the number of Higgs and non-Higgs events\n",
    "print(\"Calculating the number of Higgs and non-Higgs events...\")\n",
    "start_time = time.time()\n",
    "num_higgs = combined_df['isHiggs'].sum()  # Number of Higgs events\n",
    "num_non_higgs = len(combined_df) - num_higgs  # Number of non-Higgs events\n",
    "end_time = time.time()\n",
    "print(f\"Number of Higgs events: {num_higgs}\")\n",
    "print(f\"Number of non-Higgs events: {num_non_higgs}\")\n",
    "print(f\"Time taken to calculate event counts: {end_time - start_time:.2f} seconds\")\n",
    "if False:\n",
    "    # Ensure 50% ratio by downsampling the majority class\n",
    "    print(\"Balancing the DataFrame to ensure a 50% Higgs to non-Higgs ratio...\")\n",
    "    start_time = time.time()\n",
    "    if num_higgs > num_non_higgs:\n",
    "        # Downsample Higgs events\n",
    "        print(f\"  Downsampling Higgs events from {num_higgs} to {num_non_higgs}...\")\n",
    "        higgs_df = combined_df[combined_df['isHiggs'] == 1].sample(num_non_higgs, random_state=42)\n",
    "        non_higgs_df = combined_df[combined_df['isHiggs'] == 0]\n",
    "    else:\n",
    "        # Downsample non-Higgs events\n",
    "        print(f\"  Downsampling non-Higgs events from {num_non_higgs} to {num_higgs}...\")\n",
    "        non_higgs_df = combined_df[combined_df['isHiggs'] == 0].sample(num_higgs, random_state=42)\n",
    "        higgs_df = combined_df[combined_df['isHiggs'] == 1]\n",
    "    end_time = time.time()\n",
    "    print(f\"Time taken to balance the DataFrame: {end_time - start_time:.2f} seconds\")\n",
    "\n",
    "    # Concatenate the downsampled DataFrames\n",
    "    print(\"Concatenating the balanced DataFrames...\")\n",
    "    start_time = time.time()\n",
    "    balanced_df = pd.concat([higgs_df, non_higgs_df], ignore_index=True)\n",
    "    end_time = time.time()\n",
    "    print(f\"Time taken to concatenate the balanced DataFrames: {end_time - start_time:.2f} seconds\")\n",
    "else:\n",
    "    balanced_df = combined_df\n",
    "# Shuffle the DataFrame to mix the classes\n",
    "print(\"Shuffling the balanced DataFrame...\")\n",
    "start_time = time.time()\n",
    "balanced_df = balanced_df.sample(frac=1, random_state=42).reset_index(drop=True)\n",
    "end_time = time.time()\n",
    "print(f\"Time taken to shuffle the balanced DataFrame: {end_time - start_time:.2f} seconds\")\n",
    "\n",
    "# Check the resulting DataFrame\n",
    "print(\"Balanced DataFrame head:\")\n",
    "print(balanced_df.head())\n",
    "\n",
    "# Check the class distribution to confirm 50% ratio\n",
    "print(\"Class distribution in the balanced DataFrame:\")\n",
    "print(balanced_df['isHiggs'].value_counts())\n",
    "\n",
    "# Show the total number of events after balancing\n",
    "total_events = len(balanced_df)\n",
    "print(f\"\\nTotal number of events in the balanced DataFrame: {total_events}\")\n"
   ]
  },
  {
   "cell_type": "code",
   "execution_count": 3,
   "metadata": {},
   "outputs": [
    {
     "name": "stdout",
     "output_type": "stream",
     "text": [
      "Expanding awkward array columns in the DataFrame...\n",
      "Found 55 columns with awkward array values.\n"
     ]
    },
    {
     "name": "stderr",
     "output_type": "stream",
     "text": [
      "Expanding awkward array columns:   0%|          | 0/55 [00:00<?, ?it/s]"
     ]
    },
    {
     "name": "stdout",
     "output_type": "stream",
     "text": [
      "\n",
      "Processing column: lep_truthMatched\n",
      "  Maximum length of lists in lep_truthMatched: 4\n"
     ]
    },
    {
     "name": "stderr",
     "output_type": "stream",
     "text": [
      "Expanding awkward array columns:   2%|▏         | 1/55 [00:21<19:09, 21.30s/it]"
     ]
    },
    {
     "name": "stdout",
     "output_type": "stream",
     "text": [
      "  Time taken to expand lep_truthMatched: 21.30 seconds.\n",
      "\n",
      "Processing column: lep_trigMatched\n",
      "  Maximum length of lists in lep_trigMatched: 4\n"
     ]
    },
    {
     "name": "stderr",
     "output_type": "stream",
     "text": [
      "Expanding awkward array columns:   4%|▎         | 2/55 [00:42<18:56, 21.44s/it]"
     ]
    },
    {
     "name": "stdout",
     "output_type": "stream",
     "text": [
      "  Time taken to expand lep_trigMatched: 21.54 seconds.\n",
      "\n",
      "Processing column: lep_pt\n",
      "  Maximum length of lists in lep_pt: 4\n"
     ]
    },
    {
     "name": "stderr",
     "output_type": "stream",
     "text": [
      "Expanding awkward array columns:   5%|▌         | 3/55 [01:02<18:04, 20.86s/it]"
     ]
    },
    {
     "name": "stdout",
     "output_type": "stream",
     "text": [
      "  Time taken to expand lep_pt: 20.16 seconds.\n",
      "\n",
      "Processing column: lep_eta\n",
      "  Maximum length of lists in lep_eta: 4\n"
     ]
    },
    {
     "name": "stderr",
     "output_type": "stream",
     "text": [
      "Expanding awkward array columns:   7%|▋         | 4/55 [01:24<18:03, 21.24s/it]"
     ]
    },
    {
     "name": "stdout",
     "output_type": "stream",
     "text": [
      "  Time taken to expand lep_eta: 21.83 seconds.\n",
      "\n",
      "Processing column: lep_phi\n",
      "  Maximum length of lists in lep_phi: 4\n"
     ]
    },
    {
     "name": "stderr",
     "output_type": "stream",
     "text": [
      "Expanding awkward array columns:   9%|▉         | 5/55 [01:45<17:30, 21.01s/it]"
     ]
    },
    {
     "name": "stdout",
     "output_type": "stream",
     "text": [
      "  Time taken to expand lep_phi: 20.60 seconds.\n",
      "\n",
      "Processing column: lep_E\n",
      "  Maximum length of lists in lep_E: 4\n"
     ]
    },
    {
     "name": "stderr",
     "output_type": "stream",
     "text": [
      "Expanding awkward array columns:  11%|█         | 6/55 [02:06<17:13, 21.09s/it]"
     ]
    },
    {
     "name": "stdout",
     "output_type": "stream",
     "text": [
      "  Time taken to expand lep_E: 21.25 seconds.\n",
      "\n",
      "Processing column: lep_z0\n",
      "  Maximum length of lists in lep_z0: 4\n"
     ]
    },
    {
     "name": "stderr",
     "output_type": "stream",
     "text": [
      "Expanding awkward array columns:  13%|█▎        | 7/55 [02:27<16:42, 20.89s/it]"
     ]
    },
    {
     "name": "stdout",
     "output_type": "stream",
     "text": [
      "  Time taken to expand lep_z0: 20.48 seconds.\n",
      "\n",
      "Processing column: lep_charge\n",
      "  Maximum length of lists in lep_charge: 4\n"
     ]
    },
    {
     "name": "stderr",
     "output_type": "stream",
     "text": [
      "Expanding awkward array columns:  15%|█▍        | 8/55 [02:48<16:23, 20.92s/it]"
     ]
    },
    {
     "name": "stdout",
     "output_type": "stream",
     "text": [
      "  Time taken to expand lep_charge: 20.98 seconds.\n",
      "\n",
      "Processing column: lep_type\n",
      "  Maximum length of lists in lep_type: 4\n"
     ]
    },
    {
     "name": "stderr",
     "output_type": "stream",
     "text": [
      "Expanding awkward array columns:  16%|█▋        | 9/55 [03:08<15:55, 20.76s/it]"
     ]
    },
    {
     "name": "stdout",
     "output_type": "stream",
     "text": [
      "  Time taken to expand lep_type: 20.42 seconds.\n",
      "\n",
      "Processing column: lep_isTightID\n",
      "  Maximum length of lists in lep_isTightID: 4\n"
     ]
    },
    {
     "name": "stderr",
     "output_type": "stream",
     "text": [
      "Expanding awkward array columns:  18%|█▊        | 10/55 [03:30<15:44, 20.99s/it]"
     ]
    },
    {
     "name": "stdout",
     "output_type": "stream",
     "text": [
      "  Time taken to expand lep_isTightID: 21.51 seconds.\n",
      "\n",
      "Processing column: lep_ptcone30\n",
      "  Maximum length of lists in lep_ptcone30: 4\n"
     ]
    },
    {
     "name": "stderr",
     "output_type": "stream",
     "text": [
      "Expanding awkward array columns:  20%|██        | 11/55 [03:50<15:18, 20.88s/it]"
     ]
    },
    {
     "name": "stdout",
     "output_type": "stream",
     "text": [
      "  Time taken to expand lep_ptcone30: 20.62 seconds.\n",
      "\n",
      "Processing column: lep_etcone20\n",
      "  Maximum length of lists in lep_etcone20: 4\n"
     ]
    },
    {
     "name": "stderr",
     "output_type": "stream",
     "text": [
      "Expanding awkward array columns:  22%|██▏       | 12/55 [04:12<15:11, 21.19s/it]"
     ]
    },
    {
     "name": "stdout",
     "output_type": "stream",
     "text": [
      "  Time taken to expand lep_etcone20: 21.90 seconds.\n",
      "\n",
      "Processing column: lep_trackd0pvunbiased\n",
      "  Maximum length of lists in lep_trackd0pvunbiased: 4\n"
     ]
    },
    {
     "name": "stderr",
     "output_type": "stream",
     "text": [
      "Expanding awkward array columns:  24%|██▎       | 13/55 [04:34<14:59, 21.43s/it]"
     ]
    },
    {
     "name": "stdout",
     "output_type": "stream",
     "text": [
      "  Time taken to expand lep_trackd0pvunbiased: 21.97 seconds.\n",
      "\n",
      "Processing column: lep_tracksigd0pvunbiased\n",
      "  Maximum length of lists in lep_tracksigd0pvunbiased: 4\n"
     ]
    },
    {
     "name": "stderr",
     "output_type": "stream",
     "text": [
      "Expanding awkward array columns:  25%|██▌       | 14/55 [04:56<14:44, 21.57s/it]"
     ]
    },
    {
     "name": "stdout",
     "output_type": "stream",
     "text": [
      "  Time taken to expand lep_tracksigd0pvunbiased: 21.92 seconds.\n",
      "\n",
      "Processing column: jet_pt\n",
      "  Maximum length of lists in jet_pt: 16\n"
     ]
    },
    {
     "name": "stderr",
     "output_type": "stream",
     "text": [
      "Expanding awkward array columns:  27%|██▋       | 15/55 [05:19<14:45, 22.14s/it]"
     ]
    },
    {
     "name": "stdout",
     "output_type": "stream",
     "text": [
      "  Time taken to expand jet_pt: 23.44 seconds.\n",
      "\n",
      "Processing column: jet_eta\n",
      "  Maximum length of lists in jet_eta: 16\n"
     ]
    },
    {
     "name": "stderr",
     "output_type": "stream",
     "text": [
      "Expanding awkward array columns:  29%|██▉       | 16/55 [05:44<14:56, 22.98s/it]"
     ]
    },
    {
     "name": "stdout",
     "output_type": "stream",
     "text": [
      "  Time taken to expand jet_eta: 24.95 seconds.\n",
      "\n",
      "Processing column: jet_phi\n",
      "  Maximum length of lists in jet_phi: 16\n"
     ]
    },
    {
     "name": "stderr",
     "output_type": "stream",
     "text": [
      "C:\\Users\\phgil\\AppData\\Local\\Temp\\ipykernel_2308\\3488968663.py:39: PerformanceWarning: DataFrame is highly fragmented.  This is usually the result of calling `frame.insert` many times, which has poor performance.  Consider joining all columns at once using pd.concat(axis=1) instead. To get a de-fragmented frame, use `newframe = frame.copy()`\n",
      "  df[new_col_name] = data\n",
      "C:\\Users\\phgil\\AppData\\Local\\Temp\\ipykernel_2308\\3488968663.py:39: PerformanceWarning: DataFrame is highly fragmented.  This is usually the result of calling `frame.insert` many times, which has poor performance.  Consider joining all columns at once using pd.concat(axis=1) instead. To get a de-fragmented frame, use `newframe = frame.copy()`\n",
      "  df[new_col_name] = data\n",
      "C:\\Users\\phgil\\AppData\\Local\\Temp\\ipykernel_2308\\3488968663.py:39: PerformanceWarning: DataFrame is highly fragmented.  This is usually the result of calling `frame.insert` many times, which has poor performance.  Consider joining all columns at once using pd.concat(axis=1) instead. To get a de-fragmented frame, use `newframe = frame.copy()`\n",
      "  df[new_col_name] = data\n",
      "C:\\Users\\phgil\\AppData\\Local\\Temp\\ipykernel_2308\\3488968663.py:39: PerformanceWarning: DataFrame is highly fragmented.  This is usually the result of calling `frame.insert` many times, which has poor performance.  Consider joining all columns at once using pd.concat(axis=1) instead. To get a de-fragmented frame, use `newframe = frame.copy()`\n",
      "  df[new_col_name] = data\n",
      "C:\\Users\\phgil\\AppData\\Local\\Temp\\ipykernel_2308\\3488968663.py:39: PerformanceWarning: DataFrame is highly fragmented.  This is usually the result of calling `frame.insert` many times, which has poor performance.  Consider joining all columns at once using pd.concat(axis=1) instead. To get a de-fragmented frame, use `newframe = frame.copy()`\n",
      "  df[new_col_name] = data\n",
      "C:\\Users\\phgil\\AppData\\Local\\Temp\\ipykernel_2308\\3488968663.py:39: PerformanceWarning: DataFrame is highly fragmented.  This is usually the result of calling `frame.insert` many times, which has poor performance.  Consider joining all columns at once using pd.concat(axis=1) instead. To get a de-fragmented frame, use `newframe = frame.copy()`\n",
      "  df[new_col_name] = data\n",
      "C:\\Users\\phgil\\AppData\\Local\\Temp\\ipykernel_2308\\3488968663.py:39: PerformanceWarning: DataFrame is highly fragmented.  This is usually the result of calling `frame.insert` many times, which has poor performance.  Consider joining all columns at once using pd.concat(axis=1) instead. To get a de-fragmented frame, use `newframe = frame.copy()`\n",
      "  df[new_col_name] = data\n",
      "C:\\Users\\phgil\\AppData\\Local\\Temp\\ipykernel_2308\\3488968663.py:39: PerformanceWarning: DataFrame is highly fragmented.  This is usually the result of calling `frame.insert` many times, which has poor performance.  Consider joining all columns at once using pd.concat(axis=1) instead. To get a de-fragmented frame, use `newframe = frame.copy()`\n",
      "  df[new_col_name] = data\n",
      "C:\\Users\\phgil\\AppData\\Local\\Temp\\ipykernel_2308\\3488968663.py:39: PerformanceWarning: DataFrame is highly fragmented.  This is usually the result of calling `frame.insert` many times, which has poor performance.  Consider joining all columns at once using pd.concat(axis=1) instead. To get a de-fragmented frame, use `newframe = frame.copy()`\n",
      "  df[new_col_name] = data\n",
      "Expanding awkward array columns:  31%|███       | 17/55 [06:09<14:47, 23.37s/it]"
     ]
    },
    {
     "name": "stdout",
     "output_type": "stream",
     "text": [
      "  Time taken to expand jet_phi: 24.26 seconds.\n",
      "\n",
      "Processing column: jet_E\n",
      "  Maximum length of lists in jet_E: 16\n"
     ]
    },
    {
     "name": "stderr",
     "output_type": "stream",
     "text": [
      "C:\\Users\\phgil\\AppData\\Local\\Temp\\ipykernel_2308\\3488968663.py:39: PerformanceWarning: DataFrame is highly fragmented.  This is usually the result of calling `frame.insert` many times, which has poor performance.  Consider joining all columns at once using pd.concat(axis=1) instead. To get a de-fragmented frame, use `newframe = frame.copy()`\n",
      "  df[new_col_name] = data\n",
      "C:\\Users\\phgil\\AppData\\Local\\Temp\\ipykernel_2308\\3488968663.py:39: PerformanceWarning: DataFrame is highly fragmented.  This is usually the result of calling `frame.insert` many times, which has poor performance.  Consider joining all columns at once using pd.concat(axis=1) instead. To get a de-fragmented frame, use `newframe = frame.copy()`\n",
      "  df[new_col_name] = data\n",
      "C:\\Users\\phgil\\AppData\\Local\\Temp\\ipykernel_2308\\3488968663.py:39: PerformanceWarning: DataFrame is highly fragmented.  This is usually the result of calling `frame.insert` many times, which has poor performance.  Consider joining all columns at once using pd.concat(axis=1) instead. To get a de-fragmented frame, use `newframe = frame.copy()`\n",
      "  df[new_col_name] = data\n",
      "C:\\Users\\phgil\\AppData\\Local\\Temp\\ipykernel_2308\\3488968663.py:39: PerformanceWarning: DataFrame is highly fragmented.  This is usually the result of calling `frame.insert` many times, which has poor performance.  Consider joining all columns at once using pd.concat(axis=1) instead. To get a de-fragmented frame, use `newframe = frame.copy()`\n",
      "  df[new_col_name] = data\n",
      "C:\\Users\\phgil\\AppData\\Local\\Temp\\ipykernel_2308\\3488968663.py:39: PerformanceWarning: DataFrame is highly fragmented.  This is usually the result of calling `frame.insert` many times, which has poor performance.  Consider joining all columns at once using pd.concat(axis=1) instead. To get a de-fragmented frame, use `newframe = frame.copy()`\n",
      "  df[new_col_name] = data\n",
      "C:\\Users\\phgil\\AppData\\Local\\Temp\\ipykernel_2308\\3488968663.py:39: PerformanceWarning: DataFrame is highly fragmented.  This is usually the result of calling `frame.insert` many times, which has poor performance.  Consider joining all columns at once using pd.concat(axis=1) instead. To get a de-fragmented frame, use `newframe = frame.copy()`\n",
      "  df[new_col_name] = data\n",
      "C:\\Users\\phgil\\AppData\\Local\\Temp\\ipykernel_2308\\3488968663.py:39: PerformanceWarning: DataFrame is highly fragmented.  This is usually the result of calling `frame.insert` many times, which has poor performance.  Consider joining all columns at once using pd.concat(axis=1) instead. To get a de-fragmented frame, use `newframe = frame.copy()`\n",
      "  df[new_col_name] = data\n",
      "C:\\Users\\phgil\\AppData\\Local\\Temp\\ipykernel_2308\\3488968663.py:39: PerformanceWarning: DataFrame is highly fragmented.  This is usually the result of calling `frame.insert` many times, which has poor performance.  Consider joining all columns at once using pd.concat(axis=1) instead. To get a de-fragmented frame, use `newframe = frame.copy()`\n",
      "  df[new_col_name] = data\n",
      "C:\\Users\\phgil\\AppData\\Local\\Temp\\ipykernel_2308\\3488968663.py:39: PerformanceWarning: DataFrame is highly fragmented.  This is usually the result of calling `frame.insert` many times, which has poor performance.  Consider joining all columns at once using pd.concat(axis=1) instead. To get a de-fragmented frame, use `newframe = frame.copy()`\n",
      "  df[new_col_name] = data\n",
      "C:\\Users\\phgil\\AppData\\Local\\Temp\\ipykernel_2308\\3488968663.py:39: PerformanceWarning: DataFrame is highly fragmented.  This is usually the result of calling `frame.insert` many times, which has poor performance.  Consider joining all columns at once using pd.concat(axis=1) instead. To get a de-fragmented frame, use `newframe = frame.copy()`\n",
      "  df[new_col_name] = data\n",
      "C:\\Users\\phgil\\AppData\\Local\\Temp\\ipykernel_2308\\3488968663.py:39: PerformanceWarning: DataFrame is highly fragmented.  This is usually the result of calling `frame.insert` many times, which has poor performance.  Consider joining all columns at once using pd.concat(axis=1) instead. To get a de-fragmented frame, use `newframe = frame.copy()`\n",
      "  df[new_col_name] = data\n",
      "C:\\Users\\phgil\\AppData\\Local\\Temp\\ipykernel_2308\\3488968663.py:39: PerformanceWarning: DataFrame is highly fragmented.  This is usually the result of calling `frame.insert` many times, which has poor performance.  Consider joining all columns at once using pd.concat(axis=1) instead. To get a de-fragmented frame, use `newframe = frame.copy()`\n",
      "  df[new_col_name] = data\n",
      "C:\\Users\\phgil\\AppData\\Local\\Temp\\ipykernel_2308\\3488968663.py:39: PerformanceWarning: DataFrame is highly fragmented.  This is usually the result of calling `frame.insert` many times, which has poor performance.  Consider joining all columns at once using pd.concat(axis=1) instead. To get a de-fragmented frame, use `newframe = frame.copy()`\n",
      "  df[new_col_name] = data\n",
      "C:\\Users\\phgil\\AppData\\Local\\Temp\\ipykernel_2308\\3488968663.py:39: PerformanceWarning: DataFrame is highly fragmented.  This is usually the result of calling `frame.insert` many times, which has poor performance.  Consider joining all columns at once using pd.concat(axis=1) instead. To get a de-fragmented frame, use `newframe = frame.copy()`\n",
      "  df[new_col_name] = data\n",
      "C:\\Users\\phgil\\AppData\\Local\\Temp\\ipykernel_2308\\3488968663.py:39: PerformanceWarning: DataFrame is highly fragmented.  This is usually the result of calling `frame.insert` many times, which has poor performance.  Consider joining all columns at once using pd.concat(axis=1) instead. To get a de-fragmented frame, use `newframe = frame.copy()`\n",
      "  df[new_col_name] = data\n",
      "C:\\Users\\phgil\\AppData\\Local\\Temp\\ipykernel_2308\\3488968663.py:39: PerformanceWarning: DataFrame is highly fragmented.  This is usually the result of calling `frame.insert` many times, which has poor performance.  Consider joining all columns at once using pd.concat(axis=1) instead. To get a de-fragmented frame, use `newframe = frame.copy()`\n",
      "  df[new_col_name] = data\n",
      "Expanding awkward array columns:  33%|███▎      | 18/55 [06:33<14:36, 23.68s/it]"
     ]
    },
    {
     "name": "stdout",
     "output_type": "stream",
     "text": [
      "  Time taken to expand jet_E: 24.41 seconds.\n",
      "\n",
      "Processing column: jet_jvt\n",
      "  Maximum length of lists in jet_jvt: 16\n"
     ]
    },
    {
     "name": "stderr",
     "output_type": "stream",
     "text": [
      "C:\\Users\\phgil\\AppData\\Local\\Temp\\ipykernel_2308\\3488968663.py:39: PerformanceWarning: DataFrame is highly fragmented.  This is usually the result of calling `frame.insert` many times, which has poor performance.  Consider joining all columns at once using pd.concat(axis=1) instead. To get a de-fragmented frame, use `newframe = frame.copy()`\n",
      "  df[new_col_name] = data\n",
      "C:\\Users\\phgil\\AppData\\Local\\Temp\\ipykernel_2308\\3488968663.py:39: PerformanceWarning: DataFrame is highly fragmented.  This is usually the result of calling `frame.insert` many times, which has poor performance.  Consider joining all columns at once using pd.concat(axis=1) instead. To get a de-fragmented frame, use `newframe = frame.copy()`\n",
      "  df[new_col_name] = data\n",
      "C:\\Users\\phgil\\AppData\\Local\\Temp\\ipykernel_2308\\3488968663.py:39: PerformanceWarning: DataFrame is highly fragmented.  This is usually the result of calling `frame.insert` many times, which has poor performance.  Consider joining all columns at once using pd.concat(axis=1) instead. To get a de-fragmented frame, use `newframe = frame.copy()`\n",
      "  df[new_col_name] = data\n",
      "C:\\Users\\phgil\\AppData\\Local\\Temp\\ipykernel_2308\\3488968663.py:39: PerformanceWarning: DataFrame is highly fragmented.  This is usually the result of calling `frame.insert` many times, which has poor performance.  Consider joining all columns at once using pd.concat(axis=1) instead. To get a de-fragmented frame, use `newframe = frame.copy()`\n",
      "  df[new_col_name] = data\n",
      "C:\\Users\\phgil\\AppData\\Local\\Temp\\ipykernel_2308\\3488968663.py:39: PerformanceWarning: DataFrame is highly fragmented.  This is usually the result of calling `frame.insert` many times, which has poor performance.  Consider joining all columns at once using pd.concat(axis=1) instead. To get a de-fragmented frame, use `newframe = frame.copy()`\n",
      "  df[new_col_name] = data\n",
      "C:\\Users\\phgil\\AppData\\Local\\Temp\\ipykernel_2308\\3488968663.py:39: PerformanceWarning: DataFrame is highly fragmented.  This is usually the result of calling `frame.insert` many times, which has poor performance.  Consider joining all columns at once using pd.concat(axis=1) instead. To get a de-fragmented frame, use `newframe = frame.copy()`\n",
      "  df[new_col_name] = data\n",
      "C:\\Users\\phgil\\AppData\\Local\\Temp\\ipykernel_2308\\3488968663.py:39: PerformanceWarning: DataFrame is highly fragmented.  This is usually the result of calling `frame.insert` many times, which has poor performance.  Consider joining all columns at once using pd.concat(axis=1) instead. To get a de-fragmented frame, use `newframe = frame.copy()`\n",
      "  df[new_col_name] = data\n",
      "C:\\Users\\phgil\\AppData\\Local\\Temp\\ipykernel_2308\\3488968663.py:39: PerformanceWarning: DataFrame is highly fragmented.  This is usually the result of calling `frame.insert` many times, which has poor performance.  Consider joining all columns at once using pd.concat(axis=1) instead. To get a de-fragmented frame, use `newframe = frame.copy()`\n",
      "  df[new_col_name] = data\n",
      "C:\\Users\\phgil\\AppData\\Local\\Temp\\ipykernel_2308\\3488968663.py:39: PerformanceWarning: DataFrame is highly fragmented.  This is usually the result of calling `frame.insert` many times, which has poor performance.  Consider joining all columns at once using pd.concat(axis=1) instead. To get a de-fragmented frame, use `newframe = frame.copy()`\n",
      "  df[new_col_name] = data\n",
      "C:\\Users\\phgil\\AppData\\Local\\Temp\\ipykernel_2308\\3488968663.py:39: PerformanceWarning: DataFrame is highly fragmented.  This is usually the result of calling `frame.insert` many times, which has poor performance.  Consider joining all columns at once using pd.concat(axis=1) instead. To get a de-fragmented frame, use `newframe = frame.copy()`\n",
      "  df[new_col_name] = data\n",
      "C:\\Users\\phgil\\AppData\\Local\\Temp\\ipykernel_2308\\3488968663.py:39: PerformanceWarning: DataFrame is highly fragmented.  This is usually the result of calling `frame.insert` many times, which has poor performance.  Consider joining all columns at once using pd.concat(axis=1) instead. To get a de-fragmented frame, use `newframe = frame.copy()`\n",
      "  df[new_col_name] = data\n",
      "C:\\Users\\phgil\\AppData\\Local\\Temp\\ipykernel_2308\\3488968663.py:39: PerformanceWarning: DataFrame is highly fragmented.  This is usually the result of calling `frame.insert` many times, which has poor performance.  Consider joining all columns at once using pd.concat(axis=1) instead. To get a de-fragmented frame, use `newframe = frame.copy()`\n",
      "  df[new_col_name] = data\n",
      "C:\\Users\\phgil\\AppData\\Local\\Temp\\ipykernel_2308\\3488968663.py:39: PerformanceWarning: DataFrame is highly fragmented.  This is usually the result of calling `frame.insert` many times, which has poor performance.  Consider joining all columns at once using pd.concat(axis=1) instead. To get a de-fragmented frame, use `newframe = frame.copy()`\n",
      "  df[new_col_name] = data\n",
      "C:\\Users\\phgil\\AppData\\Local\\Temp\\ipykernel_2308\\3488968663.py:39: PerformanceWarning: DataFrame is highly fragmented.  This is usually the result of calling `frame.insert` many times, which has poor performance.  Consider joining all columns at once using pd.concat(axis=1) instead. To get a de-fragmented frame, use `newframe = frame.copy()`\n",
      "  df[new_col_name] = data\n",
      "C:\\Users\\phgil\\AppData\\Local\\Temp\\ipykernel_2308\\3488968663.py:39: PerformanceWarning: DataFrame is highly fragmented.  This is usually the result of calling `frame.insert` many times, which has poor performance.  Consider joining all columns at once using pd.concat(axis=1) instead. To get a de-fragmented frame, use `newframe = frame.copy()`\n",
      "  df[new_col_name] = data\n",
      "C:\\Users\\phgil\\AppData\\Local\\Temp\\ipykernel_2308\\3488968663.py:39: PerformanceWarning: DataFrame is highly fragmented.  This is usually the result of calling `frame.insert` many times, which has poor performance.  Consider joining all columns at once using pd.concat(axis=1) instead. To get a de-fragmented frame, use `newframe = frame.copy()`\n",
      "  df[new_col_name] = data\n",
      "Expanding awkward array columns:  35%|███▍      | 19/55 [06:58<14:30, 24.18s/it]"
     ]
    },
    {
     "name": "stdout",
     "output_type": "stream",
     "text": [
      "  Time taken to expand jet_jvt: 25.34 seconds.\n",
      "\n",
      "Processing column: jet_trueflav\n",
      "  Maximum length of lists in jet_trueflav: 16\n"
     ]
    },
    {
     "name": "stderr",
     "output_type": "stream",
     "text": [
      "C:\\Users\\phgil\\AppData\\Local\\Temp\\ipykernel_2308\\3488968663.py:39: PerformanceWarning: DataFrame is highly fragmented.  This is usually the result of calling `frame.insert` many times, which has poor performance.  Consider joining all columns at once using pd.concat(axis=1) instead. To get a de-fragmented frame, use `newframe = frame.copy()`\n",
      "  df[new_col_name] = data\n",
      "C:\\Users\\phgil\\AppData\\Local\\Temp\\ipykernel_2308\\3488968663.py:39: PerformanceWarning: DataFrame is highly fragmented.  This is usually the result of calling `frame.insert` many times, which has poor performance.  Consider joining all columns at once using pd.concat(axis=1) instead. To get a de-fragmented frame, use `newframe = frame.copy()`\n",
      "  df[new_col_name] = data\n",
      "C:\\Users\\phgil\\AppData\\Local\\Temp\\ipykernel_2308\\3488968663.py:39: PerformanceWarning: DataFrame is highly fragmented.  This is usually the result of calling `frame.insert` many times, which has poor performance.  Consider joining all columns at once using pd.concat(axis=1) instead. To get a de-fragmented frame, use `newframe = frame.copy()`\n",
      "  df[new_col_name] = data\n",
      "C:\\Users\\phgil\\AppData\\Local\\Temp\\ipykernel_2308\\3488968663.py:39: PerformanceWarning: DataFrame is highly fragmented.  This is usually the result of calling `frame.insert` many times, which has poor performance.  Consider joining all columns at once using pd.concat(axis=1) instead. To get a de-fragmented frame, use `newframe = frame.copy()`\n",
      "  df[new_col_name] = data\n",
      "C:\\Users\\phgil\\AppData\\Local\\Temp\\ipykernel_2308\\3488968663.py:39: PerformanceWarning: DataFrame is highly fragmented.  This is usually the result of calling `frame.insert` many times, which has poor performance.  Consider joining all columns at once using pd.concat(axis=1) instead. To get a de-fragmented frame, use `newframe = frame.copy()`\n",
      "  df[new_col_name] = data\n",
      "C:\\Users\\phgil\\AppData\\Local\\Temp\\ipykernel_2308\\3488968663.py:39: PerformanceWarning: DataFrame is highly fragmented.  This is usually the result of calling `frame.insert` many times, which has poor performance.  Consider joining all columns at once using pd.concat(axis=1) instead. To get a de-fragmented frame, use `newframe = frame.copy()`\n",
      "  df[new_col_name] = data\n",
      "C:\\Users\\phgil\\AppData\\Local\\Temp\\ipykernel_2308\\3488968663.py:39: PerformanceWarning: DataFrame is highly fragmented.  This is usually the result of calling `frame.insert` many times, which has poor performance.  Consider joining all columns at once using pd.concat(axis=1) instead. To get a de-fragmented frame, use `newframe = frame.copy()`\n",
      "  df[new_col_name] = data\n",
      "C:\\Users\\phgil\\AppData\\Local\\Temp\\ipykernel_2308\\3488968663.py:39: PerformanceWarning: DataFrame is highly fragmented.  This is usually the result of calling `frame.insert` many times, which has poor performance.  Consider joining all columns at once using pd.concat(axis=1) instead. To get a de-fragmented frame, use `newframe = frame.copy()`\n",
      "  df[new_col_name] = data\n",
      "C:\\Users\\phgil\\AppData\\Local\\Temp\\ipykernel_2308\\3488968663.py:39: PerformanceWarning: DataFrame is highly fragmented.  This is usually the result of calling `frame.insert` many times, which has poor performance.  Consider joining all columns at once using pd.concat(axis=1) instead. To get a de-fragmented frame, use `newframe = frame.copy()`\n",
      "  df[new_col_name] = data\n",
      "C:\\Users\\phgil\\AppData\\Local\\Temp\\ipykernel_2308\\3488968663.py:39: PerformanceWarning: DataFrame is highly fragmented.  This is usually the result of calling `frame.insert` many times, which has poor performance.  Consider joining all columns at once using pd.concat(axis=1) instead. To get a de-fragmented frame, use `newframe = frame.copy()`\n",
      "  df[new_col_name] = data\n",
      "C:\\Users\\phgil\\AppData\\Local\\Temp\\ipykernel_2308\\3488968663.py:39: PerformanceWarning: DataFrame is highly fragmented.  This is usually the result of calling `frame.insert` many times, which has poor performance.  Consider joining all columns at once using pd.concat(axis=1) instead. To get a de-fragmented frame, use `newframe = frame.copy()`\n",
      "  df[new_col_name] = data\n",
      "C:\\Users\\phgil\\AppData\\Local\\Temp\\ipykernel_2308\\3488968663.py:39: PerformanceWarning: DataFrame is highly fragmented.  This is usually the result of calling `frame.insert` many times, which has poor performance.  Consider joining all columns at once using pd.concat(axis=1) instead. To get a de-fragmented frame, use `newframe = frame.copy()`\n",
      "  df[new_col_name] = data\n",
      "C:\\Users\\phgil\\AppData\\Local\\Temp\\ipykernel_2308\\3488968663.py:39: PerformanceWarning: DataFrame is highly fragmented.  This is usually the result of calling `frame.insert` many times, which has poor performance.  Consider joining all columns at once using pd.concat(axis=1) instead. To get a de-fragmented frame, use `newframe = frame.copy()`\n",
      "  df[new_col_name] = data\n",
      "C:\\Users\\phgil\\AppData\\Local\\Temp\\ipykernel_2308\\3488968663.py:39: PerformanceWarning: DataFrame is highly fragmented.  This is usually the result of calling `frame.insert` many times, which has poor performance.  Consider joining all columns at once using pd.concat(axis=1) instead. To get a de-fragmented frame, use `newframe = frame.copy()`\n",
      "  df[new_col_name] = data\n",
      "C:\\Users\\phgil\\AppData\\Local\\Temp\\ipykernel_2308\\3488968663.py:39: PerformanceWarning: DataFrame is highly fragmented.  This is usually the result of calling `frame.insert` many times, which has poor performance.  Consider joining all columns at once using pd.concat(axis=1) instead. To get a de-fragmented frame, use `newframe = frame.copy()`\n",
      "  df[new_col_name] = data\n",
      "C:\\Users\\phgil\\AppData\\Local\\Temp\\ipykernel_2308\\3488968663.py:39: PerformanceWarning: DataFrame is highly fragmented.  This is usually the result of calling `frame.insert` many times, which has poor performance.  Consider joining all columns at once using pd.concat(axis=1) instead. To get a de-fragmented frame, use `newframe = frame.copy()`\n",
      "  df[new_col_name] = data\n",
      "Expanding awkward array columns:  36%|███▋      | 20/55 [07:23<14:09, 24.28s/it]"
     ]
    },
    {
     "name": "stdout",
     "output_type": "stream",
     "text": [
      "  Time taken to expand jet_trueflav: 24.51 seconds.\n",
      "\n",
      "Processing column: jet_truthMatched\n",
      "  Maximum length of lists in jet_truthMatched: 16\n"
     ]
    },
    {
     "name": "stderr",
     "output_type": "stream",
     "text": [
      "C:\\Users\\phgil\\AppData\\Local\\Temp\\ipykernel_2308\\3488968663.py:39: PerformanceWarning: DataFrame is highly fragmented.  This is usually the result of calling `frame.insert` many times, which has poor performance.  Consider joining all columns at once using pd.concat(axis=1) instead. To get a de-fragmented frame, use `newframe = frame.copy()`\n",
      "  df[new_col_name] = data\n",
      "C:\\Users\\phgil\\AppData\\Local\\Temp\\ipykernel_2308\\3488968663.py:39: PerformanceWarning: DataFrame is highly fragmented.  This is usually the result of calling `frame.insert` many times, which has poor performance.  Consider joining all columns at once using pd.concat(axis=1) instead. To get a de-fragmented frame, use `newframe = frame.copy()`\n",
      "  df[new_col_name] = data\n",
      "C:\\Users\\phgil\\AppData\\Local\\Temp\\ipykernel_2308\\3488968663.py:39: PerformanceWarning: DataFrame is highly fragmented.  This is usually the result of calling `frame.insert` many times, which has poor performance.  Consider joining all columns at once using pd.concat(axis=1) instead. To get a de-fragmented frame, use `newframe = frame.copy()`\n",
      "  df[new_col_name] = data\n",
      "C:\\Users\\phgil\\AppData\\Local\\Temp\\ipykernel_2308\\3488968663.py:39: PerformanceWarning: DataFrame is highly fragmented.  This is usually the result of calling `frame.insert` many times, which has poor performance.  Consider joining all columns at once using pd.concat(axis=1) instead. To get a de-fragmented frame, use `newframe = frame.copy()`\n",
      "  df[new_col_name] = data\n",
      "C:\\Users\\phgil\\AppData\\Local\\Temp\\ipykernel_2308\\3488968663.py:39: PerformanceWarning: DataFrame is highly fragmented.  This is usually the result of calling `frame.insert` many times, which has poor performance.  Consider joining all columns at once using pd.concat(axis=1) instead. To get a de-fragmented frame, use `newframe = frame.copy()`\n",
      "  df[new_col_name] = data\n",
      "C:\\Users\\phgil\\AppData\\Local\\Temp\\ipykernel_2308\\3488968663.py:39: PerformanceWarning: DataFrame is highly fragmented.  This is usually the result of calling `frame.insert` many times, which has poor performance.  Consider joining all columns at once using pd.concat(axis=1) instead. To get a de-fragmented frame, use `newframe = frame.copy()`\n",
      "  df[new_col_name] = data\n",
      "C:\\Users\\phgil\\AppData\\Local\\Temp\\ipykernel_2308\\3488968663.py:39: PerformanceWarning: DataFrame is highly fragmented.  This is usually the result of calling `frame.insert` many times, which has poor performance.  Consider joining all columns at once using pd.concat(axis=1) instead. To get a de-fragmented frame, use `newframe = frame.copy()`\n",
      "  df[new_col_name] = data\n",
      "C:\\Users\\phgil\\AppData\\Local\\Temp\\ipykernel_2308\\3488968663.py:39: PerformanceWarning: DataFrame is highly fragmented.  This is usually the result of calling `frame.insert` many times, which has poor performance.  Consider joining all columns at once using pd.concat(axis=1) instead. To get a de-fragmented frame, use `newframe = frame.copy()`\n",
      "  df[new_col_name] = data\n",
      "C:\\Users\\phgil\\AppData\\Local\\Temp\\ipykernel_2308\\3488968663.py:39: PerformanceWarning: DataFrame is highly fragmented.  This is usually the result of calling `frame.insert` many times, which has poor performance.  Consider joining all columns at once using pd.concat(axis=1) instead. To get a de-fragmented frame, use `newframe = frame.copy()`\n",
      "  df[new_col_name] = data\n",
      "C:\\Users\\phgil\\AppData\\Local\\Temp\\ipykernel_2308\\3488968663.py:39: PerformanceWarning: DataFrame is highly fragmented.  This is usually the result of calling `frame.insert` many times, which has poor performance.  Consider joining all columns at once using pd.concat(axis=1) instead. To get a de-fragmented frame, use `newframe = frame.copy()`\n",
      "  df[new_col_name] = data\n",
      "C:\\Users\\phgil\\AppData\\Local\\Temp\\ipykernel_2308\\3488968663.py:39: PerformanceWarning: DataFrame is highly fragmented.  This is usually the result of calling `frame.insert` many times, which has poor performance.  Consider joining all columns at once using pd.concat(axis=1) instead. To get a de-fragmented frame, use `newframe = frame.copy()`\n",
      "  df[new_col_name] = data\n",
      "C:\\Users\\phgil\\AppData\\Local\\Temp\\ipykernel_2308\\3488968663.py:39: PerformanceWarning: DataFrame is highly fragmented.  This is usually the result of calling `frame.insert` many times, which has poor performance.  Consider joining all columns at once using pd.concat(axis=1) instead. To get a de-fragmented frame, use `newframe = frame.copy()`\n",
      "  df[new_col_name] = data\n",
      "C:\\Users\\phgil\\AppData\\Local\\Temp\\ipykernel_2308\\3488968663.py:39: PerformanceWarning: DataFrame is highly fragmented.  This is usually the result of calling `frame.insert` many times, which has poor performance.  Consider joining all columns at once using pd.concat(axis=1) instead. To get a de-fragmented frame, use `newframe = frame.copy()`\n",
      "  df[new_col_name] = data\n",
      "C:\\Users\\phgil\\AppData\\Local\\Temp\\ipykernel_2308\\3488968663.py:39: PerformanceWarning: DataFrame is highly fragmented.  This is usually the result of calling `frame.insert` many times, which has poor performance.  Consider joining all columns at once using pd.concat(axis=1) instead. To get a de-fragmented frame, use `newframe = frame.copy()`\n",
      "  df[new_col_name] = data\n",
      "C:\\Users\\phgil\\AppData\\Local\\Temp\\ipykernel_2308\\3488968663.py:39: PerformanceWarning: DataFrame is highly fragmented.  This is usually the result of calling `frame.insert` many times, which has poor performance.  Consider joining all columns at once using pd.concat(axis=1) instead. To get a de-fragmented frame, use `newframe = frame.copy()`\n",
      "  df[new_col_name] = data\n",
      "C:\\Users\\phgil\\AppData\\Local\\Temp\\ipykernel_2308\\3488968663.py:39: PerformanceWarning: DataFrame is highly fragmented.  This is usually the result of calling `frame.insert` many times, which has poor performance.  Consider joining all columns at once using pd.concat(axis=1) instead. To get a de-fragmented frame, use `newframe = frame.copy()`\n",
      "  df[new_col_name] = data\n",
      "Expanding awkward array columns:  38%|███▊      | 21/55 [07:47<13:41, 24.16s/it]"
     ]
    },
    {
     "name": "stdout",
     "output_type": "stream",
     "text": [
      "  Time taken to expand jet_truthMatched: 23.89 seconds.\n",
      "\n",
      "Processing column: jet_MV2c10\n",
      "  Maximum length of lists in jet_MV2c10: 16\n"
     ]
    },
    {
     "name": "stderr",
     "output_type": "stream",
     "text": [
      "C:\\Users\\phgil\\AppData\\Local\\Temp\\ipykernel_2308\\3488968663.py:39: PerformanceWarning: DataFrame is highly fragmented.  This is usually the result of calling `frame.insert` many times, which has poor performance.  Consider joining all columns at once using pd.concat(axis=1) instead. To get a de-fragmented frame, use `newframe = frame.copy()`\n",
      "  df[new_col_name] = data\n",
      "C:\\Users\\phgil\\AppData\\Local\\Temp\\ipykernel_2308\\3488968663.py:39: PerformanceWarning: DataFrame is highly fragmented.  This is usually the result of calling `frame.insert` many times, which has poor performance.  Consider joining all columns at once using pd.concat(axis=1) instead. To get a de-fragmented frame, use `newframe = frame.copy()`\n",
      "  df[new_col_name] = data\n",
      "C:\\Users\\phgil\\AppData\\Local\\Temp\\ipykernel_2308\\3488968663.py:39: PerformanceWarning: DataFrame is highly fragmented.  This is usually the result of calling `frame.insert` many times, which has poor performance.  Consider joining all columns at once using pd.concat(axis=1) instead. To get a de-fragmented frame, use `newframe = frame.copy()`\n",
      "  df[new_col_name] = data\n",
      "C:\\Users\\phgil\\AppData\\Local\\Temp\\ipykernel_2308\\3488968663.py:39: PerformanceWarning: DataFrame is highly fragmented.  This is usually the result of calling `frame.insert` many times, which has poor performance.  Consider joining all columns at once using pd.concat(axis=1) instead. To get a de-fragmented frame, use `newframe = frame.copy()`\n",
      "  df[new_col_name] = data\n",
      "C:\\Users\\phgil\\AppData\\Local\\Temp\\ipykernel_2308\\3488968663.py:39: PerformanceWarning: DataFrame is highly fragmented.  This is usually the result of calling `frame.insert` many times, which has poor performance.  Consider joining all columns at once using pd.concat(axis=1) instead. To get a de-fragmented frame, use `newframe = frame.copy()`\n",
      "  df[new_col_name] = data\n",
      "C:\\Users\\phgil\\AppData\\Local\\Temp\\ipykernel_2308\\3488968663.py:39: PerformanceWarning: DataFrame is highly fragmented.  This is usually the result of calling `frame.insert` many times, which has poor performance.  Consider joining all columns at once using pd.concat(axis=1) instead. To get a de-fragmented frame, use `newframe = frame.copy()`\n",
      "  df[new_col_name] = data\n",
      "C:\\Users\\phgil\\AppData\\Local\\Temp\\ipykernel_2308\\3488968663.py:39: PerformanceWarning: DataFrame is highly fragmented.  This is usually the result of calling `frame.insert` many times, which has poor performance.  Consider joining all columns at once using pd.concat(axis=1) instead. To get a de-fragmented frame, use `newframe = frame.copy()`\n",
      "  df[new_col_name] = data\n",
      "C:\\Users\\phgil\\AppData\\Local\\Temp\\ipykernel_2308\\3488968663.py:39: PerformanceWarning: DataFrame is highly fragmented.  This is usually the result of calling `frame.insert` many times, which has poor performance.  Consider joining all columns at once using pd.concat(axis=1) instead. To get a de-fragmented frame, use `newframe = frame.copy()`\n",
      "  df[new_col_name] = data\n",
      "C:\\Users\\phgil\\AppData\\Local\\Temp\\ipykernel_2308\\3488968663.py:39: PerformanceWarning: DataFrame is highly fragmented.  This is usually the result of calling `frame.insert` many times, which has poor performance.  Consider joining all columns at once using pd.concat(axis=1) instead. To get a de-fragmented frame, use `newframe = frame.copy()`\n",
      "  df[new_col_name] = data\n",
      "C:\\Users\\phgil\\AppData\\Local\\Temp\\ipykernel_2308\\3488968663.py:39: PerformanceWarning: DataFrame is highly fragmented.  This is usually the result of calling `frame.insert` many times, which has poor performance.  Consider joining all columns at once using pd.concat(axis=1) instead. To get a de-fragmented frame, use `newframe = frame.copy()`\n",
      "  df[new_col_name] = data\n",
      "C:\\Users\\phgil\\AppData\\Local\\Temp\\ipykernel_2308\\3488968663.py:39: PerformanceWarning: DataFrame is highly fragmented.  This is usually the result of calling `frame.insert` many times, which has poor performance.  Consider joining all columns at once using pd.concat(axis=1) instead. To get a de-fragmented frame, use `newframe = frame.copy()`\n",
      "  df[new_col_name] = data\n",
      "C:\\Users\\phgil\\AppData\\Local\\Temp\\ipykernel_2308\\3488968663.py:39: PerformanceWarning: DataFrame is highly fragmented.  This is usually the result of calling `frame.insert` many times, which has poor performance.  Consider joining all columns at once using pd.concat(axis=1) instead. To get a de-fragmented frame, use `newframe = frame.copy()`\n",
      "  df[new_col_name] = data\n",
      "C:\\Users\\phgil\\AppData\\Local\\Temp\\ipykernel_2308\\3488968663.py:39: PerformanceWarning: DataFrame is highly fragmented.  This is usually the result of calling `frame.insert` many times, which has poor performance.  Consider joining all columns at once using pd.concat(axis=1) instead. To get a de-fragmented frame, use `newframe = frame.copy()`\n",
      "  df[new_col_name] = data\n",
      "C:\\Users\\phgil\\AppData\\Local\\Temp\\ipykernel_2308\\3488968663.py:39: PerformanceWarning: DataFrame is highly fragmented.  This is usually the result of calling `frame.insert` many times, which has poor performance.  Consider joining all columns at once using pd.concat(axis=1) instead. To get a de-fragmented frame, use `newframe = frame.copy()`\n",
      "  df[new_col_name] = data\n",
      "C:\\Users\\phgil\\AppData\\Local\\Temp\\ipykernel_2308\\3488968663.py:39: PerformanceWarning: DataFrame is highly fragmented.  This is usually the result of calling `frame.insert` many times, which has poor performance.  Consider joining all columns at once using pd.concat(axis=1) instead. To get a de-fragmented frame, use `newframe = frame.copy()`\n",
      "  df[new_col_name] = data\n",
      "C:\\Users\\phgil\\AppData\\Local\\Temp\\ipykernel_2308\\3488968663.py:39: PerformanceWarning: DataFrame is highly fragmented.  This is usually the result of calling `frame.insert` many times, which has poor performance.  Consider joining all columns at once using pd.concat(axis=1) instead. To get a de-fragmented frame, use `newframe = frame.copy()`\n",
      "  df[new_col_name] = data\n",
      "Expanding awkward array columns:  40%|████      | 22/55 [08:13<13:40, 24.87s/it]"
     ]
    },
    {
     "name": "stdout",
     "output_type": "stream",
     "text": [
      "  Time taken to expand jet_MV2c10: 26.50 seconds.\n",
      "\n",
      "Processing column: photon_truthMatched\n",
      "  Maximum length of lists in photon_truthMatched: 5\n"
     ]
    },
    {
     "name": "stderr",
     "output_type": "stream",
     "text": [
      "C:\\Users\\phgil\\AppData\\Local\\Temp\\ipykernel_2308\\3488968663.py:39: PerformanceWarning: DataFrame is highly fragmented.  This is usually the result of calling `frame.insert` many times, which has poor performance.  Consider joining all columns at once using pd.concat(axis=1) instead. To get a de-fragmented frame, use `newframe = frame.copy()`\n",
      "  df[new_col_name] = data\n",
      "C:\\Users\\phgil\\AppData\\Local\\Temp\\ipykernel_2308\\3488968663.py:39: PerformanceWarning: DataFrame is highly fragmented.  This is usually the result of calling `frame.insert` many times, which has poor performance.  Consider joining all columns at once using pd.concat(axis=1) instead. To get a de-fragmented frame, use `newframe = frame.copy()`\n",
      "  df[new_col_name] = data\n",
      "C:\\Users\\phgil\\AppData\\Local\\Temp\\ipykernel_2308\\3488968663.py:39: PerformanceWarning: DataFrame is highly fragmented.  This is usually the result of calling `frame.insert` many times, which has poor performance.  Consider joining all columns at once using pd.concat(axis=1) instead. To get a de-fragmented frame, use `newframe = frame.copy()`\n",
      "  df[new_col_name] = data\n",
      "C:\\Users\\phgil\\AppData\\Local\\Temp\\ipykernel_2308\\3488968663.py:39: PerformanceWarning: DataFrame is highly fragmented.  This is usually the result of calling `frame.insert` many times, which has poor performance.  Consider joining all columns at once using pd.concat(axis=1) instead. To get a de-fragmented frame, use `newframe = frame.copy()`\n",
      "  df[new_col_name] = data\n",
      "C:\\Users\\phgil\\AppData\\Local\\Temp\\ipykernel_2308\\3488968663.py:39: PerformanceWarning: DataFrame is highly fragmented.  This is usually the result of calling `frame.insert` many times, which has poor performance.  Consider joining all columns at once using pd.concat(axis=1) instead. To get a de-fragmented frame, use `newframe = frame.copy()`\n",
      "  df[new_col_name] = data\n",
      "Expanding awkward array columns:  42%|████▏     | 23/55 [08:36<12:52, 24.16s/it]"
     ]
    },
    {
     "name": "stdout",
     "output_type": "stream",
     "text": [
      "  Time taken to expand photon_truthMatched: 22.50 seconds.\n",
      "\n",
      "Processing column: photon_trigMatched\n",
      "  Maximum length of lists in photon_trigMatched: 5\n"
     ]
    },
    {
     "name": "stderr",
     "output_type": "stream",
     "text": [
      "C:\\Users\\phgil\\AppData\\Local\\Temp\\ipykernel_2308\\3488968663.py:39: PerformanceWarning: DataFrame is highly fragmented.  This is usually the result of calling `frame.insert` many times, which has poor performance.  Consider joining all columns at once using pd.concat(axis=1) instead. To get a de-fragmented frame, use `newframe = frame.copy()`\n",
      "  df[new_col_name] = data\n",
      "C:\\Users\\phgil\\AppData\\Local\\Temp\\ipykernel_2308\\3488968663.py:39: PerformanceWarning: DataFrame is highly fragmented.  This is usually the result of calling `frame.insert` many times, which has poor performance.  Consider joining all columns at once using pd.concat(axis=1) instead. To get a de-fragmented frame, use `newframe = frame.copy()`\n",
      "  df[new_col_name] = data\n",
      "C:\\Users\\phgil\\AppData\\Local\\Temp\\ipykernel_2308\\3488968663.py:39: PerformanceWarning: DataFrame is highly fragmented.  This is usually the result of calling `frame.insert` many times, which has poor performance.  Consider joining all columns at once using pd.concat(axis=1) instead. To get a de-fragmented frame, use `newframe = frame.copy()`\n",
      "  df[new_col_name] = data\n",
      "C:\\Users\\phgil\\AppData\\Local\\Temp\\ipykernel_2308\\3488968663.py:39: PerformanceWarning: DataFrame is highly fragmented.  This is usually the result of calling `frame.insert` many times, which has poor performance.  Consider joining all columns at once using pd.concat(axis=1) instead. To get a de-fragmented frame, use `newframe = frame.copy()`\n",
      "  df[new_col_name] = data\n",
      "C:\\Users\\phgil\\AppData\\Local\\Temp\\ipykernel_2308\\3488968663.py:39: PerformanceWarning: DataFrame is highly fragmented.  This is usually the result of calling `frame.insert` many times, which has poor performance.  Consider joining all columns at once using pd.concat(axis=1) instead. To get a de-fragmented frame, use `newframe = frame.copy()`\n",
      "  df[new_col_name] = data\n",
      "Expanding awkward array columns:  44%|████▎     | 24/55 [08:57<12:04, 23.36s/it]"
     ]
    },
    {
     "name": "stdout",
     "output_type": "stream",
     "text": [
      "  Time taken to expand photon_trigMatched: 21.48 seconds.\n",
      "\n",
      "Processing column: photon_pt\n",
      "  Maximum length of lists in photon_pt: 5\n"
     ]
    },
    {
     "name": "stderr",
     "output_type": "stream",
     "text": [
      "C:\\Users\\phgil\\AppData\\Local\\Temp\\ipykernel_2308\\3488968663.py:39: PerformanceWarning: DataFrame is highly fragmented.  This is usually the result of calling `frame.insert` many times, which has poor performance.  Consider joining all columns at once using pd.concat(axis=1) instead. To get a de-fragmented frame, use `newframe = frame.copy()`\n",
      "  df[new_col_name] = data\n",
      "C:\\Users\\phgil\\AppData\\Local\\Temp\\ipykernel_2308\\3488968663.py:39: PerformanceWarning: DataFrame is highly fragmented.  This is usually the result of calling `frame.insert` many times, which has poor performance.  Consider joining all columns at once using pd.concat(axis=1) instead. To get a de-fragmented frame, use `newframe = frame.copy()`\n",
      "  df[new_col_name] = data\n",
      "C:\\Users\\phgil\\AppData\\Local\\Temp\\ipykernel_2308\\3488968663.py:39: PerformanceWarning: DataFrame is highly fragmented.  This is usually the result of calling `frame.insert` many times, which has poor performance.  Consider joining all columns at once using pd.concat(axis=1) instead. To get a de-fragmented frame, use `newframe = frame.copy()`\n",
      "  df[new_col_name] = data\n",
      "C:\\Users\\phgil\\AppData\\Local\\Temp\\ipykernel_2308\\3488968663.py:39: PerformanceWarning: DataFrame is highly fragmented.  This is usually the result of calling `frame.insert` many times, which has poor performance.  Consider joining all columns at once using pd.concat(axis=1) instead. To get a de-fragmented frame, use `newframe = frame.copy()`\n",
      "  df[new_col_name] = data\n",
      "C:\\Users\\phgil\\AppData\\Local\\Temp\\ipykernel_2308\\3488968663.py:39: PerformanceWarning: DataFrame is highly fragmented.  This is usually the result of calling `frame.insert` many times, which has poor performance.  Consider joining all columns at once using pd.concat(axis=1) instead. To get a de-fragmented frame, use `newframe = frame.copy()`\n",
      "  df[new_col_name] = data\n",
      "Expanding awkward array columns:  45%|████▌     | 25/55 [09:19<11:24, 22.82s/it]"
     ]
    },
    {
     "name": "stdout",
     "output_type": "stream",
     "text": [
      "  Time taken to expand photon_pt: 21.56 seconds.\n",
      "\n",
      "Processing column: photon_eta\n",
      "  Maximum length of lists in photon_eta: 5\n"
     ]
    },
    {
     "name": "stderr",
     "output_type": "stream",
     "text": [
      "C:\\Users\\phgil\\AppData\\Local\\Temp\\ipykernel_2308\\3488968663.py:39: PerformanceWarning: DataFrame is highly fragmented.  This is usually the result of calling `frame.insert` many times, which has poor performance.  Consider joining all columns at once using pd.concat(axis=1) instead. To get a de-fragmented frame, use `newframe = frame.copy()`\n",
      "  df[new_col_name] = data\n",
      "C:\\Users\\phgil\\AppData\\Local\\Temp\\ipykernel_2308\\3488968663.py:39: PerformanceWarning: DataFrame is highly fragmented.  This is usually the result of calling `frame.insert` many times, which has poor performance.  Consider joining all columns at once using pd.concat(axis=1) instead. To get a de-fragmented frame, use `newframe = frame.copy()`\n",
      "  df[new_col_name] = data\n",
      "C:\\Users\\phgil\\AppData\\Local\\Temp\\ipykernel_2308\\3488968663.py:39: PerformanceWarning: DataFrame is highly fragmented.  This is usually the result of calling `frame.insert` many times, which has poor performance.  Consider joining all columns at once using pd.concat(axis=1) instead. To get a de-fragmented frame, use `newframe = frame.copy()`\n",
      "  df[new_col_name] = data\n",
      "C:\\Users\\phgil\\AppData\\Local\\Temp\\ipykernel_2308\\3488968663.py:39: PerformanceWarning: DataFrame is highly fragmented.  This is usually the result of calling `frame.insert` many times, which has poor performance.  Consider joining all columns at once using pd.concat(axis=1) instead. To get a de-fragmented frame, use `newframe = frame.copy()`\n",
      "  df[new_col_name] = data\n",
      "C:\\Users\\phgil\\AppData\\Local\\Temp\\ipykernel_2308\\3488968663.py:39: PerformanceWarning: DataFrame is highly fragmented.  This is usually the result of calling `frame.insert` many times, which has poor performance.  Consider joining all columns at once using pd.concat(axis=1) instead. To get a de-fragmented frame, use `newframe = frame.copy()`\n",
      "  df[new_col_name] = data\n",
      "Expanding awkward array columns:  47%|████▋     | 26/55 [09:41<10:55, 22.59s/it]"
     ]
    },
    {
     "name": "stdout",
     "output_type": "stream",
     "text": [
      "  Time taken to expand photon_eta: 22.06 seconds.\n",
      "\n",
      "Processing column: photon_phi\n",
      "  Maximum length of lists in photon_phi: 5\n"
     ]
    },
    {
     "name": "stderr",
     "output_type": "stream",
     "text": [
      "C:\\Users\\phgil\\AppData\\Local\\Temp\\ipykernel_2308\\3488968663.py:39: PerformanceWarning: DataFrame is highly fragmented.  This is usually the result of calling `frame.insert` many times, which has poor performance.  Consider joining all columns at once using pd.concat(axis=1) instead. To get a de-fragmented frame, use `newframe = frame.copy()`\n",
      "  df[new_col_name] = data\n",
      "C:\\Users\\phgil\\AppData\\Local\\Temp\\ipykernel_2308\\3488968663.py:39: PerformanceWarning: DataFrame is highly fragmented.  This is usually the result of calling `frame.insert` many times, which has poor performance.  Consider joining all columns at once using pd.concat(axis=1) instead. To get a de-fragmented frame, use `newframe = frame.copy()`\n",
      "  df[new_col_name] = data\n",
      "C:\\Users\\phgil\\AppData\\Local\\Temp\\ipykernel_2308\\3488968663.py:39: PerformanceWarning: DataFrame is highly fragmented.  This is usually the result of calling `frame.insert` many times, which has poor performance.  Consider joining all columns at once using pd.concat(axis=1) instead. To get a de-fragmented frame, use `newframe = frame.copy()`\n",
      "  df[new_col_name] = data\n",
      "C:\\Users\\phgil\\AppData\\Local\\Temp\\ipykernel_2308\\3488968663.py:39: PerformanceWarning: DataFrame is highly fragmented.  This is usually the result of calling `frame.insert` many times, which has poor performance.  Consider joining all columns at once using pd.concat(axis=1) instead. To get a de-fragmented frame, use `newframe = frame.copy()`\n",
      "  df[new_col_name] = data\n",
      "C:\\Users\\phgil\\AppData\\Local\\Temp\\ipykernel_2308\\3488968663.py:39: PerformanceWarning: DataFrame is highly fragmented.  This is usually the result of calling `frame.insert` many times, which has poor performance.  Consider joining all columns at once using pd.concat(axis=1) instead. To get a de-fragmented frame, use `newframe = frame.copy()`\n",
      "  df[new_col_name] = data\n",
      "Expanding awkward array columns:  49%|████▉     | 27/55 [10:03<10:24, 22.32s/it]"
     ]
    },
    {
     "name": "stdout",
     "output_type": "stream",
     "text": [
      "  Time taken to expand photon_phi: 21.68 seconds.\n",
      "\n",
      "Processing column: photon_E\n",
      "  Maximum length of lists in photon_E: 5\n"
     ]
    },
    {
     "name": "stderr",
     "output_type": "stream",
     "text": [
      "C:\\Users\\phgil\\AppData\\Local\\Temp\\ipykernel_2308\\3488968663.py:39: PerformanceWarning: DataFrame is highly fragmented.  This is usually the result of calling `frame.insert` many times, which has poor performance.  Consider joining all columns at once using pd.concat(axis=1) instead. To get a de-fragmented frame, use `newframe = frame.copy()`\n",
      "  df[new_col_name] = data\n",
      "C:\\Users\\phgil\\AppData\\Local\\Temp\\ipykernel_2308\\3488968663.py:39: PerformanceWarning: DataFrame is highly fragmented.  This is usually the result of calling `frame.insert` many times, which has poor performance.  Consider joining all columns at once using pd.concat(axis=1) instead. To get a de-fragmented frame, use `newframe = frame.copy()`\n",
      "  df[new_col_name] = data\n",
      "C:\\Users\\phgil\\AppData\\Local\\Temp\\ipykernel_2308\\3488968663.py:39: PerformanceWarning: DataFrame is highly fragmented.  This is usually the result of calling `frame.insert` many times, which has poor performance.  Consider joining all columns at once using pd.concat(axis=1) instead. To get a de-fragmented frame, use `newframe = frame.copy()`\n",
      "  df[new_col_name] = data\n",
      "C:\\Users\\phgil\\AppData\\Local\\Temp\\ipykernel_2308\\3488968663.py:39: PerformanceWarning: DataFrame is highly fragmented.  This is usually the result of calling `frame.insert` many times, which has poor performance.  Consider joining all columns at once using pd.concat(axis=1) instead. To get a de-fragmented frame, use `newframe = frame.copy()`\n",
      "  df[new_col_name] = data\n",
      "C:\\Users\\phgil\\AppData\\Local\\Temp\\ipykernel_2308\\3488968663.py:39: PerformanceWarning: DataFrame is highly fragmented.  This is usually the result of calling `frame.insert` many times, which has poor performance.  Consider joining all columns at once using pd.concat(axis=1) instead. To get a de-fragmented frame, use `newframe = frame.copy()`\n",
      "  df[new_col_name] = data\n",
      "Expanding awkward array columns:  51%|█████     | 28/55 [10:25<10:07, 22.48s/it]"
     ]
    },
    {
     "name": "stdout",
     "output_type": "stream",
     "text": [
      "  Time taken to expand photon_E: 22.86 seconds.\n",
      "\n",
      "Processing column: photon_isTightID\n",
      "  Maximum length of lists in photon_isTightID: 5\n"
     ]
    },
    {
     "name": "stderr",
     "output_type": "stream",
     "text": [
      "C:\\Users\\phgil\\AppData\\Local\\Temp\\ipykernel_2308\\3488968663.py:39: PerformanceWarning: DataFrame is highly fragmented.  This is usually the result of calling `frame.insert` many times, which has poor performance.  Consider joining all columns at once using pd.concat(axis=1) instead. To get a de-fragmented frame, use `newframe = frame.copy()`\n",
      "  df[new_col_name] = data\n",
      "C:\\Users\\phgil\\AppData\\Local\\Temp\\ipykernel_2308\\3488968663.py:39: PerformanceWarning: DataFrame is highly fragmented.  This is usually the result of calling `frame.insert` many times, which has poor performance.  Consider joining all columns at once using pd.concat(axis=1) instead. To get a de-fragmented frame, use `newframe = frame.copy()`\n",
      "  df[new_col_name] = data\n",
      "C:\\Users\\phgil\\AppData\\Local\\Temp\\ipykernel_2308\\3488968663.py:39: PerformanceWarning: DataFrame is highly fragmented.  This is usually the result of calling `frame.insert` many times, which has poor performance.  Consider joining all columns at once using pd.concat(axis=1) instead. To get a de-fragmented frame, use `newframe = frame.copy()`\n",
      "  df[new_col_name] = data\n",
      "C:\\Users\\phgil\\AppData\\Local\\Temp\\ipykernel_2308\\3488968663.py:39: PerformanceWarning: DataFrame is highly fragmented.  This is usually the result of calling `frame.insert` many times, which has poor performance.  Consider joining all columns at once using pd.concat(axis=1) instead. To get a de-fragmented frame, use `newframe = frame.copy()`\n",
      "  df[new_col_name] = data\n",
      "C:\\Users\\phgil\\AppData\\Local\\Temp\\ipykernel_2308\\3488968663.py:39: PerformanceWarning: DataFrame is highly fragmented.  This is usually the result of calling `frame.insert` many times, which has poor performance.  Consider joining all columns at once using pd.concat(axis=1) instead. To get a de-fragmented frame, use `newframe = frame.copy()`\n",
      "  df[new_col_name] = data\n",
      "Expanding awkward array columns:  53%|█████▎    | 29/55 [10:47<09:38, 22.24s/it]"
     ]
    },
    {
     "name": "stdout",
     "output_type": "stream",
     "text": [
      "  Time taken to expand photon_isTightID: 21.68 seconds.\n",
      "\n",
      "Processing column: photon_ptcone30\n",
      "  Maximum length of lists in photon_ptcone30: 5\n"
     ]
    },
    {
     "name": "stderr",
     "output_type": "stream",
     "text": [
      "C:\\Users\\phgil\\AppData\\Local\\Temp\\ipykernel_2308\\3488968663.py:39: PerformanceWarning: DataFrame is highly fragmented.  This is usually the result of calling `frame.insert` many times, which has poor performance.  Consider joining all columns at once using pd.concat(axis=1) instead. To get a de-fragmented frame, use `newframe = frame.copy()`\n",
      "  df[new_col_name] = data\n",
      "C:\\Users\\phgil\\AppData\\Local\\Temp\\ipykernel_2308\\3488968663.py:39: PerformanceWarning: DataFrame is highly fragmented.  This is usually the result of calling `frame.insert` many times, which has poor performance.  Consider joining all columns at once using pd.concat(axis=1) instead. To get a de-fragmented frame, use `newframe = frame.copy()`\n",
      "  df[new_col_name] = data\n",
      "C:\\Users\\phgil\\AppData\\Local\\Temp\\ipykernel_2308\\3488968663.py:39: PerformanceWarning: DataFrame is highly fragmented.  This is usually the result of calling `frame.insert` many times, which has poor performance.  Consider joining all columns at once using pd.concat(axis=1) instead. To get a de-fragmented frame, use `newframe = frame.copy()`\n",
      "  df[new_col_name] = data\n",
      "C:\\Users\\phgil\\AppData\\Local\\Temp\\ipykernel_2308\\3488968663.py:39: PerformanceWarning: DataFrame is highly fragmented.  This is usually the result of calling `frame.insert` many times, which has poor performance.  Consider joining all columns at once using pd.concat(axis=1) instead. To get a de-fragmented frame, use `newframe = frame.copy()`\n",
      "  df[new_col_name] = data\n",
      "C:\\Users\\phgil\\AppData\\Local\\Temp\\ipykernel_2308\\3488968663.py:39: PerformanceWarning: DataFrame is highly fragmented.  This is usually the result of calling `frame.insert` many times, which has poor performance.  Consider joining all columns at once using pd.concat(axis=1) instead. To get a de-fragmented frame, use `newframe = frame.copy()`\n",
      "  df[new_col_name] = data\n",
      "Expanding awkward array columns:  55%|█████▍    | 30/55 [11:09<09:14, 22.17s/it]"
     ]
    },
    {
     "name": "stdout",
     "output_type": "stream",
     "text": [
      "  Time taken to expand photon_ptcone30: 22.00 seconds.\n",
      "\n",
      "Processing column: photon_etcone20\n",
      "  Maximum length of lists in photon_etcone20: 5\n"
     ]
    },
    {
     "name": "stderr",
     "output_type": "stream",
     "text": [
      "C:\\Users\\phgil\\AppData\\Local\\Temp\\ipykernel_2308\\3488968663.py:39: PerformanceWarning: DataFrame is highly fragmented.  This is usually the result of calling `frame.insert` many times, which has poor performance.  Consider joining all columns at once using pd.concat(axis=1) instead. To get a de-fragmented frame, use `newframe = frame.copy()`\n",
      "  df[new_col_name] = data\n",
      "C:\\Users\\phgil\\AppData\\Local\\Temp\\ipykernel_2308\\3488968663.py:39: PerformanceWarning: DataFrame is highly fragmented.  This is usually the result of calling `frame.insert` many times, which has poor performance.  Consider joining all columns at once using pd.concat(axis=1) instead. To get a de-fragmented frame, use `newframe = frame.copy()`\n",
      "  df[new_col_name] = data\n",
      "C:\\Users\\phgil\\AppData\\Local\\Temp\\ipykernel_2308\\3488968663.py:39: PerformanceWarning: DataFrame is highly fragmented.  This is usually the result of calling `frame.insert` many times, which has poor performance.  Consider joining all columns at once using pd.concat(axis=1) instead. To get a de-fragmented frame, use `newframe = frame.copy()`\n",
      "  df[new_col_name] = data\n",
      "C:\\Users\\phgil\\AppData\\Local\\Temp\\ipykernel_2308\\3488968663.py:39: PerformanceWarning: DataFrame is highly fragmented.  This is usually the result of calling `frame.insert` many times, which has poor performance.  Consider joining all columns at once using pd.concat(axis=1) instead. To get a de-fragmented frame, use `newframe = frame.copy()`\n",
      "  df[new_col_name] = data\n",
      "C:\\Users\\phgil\\AppData\\Local\\Temp\\ipykernel_2308\\3488968663.py:39: PerformanceWarning: DataFrame is highly fragmented.  This is usually the result of calling `frame.insert` many times, which has poor performance.  Consider joining all columns at once using pd.concat(axis=1) instead. To get a de-fragmented frame, use `newframe = frame.copy()`\n",
      "  df[new_col_name] = data\n",
      "Expanding awkward array columns:  56%|█████▋    | 31/55 [11:31<08:46, 21.94s/it]"
     ]
    },
    {
     "name": "stdout",
     "output_type": "stream",
     "text": [
      "  Time taken to expand photon_etcone20: 21.41 seconds.\n",
      "\n",
      "Processing column: photon_convType\n",
      "  Maximum length of lists in photon_convType: 5\n"
     ]
    },
    {
     "name": "stderr",
     "output_type": "stream",
     "text": [
      "C:\\Users\\phgil\\AppData\\Local\\Temp\\ipykernel_2308\\3488968663.py:39: PerformanceWarning: DataFrame is highly fragmented.  This is usually the result of calling `frame.insert` many times, which has poor performance.  Consider joining all columns at once using pd.concat(axis=1) instead. To get a de-fragmented frame, use `newframe = frame.copy()`\n",
      "  df[new_col_name] = data\n",
      "C:\\Users\\phgil\\AppData\\Local\\Temp\\ipykernel_2308\\3488968663.py:39: PerformanceWarning: DataFrame is highly fragmented.  This is usually the result of calling `frame.insert` many times, which has poor performance.  Consider joining all columns at once using pd.concat(axis=1) instead. To get a de-fragmented frame, use `newframe = frame.copy()`\n",
      "  df[new_col_name] = data\n",
      "C:\\Users\\phgil\\AppData\\Local\\Temp\\ipykernel_2308\\3488968663.py:39: PerformanceWarning: DataFrame is highly fragmented.  This is usually the result of calling `frame.insert` many times, which has poor performance.  Consider joining all columns at once using pd.concat(axis=1) instead. To get a de-fragmented frame, use `newframe = frame.copy()`\n",
      "  df[new_col_name] = data\n",
      "C:\\Users\\phgil\\AppData\\Local\\Temp\\ipykernel_2308\\3488968663.py:39: PerformanceWarning: DataFrame is highly fragmented.  This is usually the result of calling `frame.insert` many times, which has poor performance.  Consider joining all columns at once using pd.concat(axis=1) instead. To get a de-fragmented frame, use `newframe = frame.copy()`\n",
      "  df[new_col_name] = data\n",
      "C:\\Users\\phgil\\AppData\\Local\\Temp\\ipykernel_2308\\3488968663.py:39: PerformanceWarning: DataFrame is highly fragmented.  This is usually the result of calling `frame.insert` many times, which has poor performance.  Consider joining all columns at once using pd.concat(axis=1) instead. To get a de-fragmented frame, use `newframe = frame.copy()`\n",
      "  df[new_col_name] = data\n",
      "Expanding awkward array columns:  58%|█████▊    | 32/55 [11:53<08:26, 22.02s/it]"
     ]
    },
    {
     "name": "stdout",
     "output_type": "stream",
     "text": [
      "  Time taken to expand photon_convType: 22.22 seconds.\n",
      "\n",
      "Processing column: tau_pt\n",
      "  Maximum length of lists in tau_pt: 0\n"
     ]
    },
    {
     "name": "stderr",
     "output_type": "stream",
     "text": [
      "Expanding awkward array columns:  60%|██████    | 33/55 [12:10<07:33, 20.61s/it]"
     ]
    },
    {
     "name": "stdout",
     "output_type": "stream",
     "text": [
      "  Time taken to expand tau_pt: 17.31 seconds.\n",
      "\n",
      "Processing column: tau_eta\n",
      "  Maximum length of lists in tau_eta: 0\n"
     ]
    },
    {
     "name": "stderr",
     "output_type": "stream",
     "text": [
      "Expanding awkward array columns:  62%|██████▏   | 34/55 [12:30<07:06, 20.30s/it]"
     ]
    },
    {
     "name": "stdout",
     "output_type": "stream",
     "text": [
      "  Time taken to expand tau_eta: 19.58 seconds.\n",
      "\n",
      "Processing column: tau_phi\n",
      "  Maximum length of lists in tau_phi: 0\n"
     ]
    },
    {
     "name": "stderr",
     "output_type": "stream",
     "text": [
      "Expanding awkward array columns:  64%|██████▎   | 35/55 [12:47<06:27, 19.39s/it]"
     ]
    },
    {
     "name": "stdout",
     "output_type": "stream",
     "text": [
      "  Time taken to expand tau_phi: 17.25 seconds.\n",
      "\n",
      "Processing column: tau_E\n",
      "  Maximum length of lists in tau_E: 0\n"
     ]
    },
    {
     "name": "stderr",
     "output_type": "stream",
     "text": [
      "Expanding awkward array columns:  65%|██████▌   | 36/55 [13:06<06:05, 19.25s/it]"
     ]
    },
    {
     "name": "stdout",
     "output_type": "stream",
     "text": [
      "  Time taken to expand tau_E: 18.93 seconds.\n",
      "\n",
      "Processing column: tau_isTightID\n",
      "  Maximum length of lists in tau_isTightID: 0\n"
     ]
    },
    {
     "name": "stderr",
     "output_type": "stream",
     "text": [
      "Expanding awkward array columns:  67%|██████▋   | 37/55 [13:23<05:34, 18.58s/it]"
     ]
    },
    {
     "name": "stdout",
     "output_type": "stream",
     "text": [
      "  Time taken to expand tau_isTightID: 17.03 seconds.\n",
      "\n",
      "Processing column: tau_truthMatched\n",
      "  Maximum length of lists in tau_truthMatched: 0\n"
     ]
    },
    {
     "name": "stderr",
     "output_type": "stream",
     "text": [
      "Expanding awkward array columns:  69%|██████▉   | 38/55 [13:40<05:07, 18.09s/it]"
     ]
    },
    {
     "name": "stdout",
     "output_type": "stream",
     "text": [
      "  Time taken to expand tau_truthMatched: 16.95 seconds.\n",
      "\n",
      "Processing column: tau_trigMatched\n",
      "  Maximum length of lists in tau_trigMatched: 0\n"
     ]
    },
    {
     "name": "stderr",
     "output_type": "stream",
     "text": [
      "Expanding awkward array columns:  71%|███████   | 39/55 [13:57<04:44, 17.78s/it]"
     ]
    },
    {
     "name": "stdout",
     "output_type": "stream",
     "text": [
      "  Time taken to expand tau_trigMatched: 17.05 seconds.\n",
      "\n",
      "Processing column: tau_nTracks\n",
      "  Maximum length of lists in tau_nTracks: 0\n"
     ]
    },
    {
     "name": "stderr",
     "output_type": "stream",
     "text": [
      "Expanding awkward array columns:  73%|███████▎  | 40/55 [14:14<04:24, 17.63s/it]"
     ]
    },
    {
     "name": "stdout",
     "output_type": "stream",
     "text": [
      "  Time taken to expand tau_nTracks: 17.29 seconds.\n",
      "\n",
      "Processing column: tau_BDTid\n",
      "  Maximum length of lists in tau_BDTid: 0\n"
     ]
    },
    {
     "name": "stderr",
     "output_type": "stream",
     "text": [
      "Expanding awkward array columns:  75%|███████▍  | 41/55 [14:31<04:03, 17.42s/it]"
     ]
    },
    {
     "name": "stdout",
     "output_type": "stream",
     "text": [
      "  Time taken to expand tau_BDTid: 16.93 seconds.\n",
      "\n",
      "Processing column: lep_pt_syst\n",
      "  Maximum length of lists in lep_pt_syst: 4\n"
     ]
    },
    {
     "name": "stderr",
     "output_type": "stream",
     "text": [
      "C:\\Users\\phgil\\AppData\\Local\\Temp\\ipykernel_2308\\3488968663.py:39: PerformanceWarning: DataFrame is highly fragmented.  This is usually the result of calling `frame.insert` many times, which has poor performance.  Consider joining all columns at once using pd.concat(axis=1) instead. To get a de-fragmented frame, use `newframe = frame.copy()`\n",
      "  df[new_col_name] = data\n",
      "C:\\Users\\phgil\\AppData\\Local\\Temp\\ipykernel_2308\\3488968663.py:39: PerformanceWarning: DataFrame is highly fragmented.  This is usually the result of calling `frame.insert` many times, which has poor performance.  Consider joining all columns at once using pd.concat(axis=1) instead. To get a de-fragmented frame, use `newframe = frame.copy()`\n",
      "  df[new_col_name] = data\n",
      "C:\\Users\\phgil\\AppData\\Local\\Temp\\ipykernel_2308\\3488968663.py:39: PerformanceWarning: DataFrame is highly fragmented.  This is usually the result of calling `frame.insert` many times, which has poor performance.  Consider joining all columns at once using pd.concat(axis=1) instead. To get a de-fragmented frame, use `newframe = frame.copy()`\n",
      "  df[new_col_name] = data\n",
      "C:\\Users\\phgil\\AppData\\Local\\Temp\\ipykernel_2308\\3488968663.py:39: PerformanceWarning: DataFrame is highly fragmented.  This is usually the result of calling `frame.insert` many times, which has poor performance.  Consider joining all columns at once using pd.concat(axis=1) instead. To get a de-fragmented frame, use `newframe = frame.copy()`\n",
      "  df[new_col_name] = data\n",
      "Expanding awkward array columns:  76%|███████▋  | 42/55 [14:52<04:01, 18.54s/it]"
     ]
    },
    {
     "name": "stdout",
     "output_type": "stream",
     "text": [
      "  Time taken to expand lep_pt_syst: 21.15 seconds.\n",
      "\n",
      "Processing column: jet_pt_syst\n",
      "  Maximum length of lists in jet_pt_syst: 16\n"
     ]
    },
    {
     "name": "stderr",
     "output_type": "stream",
     "text": [
      "C:\\Users\\phgil\\AppData\\Local\\Temp\\ipykernel_2308\\3488968663.py:39: PerformanceWarning: DataFrame is highly fragmented.  This is usually the result of calling `frame.insert` many times, which has poor performance.  Consider joining all columns at once using pd.concat(axis=1) instead. To get a de-fragmented frame, use `newframe = frame.copy()`\n",
      "  df[new_col_name] = data\n",
      "C:\\Users\\phgil\\AppData\\Local\\Temp\\ipykernel_2308\\3488968663.py:39: PerformanceWarning: DataFrame is highly fragmented.  This is usually the result of calling `frame.insert` many times, which has poor performance.  Consider joining all columns at once using pd.concat(axis=1) instead. To get a de-fragmented frame, use `newframe = frame.copy()`\n",
      "  df[new_col_name] = data\n",
      "C:\\Users\\phgil\\AppData\\Local\\Temp\\ipykernel_2308\\3488968663.py:39: PerformanceWarning: DataFrame is highly fragmented.  This is usually the result of calling `frame.insert` many times, which has poor performance.  Consider joining all columns at once using pd.concat(axis=1) instead. To get a de-fragmented frame, use `newframe = frame.copy()`\n",
      "  df[new_col_name] = data\n",
      "C:\\Users\\phgil\\AppData\\Local\\Temp\\ipykernel_2308\\3488968663.py:39: PerformanceWarning: DataFrame is highly fragmented.  This is usually the result of calling `frame.insert` many times, which has poor performance.  Consider joining all columns at once using pd.concat(axis=1) instead. To get a de-fragmented frame, use `newframe = frame.copy()`\n",
      "  df[new_col_name] = data\n",
      "C:\\Users\\phgil\\AppData\\Local\\Temp\\ipykernel_2308\\3488968663.py:39: PerformanceWarning: DataFrame is highly fragmented.  This is usually the result of calling `frame.insert` many times, which has poor performance.  Consider joining all columns at once using pd.concat(axis=1) instead. To get a de-fragmented frame, use `newframe = frame.copy()`\n",
      "  df[new_col_name] = data\n",
      "C:\\Users\\phgil\\AppData\\Local\\Temp\\ipykernel_2308\\3488968663.py:39: PerformanceWarning: DataFrame is highly fragmented.  This is usually the result of calling `frame.insert` many times, which has poor performance.  Consider joining all columns at once using pd.concat(axis=1) instead. To get a de-fragmented frame, use `newframe = frame.copy()`\n",
      "  df[new_col_name] = data\n",
      "C:\\Users\\phgil\\AppData\\Local\\Temp\\ipykernel_2308\\3488968663.py:39: PerformanceWarning: DataFrame is highly fragmented.  This is usually the result of calling `frame.insert` many times, which has poor performance.  Consider joining all columns at once using pd.concat(axis=1) instead. To get a de-fragmented frame, use `newframe = frame.copy()`\n",
      "  df[new_col_name] = data\n",
      "C:\\Users\\phgil\\AppData\\Local\\Temp\\ipykernel_2308\\3488968663.py:39: PerformanceWarning: DataFrame is highly fragmented.  This is usually the result of calling `frame.insert` many times, which has poor performance.  Consider joining all columns at once using pd.concat(axis=1) instead. To get a de-fragmented frame, use `newframe = frame.copy()`\n",
      "  df[new_col_name] = data\n",
      "C:\\Users\\phgil\\AppData\\Local\\Temp\\ipykernel_2308\\3488968663.py:39: PerformanceWarning: DataFrame is highly fragmented.  This is usually the result of calling `frame.insert` many times, which has poor performance.  Consider joining all columns at once using pd.concat(axis=1) instead. To get a de-fragmented frame, use `newframe = frame.copy()`\n",
      "  df[new_col_name] = data\n",
      "C:\\Users\\phgil\\AppData\\Local\\Temp\\ipykernel_2308\\3488968663.py:39: PerformanceWarning: DataFrame is highly fragmented.  This is usually the result of calling `frame.insert` many times, which has poor performance.  Consider joining all columns at once using pd.concat(axis=1) instead. To get a de-fragmented frame, use `newframe = frame.copy()`\n",
      "  df[new_col_name] = data\n",
      "C:\\Users\\phgil\\AppData\\Local\\Temp\\ipykernel_2308\\3488968663.py:39: PerformanceWarning: DataFrame is highly fragmented.  This is usually the result of calling `frame.insert` many times, which has poor performance.  Consider joining all columns at once using pd.concat(axis=1) instead. To get a de-fragmented frame, use `newframe = frame.copy()`\n",
      "  df[new_col_name] = data\n",
      "C:\\Users\\phgil\\AppData\\Local\\Temp\\ipykernel_2308\\3488968663.py:39: PerformanceWarning: DataFrame is highly fragmented.  This is usually the result of calling `frame.insert` many times, which has poor performance.  Consider joining all columns at once using pd.concat(axis=1) instead. To get a de-fragmented frame, use `newframe = frame.copy()`\n",
      "  df[new_col_name] = data\n",
      "C:\\Users\\phgil\\AppData\\Local\\Temp\\ipykernel_2308\\3488968663.py:39: PerformanceWarning: DataFrame is highly fragmented.  This is usually the result of calling `frame.insert` many times, which has poor performance.  Consider joining all columns at once using pd.concat(axis=1) instead. To get a de-fragmented frame, use `newframe = frame.copy()`\n",
      "  df[new_col_name] = data\n",
      "C:\\Users\\phgil\\AppData\\Local\\Temp\\ipykernel_2308\\3488968663.py:39: PerformanceWarning: DataFrame is highly fragmented.  This is usually the result of calling `frame.insert` many times, which has poor performance.  Consider joining all columns at once using pd.concat(axis=1) instead. To get a de-fragmented frame, use `newframe = frame.copy()`\n",
      "  df[new_col_name] = data\n",
      "C:\\Users\\phgil\\AppData\\Local\\Temp\\ipykernel_2308\\3488968663.py:39: PerformanceWarning: DataFrame is highly fragmented.  This is usually the result of calling `frame.insert` many times, which has poor performance.  Consider joining all columns at once using pd.concat(axis=1) instead. To get a de-fragmented frame, use `newframe = frame.copy()`\n",
      "  df[new_col_name] = data\n",
      "C:\\Users\\phgil\\AppData\\Local\\Temp\\ipykernel_2308\\3488968663.py:39: PerformanceWarning: DataFrame is highly fragmented.  This is usually the result of calling `frame.insert` many times, which has poor performance.  Consider joining all columns at once using pd.concat(axis=1) instead. To get a de-fragmented frame, use `newframe = frame.copy()`\n",
      "  df[new_col_name] = data\n",
      "Expanding awkward array columns:  78%|███████▊  | 43/55 [15:17<04:03, 20.26s/it]"
     ]
    },
    {
     "name": "stdout",
     "output_type": "stream",
     "text": [
      "  Time taken to expand jet_pt_syst: 24.27 seconds.\n",
      "\n",
      "Processing column: photon_pt_syst\n",
      "  Maximum length of lists in photon_pt_syst: 5\n"
     ]
    },
    {
     "name": "stderr",
     "output_type": "stream",
     "text": [
      "C:\\Users\\phgil\\AppData\\Local\\Temp\\ipykernel_2308\\3488968663.py:39: PerformanceWarning: DataFrame is highly fragmented.  This is usually the result of calling `frame.insert` many times, which has poor performance.  Consider joining all columns at once using pd.concat(axis=1) instead. To get a de-fragmented frame, use `newframe = frame.copy()`\n",
      "  df[new_col_name] = data\n",
      "C:\\Users\\phgil\\AppData\\Local\\Temp\\ipykernel_2308\\3488968663.py:39: PerformanceWarning: DataFrame is highly fragmented.  This is usually the result of calling `frame.insert` many times, which has poor performance.  Consider joining all columns at once using pd.concat(axis=1) instead. To get a de-fragmented frame, use `newframe = frame.copy()`\n",
      "  df[new_col_name] = data\n",
      "C:\\Users\\phgil\\AppData\\Local\\Temp\\ipykernel_2308\\3488968663.py:39: PerformanceWarning: DataFrame is highly fragmented.  This is usually the result of calling `frame.insert` many times, which has poor performance.  Consider joining all columns at once using pd.concat(axis=1) instead. To get a de-fragmented frame, use `newframe = frame.copy()`\n",
      "  df[new_col_name] = data\n",
      "C:\\Users\\phgil\\AppData\\Local\\Temp\\ipykernel_2308\\3488968663.py:39: PerformanceWarning: DataFrame is highly fragmented.  This is usually the result of calling `frame.insert` many times, which has poor performance.  Consider joining all columns at once using pd.concat(axis=1) instead. To get a de-fragmented frame, use `newframe = frame.copy()`\n",
      "  df[new_col_name] = data\n",
      "C:\\Users\\phgil\\AppData\\Local\\Temp\\ipykernel_2308\\3488968663.py:39: PerformanceWarning: DataFrame is highly fragmented.  This is usually the result of calling `frame.insert` many times, which has poor performance.  Consider joining all columns at once using pd.concat(axis=1) instead. To get a de-fragmented frame, use `newframe = frame.copy()`\n",
      "  df[new_col_name] = data\n",
      "Expanding awkward array columns:  80%|████████  | 44/55 [15:38<03:48, 20.76s/it]"
     ]
    },
    {
     "name": "stdout",
     "output_type": "stream",
     "text": [
      "  Time taken to expand photon_pt_syst: 21.92 seconds.\n",
      "\n",
      "Processing column: tau_pt_syst\n",
      "  Maximum length of lists in tau_pt_syst: 0\n"
     ]
    },
    {
     "name": "stderr",
     "output_type": "stream",
     "text": [
      "Expanding awkward array columns:  82%|████████▏ | 45/55 [15:57<03:21, 20.14s/it]"
     ]
    },
    {
     "name": "stdout",
     "output_type": "stream",
     "text": [
      "  Time taken to expand tau_pt_syst: 18.69 seconds.\n",
      "\n",
      "Processing column: largeRjet_pt\n",
      "  Maximum length of lists in largeRjet_pt: 0\n"
     ]
    },
    {
     "name": "stderr",
     "output_type": "stream",
     "text": [
      "Expanding awkward array columns:  84%|████████▎ | 46/55 [16:15<02:55, 19.48s/it]"
     ]
    },
    {
     "name": "stdout",
     "output_type": "stream",
     "text": [
      "  Time taken to expand largeRjet_pt: 17.94 seconds.\n",
      "\n",
      "Processing column: largeRjet_eta\n",
      "  Maximum length of lists in largeRjet_eta: 0\n"
     ]
    },
    {
     "name": "stderr",
     "output_type": "stream",
     "text": [
      "Expanding awkward array columns:  85%|████████▌ | 47/55 [16:33<02:31, 18.98s/it]"
     ]
    },
    {
     "name": "stdout",
     "output_type": "stream",
     "text": [
      "  Time taken to expand largeRjet_eta: 17.83 seconds.\n",
      "\n",
      "Processing column: largeRjet_phi\n",
      "  Maximum length of lists in largeRjet_phi: 0\n"
     ]
    },
    {
     "name": "stderr",
     "output_type": "stream",
     "text": [
      "Expanding awkward array columns:  87%|████████▋ | 48/55 [16:51<02:11, 18.79s/it]"
     ]
    },
    {
     "name": "stdout",
     "output_type": "stream",
     "text": [
      "  Time taken to expand largeRjet_phi: 18.35 seconds.\n",
      "\n",
      "Processing column: largeRjet_E\n",
      "  Maximum length of lists in largeRjet_E: 0\n"
     ]
    },
    {
     "name": "stderr",
     "output_type": "stream",
     "text": [
      "Expanding awkward array columns:  89%|████████▉ | 49/55 [17:10<01:53, 18.87s/it]"
     ]
    },
    {
     "name": "stdout",
     "output_type": "stream",
     "text": [
      "  Time taken to expand largeRjet_E: 19.04 seconds.\n",
      "\n",
      "Processing column: largeRjet_m\n",
      "  Maximum length of lists in largeRjet_m: 0\n"
     ]
    },
    {
     "name": "stderr",
     "output_type": "stream",
     "text": [
      "Expanding awkward array columns:  91%|█████████ | 50/55 [17:27<01:31, 18.32s/it]"
     ]
    },
    {
     "name": "stdout",
     "output_type": "stream",
     "text": [
      "  Time taken to expand largeRjet_m: 17.04 seconds.\n",
      "\n",
      "Processing column: largeRjet_truthMatched\n",
      "  Maximum length of lists in largeRjet_truthMatched: 0\n"
     ]
    },
    {
     "name": "stderr",
     "output_type": "stream",
     "text": [
      "Expanding awkward array columns:  93%|█████████▎| 51/55 [17:45<01:12, 18.21s/it]"
     ]
    },
    {
     "name": "stdout",
     "output_type": "stream",
     "text": [
      "  Time taken to expand largeRjet_truthMatched: 17.95 seconds.\n",
      "\n",
      "Processing column: largeRjet_D2\n",
      "  Maximum length of lists in largeRjet_D2: 0\n"
     ]
    },
    {
     "name": "stderr",
     "output_type": "stream",
     "text": [
      "Expanding awkward array columns:  95%|█████████▍| 52/55 [18:03<00:53, 17.92s/it]"
     ]
    },
    {
     "name": "stdout",
     "output_type": "stream",
     "text": [
      "  Time taken to expand largeRjet_D2: 17.24 seconds.\n",
      "\n",
      "Processing column: largeRjet_tau32\n",
      "  Maximum length of lists in largeRjet_tau32: 0\n"
     ]
    },
    {
     "name": "stderr",
     "output_type": "stream",
     "text": [
      "Expanding awkward array columns:  96%|█████████▋| 53/55 [18:20<00:35, 17.86s/it]"
     ]
    },
    {
     "name": "stdout",
     "output_type": "stream",
     "text": [
      "  Time taken to expand largeRjet_tau32: 17.70 seconds.\n",
      "\n",
      "Processing column: largeRjet_pt_syst\n",
      "  Maximum length of lists in largeRjet_pt_syst: 0\n"
     ]
    },
    {
     "name": "stderr",
     "output_type": "stream",
     "text": [
      "Expanding awkward array columns:  98%|█████████▊| 54/55 [18:37<00:17, 17.68s/it]"
     ]
    },
    {
     "name": "stdout",
     "output_type": "stream",
     "text": [
      "  Time taken to expand largeRjet_pt_syst: 17.27 seconds.\n",
      "\n",
      "Processing column: tau_charge\n",
      "  Maximum length of lists in tau_charge: 0\n"
     ]
    },
    {
     "name": "stderr",
     "output_type": "stream",
     "text": [
      "Expanding awkward array columns: 100%|██████████| 55/55 [18:55<00:00, 20.64s/it]"
     ]
    },
    {
     "name": "stdout",
     "output_type": "stream",
     "text": [
      "  Time taken to expand tau_charge: 17.39 seconds.\n"
     ]
    },
    {
     "name": "stderr",
     "output_type": "stream",
     "text": [
      "\n"
     ]
    },
    {
     "name": "stdout",
     "output_type": "stream",
     "text": [
      "Total time taken to expand awkward array columns: 1140.00 seconds\n",
      "Expanded DataFrame head:\n",
      "   runNumber  eventNumber  channelNumber   mcWeight  scaleFactor_PILEUP  \\\n",
      "0     284500      4246580         343981  28.485731            0.696077   \n",
      "1     301932    242211722         301932   0.000000            0.000000   \n",
      "2     284500        56490         345041   3.749917            1.214122   \n",
      "3     301932   -163493589         301932   0.000000            0.000000   \n",
      "4     284500      3977190         343981  28.485731            0.750880   \n",
      "\n",
      "   scaleFactor_ELE  scaleFactor_MUON  scaleFactor_PHOTON  scaleFactor_TAU  \\\n",
      "0              1.0               1.0            0.995786              1.0   \n",
      "1              0.0               0.0            0.000000              0.0   \n",
      "2              1.0               1.0            1.005498              1.0   \n",
      "3              0.0               0.0            0.000000              0.0   \n",
      "4              1.0               1.0            1.002282              1.0   \n",
      "\n",
      "   scaleFactor_BTAG  ...  jet_pt_syst11  jet_pt_syst12  jet_pt_syst13  \\\n",
      "0          0.998468  ...            0.0            0.0            0.0   \n",
      "1          0.000000  ...            0.0            0.0            0.0   \n",
      "2          0.998150  ...            0.0            0.0            0.0   \n",
      "3          0.000000  ...            0.0            0.0            0.0   \n",
      "4          1.012842  ...            0.0            0.0            0.0   \n",
      "\n",
      "   jet_pt_syst14  jet_pt_syst15  photon_pt_syst0  photon_pt_syst1  \\\n",
      "0            0.0            0.0      1996.221558       336.990051   \n",
      "1            0.0            0.0         0.000000         0.000000   \n",
      "2            0.0            0.0       620.069397       196.208817   \n",
      "3            0.0            0.0         0.000000         0.000000   \n",
      "4            0.0            0.0       362.847809       207.096832   \n",
      "\n",
      "   photon_pt_syst2  photon_pt_syst3  photon_pt_syst4  \n",
      "0              0.0              0.0              0.0  \n",
      "1              0.0              0.0              0.0  \n",
      "2              0.0              0.0              0.0  \n",
      "3              0.0              0.0              0.0  \n",
      "4              0.0              0.0              0.0  \n",
      "\n",
      "[5 rows x 286 columns]\n"
     ]
    }
   ],
   "source": [
    "import pandas as pd\n",
    "import awkward as ak\n",
    "from tqdm import tqdm\n",
    "import time\n",
    "\n",
    "def expand_awkward_columns(df):\n",
    "    \"\"\"\n",
    "    Expands columns in a DataFrame that contain awkward arrays into separate columns.\n",
    "    For example, a column 'photon_E' with values [E1, E2, E3] will be expanded into \n",
    "    'photon_E0', 'photon_E1', 'photon_E2'. Shorter lists are padded with zeros.\n",
    "\n",
    "    :param df: The DataFrame containing columns to expand.\n",
    "    :return: The DataFrame with expanded columns.\n",
    "    \"\"\"\n",
    "    # Identify columns that contain awkward arrays\n",
    "    awkward_columns = [col for col in df.columns if isinstance(df[col].iloc[0], ak.Array)]\n",
    "    \n",
    "    print(f\"Found {len(awkward_columns)} columns with awkward array values.\")\n",
    "    \n",
    "    for col in tqdm(awkward_columns, desc=\"Expanding awkward array columns\"):\n",
    "        print(f\"\\nProcessing column: {col}\")\n",
    "        start_time = time.time()\n",
    "        \n",
    "        # Convert the awkward array to a list of lists (ragged array)\n",
    "        lists = ak.to_list(df[col])\n",
    "        \n",
    "        # Determine the maximum length of the lists in the column\n",
    "        max_len = max(len(sublist) for sublist in lists)\n",
    "        print(f\"  Maximum length of lists in {col}: {max_len}\")\n",
    "        \n",
    "        # Create new columns for each entry in the list\n",
    "        new_columns = {}\n",
    "        for i in range(max_len):\n",
    "            new_col_name = f\"{col}{i}\"\n",
    "            new_columns[new_col_name] = [sublist[i] if i < len(sublist) else 0 for sublist in lists]\n",
    "        \n",
    "        # Assign new columns to the DataFrame\n",
    "        for new_col_name, data in new_columns.items():\n",
    "            df[new_col_name] = data\n",
    "        \n",
    "        # Drop the original column\n",
    "        df.drop(columns=[col], inplace=True)\n",
    "        \n",
    "        end_time = time.time()\n",
    "        print(f\"  Time taken to expand {col}: {end_time - start_time:.2f} seconds.\")\n",
    "    \n",
    "    return df.copy()\n",
    "\n",
    "# Assuming `combined_df` is the DataFrame you are working with\n",
    "print(\"Expanding awkward array columns in the DataFrame...\")\n",
    "start_time = time.time()\n",
    "expanded_df = expand_awkward_columns(balanced_df)\n",
    "end_time = time.time()\n",
    "print(f\"Total time taken to expand awkward array columns: {end_time - start_time:.2f} seconds\")\n",
    "\n",
    "# Check the expanded DataFrame\n",
    "print(\"Expanded DataFrame head:\")\n",
    "print(expanded_df.head())\n"
   ]
  },
  {
   "cell_type": "code",
   "execution_count": 4,
   "metadata": {},
   "outputs": [
    {
     "name": "stdout",
     "output_type": "stream",
     "text": [
      "Removed columns due to perfect separation: ['runNumber', 'channelNumber', 'mcWeight', 'scaleFactor_ELE', 'scaleFactor_MUON', 'scaleFactor_PHOTON', 'scaleFactor_TAU', 'scaleFactor_BTAG', 'scaleFactor_LepTRIGGER', 'XSection', 'SumWeights', 'photon_pt_syst0', 'photon_pt_syst1']\n",
      "Cleaned DataFrame head:\n",
      "   eventNumber  scaleFactor_PILEUP  scaleFactor_PhotonTRIGGER  trigE  trigM  \\\n",
      "0      4246580            0.696077                   0.995786  False  False   \n",
      "1    242211722            0.000000                   0.000000  False  False   \n",
      "2        56490            1.214122                   1.005498  False  False   \n",
      "3   -163493589            0.000000                   0.000000  False  False   \n",
      "4      3977190            0.750880                   1.002282  False  False   \n",
      "\n",
      "   trigP  lep_n        met_et   met_phi  jet_n  ...  jet_pt_syst9  \\\n",
      "0   True      0  51045.160156  2.794363      3  ...           0.0   \n",
      "1   True      0  43901.460938 -0.197949      1  ...           0.0   \n",
      "2   True      0  58347.421875 -0.033184      3  ...           0.0   \n",
      "3   True      0  16311.075195 -0.042286      0  ...           0.0   \n",
      "4   True      0  43917.437500 -1.083709      1  ...           0.0   \n",
      "\n",
      "   jet_pt_syst10  jet_pt_syst11  jet_pt_syst12  jet_pt_syst13  jet_pt_syst14  \\\n",
      "0            0.0            0.0            0.0            0.0            0.0   \n",
      "1            0.0            0.0            0.0            0.0            0.0   \n",
      "2            0.0            0.0            0.0            0.0            0.0   \n",
      "3            0.0            0.0            0.0            0.0            0.0   \n",
      "4            0.0            0.0            0.0            0.0            0.0   \n",
      "\n",
      "  jet_pt_syst15 photon_pt_syst2 photon_pt_syst3 photon_pt_syst4  \n",
      "0           0.0             0.0             0.0             0.0  \n",
      "1           0.0             0.0             0.0             0.0  \n",
      "2           0.0             0.0             0.0             0.0  \n",
      "3           0.0             0.0             0.0             0.0  \n",
      "4           0.0             0.0             0.0             0.0  \n",
      "\n",
      "[5 rows x 273 columns]\n"
     ]
    }
   ],
   "source": [
    "import pandas as pd\n",
    "\n",
    "def check_and_remove_perfect_separation(df, label_column='isHiggs'):\n",
    "    \"\"\"\n",
    "    Checks if any feature (column) in the DataFrame perfectly separates the label column.\n",
    "    If a column perfectly separates, it is removed from the DataFrame.\n",
    "    \n",
    "    :param df: The DataFrame containing features and the label column.\n",
    "    :param label_column: The name of the label column (default is 'isHiggs').\n",
    "    :return: The DataFrame with perfectly separating columns removed, and a list of removed columns.\n",
    "    \"\"\"\n",
    "    columns_to_remove = []\n",
    "    for column in df.columns:\n",
    "        if column == label_column:\n",
    "            continue\n",
    "        unique_values = df.groupby(column)[label_column].nunique()\n",
    "        if unique_values.max() == 1:  # If any unique value of the feature corresponds to only one label\n",
    "            columns_to_remove.append(column)\n",
    "    \n",
    "    df = df.drop(columns=columns_to_remove)\n",
    "    return df, columns_to_remove\n",
    "\n",
    "# Check for perfect separation and remove the problematic columns\n",
    "cleaned_df, removed_columns = check_and_remove_perfect_separation(expanded_df)\n",
    "\n",
    "# Display the columns that were removed\n",
    "print(\"Removed columns due to perfect separation:\", removed_columns)\n",
    "\n",
    "# Check the cleaned DataFrame\n",
    "print(\"Cleaned DataFrame head:\")\n",
    "print(cleaned_df.head())\n"
   ]
  },
  {
   "cell_type": "code",
   "execution_count": 5,
   "metadata": {},
   "outputs": [
    {
     "name": "stdout",
     "output_type": "stream",
     "text": [
      "Writing the DataFrame to CSV...\n",
      "DataFrame successfully written to cleaned_dataframe.csv.\n",
      "Time taken to write the DataFrame to CSV: 103.09 seconds\n"
     ]
    }
   ],
   "source": [
    "import pandas as pd\n",
    "\n",
    "# Assuming `expanded_df` is the DataFrame you have after expanding awkward arrays\n",
    "\n",
    "# Define the output file path\n",
    "output_file = \"cleaned_dataframe.csv\"\n",
    "\n",
    "print(\"Writing the DataFrame to CSV...\")\n",
    "start_time = time.time()\n",
    "\n",
    "# Write the DataFrame to a CSV file\n",
    "cleaned_df.to_csv(output_file, index=False)\n",
    "\n",
    "end_time = time.time()\n",
    "print(f\"DataFrame successfully written to {output_file}.\")\n",
    "print(f\"Time taken to write the DataFrame to CSV: {end_time - start_time:.2f} seconds\")\n"
   ]
  },
  {
   "cell_type": "code",
   "execution_count": 6,
   "metadata": {},
   "outputs": [
    {
     "name": "stdout",
     "output_type": "stream",
     "text": [
      "Calculating mean and variance for each column...\n",
      "\n",
      "Column: eventNumber\n",
      "  Mean: 234056983.116386\n",
      "  Variance: 741930878973538176.000000\n",
      "\n",
      "Column: scaleFactor_PILEUP\n",
      "  Mean: 0.371050\n",
      "  Variance: 0.284737\n",
      "\n",
      "Column: scaleFactor_PhotonTRIGGER\n",
      "  Mean: 0.369846\n",
      "  Variance: 0.232180\n",
      "\n",
      "Column: trigE\n",
      "  Mean: 0.000000\n",
      "  Variance: 0.000000\n",
      "\n",
      "Column: trigM\n",
      "  Mean: 0.000000\n",
      "  Variance: 0.000000\n",
      "\n",
      "Column: trigP\n",
      "  Mean: 1.000000\n",
      "  Variance: 0.000000\n",
      "\n",
      "Column: lep_n\n",
      "  Mean: 0.047355\n",
      "  Variance: 0.056126\n",
      "\n",
      "Column: met_et\n",
      "  Mean: 40003.773438\n",
      "  Variance: 1366780672.000000\n",
      "\n",
      "Column: met_phi\n",
      "  Mean: -0.009746\n",
      "  Variance: 3.295479\n",
      "\n",
      "Column: jet_n\n",
      "  Mean: 1.603845\n",
      "  Variance: 3.133579\n",
      "\n",
      "Column: photon_n\n",
      "  Mean: 2.008041\n",
      "  Variance: 0.008149\n",
      "\n",
      "Column: tau_n\n",
      "  Mean: 0.000000\n",
      "  Variance: 0.000000\n",
      "\n",
      "Column: ditau_m\n",
      "  Mean: 0.000000\n",
      "  Variance: 0.000000\n",
      "\n",
      "Column: met_et_syst\n",
      "  Mean: 3605.498047\n",
      "  Variance: 71407488.000000\n",
      "\n",
      "Column: largeRjet_n\n",
      "  Mean: 0.000000\n",
      "  Variance: 0.000000\n",
      "\n",
      "Column: isHiggs\n",
      "  Mean: 0.370838\n",
      "  Variance: 0.233317\n",
      "\n",
      "Column: lep_truthMatched0 is non-numeric and skipped.\n",
      "\n",
      "Column: lep_truthMatched1 is non-numeric and skipped.\n",
      "\n",
      "Column: lep_truthMatched2 is non-numeric and skipped.\n",
      "\n",
      "Column: lep_truthMatched3 is non-numeric and skipped.\n",
      "\n",
      "Column: lep_trigMatched0 is non-numeric and skipped.\n",
      "\n",
      "Column: lep_trigMatched1 is non-numeric and skipped.\n",
      "\n",
      "Column: lep_trigMatched2 is non-numeric and skipped.\n",
      "\n",
      "Column: lep_trigMatched3 is non-numeric and skipped.\n",
      "\n",
      "Column: lep_pt0\n",
      "  Mean: 2340.484605\n",
      "  Variance: 460558338.530817\n",
      "\n",
      "Column: lep_pt1\n",
      "  Mean: 175.225001\n",
      "  Variance: 9145007.825108\n",
      "\n",
      "Column: lep_pt2\n",
      "  Mean: 1.268177\n",
      "  Variance: 21905.647217\n",
      "\n",
      "Column: lep_pt3\n",
      "  Mean: 0.009067\n",
      "  Variance: 109.673435\n",
      "\n",
      "Column: lep_eta0\n",
      "  Mean: -0.000576\n",
      "  Variance: 0.056357\n",
      "\n",
      "Column: lep_eta1\n",
      "  Mean: 0.000005\n",
      "  Variance: 0.007687\n",
      "\n",
      "Column: lep_eta2\n",
      "  Mean: -0.000005\n",
      "  Variance: 0.000132\n",
      "\n",
      "Column: lep_eta3\n",
      "  Mean: 0.000001\n",
      "  Variance: 0.000001\n",
      "\n",
      "Column: lep_phi0\n",
      "  Mean: -0.000095\n",
      "  Variance: 0.136365\n",
      "\n",
      "Column: lep_phi1\n",
      "  Mean: -0.000147\n",
      "  Variance: 0.017655\n",
      "\n",
      "Column: lep_phi2\n",
      "  Mean: -0.000003\n",
      "  Variance: 0.000308\n",
      "\n",
      "Column: lep_phi3\n",
      "  Mean: 0.000001\n",
      "  Variance: 0.000002\n",
      "\n",
      "Column: lep_E0\n",
      "  Mean: 4046.287394\n",
      "  Variance: 1064806670.868819\n",
      "\n",
      "Column: lep_E1\n",
      "  Mean: 327.621847\n",
      "  Variance: 40489001.161436\n",
      "\n",
      "Column: lep_E2\n",
      "  Mean: 2.356998\n",
      "  Variance: 100841.174400\n",
      "\n",
      "Column: lep_E3\n",
      "  Mean: 0.015545\n",
      "  Variance: 322.348744\n",
      "\n",
      "Column: lep_z00\n",
      "  Mean: -0.000226\n",
      "  Variance: 14.865310\n",
      "\n",
      "Column: lep_z01\n",
      "  Mean: -0.000426\n",
      "  Variance: 0.956363\n",
      "\n",
      "Column: lep_z02\n",
      "  Mean: -0.000142\n",
      "  Variance: 0.088110\n",
      "\n",
      "Column: lep_z03\n",
      "  Mean: 0.000000\n",
      "  Variance: 0.000000\n",
      "\n",
      "Column: lep_charge0\n",
      "  Mean: 0.003647\n",
      "  Variance: 0.041935\n",
      "\n",
      "Column: lep_charge1\n",
      "  Mean: -0.000028\n",
      "  Variance: 0.005309\n",
      "\n",
      "Column: lep_charge2\n",
      "  Mean: 0.000001\n",
      "  Variance: 0.000097\n",
      "\n",
      "Column: lep_charge3\n",
      "  Mean: 0.000001\n",
      "  Variance: 0.000001\n",
      "\n",
      "Column: lep_type0\n",
      "  Mean: 0.504204\n",
      "  Variance: 5.848121\n",
      "\n",
      "Column: lep_type1\n",
      "  Mean: 0.064112\n",
      "  Variance: 0.775366\n",
      "\n",
      "Column: lep_type2\n",
      "  Mean: 0.001172\n",
      "  Variance: 0.014202\n",
      "\n",
      "Column: lep_type3\n",
      "  Mean: 0.000010\n",
      "  Variance: 0.000127\n",
      "\n",
      "Column: lep_isTightID0 is non-numeric and skipped.\n",
      "\n",
      "Column: lep_isTightID1 is non-numeric and skipped.\n",
      "\n",
      "Column: lep_isTightID2 is non-numeric and skipped.\n",
      "\n",
      "Column: lep_isTightID3 is non-numeric and skipped.\n",
      "\n",
      "Column: lep_ptcone300\n",
      "  Mean: 38.869626\n",
      "  Variance: 846277.259171\n",
      "\n",
      "Column: lep_ptcone301\n",
      "  Mean: 5.133946\n",
      "  Variance: 139275.549564\n",
      "\n",
      "Column: lep_ptcone302\n",
      "  Mean: 0.300020\n",
      "  Variance: 2637.263261\n",
      "\n",
      "Column: lep_ptcone303\n",
      "  Mean: 0.000000\n",
      "  Variance: 0.000000\n",
      "\n",
      "Column: lep_etcone200\n",
      "  Mean: 15.453285\n",
      "  Variance: 92214.191762\n",
      "\n",
      "Column: lep_etcone201\n",
      "  Mean: 1.990624\n",
      "  Variance: 10342.939221\n",
      "\n",
      "Column: lep_etcone202\n",
      "  Mean: 0.084925\n",
      "  Variance: 401.731294\n",
      "\n",
      "Column: lep_etcone203\n",
      "  Mean: 0.000208\n",
      "  Variance: 0.057975\n",
      "\n",
      "Column: lep_trackd0pvunbiased0\n",
      "  Mean: -0.000217\n",
      "  Variance: 0.014142\n",
      "\n",
      "Column: lep_trackd0pvunbiased1\n",
      "  Mean: 0.000003\n",
      "  Variance: 0.000415\n",
      "\n",
      "Column: lep_trackd0pvunbiased2\n",
      "  Mean: -0.000001\n",
      "  Variance: 0.000006\n",
      "\n",
      "Column: lep_trackd0pvunbiased3\n",
      "  Mean: 0.000000\n",
      "  Variance: 0.000000\n",
      "\n",
      "Column: lep_tracksigd0pvunbiased0\n",
      "  Mean: 0.202382\n",
      "  Variance: 26.231151\n",
      "\n",
      "Column: lep_tracksigd0pvunbiased1\n",
      "  Mean: 0.015369\n",
      "  Variance: 0.513589\n",
      "\n",
      "Column: lep_tracksigd0pvunbiased2\n",
      "  Mean: 0.000789\n",
      "  Variance: 0.021120\n",
      "\n",
      "Column: lep_tracksigd0pvunbiased3\n",
      "  Mean: 0.000028\n",
      "  Variance: 0.001030\n",
      "\n",
      "Column: jet_pt0\n",
      "  Mean: 51332.064269\n",
      "  Variance: 4554091780.936624\n",
      "\n",
      "Column: jet_pt1\n",
      "  Mean: 20224.086618\n",
      "  Variance: 1356469912.248346\n",
      "\n",
      "Column: jet_pt2\n",
      "  Mean: 9337.863362\n",
      "  Variance: 511872636.591760\n",
      "\n",
      "Column: jet_pt3\n",
      "  Mean: 4880.278827\n",
      "  Variance: 228264150.133253\n",
      "\n",
      "Column: jet_pt4\n",
      "  Mean: 2688.802929\n",
      "  Variance: 106604781.896586\n",
      "\n",
      "Column: jet_pt5\n",
      "  Mean: 1463.079845\n",
      "  Variance: 49949058.450916\n",
      "\n",
      "Column: jet_pt6\n",
      "  Mean: 736.697809\n",
      "  Variance: 22321695.753865\n",
      "\n",
      "Column: jet_pt7\n",
      "  Mean: 334.363443\n",
      "  Variance: 9253595.502829\n",
      "\n",
      "Column: jet_pt8\n",
      "  Mean: 134.986123\n",
      "  Variance: 3495741.020718\n",
      "\n",
      "Column: jet_pt9\n",
      "  Mean: 49.585933\n",
      "  Variance: 1229174.310233\n",
      "\n",
      "Column: jet_pt10\n",
      "  Mean: 15.972503\n",
      "  Variance: 383862.514375\n",
      "\n",
      "Column: jet_pt11\n",
      "  Mean: 4.805196\n",
      "  Variance: 111076.101625\n",
      "\n",
      "Column: jet_pt12\n",
      "  Mean: 1.160591\n",
      "  Variance: 26699.305662\n",
      "\n",
      "Column: jet_pt13\n",
      "  Mean: 0.233584\n",
      "  Variance: 5246.301602\n",
      "\n",
      "Column: jet_pt14\n",
      "  Mean: 0.065735\n",
      "  Variance: 1443.275970\n",
      "\n",
      "Column: jet_pt15\n",
      "  Mean: 0.046455\n",
      "  Variance: 960.147239\n",
      "\n",
      "Column: jet_eta0\n",
      "  Mean: 0.001638\n",
      "  Variance: 1.181510\n",
      "\n",
      "Column: jet_eta1\n",
      "  Mean: 0.002024\n",
      "  Variance: 0.656310\n",
      "\n",
      "Column: jet_eta2\n",
      "  Mean: 0.000180\n",
      "  Variance: 0.335682\n",
      "\n",
      "Column: jet_eta3\n",
      "  Mean: -0.000118\n",
      "  Variance: 0.189517\n",
      "\n",
      "Column: jet_eta4\n",
      "  Mean: 0.000485\n",
      "  Variance: 0.117273\n",
      "\n",
      "Column: jet_eta5\n",
      "  Mean: 0.000270\n",
      "  Variance: 0.072187\n",
      "\n",
      "Column: jet_eta6\n",
      "  Mean: -0.000025\n",
      "  Variance: 0.040475\n",
      "\n",
      "Column: jet_eta7\n",
      "  Mean: 0.000243\n",
      "  Variance: 0.020002\n",
      "\n",
      "Column: jet_eta8\n",
      "  Mean: 0.000046\n",
      "  Variance: 0.008399\n",
      "\n",
      "Column: jet_eta9\n",
      "  Mean: 0.000007\n",
      "  Variance: 0.003306\n",
      "\n",
      "Column: jet_eta10\n",
      "  Mean: 0.000019\n",
      "  Variance: 0.001001\n",
      "\n",
      "Column: jet_eta11\n",
      "  Mean: 0.000010\n",
      "  Variance: 0.000332\n",
      "\n",
      "Column: jet_eta12\n",
      "  Mean: 0.000008\n",
      "  Variance: 0.000065\n",
      "\n",
      "Column: jet_eta13\n",
      "  Mean: 0.000003\n",
      "  Variance: 0.000015\n",
      "\n",
      "Column: jet_eta14\n",
      "  Mean: 0.000003\n",
      "  Variance: 0.000006\n",
      "\n",
      "Column: jet_eta15\n",
      "  Mean: -0.000001\n",
      "  Variance: 0.000001\n",
      "\n",
      "Column: jet_phi0\n",
      "  Mean: 0.003618\n",
      "  Variance: 2.303877\n",
      "\n",
      "Column: jet_phi1\n",
      "  Mean: 0.001960\n",
      "  Variance: 1.300574\n",
      "\n",
      "Column: jet_phi2\n",
      "  Mean: 0.000323\n",
      "  Variance: 0.698729\n",
      "\n",
      "Column: jet_phi3\n",
      "  Mean: 0.000475\n",
      "  Variance: 0.404732\n",
      "\n",
      "Column: jet_phi4\n",
      "  Mean: -0.000166\n",
      "  Variance: 0.252758\n",
      "\n",
      "Column: jet_phi5\n",
      "  Mean: -0.000672\n",
      "  Variance: 0.154009\n",
      "\n",
      "Column: jet_phi6\n",
      "  Mean: 0.000102\n",
      "  Variance: 0.086292\n",
      "\n",
      "Column: jet_phi7\n",
      "  Mean: -0.000510\n",
      "  Variance: 0.042289\n",
      "\n",
      "Column: jet_phi8\n",
      "  Mean: 0.000135\n",
      "  Variance: 0.017698\n",
      "\n",
      "Column: jet_phi9\n",
      "  Mean: 0.000008\n",
      "  Variance: 0.006707\n",
      "\n",
      "Column: jet_phi10\n",
      "  Mean: -0.000104\n",
      "  Variance: 0.002249\n",
      "\n",
      "Column: jet_phi11\n",
      "  Mean: 0.000059\n",
      "  Variance: 0.000692\n",
      "\n",
      "Column: jet_phi12\n",
      "  Mean: -0.000000\n",
      "  Variance: 0.000156\n",
      "\n",
      "Column: jet_phi13\n",
      "  Mean: -0.000007\n",
      "  Variance: 0.000033\n",
      "\n",
      "Column: jet_phi14\n",
      "  Mean: 0.000000\n",
      "  Variance: 0.000007\n",
      "\n",
      "Column: jet_phi15\n",
      "  Mean: -0.000000\n",
      "  Variance: 0.000003\n",
      "\n",
      "Column: jet_E0\n",
      "  Mean: 105026.196637\n",
      "  Variance: 25309072277.045395\n",
      "\n",
      "Column: jet_E1\n",
      "  Mean: 40726.526954\n",
      "  Variance: 6921242231.114641\n",
      "\n",
      "Column: jet_E2\n",
      "  Mean: 18399.257552\n",
      "  Variance: 2534668253.058236\n",
      "\n",
      "Column: jet_E3\n",
      "  Mean: 9574.229048\n",
      "  Variance: 1137916431.543910\n",
      "\n",
      "Column: jet_E4\n",
      "  Mean: 5298.156083\n",
      "  Variance: 540469785.148499\n",
      "\n",
      "Column: jet_E5\n",
      "  Mean: 2918.253919\n",
      "  Variance: 264419053.100362\n",
      "\n",
      "Column: jet_E6\n",
      "  Mean: 1488.215753\n",
      "  Variance: 123030918.487662\n",
      "\n",
      "Column: jet_E7\n",
      "  Mean: 683.732357\n",
      "  Variance: 52746725.113178\n",
      "\n",
      "Column: jet_E8\n",
      "  Mean: 274.796487\n",
      "  Variance: 19854127.552599\n",
      "\n",
      "Column: jet_E9\n",
      "  Mean: 103.028884\n",
      "  Variance: 7331996.621494\n",
      "\n",
      "Column: jet_E10\n",
      "  Mean: 31.723663\n",
      "  Variance: 2117479.641814\n",
      "\n",
      "Column: jet_E11\n",
      "  Mean: 10.045015\n",
      "  Variance: 707418.614063\n",
      "\n",
      "Column: jet_E12\n",
      "  Mean: 2.159892\n",
      "  Variance: 130021.807483\n",
      "\n",
      "Column: jet_E13\n",
      "  Mean: 0.455887\n",
      "  Variance: 29735.061353\n",
      "\n",
      "Column: jet_E14\n",
      "  Mean: 0.151747\n",
      "  Variance: 9524.234833\n",
      "\n",
      "Column: jet_E15\n",
      "  Mean: 0.054376\n",
      "  Variance: 1329.531707\n",
      "\n",
      "Column: jet_jvt0\n",
      "  Mean: 0.668878\n",
      "  Variance: 0.203687\n",
      "\n",
      "Column: jet_jvt1\n",
      "  Mean: 0.375895\n",
      "  Variance: 0.222500\n",
      "\n",
      "Column: jet_jvt2\n",
      "  Mean: 0.201114\n",
      "  Variance: 0.154001\n",
      "\n",
      "Column: jet_jvt3\n",
      "  Mean: 0.117537\n",
      "  Variance: 0.100022\n",
      "\n",
      "Column: jet_jvt4\n",
      "  Mean: 0.073383\n",
      "  Variance: 0.065683\n",
      "\n",
      "Column: jet_jvt5\n",
      "  Mean: 0.044897\n",
      "  Variance: 0.041382\n",
      "\n",
      "Column: jet_jvt6\n",
      "  Mean: 0.024784\n",
      "  Variance: 0.023266\n",
      "\n",
      "Column: jet_jvt7\n",
      "  Mean: 0.012006\n",
      "  Variance: 0.011377\n",
      "\n",
      "Column: jet_jvt8\n",
      "  Mean: 0.005090\n",
      "  Variance: 0.004848\n",
      "\n",
      "Column: jet_jvt9\n",
      "  Mean: 0.001921\n",
      "  Variance: 0.001832\n",
      "\n",
      "Column: jet_jvt10\n",
      "  Mean: 0.000632\n",
      "  Variance: 0.000601\n",
      "\n",
      "Column: jet_jvt11\n",
      "  Mean: 0.000196\n",
      "  Variance: 0.000187\n",
      "\n",
      "Column: jet_jvt12\n",
      "  Mean: 0.000048\n",
      "  Variance: 0.000046\n",
      "\n",
      "Column: jet_jvt13\n",
      "  Mean: 0.000010\n",
      "  Variance: 0.000009\n",
      "\n",
      "Column: jet_jvt14\n",
      "  Mean: 0.000003\n",
      "  Variance: 0.000002\n",
      "\n",
      "Column: jet_jvt15\n",
      "  Mean: 0.000002\n",
      "  Variance: 0.000002\n",
      "\n",
      "Column: jet_trueflav0\n",
      "  Mean: 0.366459\n",
      "  Variance: 1.897231\n",
      "\n",
      "Column: jet_trueflav1\n",
      "  Mean: 0.291828\n",
      "  Variance: 1.615605\n",
      "\n",
      "Column: jet_trueflav2\n",
      "  Mean: 0.210677\n",
      "  Variance: 1.266222\n",
      "\n",
      "Column: jet_trueflav3\n",
      "  Mean: 0.149049\n",
      "  Variance: 0.943778\n",
      "\n",
      "Column: jet_trueflav4\n",
      "  Mean: 0.093182\n",
      "  Variance: 0.594102\n",
      "\n",
      "Column: jet_trueflav5\n",
      "  Mean: 0.052044\n",
      "  Variance: 0.327784\n",
      "\n",
      "Column: jet_trueflav6\n",
      "  Mean: 0.024893\n",
      "  Variance: 0.152460\n",
      "\n",
      "Column: jet_trueflav7\n",
      "  Mean: 0.010286\n",
      "  Variance: 0.061082\n",
      "\n",
      "Column: jet_trueflav8\n",
      "  Mean: 0.003922\n",
      "  Variance: 0.022534\n",
      "\n",
      "Column: jet_trueflav9\n",
      "  Mean: 0.001295\n",
      "  Variance: 0.007302\n",
      "\n",
      "Column: jet_trueflav10\n",
      "  Mean: 0.000481\n",
      "  Variance: 0.003049\n",
      "\n",
      "Column: jet_trueflav11\n",
      "  Mean: 0.000139\n",
      "  Variance: 0.000768\n",
      "\n",
      "Column: jet_trueflav12\n",
      "  Mean: 0.000029\n",
      "  Variance: 0.000128\n",
      "\n",
      "Column: jet_trueflav13\n",
      "  Mean: 0.000010\n",
      "  Variance: 0.000043\n",
      "\n",
      "Column: jet_trueflav14\n",
      "  Mean: 0.000000\n",
      "  Variance: 0.000000\n",
      "\n",
      "Column: jet_trueflav15\n",
      "  Mean: 0.000000\n",
      "  Variance: 0.000000\n",
      "\n",
      "Column: jet_truthMatched0 is non-numeric and skipped.\n",
      "\n",
      "Column: jet_truthMatched1 is non-numeric and skipped.\n",
      "\n",
      "Column: jet_truthMatched2 is non-numeric and skipped.\n",
      "\n",
      "Column: jet_truthMatched3 is non-numeric and skipped.\n",
      "\n",
      "Column: jet_truthMatched4 is non-numeric and skipped.\n",
      "\n",
      "Column: jet_truthMatched5 is non-numeric and skipped.\n",
      "\n",
      "Column: jet_truthMatched6 is non-numeric and skipped.\n",
      "\n",
      "Column: jet_truthMatched7 is non-numeric and skipped.\n",
      "\n",
      "Column: jet_truthMatched8 is non-numeric and skipped.\n",
      "\n",
      "Column: jet_truthMatched9 is non-numeric and skipped.\n",
      "\n",
      "Column: jet_truthMatched10 is non-numeric and skipped.\n",
      "\n",
      "Column: jet_truthMatched11 is non-numeric and skipped.\n",
      "\n",
      "Column: jet_truthMatched12 is non-numeric and skipped.\n",
      "\n",
      "Column: jet_truthMatched13 is non-numeric and skipped.\n",
      "\n",
      "Column: jet_truthMatched14 is non-numeric and skipped.\n",
      "\n",
      "Column: jet_truthMatched15 is non-numeric and skipped.\n",
      "\n",
      "Column: jet_MV2c100\n",
      "  Mean: -0.368107\n",
      "  Variance: 0.268689\n",
      "\n",
      "Column: jet_MV2c101\n",
      "  Mean: -0.188714\n",
      "  Variance: 0.189272\n",
      "\n",
      "Column: jet_MV2c102\n",
      "  Mean: -0.094100\n",
      "  Variance: 0.112287\n",
      "\n",
      "Column: jet_MV2c103\n",
      "  Mean: -0.053177\n",
      "  Variance: 0.068428\n",
      "\n",
      "Column: jet_MV2c104\n",
      "  Mean: -0.034473\n",
      "  Variance: 0.043010\n",
      "\n",
      "Column: jet_MV2c105\n",
      "  Mean: -0.022464\n",
      "  Variance: 0.026225\n",
      "\n",
      "Column: jet_MV2c106\n",
      "  Mean: -0.013191\n",
      "  Variance: 0.014465\n",
      "\n",
      "Column: jet_MV2c107\n",
      "  Mean: -0.006826\n",
      "  Variance: 0.006999\n",
      "\n",
      "Column: jet_MV2c108\n",
      "  Mean: -0.002950\n",
      "  Variance: 0.002979\n",
      "\n",
      "Column: jet_MV2c109\n",
      "  Mean: -0.001156\n",
      "  Variance: 0.001130\n",
      "\n",
      "Column: jet_MV2c1010\n",
      "  Mean: -0.000362\n",
      "  Variance: 0.000362\n",
      "\n",
      "Column: jet_MV2c1011\n",
      "  Mean: -0.000120\n",
      "  Variance: 0.000117\n",
      "\n",
      "Column: jet_MV2c1012\n",
      "  Mean: -0.000031\n",
      "  Variance: 0.000029\n",
      "\n",
      "Column: jet_MV2c1013\n",
      "  Mean: -0.000004\n",
      "  Variance: 0.000005\n",
      "\n",
      "Column: jet_MV2c1014\n",
      "  Mean: -0.000002\n",
      "  Variance: 0.000002\n",
      "\n",
      "Column: jet_MV2c1015\n",
      "  Mean: -0.000002\n",
      "  Variance: 0.000001\n",
      "\n",
      "Column: photon_truthMatched0 is non-numeric and skipped.\n",
      "\n",
      "Column: photon_truthMatched1 is non-numeric and skipped.\n",
      "\n",
      "Column: photon_truthMatched2 is non-numeric and skipped.\n",
      "\n",
      "Column: photon_truthMatched3 is non-numeric and skipped.\n",
      "\n",
      "Column: photon_truthMatched4 is non-numeric and skipped.\n",
      "\n",
      "Column: photon_trigMatched0\n",
      "  Mean: 0.999941\n",
      "  Variance: 0.000059\n",
      "\n",
      "Column: photon_trigMatched1\n",
      "  Mean: 0.999701\n",
      "  Variance: 0.000299\n",
      "\n",
      "Column: photon_trigMatched2 is non-numeric and skipped.\n",
      "\n",
      "Column: photon_trigMatched3 is non-numeric and skipped.\n",
      "\n",
      "Column: photon_trigMatched4 is non-numeric and skipped.\n",
      "\n",
      "Column: photon_pt0\n",
      "  Mean: 73733.666800\n",
      "  Variance: 1915121624.711597\n",
      "\n",
      "Column: photon_pt1\n",
      "  Mean: 44249.093877\n",
      "  Variance: 452009108.934861\n",
      "\n",
      "Column: photon_pt2\n",
      "  Mean: 329.141456\n",
      "  Variance: 16659018.409379\n",
      "\n",
      "Column: photon_pt3\n",
      "  Mean: 3.186345\n",
      "  Variance: 143716.888328\n",
      "\n",
      "Column: photon_pt4\n",
      "  Mean: 0.019070\n",
      "  Variance: 485.119165\n",
      "\n",
      "Column: photon_eta0\n",
      "  Mean: -0.015751\n",
      "  Variance: 1.341059\n",
      "\n",
      "Column: photon_eta1\n",
      "  Mean: -0.012746\n",
      "  Variance: 1.306181\n",
      "\n",
      "Column: photon_eta2\n",
      "  Mean: -0.000170\n",
      "  Variance: 0.010394\n",
      "\n",
      "Column: photon_eta3\n",
      "  Mean: -0.000006\n",
      "  Variance: 0.000125\n",
      "\n",
      "Column: photon_eta4\n",
      "  Mean: 0.000001\n",
      "  Variance: 0.000001\n",
      "\n",
      "Column: photon_phi0\n",
      "  Mean: 0.000213\n",
      "  Variance: 3.290551\n",
      "\n",
      "Column: photon_phi1\n",
      "  Mean: 0.004652\n",
      "  Variance: 3.334050\n",
      "\n",
      "Column: photon_phi2\n",
      "  Mean: 0.000063\n",
      "  Variance: 0.026355\n",
      "\n",
      "Column: photon_phi3\n",
      "  Mean: -0.000008\n",
      "  Variance: 0.000309\n",
      "\n",
      "Column: photon_phi4\n",
      "  Mean: 0.000001\n",
      "  Variance: 0.000001\n",
      "\n",
      "Column: photon_E0\n",
      "  Mean: 134561.936153\n",
      "  Variance: 11935035800.450222\n",
      "\n",
      "Column: photon_E1\n",
      "  Mean: 80366.337358\n",
      "  Variance: 3597051118.997322\n",
      "\n",
      "Column: photon_E2\n",
      "  Mean: 591.453129\n",
      "  Variance: 65984979.420613\n",
      "\n",
      "Column: photon_E3\n",
      "  Mean: 5.996328\n",
      "  Variance: 597027.489190\n",
      "\n",
      "Column: photon_E4\n",
      "  Mean: 0.028964\n",
      "  Variance: 1119.018462\n",
      "\n",
      "Column: photon_isTightID0\n",
      "  Mean: 0.572188\n",
      "  Variance: 0.244789\n",
      "\n",
      "Column: photon_isTightID1\n",
      "  Mean: 0.515299\n",
      "  Variance: 0.249766\n",
      "\n",
      "Column: photon_isTightID2 is non-numeric and skipped.\n",
      "\n",
      "Column: photon_isTightID3 is non-numeric and skipped.\n",
      "\n",
      "Column: photon_isTightID4 is non-numeric and skipped.\n",
      "\n",
      "Column: photon_ptcone300\n",
      "  Mean: 8287.842085\n",
      "  Variance: 30575367206.868107\n",
      "\n",
      "Column: photon_ptcone301\n",
      "  Mean: 7133.256595\n",
      "  Variance: 6119828617.255010\n",
      "\n",
      "Column: photon_ptcone302\n",
      "  Mean: 75.077069\n",
      "  Variance: 4064062.297805\n",
      "\n",
      "Column: photon_ptcone303\n",
      "  Mean: 0.720980\n",
      "  Variance: 25380.433784\n",
      "\n",
      "Column: photon_ptcone304\n",
      "  Mean: 0.016682\n",
      "  Variance: 371.218651\n",
      "\n",
      "Column: photon_etcone200\n",
      "  Mean: 3571.625989\n",
      "  Variance: 44755525.222538\n",
      "\n",
      "Column: photon_etcone201\n",
      "  Mean: 3410.099013\n",
      "  Variance: 36889269.484813\n",
      "\n",
      "Column: photon_etcone202\n",
      "  Mean: 42.703804\n",
      "  Variance: 1584247.115891\n",
      "\n",
      "Column: photon_etcone203\n",
      "  Mean: 0.380405\n",
      "  Variance: 9470.873509\n",
      "\n",
      "Column: photon_etcone204\n",
      "  Mean: 0.007577\n",
      "  Variance: 76.579881\n",
      "\n",
      "Column: photon_convType0\n",
      "  Mean: 1.045226\n",
      "  Variance: 2.027124\n",
      "\n",
      "Column: photon_convType1\n",
      "  Mean: 0.940158\n",
      "  Variance: 1.883716\n",
      "\n",
      "Column: photon_convType2\n",
      "  Mean: 0.008439\n",
      "  Variance: 0.025015\n",
      "\n",
      "Column: photon_convType3\n",
      "  Mean: 0.000094\n",
      "  Variance: 0.000257\n",
      "\n",
      "Column: photon_convType4\n",
      "  Mean: 0.000004\n",
      "  Variance: 0.000019\n",
      "\n",
      "Column: lep_pt_syst0\n",
      "  Mean: 39.994897\n",
      "  Variance: 3496657.215929\n",
      "\n",
      "Column: lep_pt_syst1\n",
      "  Mean: 3.396439\n",
      "  Variance: 211546.579152\n",
      "\n",
      "Column: lep_pt_syst2\n",
      "  Mean: 0.267998\n",
      "  Variance: 22701.467487\n",
      "\n",
      "Column: lep_pt_syst3\n",
      "  Mean: 0.000032\n",
      "  Variance: 0.001354\n",
      "\n",
      "Column: jet_pt_syst0\n",
      "  Mean: 1270.720933\n",
      "  Variance: 6917215.052110\n",
      "\n",
      "Column: jet_pt_syst1\n",
      "  Mean: 712.333760\n",
      "  Variance: 3445556.376007\n",
      "\n",
      "Column: jet_pt_syst2\n",
      "  Mean: 431.860124\n",
      "  Variance: 1999101.072585\n",
      "\n",
      "Column: jet_pt_syst3\n",
      "  Mean: 296.183469\n",
      "  Variance: 1351449.923390\n",
      "\n",
      "Column: jet_pt_syst4\n",
      "  Mean: 200.390228\n",
      "  Variance: 847037.285254\n",
      "\n",
      "Column: jet_pt_syst5\n",
      "  Mean: 124.128225\n",
      "  Variance: 496007.182559\n",
      "\n",
      "Column: jet_pt_syst6\n",
      "  Mean: 66.368012\n",
      "  Variance: 235536.713583\n",
      "\n",
      "Column: jet_pt_syst7\n",
      "  Mean: 30.919635\n",
      "  Variance: 101992.924703\n",
      "\n",
      "Column: jet_pt_syst8\n",
      "  Mean: 12.489430\n",
      "  Variance: 38612.278974\n",
      "\n",
      "Column: jet_pt_syst9\n",
      "  Mean: 4.559072\n",
      "  Variance: 13531.981222\n",
      "\n",
      "Column: jet_pt_syst10\n",
      "  Mean: 1.437489\n",
      "  Variance: 3958.453070\n",
      "\n",
      "Column: jet_pt_syst11\n",
      "  Mean: 0.419629\n",
      "  Variance: 1074.338285\n",
      "\n",
      "Column: jet_pt_syst12\n",
      "  Mean: 0.099812\n",
      "  Variance: 255.300515\n",
      "\n",
      "Column: jet_pt_syst13\n",
      "  Mean: 0.021027\n",
      "  Variance: 62.648685\n",
      "\n",
      "Column: jet_pt_syst14\n",
      "  Mean: 0.005820\n",
      "  Variance: 11.766447\n",
      "\n",
      "Column: jet_pt_syst15\n",
      "  Mean: 0.002948\n",
      "  Variance: 3.979261\n",
      "\n",
      "Column: photon_pt_syst2\n",
      "  Mean: 2.427487\n",
      "  Variance: 3613.062296\n",
      "\n",
      "Column: photon_pt_syst3\n",
      "  Mean: 0.025245\n",
      "  Variance: 12.241575\n",
      "\n",
      "Column: photon_pt_syst4\n",
      "  Mean: 0.000175\n",
      "  Variance: 0.040931\n",
      "\n"
     ]
    }
   ],
   "source": [
    "import pandas as pd\n",
    "\n",
    "# Assuming `expanded_df` is the DataFrame you're working with\n",
    "\n",
    "def print_column_statistics(df):\n",
    "    \"\"\"\n",
    "    Prints the column names, their mean, and variance.\n",
    "\n",
    "    :param df: The DataFrame containing the features.\n",
    "    \"\"\"\n",
    "    print(\"Calculating mean and variance for each column...\\n\")\n",
    "    for column in df.columns:\n",
    "        if pd.api.types.is_numeric_dtype(df[column]):\n",
    "            mean_value = df[column].mean()\n",
    "            variance_value = df[column].var()\n",
    "            print(f\"Column: {column}\\n  Mean: {mean_value:.6f}\\n  Variance: {variance_value:.6f}\\n\")\n",
    "        else:\n",
    "            print(f\"Column: {column} is non-numeric and skipped.\\n\")\n",
    "\n",
    "# Print the statistics for all columns in the DataFrame\n",
    "print_column_statistics(cleaned_df)\n"
   ]
  },
  {
   "cell_type": "code",
   "execution_count": 7,
   "metadata": {},
   "outputs": [
    {
     "name": "stdout",
     "output_type": "stream",
     "text": [
      "Calculating total invariant mass considering all particles in each event...\n"
     ]
    },
    {
     "name": "stderr",
     "output_type": "stream",
     "text": [
      "Calculating total invariant mass:   0%|          | 5989/1333914 [01:02<08:52, 2491.71it/s] "
     ]
    },
    {
     "name": "stdout",
     "output_type": "stream",
     "text": [
      "Missing data for lep_4 in row 5538, skipping this particle.\n"
     ]
    },
    {
     "name": "stderr",
     "output_type": "stream",
     "text": [
      "Calculating total invariant mass:   1%|▏         | 17808/1333914 [01:06<05:47, 3787.26it/s]"
     ]
    },
    {
     "name": "stdout",
     "output_type": "stream",
     "text": [
      "Missing data for lep_4 in row 17414, skipping this particle.\n"
     ]
    },
    {
     "name": "stderr",
     "output_type": "stream",
     "text": [
      "Calculating total invariant mass:   1%|▏         | 19804/1333914 [01:06<05:41, 3848.04it/s]"
     ]
    },
    {
     "name": "stdout",
     "output_type": "stream",
     "text": [
      "Missing data for lep_4 in row 19310, skipping this particle.\n"
     ]
    },
    {
     "name": "stderr",
     "output_type": "stream",
     "text": [
      "Calculating total invariant mass:   2%|▏         | 24229/1333914 [01:07<05:36, 3888.63it/s]"
     ]
    },
    {
     "name": "stdout",
     "output_type": "stream",
     "text": [
      "Missing data for lep_4 in row 23689, skipping this particle.\n"
     ]
    },
    {
     "name": "stderr",
     "output_type": "stream",
     "text": [
      "Calculating total invariant mass:   2%|▏         | 27398/1333914 [01:08<05:49, 3742.42it/s]"
     ]
    },
    {
     "name": "stdout",
     "output_type": "stream",
     "text": [
      "Missing data for jet_16 in row 26793, skipping this particle.\n",
      "Missing data for jet_17 in row 26793, skipping this particle.\n"
     ]
    },
    {
     "name": "stderr",
     "output_type": "stream",
     "text": [
      "Calculating total invariant mass:   2%|▏         | 30522/1333914 [01:09<05:56, 3651.80it/s]"
     ]
    },
    {
     "name": "stdout",
     "output_type": "stream",
     "text": [
      "Missing data for lep_4 in row 30117, skipping this particle.\n",
      "Missing data for lep_4 in row 30722, skipping this particle.\n"
     ]
    },
    {
     "name": "stderr",
     "output_type": "stream",
     "text": [
      "Calculating total invariant mass:   4%|▎         | 49043/1333914 [01:14<05:35, 3828.97it/s]"
     ]
    },
    {
     "name": "stdout",
     "output_type": "stream",
     "text": [
      "Missing data for lep_4 in row 48472, skipping this particle.\n"
     ]
    },
    {
     "name": "stderr",
     "output_type": "stream",
     "text": [
      "Calculating total invariant mass:   5%|▍         | 64532/1333914 [01:18<05:38, 3753.72it/s]"
     ]
    },
    {
     "name": "stdout",
     "output_type": "stream",
     "text": [
      "Missing data for lep_4 in row 63895, skipping this particle.\n"
     ]
    },
    {
     "name": "stderr",
     "output_type": "stream",
     "text": [
      "Calculating total invariant mass:   5%|▍         | 65708/1333914 [01:18<05:41, 3718.60it/s]"
     ]
    },
    {
     "name": "stdout",
     "output_type": "stream",
     "text": [
      "Missing data for lep_4 in row 65146, skipping this particle.\n"
     ]
    },
    {
     "name": "stderr",
     "output_type": "stream",
     "text": [
      "Calculating total invariant mass:   5%|▌         | 66877/1333914 [01:19<05:39, 3731.53it/s]"
     ]
    },
    {
     "name": "stdout",
     "output_type": "stream",
     "text": [
      "Missing data for lep_4 in row 66422, skipping this particle.\n"
     ]
    },
    {
     "name": "stderr",
     "output_type": "stream",
     "text": [
      "Calculating total invariant mass:   5%|▌         | 70493/1333914 [01:20<05:36, 3750.25it/s]"
     ]
    },
    {
     "name": "stdout",
     "output_type": "stream",
     "text": [
      "Missing data for lep_4 in row 69909, skipping this particle.\n"
     ]
    },
    {
     "name": "stderr",
     "output_type": "stream",
     "text": [
      "Calculating total invariant mass:   5%|▌         | 73272/1333914 [01:20<05:35, 3760.06it/s]"
     ]
    },
    {
     "name": "stdout",
     "output_type": "stream",
     "text": [
      "Missing data for lep_4 in row 72883, skipping this particle.\n"
     ]
    },
    {
     "name": "stderr",
     "output_type": "stream",
     "text": [
      "Calculating total invariant mass:   6%|▌         | 77150/1333914 [01:21<05:44, 3650.62it/s]"
     ]
    },
    {
     "name": "stdout",
     "output_type": "stream",
     "text": [
      "Missing data for lep_4 in row 76649, skipping this particle.\n"
     ]
    },
    {
     "name": "stderr",
     "output_type": "stream",
     "text": [
      "Calculating total invariant mass:   6%|▌         | 83121/1333914 [01:23<05:28, 3806.59it/s]"
     ]
    },
    {
     "name": "stdout",
     "output_type": "stream",
     "text": [
      "Missing data for lep_4 in row 82480, skipping this particle.\n"
     ]
    },
    {
     "name": "stderr",
     "output_type": "stream",
     "text": [
      "Calculating total invariant mass:   8%|▊         | 103389/1333914 [01:28<05:36, 3653.77it/s]"
     ]
    },
    {
     "name": "stdout",
     "output_type": "stream",
     "text": [
      "Missing data for lep_4 in row 102868, skipping this particle.\n"
     ]
    },
    {
     "name": "stderr",
     "output_type": "stream",
     "text": [
      "Calculating total invariant mass:   9%|▉         | 118708/1333914 [01:32<05:22, 3771.33it/s]"
     ]
    },
    {
     "name": "stdout",
     "output_type": "stream",
     "text": [
      "Missing data for lep_4 in row 118049, skipping this particle.\n"
     ]
    },
    {
     "name": "stderr",
     "output_type": "stream",
     "text": [
      "Calculating total invariant mass:   9%|▉         | 119874/1333914 [01:33<05:33, 3643.12it/s]"
     ]
    },
    {
     "name": "stdout",
     "output_type": "stream",
     "text": [
      "Missing data for lep_4 in row 119436, skipping this particle.\n",
      "Missing data for lep_4 in row 119792, skipping this particle.\n"
     ]
    },
    {
     "name": "stderr",
     "output_type": "stream",
     "text": [
      "Calculating total invariant mass:   9%|▉         | 122889/1333914 [01:34<05:31, 3648.31it/s]"
     ]
    },
    {
     "name": "stdout",
     "output_type": "stream",
     "text": [
      "Missing data for lep_4 in row 122142, skipping this particle.\n"
     ]
    },
    {
     "name": "stderr",
     "output_type": "stream",
     "text": [
      "Calculating total invariant mass:  10%|▉         | 131245/1333914 [01:36<05:28, 3665.20it/s]"
     ]
    },
    {
     "name": "stdout",
     "output_type": "stream",
     "text": [
      "Missing data for lep_4 in row 130513, skipping this particle.\n"
     ]
    },
    {
     "name": "stderr",
     "output_type": "stream",
     "text": [
      "Calculating total invariant mass:  10%|█         | 135535/1333914 [01:37<05:26, 3675.53it/s]"
     ]
    },
    {
     "name": "stdout",
     "output_type": "stream",
     "text": [
      "Missing data for lep_4 in row 134754, skipping this particle.\n",
      "Missing data for lep_4 in row 134892, skipping this particle.\n"
     ]
    },
    {
     "name": "stderr",
     "output_type": "stream",
     "text": [
      "Calculating total invariant mass:  11%|█         | 141899/1333914 [01:39<05:17, 3750.37it/s]"
     ]
    },
    {
     "name": "stdout",
     "output_type": "stream",
     "text": [
      "Missing data for lep_4 in row 141284, skipping this particle.\n"
     ]
    },
    {
     "name": "stderr",
     "output_type": "stream",
     "text": [
      "Calculating total invariant mass:  12%|█▏        | 159024/1333914 [01:43<05:07, 3824.49it/s]"
     ]
    },
    {
     "name": "stdout",
     "output_type": "stream",
     "text": [
      "Missing data for lep_4 in row 158217, skipping this particle.\n"
     ]
    },
    {
     "name": "stderr",
     "output_type": "stream",
     "text": [
      "Calculating total invariant mass:  12%|█▏        | 162646/1333914 [01:44<05:06, 3822.58it/s]"
     ]
    },
    {
     "name": "stdout",
     "output_type": "stream",
     "text": [
      "Missing data for lep_4 in row 162177, skipping this particle.\n"
     ]
    },
    {
     "name": "stderr",
     "output_type": "stream",
     "text": [
      "Calculating total invariant mass:  13%|█▎        | 170501/1333914 [01:46<05:08, 3766.79it/s]"
     ]
    },
    {
     "name": "stdout",
     "output_type": "stream",
     "text": [
      "Missing data for lep_4 in row 170065, skipping this particle.\n"
     ]
    },
    {
     "name": "stderr",
     "output_type": "stream",
     "text": [
      "Calculating total invariant mass:  13%|█▎        | 172869/1333914 [01:47<05:13, 3702.04it/s]"
     ]
    },
    {
     "name": "stdout",
     "output_type": "stream",
     "text": [
      "Missing data for lep_4 in row 172262, skipping this particle.\n"
     ]
    },
    {
     "name": "stderr",
     "output_type": "stream",
     "text": [
      "Calculating total invariant mass:  13%|█▎        | 178073/1333914 [01:48<05:12, 3703.82it/s]"
     ]
    },
    {
     "name": "stdout",
     "output_type": "stream",
     "text": [
      "Missing data for lep_4 in row 177548, skipping this particle.\n"
     ]
    },
    {
     "name": "stderr",
     "output_type": "stream",
     "text": [
      "Calculating total invariant mass:  13%|█▎        | 179209/1333914 [01:49<05:24, 3555.11it/s]"
     ]
    },
    {
     "name": "stdout",
     "output_type": "stream",
     "text": [
      "Missing data for lep_4 in row 178466, skipping this particle.\n"
     ]
    },
    {
     "name": "stderr",
     "output_type": "stream",
     "text": [
      "Calculating total invariant mass:  14%|█▍        | 185124/1333914 [01:50<05:15, 3641.95it/s]"
     ]
    },
    {
     "name": "stdout",
     "output_type": "stream",
     "text": [
      "Missing data for lep_4 in row 184534, skipping this particle.\n"
     ]
    },
    {
     "name": "stderr",
     "output_type": "stream",
     "text": [
      "Calculating total invariant mass:  15%|█▍        | 196113/1333914 [01:53<05:00, 3783.05it/s]"
     ]
    },
    {
     "name": "stdout",
     "output_type": "stream",
     "text": [
      "Missing data for lep_4 in row 195406, skipping this particle.\n"
     ]
    },
    {
     "name": "stderr",
     "output_type": "stream",
     "text": [
      "Calculating total invariant mass:  15%|█▍        | 197632/1333914 [01:54<05:08, 3681.81it/s]"
     ]
    },
    {
     "name": "stdout",
     "output_type": "stream",
     "text": [
      "Missing data for lep_4 in row 197041, skipping this particle.\n",
      "Missing data for lep_4 in row 197753, skipping this particle.\n"
     ]
    },
    {
     "name": "stderr",
     "output_type": "stream",
     "text": [
      "Calculating total invariant mass:  15%|█▍        | 199214/1333914 [01:54<05:00, 3771.67it/s]"
     ]
    },
    {
     "name": "stdout",
     "output_type": "stream",
     "text": [
      "Missing data for lep_4 in row 198649, skipping this particle.\n",
      "Missing data for lep_5 in row 198649, skipping this particle.\n"
     ]
    },
    {
     "name": "stderr",
     "output_type": "stream",
     "text": [
      "Calculating total invariant mass:  16%|█▌        | 208103/1333914 [01:56<05:02, 3723.03it/s]"
     ]
    },
    {
     "name": "stdout",
     "output_type": "stream",
     "text": [
      "Missing data for lep_4 in row 207599, skipping this particle.\n"
     ]
    },
    {
     "name": "stderr",
     "output_type": "stream",
     "text": [
      "Calculating total invariant mass:  18%|█▊        | 238348/1333914 [02:04<04:48, 3803.46it/s]"
     ]
    },
    {
     "name": "stdout",
     "output_type": "stream",
     "text": [
      "Missing data for lep_4 in row 237797, skipping this particle.\n",
      "Missing data for lep_4 in row 238109, skipping this particle.\n"
     ]
    },
    {
     "name": "stderr",
     "output_type": "stream",
     "text": [
      "Calculating total invariant mass:  18%|█▊        | 240722/1333914 [02:05<04:58, 3661.14it/s]"
     ]
    },
    {
     "name": "stdout",
     "output_type": "stream",
     "text": [
      "Missing data for lep_4 in row 240287, skipping this particle.\n"
     ]
    },
    {
     "name": "stderr",
     "output_type": "stream",
     "text": [
      "Calculating total invariant mass:  18%|█▊        | 244200/1333914 [02:06<04:57, 3667.38it/s]"
     ]
    },
    {
     "name": "stdout",
     "output_type": "stream",
     "text": [
      "Missing data for lep_4 in row 243744, skipping this particle.\n"
     ]
    },
    {
     "name": "stderr",
     "output_type": "stream",
     "text": [
      "Calculating total invariant mass:  18%|█▊        | 245778/1333914 [02:06<04:52, 3724.56it/s]"
     ]
    },
    {
     "name": "stdout",
     "output_type": "stream",
     "text": [
      "Missing data for lep_4 in row 245121, skipping this particle.\n"
     ]
    },
    {
     "name": "stderr",
     "output_type": "stream",
     "text": [
      "Calculating total invariant mass:  19%|█▉        | 256022/1333914 [02:09<04:40, 3841.86it/s]"
     ]
    },
    {
     "name": "stdout",
     "output_type": "stream",
     "text": [
      "Missing data for lep_4 in row 255304, skipping this particle.\n"
     ]
    },
    {
     "name": "stderr",
     "output_type": "stream",
     "text": [
      "Calculating total invariant mass:  20%|██        | 268006/1333914 [02:12<04:45, 3731.56it/s]"
     ]
    },
    {
     "name": "stdout",
     "output_type": "stream",
     "text": [
      "Missing data for lep_4 in row 267293, skipping this particle.\n"
     ]
    },
    {
     "name": "stderr",
     "output_type": "stream",
     "text": [
      "Calculating total invariant mass:  21%|██        | 273879/1333914 [02:14<04:45, 3710.62it/s]"
     ]
    },
    {
     "name": "stdout",
     "output_type": "stream",
     "text": [
      "Missing data for lep_4 in row 273275, skipping this particle.\n"
     ]
    },
    {
     "name": "stderr",
     "output_type": "stream",
     "text": [
      "Calculating total invariant mass:  21%|██        | 282991/1333914 [02:16<04:38, 3773.61it/s]"
     ]
    },
    {
     "name": "stdout",
     "output_type": "stream",
     "text": [
      "Missing data for lep_4 in row 282518, skipping this particle.\n"
     ]
    },
    {
     "name": "stderr",
     "output_type": "stream",
     "text": [
      "Calculating total invariant mass:  23%|██▎       | 300518/1333914 [02:21<04:35, 3757.25it/s]"
     ]
    },
    {
     "name": "stdout",
     "output_type": "stream",
     "text": [
      "Missing data for lep_4 in row 299860, skipping this particle.\n",
      "Missing data for lep_5 in row 299860, skipping this particle.\n"
     ]
    },
    {
     "name": "stderr",
     "output_type": "stream",
     "text": [
      "Calculating total invariant mass:  23%|██▎       | 310557/1333914 [02:24<04:31, 3763.30it/s]"
     ]
    },
    {
     "name": "stdout",
     "output_type": "stream",
     "text": [
      "Missing data for lep_4 in row 309874, skipping this particle.\n"
     ]
    },
    {
     "name": "stderr",
     "output_type": "stream",
     "text": [
      "Calculating total invariant mass:  23%|██▎       | 312939/1333914 [02:24<04:31, 3756.83it/s]"
     ]
    },
    {
     "name": "stdout",
     "output_type": "stream",
     "text": [
      "Missing data for lep_4 in row 312443, skipping this particle.\n"
     ]
    },
    {
     "name": "stderr",
     "output_type": "stream",
     "text": [
      "Calculating total invariant mass:  24%|██▍       | 323005/1333914 [02:27<04:42, 3581.11it/s]"
     ]
    },
    {
     "name": "stdout",
     "output_type": "stream",
     "text": [
      "Missing data for lep_4 in row 322549, skipping this particle.\n"
     ]
    },
    {
     "name": "stderr",
     "output_type": "stream",
     "text": [
      "Calculating total invariant mass:  24%|██▍       | 324983/1333914 [02:28<05:08, 3271.12it/s]"
     ]
    },
    {
     "name": "stdout",
     "output_type": "stream",
     "text": [
      "Missing data for lep_4 in row 324444, skipping this particle.\n",
      "Missing data for lep_4 in row 324982, skipping this particle.\n"
     ]
    },
    {
     "name": "stderr",
     "output_type": "stream",
     "text": [
      "Calculating total invariant mass:  25%|██▍       | 327747/1333914 [02:28<04:30, 3720.23it/s]"
     ]
    },
    {
     "name": "stdout",
     "output_type": "stream",
     "text": [
      "Missing data for lep_4 in row 327189, skipping this particle.\n"
     ]
    },
    {
     "name": "stderr",
     "output_type": "stream",
     "text": [
      "Calculating total invariant mass:  25%|██▍       | 330441/1333914 [02:29<04:30, 3712.96it/s]"
     ]
    },
    {
     "name": "stdout",
     "output_type": "stream",
     "text": [
      "Missing data for lep_4 in row 329856, skipping this particle.\n"
     ]
    },
    {
     "name": "stderr",
     "output_type": "stream",
     "text": [
      "Calculating total invariant mass:  25%|██▌       | 338045/1333914 [02:31<04:21, 3801.13it/s]"
     ]
    },
    {
     "name": "stdout",
     "output_type": "stream",
     "text": [
      "Missing data for lep_4 in row 337346, skipping this particle.\n"
     ]
    },
    {
     "name": "stderr",
     "output_type": "stream",
     "text": [
      "Calculating total invariant mass:  26%|██▌       | 341267/1333914 [02:32<04:21, 3802.00it/s]"
     ]
    },
    {
     "name": "stdout",
     "output_type": "stream",
     "text": [
      "Missing data for lep_4 in row 340650, skipping this particle.\n"
     ]
    },
    {
     "name": "stderr",
     "output_type": "stream",
     "text": [
      "Calculating total invariant mass:  26%|██▌       | 344824/1333914 [02:33<04:19, 3813.39it/s]"
     ]
    },
    {
     "name": "stdout",
     "output_type": "stream",
     "text": [
      "Missing data for lep_4 in row 344181, skipping this particle.\n"
     ]
    },
    {
     "name": "stderr",
     "output_type": "stream",
     "text": [
      "Calculating total invariant mass:  26%|██▌       | 349690/1333914 [02:34<04:12, 3900.21it/s]"
     ]
    },
    {
     "name": "stdout",
     "output_type": "stream",
     "text": [
      "Missing data for lep_4 in row 348959, skipping this particle.\n"
     ]
    },
    {
     "name": "stderr",
     "output_type": "stream",
     "text": [
      "Calculating total invariant mass:  26%|██▋       | 350909/1333914 [02:35<04:12, 3891.66it/s]"
     ]
    },
    {
     "name": "stdout",
     "output_type": "stream",
     "text": [
      "Missing data for lep_4 in row 350476, skipping this particle.\n"
     ]
    },
    {
     "name": "stderr",
     "output_type": "stream",
     "text": [
      "Calculating total invariant mass:  27%|██▋       | 360063/1333914 [02:37<04:17, 3785.54it/s]"
     ]
    },
    {
     "name": "stdout",
     "output_type": "stream",
     "text": [
      "Missing data for lep_4 in row 359540, skipping this particle.\n"
     ]
    },
    {
     "name": "stderr",
     "output_type": "stream",
     "text": [
      "Calculating total invariant mass:  27%|██▋       | 362827/1333914 [02:38<04:12, 3840.00it/s]"
     ]
    },
    {
     "name": "stdout",
     "output_type": "stream",
     "text": [
      "Missing data for jet_16 in row 362248, skipping this particle.\n",
      "Missing data for jet_17 in row 362248, skipping this particle.\n"
     ]
    },
    {
     "name": "stderr",
     "output_type": "stream",
     "text": [
      "Calculating total invariant mass:  28%|██▊       | 372717/1333914 [02:40<04:19, 3701.95it/s]"
     ]
    },
    {
     "name": "stdout",
     "output_type": "stream",
     "text": [
      "Missing data for lep_4 in row 372291, skipping this particle.\n"
     ]
    },
    {
     "name": "stderr",
     "output_type": "stream",
     "text": [
      "Calculating total invariant mass:  29%|██▉       | 384312/1333914 [02:43<04:08, 3827.92it/s]"
     ]
    },
    {
     "name": "stdout",
     "output_type": "stream",
     "text": [
      "Missing data for lep_4 in row 383783, skipping this particle.\n"
     ]
    },
    {
     "name": "stderr",
     "output_type": "stream",
     "text": [
      "Calculating total invariant mass:  30%|███       | 402570/1333914 [02:48<04:08, 3747.80it/s]"
     ]
    },
    {
     "name": "stdout",
     "output_type": "stream",
     "text": [
      "Missing data for lep_4 in row 402118, skipping this particle.\n"
     ]
    },
    {
     "name": "stderr",
     "output_type": "stream",
     "text": [
      "Calculating total invariant mass:  31%|███▏      | 418676/1333914 [02:52<04:04, 3740.01it/s]"
     ]
    },
    {
     "name": "stdout",
     "output_type": "stream",
     "text": [
      "Missing data for lep_4 in row 417943, skipping this particle.\n"
     ]
    },
    {
     "name": "stderr",
     "output_type": "stream",
     "text": [
      "Calculating total invariant mass:  32%|███▏      | 425542/1333914 [02:54<04:13, 3581.38it/s]"
     ]
    },
    {
     "name": "stdout",
     "output_type": "stream",
     "text": [
      "Missing data for lep_4 in row 424859, skipping this particle.\n",
      "Missing data for lep_4 in row 425304, skipping this particle.\n"
     ]
    },
    {
     "name": "stderr",
     "output_type": "stream",
     "text": [
      "Calculating total invariant mass:  32%|███▏      | 428298/1333914 [02:55<04:09, 3632.86it/s]"
     ]
    },
    {
     "name": "stdout",
     "output_type": "stream",
     "text": [
      "Missing data for lep_4 in row 427513, skipping this particle.\n"
     ]
    },
    {
     "name": "stderr",
     "output_type": "stream",
     "text": [
      "Calculating total invariant mass:  32%|███▏      | 430247/1333914 [02:56<03:58, 3785.57it/s]"
     ]
    },
    {
     "name": "stdout",
     "output_type": "stream",
     "text": [
      "Missing data for lep_4 in row 429473, skipping this particle.\n"
     ]
    },
    {
     "name": "stderr",
     "output_type": "stream",
     "text": [
      "Calculating total invariant mass:  34%|███▍      | 456743/1333914 [03:03<03:57, 3687.44it/s]"
     ]
    },
    {
     "name": "stdout",
     "output_type": "stream",
     "text": [
      "Missing data for lep_4 in row 456268, skipping this particle.\n"
     ]
    },
    {
     "name": "stderr",
     "output_type": "stream",
     "text": [
      "Calculating total invariant mass:  34%|███▍      | 457944/1333914 [03:03<03:53, 3749.97it/s]"
     ]
    },
    {
     "name": "stdout",
     "output_type": "stream",
     "text": [
      "Missing data for lep_4 in row 457227, skipping this particle.\n"
     ]
    },
    {
     "name": "stderr",
     "output_type": "stream",
     "text": [
      "Calculating total invariant mass:  35%|███▍      | 460309/1333914 [03:04<03:53, 3742.23it/s]"
     ]
    },
    {
     "name": "stdout",
     "output_type": "stream",
     "text": [
      "Missing data for lep_4 in row 459608, skipping this particle.\n"
     ]
    },
    {
     "name": "stderr",
     "output_type": "stream",
     "text": [
      "Calculating total invariant mass:  35%|███▍      | 462207/1333914 [03:04<03:59, 3635.03it/s]"
     ]
    },
    {
     "name": "stdout",
     "output_type": "stream",
     "text": [
      "Missing data for lep_4 in row 461659, skipping this particle.\n"
     ]
    },
    {
     "name": "stderr",
     "output_type": "stream",
     "text": [
      "Calculating total invariant mass:  36%|███▌      | 481029/1333914 [03:09<03:53, 3651.80it/s]"
     ]
    },
    {
     "name": "stdout",
     "output_type": "stream",
     "text": [
      "Missing data for lep_4 in row 480485, skipping this particle.\n",
      "Missing data for lep_4 in row 481008, skipping this particle.\n"
     ]
    },
    {
     "name": "stderr",
     "output_type": "stream",
     "text": [
      "Calculating total invariant mass:  36%|███▋      | 486559/1333914 [03:11<03:45, 3755.11it/s]"
     ]
    },
    {
     "name": "stdout",
     "output_type": "stream",
     "text": [
      "Missing data for lep_4 in row 486094, skipping this particle.\n",
      "Missing data for lep_4 in row 486416, skipping this particle.\n",
      "Missing data for lep_4 in row 486952, skipping this particle.\n"
     ]
    },
    {
     "name": "stderr",
     "output_type": "stream",
     "text": [
      "Calculating total invariant mass:  37%|███▋      | 490887/1333914 [03:12<03:46, 3714.65it/s]"
     ]
    },
    {
     "name": "stdout",
     "output_type": "stream",
     "text": [
      "Missing data for lep_4 in row 490451, skipping this particle.\n",
      "Missing data for lep_4 in row 490938, skipping this particle.\n"
     ]
    },
    {
     "name": "stderr",
     "output_type": "stream",
     "text": [
      "Calculating total invariant mass:  37%|███▋      | 495108/1333914 [03:13<03:45, 3722.77it/s]"
     ]
    },
    {
     "name": "stdout",
     "output_type": "stream",
     "text": [
      "Missing data for lep_4 in row 494774, skipping this particle.\n"
     ]
    },
    {
     "name": "stderr",
     "output_type": "stream",
     "text": [
      "Calculating total invariant mass:  38%|███▊      | 505124/1333914 [03:16<03:34, 3870.40it/s]"
     ]
    },
    {
     "name": "stdout",
     "output_type": "stream",
     "text": [
      "Missing data for lep_4 in row 504303, skipping this particle.\n",
      "Missing data for lep_5 in row 504303, skipping this particle.\n"
     ]
    },
    {
     "name": "stderr",
     "output_type": "stream",
     "text": [
      "Calculating total invariant mass:  38%|███▊      | 509035/1333914 [03:17<03:42, 3701.27it/s]"
     ]
    },
    {
     "name": "stdout",
     "output_type": "stream",
     "text": [
      "Missing data for lep_4 in row 508195, skipping this particle.\n"
     ]
    },
    {
     "name": "stderr",
     "output_type": "stream",
     "text": [
      "Calculating total invariant mass:  39%|███▊      | 514427/1333914 [03:18<03:40, 3716.13it/s]"
     ]
    },
    {
     "name": "stdout",
     "output_type": "stream",
     "text": [
      "Missing data for lep_4 in row 513656, skipping this particle.\n",
      "Missing data for lep_4 in row 513864, skipping this particle.\n"
     ]
    },
    {
     "name": "stderr",
     "output_type": "stream",
     "text": [
      "Calculating total invariant mass:  39%|███▊      | 515628/1333914 [03:19<03:36, 3773.38it/s]"
     ]
    },
    {
     "name": "stdout",
     "output_type": "stream",
     "text": [
      "Missing data for lep_4 in row 515323, skipping this particle.\n"
     ]
    },
    {
     "name": "stderr",
     "output_type": "stream",
     "text": [
      "Calculating total invariant mass:  39%|███▉      | 525271/1333914 [03:21<03:36, 3728.45it/s]"
     ]
    },
    {
     "name": "stdout",
     "output_type": "stream",
     "text": [
      "Missing data for lep_4 in row 524654, skipping this particle.\n"
     ]
    },
    {
     "name": "stderr",
     "output_type": "stream",
     "text": [
      "Calculating total invariant mass:  40%|███▉      | 530433/1333914 [03:22<03:40, 3650.36it/s]"
     ]
    },
    {
     "name": "stdout",
     "output_type": "stream",
     "text": [
      "Missing data for lep_4 in row 529879, skipping this particle.\n"
     ]
    },
    {
     "name": "stderr",
     "output_type": "stream",
     "text": [
      "Calculating total invariant mass:  41%|████      | 544396/1333914 [03:26<03:29, 3762.78it/s]"
     ]
    },
    {
     "name": "stdout",
     "output_type": "stream",
     "text": [
      "Missing data for jet_16 in row 543686, skipping this particle.\n"
     ]
    },
    {
     "name": "stderr",
     "output_type": "stream",
     "text": [
      "Calculating total invariant mass:  41%|████▏     | 551864/1333914 [03:28<03:29, 3732.74it/s]"
     ]
    },
    {
     "name": "stdout",
     "output_type": "stream",
     "text": [
      "Missing data for lep_4 in row 551219, skipping this particle.\n"
     ]
    },
    {
     "name": "stderr",
     "output_type": "stream",
     "text": [
      "Calculating total invariant mass:  42%|████▏     | 554617/1333914 [03:29<03:27, 3761.22it/s]"
     ]
    },
    {
     "name": "stdout",
     "output_type": "stream",
     "text": [
      "Missing data for lep_4 in row 554027, skipping this particle.\n"
     ]
    },
    {
     "name": "stderr",
     "output_type": "stream",
     "text": [
      "Calculating total invariant mass:  42%|████▏     | 560916/1333914 [03:31<03:27, 3727.72it/s]"
     ]
    },
    {
     "name": "stdout",
     "output_type": "stream",
     "text": [
      "Missing data for lep_4 in row 560313, skipping this particle.\n"
     ]
    },
    {
     "name": "stderr",
     "output_type": "stream",
     "text": [
      "Calculating total invariant mass:  43%|████▎     | 569748/1333914 [03:33<03:18, 3852.45it/s]"
     ]
    },
    {
     "name": "stdout",
     "output_type": "stream",
     "text": [
      "Missing data for lep_4 in row 569312, skipping this particle.\n",
      "Missing data for lep_4 in row 569748, skipping this particle.\n"
     ]
    },
    {
     "name": "stderr",
     "output_type": "stream",
     "text": [
      "Calculating total invariant mass:  43%|████▎     | 571271/1333914 [03:33<03:33, 3577.42it/s]"
     ]
    },
    {
     "name": "stdout",
     "output_type": "stream",
     "text": [
      "Missing data for lep_4 in row 570700, skipping this particle.\n"
     ]
    },
    {
     "name": "stderr",
     "output_type": "stream",
     "text": [
      "Calculating total invariant mass:  43%|████▎     | 579898/1333914 [03:36<03:22, 3716.91it/s]"
     ]
    },
    {
     "name": "stdout",
     "output_type": "stream",
     "text": [
      "Missing data for lep_4 in row 579277, skipping this particle.\n"
     ]
    },
    {
     "name": "stderr",
     "output_type": "stream",
     "text": [
      "Calculating total invariant mass:  44%|████▍     | 583806/1333914 [03:37<03:19, 3761.04it/s]"
     ]
    },
    {
     "name": "stdout",
     "output_type": "stream",
     "text": [
      "Missing data for lep_4 in row 583181, skipping this particle.\n"
     ]
    },
    {
     "name": "stderr",
     "output_type": "stream",
     "text": [
      "Calculating total invariant mass:  44%|████▍     | 584583/1333914 [03:37<03:20, 3730.80it/s]"
     ]
    },
    {
     "name": "stdout",
     "output_type": "stream",
     "text": [
      "Missing data for lep_4 in row 584206, skipping this particle.\n"
     ]
    },
    {
     "name": "stderr",
     "output_type": "stream",
     "text": [
      "Calculating total invariant mass:  44%|████▍     | 589341/1333914 [03:38<03:14, 3820.03it/s]"
     ]
    },
    {
     "name": "stdout",
     "output_type": "stream",
     "text": [
      "Missing data for lep_4 in row 588756, skipping this particle.\n"
     ]
    },
    {
     "name": "stderr",
     "output_type": "stream",
     "text": [
      "Calculating total invariant mass:  44%|████▍     | 591305/1333914 [03:39<03:14, 3826.20it/s]"
     ]
    },
    {
     "name": "stdout",
     "output_type": "stream",
     "text": [
      "Missing data for lep_4 in row 590512, skipping this particle.\n",
      "Missing data for lep_4 in row 590577, skipping this particle.\n",
      "Missing data for lep_4 in row 590590, skipping this particle.\n"
     ]
    },
    {
     "name": "stderr",
     "output_type": "stream",
     "text": [
      "Calculating total invariant mass:  44%|████▍     | 592534/1333914 [03:39<03:11, 3877.14it/s]"
     ]
    },
    {
     "name": "stdout",
     "output_type": "stream",
     "text": [
      "Missing data for lep_4 in row 591860, skipping this particle.\n"
     ]
    },
    {
     "name": "stderr",
     "output_type": "stream",
     "text": [
      "Calculating total invariant mass:  45%|████▍     | 593750/1333914 [03:39<03:12, 3837.83it/s]"
     ]
    },
    {
     "name": "stdout",
     "output_type": "stream",
     "text": [
      "Missing data for lep_4 in row 593275, skipping this particle.\n"
     ]
    },
    {
     "name": "stderr",
     "output_type": "stream",
     "text": [
      "Calculating total invariant mass:  45%|████▍     | 596142/1333914 [03:40<03:14, 3796.69it/s]"
     ]
    },
    {
     "name": "stdout",
     "output_type": "stream",
     "text": [
      "Missing data for lep_4 in row 595378, skipping this particle.\n"
     ]
    },
    {
     "name": "stderr",
     "output_type": "stream",
     "text": [
      "Calculating total invariant mass:  45%|████▍     | 598576/1333914 [03:41<03:12, 3822.54it/s]"
     ]
    },
    {
     "name": "stdout",
     "output_type": "stream",
     "text": [
      "Missing data for lep_4 in row 597930, skipping this particle.\n"
     ]
    },
    {
     "name": "stderr",
     "output_type": "stream",
     "text": [
      "Calculating total invariant mass:  45%|████▌     | 601762/1333914 [03:42<03:14, 3762.76it/s]"
     ]
    },
    {
     "name": "stdout",
     "output_type": "stream",
     "text": [
      "Missing data for lep_4 in row 601224, skipping this particle.\n",
      "Missing data for lep_5 in row 601224, skipping this particle.\n"
     ]
    },
    {
     "name": "stderr",
     "output_type": "stream",
     "text": [
      "Calculating total invariant mass:  45%|████▌     | 604880/1333914 [03:42<03:16, 3709.15it/s]"
     ]
    },
    {
     "name": "stdout",
     "output_type": "stream",
     "text": [
      "Missing data for lep_4 in row 604166, skipping this particle.\n",
      "Missing data for lep_5 in row 604166, skipping this particle.\n"
     ]
    },
    {
     "name": "stderr",
     "output_type": "stream",
     "text": [
      "Calculating total invariant mass:  46%|████▋     | 620261/1333914 [03:46<03:15, 3642.11it/s]"
     ]
    },
    {
     "name": "stdout",
     "output_type": "stream",
     "text": [
      "Missing data for lep_4 in row 619566, skipping this particle.\n"
     ]
    },
    {
     "name": "stderr",
     "output_type": "stream",
     "text": [
      "Calculating total invariant mass:  47%|████▋     | 626612/1333914 [03:48<03:09, 3724.97it/s]"
     ]
    },
    {
     "name": "stdout",
     "output_type": "stream",
     "text": [
      "Missing data for lep_4 in row 625998, skipping this particle.\n"
     ]
    },
    {
     "name": "stderr",
     "output_type": "stream",
     "text": [
      "Calculating total invariant mass:  47%|████▋     | 633350/1333914 [03:50<03:05, 3773.77it/s]"
     ]
    },
    {
     "name": "stdout",
     "output_type": "stream",
     "text": [
      "Missing data for lep_4 in row 632648, skipping this particle.\n"
     ]
    },
    {
     "name": "stderr",
     "output_type": "stream",
     "text": [
      "Calculating total invariant mass:  48%|████▊     | 643639/1333914 [03:53<03:02, 3790.28it/s]"
     ]
    },
    {
     "name": "stdout",
     "output_type": "stream",
     "text": [
      "Missing data for lep_4 in row 643070, skipping this particle.\n"
     ]
    },
    {
     "name": "stderr",
     "output_type": "stream",
     "text": [
      "Calculating total invariant mass:  48%|████▊     | 645667/1333914 [03:53<02:57, 3870.29it/s]"
     ]
    },
    {
     "name": "stdout",
     "output_type": "stream",
     "text": [
      "Missing data for lep_4 in row 645231, skipping this particle.\n"
     ]
    },
    {
     "name": "stderr",
     "output_type": "stream",
     "text": [
      "Calculating total invariant mass:  49%|████▉     | 650440/1333914 [03:54<03:09, 3615.45it/s]"
     ]
    },
    {
     "name": "stdout",
     "output_type": "stream",
     "text": [
      "Missing data for lep_4 in row 649914, skipping this particle.\n"
     ]
    },
    {
     "name": "stderr",
     "output_type": "stream",
     "text": [
      "Calculating total invariant mass:  49%|████▉     | 652062/1333914 [03:55<02:57, 3851.00it/s]"
     ]
    },
    {
     "name": "stdout",
     "output_type": "stream",
     "text": [
      "Missing data for lep_4 in row 651539, skipping this particle.\n"
     ]
    },
    {
     "name": "stderr",
     "output_type": "stream",
     "text": [
      "Calculating total invariant mass:  49%|████▉     | 655645/1333914 [03:56<02:55, 3864.30it/s]"
     ]
    },
    {
     "name": "stdout",
     "output_type": "stream",
     "text": [
      "Missing data for lep_4 in row 654898, skipping this particle.\n"
     ]
    },
    {
     "name": "stderr",
     "output_type": "stream",
     "text": [
      "Calculating total invariant mass:  49%|████▉     | 658504/1333914 [03:57<02:55, 3848.17it/s]"
     ]
    },
    {
     "name": "stdout",
     "output_type": "stream",
     "text": [
      "Missing data for lep_4 in row 657861, skipping this particle.\n"
     ]
    },
    {
     "name": "stderr",
     "output_type": "stream",
     "text": [
      "Calculating total invariant mass:  49%|████▉     | 659770/1333914 [03:57<02:50, 3954.41it/s]"
     ]
    },
    {
     "name": "stdout",
     "output_type": "stream",
     "text": [
      "Missing data for lep_4 in row 659036, skipping this particle.\n"
     ]
    },
    {
     "name": "stderr",
     "output_type": "stream",
     "text": [
      "Calculating total invariant mass:  50%|████▉     | 663888/1333914 [03:58<02:49, 3954.03it/s]"
     ]
    },
    {
     "name": "stdout",
     "output_type": "stream",
     "text": [
      "Missing data for lep_4 in row 663408, skipping this particle.\n"
     ]
    },
    {
     "name": "stderr",
     "output_type": "stream",
     "text": [
      "Calculating total invariant mass:  50%|█████     | 667176/1333914 [03:59<02:49, 3924.14it/s]"
     ]
    },
    {
     "name": "stdout",
     "output_type": "stream",
     "text": [
      "Missing data for lep_4 in row 666600, skipping this particle.\n",
      "Missing data for lep_4 in row 667095, skipping this particle.\n"
     ]
    },
    {
     "name": "stderr",
     "output_type": "stream",
     "text": [
      "Calculating total invariant mass:  52%|█████▏    | 689682/1333914 [04:05<02:48, 3818.20it/s]"
     ]
    },
    {
     "name": "stdout",
     "output_type": "stream",
     "text": [
      "Missing data for lep_4 in row 689123, skipping this particle.\n"
     ]
    },
    {
     "name": "stderr",
     "output_type": "stream",
     "text": [
      "Calculating total invariant mass:  52%|█████▏    | 690926/1333914 [04:05<02:44, 3902.85it/s]"
     ]
    },
    {
     "name": "stdout",
     "output_type": "stream",
     "text": [
      "Missing data for lep_4 in row 690324, skipping this particle.\n"
     ]
    },
    {
     "name": "stderr",
     "output_type": "stream",
     "text": [
      "Calculating total invariant mass:  52%|█████▏    | 697807/1333914 [04:07<02:44, 3862.92it/s]"
     ]
    },
    {
     "name": "stdout",
     "output_type": "stream",
     "text": [
      "Missing data for lep_4 in row 697200, skipping this particle.\n"
     ]
    },
    {
     "name": "stderr",
     "output_type": "stream",
     "text": [
      "Calculating total invariant mass:  53%|█████▎    | 707998/1333914 [04:09<02:39, 3931.01it/s]"
     ]
    },
    {
     "name": "stdout",
     "output_type": "stream",
     "text": [
      "Missing data for lep_4 in row 707126, skipping this particle.\n"
     ]
    },
    {
     "name": "stderr",
     "output_type": "stream",
     "text": [
      "Calculating total invariant mass:  53%|█████▎    | 709225/1333914 [04:10<02:40, 3900.08it/s]"
     ]
    },
    {
     "name": "stdout",
     "output_type": "stream",
     "text": [
      "Missing data for lep_4 in row 708390, skipping this particle.\n",
      "Missing data for lep_4 in row 709014, skipping this particle.\n"
     ]
    },
    {
     "name": "stderr",
     "output_type": "stream",
     "text": [
      "Calculating total invariant mass:  54%|█████▍    | 717051/1333914 [04:12<02:38, 3881.94it/s]"
     ]
    },
    {
     "name": "stdout",
     "output_type": "stream",
     "text": [
      "Missing data for lep_4 in row 716550, skipping this particle.\n",
      "Missing data for lep_4 in row 717210, skipping this particle.\n"
     ]
    },
    {
     "name": "stderr",
     "output_type": "stream",
     "text": [
      "Calculating total invariant mass:  54%|█████▍    | 724750/1333914 [04:14<02:37, 3865.25it/s]"
     ]
    },
    {
     "name": "stdout",
     "output_type": "stream",
     "text": [
      "Missing data for lep_4 in row 724120, skipping this particle.\n"
     ]
    },
    {
     "name": "stderr",
     "output_type": "stream",
     "text": [
      "Calculating total invariant mass:  55%|█████▍    | 732053/1333914 [04:16<02:31, 3973.37it/s]"
     ]
    },
    {
     "name": "stdout",
     "output_type": "stream",
     "text": [
      "Missing data for lep_4 in row 731138, skipping this particle.\n"
     ]
    },
    {
     "name": "stderr",
     "output_type": "stream",
     "text": [
      "Calculating total invariant mass:  55%|█████▌    | 734815/1333914 [04:16<02:41, 3712.98it/s]"
     ]
    },
    {
     "name": "stdout",
     "output_type": "stream",
     "text": [
      "Missing data for lep_4 in row 734083, skipping this particle.\n"
     ]
    },
    {
     "name": "stderr",
     "output_type": "stream",
     "text": [
      "Calculating total invariant mass:  56%|█████▌    | 742586/1333914 [04:18<02:31, 3915.58it/s]"
     ]
    },
    {
     "name": "stdout",
     "output_type": "stream",
     "text": [
      "Missing data for lep_4 in row 742116, skipping this particle.\n"
     ]
    },
    {
     "name": "stderr",
     "output_type": "stream",
     "text": [
      "Calculating total invariant mass:  56%|█████▌    | 747099/1333914 [04:20<02:35, 3781.50it/s]"
     ]
    },
    {
     "name": "stdout",
     "output_type": "stream",
     "text": [
      "Missing data for lep_4 in row 746363, skipping this particle.\n",
      "Missing data for lep_4 in row 746640, skipping this particle.\n"
     ]
    },
    {
     "name": "stderr",
     "output_type": "stream",
     "text": [
      "Calculating total invariant mass:  56%|█████▋    | 752881/1333914 [04:21<02:25, 3981.73it/s]"
     ]
    },
    {
     "name": "stdout",
     "output_type": "stream",
     "text": [
      "Missing data for lep_4 in row 752341, skipping this particle.\n"
     ]
    },
    {
     "name": "stderr",
     "output_type": "stream",
     "text": [
      "Calculating total invariant mass:  57%|█████▋    | 754117/1333914 [04:21<02:28, 3909.90it/s]"
     ]
    },
    {
     "name": "stdout",
     "output_type": "stream",
     "text": [
      "Missing data for jet_16 in row 753458, skipping this particle.\n"
     ]
    },
    {
     "name": "stderr",
     "output_type": "stream",
     "text": [
      "Calculating total invariant mass:  57%|█████▋    | 756124/1333914 [04:22<02:29, 3867.08it/s]"
     ]
    },
    {
     "name": "stdout",
     "output_type": "stream",
     "text": [
      "Missing data for lep_4 in row 755648, skipping this particle.\n"
     ]
    },
    {
     "name": "stderr",
     "output_type": "stream",
     "text": [
      "Calculating total invariant mass:  57%|█████▋    | 759313/1333914 [04:23<02:28, 3870.53it/s]"
     ]
    },
    {
     "name": "stdout",
     "output_type": "stream",
     "text": [
      "Missing data for lep_4 in row 758637, skipping this particle.\n",
      "Missing data for lep_4 in row 759238, skipping this particle.\n"
     ]
    },
    {
     "name": "stderr",
     "output_type": "stream",
     "text": [
      "Calculating total invariant mass:  58%|█████▊    | 768102/1333914 [04:25<02:25, 3883.36it/s]"
     ]
    },
    {
     "name": "stdout",
     "output_type": "stream",
     "text": [
      "Missing data for lep_4 in row 767592, skipping this particle.\n"
     ]
    },
    {
     "name": "stderr",
     "output_type": "stream",
     "text": [
      "Calculating total invariant mass:  58%|█████▊    | 769316/1333914 [04:25<02:26, 3862.65it/s]"
     ]
    },
    {
     "name": "stdout",
     "output_type": "stream",
     "text": [
      "Missing data for lep_4 in row 768558, skipping this particle.\n"
     ]
    },
    {
     "name": "stderr",
     "output_type": "stream",
     "text": [
      "Calculating total invariant mass:  58%|█████▊    | 769748/1333914 [04:25<02:23, 3931.60it/s]"
     ]
    },
    {
     "name": "stdout",
     "output_type": "stream",
     "text": [
      "Missing data for lep_4 in row 769379, skipping this particle.\n"
     ]
    },
    {
     "name": "stderr",
     "output_type": "stream",
     "text": [
      "Calculating total invariant mass:  59%|█████▉    | 784540/1333914 [04:29<02:22, 3844.22it/s]"
     ]
    },
    {
     "name": "stdout",
     "output_type": "stream",
     "text": [
      "Missing data for lep_4 in row 784097, skipping this particle.\n"
     ]
    },
    {
     "name": "stderr",
     "output_type": "stream",
     "text": [
      "Calculating total invariant mass:  59%|█████▉    | 787635/1333914 [04:30<02:28, 3677.02it/s]"
     ]
    },
    {
     "name": "stdout",
     "output_type": "stream",
     "text": [
      "Missing data for lep_4 in row 786903, skipping this particle.\n"
     ]
    },
    {
     "name": "stderr",
     "output_type": "stream",
     "text": [
      "Calculating total invariant mass:  59%|█████▉    | 788425/1333914 [04:30<02:27, 3701.08it/s]"
     ]
    },
    {
     "name": "stdout",
     "output_type": "stream",
     "text": [
      "Missing data for lep_4 in row 788014, skipping this particle.\n"
     ]
    },
    {
     "name": "stderr",
     "output_type": "stream",
     "text": [
      "Calculating total invariant mass:  59%|█████▉    | 790046/1333914 [04:31<02:21, 3831.15it/s]"
     ]
    },
    {
     "name": "stdout",
     "output_type": "stream",
     "text": [
      "Missing data for lep_4 in row 789510, skipping this particle.\n"
     ]
    },
    {
     "name": "stderr",
     "output_type": "stream",
     "text": [
      "Calculating total invariant mass:  59%|█████▉    | 791667/1333914 [04:31<02:19, 3881.25it/s]"
     ]
    },
    {
     "name": "stdout",
     "output_type": "stream",
     "text": [
      "Missing data for lep_4 in row 791090, skipping this particle.\n",
      "Missing data for lep_4 in row 791633, skipping this particle.\n"
     ]
    },
    {
     "name": "stderr",
     "output_type": "stream",
     "text": [
      "Calculating total invariant mass:  60%|█████▉    | 794911/1333914 [04:32<02:17, 3920.32it/s]"
     ]
    },
    {
     "name": "stdout",
     "output_type": "stream",
     "text": [
      "Missing data for lep_4 in row 794222, skipping this particle.\n"
     ]
    },
    {
     "name": "stderr",
     "output_type": "stream",
     "text": [
      "Calculating total invariant mass:  61%|██████    | 807311/1333914 [04:35<02:17, 3824.77it/s]"
     ]
    },
    {
     "name": "stdout",
     "output_type": "stream",
     "text": [
      "Missing data for lep_4 in row 806882, skipping this particle.\n"
     ]
    },
    {
     "name": "stderr",
     "output_type": "stream",
     "text": [
      "Calculating total invariant mass:  61%|██████▏   | 817755/1333914 [04:38<02:15, 3802.62it/s]"
     ]
    },
    {
     "name": "stdout",
     "output_type": "stream",
     "text": [
      "Missing data for lep_4 in row 817027, skipping this particle.\n"
     ]
    },
    {
     "name": "stderr",
     "output_type": "stream",
     "text": [
      "Calculating total invariant mass:  62%|██████▏   | 821781/1333914 [04:39<02:13, 3845.18it/s]"
     ]
    },
    {
     "name": "stdout",
     "output_type": "stream",
     "text": [
      "Missing data for lep_4 in row 821004, skipping this particle.\n"
     ]
    },
    {
     "name": "stderr",
     "output_type": "stream",
     "text": [
      "Calculating total invariant mass:  62%|██████▏   | 830295/1333914 [04:41<02:10, 3869.59it/s]"
     ]
    },
    {
     "name": "stdout",
     "output_type": "stream",
     "text": [
      "Missing data for lep_4 in row 829632, skipping this particle.\n",
      "Missing data for lep_4 in row 829634, skipping this particle.\n"
     ]
    },
    {
     "name": "stderr",
     "output_type": "stream",
     "text": [
      "Calculating total invariant mass:  64%|██████▍   | 851375/1333914 [04:47<02:05, 3847.64it/s]"
     ]
    },
    {
     "name": "stdout",
     "output_type": "stream",
     "text": [
      "Missing data for lep_4 in row 850741, skipping this particle.\n"
     ]
    },
    {
     "name": "stderr",
     "output_type": "stream",
     "text": [
      "Calculating total invariant mass:  64%|██████▍   | 855858/1333914 [04:48<02:01, 3938.86it/s]"
     ]
    },
    {
     "name": "stdout",
     "output_type": "stream",
     "text": [
      "Missing data for lep_4 in row 855435, skipping this particle.\n",
      "Missing data for lep_4 in row 856022, skipping this particle.\n"
     ]
    },
    {
     "name": "stderr",
     "output_type": "stream",
     "text": [
      "Calculating total invariant mass:  65%|██████▍   | 861543/1333914 [04:49<02:02, 3854.50it/s]"
     ]
    },
    {
     "name": "stdout",
     "output_type": "stream",
     "text": [
      "Missing data for lep_4 in row 861145, skipping this particle.\n"
     ]
    },
    {
     "name": "stderr",
     "output_type": "stream",
     "text": [
      "Calculating total invariant mass:  65%|██████▍   | 865084/1333914 [04:50<02:00, 3888.16it/s]"
     ]
    },
    {
     "name": "stdout",
     "output_type": "stream",
     "text": [
      "Missing data for lep_4 in row 864639, skipping this particle.\n"
     ]
    },
    {
     "name": "stderr",
     "output_type": "stream",
     "text": [
      "Calculating total invariant mass:  67%|██████▋   | 888226/1333914 [04:56<01:55, 3863.33it/s]"
     ]
    },
    {
     "name": "stdout",
     "output_type": "stream",
     "text": [
      "Missing data for lep_4 in row 887801, skipping this particle.\n"
     ]
    },
    {
     "name": "stderr",
     "output_type": "stream",
     "text": [
      "Calculating total invariant mass:  67%|██████▋   | 899464/1333914 [04:59<01:57, 3698.45it/s]"
     ]
    },
    {
     "name": "stdout",
     "output_type": "stream",
     "text": [
      "Missing data for lep_4 in row 898985, skipping this particle.\n"
     ]
    },
    {
     "name": "stderr",
     "output_type": "stream",
     "text": [
      "Calculating total invariant mass:  68%|██████▊   | 901857/1333914 [05:00<01:54, 3777.86it/s]"
     ]
    },
    {
     "name": "stdout",
     "output_type": "stream",
     "text": [
      "Missing data for lep_4 in row 901440, skipping this particle.\n"
     ]
    },
    {
     "name": "stderr",
     "output_type": "stream",
     "text": [
      "Calculating total invariant mass:  68%|██████▊   | 904707/1333914 [05:01<01:49, 3911.24it/s]"
     ]
    },
    {
     "name": "stdout",
     "output_type": "stream",
     "text": [
      "Missing data for lep_4 in row 904041, skipping this particle.\n"
     ]
    },
    {
     "name": "stderr",
     "output_type": "stream",
     "text": [
      "Calculating total invariant mass:  68%|██████▊   | 910708/1333914 [05:02<01:49, 3851.38it/s]"
     ]
    },
    {
     "name": "stdout",
     "output_type": "stream",
     "text": [
      "Missing data for lep_4 in row 910272, skipping this particle.\n"
     ]
    },
    {
     "name": "stderr",
     "output_type": "stream",
     "text": [
      "Calculating total invariant mass:  68%|██████▊   | 911935/1333914 [05:03<01:49, 3860.00it/s]"
     ]
    },
    {
     "name": "stdout",
     "output_type": "stream",
     "text": [
      "Missing data for lep_4 in row 911409, skipping this particle.\n"
     ]
    },
    {
     "name": "stderr",
     "output_type": "stream",
     "text": [
      "Calculating total invariant mass:  69%|██████▊   | 915124/1333914 [05:04<01:51, 3765.76it/s]"
     ]
    },
    {
     "name": "stdout",
     "output_type": "stream",
     "text": [
      "Missing data for lep_4 in row 914550, skipping this particle.\n"
     ]
    },
    {
     "name": "stderr",
     "output_type": "stream",
     "text": [
      "Calculating total invariant mass:  69%|██████▉   | 919469/1333914 [05:05<01:51, 3728.46it/s]"
     ]
    },
    {
     "name": "stdout",
     "output_type": "stream",
     "text": [
      "Missing data for lep_4 in row 918959, skipping this particle.\n"
     ]
    },
    {
     "name": "stderr",
     "output_type": "stream",
     "text": [
      "Calculating total invariant mass:  70%|██████▉   | 930116/1333914 [05:07<01:47, 3752.72it/s]"
     ]
    },
    {
     "name": "stdout",
     "output_type": "stream",
     "text": [
      "Missing data for lep_4 in row 929666, skipping this particle.\n"
     ]
    },
    {
     "name": "stderr",
     "output_type": "stream",
     "text": [
      "Calculating total invariant mass:  70%|███████   | 935312/1333914 [05:09<01:44, 3821.57it/s]"
     ]
    },
    {
     "name": "stdout",
     "output_type": "stream",
     "text": [
      "Missing data for lep_4 in row 934681, skipping this particle.\n"
     ]
    },
    {
     "name": "stderr",
     "output_type": "stream",
     "text": [
      "Calculating total invariant mass:  71%|███████   | 945565/1333914 [05:12<01:42, 3779.11it/s]"
     ]
    },
    {
     "name": "stdout",
     "output_type": "stream",
     "text": [
      "Missing data for lep_4 in row 944979, skipping this particle.\n"
     ]
    },
    {
     "name": "stderr",
     "output_type": "stream",
     "text": [
      "Calculating total invariant mass:  71%|███████   | 948761/1333914 [05:12<01:40, 3818.57it/s]"
     ]
    },
    {
     "name": "stdout",
     "output_type": "stream",
     "text": [
      "Missing data for lep_4 in row 948165, skipping this particle.\n"
     ]
    },
    {
     "name": "stderr",
     "output_type": "stream",
     "text": [
      "Calculating total invariant mass:  71%|███████   | 950350/1333914 [05:13<01:40, 3823.32it/s]"
     ]
    },
    {
     "name": "stdout",
     "output_type": "stream",
     "text": [
      "Missing data for lep_4 in row 949664, skipping this particle.\n"
     ]
    },
    {
     "name": "stderr",
     "output_type": "stream",
     "text": [
      "Calculating total invariant mass:  71%|███████▏  | 952705/1333914 [05:13<01:41, 3756.80it/s]"
     ]
    },
    {
     "name": "stdout",
     "output_type": "stream",
     "text": [
      "Missing data for lep_4 in row 952146, skipping this particle.\n"
     ]
    },
    {
     "name": "stderr",
     "output_type": "stream",
     "text": [
      "Calculating total invariant mass:  72%|███████▏  | 962050/1333914 [05:16<01:39, 3748.57it/s]"
     ]
    },
    {
     "name": "stdout",
     "output_type": "stream",
     "text": [
      "Missing data for lep_4 in row 961293, skipping this particle.\n"
     ]
    },
    {
     "name": "stderr",
     "output_type": "stream",
     "text": [
      "Calculating total invariant mass:  72%|███████▏  | 965218/1333914 [05:17<01:38, 3744.87it/s]"
     ]
    },
    {
     "name": "stdout",
     "output_type": "stream",
     "text": [
      "Missing data for lep_4 in row 964632, skipping this particle.\n"
     ]
    },
    {
     "name": "stderr",
     "output_type": "stream",
     "text": [
      "Calculating total invariant mass:  73%|███████▎  | 971525/1333914 [05:19<01:37, 3705.64it/s]"
     ]
    },
    {
     "name": "stdout",
     "output_type": "stream",
     "text": [
      "Missing data for lep_4 in row 970800, skipping this particle.\n"
     ]
    },
    {
     "name": "stderr",
     "output_type": "stream",
     "text": [
      "Calculating total invariant mass:  73%|███████▎  | 976732/1333914 [05:20<01:33, 3805.76it/s]"
     ]
    },
    {
     "name": "stdout",
     "output_type": "stream",
     "text": [
      "Missing data for lep_4 in row 976079, skipping this particle.\n",
      "Missing data for lep_4 in row 976539, skipping this particle.\n"
     ]
    },
    {
     "name": "stderr",
     "output_type": "stream",
     "text": [
      "Calculating total invariant mass:  74%|███████▎  | 983458/1333914 [05:22<01:29, 3903.46it/s]"
     ]
    },
    {
     "name": "stdout",
     "output_type": "stream",
     "text": [
      "Missing data for lep_4 in row 982772, skipping this particle.\n"
     ]
    },
    {
     "name": "stderr",
     "output_type": "stream",
     "text": [
      "Calculating total invariant mass:  74%|███████▍  | 989795/1333914 [05:23<01:39, 3463.73it/s]"
     ]
    },
    {
     "name": "stdout",
     "output_type": "stream",
     "text": [
      "Missing data for lep_4 in row 989395, skipping this particle.\n"
     ]
    },
    {
     "name": "stderr",
     "output_type": "stream",
     "text": [
      "Calculating total invariant mass:  75%|███████▍  | 994231/1333914 [05:24<01:27, 3892.71it/s]"
     ]
    },
    {
     "name": "stdout",
     "output_type": "stream",
     "text": [
      "Missing data for lep_4 in row 993605, skipping this particle.\n"
     ]
    },
    {
     "name": "stderr",
     "output_type": "stream",
     "text": [
      "Calculating total invariant mass:  75%|███████▍  | 995453/1333914 [05:25<01:26, 3906.88it/s]"
     ]
    },
    {
     "name": "stdout",
     "output_type": "stream",
     "text": [
      "Missing data for lep_4 in row 994961, skipping this particle.\n"
     ]
    },
    {
     "name": "stderr",
     "output_type": "stream",
     "text": [
      "Calculating total invariant mass:  75%|███████▍  | 997434/1333914 [05:25<01:28, 3794.17it/s]"
     ]
    },
    {
     "name": "stdout",
     "output_type": "stream",
     "text": [
      "Missing data for lep_4 in row 996776, skipping this particle.\n",
      "Missing data for lep_4 in row 997270, skipping this particle.\n"
     ]
    },
    {
     "name": "stderr",
     "output_type": "stream",
     "text": [
      "Calculating total invariant mass:  75%|███████▍  | 998635/1333914 [05:26<01:27, 3820.56it/s]"
     ]
    },
    {
     "name": "stdout",
     "output_type": "stream",
     "text": [
      "Missing data for lep_4 in row 997941, skipping this particle.\n"
     ]
    },
    {
     "name": "stderr",
     "output_type": "stream",
     "text": [
      "Calculating total invariant mass:  75%|███████▌  | 1002588/1333914 [05:27<01:28, 3733.63it/s]"
     ]
    },
    {
     "name": "stdout",
     "output_type": "stream",
     "text": [
      "Missing data for lep_4 in row 1001905, skipping this particle.\n"
     ]
    },
    {
     "name": "stderr",
     "output_type": "stream",
     "text": [
      "Calculating total invariant mass:  75%|███████▌  | 1006460/1333914 [05:28<01:27, 3744.24it/s]"
     ]
    },
    {
     "name": "stdout",
     "output_type": "stream",
     "text": [
      "Missing data for lep_4 in row 1005715, skipping this particle.\n"
     ]
    },
    {
     "name": "stderr",
     "output_type": "stream",
     "text": [
      "Calculating total invariant mass:  76%|███████▌  | 1011710/1333914 [05:29<01:23, 3855.49it/s]"
     ]
    },
    {
     "name": "stdout",
     "output_type": "stream",
     "text": [
      "Missing data for lep_4 in row 1010878, skipping this particle.\n"
     ]
    },
    {
     "name": "stderr",
     "output_type": "stream",
     "text": [
      "Calculating total invariant mass:  76%|███████▌  | 1012496/1333914 [05:29<01:23, 3848.31it/s]"
     ]
    },
    {
     "name": "stdout",
     "output_type": "stream",
     "text": [
      "Missing data for lep_4 in row 1011734, skipping this particle.\n"
     ]
    },
    {
     "name": "stderr",
     "output_type": "stream",
     "text": [
      "Calculating total invariant mass:  76%|███████▌  | 1015680/1333914 [05:30<01:23, 3789.32it/s]"
     ]
    },
    {
     "name": "stdout",
     "output_type": "stream",
     "text": [
      "Missing data for lep_4 in row 1015205, skipping this particle.\n"
     ]
    },
    {
     "name": "stderr",
     "output_type": "stream",
     "text": [
      "Calculating total invariant mass:  77%|███████▋  | 1030766/1333914 [05:34<01:19, 3794.43it/s]"
     ]
    },
    {
     "name": "stdout",
     "output_type": "stream",
     "text": [
      "Missing data for lep_4 in row 1030213, skipping this particle.\n"
     ]
    },
    {
     "name": "stderr",
     "output_type": "stream",
     "text": [
      "Calculating total invariant mass:  78%|███████▊  | 1037910/1333914 [05:36<01:18, 3763.63it/s]"
     ]
    },
    {
     "name": "stdout",
     "output_type": "stream",
     "text": [
      "Missing data for lep_4 in row 1037384, skipping this particle.\n"
     ]
    },
    {
     "name": "stderr",
     "output_type": "stream",
     "text": [
      "Calculating total invariant mass:  78%|███████▊  | 1042994/1333914 [05:37<01:17, 3749.24it/s]"
     ]
    },
    {
     "name": "stdout",
     "output_type": "stream",
     "text": [
      "Missing data for lep_4 in row 1042296, skipping this particle.\n"
     ]
    },
    {
     "name": "stderr",
     "output_type": "stream",
     "text": [
      "Calculating total invariant mass:  78%|███████▊  | 1044551/1333914 [05:38<01:17, 3745.94it/s]"
     ]
    },
    {
     "name": "stdout",
     "output_type": "stream",
     "text": [
      "Missing data for lep_4 in row 1043816, skipping this particle.\n"
     ]
    },
    {
     "name": "stderr",
     "output_type": "stream",
     "text": [
      "Calculating total invariant mass:  78%|███████▊  | 1045321/1333914 [05:38<01:16, 3781.36it/s]"
     ]
    },
    {
     "name": "stdout",
     "output_type": "stream",
     "text": [
      "Missing data for lep_4 in row 1044633, skipping this particle.\n"
     ]
    },
    {
     "name": "stderr",
     "output_type": "stream",
     "text": [
      "Calculating total invariant mass:  79%|███████▊  | 1048929/1333914 [05:39<01:15, 3755.65it/s]"
     ]
    },
    {
     "name": "stdout",
     "output_type": "stream",
     "text": [
      "Missing data for lep_4 in row 1048501, skipping this particle.\n"
     ]
    },
    {
     "name": "stderr",
     "output_type": "stream",
     "text": [
      "Calculating total invariant mass:  80%|███████▉  | 1060535/1333914 [05:42<01:11, 3846.93it/s]"
     ]
    },
    {
     "name": "stdout",
     "output_type": "stream",
     "text": [
      "Missing data for lep_4 in row 1059774, skipping this particle.\n"
     ]
    },
    {
     "name": "stderr",
     "output_type": "stream",
     "text": [
      "Calculating total invariant mass:  80%|████████  | 1070304/1333914 [05:45<01:09, 3797.42it/s]"
     ]
    },
    {
     "name": "stdout",
     "output_type": "stream",
     "text": [
      "Missing data for lep_4 in row 1069786, skipping this particle.\n"
     ]
    },
    {
     "name": "stderr",
     "output_type": "stream",
     "text": [
      "Calculating total invariant mass:  81%|████████  | 1083729/1333914 [05:48<01:07, 3692.09it/s]"
     ]
    },
    {
     "name": "stdout",
     "output_type": "stream",
     "text": [
      "Missing data for lep_4 in row 1083047, skipping this particle.\n",
      "Missing data for lep_5 in row 1083047, skipping this particle.\n"
     ]
    },
    {
     "name": "stderr",
     "output_type": "stream",
     "text": [
      "Calculating total invariant mass:  82%|████████▏ | 1087237/1333914 [05:49<01:06, 3689.60it/s]"
     ]
    },
    {
     "name": "stdout",
     "output_type": "stream",
     "text": [
      "Missing data for lep_4 in row 1086797, skipping this particle.\n"
     ]
    },
    {
     "name": "stderr",
     "output_type": "stream",
     "text": [
      "Calculating total invariant mass:  82%|████████▏ | 1088814/1333914 [05:50<01:05, 3727.51it/s]"
     ]
    },
    {
     "name": "stdout",
     "output_type": "stream",
     "text": [
      "Missing data for lep_4 in row 1088322, skipping this particle.\n"
     ]
    },
    {
     "name": "stderr",
     "output_type": "stream",
     "text": [
      "Calculating total invariant mass:  83%|████████▎ | 1106240/1333914 [05:54<01:01, 3681.98it/s]"
     ]
    },
    {
     "name": "stdout",
     "output_type": "stream",
     "text": [
      "Missing data for lep_4 in row 1105600, skipping this particle.\n",
      "Missing data for lep_4 in row 1105704, skipping this particle.\n"
     ]
    },
    {
     "name": "stderr",
     "output_type": "stream",
     "text": [
      "Calculating total invariant mass:  85%|████████▍ | 1130484/1333914 [06:01<00:54, 3758.61it/s]"
     ]
    },
    {
     "name": "stdout",
     "output_type": "stream",
     "text": [
      "Missing data for lep_4 in row 1129822, skipping this particle.\n"
     ]
    },
    {
     "name": "stderr",
     "output_type": "stream",
     "text": [
      "Calculating total invariant mass:  85%|████████▌ | 1137208/1333914 [06:02<00:52, 3715.53it/s]"
     ]
    },
    {
     "name": "stdout",
     "output_type": "stream",
     "text": [
      "Missing data for lep_4 in row 1136803, skipping this particle.\n"
     ]
    },
    {
     "name": "stderr",
     "output_type": "stream",
     "text": [
      "Calculating total invariant mass:  86%|████████▌ | 1142360/1333914 [06:04<00:50, 3800.79it/s]"
     ]
    },
    {
     "name": "stdout",
     "output_type": "stream",
     "text": [
      "Missing data for lep_4 in row 1141654, skipping this particle.\n",
      "Missing data for lep_4 in row 1141847, skipping this particle.\n"
     ]
    },
    {
     "name": "stderr",
     "output_type": "stream",
     "text": [
      "Calculating total invariant mass:  87%|████████▋ | 1160168/1333914 [06:09<00:46, 3715.32it/s]"
     ]
    },
    {
     "name": "stdout",
     "output_type": "stream",
     "text": [
      "Missing data for lep_4 in row 1159423, skipping this particle.\n"
     ]
    },
    {
     "name": "stderr",
     "output_type": "stream",
     "text": [
      "Calculating total invariant mass:  88%|████████▊ | 1168143/1333914 [06:11<00:45, 3607.86it/s]"
     ]
    },
    {
     "name": "stdout",
     "output_type": "stream",
     "text": [
      "Missing data for lep_4 in row 1167582, skipping this particle.\n",
      "Missing data for lep_4 in row 1167692, skipping this particle.\n"
     ]
    },
    {
     "name": "stderr",
     "output_type": "stream",
     "text": [
      "Calculating total invariant mass:  89%|████████▊ | 1182814/1333914 [06:15<00:39, 3828.78it/s]"
     ]
    },
    {
     "name": "stdout",
     "output_type": "stream",
     "text": [
      "Missing data for lep_4 in row 1181938, skipping this particle.\n"
     ]
    },
    {
     "name": "stderr",
     "output_type": "stream",
     "text": [
      "Calculating total invariant mass:  89%|████████▉ | 1193421/1333914 [06:17<00:37, 3740.78it/s]"
     ]
    },
    {
     "name": "stdout",
     "output_type": "stream",
     "text": [
      "Missing data for lep_4 in row 1192843, skipping this particle.\n"
     ]
    },
    {
     "name": "stderr",
     "output_type": "stream",
     "text": [
      "Calculating total invariant mass:  90%|████████▉ | 1197364/1333914 [06:18<00:36, 3778.55it/s]"
     ]
    },
    {
     "name": "stdout",
     "output_type": "stream",
     "text": [
      "Missing data for lep_4 in row 1196574, skipping this particle.\n"
     ]
    },
    {
     "name": "stderr",
     "output_type": "stream",
     "text": [
      "Calculating total invariant mass:  90%|█████████ | 1200580/1333914 [06:19<00:34, 3834.21it/s]"
     ]
    },
    {
     "name": "stdout",
     "output_type": "stream",
     "text": [
      "Missing data for lep_4 in row 1200050, skipping this particle.\n"
     ]
    },
    {
     "name": "stderr",
     "output_type": "stream",
     "text": [
      "Calculating total invariant mass:  90%|█████████ | 1202122/1333914 [06:20<00:35, 3724.48it/s]"
     ]
    },
    {
     "name": "stdout",
     "output_type": "stream",
     "text": [
      "Missing data for lep_4 in row 1201553, skipping this particle.\n"
     ]
    },
    {
     "name": "stderr",
     "output_type": "stream",
     "text": [
      "Calculating total invariant mass:  90%|█████████ | 1204914/1333914 [06:20<00:34, 3752.47it/s]"
     ]
    },
    {
     "name": "stdout",
     "output_type": "stream",
     "text": [
      "Missing data for lep_4 in row 1204463, skipping this particle.\n"
     ]
    },
    {
     "name": "stderr",
     "output_type": "stream",
     "text": [
      "Calculating total invariant mass:  91%|█████████▏| 1218632/1333914 [06:24<00:30, 3723.99it/s]"
     ]
    },
    {
     "name": "stdout",
     "output_type": "stream",
     "text": [
      "Missing data for lep_4 in row 1218010, skipping this particle.\n"
     ]
    },
    {
     "name": "stderr",
     "output_type": "stream",
     "text": [
      "Calculating total invariant mass:  92%|█████████▏| 1222199/1333914 [06:25<00:30, 3632.03it/s]"
     ]
    },
    {
     "name": "stdout",
     "output_type": "stream",
     "text": [
      "Missing data for lep_4 in row 1221563, skipping this particle.\n"
     ]
    },
    {
     "name": "stderr",
     "output_type": "stream",
     "text": [
      "Calculating total invariant mass:  92%|█████████▏| 1230552/1333914 [06:27<00:27, 3795.14it/s]"
     ]
    },
    {
     "name": "stdout",
     "output_type": "stream",
     "text": [
      "Missing data for lep_4 in row 1230065, skipping this particle.\n"
     ]
    },
    {
     "name": "stderr",
     "output_type": "stream",
     "text": [
      "Calculating total invariant mass:  92%|█████████▏| 1231761/1333914 [06:28<00:26, 3806.64it/s]"
     ]
    },
    {
     "name": "stdout",
     "output_type": "stream",
     "text": [
      "Missing data for jet_16 in row 1231218, skipping this particle.\n",
      "Missing data for jet_17 in row 1231218, skipping this particle.\n"
     ]
    },
    {
     "name": "stderr",
     "output_type": "stream",
     "text": [
      "Calculating total invariant mass:  94%|█████████▍| 1260107/1333914 [06:35<00:20, 3662.21it/s]"
     ]
    },
    {
     "name": "stdout",
     "output_type": "stream",
     "text": [
      "Missing data for lep_4 in row 1259416, skipping this particle.\n"
     ]
    },
    {
     "name": "stderr",
     "output_type": "stream",
     "text": [
      "Calculating total invariant mass:  96%|█████████▌| 1279515/1333914 [06:41<00:14, 3672.08it/s]"
     ]
    },
    {
     "name": "stdout",
     "output_type": "stream",
     "text": [
      "Missing data for lep_4 in row 1279012, skipping this particle.\n",
      "Missing data for lep_5 in row 1279012, skipping this particle.\n"
     ]
    },
    {
     "name": "stderr",
     "output_type": "stream",
     "text": [
      "Calculating total invariant mass:  96%|█████████▋| 1285435/1333914 [06:42<00:12, 3740.96it/s]"
     ]
    },
    {
     "name": "stdout",
     "output_type": "stream",
     "text": [
      "Missing data for lep_4 in row 1284752, skipping this particle.\n"
     ]
    },
    {
     "name": "stderr",
     "output_type": "stream",
     "text": [
      "Calculating total invariant mass:  97%|█████████▋| 1287746/1333914 [06:43<00:12, 3686.30it/s]"
     ]
    },
    {
     "name": "stdout",
     "output_type": "stream",
     "text": [
      "Missing data for lep_4 in row 1287211, skipping this particle.\n",
      "Missing data for lep_5 in row 1287211, skipping this particle.\n",
      "Missing data for lep_4 in row 1287773, skipping this particle.\n"
     ]
    },
    {
     "name": "stderr",
     "output_type": "stream",
     "text": [
      "Calculating total invariant mass:  98%|█████████▊| 1303792/1333914 [06:47<00:08, 3672.44it/s]"
     ]
    },
    {
     "name": "stdout",
     "output_type": "stream",
     "text": [
      "Missing data for lep_4 in row 1303231, skipping this particle.\n"
     ]
    },
    {
     "name": "stderr",
     "output_type": "stream",
     "text": [
      "Calculating total invariant mass:  98%|█████████▊| 1304560/1333914 [06:47<00:07, 3730.86it/s]"
     ]
    },
    {
     "name": "stdout",
     "output_type": "stream",
     "text": [
      "Missing data for lep_4 in row 1304126, skipping this particle.\n",
      "Missing data for lep_5 in row 1304346, skipping this particle.\n"
     ]
    },
    {
     "name": "stderr",
     "output_type": "stream",
     "text": [
      "Calculating total invariant mass:  98%|█████████▊| 1306520/1333914 [06:48<00:07, 3763.60it/s]"
     ]
    },
    {
     "name": "stdout",
     "output_type": "stream",
     "text": [
      "Missing data for lep_4 in row 1306027, skipping this particle.\n",
      "Missing data for lep_4 in row 1306423, skipping this particle.\n",
      "Missing data for lep_4 in row 1306678, skipping this particle.\n",
      "Missing data for lep_4 in row 1306791, skipping this particle.\n"
     ]
    },
    {
     "name": "stderr",
     "output_type": "stream",
     "text": [
      "Calculating total invariant mass:  98%|█████████▊| 1309235/1333914 [06:49<00:06, 3692.67it/s]"
     ]
    },
    {
     "name": "stdout",
     "output_type": "stream",
     "text": [
      "Missing data for lep_4 in row 1308617, skipping this particle.\n"
     ]
    },
    {
     "name": "stderr",
     "output_type": "stream",
     "text": [
      "Calculating total invariant mass:  98%|█████████▊| 1313789/1333914 [06:50<00:05, 3710.57it/s]"
     ]
    },
    {
     "name": "stdout",
     "output_type": "stream",
     "text": [
      "Missing data for lep_4 in row 1313140, skipping this particle.\n"
     ]
    },
    {
     "name": "stderr",
     "output_type": "stream",
     "text": [
      "Calculating total invariant mass:  99%|█████████▉| 1323706/1333914 [06:52<00:02, 3753.89it/s]"
     ]
    },
    {
     "name": "stdout",
     "output_type": "stream",
     "text": [
      "Missing data for lep_4 in row 1323088, skipping this particle.\n"
     ]
    },
    {
     "name": "stderr",
     "output_type": "stream",
     "text": [
      "Calculating total invariant mass: 100%|█████████▉| 1328122/1333914 [06:54<00:01, 3736.48it/s]"
     ]
    },
    {
     "name": "stdout",
     "output_type": "stream",
     "text": [
      "Missing data for lep_4 in row 1327464, skipping this particle.\n"
     ]
    },
    {
     "name": "stderr",
     "output_type": "stream",
     "text": [
      "Calculating total invariant mass: 100%|██████████| 1333914/1333914 [06:55<00:00, 3209.29it/s]\n"
     ]
    },
    {
     "name": "stdout",
     "output_type": "stream",
     "text": [
      "Missing data for lep_4 in row 1333793, skipping this particle.\n",
      "Expanded DataFrame head with total invariant mass column:\n",
      "   eventNumber  scaleFactor_PILEUP  scaleFactor_PhotonTRIGGER  trigE  trigM  \\\n",
      "0      4246580            0.696077                   0.995786  False  False   \n",
      "1    242211722            0.000000                   0.000000  False  False   \n",
      "2        56490            1.214122                   1.005498  False  False   \n",
      "3   -163493589            0.000000                   0.000000  False  False   \n",
      "4      3977190            0.750880                   1.002282  False  False   \n",
      "\n",
      "   trigP  lep_n        met_et   met_phi  jet_n  ...  jet_pt_syst10  \\\n",
      "0   True      0  51045.160156  2.794363      3  ...            0.0   \n",
      "1   True      0  43901.460938 -0.197949      1  ...            0.0   \n",
      "2   True      0  58347.421875 -0.033184      3  ...            0.0   \n",
      "3   True      0  16311.075195 -0.042286      0  ...            0.0   \n",
      "4   True      0  43917.437500 -1.083709      1  ...            0.0   \n",
      "\n",
      "   jet_pt_syst11  jet_pt_syst12  jet_pt_syst13  jet_pt_syst14  jet_pt_syst15  \\\n",
      "0            0.0            0.0            0.0            0.0            0.0   \n",
      "1            0.0            0.0            0.0            0.0            0.0   \n",
      "2            0.0            0.0            0.0            0.0            0.0   \n",
      "3            0.0            0.0            0.0            0.0            0.0   \n",
      "4            0.0            0.0            0.0            0.0            0.0   \n",
      "\n",
      "  photon_pt_syst2 photon_pt_syst3 photon_pt_syst4 totalInvariantMass  \n",
      "0             0.0             0.0             0.0      390872.265768  \n",
      "1             0.0             0.0             0.0       97450.568832  \n",
      "2             0.0             0.0             0.0      171393.168142  \n",
      "3             0.0             0.0             0.0       77321.768127  \n",
      "4             0.0             0.0             0.0      124472.867715  \n",
      "\n",
      "[5 rows x 274 columns]\n",
      "DataFrame with total invariant mass written to expanded_dataframe_with_total_invariant_mass.csv.\n"
     ]
    }
   ],
   "source": [
    "import pandas as pd\n",
    "import vector\n",
    "from tqdm import tqdm\n",
    "\n",
    "def determine_all_particles(row):\n",
    "    \"\"\"\n",
    "    Determines the list of particle types based on the number of particles in the event.\n",
    "\n",
    "    :param row: A row from the DataFrame.\n",
    "    :return: A list of particle prefixes corresponding to all particles in the event.\n",
    "    \"\"\"\n",
    "    particle_types = []\n",
    "\n",
    "    if row['photon_n'] > 0:\n",
    "        particle_types.extend(['photon'] * row['photon_n'])  # Include all photons\n",
    "    \n",
    "    if row['lep_n'] > 0:\n",
    "        particle_types.extend(['lep'] * row['lep_n'])  # Include all leptons\n",
    "    \n",
    "    if row['jet_n'] > 0:\n",
    "        particle_types.extend(['jet'] * row['jet_n'])  # Include all jets\n",
    "\n",
    "    # Add more particle types based on the {particle}_n columns if necessary\n",
    "\n",
    "    return particle_types\n",
    "\n",
    "def calculate_total_invariant_mass(df):\n",
    "    \"\"\"\n",
    "    Calculate the total invariant mass for each event by summing all particle 4-vectors.\n",
    "\n",
    "    :param df: The DataFrame containing particle kinematic data.\n",
    "    :return: The DataFrame with a new 'totalInvariantMass' column.\n",
    "    \"\"\"\n",
    "    total_invariant_masses = []\n",
    "\n",
    "    # Add a progress bar using tqdm\n",
    "    for index, row in tqdm(df.iterrows(), total=len(df), desc=\"Calculating total invariant mass\"):\n",
    "        # Determine all particles present in this event\n",
    "        particle_types = determine_all_particles(row)\n",
    "\n",
    "        if particle_types:\n",
    "            # Initialize the total vector with the first vector\n",
    "            total_vector = None\n",
    "\n",
    "            for j, prefix in enumerate(particle_types):\n",
    "                try:\n",
    "                    # Construct 4-vectors based on the particle type and index\n",
    "                    vector_obj = vector.obj(\n",
    "                        pt=row[f\"{prefix}_pt{j}\"],\n",
    "                        eta=row[f\"{prefix}_eta{j}\"],\n",
    "                        phi=row[f\"{prefix}_phi{j}\"],\n",
    "                        E=row[f\"{prefix}_E{j}\"],\n",
    "                    )\n",
    "                    if total_vector is None:\n",
    "                        total_vector = vector_obj\n",
    "                    else:\n",
    "                        total_vector += vector_obj\n",
    "                except KeyError:\n",
    "                    print(f\"Missing data for {prefix}_{j} in row {index}, skipping this particle.\")\n",
    "                    continue\n",
    "\n",
    "            # Calculate the total invariant mass\n",
    "            if total_vector is not None:\n",
    "                total_invariant_mass = total_vector.mass\n",
    "                total_invariant_masses.append(total_invariant_mass)\n",
    "            else:\n",
    "                total_invariant_masses.append(None)\n",
    "        else:\n",
    "            total_invariant_masses.append(None)  # No valid particles found\n",
    "\n",
    "    df['totalInvariantMass'] = total_invariant_masses\n",
    "\n",
    "    return df\n",
    "\n",
    "# Example DataFrame for testing\n",
    "# Assuming `expanded_df` is your DataFrame with columns like photon_pt0, photon_eta0, etc.\n",
    "print(\"Calculating total invariant mass considering all particles in each event...\")\n",
    "\n",
    "expanded_df = calculate_total_invariant_mass(cleaned_df)\n",
    "\n",
    "# Check the resulting DataFrame with the new totalInvariantMass column\n",
    "print(\"Expanded DataFrame head with total invariant mass column:\")\n",
    "print(expanded_df.head())\n",
    "\n",
    "# Optionally, save the updated DataFrame with the total invariant mass to a CSV file\n",
    "output_file = \"expanded_dataframe_with_total_invariant_mass.csv\"\n",
    "expanded_df.to_csv(output_file, index=False)\n",
    "print(f\"DataFrame with total invariant mass written to {output_file}.\")\n"
   ]
  },
  {
   "cell_type": "code",
   "execution_count": 16,
   "metadata": {},
   "outputs": [
    {
     "data": {
      "image/png": "[encoded data removed]",
      "text/plain": [
       "<Figure size 1000x600 with 1 Axes>"
      ]
     },
     "metadata": {},
     "output_type": "display_data"
    }
   ],
   "source": [
    "import pandas as pd\n",
    "import matplotlib.pyplot as plt\n",
    "\n",
    "# Assuming `expanded_df` is your DataFrame with a 'totalInvariantMass' column and 'isHiggs' labels\n",
    "\n",
    "def plot_invariant_mass_histogram(df, bins=500):\n",
    "    \"\"\"\n",
    "    Plots a histogram of the invariant masses with separate histograms for Higgs and non-Higgs events.\n",
    "\n",
    "    :param df: The DataFrame containing the 'totalInvariantMass' and 'isHiggs' columns.\n",
    "    \"\"\"\n",
    "    # Filter the DataFrame for Higgs and non-Higgs events\n",
    "    higgs_df = df[df['isHiggs'] == 1]\n",
    "    non_higgs_df = df[df['isHiggs'] == 0]\n",
    "\n",
    "    # Plot histograms\n",
    "    plt.figure(figsize=(10, 6))\n",
    "\n",
    "    # Histogram for all events\n",
    "    plt.hist(df['totalInvariantMass'].dropna(), bins=bins, alpha=0.5, label='All Events', color='blue')\n",
    "\n",
    "    # Histogram for Higgs events\n",
    "    plt.hist(higgs_df['totalInvariantMass'].dropna(), bins=bins, alpha=0.5, label='Higgs Events', color='green')\n",
    "\n",
    "    # Histogram for non-Higgs events\n",
    "    plt.hist(non_higgs_df['totalInvariantMass'].dropna(), bins=bins, alpha=0.5, label='Non-Higgs Events', color='red')\n",
    "\n",
    "    # Plot formatting\n",
    "    plt.xlabel('Invariant Mass (MeV)')\n",
    "    plt.ylabel('Number of Events')\n",
    "    plt.title('Histogram of Invariant Masses')\n",
    "    plt.legend(loc='upper right')\n",
    "    plt.grid(True)\n",
    "\n",
    "    # Show the plot\n",
    "    plt.show()\n",
    "\n",
    "# Plot the histogram using the function\n",
    "plot_invariant_mass_histogram(expanded_df)\n"
   ]
  },
  {
   "cell_type": "code",
   "execution_count": 9,
   "metadata": {},
   "outputs": [
    {
     "name": "stdout",
     "output_type": "stream",
     "text": [
      "Training/Validation DataFrame:\n",
      "    eventNumber  scaleFactor_PILEUP  scaleFactor_PhotonTRIGGER  trigE  trigM  \\\n",
      "0       4246580            0.696077                   0.995786  False  False   \n",
      "2         56490            1.214122                   1.005498  False  False   \n",
      "4       3977190            0.750880                   1.002282  False  False   \n",
      "7        375365            0.187531                   0.978654  False  False   \n",
      "11       125352            1.251332                   1.000458  False  False   \n",
      "\n",
      "    trigP  lep_n        met_et   met_phi  jet_n  ...  jet_pt_syst10  \\\n",
      "0    True      0  51045.160156  2.794363      3  ...            0.0   \n",
      "2    True      0  58347.421875 -0.033184      3  ...            0.0   \n",
      "4    True      0  43917.437500 -1.083709      1  ...            0.0   \n",
      "7    True      0  30531.507812  0.860157      2  ...            0.0   \n",
      "11   True      0  58828.941406 -1.128013      1  ...            0.0   \n",
      "\n",
      "    jet_pt_syst11  jet_pt_syst12  jet_pt_syst13  jet_pt_syst14  jet_pt_syst15  \\\n",
      "0             0.0            0.0            0.0            0.0            0.0   \n",
      "2             0.0            0.0            0.0            0.0            0.0   \n",
      "4             0.0            0.0            0.0            0.0            0.0   \n",
      "7             0.0            0.0            0.0            0.0            0.0   \n",
      "11            0.0            0.0            0.0            0.0            0.0   \n",
      "\n",
      "   photon_pt_syst2 photon_pt_syst3 photon_pt_syst4 totalInvariantMass  \n",
      "0              0.0             0.0             0.0      390872.265768  \n",
      "2              0.0             0.0             0.0      171393.168142  \n",
      "4              0.0             0.0             0.0      124472.867715  \n",
      "7              0.0             0.0             0.0       99834.656460  \n",
      "11             0.0             0.0             0.0      127352.275014  \n",
      "\n",
      "[5 rows x 274 columns]\n",
      "\n",
      "Test DataFrame (Non-Higgs events only):\n",
      "         eventNumber  scaleFactor_PILEUP  scaleFactor_PhotonTRIGGER  trigE  \\\n",
      "661021    2050143073                 0.0                        0.0  False   \n",
      "775269    1275365767                 0.0                        0.0  False   \n",
      "1087095   1043059645                 0.0                        0.0  False   \n",
      "164936   -1429196898                 0.0                        0.0  False   \n",
      "565528      68877726                 0.0                        0.0  False   \n",
      "\n",
      "         trigM  trigP  lep_n        met_et   met_phi  jet_n  ...  \\\n",
      "661021   False   True      0   9045.200195  1.022757      3  ...   \n",
      "775269   False   True      0  21492.482422 -0.414178      0  ...   \n",
      "1087095  False   True      0  23027.052734  1.943492      2  ...   \n",
      "164936   False   True      0  85123.210938  0.825396      0  ...   \n",
      "565528   False   True      0  14290.399414 -2.344045      0  ...   \n",
      "\n",
      "         jet_pt_syst10  jet_pt_syst11  jet_pt_syst12  jet_pt_syst13  \\\n",
      "661021             0.0            0.0            0.0            0.0   \n",
      "775269             0.0            0.0            0.0            0.0   \n",
      "1087095            0.0            0.0            0.0            0.0   \n",
      "164936             0.0            0.0            0.0            0.0   \n",
      "565528             0.0            0.0            0.0            0.0   \n",
      "\n",
      "         jet_pt_syst14  jet_pt_syst15 photon_pt_syst2 photon_pt_syst3  \\\n",
      "661021             0.0            0.0             0.0             0.0   \n",
      "775269             0.0            0.0             0.0             0.0   \n",
      "1087095            0.0            0.0             0.0             0.0   \n",
      "164936             0.0            0.0             0.0             0.0   \n",
      "565528             0.0            0.0             0.0             0.0   \n",
      "\n",
      "        photon_pt_syst4 totalInvariantMass  \n",
      "661021              0.0      155819.731030  \n",
      "775269              0.0      101886.196401  \n",
      "1087095             0.0      217041.115945  \n",
      "164936              0.0       80168.530556  \n",
      "565528              0.0      105798.546002  \n",
      "\n",
      "[5 rows x 274 columns]\n",
      "Test DataFrame with non-Higgs events written to test_non_higgs_dataframe.csv.\n",
      "Training/Validation DataFrame with Higgs and non-Higgs events written to train_higgs_and_non_higgs_dataframe.csv.\n"
     ]
    }
   ],
   "source": [
    "import pandas as pd\n",
    "from sklearn.model_selection import train_test_split\n",
    "\n",
    "# Assuming `expanded_df` is your DataFrame\n",
    "\n",
    "# Step 1: Separate the non-Higgs events\n",
    "non_higgs_df = expanded_df[expanded_df['isHiggs'] == 0]\n",
    "\n",
    "# Step 2: Split the non-Higgs data into training/validation set and test set\n",
    "non_higgs_train_df, test_df = train_test_split(non_higgs_df, test_size=0.2, random_state=42)\n",
    "\n",
    "# Step 3: Combine the non-Higgs training/validation set with the original Higgs events\n",
    "train_df = pd.concat([expanded_df[expanded_df['isHiggs'] == 1], non_higgs_train_df])\n",
    "\n",
    "# Step 4: Verify the split\n",
    "print(\"Training/Validation DataFrame:\")\n",
    "print(train_df.head())\n",
    "\n",
    "print(\"\\nTest DataFrame (Non-Higgs events only):\")\n",
    "print(test_df.head())\n",
    "\n",
    "# Optionally, save the test DataFrame for later use\n",
    "test_output_file = \"test_non_higgs_dataframe.csv\"\n",
    "test_df.to_csv(test_output_file, index=False)\n",
    "print(f\"Test DataFrame with non-Higgs events written to {test_output_file}.\")\n",
    "\n",
    "# Optionally, save the training/validation DataFrame for use in training\n",
    "train_output_file = \"train_higgs_and_non_higgs_dataframe.csv\"\n",
    "train_df.to_csv(train_output_file, index=False)\n",
    "print(f\"Training/Validation DataFrame with Higgs and non-Higgs events written to {train_output_file}.\")\n"
   ]
  },
  {
   "cell_type": "code",
   "execution_count": 21,
   "metadata": {},
   "outputs": [],
   "source": [
    "def higgs_ratio(df):\n",
    "    return sum(df.isHiggs) / len(df)"
   ]
  },
  {
   "cell_type": "code",
   "execution_count": 16,
   "metadata": {},
   "outputs": [
    {
     "name": "stderr",
     "output_type": "stream",
     "text": [
      "C:\\Users\\phgil\\AppData\\Local\\Temp\\ipykernel_22684\\1434935774.py:1: DtypeWarning: Columns (16,17,18,19,21,22,23,53,54,55,168,169,170,171,172,173,174,175,176,177,178,179,180,181,182,183,200,201,202,203,204,208,209,233,234) have mixed types. Specify dtype option on import or set low_memory=False.\n",
      "  train_df = pd.read_csv(\"train_higgs_and_non_higgs_dataframe.csv\").map(lambda x: float(bool(x)) if x in [\"True\", \"False\"] else float(x))\n"
     ]
    }
   ],
   "source": [
    "train_df = pd.read_csv(\"train_higgs_and_non_higgs_dataframe.csv\").map(lambda x: float(bool(x)) if x in [\"True\", \"False\"] else float(x))"
   ]
  },
  {
   "cell_type": "code",
   "execution_count": 58,
   "metadata": {},
   "outputs": [
    {
     "name": "stdout",
     "output_type": "stream",
     "text": [
      "0.42421856776300443\n",
      "1166064\n",
      "526711\n",
      "   eventNumber  scaleFactor_PILEUP  scaleFactor_PhotonTRIGGER  trigE  trigM  \\\n",
      "0    4246580.0            0.696076                   0.995786    0.0    0.0   \n",
      "2    3977190.0            0.750880                   1.002282    0.0    0.0   \n",
      "3     375365.0            0.187531                   0.978654    0.0    0.0   \n",
      "5    3453636.0            1.745631                   0.985973    0.0    0.0   \n",
      "7    4128997.0            0.696076                   0.981388    0.0    0.0   \n",
      "\n",
      "   trigP  lep_n     met_et   met_phi  jet_n  ...  jet_pt_syst10  \\\n",
      "0    1.0    0.0  51045.160  2.794363    3.0  ...            0.0   \n",
      "2    1.0    0.0  43917.438 -1.083709    1.0  ...            0.0   \n",
      "3    1.0    0.0  30531.508  0.860157    2.0  ...            0.0   \n",
      "5    1.0    0.0  63740.543  2.718296    2.0  ...            0.0   \n",
      "7    1.0    0.0  19034.055  2.155104    1.0  ...            0.0   \n",
      "\n",
      "   jet_pt_syst11  jet_pt_syst12  jet_pt_syst13  jet_pt_syst14  jet_pt_syst15  \\\n",
      "0            0.0            0.0            0.0            0.0            0.0   \n",
      "2            0.0            0.0            0.0            0.0            0.0   \n",
      "3            0.0            0.0            0.0            0.0            0.0   \n",
      "5            0.0            0.0            0.0            0.0            0.0   \n",
      "7            0.0            0.0            0.0            0.0            0.0   \n",
      "\n",
      "   photon_pt_syst2  photon_pt_syst3  photon_pt_syst4  totalInvariantMass  \n",
      "0              0.0              0.0              0.0       390872.265768  \n",
      "2              0.0              0.0              0.0       124472.867715  \n",
      "3              0.0              0.0              0.0        99834.656460  \n",
      "5              0.0              0.0              0.0       123142.899217  \n",
      "7              0.0              0.0              0.0       121290.532814  \n",
      "\n",
      "[5 rows x 274 columns]\n",
      "0.7210481649329519\n"
     ]
    }
   ],
   "source": [
    "print(higgs_ratio(train_df))\n",
    "import numpy as np\n",
    "\n",
    "import pandas as pd\n",
    "import numpy as np\n",
    "import pandas as pd\n",
    "import pandas as pd\n",
    "\n",
    "def apply_strict_higgs_filters(df):\n",
    "    \"\"\"\n",
    "    Applies stricter filters to the dataframe to select events from all Higgs boson decay channels.\n",
    "    \n",
    "    Parameters:\n",
    "        df (pd.DataFrame): The input dataframe containing events with relevant columns.\n",
    "        \n",
    "    Returns:\n",
    "        pd.DataFrame: The filtered dataframe with events satisfying the stricter filter criteria.\n",
    "    \"\"\"\n",
    "    \n",
    "    # Tighten photon selection: pT > 40 GeV, eta within 2.37 excluding barrel-endcap transition region, tighter isolation\n",
    "    df_photon = df[\n",
    "        (df['photon_n'] >= 2) &\n",
    "        (df['photon_isTightID0'] == 1) & (df['photon_isTightID1'] == 1) & \n",
    "        (df['photon_pt0'] > 40000) & (df['photon_pt1'] > 40000) &\n",
    "        (abs(df['photon_eta0']) < 2.37) & ((abs(df['photon_eta0']) < 1.37) | (abs(df['photon_eta0']) > 1.52)) &\n",
    "        (abs(df['photon_eta1']) < 2.37) & ((abs(df['photon_eta1']) < 1.37) | (abs(df['photon_eta1']) > 1.52)) &\n",
    "        (df['photon_ptcone300'] < 3000) & (df['photon_etcone200'] < 3000)\n",
    "    ]\n",
    "    \n",
    "    # Higgs -> ZZ* -> 4 leptons filter: stricter lepton selection (pT thresholds increased)\n",
    "    df_4lep = df[\n",
    "        (df['lep_n'] == 4) &\n",
    "        (df['lep_isTightID0'] == 1) & (df['lep_isTightID1'] == 1) &\n",
    "        (df['lep_pt0'] > 20000) & (df['lep_pt1'] > 15000) &\n",
    "        (df['ditau_m'] > 85000) & (df['ditau_m'] < 95000)\n",
    "    ]\n",
    "    \n",
    "    # Higgs -> WW* -> eνμν filter: stricter lepton selection (pT cuts), possibly neutrino final states\n",
    "    df_2lep = df[\n",
    "        (df['lep_n'] == 2) &\n",
    "        (df['lep_isTightID0'] == 1) & (df['lep_isTightID1'] == 1) &\n",
    "        (df['lep_pt0'] > 25000) & (df['lep_pt1'] > 20000)\n",
    "    ]\n",
    "    \n",
    "    # Hadronic decay channels (H -> bb, H -> ττ) filter: more stringent jet selection\n",
    "    df_hadronic = df[\n",
    "        (df['jet_n'] >= 2) &\n",
    "        (df['jet_pt0'] > 40000) & (df['jet_pt1'] > 40000)\n",
    "        # Removed b-tagging condition as jet_btag0 and jet_btag1 are not present\n",
    "    ]\n",
    "    \n",
    "    # Stricter Missing Transverse Energy (MET) filter for channels with neutrinos\n",
    "    df_met = df[\n",
    "        (df['met_et'] > 60000) & (df['met_et'] < 100000)  # Tighten MET range\n",
    "    ]\n",
    "    \n",
    "    # Combine all filtered dataframes and remove duplicates\n",
    "    df_combined = pd.concat([df_photon, df_4lep, df_2lep, df_hadronic, df_met]).drop_duplicates()\n",
    "    # df_combined = df_photon\n",
    "    return df_combined\n",
    "\n",
    "\n",
    "\n",
    "\n",
    "# Example usage:\n",
    "# df_filtered = apply_higgs_filters(df)\n",
    "\n",
    "print(len(train_df))\n",
    "# Assuming `train_df` is your DataFrame\n",
    "filtered_df = apply_strict_higgs_filters(train_df)\n",
    "print(len(filtered_df))\n",
    "# Show the first few rows of the filtered DataFrame\n",
    "print(filtered_df.head())\n",
    "print(higgs_ratio(filtered_df))\n"
   ]
  },
  {
   "cell_type": "code",
   "execution_count": 23,
   "metadata": {},
   "outputs": [],
   "source": [
    "filtered_df = filtered_df.astype(float)"
   ]
  },
  {
   "cell_type": "code",
   "execution_count": 65,
   "metadata": {},
   "outputs": [
    {
     "name": "stdout",
     "output_type": "stream",
     "text": [
      "Top 10 variables by memory usage:\n",
      "train_df: 3725574512 bytes\n",
      "non_higgs_df: 2681397392 bytes\n",
      "non_higgs_train_df: 2145116642 bytes\n",
      "combined_df: 1038349996 bytes\n",
      "data_df: 623541838 bytes\n",
      "test_df: 536280782 bytes\n",
      "mc_df: 414808762 bytes\n",
      "train_df_sampled: 256535432 bytes\n",
      "X: 254669720 bytes\n",
      "X_train: 203734472 bytes\n"
     ]
    }
   ],
   "source": [
    "import sys\n",
    "import pandas as pd\n",
    "\n",
    "def print_memory_usage(n=10, scope=None):\n",
    "    \"\"\"\n",
    "    Prints the variables that take the most memory in the provided scope.\n",
    "\n",
    "    Parameters:\n",
    "    n (int): The number of top variables to print. Default is 10.\n",
    "    scope (dict): The scope from which to measure memory usage, typically locals() or globals().\n",
    "    \"\"\"\n",
    "    if scope is None:\n",
    "        scope = globals()  # Default to the global scope if none provided\n",
    "\n",
    "    # Calculate the size of each variable in the provided scope\n",
    "    memory_usage = {var: sys.getsizeof(value) for var, value in scope.items()}\n",
    "\n",
    "    # Sort variables by memory usage in descending order\n",
    "    sorted_memory_usage = sorted(memory_usage.items(), key=lambda item: item[1], reverse=True)\n",
    "\n",
    "    print(f\"Top {n} variables by memory usage:\")\n",
    "    for var, size in sorted_memory_usage[:n]:\n",
    "        print(f\"{var}: {size} bytes\")\n",
    "\n",
    "# Call the function from the global scope\n",
    "print_memory_usage(n=10, scope=globals())\n"
   ]
  },
  {
   "cell_type": "code",
   "execution_count": 66,
   "metadata": {},
   "outputs": [],
   "source": [
    "del non_higgs_df\n",
    "del combined_df\n",
    "del data_df\n",
    "del test_df\n",
    "del mc_df"
   ]
  },
  {
   "cell_type": "code",
   "execution_count": 85,
   "metadata": {},
   "outputs": [
    {
     "data": {
      "application/vnd.jupyter.widget-view+json": {
       "model_id": "38474f242ada4c12974733e045d261ea",
       "version_major": 2,
       "version_minor": 0
      },
      "image/png": "[encoded data removed]",
      "text/html": [
       "\n",
       "            <div style=\"display: inline-block;\">\n",
       "                <div class=\"jupyter-widgets widget-label\" style=\"text-align: center;\">\n",
       "                    Figure 15\n",
       "                </div>\n",
       "                <img src='data:image/png;base64,iVBORw0KGgoAAAANSUhEUgAAA+gAAAJYCAYAAADxHswlAAAAOXRFWHRTb2Z0d2FyZQBNYXRwbG90bGliIHZlcnNpb24zLjkuMiwgaHR0cHM6Ly9tYXRwbG90bGliLm9yZy8hTgPZAAAACXBIWXMAAA9hAAAPYQGoP6dpAABQoElEQVR4nO3de5zVdZ0/8Pc5M8yAAsNFELDBO2oopHkJL6mlGRpp7pprpHipraSs+LGb1iZaKbalq9salRnoltdSt8xLSl7WvCN42RQviJCCeINhQAaY8/39AedwBs7c6Jw5Z+D5fDzOgznfc5n3fJ0BX/P+fD/vVJIkSQAAAABllS53AQAAAICADgAAABVBQAcAAIAKIKADAABABRDQAQAAoAII6AAAAFABBHQAAACoAAI6AAAAVAABHQAAACqAgA4AAAAVQEAHAACACiCgAwAAQAUQ0AEAAKACCOgAAABQAQR0AAAAqAACOgAAAFQAAR0AAAAqgIAOAAAAFUBABwAAgAogoAMAAEAFENABAACgAgjoAAAAUAEEdAAAAKgAAjoAAABUAAEdAAAAKoCADgAAABVAQAcAAIAKIKADAABABRDQAQAAoAII6AAAAFABBHQAAACoAAI6AAAAVAABHQAAACqAgA4AAAAVQEAHAACACiCgAwAAQAUQ0AEAAKACCOgAAABQAQR0AAAAqAACOgAAAFQAAR0AAAAqgIAOAAAAFUBABwAAgAogoAMAAEAFENABAACgAgjoAAAAUAEEdAAAAKgAAjoAAABUAAEdAAAAKoCADgAAABVAQAcAAIAKIKADAABABRDQAQAAoAII6AAAAFABBHQAAACoAAI6AAAAVAABHQAAACqAgL4Ve/DBB2PcuHExbNiwSKVScdttt5X0811wwQWRSqVa3Pbcc8+Sfk4AAIDuQkDfiq1YsSJGjx4dV155ZZd9zpEjR8aiRYtyt4ceeqjLPjcAAEAlqy53AZTP2LFjY+zYsa0+3tTUFN/5znfi+uuvj6VLl8bee+8dP/zhD+OII47Y7M9ZXV0dQ4YM2ezXAwAAbKl00GnVV7/61XjkkUfihhtuiGeeeSZOOumk+OQnPxkvvfTSZr/nSy+9FMOGDYtddtklxo8fHwsWLChixQAAAN1XKkmSpNxFUH6pVCpuvfXWOOGEEyIiYsGCBbHLLrvEggULYtiwYbnnHXXUUXHggQfGxRdf3OnPceedd0ZjY2PssccesWjRorjwwgvj9ddfj+eeey769OlTrC8FAACgW7LEnYKeffbZaG5ujhEjRrQ43tTUFAMHDoyIiBdeeCH22muvNt/nW9/6VlxyySURES2W048aNSoOOuig2HHHHeOmm26Ks846q8hfAQAAQPcioFNQY2NjVFVVxaxZs6KqqqrFY717946IiF122SWef/75Nt8nG+YL6devX4wYMSJefvnlv79gAACAbk5Ap6B99903mpubY8mSJXHYYYcVfE5NTc3fNSatsbExXnnllTj11FM3+z0AAAC2FAL6VqyxsbFF9/rVV1+NOXPmxIABA2LEiBExfvz4OO200+LSSy+NfffdN956662YOXNmjBo1Ko477rhOf77JkyfHuHHjYscdd4w33ngjpkyZElVVVXHKKacU88sCAADolmwStxW7//7748gjj9zk+IQJE2LGjBmxZs2a+MEPfhDXXnttvP7667HddtvFRz7ykbjwwgtjn3326fTn+6d/+qd48MEH45133olBgwbFoYceGhdddFHsuuuuxfhyAAAAujUBHQAAACqAOegAAABQAQR0AAAAqAA2idvKZDKZeOONN6JPnz6RSqXKXQ4AAFAmSZLE8uXLY9iwYZFO691WAgG9G2lubo4LLrggfv3rX8fixYtj2LBhcfrpp8e//du/dThsv/HGG1FfX1/iSgEAgO5i4cKF8YEPfKDcZRACerfywx/+MKZNmxbXXHNNjBw5Mp588sk444wzoq6uLs4555wOvUefPn0iYt0PYd++fUtZLgAAUMEaGhqivr4+lxEoPwG9G3n44Yfj+OOPz80g32mnneL666+Pxx9/vMPvke209+3bV0AHAABc+lpBXGjQjRx88MExc+bMePHFFyMi4umnn46HHnooxo4dW+bKAAAA+HvpoHcj5557bjQ0NMSee+4ZVVVV0dzcHBdddFGMHz++1dc0NTVFU1NT7n5DQ0NXlAoAAEAn6aB3IzfddFP85je/ieuuuy6eeuqpuOaaa+LHP/5xXHPNNa2+ZurUqVFXV5e72SAOAACgMqWSJEnKXQQdU19fH+eee25MnDgxd+wHP/hB/PrXv44XXnih4GsKddDr6+tj2bJlrkEHAICtWENDQ9TV1ckGFcQS925k5cqVm8wnrKqqikwm0+pramtro7a2ttSlAQAA8HcS0LuRcePGxUUXXRTDhw+PkSNHxuzZs+Oyyy6LM888s9ylAQAA8HeyxL0bWb58eXz3u9+NW2+9NZYsWRLDhg2LU045Jc4///yoqanp0HtYxgIAAETIBpVIQN/K+CEEAAAiZINKZBd3AAAAqAACOgAAAFQAAR0AAAAqgIAOAAAAFUBABwAAgAogoAMAAEAFENABAACgAgjoAAAAUAEEdAAAAKgAAjqUUCaTlLsEAACgmxDQoURWrWmOIy+9P75+w+xylwIAAHQD1eUuALZU899ZEa+9szKWr1pb7lIAAIBuQAcdSiSTWf9nYpk7AADQPgEdSiQbzJtdhw4AAHSAgA4lkm2ca6ADAAAdIaBDieigAwAAnSGgQ4k0rw/orkEHAAA6QkCHEkkEdAAAoBMEdCiR7Mp2K9wBAICOENChRDIZ16ADAAAdJ6BDieTn8sQydwAAoB0COpRIfijXRAcAANojoEOJNOcFdMvcAQCA9gjoUCL5mdxO7gAAQHsEdCiRTIsl7gI6AADQNgEdSsQ16AAAQGcI6FAimcyGj12DDgAAtEdAhxLJX9ZuzBoAANAeAR1KJGMXdwAAoBMEdCiRlru4l68OAACgexDQoUQscQcAADpDQIcSye+aNwvoAABAOwR0KBFj1gAAgM4Q0KFE8pe4ZyR0AACgHQI6lEhz3hz0jCXuAABAOwR0KBFj1gAAgM4Q0KFEXIMOAAB0hoAOJdJyDrqEDgAAtE1AhxJpsUmcgA4AALRDQIcSadFBz7T+PAAAgAgBHUomf7SaDjoAANAeAR1KxBJ3AACgMwR0KJH8Je7GrAEAAO0R0KFEjFkDAAA6Q0CHErHEHQAA6AwBHUqk5S7uAjoAANA2AR1KJP+682YddAAAoB0Cejez0047RSqV2uQ2ceLEcpfGRvKvQZfPAQCA9lSXuwA654knnojm5ubc/eeeey6OPvroOOmkk8pYFYW0WOIuoQMAAO0Q0LuZQYMGtbh/ySWXxK677hqHH354mSqiNfmh3Jg1AACgPQJ6N7Z69er49a9/HZMmTYpUKlXwOU1NTdHU1JS739DQ0FXlbfXyM7kGOgAA0B7XoHdjt912WyxdujROP/30Vp8zderUqKury93q6+u7rsCtXKKDDgAAdIKA3o1dffXVMXbs2Bg2bFirzznvvPNi2bJludvChQu7sMKtW34odw06AADQHkvcu6nXXnst7r333rjlllvafF5tbW3U1tZ2UVXks0kcAADQGTro3dT06dNj8ODBcdxxx5W7FFqRv8TdCncAAKA9Ano3lMlkYvr06TFhwoSorrYIolLZxR0AAOgMAb0buvfee2PBggVx5plnlrsU2mCJOwAA0Bnar93QJz7xiRbLp6lM+aHcfy4AAKA9OuhQIpmMJe4AAEDHCehQIpa4AwAAnSGgQ4lkEnPQAQCAjhPQoURadtDLVwcAANA9COhQIokxawAAQCcI6FAiLXdxF9ABAIC2CehQIs2Z/I8FdAAAoG0COpRI0mKTuDIWAgAAdAsCOpSIXdwBAIDOENChRMxBBwAAOkNAhxLJWOIOAAB0goAOJZLfNLdJHAAA0B4BHUokP5QbswYAALRHQIcSyV/inj9yDQAAoBABHUrEJnEAAEBnCOhQIokxawAAQCcI6FAi5qADAACdIaBDibRc4l6+OgAAgO5BQIcSadFBl9ABAIB2COhQIpa4AwAAnSGgQ4lk8karGbMGAAC0R0CHEtFBBwAAOkNAhxJJzEEHAAA6QUCHEtFBBwAAOkNAhxJpzgvlrkEHAADaI6BDieRPVkt00AEAgHYI6FAiiSXuAABAJwjoUCIZS9wBAIBOENChRPLnoFviDgAAtEdAhxJp0UEX0AEAgHYI6FAiLceslbEQAACgWxDQoUTyQ3lGQgcAANohoEOJZOziDgAAdIKADiWSn8mbddABAIB2COhQIq5BBwAAOkNAhxLJD+jGrAEAAO0R0KFE8uegG7MGAAC0R0CHErHEHQAA6AwBHUqkRUCX0AEAgHYI6FAiLeagW+IOAAC0Q0CHEsnfGM6YNQAAoD0COpRIfibXQAcAANojoEOJ5HfN7eIOAAC0R0CHEmm5i7uADgAAtE1AhxJJWmwSV746AACA7kFAhxIxZg0AAOgMAb2bef311+Pzn/98DBw4MHr16hX77LNPPPnkk+UuiwIscQcAADqjutwF0HHvvfdeHHLIIXHkkUfGnXfeGYMGDYqXXnop+vfvX+7SKCC/aW7MGgAA0B4BvRv54Q9/GPX19TF9+vTcsZ133rmMFdGW/GXtGugAAEB7LHHvRn7/+9/H/vvvHyeddFIMHjw49t1337jqqqvafE1TU1M0NDS0uNE18pe1G7MGAAC0R0DvRubNmxfTpk2L3XffPe6+++74yle+Euecc05cc801rb5m6tSpUVdXl7vV19d3YcVbt0yLXdwFdAAAoG2pJJEcuouamprYf//94+GHH84dO+ecc+KJJ56IRx55pOBrmpqaoqmpKXe/oaEh6uvrY9myZdG3b9+S17y1SpIkdj7vjtz9nQZuE/f/y5FlrAgAAFpqaGiIuro62aCC6KB3I0OHDo0PfvCDLY7ttddesWDBglZfU1tbG3379m1xo/Q23hPOHnEAAEB7BPRu5JBDDom5c+e2OPbiiy/GjjvuWKaKaM3GS9otcQcAANojoHcj3/zmN+PRRx+Niy++OF5++eW47rrr4he/+EVMnDix3KWxkY3HqmW00AEAgHYI6N3IAQccELfeemtcf/31sffee8f3v//9uPzyy2P8+PHlLo2NbNwwl88BAID2mIPezXzqU5+KT33qU+Uug3ZsvKTdmDUAAKA9OuhQAhsHdMMSAACA9gjoUAIbL2nf+Jp0AACAjQnoUAIbbwonnwMAAO0R0KEENhmzJqEDAADtENChBDbO4+agAwAA7RHQoQQ23hTOLu4AAEB7BHQogU076OWpAwAA6D4EdCgBY9YAAIDOEtChBDYeq2bMGgAA0B4BHUpg44a5fA4AALRHQIcSKLRru1FrAABAWwR0KIGCAd116AAAQBsEdCiBbLM8ndpwzKg1AACgLQI6lEB21/bqqnTesXJVAwAAdAcCOpRAtlveI6+Fbid3AACgLQI6lEAms+7P/A66a9ABAIC2COhQAtkwXp3XQddABwAA2iKgQwlkm+XVVXkBXUIHAADaIKBDCWQ76FWp1CbHAAAAChHQoQSyYTydTkU2oxuzBgAAtEVAhxLIddDTqVwXXT4HAADaIqBDCWQvN0+nUpFeH9CNWQMAANoioEMJZDeES6Ui0ut/ylyDDgAAtEVAhxIo1EHPzkYHAAAoRECHEkiym8SlNuzkroMOAAC0RUCHEsjvoGd3cRfQAQCAtgjoUALNuQ56KqrSOugAAED7BHQogQ1z0GPDNejyOQAA0AYBHUogyeugp4xZAwAAOkBAhxLI7tieSqWiypg1AACgAwR0KIFM3i7uxqwBAAAdIaBDCRScg66DDgAAtEFAhxLIhvGqVCrS63/KmgV0AACgDQI6lEA2oKdS60J6xIaN4wAAAAoR0KEECi9xL2NBAABAxRPQoQSS/DnoaWPWAACA9gnoUAKZvDno6/O5TeIAAIA2CehQAtmRai2WuBuzBgAAtEFAhxJoLjQHXQcdAABog4AOJZDkL3E3Zg0AAOgAAR1KILsfXCqVMmYNAADoEAEdSiCTt8Q9lcru4l7OigAAgEonoEMJ5M9Br0q7Bh0AAGifgA4lkF3OXpXeMGbNEncAAKAtAjqUQPP6Fnoqbxd3S9wBAIC2COhQAvlL3I1ZAwAAOkJA72YuuOCCSKVSLW577rlnuctiI0n+HPT1P2UCOgAA0JbqchdA540cOTLuvffe3P3qav8ZK00mfw66DjoAANABkl03VF1dHUOGDCl3GbQhfw66a9ABAICOsMS9G3rppZdi2LBhscsuu8T48eNjwYIFrT63qakpGhoaWtwovUxuF/cwZg0AAOgQAb2bOeigg2LGjBlx1113xbRp0+LVV1+Nww47LJYvX17w+VOnTo26urrcrb6+vosr3jplMvlL3FseAwAAKERA72bGjh0bJ510UowaNSqOOeaYuOOOO2Lp0qVx0003FXz+eeedF8uWLcvdFi5c2MUVb50KLXGXzwEAgLa4Br2b69evX4wYMSJefvnlgo/X1tZGbW1tF1dFJn8Xd5vEAQAAHaCD3s01NjbGK6+8EkOHDi13KeTJn4PuGnQAAKAjBPRuZvLkyfHAAw/E/Pnz4+GHH47PfOYzUVVVFaecckq5SyNP/hz0lGvQAQCADrDEvZv529/+Fqecckq88847MWjQoDj00EPj0UcfjUGDBpW7NPLklrin88asyecAAEAbBPRu5oYbbih3CXRAduZ5/hL3xBJ3AACgDZa4QwkUWuLebIk7AADQBgEdSmDDLu6pqDJmDQAA6AABHUqg8Bx0CR0AAGidgA4l0GIOenbMmhY6AADQBgEdSiDbLK9KpyKdHbMmnwMAAG0Q0KEEshvCpfJ2cW+2xB0AAGiDgA4l0GKJe8qYNQAAoH0COpRAdjl7OpUyZg0AAOgQAR1KIH8OujFrAABARwjoUALZJe6pVGrDLu6WuAMAAG0Q0KEEMi12cTdmDQAAaJ+ADiWQDePrNolbd8wu7gAAQFsEdCiBDbu4bxizJp8DAABtEdChBLKr2VOpVKRSrkEHAADaJ6BDCWQK7OJuzBoAANAWAR1KIMmbg569Bl0+BwAA2iKgQwnkOujpvDFrEjoAANAGAR1KoLnFLu6uQQcAANonoEMJZAoscTdmDQAAaIuADiWQ5G8SZ8waAADQAQI6lEB2OXv+mDW7uAMAAG0R0KEE8pe4V+V2cRfQAQCA1gnoUALZMF6Vjtwu7vI5AADQFgEdSiA3Zi2Vyu3ibok7AADQFgG9i8ybN6/cJdCFMpl1f6byArol7gAAQFsE9C6y2267xZFHHhm//vWvY9WqVeUuhxLLJPlz0FseAwAAKERA7yJPPfVUjBo1KiZNmhRDhgyJL33pS/H444+XuyxKJMmfg57OdtDLWBAAAFDxBPQu8qEPfSiuuOKKeOONN+JXv/pVLFq0KA499NDYe++947LLLou33nqr3CVSRC076K5BBwAA2iegd7Hq6uo48cQT4+abb44f/vCH8fLLL8fkyZOjvr4+TjvttFi0aFG5S6QI8jeJq0q3PAYAAFCIgN7FnnzyyTj77LNj6NChcdlll8XkyZPjlVdeiXvuuSfeeOONOP7448tdIkXQnL/E3SZxAABAB1SXu4CtxWWXXRbTp0+PuXPnxrHHHhvXXnttHHvssZFOr/sdyc477xwzZsyInXbaqbyFUhRJtoOe3rDEPbuzOwAAQCECeheZNm1anHnmmXH66afH0KFDCz5n8ODBcfXVV3dxZZRCtltuzBoAANBRAnoXueeee2L48OG5jnlWkiSxcOHCGD58eNTU1MSECRPKVCHFlO2WuwYdAADoKNegd5Fdd9013n777U2Ov/vuu7HzzjuXoSJKKRvGq1KpSKWMWQMAANonoHeRpJXuaWNjY/Ts2bOLq6HUNsxBN2YNAADoGEvcS2zSpEkRse5a5PPPPz+22Wab3GPNzc3x2GOPxYc+9KEyVUepNOddg55d4t7aL2kAAAAiBPSSmz17dkSsC2fPPvts1NTU5B6rqamJ0aNHx+TJk8tVHiWyYQ565Ja4NwvoAABAGwT0ErvvvvsiIuKMM86IK664Ivr27VvmiugKuSXu6VRUGbMGAAB0gIDeRaZPn17uEuhC+R10Y9YAAICOENBL6MQTT4wZM2ZE375948QTT2zzubfccksXVUVX2BDQU5E2Zg0AAOgAAb2E6urqctcf19XVlbkaulL+HPS0MWsAAEAHCOgllL+s3RL3rUt+B70qnb0GXUIHAABaZw56F3n//fdj5cqVufuvvfZaXH755fGnP/2pjFVRKpncmLV116HnHwMAAChEQO8ixx9/fFx77bUREbF06dI48MAD49JLL43jjz8+pk2bVubqKLZsszydShmzBgAAdIiA3kWeeuqpOOywwyIi4re//W0MGTIkXnvttbj22mvjP//zP8tcHcWWZJe4p8OYNQAAoEME9C6ycuXK6NOnT0RE/OlPf4oTTzwx0ul0fOQjH4nXXnutzNVRbNkOelWLTeJ00AEAgNYJ6F1kt912i9tuuy0WLlwYd999d3ziE5+IiIglS5ZE3759N+s9L7nkkkilUvGNb3yjiJVSDBuuQTdmDQAA6BgBvYucf/75MXny5Nhpp53ioIMOijFjxkTEum76vvvu2+n3e+KJJ+LnP/95jBo1qtilUgTNmewu7pHroDdb4g4AALRBQO8i//iP/xgLFiyIJ598Mu66667c8Y9//OPxH//xH516r8bGxhg/fnxcddVV0b9//2KXShEkeZvEZcesJTroAABAGwT0LjRkyJDYd999I53ecNoPPPDA2HPPPTv1PhMnTozjjjsujjrqqHaf29TUFA0NDS1ulF7+HHRj1gAAgI6oLncBW4sVK1bEJZdcEjNnzowlS5ZEZqMtvefNm9eh97nhhhviqaeeiieeeKJDz586dWpceOGFna6Xv0/LOejZJe4COgAA0DoBvYt84QtfiAceeCBOPfXUGDp0aG42dmcsXLgwvv71r8c999wTPXv27NBrzjvvvJg0aVLufkNDQ9TX13f6c9M5uV3c06lozmSXuJexIAAAoOIJ6F3kzjvvjD/+8Y9xyCGHbPZ7zJo1K5YsWRL77bdf7lhzc3M8+OCD8V//9V/R1NQUVVVVLV5TW1sbtbW1m/052TxJiyXu6zvoEjoAANAGAb2L9O/fPwYMGPB3vcfHP/7xePbZZ1scO+OMM2LPPfeMb33rW5uEc8qnxS7uxqwBAAAdIKB3ke9///tx/vnnxzXXXBPbbLPNZr1Hnz59Yu+9925xbNttt42BAwducpzyyi5xT+V10DPGrAEAAG0Q0LvIpZdeGq+88kpsv/32sdNOO0WPHj1aPP7UU0+VqTKKLX+cWjoVuTFrOugAAEBbBPQucsIJJ5Tkfe+///6SvC+bL3+z9nQqFanUugOuQQcAANoioHeRKVOmlLsEukh+pzydTkVVsmEX9yRJNmsHfwAAYMuXLncBW5OlS5fGL3/5yzjvvPPi3XffjYh1S9tff/31MldGMeXPO0/nzUGPMGoNAABonQ56F3nmmWfiqKOOirq6upg/f3588YtfjAEDBsQtt9wSCxYsiGuvvbbcJVIkyUZL3NN5vwZrTpJIhw46AACwKR30LjJp0qQ4/fTT46WXXoqePXvmjh977LHx4IMPlrEyiq3FEvdUKtKpwo8BAADkE9C7yBNPPBFf+tKXNjm+ww47xOLFi8tQEaWSH8JTGy1xN2oNAABojSXuXaS2tjYaGho2Of7iiy/GoEGDylARpbLxLu75vwbTQQcAAFqjg95FPv3pT8f3vve9WLNmTUREpFKpWLBgQXzrW9+Kf/iHfyhzdRRT/hz0qnQq8jdtN2oNAABojYDeRS699NJobGyMQYMGxfvvvx+HH3547LbbbtGnT5+46KKLyl0eRbTxLu5V+bu4W+IOAAC0whL3LlJXVxf33HNP/OUvf4mnn346GhsbY7/99oujjjqq3KVRZPlL3FMbbRKngw4AALRGQO8CmUwmZsyYEbfcckvMnz8/UqlU7LzzzjFkyJBIkiRSKWO3tiTZJe7ZYJ7OS+iuQQcAAFpjiXuJJUkSn/70p+MLX/hCvP7667HPPvvEyJEj47XXXovTTz89PvOZz5S7RIos20HP3709m9EFdAAAoDU66CU2Y8aMePDBB2PmzJlx5JFHtnjsz3/+c5xwwglx7bXXxmmnnVamCim2TK6DviGgV6VTkWlOjFkDAABapYNeYtdff318+9vf3iScR0R87GMfi3PPPTd+85vflKEySiUX0PN+urKXMeigAwAArRHQS+yZZ56JT37yk60+Pnbs2Hj66ae7sCJKLdslL7TEPX+HdwAAgHwCeom9++67sf3227f6+Pbbbx/vvfdeF1ZEqRVc4r7+Yw10AACgNQJ6iTU3N0d1deuX+ldVVcXatWu7sCJKLRvQ8zfnz4Z1Y9YAAIDW2CSuxJIkidNPPz1qa2sLPt7U1NTFFVFqBXdxT7sGHQAAaJuAXmITJkxo9zl2cN+ybDwHPf/jjGvQAQCAVgjoJTZ9+vRyl0AXy2bwqnTLMWv5jwEAAGzMNehQZNmd2lN5S9yNWQMAANojoEORZQoscc/u4m7MGgAA0BoBHYosKbRJXKrlYwAAABsT0KHICs1BTxmzBgAAtENAhyLLBfS8n64qY9YAAIB2COhQZAXnoBuzBgAAtENAhyIrtMQ9bcwaAADQDgEdiiyTG7O24VjaLu4AAEA7BHQoskJL3LNj1hLXoAMAAK0Q0KHIkgJz0LNZXQMdAABojYAORVZ4kzhj1gAAgLYJ6FBkhTaJM2YNAABoj4AORdZcYA66MWsAAEB7BHQossSYNQAAYDMI6FBkmcy6P1OFrkGX0AEAgFYI6FBkmQK7uBuzBgAAtEdAhyLLNsmr8jro2Q/t4g4AALRGQIciK3QNepVr0AEAgHYI6FBk2S55Xj7PhXW7uAMAAK0R0KHIshk8XWCJuznoAABAawR0KLKkwBx0S9wBAID2COhQZJlCc9AtcQcAANohoEORZeegFwzolrgDAACtENChyArNQU8bswYAALRDQIciK7TE3TXoAABAewR0KLJsCE+5Bh0AAOgEAR2KrOAS97Rr0AEAgLYJ6N3MtGnTYtSoUdG3b9/o27dvjBkzJu68885yl0WeQnPQc9eg66ADAACtENC7mQ984ANxySWXxKxZs+LJJ5+Mj33sY3H88cfH//3f/5W7NNbLzkGvSm+6xF0DHQAAaE11uQugc8aNG9fi/kUXXRTTpk2LRx99NEaOHFmmqsiXvc481WIXd0vcAQCAtgno3Vhzc3PcfPPNsWLFihgzZky5y2G95raWuAvoAABAKwT0bujZZ5+NMWPGxKpVq6J3795x6623xgc/+MGCz21qaoqmpqbc/YaGhq4qc6uVFNgkLrvcXT4HAABa4xr0bmiPPfaIOXPmxGOPPRZf+cpXYsKECfHXv/614HOnTp0adXV1uVt9fX0XV7v1KTQHPTtyzSZxAABAawT0bqimpiZ22223+PCHPxxTp06N0aNHxxVXXFHwueedd14sW7Ysd1u4cGEXV7v1KTQHvSqdfUxABwAACrPEfQuQyWRaLGPPV1tbG7W1tV1c0dYtk9vFfcOx3CZxOugAAEArBPRu5rzzzouxY8fG8OHDY/ny5XHdddfF/fffH3fffXe5S2O9pOAmcdld3MtREQAA0B0I6N3MkiVL4rTTTotFixZFXV1djBo1Ku6+++44+uijy10a6zXnxqxtGtDt4g4AALRGQO9mrr766nKXQDsyBXZxz37sGnQAAKA1NomDIssUWOJuzBoAANAeAR2KrNAcdGPWAACA9gjoUGS5Je5pY9YAAICOE9ChyAotcTdmDQAAaI+ADkWWDeEtN4kzZg0AAGibgA5FtmEXd2PWAACAjhPQociyXfJUatNr0BMBHQAAaIWADkVWaA66XdwBAID2COhQZNkmeVW6wCZx8jkAANAKAR2KLNtBL7TE3Zg1AACgNQI6FFlzW7u4a6EDAACtENChyNqcgy6fAwAArRDQociSApvEZT82Zg0AAGiNgA5FVvga9HUfG7MGAAC0RkCHIssU2MXdmDUAAKA9AjoUWaE56NmwLp8DAACtEdChyDK5XdzzN4lr+RgAAMDGBHQosmwGz78GPZXbxV1ABwAAChPQocgKLnE3Zg0AAGiHgA5FlhTYJC69/idNBx0AAGiNgA5FVmjMWtoSdwAAoB0COhRZoSXuaWPWAACAdgjoUGTNmXV/5u/ibswaAADQHgEdiiwp2EFf96cxawAAQGsEdCgy16ADAACbQ0CHIss2yasKBPRm+RwAAGiFgA5FltskLu+nK/txooMOAAC0QkCHIstm8LQl7gAAQCcI6FBk2VFqha5Bz+7wDgAAsDEBHYqs0Bz07Jg1S9wBAIDWCOhQZIWWuGc/bDZmDQAAaIWADkW2oYO+IaBXuQYdAABoh4AORVZoiXs6nQ3o5agIAADoDgR0KLKMXdwBAIDNIKBDkRWcg+4adAAAoB0COhRZNqAXGrOmgQ4AALRGQIciy6yfdd5ik7i0Je4AAEDbBHQosmwIrzJmDQAA6AQBHYpswxz0Dceq7OIOAAC0Q0CHImvrGnRL3AEAgNYI6FBkzYXmoAvoAABAOwR0KLLcEvd0fgd93Z+uQQcAAFojoEORZQp00LPXoGugAwAArRHQocg2BPRNr0HXQQcAAFojoEORFZqDnv3QNegAAEBrBHQosqRAB90SdwAAoD0CejczderUOOCAA6JPnz4xePDgOOGEE2Lu3LnlLos8zbkxaxuO5Za4S+gAAEArBPRu5oEHHoiJEyfGo48+Gvfcc0+sWbMmPvGJT8SKFSvKXRrrZS8zL3QNuiXuAABAa6rLXQCdc9ddd7W4P2PGjBg8eHDMmjUrPvrRj5apKvLllrjn/foru6N7kqx7PJXfXgcAAAgd9G5v2bJlERExYMCAMldCVraDXlXgGvT8xwEAAPLpoHdjmUwmvvGNb8QhhxwSe++9d8HnNDU1RVNTU+5+Q0NDV5W31crkrkHP38V9w8fNmaRFYAcAAIjQQe/WJk6cGM8991zccMMNrT5n6tSpUVdXl7vV19d3YYVbp0wmu4v7hmMtO+ha6AAAwKYE9G7qq1/9atx+++1x3333xQc+8IFWn3feeefFsmXLcreFCxd2YZVbp8KbxOU/LqADAACbssS9m0mSJL72ta/FrbfeGvfff3/svPPObT6/trY2amtru6g6IjYE8EK7uK97vMtLAgAAugEBvZuZOHFiXHfddfE///M/0adPn1i8eHFERNTV1UWvXr3KXB0R+degbzjWMqBL6AAAwKYsce9mpk2bFsuWLYsjjjgihg4dmrvdeOON5S6N9XK7uKdbWeKuhQ4AABSgg97NJLqvFS8psMTdmDUAAKA9OuhQZBs2idtwbOMxawAAABsT0KHIsgE8P5RHbOiiWwUBAAAUIqBDEeWH73TLfJ673yygAwAABQjoUET5q9fTG3XQs/etcAcAAAoR0KGI8keopdOtBHQJHQAAKEBAhyLKdGCJuznoAABAIQI6FFEms+HjTZa4py1xBwAAWiegQxG17KAXXuJuzBoAAFCIgA5FlB/QN8rnxqwBAABtEtChiNrexX3dn8asAQAAhQjoUET53fGqVndx79KSAACAbkJAhyJq2UFv+diGOeg66AAAwKYEdCii/A3gUhstca9KC+gAAEDrBHQoouwS94275xEbNo2zizsAAFCIgA5FlM3eG28Ql39MPgcAAAoR0KGIssvX0wVa6MasAQAAbRHQoYgylrgDAACbSUCHIkraWOJeZYk7AADQBgEdiijbHW/7GnQJHQAA2JSADkWUDd8F8nnuunQBHQAAKERAhyJqexf3dX+6Bh0AAChEQIciyu7QXtXmLu5dWhIAANBNCOhQRBs66Js+llrfVddBBwAAChHQoYg2XIPe+hJ316ADAACFCOhQRBt2cd/0MWPWAACAtgjoUERtzUE3Zg0AAGiLgA5FlA3fBQN6uuVzAAAA8gnoUES5gF7gJyttkzgAAKANAjoUUVtz0I1ZAwAA2iKgQxElbSxxN2YNAABoi4AORZQN3wXyeVQZswYAALRBQIciamuJu13cAQCAtgjoUEQblrhv+ljKHHQAAKANAjoUUdubxGWfI6EDAACbEtChiNqcg57toGuhAwAABQjoUERtzkFPW+IOAAC0TkCHIupIB92YNQAAoBABHYook1n3Z6rQNejGrAEAAG0Q0KGIMm3s4m7MGgAA0BYBHYoou3q9qkAHvbZHVUREvL8605UlAQAA3YSADkWUtHENet+e1RERsXzVmi6tCQAA6B4EdCiibAe9QD6PPrmAvrYLKwIAALoLAR2KqLmNDnqfnj0iImJ5kw46AACwKQEdiihpYw66DjoAANAWAR2KqK056NkOeoOADgAAFCCgQxFl56AXDug2iQMAAFonoHczDz74YIwbNy6GDRsWqVQqbrvttnKXRJ625qBb4g4AALRFQO9mVqxYEaNHj44rr7yy3KVQwPp83sqYtfWbxOmgAwAABVSXuwA6Z+zYsTF27Nhyl0Ersru4p9oI6KvWZGL12kzUVPv9GAAAsIGEAEXU1hL33j03/D5MFx0AANiYDvoWrqmpKZqamnL3GxoayljNli/TxhL3qnQqtq2pihWrm2P5qrUxsHdtF1cHAABUMh30LdzUqVOjrq4ud6uvry93SVu07Bz0qkIt9Ngwas1GcQAAwMYE9C3ceeedF8uWLcvdFi5cWO6StmiZTPYa9MKPG7UGAAC0xhL3LVxtbW3U1lpK3VXaWuIesSGgN+igAwAAGxHQu5nGxsZ4+eWXc/dfffXVmDNnTgwYMCCGDx9exsqIaHuTuIj8Je466AAAQEsCejfz5JNPxpFHHpm7P2nSpIiImDBhQsyYMaNMVZG1IaC33UF3DToAALAxAb2bOeKII3IbkVF5skvcC81Bj7BJHAAA0DqbxEERZXK7uBd+vK9N4gAAgFYI6FBESQc3idNBBwAANiagQxFtGLNWOKD37bVuiXuDDjoAALARAR2KqLndXdx10AEAgMIEdCiidueg1xqzBgAAFCagQxElOugAAMBmEtChiHJz0FtJ6Nkxaw0COgAAsBEBHYqo3SXuxqwBAACtENChiDLtLHHvu76D3rQ2E6vXZrqqLAAAoBsQ0KGIsmPWWuug917fQY/QRQcAAFoS0KGIskvcW5uDXpVOxbY1VRFhozgAAKAlAR2KKLvEvaqNn6zsRnECOgAAkE9AhyJK2tkkLsJGcQAAQGECOhRRtoPe2hL3iA0BvUFABwAA8gjoUETt7eIeEdG3l1noAADApgR0KKLm9ZPT2l7i7hp0AABgUwI6FFHSgQ66a9ABAIBCBHQootwS9zYS+oaAroMOAABsIKBDEWU6sIt739wSdx10AABgAwEdiqgjm8TpoAMAAIUI6FBEnZuDLqADAAAbCOhQRM2ZDsxBr7XEHQAA2JSADkVkiTsAALC5BHQoouwS96o2d3Ff10FvENABAIA81eUuALYk2Q56m0vc13fQGzZjifuqNc1x7/NvRnMmiU+PHtbm5wEAALoXAR2KqCNL3Pv2WtdBX702E01rm6O2uqrN90ySJJ7527K4edbC+P2cN3Kd90XLVsWXD9+1OIUDAABlJ6BDEXVkDnrv2g0/dstXrY3a3psG9EwmiacWvBd3/9/iuOv/FsfCd9/PPbZd75p4u3F1XHLnC1Hff5s4btTQ4n0BAABA2QjoUESZTPsd9Kp0KnrXVkdj09pYvmptbNe7tsXjS5avitN/9UT8dVFD7lhtdTqOGTkkPrt/fRy868D43u1/jRkPz49v3jQnhtT1jA/v2L8kXw8AANB1BHQooo5cgx6x7jr0dQG95XXoSxpWxSlXPRqvvLUietdWx1F7DY5jRg6Jw/cYFNvUbPhx/e6nPhh/e29l3Pv8kvjitU/GrWcfHDsO3Lb4XxAAANBl7OIORbRo2aqIiBi4bU2bzys0au3NhlXxT79YF86H1fWMP55zaFz+T/vG2H2GtgjnEeu68Ff8076x9w59490Vq+Mff/ZIPPO3pcX9YgAAgC4loEORrG3OxLy3VkRExIjt+7T53OyotWwHfcn6cD7v7RWxQ79eccM/j2m3I75tbXX8asIBscf2feKt5U3x2Z8/Enf/3+IifCUAAEA5COhQJPPfWRmrmzPRq0dV7NCvV5vP3TBqbV0H/fKZL8WruXD+kRg+cJsOfc7BfXvGb78yJg4fMShWrcnEl389K37x4CuRZAeyAwAA3YaADkXy0pvLIyJixPa9I93WLnGR30FfG2uaM3Hns4siIuKSf9gn6gd0LJznv9fVE/aPz39keCRJxMV3vBCTbno63l/dvBlfBQAAUC4COhTJi282RkTE7u0sb4/IvwZ9TTz8yjvx3so1MXDbmhizy8DN+tzVVen4/vF7x5RxH4yqdCpunf16nDjt4VjwzsrNej8AAKDrCehQJC8u2dBBb0/+JnG3P/1GRESM3WdIVFdt/o9kKpWKMw7ZOX591kExcNuaeH5RQ4z7r4figRff2uz3BAAAuo6ADkWSXeLekQ563/VL3N9pbMpt7HbcPsOKUseYXQfG7eccGqPr+8Wy99fE6dMfjyvve9l16QAAUOEEdCiC1Ws7voN7xIYO+p9fWBINq9bGoD61ceDOA4pWz9C6XnHTlz4SpxxYH0kS8aO758aXfz1rk7nrAABA5RDQoQjmv7Mi1maS6F1bHcPqerb7/GwHPbuL+3H7DI2qdjaW66za6qqYeuKomHriPlFTlY67/+/NOP7Kv8QDL76lmw4AABVIQIcieHH98vbdBveOVKr9oJ3toGd9atTQktQVEXHKgcPjxi99JIb07Rnz3loRE371ePzTLx6NWa+9W7LPCQAAdJ6ADkWQ3cF9jw4sb4/YMGYtImJI356x3/D+Jakra9/h/ePOrx8WZx26c9RUp+OxV9+Nf5j2SJz2q8fj4Zff1lEHAIAKIKBDEWzYIK79HdwjWnbQjxs1tN256cXQf9ua+O6nPhj3Tz4iTjmwPqrSqXjwxbfic798LMb910Px+6ffiOaMoA4AAOUioEMRZJe4d2SDuIiWAb2Uy9sLGdavV0w9cVTc9/+OiNPG7Bg9e6Tjudcb4pzrZ8fRlz0Qv5v1t1jbnOnSmgAAAAEd/m5Na5tj/jsrI6LjAX1oXa84aOcB8bE9B8eH6vuVsLrWDR+4TXzv+L3j4XM/Ht84avfot02PmPf2ivh/Nz8dH7/sgbj6oVfjlbcaLX8HAIAukkr83/dWpaGhIerq6mLZsmXRt2/fcpezRXh+UUOMveJ/o0/P6nhmyic6tElcJWpsWhv//chrcdX/zot3V6zOHd+hX684fI9BccKHdogDdurfbb8+AABakg0qT3X7TwHakr+8vTuH19611fGVI3aN08bsGDc9uTDuff7NeOLV9+L1pe/HdY8tiOseWxC7bLdtnLR/fRy11+DYvq5n9Kmt7tZfMwAAVBIBHf5OL63fwX1EBzeIq3Tb1lbHGYfsHGccsnOsXL02Hpv3btz53KK4/ZlFMe/tFfHDu16IH971QkRE9OyRju379ozdB/eOPYb0iT2H9I29d6iLnQZuI7gDAEAnCejwd+rsBnHdyTY11XHknoPjyD0Hx/njRsYfn3kjfjvrb/HCouWxvGltrFqTidfeWRmvvbMy7n1+Se512/WujQN26h8f3rF/9OxRFavXZqJpbSZ69UjHXkP7xgeH9W0xag4AABDQu6Urr7wyfvSjH8XixYtj9OjR8ZOf/CQOPPDAcpe11XppSbaDvuUF9Hy9a6vj5AOGx8kHDI+IiPdXN8eS5avijaWr4sU3l8cLi5fH84sa4q+LGuLtxqa487nFcedzi1t9vx0HbhPDB2wTg/v0jCF1tTGkrlcMH7BN7Dhgm9ihf69Y0bQ2XntnZcx/Z0WsXN0cB+w0IHYdtK3OPAAAWywBvZu58cYbY9KkSfGzn/0sDjrooLj88svjmGOOiblz58bgwYPLXd5WZ9Wa5njtnRUR0fEZ6FuKXjVVsePAbWPHgdvGmF0H5o6vWtMcz76+LB5/9d145m9LIyKiproqaqvTsXTlmvjrG8vijWWrcp33QlKpiELbV+7Qr1d8dMR2Mah3bTSsWhvLV62N1c2Z6L9Nj9iud20M6lMb/bfpEb1re0TvntXRp2d19Kmtjj49e0TPHuloziTxduPqeGt5U7y7cnXU9eoR2/Wuie1610bPHlWlOE0AANBhdnHvZg466KA44IAD4r/+678iIiKTyUR9fX187Wtfi3PPPbfd11fSTo1rmtcte25a07zuz7WZyCRJpCIilUpFOhWRilRkG6bpdGr9Y+vC28rVa2NFU3OsaFobazOFv403brZmkojGVWtj2ftrYtn7ayKTJNG3V4/o16tH9OlZHSuamuPdlavjvRWrY8XqtbnPn4qItZkkt1S7YdWaWPjuuoC57P010W+bHjH7u0fr7nbQeytWx/OLG2LR0lWxuGFVLGlYFa8vXRUL3l0Rr72zMprWrpvDPrhPbew4cJuoSqfiqdeWxuq/Yz57dToVzUlSMPhHrJtNP6hP7bqg37s2aqvTkU6noiq17nWNq9bG8qY10bhqbTStzcSa5kysaU6iKp2K7XrXxOA+PWNQn3Wva84kkUkiMkkSzZkkmpMkMplk3ffS+u/t6nQ6etVURe/a6ti2Zt0vB95fk4n31zTH6rWZqK1e93ivHutuPWuqYpseVVHbIx1NazKxck1zvL963fd+j6p01FSlo7oqFWuaM7Fqzbqfq4iI/tvWRP9t1t1WN6/73m14f028v7o50qlUVKXX3bapqYp+29REXa8esU1NVaxuzsT7q5ujaW1zJEnknleVTkV1Or3+z1SkN/qeb+tHYOPH8n9eNn5Z/nNT0frn2OTT5R1Y05zE+6vXxsrV2XNaFb1qqmKbmqqorkrl3jf7ftmXZuvacH+jOorwY57JJOu+hzLrvjeqq1JRU5WOHtXpSKdSkSRJJLH+F1Xrv5fW3V/3ZybvGzn/76n82lPr/w6NVLR4PBV535u578+ItZlMZDIR6XSs/35Krz9PrSvm33nF/tvTX8dAJUunUhXRHKikbMA6OujdyOrVq2PWrFlx3nnn5Y6l0+k46qij4pFHHin4mqampmhqasrdX7ZsWUSs+2Est+P/66F45a0V5S6jKI7bb8dYvnx5ucvoNqoiYu9BNbH3oJqIaPmPQSaTxDsrmmLb2urYpmbDX1ErV6+NJ197Lx6b9040rcmsC7Y9q6Kmal1n/p3G1fHOiqZoeH9tNDZlb2tiRVNzZJKI7OC4qnQqBm7bI/ptUxPLV62NtxtXx5rmTCxrili2LOLlzfh6XtncEwEAbJX2GNInfveVg8tdRi4T6NlWDgG9G3n77bejubk5tt9++xbHt99++3jhhRcKvmbq1Klx4YUXbnK8vr6+JDVurS6+POLichdBh80vdwEAwFZtYUTUtb/4tcssX7486urqyl0GIaBv8c4777yYNGlS7n4mk4l33303Bg4cWLbl2A0NDVFfXx8LFy60lKaLOffl4byXj3NfHs57eTjv5ePcl4fz/vdLkiSWL18ew4YNK3cprCegdyPbbbddVFVVxZtvvtni+JtvvhlDhgwp+Jra2tqora1tcaxfv36lKrFT+vbt6y/TMnHuy8N5Lx/nvjyc9/Jw3svHuS8P5/3vo3NeWdLlLoCOq6mpiQ9/+MMxc+bM3LFMJhMzZ86MMWPGlLEyAAAA/l466N3MpEmTYsKECbH//vvHgQceGJdffnmsWLEizjjjjHKXBgAAwN9BQO9mTj755Hjrrbfi/PPPj8WLF8eHPvShuOuuuzbZOK6S1dbWxpQpUzZZek/pOffl4byXj3NfHs57eTjv5ePcl4fzzpbIHHQAAACoAK5BBwAAgAogoAMAAEAFENABAACgAgjoAAAAUAEEdEriyiuvjJ122il69uwZBx10UDz++ONtPv/mm2+OPffcM3r27Bn77LNP3HHHHV1U6ZanM+f+qquuisMOOyz69+8f/fv3j6OOOqrd/1YU1tnv+awbbrghUqlUnHDCCaUtcAvV2fO+dOnSmDhxYgwdOjRqa2tjxIgR/r7ZTJ0995dffnnsscce0atXr6ivr49vfvObsWrVqi6qdsvw4IMPxrhx42LYsGGRSqXitttua/c1999/f+y3335RW1sbu+22W8yYMaPkdW5pOnveb7nlljj66KNj0KBB0bdv3xgzZkzcfffdXVPsFmZzvuez/vKXv0R1dXV86EMfKll9UAoCOkV34403xqRJk2LKlCnx1FNPxejRo+OYY46JJUuWFHz+ww8/HKecckqcddZZMXv27DjhhBPihBNOiOeee66LK+/+Onvu77///jjllFPivvvui0ceeSTq6+vjE5/4RLz++utdXHn31tnznjV//vyYPHlyHHbYYV1U6Zals+d99erVcfTRR8f8+fPjt7/9bcydOzeuuuqq2GGHHbq48u6vs+f+uuuui3PPPTemTJkSzz//fFx99dVx4403xre//e0urrx7W7FiRYwePTquvPLKDj3/1VdfjeOOOy6OPPLImDNnTnzjG9+IL3zhC8JiJ3X2vD/44INx9NFHxx133BGzZs2KI488MsaNGxezZ88ucaVbns6e+6ylS5fGaaedFh//+MdLVBmUUAJFduCBByYTJ07M3W9ubk6GDRuWTJ06teDzP/vZzybHHXdci2MHHXRQ8qUvfamkdW6JOnvuN7Z27dqkT58+yTXXXFOqErdIm3Pe165dmxx88MHJL3/5y2TChAnJ8ccf3wWVblk6e96nTZuW7LLLLsnq1au7qsQtVmfP/cSJE5OPfexjLY5NmjQpOeSQQ0pa55YsIpJbb721zef867/+azJy5MgWx04++eTkmGOOKWFlW7aOnPdCPvjBDyYXXnhh8QvainTm3J988snJv/3bvyVTpkxJRo8eXdK6oNh00Cmq1atXx6xZs+Koo47KHUun03HUUUfFI488UvA1jzzySIvnR0Qcc8wxrT6fwjbn3G9s5cqVsWbNmhgwYECpytzibO55/973vheDBw+Os846qyvK3OJsznn//e9/H2PGjImJEyfG9ttvH3vvvXdcfPHF0dzc3FVlbxE259wffPDBMWvWrNwy+Hnz5sUdd9wRxx57bJfUvLXy72tlyGQysXz5cv+2dpHp06fHvHnzYsqUKeUuBTZLdbkLYMvy9ttvR3Nzc2y//fYtjm+//fbxwgsvFHzN4sWLCz5/8eLFJatzS7Q5535j3/rWt2LYsGGb/A8drduc8/7QQw/F1VdfHXPmzOmCCrdMm3Pe582bF3/+859j/Pjxcccdd8TLL78cZ599dqxZs8b/yHXC5pz7z33uc/H222/HoYceGkmSxNq1a+PLX/6yJe4l1tq/rw0NDfH+++9Hr169ylTZ1uXHP/5xNDY2xmc/+9lyl7LFe+mll+Lcc8+N//3f/43qajGH7kkHHYiIiEsuuSRuuOGGuPXWW6Nnz57lLmeLtXz58jj11FPjqquuiu22267c5WxVMplMDB48OH7xi1/Ehz/84Tj55JPjO9/5TvzsZz8rd2lbvPvvvz8uvvji+OlPfxpPPfVU3HLLLfHHP/4xvv/975e7NCip6667Li688MK46aabYvDgweUuZ4vW3Nwcn/vc5+LCCy+MESNGlLsc2Gx+tURRbbfddlFVVRVvvvlmi+NvvvlmDBkypOBrhgwZ0qnnU9jmnPusH//4x3HJJZfEvffeG6NGjSplmVuczp73V155JebPnx/jxo3LHctkMhERUV1dHXPnzo1dd921tEVvATbn+33o0KHRo0ePqKqqyh3ba6+9YvHixbF69eqoqakpac1bis0599/97nfj1FNPjS984QsREbHPPvvEihUr4p//+Z/jO9/5TqTT+gWl0Nq/r3379tU97wI33HBDfOELX4ibb77ZyrQusHz58njyySdj9uzZ8dWvfjUi1v37miRJVFdXx5/+9Kf42Mc+VuYqoX3+RaSoampq4sMf/nDMnDkzdyyTycTMmTNjzJgxBV8zZsyYFs+PiLjnnntafT6Fbc65j4j493//9/j+978fd911V+y///5dUeoWpbPnfc8994xnn3025syZk7t9+tOfzu2yXF9f35Xld1ub8/1+yCGHxMsvv5z7hUhExIsvvhhDhw4Vzjthc879ypUrNwnh2V+UJElSumK3cv59LZ/rr78+zjjjjLj++uvjuOOOK3c5W4W+fftu8u/rl7/85dhjjz1izpw5cdBBB5W7ROiYMm9SxxbohhtuSGpra5MZM2Ykf/3rX5N//ud/Tvr165csXrw4SZIkOfXUU5Nzzz039/y//OUvSXV1dfLjH/84ef7555MpU6YkPXr0SJ599tlyfQndVmfP/SWXXJLU1NQkv/3tb5NFixblbsuXLy/Xl9Atdfa8b8wu7puns+d9wYIFSZ8+fZKvfvWrydy5c5Pbb789GTx4cPKDH/ygXF9Ct9XZcz9lypSkT58+yfXXX5/Mmzcv+dOf/pTsuuuuyWc/+9lyfQnd0vLly5PZs2cns2fPTiIiueyyy5LZs2cnr732WpIkSXLuuecmp556au758+bNS7bZZpvkX/7lX5Lnn38+ufLKK5OqqqrkrrvuKteX0C119rz/5je/Saqrq5Mrr7yyxb+tS5cuLdeX0G119txvzC7udEcCOiXxk5/8JBk+fHhSU1OTHHjggcmjjz6ae+zwww9PJkyY0OL5N910UzJixIikpqYmGTlyZPLHP/6xiyvecnTm3O+4445JRGxymzJlStcX3s119ns+n4C++Tp73h9++OHkoIMOSmpra5Nddtklueiii5K1a9d2cdVbhs6c+zVr1iQXXHBBsuuuuyY9e/ZM6uvrk7PPPjt57733ur7wbuy+++4r+Hd29lxPmDAhOfzwwzd5zYc+9KGkpqYm2WWXXZLp06d3ed3dXWfP++GHH97m8+m4zfmezyeg0x2lksTaMgAAACg316ADAABABRDQAQAAoAII6AAAAFABBHQAAACoAAI6AAAAVAABHQAAACqAgA4AAAAVQEAHgC5w+umnxwknnFDuMgqaMWNG9OvXr9xlALCRBx98MMaNGxfDhg2LVCoVt912W6ffI0mS+PGPfxwjRoyI2tra2GGHHeKiiy4qfrEUhYAOwFbriCOOiG984xslf00hlRTYTz755HjxxReL+p7z58+PVCoVc+bMaXH8ggsuiFQqFZ/85Cc3ec2PfvSjSKVSccQRRxS1FoDuasWKFTF69Oi48sorN/s9vv71r8cvf/nL+PGPfxwvvPBC/P73v48DDzywiFVSTNXlLgAAKJ81a9ZEr169olevXl32OYcOHRr33Xdf/O1vf4sPfOADueO/+tWvYvjw4V1WB0ClGzt2bIwdO7bVx5uamuI73/lOXH/99bF06dLYe++944c//GHuF53PP/98TJs2LZ577rnYY489IiJi55137orS2Uw66ABslU4//fR44IEH4oorrohUKhWpVCrmz58fDzzwQBx44IFRW1sbQ4cOjXPPPTfWrl3b5muam5vjrLPOip133jl69eoVe+yxR1xxxRWdqueII46Ic845J/71X/81BgwYEEOGDIkLLrgg9/jnPve5OPnkk1u8Zs2aNbHddtvFtddeGxERd911Vxx66KHRr1+/GDhwYHzqU5+KV155Jff8bFf7xhtvjMMPPzx69uwZv/nNbzZZ4v7KK6/E8ccfH9tvv3307t07DjjggLj33ntbfO6ddtopLr744jjzzDOjT58+MXz48PjFL36Rezz7P4D77rvvJl3xwYMHxyc+8Ym45pprcscefvjhePvtt+O4445r8XmeeOKJOProo2O77baLurq6OPzww+Opp57KPZ4kSVxwwQUxfPjwqK2tjWHDhsU555yTe/ynP/1p7L777tGzZ8/Yfvvt4x//8R/b+08B0G189atfjUceeSRuuOGGeOaZZ+Kkk06KT37yk/HSSy9FRMQf/vCH2GWXXeL222+PnXfeOXbaaaf4whe+EO+++26ZK6c1AjoAW6UrrrgixowZE1/84hdj0aJFsWjRoujRo0cce+yxccABB8TTTz8d06ZNi6uvvjp+8IMftPqa+vr6yGQy8YEPfCBuvvnm+Otf/xrnn39+fPvb346bbrqpUzVdc801se2228Zjjz0W//7v/x7f+9734p577omIiPHjx8cf/vCHaGxszD3/7rvvjpUrV8ZnPvOZiFi3FHLSpEnx5JNPxsyZMyOdTsdnPvOZyGQyLT7PueeeG1//+tfj+eefj2OOOWaTOhobG+PYY4+NmTNnxuzZs+OTn/xkjBs3LhYsWNDieZdeemnsv//+MXv27Dj77LPjK1/5SsydOzciIh5//PGIiLj33ntj0aJFccstt7R47ZlnnhkzZszI3f/Vr34V48ePj5qamhbPW758eUyYMCEeeuihePTRR2P33XePY489NpYvXx4REb/73e/iP/7jP+LnP/95vPTSS3HbbbfFPvvsExERTz75ZJxzzjnxve99L+bOnRt33XVXfPSjH+3YfwyACrdgwYKYPn163HzzzXHYYYfFrrvuGpMnT45DDz00pk+fHhER8+bNi9deey1uvvnmuPbaa2PGjBkxa9Ysv6ysZAkAbKUOP/zw5Otf/3ru/re//e1kjz32SDKZTO7YlVdemfTu3Ttpbm4u+JrWTJw4MfmHf/iH3P0JEyYkxx9/fKv3Dz/88OTQQw9t8R4HHHBA8q1vfStJkiRZs2ZNst122yXXXntt7vFTTjklOfnkk1ut4a233koiInn22WeTJEmSV199NYmI5PLLL2/xvOnTpyd1dXVtfj0jR45MfvKTn+Tu77jjjsnnP//53P1MJpMMHjw4mTZtWovPNXv27BbvM2XKlGT06NHJ6tWrk8GDBycPPPBA0tjYmPTp0yd5+umnk69//evJ4Ycf3modzc3NSZ8+fZI//OEPSZIkyaWXXpqMGDEiWb169SbP/d3vfpf07ds3aWhoaPNrA+gOIiK59dZbc/dvv/32JCKSbbfdtsWturo6+exnP5skSZJ88YtfTCIimTt3bu51s2bNSiIieeGFF7r6S6ADdNABYL3nn38+xowZE6lUKnfskEMOicbGxvjb3/7W5muvvPLK+PCHPxyDBg2K3r17xy9+8YtNOs7tGTVqVIv7Q4cOjSVLlkRERHV1dXz2s5+N3/zmNxGxrlv+P//zPzF+/Pjc81966aU45ZRTYpdddom+ffvGTjvtFBGxSR37779/m3U0NjbG5MmTY6+99op+/fpF79694/nnn9/kffLrTaVSMWTIkFy97enRo0d8/vOfz3V/RowYscnXHxHx5ptvxhe/+MXYfffdo66uLvr27RuNjY25Wk466aR4//33Y5dddokvfvGLceutt+YuSTj66KNjxx13jF122SVOPfXU+M1vfhMrV67sUH0Ala6xsTGqqqpi1qxZMWfOnNzt+eefz11mNXTo0Kiuro4RI0bkXrfXXntFxKb/NlAZBHQA+DvdcMMNMXny5DjrrLPiT3/6U8yZMyfOOOOMWL16dafep0ePHi3up1KpFsvTx48fHzNnzowlS5bEbbfdFr169WqxG/q4cePi3Xffjauuuioee+yxeOyxxyIiNqlj2223bbOOyZMnx6233hoXX3xx/O///m/MmTMn9tlnn03ep71623PmmWfGzTffHFdeeWWceeaZBZ8zYcKEmDNnTlxxxRXx8MMPx5w5c2LgwIG5Wurr62Pu3Lnx05/+NHr16hVnn312fPSjH401a9ZEnz594qmnnorrr78+hg4dGueff36MHj06li5d2uEaASrVvvvuG83NzbFkyZLYbbfdWtyGDBkSEet+ybx27doW+5Fkp3bsuOOOZambttnFHYCtVk1NTTQ3N+fu77XXXvG73/0ukiTJddH/8pe/RJ8+fXK7jW/8muxzDj744Dj77LNzx/L/Z6hYDj744Kivr48bb7wx7rzzzjjppJNyIfmdd96JuXPnxlVXXRWHHXZYREQ89NBDm/V5/vKXv8Tpp5+eu7a9sbEx5s+f36n3yF5LvvG5yjdy5MgYOXJkPPPMM/G5z32u1Vp++tOfxrHHHhsREQsXLoy33367xXN69eoV48aNi3HjxsXEiRNjzz33jGeffTb222+/qK6ujqOOOiqOOuqomDJlSvTr1y/+/Oc/x4knntiprwegHBobG+Pll1/O3X/11Vdjzpw5MWDAgBgxYkSMHz8+TjvttLj00ktj3333jbfeeitmzpwZo0aNiuOOOy6OOuqo2G+//eLMM8+Myy+/PDKZTEycODGOPvroFl11KoeADsBWa6eddorHHnss5s+fH717946zzz47Lr/88vja174WX/3qV2Pu3LkxZcqUmDRpUqTT6YKvGTBgQOy+++5x7bXXxt133x0777xz/Pd//3c88cQTJRll87nPfS5+9rOfxYsvvhj33Xdf7nj//v1j4MCB8Ytf/CKGDh0aCxYsiHPPPXezPsfuu+8et9xyS4wbNy5SqVR897vf7VRnPGLdTu29evWKu+66Kz7wgQ9Ez549o66ubpPn/fnPf441a9a02EV+41r++7//O/bff/9oaGiIf/mXf2kxEm7GjBnR3NwcBx10UGyzzTbx61//Onr16hU77rhj3H777TFv3rz46Ec/Gv3794877rgjMplMbtQQQKV78skn48gjj8zdnzRpUkSsW100Y8aMmD59evzgBz+I//f//l+8/vrrsd1228VHPvKR+NSnPhUREel0Ov7whz/E1772tfjoRz8a2267bYwdOzYuvfTSsnw9tM8SdwC2WpMnT46qqqr44Ac/GIMGDYo1a9bEHXfcEY8//niMHj06vvzlL8dZZ50V//Zv/9bqaxYsWBBf+tKX4sQTT4yTTz45DjrooHjnnXdadNOLafz48fHXv/41dthhhzjkkENyx9PpdNxwww0xa9as2HvvveOb3/xm/OhHP9qsz3HZZZdF//794+CDD45x48bFMcccE/vtt1+n3qO6ujr+8z//M37+85/HsGHD4vjjjy/4vG233bbVcB4RcfXVV8d7770X++23X5x66qlxzjnnxODBg3OP9+vXL6666qo45JBDYtSoUXHvvffGH/7whxg4cGD069cvbrnllvjYxz4We+21V/zsZz+L66+/PkaOHNmprwWgXI444ohIkmSTW3YKRo8ePeLCCy+MV199NVavXh1vvPFG3HLLLblpFhERw4YNi9/97nexfPnyWLx4cUyfPj0GDBhQpq+I9qSSJEnKXQQAAABs7XTQAQAAoAII6AAAAFABBHQAAACoAAI6AAAAVAABHQAAACqAgA4AAAAVQEAHAACACiCgAwAAQAUQ0AEAAKACCOgAAABQAQR0AAAAqAACOgAAAFQAAR0AAAAqgIAOAAAAFUBABwAAgAogoAMAAEAFENABAACgAgjoAAAAUAEEdAAAAKgAAjoAAABUAAEdAAAAKoCADgAAABVAQAcAAIAKIKADAABABRDQAQAAoAL8f/TyYO98nm9zAAAAAElFTkSuQmCC' width=1000.0/>\n",
       "            </div>\n",
       "        "
      ],
      "text/plain": [
       "Canvas(toolbar=Toolbar(toolitems=[('Home', 'Reset original view', 'home', 'home'), ('Back', 'Back to previous …"
      ]
     },
     "metadata": {},
     "output_type": "display_data"
    }
   ],
   "source": [
    "import seaborn as sn\n",
    "import matplotlib.pyplot as plt\n",
    "%matplotlib widget\n",
    "plt.clf()\n",
    "sn.kdeplot(filtered_df[filtered_df.isHiggs==1].totalInvariantMass, bw_adjust=.25)\n",
    "# plt.xlim(100000, 150000)\n",
    "plt.show()"
   ]
  },
  {
   "cell_type": "code",
   "execution_count": 75,
   "metadata": {},
   "outputs": [],
   "source": [
    "higgs_suspected = filtered_df[filtered_df.isHiggs==0].totalInvariantMass"
   ]
  },
  {
   "cell_type": "code",
   "execution_count": 77,
   "metadata": {},
   "outputs": [
    {
     "data": {
      "application/vnd.jupyter.widget-view+json": {
       "model_id": "f4e8b204b62e422c93e0986f9f055548",
       "version_major": 2,
       "version_minor": 0
      },
      "image/png": "[encoded data removed]",
      "text/html": [
       "\n",
       "            <div style=\"display: inline-block;\">\n",
       "                <div class=\"jupyter-widgets widget-label\" style=\"text-align: center;\">\n",
       "                    Figure 11\n",
       "                </div>\n",
       "                <img src='data:image/png;base64,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' width=500.0/>\n",
       "            </div>\n",
       "        "
      ],
      "text/plain": [
       "Canvas(toolbar=Toolbar(toolitems=[('Home', 'Reset original view', 'home', 'home'), ('Back', 'Back to previous …"
      ]
     },
     "metadata": {},
     "output_type": "display_data"
    }
   ],
   "source": [
    "plt.clf()\n",
    "sn.histplot(higgs_suspected, kde=True)\n",
    "plt.show()"
   ]
  },
  {
   "cell_type": "code",
   "execution_count": 91,
   "metadata": {},
   "outputs": [
    {
     "name": "stdout",
     "output_type": "stream",
     "text": [
      "Expected number of background events in Higgs mass window: 6484.368507702881\n",
      "95% Confidence Interval: [6327.0, 6643.0]\n",
      "Observed number of events in Higgs mass window: 6573\n",
      "P-value: 0.13696580726683946\n",
      "Significance (in sigma): 1.0940532725427645\n"
     ]
    },
    {
     "data": {
      "application/vnd.jupyter.widget-view+json": {
       "model_id": "2728f26ed8c143a5b947626b2bd81838",
       "version_major": 2,
       "version_minor": 0
      },
      "image/png": "[encoded data removed]",
      "text/html": [
       "\n",
       "            <div style=\"display: inline-block;\">\n",
       "                <div class=\"jupyter-widgets widget-label\" style=\"text-align: center;\">\n",
       "                    Figure\n",
       "                </div>\n",
       "                <img src='data:image/png;base64,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' width=1000.0/>\n",
       "            </div>\n",
       "        "
      ],
      "text/plain": [
       "Canvas(toolbar=Toolbar(toolitems=[('Home', 'Reset original view', 'home', 'home'), ('Back', 'Back to previous …"
      ]
     },
     "metadata": {},
     "output_type": "display_data"
    },
    {
     "data": {
      "application/vnd.jupyter.widget-view+json": {
       "model_id": "129f7123aae54059a3863c091d6769a7",
       "version_major": 2,
       "version_minor": 0
      },
      "image/png": "[encoded data removed]",
      "text/html": [
       "\n",
       "            <div style=\"display: inline-block;\">\n",
       "                <div class=\"jupyter-widgets widget-label\" style=\"text-align: center;\">\n",
       "                    Figure\n",
       "                </div>\n",
       "                <img src='data:image/png;base64,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' width=1000.0/>\n",
       "            </div>\n",
       "        "
      ],
      "text/plain": [
       "Canvas(toolbar=Toolbar(toolitems=[('Home', 'Reset original view', 'home', 'home'), ('Back', 'Back to previous …"
      ]
     },
     "metadata": {},
     "output_type": "display_data"
    }
   ],
   "source": [
    "import numpy as np\n",
    "from scipy.stats import poisson, norm\n",
    "from scipy.optimize import curve_fit\n",
    "import matplotlib.pyplot as plt\n",
    "from math import inf\n",
    "\n",
    "# Custom function: exponential with linear and quadratic terms\n",
    "def exp_lin_quad(x, a, b, c, d):\n",
    "    return a * np.exp(-b * x) + c * x + d * x**2\n",
    "\n",
    "# Assuming you have a list or array of masses in MeV\n",
    "masses = filtered_df[filtered_df.isHiggs==0 | (filtered_df.index % 500 == -1)].totalInvariantMass  # Replace with your actual list of masses\n",
    "\n",
    "# Define the fit region (90 GeV to 350 GeV in MeV)\n",
    "fit_lower_bound = 90000  # 90 GeV in MeV\n",
    "fit_upper_bound = 160000  # 350 GeV in MeV\n",
    "\n",
    "# Step 1: Filter data to be within the fit region\n",
    "filtered_masses = [m for m in masses if fit_lower_bound <= m <= fit_upper_bound]\n",
    "\n",
    "# Step 2: Fit an exponential with linear and quadratic terms to the filtered data\n",
    "hist, bin_edges = np.histogram(filtered_masses, bins=1000, range=(fit_lower_bound, fit_upper_bound), density=False)\n",
    "bin_centers = 0.5 * (bin_edges[:-1] + bin_edges[1:])\n",
    "popt, pcov = curve_fit(exp_lin_quad, bin_centers, hist, p0=(1e-5, 1e-5, 1e-12, 1e-18), maxfev=100_000)\n",
    "\n",
    "# Extract fitted parameters\n",
    "a, b, c, d = popt\n",
    "\n",
    "# Step 3: Define the Higgs mass window (100,000 - 150,000 MeV)\n",
    "mass_lower_bound = 120000  # 100 GeV in MeV\n",
    "mass_upper_bound = 130000  # 150 GeV in MeV\n",
    "\n",
    "# Calculate the expected number of background events in the Higgs mass window\n",
    "expected_background_counts = np.sum([exp_lin_quad(x, a, b, c, d) for x in bin_centers if mass_lower_bound <= x <= mass_upper_bound])\n",
    "\n",
    "# 95% confidence interval for the expected background events\n",
    "ci_lower = poisson.ppf(0.025, expected_background_counts)\n",
    "ci_upper = poisson.ppf(0.975, expected_background_counts)\n",
    "\n",
    "# Print the expected background events and the confidence interval\n",
    "print(f\"Expected number of background events in Higgs mass window: {expected_background_counts}\")\n",
    "print(f\"95% Confidence Interval: [{ci_lower}, {ci_upper}]\")\n",
    "\n",
    "# Count the number of observed events in the Higgs mass window\n",
    "observed_higgs_counts = np.sum((np.array(filtered_masses) >= mass_lower_bound) & (np.array(filtered_masses) <= mass_upper_bound))\n",
    "\n",
    "print(f\"Observed number of events in Higgs mass window: {observed_higgs_counts}\")\n",
    "\n",
    "# Step 4: Perform a hypothesis test\n",
    "# Assuming the number of events follows a Poisson distribution\n",
    "p_value = poisson.sf(observed_higgs_counts - 1, expected_background_counts)\n",
    "\n",
    "# Step 5: Calculate the significance (sigma)\n",
    "sigma = norm.isf(p_value)\n",
    "\n",
    "print(f\"P-value: {p_value}\")\n",
    "print(f\"Significance (in sigma): {sigma}\")\n",
    "plt.clf()\n",
    "\n",
    "# Step 6: Plot the histogram with the fitted background model (90,000 to 350,000 MeV)\n",
    "plt.figure(figsize=(10, 6))\n",
    "hist, bin_edges, _ = plt.hist(filtered_masses, bins=1000, density=False, alpha=0.6, label='Observed Data')  # Non-density mode\n",
    "x = np.linspace(fit_lower_bound, fit_upper_bound, 1000)\n",
    "plt.plot(x, exp_lin_quad(x, *popt), 'r-', lw=2, label='Fitted Background (Exp + Lin + Quad)')\n",
    "plt.axvspan(mass_lower_bound, mass_upper_bound, color='yellow', alpha=0.3, label='Higgs Mass Window')\n",
    "plt.xlabel('Invariant Mass (MeV)')\n",
    "plt.ylabel('Counts')\n",
    "plt.title('Background Hypothesis Fit and Higgs Mass Window (90-350 GeV Fit Region)')\n",
    "plt.legend()\n",
    "plt.xlim(fit_lower_bound, fit_upper_bound)\n",
    "plt.show()\n",
    "\n",
    "# Step 7: Calculate the estimated background for each bin and subtract it to get the signal\n",
    "background_estimate = exp_lin_quad(bin_centers, *popt)\n",
    "\n",
    "# Calculate the signal as the difference between observed counts and estimated background\n",
    "signal_estimate = hist - background_estimate\n",
    "\n",
    "# Step 8: Plot the estimated signal\n",
    "plt.figure(figsize=(10, 6))\n",
    "\n",
    "# Plot the signal estimate (data minus background)\n",
    "plt.bar(bin_centers, signal_estimate, width=np.diff(bin_edges), align='center', alpha=0.6, label='Estimated Signal')\n",
    "\n",
    "# Highlight the Higgs mass window\n",
    "plt.axvspan(mass_lower_bound, mass_upper_bound, color='yellow', alpha=0.3, label='Higgs Mass Window')\n",
    "\n",
    "# Labels and title\n",
    "plt.xlabel('Invariant Mass (MeV)')\n",
    "plt.ylabel('Signal (Counts)')\n",
    "plt.title('Estimated Signal after Background Subtraction')\n",
    "\n",
    "# Display legend and plot limits\n",
    "plt.legend()\n",
    "plt.xlim(fit_lower_bound, fit_upper_bound)\n",
    "\n",
    "# Show the plot\n",
    "plt.show()\n",
    "\n"
   ]
  },
  {
   "cell_type": "code",
   "execution_count": 79,
   "metadata": {},
   "outputs": [
    {
     "name": "stdout",
     "output_type": "stream",
     "text": [
      "Expected number of background events in Higgs mass window: 4740.746270312418\n",
      "95% Confidence Interval: [4606.0, 4876.0]\n",
      "Observed number of events in Higgs mass window: 7003\n",
      "P-value: 1.2097721220392227e-206\n",
      "Significance (in sigma): 30.65287492836067\n"
     ]
    },
    {
     "data": {
      "application/vnd.jupyter.widget-view+json": {
       "model_id": "4e993c7f696c4bfd896146ceff64b96e",
       "version_major": 2,
       "version_minor": 0
      },
      "image/png": "[encoded data removed]",
      "text/html": [
       "\n",
       "            <div style=\"display: inline-block;\">\n",
       "                <div class=\"jupyter-widgets widget-label\" style=\"text-align: center;\">\n",
       "                    Figure\n",
       "                </div>\n",
       "                <img src='data:image/png;base64,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' width=1000.0/>\n",
       "            </div>\n",
       "        "
      ],
      "text/plain": [
       "Canvas(toolbar=Toolbar(toolitems=[('Home', 'Reset original view', 'home', 'home'), ('Back', 'Back to previous …"
      ]
     },
     "metadata": {},
     "output_type": "display_data"
    },
    {
     "data": {
      "application/vnd.jupyter.widget-view+json": {
       "model_id": "7178d82190fe46aa801f2092f2114e71",
       "version_major": 2,
       "version_minor": 0
      },
      "image/png": "[encoded data removed]",
      "text/html": [
       "\n",
       "            <div style=\"display: inline-block;\">\n",
       "                <div class=\"jupyter-widgets widget-label\" style=\"text-align: center;\">\n",
       "                    Figure\n",
       "                </div>\n",
       "                <img src='data:image/png;base64,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' width=1000.0/>\n",
       "            </div>\n",
       "        "
      ],
      "text/plain": [
       "Canvas(toolbar=Toolbar(toolitems=[('Home', 'Reset original view', 'home', 'home'), ('Back', 'Back to previous …"
      ]
     },
     "metadata": {},
     "output_type": "display_data"
    }
   ],
   "source": [
    "import numpy as np\n",
    "from scipy.stats import poisson, norm\n",
    "from scipy.optimize import curve_fit\n",
    "import matplotlib.pyplot as plt\n",
    "\n",
    "# Custom function: exponential with linear and quadratic terms\n",
    "def exp_lin_quad(x, a, b, c, d):\n",
    "    return a * np.exp(-b * x) + c * x + d * x**2\n",
    "\n",
    "# Assuming you have a list or array of masses in MeV\n",
    "masses = filtered_df[filtered_df.isHiggs==0 | (filtered_df.index % 500 == 1)].totalInvariantMass  # Replace with your actual list of masses\n",
    "\n",
    "# Define the fit region (90 GeV to 350 GeV in MeV)\n",
    "fit_lower_bound = 110000  # 110 GeV in MeV\n",
    "fit_upper_bound = 350000  # 350 GeV in MeV\n",
    "\n",
    "# Step 1: Filter data to be within the fit region\n",
    "filtered_masses = [m for m in masses if fit_lower_bound <= m <= fit_upper_bound]\n",
    "\n",
    "# Step 2: Filter out bins in the Higgs mass window (120,000 - 130,000 MeV)\n",
    "mass_window_lower = 120000  # 120 GeV in MeV\n",
    "mass_window_upper = 130000  # 130 GeV in MeV\n",
    "\n",
    "# Histogram data excluding the Higgs window\n",
    "hist, bin_edges = np.histogram([m for m in filtered_masses if m < mass_window_lower or m > mass_window_upper], \n",
    "                               bins=1000, range=(fit_lower_bound, fit_upper_bound), density=False)\n",
    "bin_centers = 0.5 * (bin_edges[:-1] + bin_edges[1:])\n",
    "\n",
    "# Step 3: Fit an exponential with linear and quadratic terms to the filtered data\n",
    "popt, pcov = curve_fit(exp_lin_quad, bin_centers, hist, p0=(1e-5, 1e-5, 1e-12, 1e-18))\n",
    "\n",
    "# Extract fitted parameters\n",
    "a, b, c, d = popt\n",
    "\n",
    "# Calculate the expected number of background events in the Higgs mass window (120000 to 130000 MeV)\n",
    "expected_background_counts = np.sum([exp_lin_quad(x, a, b, c, d) for x in bin_centers if mass_window_lower <= x <= mass_window_upper])\n",
    "\n",
    "# 95% confidence interval for the expected background events\n",
    "ci_lower = poisson.ppf(0.025, expected_background_counts)\n",
    "ci_upper = poisson.ppf(0.975, expected_background_counts)\n",
    "\n",
    "# Print the expected background events and the confidence interval\n",
    "print(f\"Expected number of background events in Higgs mass window: {expected_background_counts}\")\n",
    "print(f\"95% Confidence Interval: [{ci_lower}, {ci_upper}]\")\n",
    "\n",
    "# Count the number of observed events in the Higgs mass window\n",
    "observed_higgs_counts = np.sum((np.array(filtered_masses) >= mass_window_lower) & (np.array(filtered_masses) <= mass_window_upper))\n",
    "\n",
    "print(f\"Observed number of events in Higgs mass window: {observed_higgs_counts}\")\n",
    "\n",
    "# Step 4: Perform a hypothesis test\n",
    "p_value = poisson.sf(observed_higgs_counts - 1, expected_background_counts)\n",
    "\n",
    "# Step 5: Calculate the significance (sigma)\n",
    "sigma = norm.isf(p_value)\n",
    "\n",
    "print(f\"P-value: {p_value}\")\n",
    "print(f\"Significance (in sigma): {sigma}\")\n",
    "\n",
    "# Step 6: Plot the histogram with the fitted background model (excluding Higgs mass window)\n",
    "plt.figure(figsize=(10, 6))\n",
    "hist, bin_edges, _ = plt.hist(filtered_masses, bins=1000, density=False, alpha=0.6, label='Observed Data')  # Non-density mode\n",
    "x = np.linspace(fit_lower_bound, fit_upper_bound, 1000)\n",
    "plt.plot(x, exp_lin_quad(x, *popt), 'r-', lw=2, label='Fitted Background (Exp + Lin + Quad)')\n",
    "plt.axvspan(mass_window_lower, mass_window_upper, color='yellow', alpha=0.3, label='Higgs Mass Window')\n",
    "plt.xlabel('Invariant Mass (MeV)')\n",
    "plt.ylabel('Counts')\n",
    "plt.title('Background Hypothesis Fit and Higgs Mass Window (110-350 GeV Fit Region)')\n",
    "plt.legend()\n",
    "plt.xlim(fit_lower_bound, fit_upper_bound)\n",
    "plt.show()\n",
    "\n",
    "# Step 7: Calculate the estimated background for each bin and subtract it to get the signal\n",
    "background_estimate = exp_lin_quad(bin_centers, *popt)\n",
    "\n",
    "# Calculate the signal as the difference between observed counts and estimated background\n",
    "signal_estimate = hist - background_estimate\n",
    "\n",
    "# Step 8: Plot the estimated signal\n",
    "plt.figure(figsize=(10, 6))\n",
    "plt.bar(bin_centers, signal_estimate, width=np.diff(bin_edges), align='center', alpha=0.6, label='Estimated Signal')\n",
    "plt.axvspan(mass_window_lower, mass_window_upper, color='yellow', alpha=0.3, label='Higgs Mass Window')\n",
    "plt.xlabel('Invariant Mass (MeV)')\n",
    "plt.ylabel('Signal (Counts)')\n",
    "plt.title('Estimated Signal after Background Subtraction')\n",
    "plt.legend()\n",
    "plt.xlim(fit_lower_bound, fit_upper_bound)\n",
    "plt.show()\n"
   ]
  },
  {
   "cell_type": "code",
   "execution_count": null,
   "metadata": {},
   "outputs": [],
   "source": []
  }
 ],
 "metadata": {
  "kernelspec": {
   "display_name": "Python 3",
   "language": "python",
   "name": "python3"
  },
  "language_info": {
   "codemirror_mode": {
    "name": "ipython",
    "version": 3
   },
   "file_extension": ".py",
   "mimetype": "text/x-python",
   "name": "python",
   "nbconvert_exporter": "python",
   "pygments_lexer": "ipython3",
   "version": "3.12.5"
  }
 },
 "nbformat": 4,
 "nbformat_minor": 2
}
